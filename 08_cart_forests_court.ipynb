{
 "cells": [
  {
   "cell_type": "markdown",
   "metadata": {},
   "source": [
    "## Classification and Regression Trees"
   ]
  },
  {
   "cell_type": "markdown",
   "metadata": {
    "collapsed": true
   },
   "source": [
    "- CART model did better than law experts in predicting whether the upper house will pass bills from the lower house\n",
    "- Q: Is it possible to predict whether the upper house will affirm or reverse the lower house's decisions\n",
    "- An intuitive idea will be to use a long list of predictor variables, such as:\n",
    "    - Circuit of origin\n",
    "    - Issue area of case\n",
    "    - Petition type\n",
    "    - Respondent type\n",
    "    - Ideological direction of lower house\n",
    "\n",
    "\n",
    "- How regression trees work:\n",
    "    - cut such that y-values are as homogeneous as possible within the same convex hull (as small of a variance as possible)\n",
    "    - similar to BSP trees??\n",
    "\n",
    "\n",
    "- Model prediction function:\n",
    "    - $f(x) = \\sum_{x=1}^{m}\\bar{y}_m1_{x\\in R_m}$\n",
    "    \n",
    "\n",
    "- How do we decide on the number of splits:\n",
    "    - implement a stopping threshold such that each subregion should have at least 5 observations\n",
    "\n",
    "\n",
    "- How do we decide on the position of the split:\n",
    "    - *greedy approach*: find split across each variable (dimension) such that it minimises least-square error for each split\n",
    "    - *SVM*: ???"
   ]
  },
  {
   "cell_type": "code",
   "execution_count": 80,
   "metadata": {},
   "outputs": [
    {
     "data": {
      "text/html": [
       "<table>\n",
       "<thead><tr><th scope=col>docket</th><th scope=col>term</th><th scope=col>party_1</th><th scope=col>party_2</th><th scope=col>rehndir</th><th scope=col>stevdir</th><th scope=col>ocondir</th><th scope=col>scaldir</th><th scope=col>kendir</th><th scope=col>soutdir</th><th scope=col>thomdir</th><th scope=col>gindir</th><th scope=col>brydir</th><th scope=col>petit</th><th scope=col>respon</th><th scope=col>circuit</th><th scope=col>unconst</th><th scope=col>lctdir</th><th scope=col>issue</th><th scope=col>result</th></tr></thead>\n",
       "<tbody>\n",
       "\t<tr><td>92-2038 </td><td>1994    </td><td>FOOD    </td><td>FARMER  </td><td>1       </td><td>0       </td><td>1       </td><td>1       </td><td>1       </td><td>1       </td><td>1       </td><td>1       </td><td>1       </td><td>BUSINESS</td><td>BUSINESS</td><td>FED     </td><td>0       </td><td>liberal </td><td>ECN     </td><td>1       </td></tr>\n",
       "\t<tr><td>93-1001 </td><td>1994    </td><td>FRANCHIS</td><td>O       </td><td>0       </td><td>0       </td><td>0       </td><td>1       </td><td>0       </td><td>0       </td><td>1       </td><td>0       </td><td>0       </td><td>OTHER   </td><td>OTHER   </td><td>11th    </td><td>0       </td><td>conser  </td><td>ECN     </td><td>0       </td></tr>\n",
       "\t<tr><td>93-1128 </td><td>1994    </td><td>VTAD    </td><td>VETERAN </td><td>0       </td><td>0       </td><td>0       </td><td>0       </td><td>0       </td><td>0       </td><td>0       </td><td>0       </td><td>0       </td><td>OTHER   </td><td>OTHER   </td><td>FED     </td><td>0       </td><td>liberal </td><td>CR      </td><td>0       </td></tr>\n",
       "\t<tr><td>93-1151 </td><td>1994    </td><td>FEC     </td><td>PAC     </td><td>1       </td><td>0       </td><td>1       </td><td>1       </td><td>1       </td><td>1       </td><td>1       </td><td>9       </td><td>1       </td><td>OTHER   </td><td>OTHER   </td><td>DC      </td><td>0       </td><td>conser  </td><td>JUD     </td><td>1       </td></tr>\n",
       "\t<tr><td>93-1170 </td><td>1994    </td><td>US      </td><td>UNION   </td><td>1       </td><td>0       </td><td>0       </td><td>1       </td><td>0       </td><td>0       </td><td>1       </td><td>0       </td><td>0       </td><td>US      </td><td>OTHER   </td><td>DC      </td><td>0       </td><td>liberal </td><td>FA      </td><td>0       </td></tr>\n",
       "\t<tr><td>93-1197 </td><td>1994    </td><td>IC GOEE </td><td>IC      </td><td>1       </td><td>0       </td><td>1       </td><td>1       </td><td>0       </td><td>0       </td><td>1       </td><td>0       </td><td>0       </td><td>EE      </td><td>OTHER   </td><td>3rd     </td><td>0       </td><td>conser  </td><td>ECN     </td><td>0       </td></tr>\n",
       "</tbody>\n",
       "</table>\n"
      ],
      "text/latex": [
       "\\begin{tabular}{r|llllllllllllllllllll}\n",
       " docket & term & party\\_1 & party\\_2 & rehndir & stevdir & ocondir & scaldir & kendir & soutdir & thomdir & gindir & brydir & petit & respon & circuit & unconst & lctdir & issue & result\\\\\n",
       "\\hline\n",
       "\t 92-2038  & 1994     & FOOD     & FARMER   & 1        & 0        & 1        & 1        & 1        & 1        & 1        & 1        & 1        & BUSINESS & BUSINESS & FED      & 0        & liberal  & ECN      & 1       \\\\\n",
       "\t 93-1001  & 1994     & FRANCHIS & O        & 0        & 0        & 0        & 1        & 0        & 0        & 1        & 0        & 0        & OTHER    & OTHER    & 11th     & 0        & conser   & ECN      & 0       \\\\\n",
       "\t 93-1128  & 1994     & VTAD     & VETERAN  & 0        & 0        & 0        & 0        & 0        & 0        & 0        & 0        & 0        & OTHER    & OTHER    & FED      & 0        & liberal  & CR       & 0       \\\\\n",
       "\t 93-1151  & 1994     & FEC      & PAC      & 1        & 0        & 1        & 1        & 1        & 1        & 1        & 9        & 1        & OTHER    & OTHER    & DC       & 0        & conser   & JUD      & 1       \\\\\n",
       "\t 93-1170  & 1994     & US       & UNION    & 1        & 0        & 0        & 1        & 0        & 0        & 1        & 0        & 0        & US       & OTHER    & DC       & 0        & liberal  & FA       & 0       \\\\\n",
       "\t 93-1197  & 1994     & IC GOEE  & IC       & 1        & 0        & 1        & 1        & 0        & 0        & 1        & 0        & 0        & EE       & OTHER    & 3rd      & 0        & conser   & ECN      & 0       \\\\\n",
       "\\end{tabular}\n"
      ],
      "text/markdown": [
       "\n",
       "docket | term | party_1 | party_2 | rehndir | stevdir | ocondir | scaldir | kendir | soutdir | thomdir | gindir | brydir | petit | respon | circuit | unconst | lctdir | issue | result | \n",
       "|---|---|---|---|---|---|\n",
       "| 92-2038  | 1994     | FOOD     | FARMER   | 1        | 0        | 1        | 1        | 1        | 1        | 1        | 1        | 1        | BUSINESS | BUSINESS | FED      | 0        | liberal  | ECN      | 1        | \n",
       "| 93-1001  | 1994     | FRANCHIS | O        | 0        | 0        | 0        | 1        | 0        | 0        | 1        | 0        | 0        | OTHER    | OTHER    | 11th     | 0        | conser   | ECN      | 0        | \n",
       "| 93-1128  | 1994     | VTAD     | VETERAN  | 0        | 0        | 0        | 0        | 0        | 0        | 0        | 0        | 0        | OTHER    | OTHER    | FED      | 0        | liberal  | CR       | 0        | \n",
       "| 93-1151  | 1994     | FEC      | PAC      | 1        | 0        | 1        | 1        | 1        | 1        | 1        | 9        | 1        | OTHER    | OTHER    | DC       | 0        | conser   | JUD      | 1        | \n",
       "| 93-1170  | 1994     | US       | UNION    | 1        | 0        | 0        | 1        | 0        | 0        | 1        | 0        | 0        | US       | OTHER    | DC       | 0        | liberal  | FA       | 0        | \n",
       "| 93-1197  | 1994     | IC GOEE  | IC       | 1        | 0        | 1        | 1        | 0        | 0        | 1        | 0        | 0        | EE       | OTHER    | 3rd      | 0        | conser   | ECN      | 0        | \n",
       "\n",
       "\n"
      ],
      "text/plain": [
       "  docket  term party_1  party_2 rehndir stevdir ocondir scaldir kendir soutdir\n",
       "1 92-2038 1994 FOOD     FARMER  1       0       1       1       1      1      \n",
       "2 93-1001 1994 FRANCHIS O       0       0       0       1       0      0      \n",
       "3 93-1128 1994 VTAD     VETERAN 0       0       0       0       0      0      \n",
       "4 93-1151 1994 FEC      PAC     1       0       1       1       1      1      \n",
       "5 93-1170 1994 US       UNION   1       0       0       1       0      0      \n",
       "6 93-1197 1994 IC GOEE  IC      1       0       1       1       0      0      \n",
       "  thomdir gindir brydir petit    respon   circuit unconst lctdir  issue result\n",
       "1 1       1      1      BUSINESS BUSINESS FED     0       liberal ECN   1     \n",
       "2 1       0      0      OTHER    OTHER    11th    0       conser  ECN   0     \n",
       "3 0       0      0      OTHER    OTHER    FED     0       liberal CR    0     \n",
       "4 1       9      1      OTHER    OTHER    DC      0       conser  JUD   1     \n",
       "5 1       0      0      US       OTHER    DC      0       liberal FA    0     \n",
       "6 1       0      0      EE       OTHER    3rd     0       conser  ECN   0     "
      ]
     },
     "metadata": {},
     "output_type": "display_data"
    },
    {
     "name": "stdout",
     "output_type": "stream",
     "text": [
      "'data.frame':\t623 obs. of  20 variables:\n",
      " $ docket : Factor w/ 623 levels \"\",\"00-1011\",\"00-1021\",..: 100 101 102 103 104 105 106 107 108 109 ...\n",
      " $ term   : int  1994 1994 1994 1994 1994 1994 1994 1994 1994 1994 ...\n",
      " $ party_1: Factor w/ 216 levels \"0\",\"AC\",\"AG\",..: 75 78 206 67 200 90 10 84 200 5 ...\n",
      " $ party_2: Factor w/ 206 levels \"AC\",\"AIRLINE\",..: 55 136 199 149 192 85 93 82 181 39 ...\n",
      " $ rehndir: int  1 0 0 1 1 1 1 1 1 0 ...\n",
      " $ stevdir: int  0 0 0 0 0 0 1 1 0 1 ...\n",
      " $ ocondir: int  1 0 0 1 0 1 0 0 1 1 ...\n",
      " $ scaldir: int  1 1 0 1 1 1 1 0 1 9 ...\n",
      " $ kendir : int  1 0 0 1 0 0 1 1 1 0 ...\n",
      " $ soutdir: int  1 0 0 1 0 0 0 0 0 0 ...\n",
      " $ thomdir: int  1 1 0 1 1 1 1 0 1 1 ...\n",
      " $ gindir : int  1 0 0 9 0 0 1 1 0 0 ...\n",
      " $ brydir : int  1 0 0 1 0 0 0 1 0 0 ...\n",
      " $ petit  : Factor w/ 12 levels \"BUSINESS\",\"CITY\",..: 1 9 9 9 12 4 9 9 12 1 ...\n",
      " $ respon : Factor w/ 12 levels \"BUSINESS\",\"CITY\",..: 1 9 9 9 9 9 9 1 9 9 ...\n",
      " $ circuit: Factor w/ 13 levels \"10th\",\"11th\",..: 13 2 13 12 12 5 8 8 7 9 ...\n",
      " $ unconst: int  0 0 0 0 0 0 0 0 0 0 ...\n",
      " $ lctdir : Factor w/ 2 levels \"conser\",\"liberal\": 2 1 2 1 2 1 1 2 1 1 ...\n",
      " $ issue  : Factor w/ 12 levels \"AT\",\"CP\",\"CR\",..: 5 5 3 9 6 5 3 9 7 5 ...\n",
      " $ result : int  1 0 0 1 0 0 1 1 1 0 ...\n"
     ]
    }
   ],
   "source": [
    "# reading the data\n",
    "supreme <- read.csv(\"csv/supreme.csv\")\n",
    "head(supreme)\n",
    "\n",
    "str(supreme)"
   ]
  },
  {
   "cell_type": "markdown",
   "metadata": {},
   "source": [
    "In the `supreme` dataset above, there are multiple judges that rule on each decision. For the purposes of our analysis, let us take a look at only Judge Stevens' decision. We want to predict where Stevens will choose to repeal and uphold a bill given the other predictor variables. Call this subset `stevens`."
   ]
  },
  {
   "cell_type": "code",
   "execution_count": 82,
   "metadata": {
    "collapsed": true
   },
   "outputs": [],
   "source": [
    "# supreme$stevdir == 9 means Judge Stevens is not present\n",
    "stevens <- subset(supreme[,c(\"docket\", \"term\",\n",
    "                             \"stevdir\", \"petit\", \"respon\",\n",
    "                             \"circuit\", \"unconst\", \"lctdir\",\n",
    "                             \"issue\", \"result\")],\n",
    "                          supreme$stevdir != 9)\n",
    "\n",
    "# we want to find out if Stevens' decision are in line with the leaning of the lower court.\n",
    "stevens$rev <- as.integer((stevens$lctdir==\"conser\" & stevens$stevdir==0)|\n",
    "                          (stevens$lctdir==\"liberal\" & stevens$stevdir==1))"
   ]
  },
  {
   "cell_type": "code",
   "execution_count": 14,
   "metadata": {
    "collapsed": true
   },
   "outputs": [],
   "source": [
    "library(caTools)\n",
    "set.seed(1)\n",
    "spl <- sample.split(stevens$rev, SplitRatio=0.7)\n",
    "train <- subset(stevens, spl==T)\n",
    "test <- subset(stevens, spl==F)"
   ]
  },
  {
   "cell_type": "code",
   "execution_count": 17,
   "metadata": {
    "collapsed": true
   },
   "outputs": [],
   "source": [
    "M1 <- glm(rev~petit+respon+circuit+unconst+lctdir+issue, data=train, family=binomial)\n",
    "\n",
    "test <- subset(test, test$issue != \"IR\")\n",
    "\n",
    "P1 <- predict(M1, newdata=test, type=\"response\")"
   ]
  },
  {
   "cell_type": "code",
   "execution_count": 27,
   "metadata": {
    "scrolled": false
   },
   "outputs": [
    {
     "data": {
      "text/plain": [
       "n= 434 \n",
       "\n",
       "node), split, n, loss, yval, (yprob)\n",
       "      * denotes terminal node\n",
       "\n",
       "  1) root 434 195 1 (0.44930876 0.55069124)  \n",
       "    2) lctdir=liberal 205  82 0 (0.60000000 0.40000000)  \n",
       "      4) circuit=10th,11th,1st,3rd,4th,5th,6th,7th,8th,DC 109  31 0 (0.71559633 0.28440367)  \n",
       "        8) respon=DEF,ER,IP,POL,STATE 36   3 0 (0.91666667 0.08333333) *\n",
       "        9) respon=BUSINESS,EE,INDIAN,OF,OTHER,US 73  28 0 (0.61643836 0.38356164)  \n",
       "         18) petit=ER,IP,OF,POL 19   2 0 (0.89473684 0.10526316) *\n",
       "         19) petit=BUSINESS,CITY,OTHER,STATE,US 54  26 0 (0.51851852 0.48148148)  \n",
       "           38) issue=CP,FA 16   4 0 (0.75000000 0.25000000) *\n",
       "           39) issue=CR,DP,ECN,FED,JUD,PRIV,UN 38  16 1 (0.42105263 0.57894737)  \n",
       "             78) circuit=10th,3rd,4th,5th,8th 25  12 0 (0.52000000 0.48000000)  \n",
       "              156) respon=BUSINESS,OTHER 18   7 0 (0.61111111 0.38888889) *\n",
       "              157) respon=EE,INDIAN,OF 7   2 1 (0.28571429 0.71428571) *\n",
       "             79) circuit=11th,6th,7th 13   3 1 (0.23076923 0.76923077) *\n",
       "      5) circuit=2nd,9th,FED 96  45 1 (0.46875000 0.53125000)  \n",
       "       10) respon=EE,IP,OF,STATE,US 14   3 0 (0.78571429 0.21428571) *\n",
       "       11) respon=BUSINESS,DEF,INDIAN,OTHER 82  34 1 (0.41463415 0.58536585)  \n",
       "         22) issue=CP,FA,JUD 36  16 0 (0.55555556 0.44444444)  \n",
       "           44) petit=BUSINESS,CITY,OF,OTHER,STATE 25   8 0 (0.68000000 0.32000000) *\n",
       "           45) petit=US 11   3 1 (0.27272727 0.72727273) *\n",
       "         23) issue=CR,DP,ECN,FED,PRIV,TAX 46  14 1 (0.30434783 0.69565217)  \n",
       "           46) circuit=FED 8   3 0 (0.62500000 0.37500000) *\n",
       "           47) circuit=2nd,9th 38   9 1 (0.23684211 0.76315789) *\n",
       "    3) lctdir=conser 229  72 1 (0.31441048 0.68558952)  \n",
       "      6) respon=BUSINESS,CITY,DEF,EE,IP,OF,OTHER,US 169  67 1 (0.39644970 0.60355030)  \n",
       "       12) circuit=10th,11th,1st,3rd,7th,8th,9th,DC,FED 110  54 0 (0.50909091 0.49090909)  \n",
       "         24) issue=DP,FA,TAX 17   3 0 (0.82352941 0.17647059) *\n",
       "         25) issue=AT,CP,CR,ECN,FED,JUD,PRIV,UN 93  42 1 (0.45161290 0.54838710)  \n",
       "           50) petit=INDIAN,IP,OF,STATE,US 13   3 0 (0.76923077 0.23076923) *\n",
       "           51) petit=BUSINESS,CITY,DEF,EE,ER,OTHER,POL 80  32 1 (0.40000000 0.60000000)  \n",
       "            102) issue=CP,FED,PRIV,UN 30  14 0 (0.53333333 0.46666667)  \n",
       "              204) circuit=3rd,7th,9th 15   5 0 (0.66666667 0.33333333) *\n",
       "              205) circuit=10th,11th,1st,8th,DC 15   6 1 (0.40000000 0.60000000) *\n",
       "            103) issue=AT,CR,ECN,JUD 50  16 1 (0.32000000 0.68000000) *\n",
       "       13) circuit=2nd,4th,5th,6th 59  11 1 (0.18644068 0.81355932) *\n",
       "      7) respon=ER,INDIAN,POL,STATE 60   5 1 (0.08333333 0.91666667) *"
      ]
     },
     "metadata": {},
     "output_type": "display_data"
    }
   ],
   "source": [
    "library(rpart)\n",
    "library(rpart.plot)\n",
    "\n",
    "cart1 <- rpart(rev~petit+respon+circuit+unconst+lctdir+issue, data=train, method=\"class\")\n",
    "# OR alternatively\n",
    "cart1 <- rpart(as.factor(rev)~petit+respon+circuit+unconst+lctdir+issue, data=train)\n",
    "cart1"
   ]
  },
  {
   "cell_type": "code",
   "execution_count": 47,
   "metadata": {
    "scrolled": false
   },
   "outputs": [
    {
     "data": {
      "image/png": "[encoded data removed]",
      "text/plain": [
       "plot without title"
      ]
     },
     "metadata": {},
     "output_type": "display_data"
    }
   ],
   "source": [
    "options(repr.plot.width=9, repr.plot.height=7) # resize IRkernel plot size\n",
    "prp(cart1, extra=4, type=4, branch=0)\n",
    "# ?prp\n",
    "# summary(cart1)"
   ]
  },
  {
   "cell_type": "code",
   "execution_count": 52,
   "metadata": {
    "collapsed": true
   },
   "outputs": [],
   "source": [
    "?prp"
   ]
  },
  {
   "cell_type": "markdown",
   "metadata": {},
   "source": [
    "To decide how we wish to split the nodes, we can use the following two indexes:\n",
    "\n",
    "- **Gini index**: $\\sum_{k=1}^{k}p_{mk}(1-p_{mk})$\n",
    "- **Entropy**: $-\\sum_{k=1}^{k}p_{mk}\\:log(p_{mk})$\n",
    "- **Classification error rate**: $1-max_k\\:p_{mk}$\n",
    "\n",
    "Choose predictor varible $x_i$ and threshold $t_j$ so as to minimise:\n",
    "\n",
    "$$\\large N_L\\cdot Impurity(A_L) + N_R\\cdot Impurity(A_R)$$\n",
    "\n",
    "e.g. $15[1-(2/3)^2-(1/3)^2] + 10[1-()^2-()^2]$ (using Gini index metric)"
   ]
  },
  {
   "cell_type": "code",
   "execution_count": 56,
   "metadata": {},
   "outputs": [
    {
     "data": {
      "text/plain": [
       "            \n",
       "predictcart1  0  1\n",
       "           0 54 33\n",
       "           1 28 69"
      ]
     },
     "metadata": {},
     "output_type": "display_data"
    }
   ],
   "source": [
    "predictcart1 <- predict(cart1, newdata=test, type=\"class\")\n",
    "table(predictcart1, test$rev)"
   ]
  },
  {
   "cell_type": "markdown",
   "metadata": {},
   "source": [
    "Accuracy of CART is 0.6684, very close to the logistic regression."
   ]
  },
  {
   "cell_type": "code",
   "execution_count": 58,
   "metadata": {},
   "outputs": [
    {
     "data": {
      "text/plain": [
       "\n",
       "  0   1 \n",
       "195 239 "
      ]
     },
     "metadata": {},
     "output_type": "display_data"
    }
   ],
   "source": [
    "table(train$rev) # baseline model"
   ]
  },
  {
   "cell_type": "code",
   "execution_count": 61,
   "metadata": {},
   "outputs": [
    {
     "name": "stdout",
     "output_type": "stream",
     "text": [
      "\n",
      "Classification tree:\n",
      "rpart(formula = as.factor(rev) ~ petit + respon + circuit + unconst + \n",
      "    lctdir + issue, data = train)\n",
      "\n",
      "Variables actually used in tree construction:\n",
      "[1] circuit issue   lctdir  petit   respon \n",
      "\n",
      "Root node error: 195/434 = 0.44931\n",
      "\n",
      "n= 434 \n",
      "\n",
      "        CP nsplit rel error  xerror     xstd\n",
      "1 0.210256      0   1.00000 1.00000 0.053142\n",
      "2 0.035897      1   0.78974 0.78974 0.051116\n",
      "3 0.023077      3   0.71795 0.85128 0.051921\n",
      "4 0.018803      5   0.67179 0.88718 0.052307\n",
      "5 0.012821      9   0.57949 0.86667 0.052094\n",
      "6 0.010256     11   0.55385 0.87179 0.052149\n",
      "7 0.010000     17   0.49231 0.86667 0.052094\n"
     ]
    }
   ],
   "source": [
    "printcp(cart1)"
   ]
  },
  {
   "cell_type": "markdown",
   "metadata": {},
   "source": [
    "Here, we can see that this tree has the lowest xstd error at tree depth 2.\n",
    "\n",
    "$$\\large min_{\\:T\\subseteq T_0}\\:\\:\\:\\:\\sum_{m=1}^{|T|} \\sum_{i\\in R_m} (Y_i - \\hat{Y}_{Rm})^2 + \\alpha|T|$$"
   ]
  },
  {
   "cell_type": "markdown",
   "metadata": {},
   "source": [
    "**Complexity parameter**: $0<\\alpha<1$ (similar to regularisation function) $\\alpha=0$ is the original full tree.\n",
    "\n",
    "The lower the alpha, the greater the importance of the complexity of the model, which will do a great job in fitting training value ($MSE_{train}$ is low), but will end up with poor generality to test data. The higher the alpha, the more importance given to generalisability, giving $MSE_{train}$ low and high $MSE_{test}$\n",
    "\n",
    "So how we select the optimal $\\alpha$ to minimise xerror+xstd? For any value of $\\alpha$, find the subtree $T\\subseteq T_0$ of the original tree $T_0$ such that the above equation holds. This we will do by restricting the depth"
   ]
  },
  {
   "cell_type": "code",
   "execution_count": 68,
   "metadata": {
    "scrolled": false
   },
   "outputs": [
    {
     "data": {
      "image/png": "[encoded data removed]",
      "text/plain": [
       "plot without title"
      ]
     },
     "metadata": {},
     "output_type": "display_data"
    }
   ],
   "source": [
    "options(repr.plot.width=9, repr.plot.height=4) # resize IRkernel plot size\n",
    "cart2 <- prune(cart1, cp=0.036)\n",
    "prp(cart2)"
   ]
  },
  {
   "cell_type": "code",
   "execution_count": 67,
   "metadata": {},
   "outputs": [
    {
     "data": {
      "text/plain": [
       "   predictcart2\n",
       "     0  1\n",
       "  0 63 19\n",
       "  1 34 68"
      ]
     },
     "metadata": {},
     "output_type": "display_data"
    }
   ],
   "source": [
    "predictcart2 <- predict(cart2, newdata=test, type=\"class\")\n",
    "table(test$rev, predictcart2)"
   ]
  },
  {
   "cell_type": "markdown",
   "metadata": {},
   "source": [
    "### Random forests\n",
    "\n",
    "Random forests rely upon bootstrapping upon smaller subsets of the original dataset (this may produce too similar trees with high correlations if only a few features are strong predictors), and also by having randomly chosen subsets of input variables for each tree."
   ]
  },
  {
   "cell_type": "code",
   "execution_count": 72,
   "metadata": {
    "collapsed": true
   },
   "outputs": [],
   "source": [
    "library(randomForest)\n",
    "set.seed(100)\n",
    "forest <- randomForest(as.factor(rev)~petit+respon+circuit+unconst+lctdir+issue, data=train, nodesize=5, ntree=200)\n",
    "predictforest <- predict(forest, newdata=test, type=\"class\")"
   ]
  },
  {
   "cell_type": "code",
   "execution_count": 79,
   "metadata": {
    "scrolled": false
   },
   "outputs": [
    {
     "data": {
      "text/plain": [
       "             \n",
       "predictforest  0  1\n",
       "            0 45 20\n",
       "            1 37 82"
      ]
     },
     "metadata": {},
     "output_type": "display_data"
    },
    {
     "data": {
      "text/plain": [
       "   predictcart2\n",
       "     0  1\n",
       "  0 63 19\n",
       "  1 34 68"
      ]
     },
     "metadata": {},
     "output_type": "display_data"
    }
   ],
   "source": [
    "table(predictforest, test$rev)\n",
    "# accuracy = 0.71 (we can see that adding more complexity may not necessarily be better than other models)\n",
    "\n",
    "# original model\n",
    "table(test$rev, predictcart2)\n",
    "?printcp"
   ]
  },
  {
   "cell_type": "markdown",
   "metadata": {},
   "source": [
    "Boosting tree methods approximate the error terms instead, and builds new trees to minimise the error terms found inside. "
   ]
  }
 ],
 "metadata": {
  "kernelspec": {
   "display_name": "R",
   "language": "R",
   "name": "ir"
  },
  "language_info": {
   "codemirror_mode": "r",
   "file_extension": ".r",
   "mimetype": "text/x-r-source",
   "name": "R",
   "pygments_lexer": "r",
   "version": "3.4.0"
  }
 },
 "nbformat": 4,
 "nbformat_minor": 2
}
