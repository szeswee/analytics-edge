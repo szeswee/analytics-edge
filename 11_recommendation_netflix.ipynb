{
 "cells": [
  {
   "cell_type": "markdown",
   "metadata": {},
   "source": [
    "## Recommendation systems (Netflix Prize)\n",
    "\n",
    "Goal is to accurately predict a user's preferred movies based on user-submitted ratings on how much they enjoyed other movies (note that not all movies are rated by the user)\n",
    "\n",
    "Peformance is measured based on root-mean-square error (RMSE).\n",
    "- baseline random model based on averages of all user ratings had an RMSE of 1.0540 on the quiz set\n",
    "- Netflix's Cinematch had an RMSE of 0.9525 on the quiz set\n",
    "\n",
    "To win the $1 million prize, the winning team will have to achieve 0.8572 RMSE on the quiz set or lower. The most successful teams made use of ensemble methods to achieve their targets, including techniques such as collaborative filtering, matrix factorisation regression models, LASSO.\n",
    "\n",
    "In today's class, we will look at clustering approaches."
   ]
  },
  {
   "cell_type": "markdown",
   "metadata": {},
   "source": [
    "### Clustering (K-means)"
   ]
  },
  {
   "cell_type": "markdown",
   "metadata": {},
   "source": [
    "There might not be a huge database of ratings associated with a new movie rating service. So, in order to \"initialise\" the service, it might forgo user ratings initially and use the attributes associated with the given movie (item) to find the clusters.\n",
    "\n",
    "Given $n$ observations partition it into $k$ clusters $c_1, ... , c_k$ so as to minimise the cluster sum of squares (linear partition of space into Voronoi cells):\n",
    "$$ \\large min_{c_i,\\:\\mu_i} \\sum_{k=1}^{K} \\sum_{i\\in C_k}^{} ||\\:\\bar{x}_i - \\bar{\\mu}_k\\:||^{\\:2}$$\n",
    "\n",
    "To get the locally optimal partitioning, Lloyd's algorithm is used:"
   ]
  },
  {
   "cell_type": "markdown",
   "metadata": {},
   "source": [
    "### Clustering (Hierarchial)"
   ]
  },
  {
   "cell_type": "markdown",
   "metadata": {},
   "source": [
    "This method does not require $K$ to be prescriptive and provides a tree-boxed representation of the observations (called a dendogram). In order to decide which clusters should be combined (for agglomerative), or where a cluster should be split (for divisive; *not covered here*), a measure of dissimilarity between sets of observations is required. In most methods of hierarchical clustering, this is achieved by: **a)** the use of an appropriate objective metric (**e.g., minimising the Euclidean distance between pairs of observations**), **b)** a linkage criterion which specifies the dissimilarity of sets as a function of the pairwise distances of observations between sets.\n",
    "\n",
    "Possible linkage criteria include:\n",
    "- The sum of all intra-cluster variance\n",
    "- The decrease in variance for the cluster being merged (Ward's criterion)\n",
    "- The probability that candidate clusters spawn from the same distribution function (V-linkage)\n",
    "- The product of in-degree and out-degree on a k-nearest-neighbour graph (graph degree linkage)\n",
    "- The increment of some cluster descriptor (i.e., a quantity defined for measuring the quality of a cluster) after merging two clusters"
   ]
  },
  {
   "cell_type": "markdown",
   "metadata": {},
   "source": [
    "### Preprocessing on `MovieLens` dataset"
   ]
  },
  {
   "cell_type": "code",
   "execution_count": 1,
   "metadata": {
    "scrolled": false
   },
   "outputs": [
    {
     "name": "stdout",
     "output_type": "stream",
     "text": [
      "'data.frame':\t8569 obs. of  2 variables:\n",
      " $ movieId: int  1 2 3 4 5 6 7 8 9 10 ...\n",
      " $ title  : chr  \"Toy Story (1995)\" \"Jumanji (1995)\" \"Grumpier Old Men (1995)\" \"Waiting to Exhale (1995)\" ...\n"
     ]
    },
    {
     "data": {
      "text/html": [
       "5"
      ],
      "text/latex": [
       "5"
      ],
      "text/markdown": [
       "5"
      ],
      "text/plain": [
       "[1] 5"
      ]
     },
     "metadata": {},
     "output_type": "display_data"
    },
    {
     "data": {
      "text/html": [
       "7"
      ],
      "text/latex": [
       "7"
      ],
      "text/markdown": [
       "7"
      ],
      "text/plain": [
       "[1] 7"
      ]
     },
     "metadata": {},
     "output_type": "display_data"
    },
    {
     "name": "stdout",
     "output_type": "stream",
     "text": [
      "'data.frame':\t8569 obs. of  7 variables:\n",
      " $ x1: Factor w/ 18 levels \"Action\",\"Adventure\",..: 2 2 5 5 5 1 5 2 1 1 ...\n",
      " $ x2: Factor w/ 19 levels \"\",\"Adventure\",..: 3 4 15 8 1 6 15 4 1 2 ...\n",
      " $ x3: Factor w/ 18 levels \"\",\"Animation\",..: 3 8 1 14 1 16 1 1 1 16 ...\n",
      " $ x4: Factor w/ 16 levels \"\",\"Children\",..: 3 1 1 1 1 1 1 1 1 1 ...\n",
      " $ x5: Factor w/ 14 levels \"\",\"Comedy\",\"Crime\",..: 5 1 1 1 1 1 1 1 1 1 ...\n",
      " $ x6: Factor w/ 10 levels \"\",\"Fantasy\",\"IMAX\",..: 1 1 1 1 1 1 1 1 1 1 ...\n",
      " $ x7: Factor w/ 6 levels \"\",\"IMAX\",\"Mystery\",..: 1 1 1 1 1 1 1 1 1 1 ...\n"
     ]
    },
    {
     "data": {
      "text/html": [
       "<table>\n",
       "<thead><tr><th scope=col>x1</th><th scope=col>x2</th><th scope=col>x3</th><th scope=col>x4</th><th scope=col>x5</th><th scope=col>x6</th><th scope=col>x7</th></tr></thead>\n",
       "<tbody>\n",
       "\t<tr><td>Adventure</td><td>Animation</td><td>Children </td><td>Comedy   </td><td>Fantasy  </td><td>         </td><td>         </td></tr>\n",
       "\t<tr><td>Adventure</td><td>Children </td><td>Fantasy  </td><td>         </td><td>         </td><td>         </td><td>         </td></tr>\n",
       "\t<tr><td>Comedy   </td><td>Romance  </td><td>         </td><td>         </td><td>         </td><td>         </td><td>         </td></tr>\n",
       "\t<tr><td>Comedy   </td><td>Drama    </td><td>Romance  </td><td>         </td><td>         </td><td>         </td><td>         </td></tr>\n",
       "\t<tr><td>Comedy   </td><td>         </td><td>         </td><td>         </td><td>         </td><td>         </td><td>         </td></tr>\n",
       "\t<tr><td>Action   </td><td>Crime    </td><td>Thriller </td><td>         </td><td>         </td><td>         </td><td>         </td></tr>\n",
       "</tbody>\n",
       "</table>\n"
      ],
      "text/latex": [
       "\\begin{tabular}{r|lllllll}\n",
       " x1 & x2 & x3 & x4 & x5 & x6 & x7\\\\\n",
       "\\hline\n",
       "\t Adventure & Animation & Children  & Comedy    & Fantasy   &           &          \\\\\n",
       "\t Adventure & Children  & Fantasy   &           &           &           &          \\\\\n",
       "\t Comedy    & Romance   &           &           &           &           &          \\\\\n",
       "\t Comedy    & Drama     & Romance   &           &           &           &          \\\\\n",
       "\t Comedy    &           &           &           &           &           &          \\\\\n",
       "\t Action    & Crime     & Thriller  &           &           &           &          \\\\\n",
       "\\end{tabular}\n"
      ],
      "text/markdown": [
       "\n",
       "x1 | x2 | x3 | x4 | x5 | x6 | x7 | \n",
       "|---|---|---|---|---|---|\n",
       "| Adventure | Animation | Children  | Comedy    | Fantasy   |           |           | \n",
       "| Adventure | Children  | Fantasy   |           |           |           |           | \n",
       "| Comedy    | Romance   |           |           |           |           |           | \n",
       "| Comedy    | Drama     | Romance   |           |           |           |           | \n",
       "| Comedy    |           |           |           |           |           |           | \n",
       "| Action    | Crime     | Thriller  |           |           |           |           | \n",
       "\n",
       "\n"
      ],
      "text/plain": [
       "  x1        x2        x3       x4     x5      x6 x7\n",
       "1 Adventure Animation Children Comedy Fantasy      \n",
       "2 Adventure Children  Fantasy                      \n",
       "3 Comedy    Romance                                \n",
       "4 Comedy    Drama     Romance                      \n",
       "5 Comedy                                           \n",
       "6 Action    Crime     Thriller                     "
      ]
     },
     "metadata": {},
     "output_type": "display_data"
    },
    {
     "data": {
      "text/html": [
       "<ol class=list-inline>\n",
       "\t<li>'Action'</li>\n",
       "\t<li>'Adventure'</li>\n",
       "\t<li>'Animation'</li>\n",
       "\t<li>'Children'</li>\n",
       "\t<li>'Comedy'</li>\n",
       "\t<li>'Crime'</li>\n",
       "\t<li>'Documentary'</li>\n",
       "\t<li>'Drama'</li>\n",
       "\t<li>'Fantasy'</li>\n",
       "\t<li>'Film-Noir'</li>\n",
       "\t<li>'Horror'</li>\n",
       "\t<li>'Musical'</li>\n",
       "\t<li>'Mystery'</li>\n",
       "\t<li>'Romance'</li>\n",
       "\t<li>'Sci-Fi'</li>\n",
       "\t<li>'Thriller'</li>\n",
       "\t<li>'War'</li>\n",
       "\t<li>'Western'</li>\n",
       "\t<li>''</li>\n",
       "\t<li>'IMAX'</li>\n",
       "</ol>\n"
      ],
      "text/latex": [
       "\\begin{enumerate*}\n",
       "\\item 'Action'\n",
       "\\item 'Adventure'\n",
       "\\item 'Animation'\n",
       "\\item 'Children'\n",
       "\\item 'Comedy'\n",
       "\\item 'Crime'\n",
       "\\item 'Documentary'\n",
       "\\item 'Drama'\n",
       "\\item 'Fantasy'\n",
       "\\item 'Film-Noir'\n",
       "\\item 'Horror'\n",
       "\\item 'Musical'\n",
       "\\item 'Mystery'\n",
       "\\item 'Romance'\n",
       "\\item 'Sci-Fi'\n",
       "\\item 'Thriller'\n",
       "\\item 'War'\n",
       "\\item 'Western'\n",
       "\\item ''\n",
       "\\item 'IMAX'\n",
       "\\end{enumerate*}\n"
      ],
      "text/markdown": [
       "1. 'Action'\n",
       "2. 'Adventure'\n",
       "3. 'Animation'\n",
       "4. 'Children'\n",
       "5. 'Comedy'\n",
       "6. 'Crime'\n",
       "7. 'Documentary'\n",
       "8. 'Drama'\n",
       "9. 'Fantasy'\n",
       "10. 'Film-Noir'\n",
       "11. 'Horror'\n",
       "12. 'Musical'\n",
       "13. 'Mystery'\n",
       "14. 'Romance'\n",
       "15. 'Sci-Fi'\n",
       "16. 'Thriller'\n",
       "17. 'War'\n",
       "18. 'Western'\n",
       "19. ''\n",
       "20. 'IMAX'\n",
       "\n",
       "\n"
      ],
      "text/plain": [
       " [1] \"Action\"      \"Adventure\"   \"Animation\"   \"Children\"    \"Comedy\"     \n",
       " [6] \"Crime\"       \"Documentary\" \"Drama\"       \"Fantasy\"     \"Film-Noir\"  \n",
       "[11] \"Horror\"      \"Musical\"     \"Mystery\"     \"Romance\"     \"Sci-Fi\"     \n",
       "[16] \"Thriller\"    \"War\"         \"Western\"     \"\"            \"IMAX\"       "
      ]
     },
     "metadata": {},
     "output_type": "display_data"
    },
    {
     "name": "stdout",
     "output_type": "stream",
     "text": [
      "'data.frame':\t8569 obs. of  7 variables:\n",
      " $ x1: Factor w/ 20 levels \"Action\",\"Adventure\",..: 2 2 5 5 5 1 5 2 1 1 ...\n",
      " $ x2: Factor w/ 20 levels \"Action\",\"Adventure\",..: 3 4 14 8 19 6 14 4 19 2 ...\n",
      " $ x3: Factor w/ 20 levels \"Action\",\"Adventure\",..: 4 9 19 14 19 16 19 19 19 16 ...\n",
      " $ x4: Factor w/ 20 levels \"Action\",\"Adventure\",..: 5 19 19 19 19 19 19 19 19 19 ...\n",
      " $ x5: Factor w/ 20 levels \"Action\",\"Adventure\",..: 9 19 19 19 19 19 19 19 19 19 ...\n",
      " $ x6: Factor w/ 20 levels \"Action\",\"Adventure\",..: 19 19 19 19 19 19 19 19 19 19 ...\n",
      " $ x7: Factor w/ 20 levels \"Action\",\"Adventure\",..: 19 19 19 19 19 19 19 19 19 19 ...\n"
     ]
    },
    {
     "data": {
      "text/html": [
       "<table>\n",
       "<thead><tr><th scope=col>Action</th><th scope=col>Adventure</th><th scope=col>Animation</th><th scope=col>Children</th><th scope=col>Comedy</th><th scope=col>Crime</th><th scope=col>Documentary</th><th scope=col>Drama</th><th scope=col>Fantasy</th><th scope=col>Film-Noir</th><th scope=col>Horror</th><th scope=col>Musical</th><th scope=col>Mystery</th><th scope=col>Romance</th><th scope=col>Sci-Fi</th><th scope=col>Thriller</th><th scope=col>War</th><th scope=col>Western</th><th scope=col>IMAX</th><th scope=col>title</th></tr></thead>\n",
       "<tbody>\n",
       "\t<tr><td>0                                 </td><td>1                                 </td><td>1                                 </td><td>1                                 </td><td>1                                 </td><td>0                                 </td><td>0                                 </td><td>0                                 </td><td>1                                 </td><td>0                                 </td><td>0                                 </td><td>0                                 </td><td>0                                 </td><td>0                                 </td><td>0                                 </td><td>0                                 </td><td>0                                 </td><td>0                                 </td><td>0                                 </td><td>Toy Story (1995)                  </td></tr>\n",
       "\t<tr><td>0                                 </td><td>1                                 </td><td>0                                 </td><td>1                                 </td><td>0                                 </td><td>0                                 </td><td>0                                 </td><td>0                                 </td><td>1                                 </td><td>0                                 </td><td>0                                 </td><td>0                                 </td><td>0                                 </td><td>0                                 </td><td>0                                 </td><td>0                                 </td><td>0                                 </td><td>0                                 </td><td>0                                 </td><td>Jumanji (1995)                    </td></tr>\n",
       "\t<tr><td>0                                 </td><td>0                                 </td><td>0                                 </td><td>0                                 </td><td>1                                 </td><td>0                                 </td><td>0                                 </td><td>0                                 </td><td>0                                 </td><td>0                                 </td><td>0                                 </td><td>0                                 </td><td>0                                 </td><td>1                                 </td><td>0                                 </td><td>0                                 </td><td>0                                 </td><td>0                                 </td><td>0                                 </td><td>Grumpier Old Men (1995)           </td></tr>\n",
       "\t<tr><td>0                                 </td><td>0                                 </td><td>0                                 </td><td>0                                 </td><td>1                                 </td><td>0                                 </td><td>0                                 </td><td>1                                 </td><td>0                                 </td><td>0                                 </td><td>0                                 </td><td>0                                 </td><td>0                                 </td><td>1                                 </td><td>0                                 </td><td>0                                 </td><td>0                                 </td><td>0                                 </td><td>0                                 </td><td>Waiting to Exhale (1995)          </td></tr>\n",
       "\t<tr><td>0                                 </td><td>0                                 </td><td>0                                 </td><td>0                                 </td><td>1                                 </td><td>0                                 </td><td>0                                 </td><td>0                                 </td><td>0                                 </td><td>0                                 </td><td>0                                 </td><td>0                                 </td><td>0                                 </td><td>0                                 </td><td>0                                 </td><td>0                                 </td><td>0                                 </td><td>0                                 </td><td>0                                 </td><td>Father of the Bride Part II (1995)</td></tr>\n",
       "\t<tr><td>1                                 </td><td>0                                 </td><td>0                                 </td><td>0                                 </td><td>0                                 </td><td>1                                 </td><td>0                                 </td><td>0                                 </td><td>0                                 </td><td>0                                 </td><td>0                                 </td><td>0                                 </td><td>0                                 </td><td>0                                 </td><td>0                                 </td><td>1                                 </td><td>0                                 </td><td>0                                 </td><td>0                                 </td><td>Heat (1995)                       </td></tr>\n",
       "</tbody>\n",
       "</table>\n"
      ],
      "text/latex": [
       "\\begin{tabular}{r|llllllllllllllllllll}\n",
       " Action & Adventure & Animation & Children & Comedy & Crime & Documentary & Drama & Fantasy & Film-Noir & Horror & Musical & Mystery & Romance & Sci-Fi & Thriller & War & Western & IMAX & title\\\\\n",
       "\\hline\n",
       "\t 0                                  & 1                                  & 1                                  & 1                                  & 1                                  & 0                                  & 0                                  & 0                                  & 1                                  & 0                                  & 0                                  & 0                                  & 0                                  & 0                                  & 0                                  & 0                                  & 0                                  & 0                                  & 0                                  & Toy Story (1995)                  \\\\\n",
       "\t 0                                  & 1                                  & 0                                  & 1                                  & 0                                  & 0                                  & 0                                  & 0                                  & 1                                  & 0                                  & 0                                  & 0                                  & 0                                  & 0                                  & 0                                  & 0                                  & 0                                  & 0                                  & 0                                  & Jumanji (1995)                    \\\\\n",
       "\t 0                                  & 0                                  & 0                                  & 0                                  & 1                                  & 0                                  & 0                                  & 0                                  & 0                                  & 0                                  & 0                                  & 0                                  & 0                                  & 1                                  & 0                                  & 0                                  & 0                                  & 0                                  & 0                                  & Grumpier Old Men (1995)           \\\\\n",
       "\t 0                                  & 0                                  & 0                                  & 0                                  & 1                                  & 0                                  & 0                                  & 1                                  & 0                                  & 0                                  & 0                                  & 0                                  & 0                                  & 1                                  & 0                                  & 0                                  & 0                                  & 0                                  & 0                                  & Waiting to Exhale (1995)          \\\\\n",
       "\t 0                                  & 0                                  & 0                                  & 0                                  & 1                                  & 0                                  & 0                                  & 0                                  & 0                                  & 0                                  & 0                                  & 0                                  & 0                                  & 0                                  & 0                                  & 0                                  & 0                                  & 0                                  & 0                                  & Father of the Bride Part II (1995)\\\\\n",
       "\t 1                                  & 0                                  & 0                                  & 0                                  & 0                                  & 1                                  & 0                                  & 0                                  & 0                                  & 0                                  & 0                                  & 0                                  & 0                                  & 0                                  & 0                                  & 1                                  & 0                                  & 0                                  & 0                                  & Heat (1995)                       \\\\\n",
       "\\end{tabular}\n"
      ],
      "text/markdown": [
       "\n",
       "Action | Adventure | Animation | Children | Comedy | Crime | Documentary | Drama | Fantasy | Film-Noir | Horror | Musical | Mystery | Romance | Sci-Fi | Thriller | War | Western | IMAX | title | \n",
       "|---|---|---|---|---|---|\n",
       "| 0                                  | 1                                  | 1                                  | 1                                  | 1                                  | 0                                  | 0                                  | 0                                  | 1                                  | 0                                  | 0                                  | 0                                  | 0                                  | 0                                  | 0                                  | 0                                  | 0                                  | 0                                  | 0                                  | Toy Story (1995)                   | \n",
       "| 0                                  | 1                                  | 0                                  | 1                                  | 0                                  | 0                                  | 0                                  | 0                                  | 1                                  | 0                                  | 0                                  | 0                                  | 0                                  | 0                                  | 0                                  | 0                                  | 0                                  | 0                                  | 0                                  | Jumanji (1995)                     | \n",
       "| 0                                  | 0                                  | 0                                  | 0                                  | 1                                  | 0                                  | 0                                  | 0                                  | 0                                  | 0                                  | 0                                  | 0                                  | 0                                  | 1                                  | 0                                  | 0                                  | 0                                  | 0                                  | 0                                  | Grumpier Old Men (1995)            | \n",
       "| 0                                  | 0                                  | 0                                  | 0                                  | 1                                  | 0                                  | 0                                  | 1                                  | 0                                  | 0                                  | 0                                  | 0                                  | 0                                  | 1                                  | 0                                  | 0                                  | 0                                  | 0                                  | 0                                  | Waiting to Exhale (1995)           | \n",
       "| 0                                  | 0                                  | 0                                  | 0                                  | 1                                  | 0                                  | 0                                  | 0                                  | 0                                  | 0                                  | 0                                  | 0                                  | 0                                  | 0                                  | 0                                  | 0                                  | 0                                  | 0                                  | 0                                  | Father of the Bride Part II (1995) | \n",
       "| 1                                  | 0                                  | 0                                  | 0                                  | 0                                  | 1                                  | 0                                  | 0                                  | 0                                  | 0                                  | 0                                  | 0                                  | 0                                  | 0                                  | 0                                  | 1                                  | 0                                  | 0                                  | 0                                  | Heat (1995)                        | \n",
       "\n",
       "\n"
      ],
      "text/plain": [
       "  Action Adventure Animation Children Comedy Crime Documentary Drama Fantasy\n",
       "1 0      1         1         1        1      0     0           0     1      \n",
       "2 0      1         0         1        0      0     0           0     1      \n",
       "3 0      0         0         0        1      0     0           0     0      \n",
       "4 0      0         0         0        1      0     0           1     0      \n",
       "5 0      0         0         0        1      0     0           0     0      \n",
       "6 1      0         0         0        0      1     0           0     0      \n",
       "  Film-Noir Horror Musical Mystery Romance Sci-Fi Thriller War Western IMAX\n",
       "1 0         0      0       0       0       0      0        0   0       0   \n",
       "2 0         0      0       0       0       0      0        0   0       0   \n",
       "3 0         0      0       0       1       0      0        0   0       0   \n",
       "4 0         0      0       0       1       0      0        0   0       0   \n",
       "5 0         0      0       0       0       0      0        0   0       0   \n",
       "6 0         0      0       0       0       0      1        0   0       0   \n",
       "  title                             \n",
       "1 Toy Story (1995)                  \n",
       "2 Jumanji (1995)                    \n",
       "3 Grumpier Old Men (1995)           \n",
       "4 Waiting to Exhale (1995)          \n",
       "5 Father of the Bride Part II (1995)\n",
       "6 Heat (1995)                       "
      ]
     },
     "metadata": {},
     "output_type": "display_data"
    }
   ],
   "source": [
    "movies <- read.csv(\"csv/movies.csv\", stringsAsFactors = F)\n",
    "str(movies)\n",
    "\n",
    "# for each row in `movies`, we can count how many genres are associated with each movie\n",
    "countFields <- count.fields(\"csv/genres.csv\", sep=\"|\")\n",
    "countFields[1] # gets how many genres the first movie has\n",
    "max(countFields) # max number of genres a movie can have\n",
    "\n",
    "# genres\n",
    "g <- read.csv(\"csv/genres.csv\", header=F, sep=\"|\", col.names=c(\"x1\", \"x2\", \"x3\", \"x4\", \"x5\", \"x6\", \"x7\"))\n",
    "str(g)\n",
    "head(g)\n",
    "\n",
    "# from str(g)`, since each variable has different number of factor levels, we will need to standardise things here\n",
    "fac <- union(union(union(union(union(union(\n",
    "    levels(g$x1), levels(g$x2)), levels(g$x3)), levels(g$x4)), levels(g$x5)), levels(g$x6)), levels(g$x7))\n",
    "\n",
    "# fac has a total of 20 categories from Action to IMAX where \"\" simply indicates missing categories\n",
    "fac\n",
    "\n",
    "# to standardise across all variables (because some vars did not have the same number of factor levels)\n",
    "g$x1 <- factor(g$x1, fac)\n",
    "g$x2 <- factor(g$x2, fac)\n",
    "g$x3 <- factor(g$x3, fac)\n",
    "g$x4 <- factor(g$x4, fac)\n",
    "g$x5 <- factor(g$x5, fac)\n",
    "g$x6 <- factor(g$x6, fac)\n",
    "g$x7 <- factor(g$x7, fac)\n",
    "str(g)\n",
    "# head(g)\n",
    "\n",
    "# creating a matrix denoting if a movie is associated with that genre\n",
    "M <- matrix(0, nrow=NROW(movies), ncol=length(levels(g$x1)))\n",
    "colnames(M) <- fac\n",
    "\n",
    "# inputting attribute (genre) association data for each movie\n",
    "for (i in 1:NROW(movies)) {\n",
    "    M[i, g[i,\"x1\"]] <- 1\n",
    "    M[i, g[i,\"x2\"]] <- 1\n",
    "    M[i, g[i,\"x3\"]] <- 1\n",
    "    M[i, g[i,\"x4\"]] <- 1\n",
    "    M[i, g[i,\"x5\"]] <- 1\n",
    "    M[i, g[i,\"x6\"]] <- 1\n",
    "    M[i, g[i,\"x7\"]] <- 1\n",
    "}\n",
    "\n",
    "# converting to dataframe, add movie title, drop the column with empty header string \"\"\n",
    "data <- as.data.frame(M)\n",
    "data$title <- movies$title\n",
    "data <- data[, -19]\n",
    "head(data)"
   ]
  },
  {
   "cell_type": "markdown",
   "metadata": {},
   "source": [
    "### Hierarchial clustering in R"
   ]
  },
  {
   "cell_type": "code",
   "execution_count": 2,
   "metadata": {},
   "outputs": [
    {
     "ename": "ERROR",
     "evalue": "Error in data[, 1:19]: object of type 'closure' is not subsettable\n",
     "output_type": "error",
     "traceback": [
      "Error in data[, 1:19]: object of type 'closure' is not subsettable\nTraceback:\n",
      "1. dist(data[, 1:19], method = \"euclidean\")",
      "2. as.matrix(x)"
     ]
    }
   ],
   "source": [
    "# computes distances between movies using the first 19 columns\n",
    "distances <- dist(data[,1:19], method=\"euclidean\")\n",
    "\n",
    "# performs hierach cluster analysis using the distances calculated\n",
    "cluster <- hclust(distances, method=\"ward.D2\")\n",
    "options(repr.plot.width=9, repr.plot.height=7) # resize IRkernel plot size\n",
    "plot(cluster)"
   ]
  },
  {
   "cell_type": "code",
   "execution_count": 1,
   "metadata": {},
   "outputs": [
    {
     "ename": "ERROR",
     "evalue": "Error in nrow(tree$merge): object 'cluster' not found\n",
     "output_type": "error",
     "traceback": [
      "Error in nrow(tree$merge): object 'cluster' not found\nTraceback:\n",
      "1. cutree(cluster, k = size)",
      "2. nrow(tree$merge)"
     ]
    }
   ],
   "source": [
    "# cuts tree into 10 subclusters\n",
    "clusterGroups <- cutree(cluster, k=10)\n",
    "# how do we select k-value???\n",
    "\n",
    "# computes average value  across the cluster groups for the 'Action' genre\n",
    "# higher value indicates many movies in the cluster are action movies\n",
    "tapply(data[,1], clusterGroups, mean)\n",
    "\n",
    "# Now, compute average value  across the cluster groups for ALL genres\n",
    "# higher value indicates many movies in the cluster are of that genre\n",
    "categories <- matrix(0, nrow=19, ncol=10)\n",
    "for (i in 1:19) {\n",
    "    categories[i,] <- tapply(data[,i], clusterGroups, mean)\n",
    "}\n",
    "\n",
    "# naming the matrix rows and columns\n",
    "rownames(categories) <- colnames(data)[1:19]\n",
    "colnames(categories) <- c(\"Cluster 1\", \"Cluster 2\", \"Cluster 3\",\n",
    "                          \"Cluster 4\", \"Cluster 5\", \"Cluster 6\",\n",
    "                          \"Cluster 7\", \"Cluster 8\", \"Cluster 9\",\n",
    "                          \"Cluster 10\")\n",
    "categories"
   ]
  },
  {
   "cell_type": "code",
   "execution_count": 4,
   "metadata": {
    "scrolled": false
   },
   "outputs": [
    {
     "data": {
      "text/html": [
       "<table>\n",
       "<thead><tr><th></th><th scope=col>Action</th><th scope=col>Adventure</th><th scope=col>Animation</th><th scope=col>Children</th><th scope=col>Comedy</th><th scope=col>Crime</th><th scope=col>Documentary</th><th scope=col>Drama</th><th scope=col>Fantasy</th><th scope=col>Film-Noir</th><th scope=col>Horror</th><th scope=col>Musical</th><th scope=col>Mystery</th><th scope=col>Romance</th><th scope=col>Sci-Fi</th><th scope=col>Thriller</th><th scope=col>War</th><th scope=col>Western</th><th scope=col>IMAX</th><th scope=col>title</th></tr></thead>\n",
       "<tbody>\n",
       "\t<tr><th scope=row>8418</th><td>0                               </td><td>0                               </td><td>0                               </td><td>0                               </td><td>1                               </td><td>0                               </td><td>0                               </td><td>1                               </td><td>0                               </td><td>0                               </td><td>0                               </td><td>0                               </td><td>0                               </td><td>0                               </td><td>0                               </td><td>0                               </td><td>0                               </td><td>0                               </td><td>0                               </td><td>Grand Budapest Hotel, The (2014)</td></tr>\n",
       "</tbody>\n",
       "</table>\n"
      ],
      "text/latex": [
       "\\begin{tabular}{r|llllllllllllllllllll}\n",
       "  & Action & Adventure & Animation & Children & Comedy & Crime & Documentary & Drama & Fantasy & Film-Noir & Horror & Musical & Mystery & Romance & Sci-Fi & Thriller & War & Western & IMAX & title\\\\\n",
       "\\hline\n",
       "\t8418 & 0                                & 0                                & 0                                & 0                                & 1                                & 0                                & 0                                & 1                                & 0                                & 0                                & 0                                & 0                                & 0                                & 0                                & 0                                & 0                                & 0                                & 0                                & 0                                & Grand Budapest Hotel, The (2014)\\\\\n",
       "\\end{tabular}\n"
      ],
      "text/markdown": [
       "\n",
       "| <!--/--> | Action | Adventure | Animation | Children | Comedy | Crime | Documentary | Drama | Fantasy | Film-Noir | Horror | Musical | Mystery | Romance | Sci-Fi | Thriller | War | Western | IMAX | title | \n",
       "|---|\n",
       "| 8418 | 0                                | 0                                | 0                                | 0                                | 1                                | 0                                | 0                                | 1                                | 0                                | 0                                | 0                                | 0                                | 0                                | 0                                | 0                                | 0                                | 0                                | 0                                | 0                                | Grand Budapest Hotel, The (2014) | \n",
       "\n",
       "\n"
      ],
      "text/plain": [
       "     Action Adventure Animation Children Comedy Crime Documentary Drama Fantasy\n",
       "8418 0      0         0         0        1      0     0           1     0      \n",
       "     Film-Noir Horror Musical Mystery Romance Sci-Fi Thriller War Western IMAX\n",
       "8418 0         0      0       0       0       0      0        0   0       0   \n",
       "     title                           \n",
       "8418 Grand Budapest Hotel, The (2014)"
      ]
     },
     "metadata": {},
     "output_type": "display_data"
    },
    {
     "data": {
      "text/html": [
       "3"
      ],
      "text/latex": [
       "3"
      ],
      "text/markdown": [
       "3"
      ],
      "text/plain": [
       "[1] 3"
      ]
     },
     "metadata": {},
     "output_type": "display_data"
    }
   ],
   "source": [
    "# lets us see which movies are in the 6th cluster grouping\n",
    "# subset(data$title, clusterGroups == 6)\n",
    "\n",
    "# select row number corresponding to movie 'Grand Budapest Hotel' in dataframe\n",
    "subset(data, movies$title == \"Grand Budapest Hotel, The (2014)\")\n",
    "clusterGroups[8418] # in cluster 3"
   ]
  },
  {
   "cell_type": "markdown",
   "metadata": {},
   "source": [
    "### K-means clustering in R"
   ]
  },
  {
   "cell_type": "code",
   "execution_count": 5,
   "metadata": {},
   "outputs": [
    {
     "data": {
      "text/html": [
       "7324.7798924425"
      ],
      "text/latex": [
       "7324.7798924425"
      ],
      "text/markdown": [
       "7324.7798924425"
      ],
      "text/plain": [
       "[1] 7324.78"
      ]
     },
     "metadata": {},
     "output_type": "display_data"
    },
    {
     "data": {
      "text/html": [
       "7875.28835729919"
      ],
      "text/latex": [
       "7875.28835729919"
      ],
      "text/markdown": [
       "7875.28835729919"
      ],
      "text/plain": [
       "[1] 7875.288"
      ]
     },
     "metadata": {},
     "output_type": "display_data"
    },
    {
     "data": {
      "text/html": [
       "<table>\n",
       "<thead><tr><th></th><th scope=col>Cluster 1</th><th scope=col>Cluster 2</th><th scope=col>Cluster 3</th><th scope=col>Cluster 4</th><th scope=col>Cluster 5</th><th scope=col>Cluster 6</th><th scope=col>Cluster 7</th><th scope=col>Cluster 8</th><th scope=col>Cluster 9</th><th scope=col>Cluster 10</th></tr></thead>\n",
       "<tbody>\n",
       "\t<tr><th scope=row>Action</th><td>0.084130019 </td><td>0.442598187 </td><td>0.033542039 </td><td>0.000000000 </td><td>0.970370370 </td><td>0.0825515947</td><td>0.084019769 </td><td>0.093821510 </td><td>0.343085106 </td><td>0.015483871 </td></tr>\n",
       "\t<tr><th scope=row>Adventure</th><td>0.013384321 </td><td>0.046827795 </td><td>0.048300537 </td><td>0.071691176 </td><td>0.544444444 </td><td>0.0437773609</td><td>0.013179572 </td><td>0.679633867 </td><td>0.146276596 </td><td>0.018064516 </td></tr>\n",
       "\t<tr><th scope=row>Animation</th><td>0.005736138 </td><td>0.006042296 </td><td>0.006708408 </td><td>0.025735294 </td><td>0.040740741 </td><td>0.0131332083</td><td>0.009884679 </td><td>0.542334096 </td><td>0.007978723 </td><td>0.006451613 </td></tr>\n",
       "\t<tr><th scope=row>Children</th><td>0.000000000 </td><td>0.001510574 </td><td>0.015652952 </td><td>0.001838235 </td><td>0.013580247 </td><td>0.0537836148</td><td>0.001647446 </td><td>0.816933638 </td><td>0.000000000 </td><td>0.018064516 </td></tr>\n",
       "\t<tr><th scope=row>Comedy</th><td>0.198852772 </td><td>0.117824773 </td><td>0.000000000 </td><td>0.000000000 </td><td>0.116049383 </td><td>1.0000000000</td><td>0.064250412 </td><td>0.478260870 </td><td>0.039893617 </td><td>1.000000000 </td></tr>\n",
       "\t<tr><th scope=row>Crime</th><td>0.022944551 </td><td>0.998489426 </td><td>0.080053667 </td><td>0.005514706 </td><td>0.016049383 </td><td>0.0838023765</td><td>0.042833608 </td><td>0.016018307 </td><td>0.010638298 </td><td>0.060645161 </td></tr>\n",
       "\t<tr><th scope=row>Documentary</th><td>0.015296367 </td><td>0.000000000 </td><td>0.006261181 </td><td>0.590073529 </td><td>0.001234568 </td><td>0.0218886804</td><td>0.000000000 </td><td>0.000000000 </td><td>0.002659574 </td><td>0.002580645 </td></tr>\n",
       "\t<tr><th scope=row>Drama</th><td>0.093690249 </td><td>0.581570997 </td><td>1.000000000 </td><td>0.000000000 </td><td>0.180246914 </td><td>0.0000000000</td><td>0.174629325 </td><td>0.086956522 </td><td>0.864361702 </td><td>1.000000000 </td></tr>\n",
       "\t<tr><th scope=row>Fantasy</th><td>0.059273423 </td><td>0.009063444 </td><td>0.041144902 </td><td>0.016544118 </td><td>0.124691358 </td><td>0.0393996248</td><td>0.075782537 </td><td>0.480549199 </td><td>0.005319149 </td><td>0.036129032 </td></tr>\n",
       "\t<tr><th scope=row>Film-Noir</th><td>0.000000000 </td><td>0.055891239 </td><td>0.015205725 </td><td>0.012867647 </td><td>0.002469136 </td><td>0.0006253909</td><td>0.013179572 </td><td>0.000000000 </td><td>0.000000000 </td><td>0.002580645 </td></tr>\n",
       "\t<tr><th scope=row>Horror</th><td>1.000000000 </td><td>0.021148036 </td><td>0.001788909 </td><td>0.000000000 </td><td>0.012345679 </td><td>0.0025015635</td><td>0.718286656 </td><td>0.004576659 </td><td>0.002659574 </td><td>0.007741935 </td></tr>\n",
       "\t<tr><th scope=row>Musical</th><td>0.011472275 </td><td>0.003021148 </td><td>0.029964222 </td><td>0.082720588 </td><td>0.000000000 </td><td>0.0575359600</td><td>0.004942339 </td><td>0.160183066 </td><td>0.002659574 </td><td>0.038709677 </td></tr>\n",
       "\t<tr><th scope=row>Mystery</th><td>0.061185468 </td><td>0.205438066 </td><td>0.053220036 </td><td>0.020220588 </td><td>0.035802469 </td><td>0.0137585991</td><td>0.268533773 </td><td>0.020594966 </td><td>0.010638298 </td><td>0.018064516 </td></tr>\n",
       "\t<tr><th scope=row>Romance</th><td>0.007648184 </td><td>0.052870091 </td><td>0.220483005 </td><td>0.066176471 </td><td>0.055555556 </td><td>0.2564102564</td><td>0.034596376 </td><td>0.066361556 </td><td>0.138297872 </td><td>0.345806452 </td></tr>\n",
       "\t<tr><th scope=row>Sci-Fi</th><td>0.204588910 </td><td>0.024169184 </td><td>0.037567084 </td><td>0.073529412 </td><td>0.381481481 </td><td>0.0400250156</td><td>0.207578254 </td><td>0.100686499 </td><td>0.005319149 </td><td>0.016774194 </td></tr>\n",
       "\t<tr><th scope=row>Thriller</th><td>0.000000000 </td><td>0.783987915 </td><td>0.117173524 </td><td>0.000000000 </td><td>0.422222222 </td><td>0.0181363352</td><td>1.000000000 </td><td>0.000000000 </td><td>0.074468085 </td><td>0.021935484 </td></tr>\n",
       "\t<tr><th scope=row>War</th><td>0.001912046 </td><td>0.010574018 </td><td>0.000000000 </td><td>0.027573529 </td><td>0.028395062 </td><td>0.0150093809</td><td>0.006589786 </td><td>0.004576659 </td><td>1.000000000 </td><td>0.007741935 </td></tr>\n",
       "\t<tr><th scope=row>Western</th><td>0.003824092 </td><td>0.004531722 </td><td>0.022808587 </td><td>0.205882353 </td><td>0.041975309 </td><td>0.0231394622</td><td>0.001647446 </td><td>0.006864989 </td><td>0.034574468 </td><td>0.002580645 </td></tr>\n",
       "\t<tr><th scope=row>IMAX</th><td>0.017208413 </td><td>0.010574018 </td><td>0.004919499 </td><td>0.025735294 </td><td>0.077777778 </td><td>0.0012507817</td><td>0.009884679 </td><td>0.082379863 </td><td>0.005319149 </td><td>0.001290323 </td></tr>\n",
       "</tbody>\n",
       "</table>\n"
      ],
      "text/latex": [
       "\\begin{tabular}{r|llllllllll}\n",
       "  & Cluster 1 & Cluster 2 & Cluster 3 & Cluster 4 & Cluster 5 & Cluster 6 & Cluster 7 & Cluster 8 & Cluster 9 & Cluster 10\\\\\n",
       "\\hline\n",
       "\tAction & 0.084130019  & 0.442598187  & 0.033542039  & 0.000000000  & 0.970370370  & 0.0825515947 & 0.084019769  & 0.093821510  & 0.343085106  & 0.015483871 \\\\\n",
       "\tAdventure & 0.013384321  & 0.046827795  & 0.048300537  & 0.071691176  & 0.544444444  & 0.0437773609 & 0.013179572  & 0.679633867  & 0.146276596  & 0.018064516 \\\\\n",
       "\tAnimation & 0.005736138  & 0.006042296  & 0.006708408  & 0.025735294  & 0.040740741  & 0.0131332083 & 0.009884679  & 0.542334096  & 0.007978723  & 0.006451613 \\\\\n",
       "\tChildren & 0.000000000  & 0.001510574  & 0.015652952  & 0.001838235  & 0.013580247  & 0.0537836148 & 0.001647446  & 0.816933638  & 0.000000000  & 0.018064516 \\\\\n",
       "\tComedy & 0.198852772  & 0.117824773  & 0.000000000  & 0.000000000  & 0.116049383  & 1.0000000000 & 0.064250412  & 0.478260870  & 0.039893617  & 1.000000000 \\\\\n",
       "\tCrime & 0.022944551  & 0.998489426  & 0.080053667  & 0.005514706  & 0.016049383  & 0.0838023765 & 0.042833608  & 0.016018307  & 0.010638298  & 0.060645161 \\\\\n",
       "\tDocumentary & 0.015296367  & 0.000000000  & 0.006261181  & 0.590073529  & 0.001234568  & 0.0218886804 & 0.000000000  & 0.000000000  & 0.002659574  & 0.002580645 \\\\\n",
       "\tDrama & 0.093690249  & 0.581570997  & 1.000000000  & 0.000000000  & 0.180246914  & 0.0000000000 & 0.174629325  & 0.086956522  & 0.864361702  & 1.000000000 \\\\\n",
       "\tFantasy & 0.059273423  & 0.009063444  & 0.041144902  & 0.016544118  & 0.124691358  & 0.0393996248 & 0.075782537  & 0.480549199  & 0.005319149  & 0.036129032 \\\\\n",
       "\tFilm-Noir & 0.000000000  & 0.055891239  & 0.015205725  & 0.012867647  & 0.002469136  & 0.0006253909 & 0.013179572  & 0.000000000  & 0.000000000  & 0.002580645 \\\\\n",
       "\tHorror & 1.000000000  & 0.021148036  & 0.001788909  & 0.000000000  & 0.012345679  & 0.0025015635 & 0.718286656  & 0.004576659  & 0.002659574  & 0.007741935 \\\\\n",
       "\tMusical & 0.011472275  & 0.003021148  & 0.029964222  & 0.082720588  & 0.000000000  & 0.0575359600 & 0.004942339  & 0.160183066  & 0.002659574  & 0.038709677 \\\\\n",
       "\tMystery & 0.061185468  & 0.205438066  & 0.053220036  & 0.020220588  & 0.035802469  & 0.0137585991 & 0.268533773  & 0.020594966  & 0.010638298  & 0.018064516 \\\\\n",
       "\tRomance & 0.007648184  & 0.052870091  & 0.220483005  & 0.066176471  & 0.055555556  & 0.2564102564 & 0.034596376  & 0.066361556  & 0.138297872  & 0.345806452 \\\\\n",
       "\tSci-Fi & 0.204588910  & 0.024169184  & 0.037567084  & 0.073529412  & 0.381481481  & 0.0400250156 & 0.207578254  & 0.100686499  & 0.005319149  & 0.016774194 \\\\\n",
       "\tThriller & 0.000000000  & 0.783987915  & 0.117173524  & 0.000000000  & 0.422222222  & 0.0181363352 & 1.000000000  & 0.000000000  & 0.074468085  & 0.021935484 \\\\\n",
       "\tWar & 0.001912046  & 0.010574018  & 0.000000000  & 0.027573529  & 0.028395062  & 0.0150093809 & 0.006589786  & 0.004576659  & 1.000000000  & 0.007741935 \\\\\n",
       "\tWestern & 0.003824092  & 0.004531722  & 0.022808587  & 0.205882353  & 0.041975309  & 0.0231394622 & 0.001647446  & 0.006864989  & 0.034574468  & 0.002580645 \\\\\n",
       "\tIMAX & 0.017208413  & 0.010574018  & 0.004919499  & 0.025735294  & 0.077777778  & 0.0012507817 & 0.009884679  & 0.082379863  & 0.005319149  & 0.001290323 \\\\\n",
       "\\end{tabular}\n"
      ],
      "text/markdown": [
       "\n",
       "| <!--/--> | Cluster 1 | Cluster 2 | Cluster 3 | Cluster 4 | Cluster 5 | Cluster 6 | Cluster 7 | Cluster 8 | Cluster 9 | Cluster 10 | \n",
       "|---|---|---|---|---|---|---|---|---|---|---|---|---|---|---|---|---|---|---|\n",
       "| Action | 0.084130019  | 0.442598187  | 0.033542039  | 0.000000000  | 0.970370370  | 0.0825515947 | 0.084019769  | 0.093821510  | 0.343085106  | 0.015483871  | \n",
       "| Adventure | 0.013384321  | 0.046827795  | 0.048300537  | 0.071691176  | 0.544444444  | 0.0437773609 | 0.013179572  | 0.679633867  | 0.146276596  | 0.018064516  | \n",
       "| Animation | 0.005736138  | 0.006042296  | 0.006708408  | 0.025735294  | 0.040740741  | 0.0131332083 | 0.009884679  | 0.542334096  | 0.007978723  | 0.006451613  | \n",
       "| Children | 0.000000000  | 0.001510574  | 0.015652952  | 0.001838235  | 0.013580247  | 0.0537836148 | 0.001647446  | 0.816933638  | 0.000000000  | 0.018064516  | \n",
       "| Comedy | 0.198852772  | 0.117824773  | 0.000000000  | 0.000000000  | 0.116049383  | 1.0000000000 | 0.064250412  | 0.478260870  | 0.039893617  | 1.000000000  | \n",
       "| Crime | 0.022944551  | 0.998489426  | 0.080053667  | 0.005514706  | 0.016049383  | 0.0838023765 | 0.042833608  | 0.016018307  | 0.010638298  | 0.060645161  | \n",
       "| Documentary | 0.015296367  | 0.000000000  | 0.006261181  | 0.590073529  | 0.001234568  | 0.0218886804 | 0.000000000  | 0.000000000  | 0.002659574  | 0.002580645  | \n",
       "| Drama | 0.093690249  | 0.581570997  | 1.000000000  | 0.000000000  | 0.180246914  | 0.0000000000 | 0.174629325  | 0.086956522  | 0.864361702  | 1.000000000  | \n",
       "| Fantasy | 0.059273423  | 0.009063444  | 0.041144902  | 0.016544118  | 0.124691358  | 0.0393996248 | 0.075782537  | 0.480549199  | 0.005319149  | 0.036129032  | \n",
       "| Film-Noir | 0.000000000  | 0.055891239  | 0.015205725  | 0.012867647  | 0.002469136  | 0.0006253909 | 0.013179572  | 0.000000000  | 0.000000000  | 0.002580645  | \n",
       "| Horror | 1.000000000  | 0.021148036  | 0.001788909  | 0.000000000  | 0.012345679  | 0.0025015635 | 0.718286656  | 0.004576659  | 0.002659574  | 0.007741935  | \n",
       "| Musical | 0.011472275  | 0.003021148  | 0.029964222  | 0.082720588  | 0.000000000  | 0.0575359600 | 0.004942339  | 0.160183066  | 0.002659574  | 0.038709677  | \n",
       "| Mystery | 0.061185468  | 0.205438066  | 0.053220036  | 0.020220588  | 0.035802469  | 0.0137585991 | 0.268533773  | 0.020594966  | 0.010638298  | 0.018064516  | \n",
       "| Romance | 0.007648184  | 0.052870091  | 0.220483005  | 0.066176471  | 0.055555556  | 0.2564102564 | 0.034596376  | 0.066361556  | 0.138297872  | 0.345806452  | \n",
       "| Sci-Fi | 0.204588910  | 0.024169184  | 0.037567084  | 0.073529412  | 0.381481481  | 0.0400250156 | 0.207578254  | 0.100686499  | 0.005319149  | 0.016774194  | \n",
       "| Thriller | 0.000000000  | 0.783987915  | 0.117173524  | 0.000000000  | 0.422222222  | 0.0181363352 | 1.000000000  | 0.000000000  | 0.074468085  | 0.021935484  | \n",
       "| War | 0.001912046  | 0.010574018  | 0.000000000  | 0.027573529  | 0.028395062  | 0.0150093809 | 0.006589786  | 0.004576659  | 1.000000000  | 0.007741935  | \n",
       "| Western | 0.003824092  | 0.004531722  | 0.022808587  | 0.205882353  | 0.041975309  | 0.0231394622 | 0.001647446  | 0.006864989  | 0.034574468  | 0.002580645  | \n",
       "| IMAX | 0.017208413  | 0.010574018  | 0.004919499  | 0.025735294  | 0.077777778  | 0.0012507817 | 0.009884679  | 0.082379863  | 0.005319149  | 0.001290323  | \n",
       "\n",
       "\n"
      ],
      "text/plain": [
       "            Cluster 1   Cluster 2   Cluster 3   Cluster 4   Cluster 5  \n",
       "Action      0.084130019 0.442598187 0.033542039 0.000000000 0.970370370\n",
       "Adventure   0.013384321 0.046827795 0.048300537 0.071691176 0.544444444\n",
       "Animation   0.005736138 0.006042296 0.006708408 0.025735294 0.040740741\n",
       "Children    0.000000000 0.001510574 0.015652952 0.001838235 0.013580247\n",
       "Comedy      0.198852772 0.117824773 0.000000000 0.000000000 0.116049383\n",
       "Crime       0.022944551 0.998489426 0.080053667 0.005514706 0.016049383\n",
       "Documentary 0.015296367 0.000000000 0.006261181 0.590073529 0.001234568\n",
       "Drama       0.093690249 0.581570997 1.000000000 0.000000000 0.180246914\n",
       "Fantasy     0.059273423 0.009063444 0.041144902 0.016544118 0.124691358\n",
       "Film-Noir   0.000000000 0.055891239 0.015205725 0.012867647 0.002469136\n",
       "Horror      1.000000000 0.021148036 0.001788909 0.000000000 0.012345679\n",
       "Musical     0.011472275 0.003021148 0.029964222 0.082720588 0.000000000\n",
       "Mystery     0.061185468 0.205438066 0.053220036 0.020220588 0.035802469\n",
       "Romance     0.007648184 0.052870091 0.220483005 0.066176471 0.055555556\n",
       "Sci-Fi      0.204588910 0.024169184 0.037567084 0.073529412 0.381481481\n",
       "Thriller    0.000000000 0.783987915 0.117173524 0.000000000 0.422222222\n",
       "War         0.001912046 0.010574018 0.000000000 0.027573529 0.028395062\n",
       "Western     0.003824092 0.004531722 0.022808587 0.205882353 0.041975309\n",
       "IMAX        0.017208413 0.010574018 0.004919499 0.025735294 0.077777778\n",
       "            Cluster 6    Cluster 7   Cluster 8   Cluster 9   Cluster 10 \n",
       "Action      0.0825515947 0.084019769 0.093821510 0.343085106 0.015483871\n",
       "Adventure   0.0437773609 0.013179572 0.679633867 0.146276596 0.018064516\n",
       "Animation   0.0131332083 0.009884679 0.542334096 0.007978723 0.006451613\n",
       "Children    0.0537836148 0.001647446 0.816933638 0.000000000 0.018064516\n",
       "Comedy      1.0000000000 0.064250412 0.478260870 0.039893617 1.000000000\n",
       "Crime       0.0838023765 0.042833608 0.016018307 0.010638298 0.060645161\n",
       "Documentary 0.0218886804 0.000000000 0.000000000 0.002659574 0.002580645\n",
       "Drama       0.0000000000 0.174629325 0.086956522 0.864361702 1.000000000\n",
       "Fantasy     0.0393996248 0.075782537 0.480549199 0.005319149 0.036129032\n",
       "Film-Noir   0.0006253909 0.013179572 0.000000000 0.000000000 0.002580645\n",
       "Horror      0.0025015635 0.718286656 0.004576659 0.002659574 0.007741935\n",
       "Musical     0.0575359600 0.004942339 0.160183066 0.002659574 0.038709677\n",
       "Mystery     0.0137585991 0.268533773 0.020594966 0.010638298 0.018064516\n",
       "Romance     0.2564102564 0.034596376 0.066361556 0.138297872 0.345806452\n",
       "Sci-Fi      0.0400250156 0.207578254 0.100686499 0.005319149 0.016774194\n",
       "Thriller    0.0181363352 1.000000000 0.000000000 0.074468085 0.021935484\n",
       "War         0.0150093809 0.006589786 0.004576659 1.000000000 0.007741935\n",
       "Western     0.0231394622 0.001647446 0.006864989 0.034574468 0.002580645\n",
       "IMAX        0.0012507817 0.009884679 0.082379863 0.005319149 0.001290323"
      ]
     },
     "metadata": {},
     "output_type": "display_data"
    }
   ],
   "source": [
    "set.seed(1)\n",
    "\n",
    "# `nstart=20` does 20 random initialisations and selects the set that has the best kmeans result out of 20\n",
    "cluster2 <- kmeans(data[,1:19], centers=10, nstart=20)\n",
    "cluster3 <- kmeans(data[,1:19], centers=10, nstart=1)\n",
    "\n",
    "# extract SSE values\n",
    "cluster2$tot.withins # k-means SSE is lower\n",
    "cluster3$tot.withins # k-means SSE is higher\n",
    "\n",
    "# Now, compute average value across the cluster groups for ALL genres\n",
    "# higher value indicates many movies in the cluster are of that genre\n",
    "categories2 <- matrix(0, nrow=19, ncol=10)\n",
    "for (i in 1:19) {\n",
    "    categories2[i,] <- tapply(data[,i], cluster2$cluster, mean)\n",
    "}\n",
    "rownames(categories2) <- colnames(data)[1:19]\n",
    "colnames(categories2) <- c(\"Cluster 1\", \"Cluster 2\", \"Cluster 3\",\n",
    "                          \"Cluster 4\", \"Cluster 5\", \"Cluster 6\",\n",
    "                          \"Cluster 7\", \"Cluster 8\", \"Cluster 9\",\n",
    "                          \"Cluster 10\")\n",
    "categories2"
   ]
  },
  {
   "cell_type": "code",
   "execution_count": 6,
   "metadata": {},
   "outputs": [
    {
     "data": {
      "image/png": "[encoded data removed]",
      "text/plain": [
       "plot without title"
      ]
     },
     "metadata": {},
     "output_type": "display_data"
    }
   ],
   "source": [
    "set.seed(1)\n",
    "\n",
    "# as the number of clusters increases, the lower the SSE of the k-means algo\n",
    "fit <- 0 #initialise empty var\n",
    "for (k in 1:15) {\n",
    "    cluster4 <- kmeans(data[,1:19], centers=k, nstart=20)\n",
    "    fit[k] <- cluster4$tot.withins\n",
    "}\n",
    "options(repr.plot.width=9, repr.plot.height=4) # resize IRkernel plot size\n",
    "plot(fit)"
   ]
  },
  {
   "cell_type": "markdown",
   "metadata": {},
   "source": [
    "## Recommendation Systems\n",
    "\n",
    "There are two main types of recommendation systems\n",
    "- **collaborative filtering** (look at user historical preferences to suggest choices)\n",
    "- **content filtering** (look at item attributes to suggest choices)\n",
    "- **hybrid filtering** (combination of first two systems)"
   ]
  },
  {
   "cell_type": "markdown",
   "metadata": {},
   "source": [
    "### Collaborative filtering\n",
    "\n",
    "Create top-*N* recommendation list for a user depending on what other movies other users who like the movie you like, also like. Note that collaborative filtering will suffer from *cold start* problem.\n",
    "\n",
    "A simple baseline model is to predict the average rating based on item popularity average:\n",
    "\n",
    "$$\\large b_{u,i} = \\bar{r}_i$$\n",
    "\n",
    "#### User-based collaborative model\n",
    "\n",
    "Based on identifying other users whose ratings are similar to that of the active users. Using cosine similarity, we have:\n",
    "\n",
    "$$\\large s(u,v) = \\frac{\\sum\\limits_{i\\in I_u \\cap I_v}^{} r_{ui}r_{vi}}{\\sqrt{\\sum\\limits_{i\\in I_u \\cap I_v} r_{ui}^2}\\sqrt{\\sum\\limits_{i\\in I_u \\cap I_v} r_{vi}^2 }}$$"
   ]
  },
  {
   "cell_type": "markdown",
   "metadata": {},
   "source": [
    "#### Item-based collaborative model\n",
    "\n",
    "Based on identifying items for users that are similar to the items they like. The idea is that is if two items have similar rating patterns across users, the items are similar. Users will prefer items that are similar where the similarity metric is measured as such:\n",
    "\n",
    "$$\\large s(i,j) = \\frac{\\sum\\limits_{u\\in U_i \\cap U_j}^{} r_{ui}r_{uj}}{\\sqrt{\\sum\\limits_{u\\in U_i \\cap U_j} r_{ui}^2}\\sqrt{\\sum\\limits_{u\\in U_i \\cap U_j} r_{uj}^2 }}$$"
   ]
  },
  {
   "cell_type": "markdown",
   "metadata": {},
   "source": [
    "### Using the `MovieLens` dataset"
   ]
  },
  {
   "cell_type": "code",
   "execution_count": 7,
   "metadata": {},
   "outputs": [
    {
     "name": "stdout",
     "output_type": "stream",
     "text": [
      "'data.frame':\t100023 obs. of  3 variables:\n",
      " $ userId : int  1 1 1 1 1 1 1 1 1 1 ...\n",
      " $ movieId: int  6 22 32 50 110 164 198 260 296 303 ...\n",
      " $ rating : num  2 3 2 5 4 3 3 5 4 3 ...\n"
     ]
    },
    {
     "data": {
      "text/html": [
       "2268"
      ],
      "text/latex": [
       "2268"
      ],
      "text/markdown": [
       "2268"
      ],
      "text/plain": [
       "[1] 2268"
      ]
     },
     "metadata": {},
     "output_type": "display_data"
    },
    {
     "data": {
      "text/html": [
       "20"
      ],
      "text/latex": [
       "20"
      ],
      "text/markdown": [
       "20"
      ],
      "text/plain": [
       "[1] 20"
      ]
     },
     "metadata": {},
     "output_type": "display_data"
    },
    {
     "data": {
      "text/html": [
       "337"
      ],
      "text/latex": [
       "337"
      ],
      "text/markdown": [
       "337"
      ],
      "text/plain": [
       "[1] 337"
      ]
     },
     "metadata": {},
     "output_type": "display_data"
    },
    {
     "data": {
      "text/html": [
       "1"
      ],
      "text/latex": [
       "1"
      ],
      "text/markdown": [
       "1"
      ],
      "text/plain": [
       "[1] 1"
      ]
     },
     "metadata": {},
     "output_type": "display_data"
    },
    {
     "data": {
      "text/html": [
       "<strong>593:</strong> 537"
      ],
      "text/latex": [
       "\\textbf{593:} 537"
      ],
      "text/markdown": [
       "**593:** 537"
      ],
      "text/plain": [
       "593 \n",
       "537 "
      ]
     },
     "metadata": {},
     "output_type": "display_data"
    }
   ],
   "source": [
    "ratings <- read.csv(\"csv/ratings.csv\")\n",
    "str(ratings)\n",
    "\n",
    "max(table(ratings$userId)) # max number of movies rated by a single person\n",
    "min(table(ratings$userId)) # min number of movies rated by a single person\n",
    "\n",
    "max(table(ratings$movieId)) # max number of users who have rated a single movie\n",
    "min(table(ratings$movieId)) # min number of users who have rated a single movie\n",
    "\n",
    "which(table(ratings$movieId)==337)"
   ]
  },
  {
   "cell_type": "code",
   "execution_count": 8,
   "metadata": {},
   "outputs": [
    {
     "data": {
      "text/html": [
       "<table>\n",
       "<thead><tr><th></th><th scope=col>6</th><th scope=col>22</th><th scope=col>32</th><th scope=col>50</th><th scope=col>110</th><th scope=col>164</th><th scope=col>198</th><th scope=col>260</th><th scope=col>296</th><th scope=col>303</th><th scope=col>⋯</th><th scope=col>7213</th><th scope=col>7252</th><th scope=col>7274</th><th scope=col>7275</th><th scope=col>4828</th><th scope=col>92481</th><th scope=col>93855</th><th scope=col>98956</th><th scope=col>3782</th><th scope=col>60189</th></tr></thead>\n",
       "<tbody>\n",
       "\t<tr><th scope=row>1</th><td> 2 </td><td> 3 </td><td> 2 </td><td>5.0</td><td> 4 </td><td> 3 </td><td> 3 </td><td> 5 </td><td> 4 </td><td> 3 </td><td>⋯  </td><td>NA </td><td>NA </td><td>NA </td><td>NA </td><td>NA </td><td>NA </td><td>NA </td><td>NA </td><td>NA </td><td>NA </td></tr>\n",
       "\t<tr><th scope=row>2</th><td>NA </td><td>NA </td><td> 3 </td><td>4.0</td><td>NA </td><td>NA </td><td>NA </td><td>NA </td><td>NA </td><td>NA </td><td>⋯  </td><td>NA </td><td>NA </td><td>NA </td><td>NA </td><td>NA </td><td>NA </td><td>NA </td><td>NA </td><td>NA </td><td>NA </td></tr>\n",
       "\t<tr><th scope=row>3</th><td>NA </td><td>NA </td><td>NA </td><td> NA</td><td> 5 </td><td>NA </td><td>NA </td><td> 5 </td><td>NA </td><td>NA </td><td>⋯  </td><td>NA </td><td>NA </td><td>NA </td><td>NA </td><td>NA </td><td>NA </td><td>NA </td><td>NA </td><td>NA </td><td>NA </td></tr>\n",
       "\t<tr><th scope=row>4</th><td>NA </td><td>NA </td><td>NA </td><td> NA</td><td>NA </td><td>NA </td><td>NA </td><td>NA </td><td>NA </td><td>NA </td><td>⋯  </td><td>NA </td><td>NA </td><td>NA </td><td>NA </td><td>NA </td><td>NA </td><td>NA </td><td>NA </td><td>NA </td><td>NA </td></tr>\n",
       "\t<tr><th scope=row>5</th><td>NA </td><td>NA </td><td>NA </td><td>4.5</td><td>NA </td><td>NA </td><td>NA </td><td>NA </td><td>NA </td><td>NA </td><td>⋯  </td><td>NA </td><td>NA </td><td>NA </td><td>NA </td><td>NA </td><td>NA </td><td>NA </td><td>NA </td><td>NA </td><td>NA </td></tr>\n",
       "\t<tr><th scope=row>6</th><td>NA </td><td>NA </td><td>NA </td><td> NA</td><td>NA </td><td>NA </td><td>NA </td><td>NA </td><td>NA </td><td>NA </td><td>⋯  </td><td>NA </td><td>NA </td><td>NA </td><td>NA </td><td>NA </td><td>NA </td><td>NA </td><td>NA </td><td>NA </td><td>NA </td></tr>\n",
       "</tbody>\n",
       "</table>\n"
      ],
      "text/markdown": [
       "\n",
       "| <!--/--> | 6 | 22 | 32 | 50 | 110 | 164 | 198 | 260 | 296 | 303 | ⋯ | 7213 | 7252 | 7274 | 7275 | 4828 | 92481 | 93855 | 98956 | 3782 | 60189 | \n",
       "|---|---|---|---|---|---|\n",
       "| 1 |  2  |  3  |  2  | 5.0 |  4  |  3  |  3  |  5  |  4  |  3  | ⋯   | NA  | NA  | NA  | NA  | NA  | NA  | NA  | NA  | NA  | NA  | \n",
       "| 2 | NA  | NA  |  3  | 4.0 | NA  | NA  | NA  | NA  | NA  | NA  | ⋯   | NA  | NA  | NA  | NA  | NA  | NA  | NA  | NA  | NA  | NA  | \n",
       "| 3 | NA  | NA  | NA  |  NA |  5  | NA  | NA  |  5  | NA  | NA  | ⋯   | NA  | NA  | NA  | NA  | NA  | NA  | NA  | NA  | NA  | NA  | \n",
       "| 4 | NA  | NA  | NA  |  NA | NA  | NA  | NA  | NA  | NA  | NA  | ⋯   | NA  | NA  | NA  | NA  | NA  | NA  | NA  | NA  | NA  | NA  | \n",
       "| 5 | NA  | NA  | NA  | 4.5 | NA  | NA  | NA  | NA  | NA  | NA  | ⋯   | NA  | NA  | NA  | NA  | NA  | NA  | NA  | NA  | NA  | NA  | \n",
       "| 6 | NA  | NA  | NA  |  NA | NA  | NA  | NA  | NA  | NA  | NA  | ⋯   | NA  | NA  | NA  | NA  | NA  | NA  | NA  | NA  | NA  | NA  | \n",
       "\n",
       "\n"
      ],
      "text/plain": [
       "  6  22 32 50  110 164 198 260 296 303 ⋯ 7213 7252 7274 7275 4828 92481 93855\n",
       "1  2  3  2 5.0  4   3   3   5   4   3  ⋯ NA   NA   NA   NA   NA   NA    NA   \n",
       "2 NA NA  3 4.0 NA  NA  NA  NA  NA  NA  ⋯ NA   NA   NA   NA   NA   NA    NA   \n",
       "3 NA NA NA  NA  5  NA  NA   5  NA  NA  ⋯ NA   NA   NA   NA   NA   NA    NA   \n",
       "4 NA NA NA  NA NA  NA  NA  NA  NA  NA  ⋯ NA   NA   NA   NA   NA   NA    NA   \n",
       "5 NA NA NA 4.5 NA  NA  NA  NA  NA  NA  ⋯ NA   NA   NA   NA   NA   NA    NA   \n",
       "6 NA NA NA  NA NA  NA  NA  NA  NA  NA  ⋯ NA   NA   NA   NA   NA   NA    NA   \n",
       "  98956 3782 60189\n",
       "1 NA    NA   NA   \n",
       "2 NA    NA   NA   \n",
       "3 NA    NA   NA   \n",
       "4 NA    NA   NA   \n",
       "5 NA    NA   NA   \n",
       "6 NA    NA   NA   "
      ]
     },
     "metadata": {},
     "output_type": "display_data"
    },
    {
     "data": {
      "image/png": "[encoded data removed]",
      "text/plain": [
       "Plot with title “Histogram of as.vector(data2)”"
      ]
     },
     "metadata": {},
     "output_type": "display_data"
    }
   ],
   "source": [
    "# create preference matrix to denote which users have rated what movies\n",
    "data2 <- matrix(nrow=length(unique(ratings$userId)), ncol=length(unique(ratings$movieId)))\n",
    "rownames(data2) <- unique(ratings$userId)\n",
    "colnames(data2) <- unique(ratings$movieId)\n",
    "\n",
    "for (i in 1:NROW(ratings)) {\n",
    "    data2[as.character(ratings$userId[i]), as.character(ratings$movieId[i])] <- ratings$rating[i]\n",
    "}\n",
    "head(data2)\n",
    "\n",
    "# plot histogram of user ratings\n",
    "hist(as.vector(data2))"
   ]
  },
  {
   "cell_type": "markdown",
   "metadata": {},
   "source": [
    "We can observe how there are more movies rated a 3 or 4 than movies rated 1 or 2. Hence, we will need to normalise to reduce the inherent bias in the proportion of movvies rated 3 or 4."
   ]
  },
  {
   "cell_type": "code",
   "execution_count": 9,
   "metadata": {},
   "outputs": [
    {
     "data": {
      "image/png": "[encoded data removed]",
      "text/plain": [
       "Plot with title “Histogram of as.vector(data2norm)”"
      ]
     },
     "metadata": {},
     "output_type": "display_data"
    }
   ],
   "source": [
    "data2norm <- data2 - rowMeans(data2, na.rm=T)\n",
    "hist(as.vector(data2norm))"
   ]
  },
  {
   "cell_type": "markdown",
   "metadata": {},
   "source": [
    "Now, setting up our training and test sets"
   ]
  },
  {
   "cell_type": "code",
   "execution_count": 10,
   "metadata": {
    "collapsed": true
   },
   "outputs": [],
   "source": [
    "set.seed(1)\n",
    "# here we are sampling without using `caTools` library\n",
    "\n",
    "# partitioning rows (users)\n",
    "splR <- sample(1:nrow(data2), 0.98*nrow(data2))\n",
    "splRC <- setdiff(1:nrow(data2), splR)\n",
    "\n",
    "# partitioning cols (movies)\n",
    "set.seed(2)\n",
    "splC <- sample(1:ncol(data2), 0.8*ncol(data2))\n",
    "splCC <- setdiff(1:ncol(data2), splC)"
   ]
  },
  {
   "cell_type": "markdown",
   "metadata": {},
   "source": [
    "Create three different prediction approaches and corresponding predicted rating matrices."
   ]
  },
  {
   "cell_type": "code",
   "execution_count": 11,
   "metadata": {
    "collapsed": true
   },
   "outputs": [],
   "source": [
    "# create three different prediction approaches\n",
    "# and corresponding predicted rating matrices\n",
    "UserPred <- matrix(nrow=length(splRC), ncol=length(splCC)) # smallest partioning matrix (lower-right)\n",
    "Base1 <- matrix(nrow=length(splRC), ncol=length(splCC))\n",
    "Base2 <- matrix(nrow=length(splRC), ncol=length(splCC))"
   ]
  },
  {
   "cell_type": "markdown",
   "metadata": {},
   "source": [
    "This computes predicted ratings for the baseline models by averaging out the item rating for all the users in the training set $(splR)$."
   ]
  },
  {
   "cell_type": "code",
   "execution_count": 17,
   "metadata": {
    "collapsed": true
   },
   "outputs": [],
   "source": [
    "## BASELINE MODEL\n",
    "for (i in 1:length(splRC)) {\n",
    "    # fixing users (goal is to find ratings for user i)\n",
    "    Base1[i,] <- colMeans(data2[splR, splCC], na.rm=T)\n",
    "}\n",
    "for (j in 1:length(splCC)) {\n",
    "    # fixing movies (goal is to find ratings for movie j)\n",
    "    Base2[,j] <- rowMeans(data2[splRC, splC], na.rm=T)\n",
    "}"
   ]
  },
  {
   "cell_type": "markdown",
   "metadata": {},
   "source": [
    "This creates an `Order` matrix of dimension $15*691$ where each row corresponds to neighbours of the users in the $splRC$ in decreasing order of the correlation coefficient.\n",
    "\n",
    "The `NA`s increasing that there are some users who have no common ratings of movies with the users."
   ]
  },
  {
   "cell_type": "code",
   "execution_count": 24,
   "metadata": {
    "collapsed": true,
    "scrolled": false
   },
   "outputs": [],
   "source": [
    "## USER-BASED COLLAB FILTERING\n",
    "Cor <- matrix(nrow=length(splR), ncol=1)\n",
    "# `Cor` is a temp var for storing correlation for each user in the RC test-set in the loop below\n",
    "Order <- matrix(nrow=length(splRC), ncol=length(splR))\n",
    "\n",
    "options(warn=-1) # suppress warnings\n",
    "for (i in 1:length(splRC)) {\n",
    "    for (j in 1:length(splR)) {\n",
    "        # compute correlation between user i and j\n",
    "        Cor[j] <- cor(data2[splRC[i], splC],\n",
    "                      data2[splR[j], splC],\n",
    "                      use = \"pairwise.complete.obs\")\n",
    "    \n",
    "    }\n",
    "    # `order()` returns the indices of the vector in sorted order\n",
    "    # thus, we want the index with the highest correlation up top first\n",
    "    v <- order(Cor, decreasing = T, na.last = NA)\n",
    "    Order[i,] <- c(v, rep(NA, times = length(splR) - length(v)))\n",
    "}\n",
    "options(warn=0) # enable warnings"
   ]
  },
  {
   "cell_type": "code",
   "execution_count": 26,
   "metadata": {},
   "outputs": [
    {
     "data": {
      "text/html": [
       "<ol class=list-inline>\n",
       "\t<li>11</li>\n",
       "\t<li>69</li>\n",
       "\t<li>108</li>\n",
       "\t<li>155</li>\n",
       "\t<li>164</li>\n",
       "\t<li>348</li>\n",
       "\t<li>374</li>\n",
       "\t<li>379</li>\n",
       "\t<li>381</li>\n",
       "\t<li>444</li>\n",
       "\t<li>454</li>\n",
       "\t<li>464</li>\n",
       "\t<li>513</li>\n",
       "\t<li>519</li>\n",
       "\t<li>576</li>\n",
       "</ol>\n"
      ],
      "text/latex": [
       "\\begin{enumerate*}\n",
       "\\item 11\n",
       "\\item 69\n",
       "\\item 108\n",
       "\\item 155\n",
       "\\item 164\n",
       "\\item 348\n",
       "\\item 374\n",
       "\\item 379\n",
       "\\item 381\n",
       "\\item 444\n",
       "\\item 454\n",
       "\\item 464\n",
       "\\item 513\n",
       "\\item 519\n",
       "\\item 576\n",
       "\\end{enumerate*}\n"
      ],
      "text/markdown": [
       "1. 11\n",
       "2. 69\n",
       "3. 108\n",
       "4. 155\n",
       "5. 164\n",
       "6. 348\n",
       "7. 374\n",
       "8. 379\n",
       "9. 381\n",
       "10. 444\n",
       "11. 454\n",
       "12. 464\n",
       "13. 513\n",
       "14. 519\n",
       "15. 576\n",
       "\n",
       "\n"
      ],
      "text/plain": [
       " [1]  11  69 108 155 164 348 374 379 381 444 454 464 513 519 576"
      ]
     },
     "metadata": {},
     "output_type": "display_data"
    },
    {
     "data": {
      "text/html": [
       "<ol class=list-inline>\n",
       "\t<li>15</li>\n",
       "\t<li>691</li>\n",
       "</ol>\n"
      ],
      "text/latex": [
       "\\begin{enumerate*}\n",
       "\\item 15\n",
       "\\item 691\n",
       "\\end{enumerate*}\n"
      ],
      "text/markdown": [
       "1. 15\n",
       "2. 691\n",
       "\n",
       "\n"
      ],
      "text/plain": [
       "[1]  15 691"
      ]
     },
     "metadata": {},
     "output_type": "display_data"
    }
   ],
   "source": [
    "# look at the ordering of the user ID's with the largest correlation with user #1, in decreasing order\n",
    "Order[1,1:15]\n",
    "# 11 69 108 155 164 348 374 379 381 444 454 464 513 519 576\n",
    "\n",
    "dim(Order) # should be 15 x 691"
   ]
  },
  {
   "cell_type": "code",
   "execution_count": 14,
   "metadata": {},
   "outputs": [
    {
     "data": {
      "text/html": [
       "0.89855670979697"
      ],
      "text/latex": [
       "0.89855670979697"
      ],
      "text/markdown": [
       "0.89855670979697"
      ],
      "text/plain": [
       "[1] 0.8985567"
      ]
     },
     "metadata": {},
     "output_type": "display_data"
    },
    {
     "data": {
      "text/html": [
       "0.931029570020264"
      ],
      "text/latex": [
       "0.931029570020264"
      ],
      "text/markdown": [
       "0.931029570020264"
      ],
      "text/plain": [
       "[1] 0.9310296"
      ]
     },
     "metadata": {},
     "output_type": "display_data"
    },
    {
     "data": {
      "text/html": [
       "0.99533769837973"
      ],
      "text/latex": [
       "0.99533769837973"
      ],
      "text/markdown": [
       "0.99533769837973"
      ],
      "text/plain": [
       "[1] 0.9953377"
      ]
     },
     "metadata": {},
     "output_type": "display_data"
    }
   ],
   "source": [
    "# computes prediction of 250 nearest neightbours and averaging equally over all these user ratings in the movies\n",
    "# in `splCC`\n",
    "for(i in 1:length(splRC)) {\n",
    "    UserPred[i,] <- colMeans(data2[splR[Order[i, 1:250]], splCC], na.rm=T)\n",
    "}\n",
    "\n",
    "# compute error rate for `UserPred`\n",
    "RMSEUserPred <- sqrt(mean((data2[splRC, splCC]-UserPred)^2, na.rm = T))\n",
    "RMSEUserPred\n",
    "\n",
    "# compute error rate for `Base1`\n",
    "RMSEBase1 <- sqrt(mean((data2[splRC, splCC]-Base1)^2, na.rm = T))\n",
    "RMSEBase1\n",
    "\n",
    "# compute error rate for `Base2`\n",
    "RMSEBase2 <- sqrt(mean((data2[splRC, splCC]-Base2)^2, na.rm = T))\n",
    "RMSEBase2"
   ]
  }
 ],
 "metadata": {
  "kernelspec": {
   "display_name": "R",
   "language": "R",
   "name": "ir"
  },
  "language_info": {
   "codemirror_mode": "r",
   "file_extension": ".r",
   "mimetype": "text/x-r-source",
   "name": "R",
   "pygments_lexer": "r",
   "version": "3.4.0"
  }
 },
 "nbformat": 4,
 "nbformat_minor": 2
}
