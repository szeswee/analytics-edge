{
 "cells": [
  {
   "cell_type": "markdown",
   "metadata": {},
   "source": [
    "Today, our goal is to predict the likelihood of someone winning the Oscars each year, based on various dependent variables, as accurately as possible. There are tremedous consquences of winning an Oscars, be it future earnings or fame. For our analysis, only Best Picture, Best Director, Best Leading Actor, Best Leading Actress awards are considered.\n",
    "\n",
    "Here, we will consider an approach based on discrete choice models. Given that we have multiple nominees, the binary choice logistic model that we've considered in the previous week is inadequate; need to use a multinomial choice logisitic model."
   ]
  },
  {
   "cell_type": "code",
   "execution_count": 1,
   "metadata": {},
   "outputs": [
    {
     "name": "stdout",
     "output_type": "stream",
     "text": [
      "'data.frame':\t1140 obs. of  32 variables:\n",
      " $ Year  : int  2007 2007 2007 2007 2007 2007 2007 2007 2007 2007 ...\n",
      " $ Name  : Factor w/ 715 levels \"Abraham\",\"Accidental\",..: 30 346 122 144 61 576 538 259 130 17 ...\n",
      " $ PP    : int  1 1 1 1 1 0 0 0 0 0 ...\n",
      " $ DD    : int  0 0 0 0 0 1 1 1 1 1 ...\n",
      " $ MM    : int  0 0 0 0 0 0 0 0 0 0 ...\n",
      " $ FF    : int  0 0 0 0 0 0 0 0 0 0 ...\n",
      " $ Mode  : int  1 2 3 4 5 1 2 3 4 5 ...\n",
      " $ Ch    : num  0 0 0 1 0 0 0 0 1 0 ...\n",
      " $ Movie : Factor w/ 597 levels \"Absence\",\"Accidental\",..: 37 281 111 127 54 155 281 111 127 54 ...\n",
      " $ Nom   : int  7 4 7 8 8 1 4 7 8 8 ...\n",
      " $ Pic   : int  1 1 1 1 1 0 1 1 1 1 ...\n",
      " $ Dir   : int  0 1 1 1 1 1 1 1 1 1 ...\n",
      " $ Aml   : int  0 0 1 0 1 0 0 1 0 1 ...\n",
      " $ Afl   : int  0 1 0 0 0 0 1 0 0 0 ...\n",
      " $ PrN   : int  0 0 0 0 0 0 0 0 1 0 ...\n",
      " $ PrW   : int  0 0 0 0 0 0 0 0 0 0 ...\n",
      " $ PrNl  : int  0 0 0 0 0 0 0 0 0 0 ...\n",
      " $ PrWl  : int  0 0 0 0 0 0 0 0 0 0 ...\n",
      " $ Gdr   : int  1 0 0 0 0 0 0 0 0 0 ...\n",
      " $ Gmc   : int  0 0 0 0 0 0 0 0 0 0 ...\n",
      " $ Gd    : int  0 0 0 0 0 1 0 0 0 0 ...\n",
      " $ Gm1   : int  0 0 0 0 0 0 0 0 0 0 ...\n",
      " $ Gm2   : int  0 0 0 0 0 0 0 0 0 0 ...\n",
      " $ Gf1   : int  0 0 0 0 0 0 0 0 0 0 ...\n",
      " $ Gf2   : int  0 0 0 0 0 0 0 0 0 0 ...\n",
      " $ PGA   : int  0 0 0 1 0 0 0 0 0 0 ...\n",
      " $ DGA   : int  0 0 0 0 0 0 0 0 1 0 ...\n",
      " $ SAM   : int  0 0 0 0 0 0 0 0 0 0 ...\n",
      " $ SAF   : int  0 0 0 0 0 0 0 0 0 0 ...\n",
      " $ Age   : int  0 0 0 0 0 0 0 0 0 0 ...\n",
      " $ Length: int  130 96 119 122 158 0 0 0 0 0 ...\n",
      " $ Days  : int  51 61 135 95 44 0 0 0 0 0 ...\n"
     ]
    },
    {
     "data": {
      "text/html": [
       "<table>\n",
       "<thead><tr><th scope=col>Year</th><th scope=col>Name</th><th scope=col>PP</th><th scope=col>DD</th><th scope=col>MM</th><th scope=col>FF</th><th scope=col>Mode</th><th scope=col>Ch</th><th scope=col>Movie</th><th scope=col>Nom</th><th scope=col>⋯</th><th scope=col>Gm2</th><th scope=col>Gf1</th><th scope=col>Gf2</th><th scope=col>PGA</th><th scope=col>DGA</th><th scope=col>SAM</th><th scope=col>SAF</th><th scope=col>Age</th><th scope=col>Length</th><th scope=col>Days</th></tr></thead>\n",
       "<tbody>\n",
       "\t<tr><td>2007     </td><td>Atonement</td><td>1        </td><td>0        </td><td>0        </td><td>0        </td><td>1        </td><td>0        </td><td>Atonement</td><td>7        </td><td>⋯        </td><td>0        </td><td>0        </td><td>0        </td><td>0        </td><td>0        </td><td>0        </td><td>0        </td><td>0        </td><td>130      </td><td> 51      </td></tr>\n",
       "\t<tr><td>2007     </td><td>Juno     </td><td>1        </td><td>0        </td><td>0        </td><td>0        </td><td>2        </td><td>0        </td><td>Juno     </td><td>4        </td><td>⋯        </td><td>0        </td><td>0        </td><td>0        </td><td>0        </td><td>0        </td><td>0        </td><td>0        </td><td>0        </td><td> 96      </td><td> 61      </td></tr>\n",
       "\t<tr><td>2007     </td><td>Clayton  </td><td>1        </td><td>0        </td><td>0        </td><td>0        </td><td>3        </td><td>0        </td><td>Clayton  </td><td>7        </td><td>⋯        </td><td>0        </td><td>0        </td><td>0        </td><td>0        </td><td>0        </td><td>0        </td><td>0        </td><td>0        </td><td>119      </td><td>135      </td></tr>\n",
       "\t<tr><td>2007     </td><td>Country  </td><td>1        </td><td>0        </td><td>0        </td><td>0        </td><td>4        </td><td>1        </td><td>Country  </td><td>8        </td><td>⋯        </td><td>0        </td><td>0        </td><td>0        </td><td>1        </td><td>0        </td><td>0        </td><td>0        </td><td>0        </td><td>122      </td><td> 95      </td></tr>\n",
       "\t<tr><td>2007     </td><td>Blood    </td><td>1        </td><td>0        </td><td>0        </td><td>0        </td><td>5        </td><td>0        </td><td>Blood    </td><td>8        </td><td>⋯        </td><td>0        </td><td>0        </td><td>0        </td><td>0        </td><td>0        </td><td>0        </td><td>0        </td><td>0        </td><td>158      </td><td> 44      </td></tr>\n",
       "\t<tr><td>2007     </td><td>Schnabel </td><td>0        </td><td>1        </td><td>0        </td><td>0        </td><td>1        </td><td>0        </td><td>Diving   </td><td>1        </td><td>⋯        </td><td>0        </td><td>0        </td><td>0        </td><td>0        </td><td>0        </td><td>0        </td><td>0        </td><td>0        </td><td>  0      </td><td>  0      </td></tr>\n",
       "</tbody>\n",
       "</table>\n"
      ],
      "text/latex": [
       "\\begin{tabular}{r|llllllllllllllllllllllllllllllll}\n",
       " Year & Name & PP & DD & MM & FF & Mode & Ch & Movie & Nom & ⋯ & Gm2 & Gf1 & Gf2 & PGA & DGA & SAM & SAF & Age & Length & Days\\\\\n",
       "\\hline\n",
       "\t 2007      & Atonement & 1         & 0         & 0         & 0         & 1         & 0         & Atonement & 7         & ⋯         & 0         & 0         & 0         & 0         & 0         & 0         & 0         & 0         & 130       &  51      \\\\\n",
       "\t 2007      & Juno      & 1         & 0         & 0         & 0         & 2         & 0         & Juno      & 4         & ⋯         & 0         & 0         & 0         & 0         & 0         & 0         & 0         & 0         &  96       &  61      \\\\\n",
       "\t 2007      & Clayton   & 1         & 0         & 0         & 0         & 3         & 0         & Clayton   & 7         & ⋯         & 0         & 0         & 0         & 0         & 0         & 0         & 0         & 0         & 119       & 135      \\\\\n",
       "\t 2007      & Country   & 1         & 0         & 0         & 0         & 4         & 1         & Country   & 8         & ⋯         & 0         & 0         & 0         & 1         & 0         & 0         & 0         & 0         & 122       &  95      \\\\\n",
       "\t 2007      & Blood     & 1         & 0         & 0         & 0         & 5         & 0         & Blood     & 8         & ⋯         & 0         & 0         & 0         & 0         & 0         & 0         & 0         & 0         & 158       &  44      \\\\\n",
       "\t 2007      & Schnabel  & 0         & 1         & 0         & 0         & 1         & 0         & Diving    & 1         & ⋯         & 0         & 0         & 0         & 0         & 0         & 0         & 0         & 0         &   0       &   0      \\\\\n",
       "\\end{tabular}\n"
      ],
      "text/markdown": [
       "\n",
       "Year | Name | PP | DD | MM | FF | Mode | Ch | Movie | Nom | ⋯ | Gm2 | Gf1 | Gf2 | PGA | DGA | SAM | SAF | Age | Length | Days | \n",
       "|---|---|---|---|---|---|\n",
       "| 2007      | Atonement | 1         | 0         | 0         | 0         | 1         | 0         | Atonement | 7         | ⋯         | 0         | 0         | 0         | 0         | 0         | 0         | 0         | 0         | 130       |  51       | \n",
       "| 2007      | Juno      | 1         | 0         | 0         | 0         | 2         | 0         | Juno      | 4         | ⋯         | 0         | 0         | 0         | 0         | 0         | 0         | 0         | 0         |  96       |  61       | \n",
       "| 2007      | Clayton   | 1         | 0         | 0         | 0         | 3         | 0         | Clayton   | 7         | ⋯         | 0         | 0         | 0         | 0         | 0         | 0         | 0         | 0         | 119       | 135       | \n",
       "| 2007      | Country   | 1         | 0         | 0         | 0         | 4         | 1         | Country   | 8         | ⋯         | 0         | 0         | 0         | 1         | 0         | 0         | 0         | 0         | 122       |  95       | \n",
       "| 2007      | Blood     | 1         | 0         | 0         | 0         | 5         | 0         | Blood     | 8         | ⋯         | 0         | 0         | 0         | 0         | 0         | 0         | 0         | 0         | 158       |  44       | \n",
       "| 2007      | Schnabel  | 0         | 1         | 0         | 0         | 1         | 0         | Diving    | 1         | ⋯         | 0         | 0         | 0         | 0         | 0         | 0         | 0         | 0         |   0       |   0       | \n",
       "\n",
       "\n"
      ],
      "text/plain": [
       "  Year Name      PP DD MM FF Mode Ch Movie     Nom ⋯ Gm2 Gf1 Gf2 PGA DGA SAM\n",
       "1 2007 Atonement 1  0  0  0  1    0  Atonement 7   ⋯ 0   0   0   0   0   0  \n",
       "2 2007 Juno      1  0  0  0  2    0  Juno      4   ⋯ 0   0   0   0   0   0  \n",
       "3 2007 Clayton   1  0  0  0  3    0  Clayton   7   ⋯ 0   0   0   0   0   0  \n",
       "4 2007 Country   1  0  0  0  4    1  Country   8   ⋯ 0   0   0   1   0   0  \n",
       "5 2007 Blood     1  0  0  0  5    0  Blood     8   ⋯ 0   0   0   0   0   0  \n",
       "6 2007 Schnabel  0  1  0  0  1    0  Diving    1   ⋯ 0   0   0   0   0   0  \n",
       "  SAF Age Length Days\n",
       "1 0   0   130     51 \n",
       "2 0   0    96     61 \n",
       "3 0   0   119    135 \n",
       "4 0   0   122     95 \n",
       "5 0   0   158     44 \n",
       "6 0   0     0      0 "
      ]
     },
     "metadata": {},
     "output_type": "display_data"
    }
   ],
   "source": [
    "oscars <- read.csv(\"csv/oscars.csv\")\n",
    "\n",
    "# normalise Ch variable to {0,1} range\n",
    "oscars$Ch <- 2 - oscars$Ch\n",
    "str(oscars)\n",
    "head(oscars)"
   ]
  },
  {
   "cell_type": "code",
   "execution_count": 2,
   "metadata": {},
   "outputs": [
    {
     "data": {
      "text/html": [
       "<dl class=dl-horizontal>\n",
       "\t<dt>0</dt>\n",
       "\t\t<dd>6.78070175438596</dd>\n",
       "\t<dt>1</dt>\n",
       "\t\t<dd>9.52631578947368</dd>\n",
       "</dl>\n"
      ],
      "text/plain": [
       "       0        1 \n",
       "6.780702 9.526316 "
      ]
     },
     "metadata": {},
     "output_type": "display_data"
    },
    {
     "data": {
      "text/html": [
       "<dl class=dl-horizontal>\n",
       "\t<dt>0</dt>\n",
       "\t\t<dd>5.26447175206739</dd>\n",
       "\t<dt>1</dt>\n",
       "\t\t<dd>5.07518796992481</dd>\n",
       "</dl>\n"
      ],
      "text/plain": [
       "       0        1 \n",
       "5.264472 5.075188 "
      ]
     },
     "metadata": {},
     "output_type": "display_data"
    }
   ],
   "source": [
    "# a naive calculation of how many nominees winners and non-winners get\n",
    "tapply(oscars$Nom[oscars$PP==1], oscars$Ch[oscars$PP==1], mean)\n",
    "\n",
    "# however, note that comparing the mean itself is insufficient as their variances may differ so wildly...\n",
    "# ...that it may not be statistically sound that most movies with higher nominees will likely win.\n",
    "tapply(oscars$Nom[oscars$PP==1], oscars$Ch[oscars$PP==1], var)"
   ]
  },
  {
   "cell_type": "markdown",
   "metadata": {},
   "source": [
    "Using a naive T-test now, to check the significance"
   ]
  },
  {
   "cell_type": "code",
   "execution_count": 3,
   "metadata": {},
   "outputs": [
    {
     "data": {
      "text/plain": [
       "\n",
       "\tWelch Two Sample t-test\n",
       "\n",
       "data:  oscars$Nom[oscars$PP == 1 & oscars$Ch == 1] and oscars$Nom[oscars$PP == 1 & oscars$Ch == 0]\n",
       "t = 8.1994, df = 87.361, p-value = 9.479e-13\n",
       "alternative hypothesis: true difference in means is greater than 0\n",
       "95 percent confidence interval:\n",
       " 2.188922      Inf\n",
       "sample estimates:\n",
       "mean of x mean of y \n",
       " 9.526316  6.780702 \n"
      ]
     },
     "metadata": {},
     "output_type": "display_data"
    }
   ],
   "source": [
    "t.test(oscars$Nom[oscars$PP==1 & oscars$Ch==1],\n",
    "       oscars$Nom[oscars$PP==1 & oscars$Ch==0],\n",
    "       alternative=\"greater\")"
   ]
  },
  {
   "cell_type": "code",
   "execution_count": 4,
   "metadata": {},
   "outputs": [
    {
     "data": {
      "text/plain": [
       "\n",
       " 0  1 \n",
       " 1 56 "
      ]
     },
     "metadata": {},
     "output_type": "display_data"
    },
    {
     "data": {
      "text/html": [
       "362"
      ],
      "text/latex": [
       "362"
      ],
      "text/markdown": [
       "362"
      ],
      "text/plain": [
       "[1] 362"
      ]
     },
     "metadata": {},
     "output_type": "display_data"
    },
    {
     "data": {
      "text/html": [
       "<table>\n",
       "<thead><tr><th></th><th scope=col>Year</th><th scope=col>Name</th><th scope=col>PP</th><th scope=col>DD</th><th scope=col>MM</th><th scope=col>FF</th><th scope=col>Mode</th><th scope=col>Ch</th><th scope=col>Movie</th><th scope=col>Nom</th><th scope=col>⋯</th><th scope=col>Gm2</th><th scope=col>Gf1</th><th scope=col>Gf2</th><th scope=col>PGA</th><th scope=col>DGA</th><th scope=col>SAM</th><th scope=col>SAF</th><th scope=col>Age</th><th scope=col>Length</th><th scope=col>Days</th></tr></thead>\n",
       "<tbody>\n",
       "\t<tr><th scope=row>362</th><td>1989   </td><td>Driving</td><td>1      </td><td>0      </td><td>0      </td><td>0      </td><td>2      </td><td>1      </td><td>Driving</td><td>9      </td><td>⋯      </td><td>0      </td><td>0      </td><td>0      </td><td>1      </td><td>0      </td><td>0      </td><td>0      </td><td>0      </td><td>99     </td><td>59     </td></tr>\n",
       "</tbody>\n",
       "</table>\n"
      ],
      "text/latex": [
       "\\begin{tabular}{r|llllllllllllllllllllllllllllllll}\n",
       "  & Year & Name & PP & DD & MM & FF & Mode & Ch & Movie & Nom & ⋯ & Gm2 & Gf1 & Gf2 & PGA & DGA & SAM & SAF & Age & Length & Days\\\\\n",
       "\\hline\n",
       "\t362 & 1989    & Driving & 1       & 0       & 0       & 0       & 2       & 1       & Driving & 9       & ⋯       & 0       & 0       & 0       & 1       & 0       & 0       & 0       & 0       & 99      & 59     \\\\\n",
       "\\end{tabular}\n"
      ],
      "text/markdown": [
       "\n",
       "| <!--/--> | Year | Name | PP | DD | MM | FF | Mode | Ch | Movie | Nom | ⋯ | Gm2 | Gf1 | Gf2 | PGA | DGA | SAM | SAF | Age | Length | Days | \n",
       "|---|\n",
       "| 362 | 1989    | Driving | 1       | 0       | 0       | 0       | 2       | 1       | Driving | 9       | ⋯       | 0       | 0       | 0       | 1       | 0       | 0       | 0       | 0       | 99      | 59      | \n",
       "\n",
       "\n"
      ],
      "text/plain": [
       "    Year Name    PP DD MM FF Mode Ch Movie   Nom ⋯ Gm2 Gf1 Gf2 PGA DGA SAM SAF\n",
       "362 1989 Driving 1  0  0  0  2    1  Driving 9   ⋯ 0   0   0   1   0   0   0  \n",
       "    Age Length Days\n",
       "362 0   99     59  "
      ]
     },
     "metadata": {},
     "output_type": "display_data"
    }
   ],
   "source": [
    "# we wish to find out if  Best Picture winners also receive nominations for Best Director\n",
    "table(oscars$Dir[oscars$PP==1 & oscars$Ch==1])\n",
    "\n",
    "# what is the sole movie that won despite not having a Best Director nomination?\n",
    "which(oscars$Dir==0 & oscars$PP==1 & oscars$Ch==1)\n",
    "oscars[362,]"
   ]
  },
  {
   "cell_type": "markdown",
   "metadata": {},
   "source": [
    "Do *Best Actor* and *Best Actress* winners also have nominations for movies in the *Best Picture* category?"
   ]
  },
  {
   "cell_type": "code",
   "execution_count": 5,
   "metadata": {},
   "outputs": [
    {
     "data": {
      "text/plain": [
       "\n",
       " 0  1 \n",
       "14 43 "
      ]
     },
     "metadata": {},
     "output_type": "display_data"
    },
    {
     "data": {
      "text/plain": [
       "\n",
       " 0  1 \n",
       "23 35 "
      ]
     },
     "metadata": {},
     "output_type": "display_data"
    }
   ],
   "source": [
    "# best actor\n",
    "table(oscars$Pic[oscars$MM==1 & oscars$Ch==1])\n",
    "\n",
    "# best actress\n",
    "table(oscars$Pic[oscars$FF==1 & oscars$Ch==1])"
   ]
  },
  {
   "cell_type": "markdown",
   "metadata": {},
   "source": [
    "Surprisingly, there is one extra winner in the *Best Actress* category. We can see that in 1968 there are two award winners for *Best Actress*."
   ]
  },
  {
   "cell_type": "code",
   "execution_count": 6,
   "metadata": {},
   "outputs": [
    {
     "data": {
      "text/html": [
       "<table>\n",
       "<thead><tr><th></th><th scope=col>Year</th><th scope=col>Name</th><th scope=col>PP</th><th scope=col>DD</th><th scope=col>MM</th><th scope=col>FF</th><th scope=col>Mode</th><th scope=col>Ch</th><th scope=col>Movie</th><th scope=col>Nom</th><th scope=col>⋯</th><th scope=col>Gm2</th><th scope=col>Gf1</th><th scope=col>Gf2</th><th scope=col>PGA</th><th scope=col>DGA</th><th scope=col>SAM</th><th scope=col>SAF</th><th scope=col>Age</th><th scope=col>Length</th><th scope=col>Days</th></tr></thead>\n",
       "<tbody>\n",
       "\t<tr><th scope=row>796</th><td>1968     </td><td>HepburnK </td><td>0        </td><td>0        </td><td>0        </td><td>1        </td><td>1        </td><td>1        </td><td>Lion     </td><td>7        </td><td>⋯        </td><td>0        </td><td>0        </td><td>0        </td><td>0        </td><td>0        </td><td>0        </td><td>0        </td><td>61       </td><td>0        </td><td>0        </td></tr>\n",
       "\t<tr><th scope=row>799</th><td>1968     </td><td>Streisand</td><td>0        </td><td>0        </td><td>0        </td><td>1        </td><td>4        </td><td>1        </td><td>Funny    </td><td>8        </td><td>⋯        </td><td>0        </td><td>0        </td><td>1        </td><td>0        </td><td>0        </td><td>0        </td><td>0        </td><td>26       </td><td>0        </td><td>0        </td></tr>\n",
       "</tbody>\n",
       "</table>\n"
      ],
      "text/latex": [
       "\\begin{tabular}{r|llllllllllllllllllllllllllllllll}\n",
       "  & Year & Name & PP & DD & MM & FF & Mode & Ch & Movie & Nom & ⋯ & Gm2 & Gf1 & Gf2 & PGA & DGA & SAM & SAF & Age & Length & Days\\\\\n",
       "\\hline\n",
       "\t796 & 1968      & HepburnK  & 0         & 0         & 0         & 1         & 1         & 1         & Lion      & 7         & ⋯         & 0         & 0         & 0         & 0         & 0         & 0         & 0         & 61        & 0         & 0        \\\\\n",
       "\t799 & 1968      & Streisand & 0         & 0         & 0         & 1         & 4         & 1         & Funny     & 8         & ⋯         & 0         & 0         & 1         & 0         & 0         & 0         & 0         & 26        & 0         & 0        \\\\\n",
       "\\end{tabular}\n"
      ],
      "text/markdown": [
       "\n",
       "| <!--/--> | Year | Name | PP | DD | MM | FF | Mode | Ch | Movie | Nom | ⋯ | Gm2 | Gf1 | Gf2 | PGA | DGA | SAM | SAF | Age | Length | Days | \n",
       "|---|---|\n",
       "| 796 | 1968      | HepburnK  | 0         | 0         | 0         | 1         | 1         | 1         | Lion      | 7         | ⋯         | 0         | 0         | 0         | 0         | 0         | 0         | 0         | 61        | 0         | 0         | \n",
       "| 799 | 1968      | Streisand | 0         | 0         | 0         | 1         | 4         | 1         | Funny     | 8         | ⋯         | 0         | 0         | 1         | 0         | 0         | 0         | 0         | 26        | 0         | 0         | \n",
       "\n",
       "\n"
      ],
      "text/plain": [
       "    Year Name      PP DD MM FF Mode Ch Movie Nom ⋯ Gm2 Gf1 Gf2 PGA DGA SAM SAF\n",
       "796 1968 HepburnK  0  0  0  1  1    1  Lion  7   ⋯ 0   0   0   0   0   0   0  \n",
       "799 1968 Streisand 0  0  0  1  4    1  Funny 8   ⋯ 0   0   1   0   0   0   0  \n",
       "    Age Length Days\n",
       "796 61  0      0   \n",
       "799 26  0      0   "
      ]
     },
     "metadata": {},
     "output_type": "display_data"
    }
   ],
   "source": [
    "subset(oscars, Year==1968 & FF==1 & Ch==1)"
   ]
  },
  {
   "cell_type": "markdown",
   "metadata": {},
   "source": [
    "Do Golden Globe awards help predict the Oscars?"
   ]
  },
  {
   "cell_type": "code",
   "execution_count": 7,
   "metadata": {},
   "outputs": [
    {
     "data": {
      "text/plain": [
       "\n",
       "   0    1 \n",
       "1051   89 "
      ]
     },
     "metadata": {},
     "output_type": "display_data"
    },
    {
     "data": {
      "text/plain": [
       "\n",
       " 0  1 \n",
       "18 39 "
      ]
     },
     "metadata": {},
     "output_type": "display_data"
    },
    {
     "data": {
      "text/plain": [
       "\n",
       " 0  1 \n",
       "26 31 "
      ]
     },
     "metadata": {},
     "output_type": "display_data"
    }
   ],
   "source": [
    "oscars$G <- oscars$Gdr+oscars$Gmc\n",
    "\n",
    "# all entries in dataframe\n",
    "table(oscars$G)\n",
    "\n",
    "# oscars Best Picture awardees and Golden Globe awardees\n",
    "table(oscars$G[oscars$PP==1 & oscars$Ch==1])\n",
    "\n",
    "# Oscars Best Director & Golden Globe awardees\n",
    "table(oscars$Gd[oscars$DD==1 & oscars$Ch==1])"
   ]
  },
  {
   "cell_type": "markdown",
   "metadata": {},
   "source": [
    "What is the effect of having won awards in the previous years for Oscars to winning in a current year?"
   ]
  },
  {
   "cell_type": "code",
   "execution_count": 8,
   "metadata": {},
   "outputs": [
    {
     "data": {
      "text/plain": [
       "   \n",
       "      0   1\n",
       "  0 111  27\n",
       "  1  43  14\n",
       "  2  29   3\n",
       "  3  11   6\n",
       "  4  14   3\n",
       "  5   7   2\n",
       "  6   6   2\n",
       "  7   5   0\n",
       "  8   2   0"
      ]
     },
     "metadata": {},
     "output_type": "display_data"
    }
   ],
   "source": [
    "table(oscars$PrNl[oscars$MM==1],\n",
    "      oscars$Ch[oscars$MM==1])"
   ]
  },
  {
   "cell_type": "markdown",
   "metadata": {},
   "source": [
    "- $i \\in \\{1,2,...,57\\}$ (no. of observations, in this context is no. of years)\n",
    "- $k \\in \\{1,2,...,5\\}$ (no. of choices for the winner)\n",
    "\n",
    "To build a new model with multiple alternatives for the dependent variable, let us consider the following. Given $k \\in \\{1,2,...,k\\}$ choices (alternatives) and $i \\in \\{1,2,...,n\\}$ consumers (observations), we can compute the utility of each consumer(observation) $i$ for each alternative $k$ as follows:\n",
    "\n",
    "$$\\large U_{ik} = \\beta' x_{ik}+\\epsilon_{ik}$$\n",
    "\n",
    "$$\\large P(Y_i=k)=P(\\large U_{ik} \\geq \\large U_{il}, \\:\\forall \\:l \\neq k)$$\n",
    "\n",
    "Assuming that all $\\epsilon_{ik}$ are independent and identically disributed with **Gumbel (Type I extreme value) dsitribution**, it can be shown that ([McFadden 1974](https://eml.berkeley.edu/reprints/mcfadden/zarembka.pdf)):\n",
    "\n",
    "$$\\large P(Y_i=j)=\\frac{e^{\\beta' x_{ij}}} {\\sum_{l=1}^k e^{\\beta' x_{il}}}$$\n",
    "\n",
    "This model is known as the conditional logit model (also referred to as the **multinomial logit model**). However, when it comes to going from eqn (1) to the multinomial logit model, there is no clear answer, merely that the one discovered and most widely used best approximates the actual relationship between the dependent variables and whether the movie wins or not.\n",
    "\n",
    "There are other alternative functions, but they do not guarantee convergence to global optimality.\n",
    "\n",
    "The equation for logit model holds when: $$\\large F(\\epsilon_{ik})=e^{-e^{-\\epsilon_{ik}}}$$\n",
    "\n",
    "ASC is analogous to $\\beta_0$ offset (intercept) values. Including them may lead to a better fit, but depending on the context, not including it may make more intuitive sense and prevent overfitting. In the context of travel mode choice models, where the alternatives are between **Car** and **Public Transport**, it makes sense for us to consider perhaps **Car** as having an intrinsic advantage over **Public Transport** when compared across all observations and include ASC. In the context of Oscars award prediction, comparing between nominees that will be different movies every year doesn't make sense, hence we would not be able to say that there is definitely an ASCC across different years(observations).\n",
    "\n",
    "**Independence of Irrelevant Alternatives**: IIA says that if one adds an additional alternative C, it should not alter the preference of choice A over choice B. One method of overcoming IIA may be to use nested logit models. (car v. bus) --> (red bus v. blue bus)\n",
    "\n",
    "**Testing fit quality**\n",
    "- $AIC=-2LL+2(p+1)$, where $p=$ number of parameters\n",
    "- Likelihood ratio index (McFadden index): $\\rho = 1 - \\frac{LL(\\hat{\\beta})}{LL(0)}$ (recall that the lower the log likelihood, the ccloser to zero, the better). Also, the $LL(0)$ will be merely $\\frac{1}{\\#\\:alternatives}$, which is both mathematically true and intuitive. hence, if $\\rho=0$, the model doesnt perform better than the baseline random model\n",
    "- Percent correctly predicted (cross-classification?)"
   ]
  },
  {
   "cell_type": "code",
   "execution_count": 8,
   "metadata": {
    "scrolled": false
   },
   "outputs": [
    {
     "data": {
      "text/html": [
       "<table>\n",
       "<thead><tr><th></th><th scope=col>Year</th><th scope=col>Name</th><th scope=col>PP</th><th scope=col>DD</th><th scope=col>MM</th><th scope=col>FF</th><th scope=col>Mode</th><th scope=col>Ch</th><th scope=col>Movie</th><th scope=col>Nom</th><th scope=col>⋯</th><th scope=col>Gm2</th><th scope=col>Gf1</th><th scope=col>Gf2</th><th scope=col>PGA</th><th scope=col>DGA</th><th scope=col>SAM</th><th scope=col>SAF</th><th scope=col>Age</th><th scope=col>Length</th><th scope=col>Days</th></tr></thead>\n",
       "<tbody>\n",
       "\t<tr><th scope=row>1</th><td>2007      </td><td>Atonement </td><td>1         </td><td>0         </td><td>0         </td><td>0         </td><td>1         </td><td>0         </td><td>Atonement </td><td> 7        </td><td>⋯         </td><td>0         </td><td>0         </td><td>0         </td><td>0         </td><td>0         </td><td>0         </td><td>0         </td><td>0         </td><td>130       </td><td> 51       </td></tr>\n",
       "\t<tr><th scope=row>2</th><td>2007      </td><td>Juno      </td><td>1         </td><td>0         </td><td>0         </td><td>0         </td><td>2         </td><td>0         </td><td>Juno      </td><td> 4        </td><td>⋯         </td><td>0         </td><td>0         </td><td>0         </td><td>0         </td><td>0         </td><td>0         </td><td>0         </td><td>0         </td><td> 96       </td><td> 61       </td></tr>\n",
       "\t<tr><th scope=row>3</th><td>2007      </td><td>Clayton   </td><td>1         </td><td>0         </td><td>0         </td><td>0         </td><td>3         </td><td>0         </td><td>Clayton   </td><td> 7        </td><td>⋯         </td><td>0         </td><td>0         </td><td>0         </td><td>0         </td><td>0         </td><td>0         </td><td>0         </td><td>0         </td><td>119       </td><td>135       </td></tr>\n",
       "\t<tr><th scope=row>4</th><td>2007      </td><td>Country   </td><td>1         </td><td>0         </td><td>0         </td><td>0         </td><td>4         </td><td>1         </td><td>Country   </td><td> 8        </td><td>⋯         </td><td>0         </td><td>0         </td><td>0         </td><td>1         </td><td>0         </td><td>0         </td><td>0         </td><td>0         </td><td>122       </td><td> 95       </td></tr>\n",
       "\t<tr><th scope=row>5</th><td>2007      </td><td>Blood     </td><td>1         </td><td>0         </td><td>0         </td><td>0         </td><td>5         </td><td>0         </td><td>Blood     </td><td> 8        </td><td>⋯         </td><td>0         </td><td>0         </td><td>0         </td><td>0         </td><td>0         </td><td>0         </td><td>0         </td><td>0         </td><td>158       </td><td> 44       </td></tr>\n",
       "\t<tr><th scope=row>21</th><td>2006      </td><td>Babel     </td><td>1         </td><td>0         </td><td>0         </td><td>0         </td><td>1         </td><td>0         </td><td>Babel     </td><td> 7        </td><td>⋯         </td><td>0         </td><td>0         </td><td>0         </td><td>0         </td><td>0         </td><td>0         </td><td>0         </td><td>0         </td><td>142       </td><td>121       </td></tr>\n",
       "\t<tr><th scope=row>22</th><td>2006      </td><td>Departed  </td><td>1         </td><td>0         </td><td>0         </td><td>0         </td><td>2         </td><td>1         </td><td>Departed  </td><td> 5        </td><td>⋯         </td><td>0         </td><td>0         </td><td>0         </td><td>0         </td><td>0         </td><td>0         </td><td>0         </td><td>0         </td><td>151       </td><td>142       </td></tr>\n",
       "\t<tr><th scope=row>23</th><td>2006      </td><td>Letters   </td><td>1         </td><td>0         </td><td>0         </td><td>0         </td><td>3         </td><td>0         </td><td>Letters   </td><td> 4        </td><td>⋯         </td><td>0         </td><td>0         </td><td>0         </td><td>0         </td><td>0         </td><td>0         </td><td>0         </td><td>0         </td><td>140       </td><td> 67       </td></tr>\n",
       "\t<tr><th scope=row>24</th><td>2006      </td><td>Sunshine  </td><td>1         </td><td>0         </td><td>0         </td><td>0         </td><td>4         </td><td>0         </td><td>Sunshine  </td><td> 4        </td><td>⋯         </td><td>0         </td><td>0         </td><td>0         </td><td>1         </td><td>0         </td><td>0         </td><td>0         </td><td>0         </td><td>101       </td><td>214       </td></tr>\n",
       "\t<tr><th scope=row>25</th><td>2006      </td><td>Queen     </td><td>1         </td><td>0         </td><td>0         </td><td>0         </td><td>5         </td><td>0         </td><td>Queen     </td><td> 6        </td><td>⋯         </td><td>0         </td><td>0         </td><td>0         </td><td>0         </td><td>0         </td><td>0         </td><td>0         </td><td>0         </td><td> 97       </td><td>148       </td></tr>\n",
       "\t<tr><th scope=row>41</th><td>2005      </td><td>Brokeback </td><td>1         </td><td>0         </td><td>0         </td><td>0         </td><td>1         </td><td>0         </td><td>Brokeback </td><td> 8        </td><td>⋯         </td><td>0         </td><td>0         </td><td>0         </td><td>1         </td><td>0         </td><td>0         </td><td>0         </td><td>0         </td><td>134       </td><td> 95       </td></tr>\n",
       "\t<tr><th scope=row>42</th><td>2005      </td><td>Capote    </td><td>1         </td><td>0         </td><td>0         </td><td>0         </td><td>2         </td><td>0         </td><td>Capote    </td><td> 5        </td><td>⋯         </td><td>0         </td><td>0         </td><td>0         </td><td>0         </td><td>0         </td><td>0         </td><td>0         </td><td>0         </td><td>114       </td><td>156       </td></tr>\n",
       "\t<tr><th scope=row>43</th><td>2005      </td><td>Crash     </td><td>1         </td><td>0         </td><td>0         </td><td>0         </td><td>3         </td><td>1         </td><td>Crash     </td><td> 6        </td><td>⋯         </td><td>0         </td><td>0         </td><td>0         </td><td>0         </td><td>0         </td><td>0         </td><td>0         </td><td>0         </td><td>113       </td><td>303       </td></tr>\n",
       "\t<tr><th scope=row>44</th><td>2005      </td><td>Goodnight </td><td>1         </td><td>0         </td><td>0         </td><td>0         </td><td>4         </td><td>0         </td><td>Goodnight </td><td> 6        </td><td>⋯         </td><td>0         </td><td>0         </td><td>0         </td><td>0         </td><td>0         </td><td>0         </td><td>0         </td><td>0         </td><td> 93       </td><td>149       </td></tr>\n",
       "\t<tr><th scope=row>45</th><td>2005      </td><td>Munich    </td><td>1         </td><td>0         </td><td>0         </td><td>0         </td><td>5         </td><td>0         </td><td>Munich    </td><td> 5        </td><td>⋯         </td><td>0         </td><td>0         </td><td>0         </td><td>0         </td><td>0         </td><td>0         </td><td>0         </td><td>0         </td><td>164       </td><td> 72       </td></tr>\n",
       "\t<tr><th scope=row>61</th><td>2004      </td><td>Aviator   </td><td>1         </td><td>0         </td><td>0         </td><td>0         </td><td>1         </td><td>0         </td><td>Aviator   </td><td>11        </td><td>⋯         </td><td>0         </td><td>0         </td><td>0         </td><td>1         </td><td>0         </td><td>0         </td><td>0         </td><td>0         </td><td>170       </td><td> 75       </td></tr>\n",
       "\t<tr><th scope=row>62</th><td>2004      </td><td>Neverland </td><td>1         </td><td>0         </td><td>0         </td><td>0         </td><td>2         </td><td>0         </td><td>Neverland </td><td> 7        </td><td>⋯         </td><td>0         </td><td>0         </td><td>0         </td><td>0         </td><td>0         </td><td>0         </td><td>0         </td><td>0         </td><td>106       </td><td>107       </td></tr>\n",
       "\t<tr><th scope=row>63</th><td>2004      </td><td>Million   </td><td>1         </td><td>0         </td><td>0         </td><td>0         </td><td>3         </td><td>1         </td><td>Million   </td><td> 7        </td><td>⋯         </td><td>0         </td><td>0         </td><td>0         </td><td>0         </td><td>0         </td><td>0         </td><td>0         </td><td>0         </td><td>132       </td><td> 74       </td></tr>\n",
       "\t<tr><th scope=row>64</th><td>2004      </td><td>Ray       </td><td>1         </td><td>0         </td><td>0         </td><td>0         </td><td>4         </td><td>0         </td><td>Ray       </td><td> 6        </td><td>⋯         </td><td>0         </td><td>0         </td><td>0         </td><td>0         </td><td>0         </td><td>0         </td><td>0         </td><td>0         </td><td>152       </td><td>131       </td></tr>\n",
       "\t<tr><th scope=row>65</th><td>2004      </td><td>Sideways  </td><td>1         </td><td>0         </td><td>0         </td><td>0         </td><td>5         </td><td>0         </td><td>Sideways  </td><td> 5        </td><td>⋯         </td><td>0         </td><td>0         </td><td>0         </td><td>0         </td><td>0         </td><td>0         </td><td>0         </td><td>0         </td><td>123       </td><td>138       </td></tr>\n",
       "\t<tr><th scope=row>81</th><td>2003      </td><td>Lost      </td><td>1         </td><td>0         </td><td>0         </td><td>0         </td><td>1         </td><td>0         </td><td>Lost      </td><td> 4        </td><td>⋯         </td><td>0         </td><td>0         </td><td>0         </td><td>0         </td><td>0         </td><td>0         </td><td>0         </td><td>0         </td><td>102       </td><td>149       </td></tr>\n",
       "\t<tr><th scope=row>82</th><td>2003      </td><td>Master    </td><td>1         </td><td>0         </td><td>0         </td><td>0         </td><td>2         </td><td>0         </td><td>Master    </td><td>10        </td><td>⋯         </td><td>0         </td><td>0         </td><td>0         </td><td>0         </td><td>0         </td><td>0         </td><td>0         </td><td>0         </td><td>138       </td><td>107       </td></tr>\n",
       "\t<tr><th scope=row>83</th><td>2003      </td><td>Mystic    </td><td>1         </td><td>0         </td><td>0         </td><td>0         </td><td>3         </td><td>0         </td><td>Mystic    </td><td> 6        </td><td>⋯         </td><td>0         </td><td>0         </td><td>0         </td><td>0         </td><td>0         </td><td>0         </td><td>0         </td><td>0         </td><td>137       </td><td>137       </td></tr>\n",
       "\t<tr><th scope=row>84</th><td>2003      </td><td>Return    </td><td>1         </td><td>0         </td><td>0         </td><td>0         </td><td>4         </td><td>1         </td><td>Return    </td><td>11        </td><td>⋯         </td><td>0         </td><td>0         </td><td>0         </td><td>1         </td><td>0         </td><td>0         </td><td>0         </td><td>0         </td><td>201       </td><td> 74       </td></tr>\n",
       "\t<tr><th scope=row>85</th><td>2003      </td><td>Seabiscuit</td><td>1         </td><td>0         </td><td>0         </td><td>0         </td><td>5         </td><td>0         </td><td>Seabiscuit</td><td> 7        </td><td>⋯         </td><td>0         </td><td>0         </td><td>0         </td><td>0         </td><td>0         </td><td>0         </td><td>0         </td><td>0         </td><td>141       </td><td>219       </td></tr>\n",
       "\t<tr><th scope=row>101</th><td>2002      </td><td>Chicago   </td><td>1         </td><td>0         </td><td>0         </td><td>0         </td><td>1         </td><td>1         </td><td>Chicago   </td><td>13        </td><td>⋯         </td><td>0         </td><td>0         </td><td>0         </td><td>1         </td><td>0         </td><td>0         </td><td>0         </td><td>0         </td><td>113       </td><td> 58       </td></tr>\n",
       "\t<tr><th scope=row>102</th><td>2002      </td><td>Gangs     </td><td>1         </td><td>0         </td><td>0         </td><td>0         </td><td>2         </td><td>0         </td><td>Gangs     </td><td>10        </td><td>⋯         </td><td>0         </td><td>0         </td><td>0         </td><td>0         </td><td>0         </td><td>0         </td><td>0         </td><td>0         </td><td>166       </td><td> 93       </td></tr>\n",
       "\t<tr><th scope=row>103</th><td>2002      </td><td>Hours     </td><td>1         </td><td>0         </td><td>0         </td><td>0         </td><td>3         </td><td>0         </td><td>Hours     </td><td> 9        </td><td>⋯         </td><td>0         </td><td>0         </td><td>0         </td><td>0         </td><td>0         </td><td>0         </td><td>0         </td><td>0         </td><td>114       </td><td> 58       </td></tr>\n",
       "\t<tr><th scope=row>104</th><td>2002      </td><td>Pianist   </td><td>1         </td><td>0         </td><td>0         </td><td>0         </td><td>4         </td><td>0         </td><td>Pianist   </td><td> 7        </td><td>⋯         </td><td>0         </td><td>0         </td><td>0         </td><td>0         </td><td>0         </td><td>0         </td><td>0         </td><td>0         </td><td>150       </td><td> 79       </td></tr>\n",
       "\t<tr><th scope=row>105</th><td>2002      </td><td>Towers    </td><td>1         </td><td>0         </td><td>0         </td><td>0         </td><td>5         </td><td>0         </td><td>Towers    </td><td> 6        </td><td>⋯         </td><td>0         </td><td>0         </td><td>0         </td><td>0         </td><td>0         </td><td>0         </td><td>0         </td><td>0         </td><td>179       </td><td> 95       </td></tr>\n",
       "\t<tr><th scope=row>⋮</th><td>⋮</td><td>⋮</td><td>⋮</td><td>⋮</td><td>⋮</td><td>⋮</td><td>⋮</td><td>⋮</td><td>⋮</td><td>⋮</td><td>⋱</td><td>⋮</td><td>⋮</td><td>⋮</td><td>⋮</td><td>⋮</td><td>⋮</td><td>⋮</td><td>⋮</td><td>⋮</td><td>⋮</td></tr>\n",
       "\t<tr><th scope=row>1021</th><td>1956        </td><td>Around      </td><td>1           </td><td>0           </td><td>0           </td><td>0           </td><td>1           </td><td>1           </td><td>Around      </td><td> 8          </td><td>⋯           </td><td>0           </td><td>0           </td><td>0           </td><td>0           </td><td>0           </td><td>0           </td><td>0           </td><td>0           </td><td>167         </td><td>161         </td></tr>\n",
       "\t<tr><th scope=row>1022</th><td>1956        </td><td>Commandments</td><td>1           </td><td>0           </td><td>0           </td><td>0           </td><td>2           </td><td>0           </td><td>Commandments</td><td> 7          </td><td>⋯           </td><td>0           </td><td>0           </td><td>0           </td><td>0           </td><td>0           </td><td>0           </td><td>0           </td><td>0           </td><td>220         </td><td>173         </td></tr>\n",
       "\t<tr><th scope=row>1023</th><td>1956        </td><td>Friendly    </td><td>1           </td><td>0           </td><td>0           </td><td>0           </td><td>3           </td><td>0           </td><td>Friendly    </td><td> 5          </td><td>⋯           </td><td>0           </td><td>0           </td><td>0           </td><td>0           </td><td>0           </td><td>0           </td><td>0           </td><td>0           </td><td>137         </td><td>122         </td></tr>\n",
       "\t<tr><th scope=row>1024</th><td>1956        </td><td>Giant       </td><td>1           </td><td>0           </td><td>0           </td><td>0           </td><td>4           </td><td>0           </td><td>Giant       </td><td>10          </td><td>⋯           </td><td>0           </td><td>0           </td><td>0           </td><td>1           </td><td>0           </td><td>0           </td><td>0           </td><td>0           </td><td>201         </td><td>168         </td></tr>\n",
       "\t<tr><th scope=row>1025</th><td>1956        </td><td>King        </td><td>1           </td><td>0           </td><td>0           </td><td>0           </td><td>5           </td><td>0           </td><td>King        </td><td> 9          </td><td>⋯           </td><td>0           </td><td>0           </td><td>0           </td><td>0           </td><td>0           </td><td>0           </td><td>0           </td><td>0           </td><td>133         </td><td>272         </td></tr>\n",
       "\t<tr><th scope=row>1041</th><td>1955        </td><td>Love        </td><td>1           </td><td>0           </td><td>0           </td><td>0           </td><td>1           </td><td>0           </td><td>Love        </td><td> 8          </td><td>⋯           </td><td>0           </td><td>0           </td><td>0           </td><td>0           </td><td>0           </td><td>0           </td><td>0           </td><td>0           </td><td>102         </td><td>216         </td></tr>\n",
       "\t<tr><th scope=row>1042</th><td>1955        </td><td>Marty       </td><td>1           </td><td>0           </td><td>0           </td><td>0           </td><td>2           </td><td>1           </td><td>Marty       </td><td> 8          </td><td>⋯           </td><td>0           </td><td>0           </td><td>0           </td><td>1           </td><td>0           </td><td>0           </td><td>0           </td><td>0           </td><td> 91         </td><td>345         </td></tr>\n",
       "\t<tr><th scope=row>1043</th><td>1955        </td><td>Picnic      </td><td>1           </td><td>0           </td><td>0           </td><td>0           </td><td>3           </td><td>0           </td><td>Picnic      </td><td> 6          </td><td>⋯           </td><td>0           </td><td>0           </td><td>0           </td><td>0           </td><td>0           </td><td>0           </td><td>0           </td><td>0           </td><td>115         </td><td>127         </td></tr>\n",
       "\t<tr><th scope=row>1044</th><td>1955        </td><td>Roberts     </td><td>1           </td><td>0           </td><td>0           </td><td>0           </td><td>4           </td><td>0           </td><td>Roberts     </td><td> 3          </td><td>⋯           </td><td>0           </td><td>0           </td><td>0           </td><td>0           </td><td>0           </td><td>0           </td><td>0           </td><td>0           </td><td>123         </td><td>235         </td></tr>\n",
       "\t<tr><th scope=row>1045</th><td>1955        </td><td>Rose        </td><td>1           </td><td>0           </td><td>0           </td><td>0           </td><td>5           </td><td>0           </td><td>Rose        </td><td> 8          </td><td>⋯           </td><td>0           </td><td>0           </td><td>0           </td><td>0           </td><td>0           </td><td>0           </td><td>0           </td><td>0           </td><td>117         </td><td>100         </td></tr>\n",
       "\t<tr><th scope=row>1061</th><td>1954        </td><td>Brides      </td><td>1           </td><td>0           </td><td>0           </td><td>0           </td><td>1           </td><td>0           </td><td>Brides      </td><td> 5          </td><td>⋯           </td><td>0           </td><td>0           </td><td>0           </td><td>0           </td><td>0           </td><td>0           </td><td>0           </td><td>0           </td><td>102         </td><td>251         </td></tr>\n",
       "\t<tr><th scope=row>1062</th><td>1954        </td><td>Caine       </td><td>1           </td><td>0           </td><td>0           </td><td>0           </td><td>2           </td><td>0           </td><td>Caine       </td><td> 7          </td><td>⋯           </td><td>0           </td><td>0           </td><td>0           </td><td>0           </td><td>0           </td><td>0           </td><td>0           </td><td>0           </td><td>124         </td><td>279         </td></tr>\n",
       "\t<tr><th scope=row>1063</th><td>1954        </td><td>Coins       </td><td>1           </td><td>0           </td><td>0           </td><td>0           </td><td>3           </td><td>0           </td><td>Coins       </td><td> 3          </td><td>⋯           </td><td>0           </td><td>0           </td><td>0           </td><td>0           </td><td>0           </td><td>0           </td><td>0           </td><td>0           </td><td>102         </td><td>314         </td></tr>\n",
       "\t<tr><th scope=row>1064</th><td>1954        </td><td>Country     </td><td>1           </td><td>0           </td><td>0           </td><td>0           </td><td>4           </td><td>0           </td><td>Country     </td><td> 7          </td><td>⋯           </td><td>0           </td><td>0           </td><td>0           </td><td>0           </td><td>0           </td><td>0           </td><td>0           </td><td>0           </td><td>104         </td><td>105         </td></tr>\n",
       "\t<tr><th scope=row>1065</th><td>1954        </td><td>Waterfont   </td><td>1           </td><td>0           </td><td>0           </td><td>0           </td><td>5           </td><td>1           </td><td>Waterfont   </td><td>12          </td><td>⋯           </td><td>0           </td><td>0           </td><td>0           </td><td>1           </td><td>0           </td><td>0           </td><td>0           </td><td>0           </td><td>108         </td><td>245         </td></tr>\n",
       "\t<tr><th scope=row>1081</th><td>1953        </td><td>Caesar      </td><td>1           </td><td>0           </td><td>0           </td><td>0           </td><td>1           </td><td>0           </td><td>Caesar      </td><td> 5          </td><td>⋯           </td><td>0           </td><td>0           </td><td>0           </td><td>0           </td><td>0           </td><td>0           </td><td>0           </td><td>0           </td><td>120         </td><td>294         </td></tr>\n",
       "\t<tr><th scope=row>1082</th><td>1953        </td><td>Eternity    </td><td>1           </td><td>0           </td><td>0           </td><td>0           </td><td>2           </td><td>1           </td><td>Eternity    </td><td>13          </td><td>⋯           </td><td>0           </td><td>0           </td><td>0           </td><td>1           </td><td>0           </td><td>0           </td><td>0           </td><td>0           </td><td>118         </td><td>232         </td></tr>\n",
       "\t<tr><th scope=row>1083</th><td>1953        </td><td>Robe        </td><td>1           </td><td>0           </td><td>0           </td><td>0           </td><td>3           </td><td>0           </td><td>Robe        </td><td> 5          </td><td>⋯           </td><td>0           </td><td>0           </td><td>0           </td><td>0           </td><td>0           </td><td>0           </td><td>0           </td><td>0           </td><td>135         </td><td>190         </td></tr>\n",
       "\t<tr><th scope=row>1084</th><td>1953        </td><td>Roman       </td><td>1           </td><td>0           </td><td>0           </td><td>0           </td><td>4           </td><td>0           </td><td>Roman       </td><td>10          </td><td>⋯           </td><td>0           </td><td>0           </td><td>0           </td><td>0           </td><td>0           </td><td>0           </td><td>0           </td><td>0           </td><td>118         </td><td>210         </td></tr>\n",
       "\t<tr><th scope=row>1085</th><td>1953        </td><td>Shane       </td><td>1           </td><td>0           </td><td>0           </td><td>0           </td><td>5           </td><td>0           </td><td>Shane       </td><td> 6          </td><td>⋯           </td><td>0           </td><td>0           </td><td>0           </td><td>0           </td><td>0           </td><td>0           </td><td>0           </td><td>0           </td><td>118         </td><td>336         </td></tr>\n",
       "\t<tr><th scope=row>1101</th><td>1952        </td><td>Greatest    </td><td>1           </td><td>0           </td><td>0           </td><td>0           </td><td>1           </td><td>1           </td><td>Greatest    </td><td> 5          </td><td>⋯           </td><td>0           </td><td>0           </td><td>0           </td><td>0           </td><td>0           </td><td>0           </td><td>0           </td><td>0           </td><td>152         </td><td>434         </td></tr>\n",
       "\t<tr><th scope=row>1102</th><td>1952        </td><td>Ivanhoe     </td><td>1           </td><td>0           </td><td>0           </td><td>0           </td><td>2           </td><td>0           </td><td>Ivanhoe     </td><td> 3          </td><td>⋯           </td><td>0           </td><td>0           </td><td>0           </td><td>0           </td><td>0           </td><td>0           </td><td>0           </td><td>0           </td><td>106         </td><td>231         </td></tr>\n",
       "\t<tr><th scope=row>1103</th><td>1952        </td><td>Moulin      </td><td>1           </td><td>0           </td><td>0           </td><td>0           </td><td>3           </td><td>0           </td><td>Moulin      </td><td> 7          </td><td>⋯           </td><td>0           </td><td>0           </td><td>0           </td><td>0           </td><td>0           </td><td>0           </td><td>0           </td><td>0           </td><td>119         </td><td> 86         </td></tr>\n",
       "\t<tr><th scope=row>1104</th><td>1952        </td><td>Noon        </td><td>1           </td><td>0           </td><td>0           </td><td>0           </td><td>4           </td><td>0           </td><td>Noon        </td><td> 7          </td><td>⋯           </td><td>0           </td><td>0           </td><td>0           </td><td>0           </td><td>0           </td><td>0           </td><td>0           </td><td>0           </td><td> 85         </td><td>238         </td></tr>\n",
       "\t<tr><th scope=row>1105</th><td>1952        </td><td>Quiet       </td><td>1           </td><td>0           </td><td>0           </td><td>0           </td><td>5           </td><td>0           </td><td>Quiet       </td><td> 7          </td><td>⋯           </td><td>0           </td><td>0           </td><td>0           </td><td>1           </td><td>0           </td><td>0           </td><td>0           </td><td>0           </td><td>129         </td><td>217         </td></tr>\n",
       "\t<tr><th scope=row>1121</th><td>1951        </td><td>American    </td><td>1           </td><td>0           </td><td>0           </td><td>0           </td><td>1           </td><td>1           </td><td>American    </td><td> 8          </td><td>⋯           </td><td>0           </td><td>0           </td><td>0           </td><td>0           </td><td>0           </td><td>0           </td><td>0           </td><td>0           </td><td>113         </td><td>168         </td></tr>\n",
       "\t<tr><th scope=row>1122</th><td>1951        </td><td>Decision    </td><td>1           </td><td>0           </td><td>0           </td><td>0           </td><td>2           </td><td>0           </td><td>Decision    </td><td> 2          </td><td>⋯           </td><td>0           </td><td>0           </td><td>0           </td><td>0           </td><td>0           </td><td>0           </td><td>0           </td><td>0           </td><td>119         </td><td> 90         </td></tr>\n",
       "\t<tr><th scope=row>1123</th><td>1951        </td><td>Place       </td><td>1           </td><td>0           </td><td>0           </td><td>0           </td><td>3           </td><td>0           </td><td>Place       </td><td> 9          </td><td>⋯           </td><td>0           </td><td>0           </td><td>0           </td><td>1           </td><td>0           </td><td>0           </td><td>0           </td><td>0           </td><td>122         </td><td>219         </td></tr>\n",
       "\t<tr><th scope=row>1124</th><td>1951        </td><td>Quo         </td><td>1           </td><td>0           </td><td>0           </td><td>0           </td><td>4           </td><td>0           </td><td>Quo         </td><td> 8          </td><td>⋯           </td><td>0           </td><td>0           </td><td>0           </td><td>0           </td><td>0           </td><td>0           </td><td>0           </td><td>0           </td><td>171         </td><td>133         </td></tr>\n",
       "\t<tr><th scope=row>1125</th><td>1951        </td><td>Streetcar   </td><td>1           </td><td>0           </td><td>0           </td><td>0           </td><td>5           </td><td>0           </td><td>Streetcar   </td><td>12          </td><td>⋯           </td><td>0           </td><td>0           </td><td>0           </td><td>0           </td><td>0           </td><td>0           </td><td>0           </td><td>0           </td><td>122         </td><td>184         </td></tr>\n",
       "</tbody>\n",
       "</table>\n"
      ],
      "text/latex": [
       "\\begin{tabular}{r|llllllllllllllllllllllllllllllll}\n",
       "  & Year & Name & PP & DD & MM & FF & Mode & Ch & Movie & Nom & ⋯ & Gm2 & Gf1 & Gf2 & PGA & DGA & SAM & SAF & Age & Length & Days\\\\\n",
       "\\hline\n",
       "\t1 & 2007       & Atonement  & 1          & 0          & 0          & 0          & 1          & 0          & Atonement  &  7         & ⋯          & 0          & 0          & 0          & 0          & 0          & 0          & 0          & 0          & 130        &  51       \\\\\n",
       "\t2 & 2007       & Juno       & 1          & 0          & 0          & 0          & 2          & 0          & Juno       &  4         & ⋯          & 0          & 0          & 0          & 0          & 0          & 0          & 0          & 0          &  96        &  61       \\\\\n",
       "\t3 & 2007       & Clayton    & 1          & 0          & 0          & 0          & 3          & 0          & Clayton    &  7         & ⋯          & 0          & 0          & 0          & 0          & 0          & 0          & 0          & 0          & 119        & 135       \\\\\n",
       "\t4 & 2007       & Country    & 1          & 0          & 0          & 0          & 4          & 1          & Country    &  8         & ⋯          & 0          & 0          & 0          & 1          & 0          & 0          & 0          & 0          & 122        &  95       \\\\\n",
       "\t5 & 2007       & Blood      & 1          & 0          & 0          & 0          & 5          & 0          & Blood      &  8         & ⋯          & 0          & 0          & 0          & 0          & 0          & 0          & 0          & 0          & 158        &  44       \\\\\n",
       "\t21 & 2006       & Babel      & 1          & 0          & 0          & 0          & 1          & 0          & Babel      &  7         & ⋯          & 0          & 0          & 0          & 0          & 0          & 0          & 0          & 0          & 142        & 121       \\\\\n",
       "\t22 & 2006       & Departed   & 1          & 0          & 0          & 0          & 2          & 1          & Departed   &  5         & ⋯          & 0          & 0          & 0          & 0          & 0          & 0          & 0          & 0          & 151        & 142       \\\\\n",
       "\t23 & 2006       & Letters    & 1          & 0          & 0          & 0          & 3          & 0          & Letters    &  4         & ⋯          & 0          & 0          & 0          & 0          & 0          & 0          & 0          & 0          & 140        &  67       \\\\\n",
       "\t24 & 2006       & Sunshine   & 1          & 0          & 0          & 0          & 4          & 0          & Sunshine   &  4         & ⋯          & 0          & 0          & 0          & 1          & 0          & 0          & 0          & 0          & 101        & 214       \\\\\n",
       "\t25 & 2006       & Queen      & 1          & 0          & 0          & 0          & 5          & 0          & Queen      &  6         & ⋯          & 0          & 0          & 0          & 0          & 0          & 0          & 0          & 0          &  97        & 148       \\\\\n",
       "\t41 & 2005       & Brokeback  & 1          & 0          & 0          & 0          & 1          & 0          & Brokeback  &  8         & ⋯          & 0          & 0          & 0          & 1          & 0          & 0          & 0          & 0          & 134        &  95       \\\\\n",
       "\t42 & 2005       & Capote     & 1          & 0          & 0          & 0          & 2          & 0          & Capote     &  5         & ⋯          & 0          & 0          & 0          & 0          & 0          & 0          & 0          & 0          & 114        & 156       \\\\\n",
       "\t43 & 2005       & Crash      & 1          & 0          & 0          & 0          & 3          & 1          & Crash      &  6         & ⋯          & 0          & 0          & 0          & 0          & 0          & 0          & 0          & 0          & 113        & 303       \\\\\n",
       "\t44 & 2005       & Goodnight  & 1          & 0          & 0          & 0          & 4          & 0          & Goodnight  &  6         & ⋯          & 0          & 0          & 0          & 0          & 0          & 0          & 0          & 0          &  93        & 149       \\\\\n",
       "\t45 & 2005       & Munich     & 1          & 0          & 0          & 0          & 5          & 0          & Munich     &  5         & ⋯          & 0          & 0          & 0          & 0          & 0          & 0          & 0          & 0          & 164        &  72       \\\\\n",
       "\t61 & 2004       & Aviator    & 1          & 0          & 0          & 0          & 1          & 0          & Aviator    & 11         & ⋯          & 0          & 0          & 0          & 1          & 0          & 0          & 0          & 0          & 170        &  75       \\\\\n",
       "\t62 & 2004       & Neverland  & 1          & 0          & 0          & 0          & 2          & 0          & Neverland  &  7         & ⋯          & 0          & 0          & 0          & 0          & 0          & 0          & 0          & 0          & 106        & 107       \\\\\n",
       "\t63 & 2004       & Million    & 1          & 0          & 0          & 0          & 3          & 1          & Million    &  7         & ⋯          & 0          & 0          & 0          & 0          & 0          & 0          & 0          & 0          & 132        &  74       \\\\\n",
       "\t64 & 2004       & Ray        & 1          & 0          & 0          & 0          & 4          & 0          & Ray        &  6         & ⋯          & 0          & 0          & 0          & 0          & 0          & 0          & 0          & 0          & 152        & 131       \\\\\n",
       "\t65 & 2004       & Sideways   & 1          & 0          & 0          & 0          & 5          & 0          & Sideways   &  5         & ⋯          & 0          & 0          & 0          & 0          & 0          & 0          & 0          & 0          & 123        & 138       \\\\\n",
       "\t81 & 2003       & Lost       & 1          & 0          & 0          & 0          & 1          & 0          & Lost       &  4         & ⋯          & 0          & 0          & 0          & 0          & 0          & 0          & 0          & 0          & 102        & 149       \\\\\n",
       "\t82 & 2003       & Master     & 1          & 0          & 0          & 0          & 2          & 0          & Master     & 10         & ⋯          & 0          & 0          & 0          & 0          & 0          & 0          & 0          & 0          & 138        & 107       \\\\\n",
       "\t83 & 2003       & Mystic     & 1          & 0          & 0          & 0          & 3          & 0          & Mystic     &  6         & ⋯          & 0          & 0          & 0          & 0          & 0          & 0          & 0          & 0          & 137        & 137       \\\\\n",
       "\t84 & 2003       & Return     & 1          & 0          & 0          & 0          & 4          & 1          & Return     & 11         & ⋯          & 0          & 0          & 0          & 1          & 0          & 0          & 0          & 0          & 201        &  74       \\\\\n",
       "\t85 & 2003       & Seabiscuit & 1          & 0          & 0          & 0          & 5          & 0          & Seabiscuit &  7         & ⋯          & 0          & 0          & 0          & 0          & 0          & 0          & 0          & 0          & 141        & 219       \\\\\n",
       "\t101 & 2002       & Chicago    & 1          & 0          & 0          & 0          & 1          & 1          & Chicago    & 13         & ⋯          & 0          & 0          & 0          & 1          & 0          & 0          & 0          & 0          & 113        &  58       \\\\\n",
       "\t102 & 2002       & Gangs      & 1          & 0          & 0          & 0          & 2          & 0          & Gangs      & 10         & ⋯          & 0          & 0          & 0          & 0          & 0          & 0          & 0          & 0          & 166        &  93       \\\\\n",
       "\t103 & 2002       & Hours      & 1          & 0          & 0          & 0          & 3          & 0          & Hours      &  9         & ⋯          & 0          & 0          & 0          & 0          & 0          & 0          & 0          & 0          & 114        &  58       \\\\\n",
       "\t104 & 2002       & Pianist    & 1          & 0          & 0          & 0          & 4          & 0          & Pianist    &  7         & ⋯          & 0          & 0          & 0          & 0          & 0          & 0          & 0          & 0          & 150        &  79       \\\\\n",
       "\t105 & 2002       & Towers     & 1          & 0          & 0          & 0          & 5          & 0          & Towers     &  6         & ⋯          & 0          & 0          & 0          & 0          & 0          & 0          & 0          & 0          & 179        &  95       \\\\\n",
       "\t⋮ & ⋮ & ⋮ & ⋮ & ⋮ & ⋮ & ⋮ & ⋮ & ⋮ & ⋮ & ⋮ & ⋱ & ⋮ & ⋮ & ⋮ & ⋮ & ⋮ & ⋮ & ⋮ & ⋮ & ⋮ & ⋮\\\\\n",
       "\t1021 & 1956         & Around       & 1            & 0            & 0            & 0            & 1            & 1            & Around       &  8           & ⋯            & 0            & 0            & 0            & 0            & 0            & 0            & 0            & 0            & 167          & 161         \\\\\n",
       "\t1022 & 1956         & Commandments & 1            & 0            & 0            & 0            & 2            & 0            & Commandments &  7           & ⋯            & 0            & 0            & 0            & 0            & 0            & 0            & 0            & 0            & 220          & 173         \\\\\n",
       "\t1023 & 1956         & Friendly     & 1            & 0            & 0            & 0            & 3            & 0            & Friendly     &  5           & ⋯            & 0            & 0            & 0            & 0            & 0            & 0            & 0            & 0            & 137          & 122         \\\\\n",
       "\t1024 & 1956         & Giant        & 1            & 0            & 0            & 0            & 4            & 0            & Giant        & 10           & ⋯            & 0            & 0            & 0            & 1            & 0            & 0            & 0            & 0            & 201          & 168         \\\\\n",
       "\t1025 & 1956         & King         & 1            & 0            & 0            & 0            & 5            & 0            & King         &  9           & ⋯            & 0            & 0            & 0            & 0            & 0            & 0            & 0            & 0            & 133          & 272         \\\\\n",
       "\t1041 & 1955         & Love         & 1            & 0            & 0            & 0            & 1            & 0            & Love         &  8           & ⋯            & 0            & 0            & 0            & 0            & 0            & 0            & 0            & 0            & 102          & 216         \\\\\n",
       "\t1042 & 1955         & Marty        & 1            & 0            & 0            & 0            & 2            & 1            & Marty        &  8           & ⋯            & 0            & 0            & 0            & 1            & 0            & 0            & 0            & 0            &  91          & 345         \\\\\n",
       "\t1043 & 1955         & Picnic       & 1            & 0            & 0            & 0            & 3            & 0            & Picnic       &  6           & ⋯            & 0            & 0            & 0            & 0            & 0            & 0            & 0            & 0            & 115          & 127         \\\\\n",
       "\t1044 & 1955         & Roberts      & 1            & 0            & 0            & 0            & 4            & 0            & Roberts      &  3           & ⋯            & 0            & 0            & 0            & 0            & 0            & 0            & 0            & 0            & 123          & 235         \\\\\n",
       "\t1045 & 1955         & Rose         & 1            & 0            & 0            & 0            & 5            & 0            & Rose         &  8           & ⋯            & 0            & 0            & 0            & 0            & 0            & 0            & 0            & 0            & 117          & 100         \\\\\n",
       "\t1061 & 1954         & Brides       & 1            & 0            & 0            & 0            & 1            & 0            & Brides       &  5           & ⋯            & 0            & 0            & 0            & 0            & 0            & 0            & 0            & 0            & 102          & 251         \\\\\n",
       "\t1062 & 1954         & Caine        & 1            & 0            & 0            & 0            & 2            & 0            & Caine        &  7           & ⋯            & 0            & 0            & 0            & 0            & 0            & 0            & 0            & 0            & 124          & 279         \\\\\n",
       "\t1063 & 1954         & Coins        & 1            & 0            & 0            & 0            & 3            & 0            & Coins        &  3           & ⋯            & 0            & 0            & 0            & 0            & 0            & 0            & 0            & 0            & 102          & 314         \\\\\n",
       "\t1064 & 1954         & Country      & 1            & 0            & 0            & 0            & 4            & 0            & Country      &  7           & ⋯            & 0            & 0            & 0            & 0            & 0            & 0            & 0            & 0            & 104          & 105         \\\\\n",
       "\t1065 & 1954         & Waterfont    & 1            & 0            & 0            & 0            & 5            & 1            & Waterfont    & 12           & ⋯            & 0            & 0            & 0            & 1            & 0            & 0            & 0            & 0            & 108          & 245         \\\\\n",
       "\t1081 & 1953         & Caesar       & 1            & 0            & 0            & 0            & 1            & 0            & Caesar       &  5           & ⋯            & 0            & 0            & 0            & 0            & 0            & 0            & 0            & 0            & 120          & 294         \\\\\n",
       "\t1082 & 1953         & Eternity     & 1            & 0            & 0            & 0            & 2            & 1            & Eternity     & 13           & ⋯            & 0            & 0            & 0            & 1            & 0            & 0            & 0            & 0            & 118          & 232         \\\\\n",
       "\t1083 & 1953         & Robe         & 1            & 0            & 0            & 0            & 3            & 0            & Robe         &  5           & ⋯            & 0            & 0            & 0            & 0            & 0            & 0            & 0            & 0            & 135          & 190         \\\\\n",
       "\t1084 & 1953         & Roman        & 1            & 0            & 0            & 0            & 4            & 0            & Roman        & 10           & ⋯            & 0            & 0            & 0            & 0            & 0            & 0            & 0            & 0            & 118          & 210         \\\\\n",
       "\t1085 & 1953         & Shane        & 1            & 0            & 0            & 0            & 5            & 0            & Shane        &  6           & ⋯            & 0            & 0            & 0            & 0            & 0            & 0            & 0            & 0            & 118          & 336         \\\\\n",
       "\t1101 & 1952         & Greatest     & 1            & 0            & 0            & 0            & 1            & 1            & Greatest     &  5           & ⋯            & 0            & 0            & 0            & 0            & 0            & 0            & 0            & 0            & 152          & 434         \\\\\n",
       "\t1102 & 1952         & Ivanhoe      & 1            & 0            & 0            & 0            & 2            & 0            & Ivanhoe      &  3           & ⋯            & 0            & 0            & 0            & 0            & 0            & 0            & 0            & 0            & 106          & 231         \\\\\n",
       "\t1103 & 1952         & Moulin       & 1            & 0            & 0            & 0            & 3            & 0            & Moulin       &  7           & ⋯            & 0            & 0            & 0            & 0            & 0            & 0            & 0            & 0            & 119          &  86         \\\\\n",
       "\t1104 & 1952         & Noon         & 1            & 0            & 0            & 0            & 4            & 0            & Noon         &  7           & ⋯            & 0            & 0            & 0            & 0            & 0            & 0            & 0            & 0            &  85          & 238         \\\\\n",
       "\t1105 & 1952         & Quiet        & 1            & 0            & 0            & 0            & 5            & 0            & Quiet        &  7           & ⋯            & 0            & 0            & 0            & 1            & 0            & 0            & 0            & 0            & 129          & 217         \\\\\n",
       "\t1121 & 1951         & American     & 1            & 0            & 0            & 0            & 1            & 1            & American     &  8           & ⋯            & 0            & 0            & 0            & 0            & 0            & 0            & 0            & 0            & 113          & 168         \\\\\n",
       "\t1122 & 1951         & Decision     & 1            & 0            & 0            & 0            & 2            & 0            & Decision     &  2           & ⋯            & 0            & 0            & 0            & 0            & 0            & 0            & 0            & 0            & 119          &  90         \\\\\n",
       "\t1123 & 1951         & Place        & 1            & 0            & 0            & 0            & 3            & 0            & Place        &  9           & ⋯            & 0            & 0            & 0            & 1            & 0            & 0            & 0            & 0            & 122          & 219         \\\\\n",
       "\t1124 & 1951         & Quo          & 1            & 0            & 0            & 0            & 4            & 0            & Quo          &  8           & ⋯            & 0            & 0            & 0            & 0            & 0            & 0            & 0            & 0            & 171          & 133         \\\\\n",
       "\t1125 & 1951         & Streetcar    & 1            & 0            & 0            & 0            & 5            & 0            & Streetcar    & 12           & ⋯            & 0            & 0            & 0            & 0            & 0            & 0            & 0            & 0            & 122          & 184         \\\\\n",
       "\\end{tabular}\n"
      ],
      "text/markdown": [
       "\n",
       "| <!--/--> | Year | Name | PP | DD | MM | FF | Mode | Ch | Movie | Nom | ⋯ | Gm2 | Gf1 | Gf2 | PGA | DGA | SAM | SAF | Age | Length | Days | \n",
       "|---|---|---|---|---|---|---|---|---|---|---|---|---|---|---|---|---|---|---|---|---|---|---|---|---|---|---|---|---|---|---|---|---|---|---|---|---|---|---|---|---|---|---|---|---|---|---|---|---|---|---|---|---|---|---|---|---|---|---|---|---|\n",
       "| 1 | 2007       | Atonement  | 1          | 0          | 0          | 0          | 1          | 0          | Atonement  |  7         | ⋯          | 0          | 0          | 0          | 0          | 0          | 0          | 0          | 0          | 130        |  51        | \n",
       "| 2 | 2007       | Juno       | 1          | 0          | 0          | 0          | 2          | 0          | Juno       |  4         | ⋯          | 0          | 0          | 0          | 0          | 0          | 0          | 0          | 0          |  96        |  61        | \n",
       "| 3 | 2007       | Clayton    | 1          | 0          | 0          | 0          | 3          | 0          | Clayton    |  7         | ⋯          | 0          | 0          | 0          | 0          | 0          | 0          | 0          | 0          | 119        | 135        | \n",
       "| 4 | 2007       | Country    | 1          | 0          | 0          | 0          | 4          | 1          | Country    |  8         | ⋯          | 0          | 0          | 0          | 1          | 0          | 0          | 0          | 0          | 122        |  95        | \n",
       "| 5 | 2007       | Blood      | 1          | 0          | 0          | 0          | 5          | 0          | Blood      |  8         | ⋯          | 0          | 0          | 0          | 0          | 0          | 0          | 0          | 0          | 158        |  44        | \n",
       "| 21 | 2006       | Babel      | 1          | 0          | 0          | 0          | 1          | 0          | Babel      |  7         | ⋯          | 0          | 0          | 0          | 0          | 0          | 0          | 0          | 0          | 142        | 121        | \n",
       "| 22 | 2006       | Departed   | 1          | 0          | 0          | 0          | 2          | 1          | Departed   |  5         | ⋯          | 0          | 0          | 0          | 0          | 0          | 0          | 0          | 0          | 151        | 142        | \n",
       "| 23 | 2006       | Letters    | 1          | 0          | 0          | 0          | 3          | 0          | Letters    |  4         | ⋯          | 0          | 0          | 0          | 0          | 0          | 0          | 0          | 0          | 140        |  67        | \n",
       "| 24 | 2006       | Sunshine   | 1          | 0          | 0          | 0          | 4          | 0          | Sunshine   |  4         | ⋯          | 0          | 0          | 0          | 1          | 0          | 0          | 0          | 0          | 101        | 214        | \n",
       "| 25 | 2006       | Queen      | 1          | 0          | 0          | 0          | 5          | 0          | Queen      |  6         | ⋯          | 0          | 0          | 0          | 0          | 0          | 0          | 0          | 0          |  97        | 148        | \n",
       "| 41 | 2005       | Brokeback  | 1          | 0          | 0          | 0          | 1          | 0          | Brokeback  |  8         | ⋯          | 0          | 0          | 0          | 1          | 0          | 0          | 0          | 0          | 134        |  95        | \n",
       "| 42 | 2005       | Capote     | 1          | 0          | 0          | 0          | 2          | 0          | Capote     |  5         | ⋯          | 0          | 0          | 0          | 0          | 0          | 0          | 0          | 0          | 114        | 156        | \n",
       "| 43 | 2005       | Crash      | 1          | 0          | 0          | 0          | 3          | 1          | Crash      |  6         | ⋯          | 0          | 0          | 0          | 0          | 0          | 0          | 0          | 0          | 113        | 303        | \n",
       "| 44 | 2005       | Goodnight  | 1          | 0          | 0          | 0          | 4          | 0          | Goodnight  |  6         | ⋯          | 0          | 0          | 0          | 0          | 0          | 0          | 0          | 0          |  93        | 149        | \n",
       "| 45 | 2005       | Munich     | 1          | 0          | 0          | 0          | 5          | 0          | Munich     |  5         | ⋯          | 0          | 0          | 0          | 0          | 0          | 0          | 0          | 0          | 164        |  72        | \n",
       "| 61 | 2004       | Aviator    | 1          | 0          | 0          | 0          | 1          | 0          | Aviator    | 11         | ⋯          | 0          | 0          | 0          | 1          | 0          | 0          | 0          | 0          | 170        |  75        | \n",
       "| 62 | 2004       | Neverland  | 1          | 0          | 0          | 0          | 2          | 0          | Neverland  |  7         | ⋯          | 0          | 0          | 0          | 0          | 0          | 0          | 0          | 0          | 106        | 107        | \n",
       "| 63 | 2004       | Million    | 1          | 0          | 0          | 0          | 3          | 1          | Million    |  7         | ⋯          | 0          | 0          | 0          | 0          | 0          | 0          | 0          | 0          | 132        |  74        | \n",
       "| 64 | 2004       | Ray        | 1          | 0          | 0          | 0          | 4          | 0          | Ray        |  6         | ⋯          | 0          | 0          | 0          | 0          | 0          | 0          | 0          | 0          | 152        | 131        | \n",
       "| 65 | 2004       | Sideways   | 1          | 0          | 0          | 0          | 5          | 0          | Sideways   |  5         | ⋯          | 0          | 0          | 0          | 0          | 0          | 0          | 0          | 0          | 123        | 138        | \n",
       "| 81 | 2003       | Lost       | 1          | 0          | 0          | 0          | 1          | 0          | Lost       |  4         | ⋯          | 0          | 0          | 0          | 0          | 0          | 0          | 0          | 0          | 102        | 149        | \n",
       "| 82 | 2003       | Master     | 1          | 0          | 0          | 0          | 2          | 0          | Master     | 10         | ⋯          | 0          | 0          | 0          | 0          | 0          | 0          | 0          | 0          | 138        | 107        | \n",
       "| 83 | 2003       | Mystic     | 1          | 0          | 0          | 0          | 3          | 0          | Mystic     |  6         | ⋯          | 0          | 0          | 0          | 0          | 0          | 0          | 0          | 0          | 137        | 137        | \n",
       "| 84 | 2003       | Return     | 1          | 0          | 0          | 0          | 4          | 1          | Return     | 11         | ⋯          | 0          | 0          | 0          | 1          | 0          | 0          | 0          | 0          | 201        |  74        | \n",
       "| 85 | 2003       | Seabiscuit | 1          | 0          | 0          | 0          | 5          | 0          | Seabiscuit |  7         | ⋯          | 0          | 0          | 0          | 0          | 0          | 0          | 0          | 0          | 141        | 219        | \n",
       "| 101 | 2002       | Chicago    | 1          | 0          | 0          | 0          | 1          | 1          | Chicago    | 13         | ⋯          | 0          | 0          | 0          | 1          | 0          | 0          | 0          | 0          | 113        |  58        | \n",
       "| 102 | 2002       | Gangs      | 1          | 0          | 0          | 0          | 2          | 0          | Gangs      | 10         | ⋯          | 0          | 0          | 0          | 0          | 0          | 0          | 0          | 0          | 166        |  93        | \n",
       "| 103 | 2002       | Hours      | 1          | 0          | 0          | 0          | 3          | 0          | Hours      |  9         | ⋯          | 0          | 0          | 0          | 0          | 0          | 0          | 0          | 0          | 114        |  58        | \n",
       "| 104 | 2002       | Pianist    | 1          | 0          | 0          | 0          | 4          | 0          | Pianist    |  7         | ⋯          | 0          | 0          | 0          | 0          | 0          | 0          | 0          | 0          | 150        |  79        | \n",
       "| 105 | 2002       | Towers     | 1          | 0          | 0          | 0          | 5          | 0          | Towers     |  6         | ⋯          | 0          | 0          | 0          | 0          | 0          | 0          | 0          | 0          | 179        |  95        | \n",
       "| ⋮ | ⋮ | ⋮ | ⋮ | ⋮ | ⋮ | ⋮ | ⋮ | ⋮ | ⋮ | ⋮ | ⋱ | ⋮ | ⋮ | ⋮ | ⋮ | ⋮ | ⋮ | ⋮ | ⋮ | ⋮ | ⋮ | \n",
       "| 1021 | 1956         | Around       | 1            | 0            | 0            | 0            | 1            | 1            | Around       |  8           | ⋯            | 0            | 0            | 0            | 0            | 0            | 0            | 0            | 0            | 167          | 161          | \n",
       "| 1022 | 1956         | Commandments | 1            | 0            | 0            | 0            | 2            | 0            | Commandments |  7           | ⋯            | 0            | 0            | 0            | 0            | 0            | 0            | 0            | 0            | 220          | 173          | \n",
       "| 1023 | 1956         | Friendly     | 1            | 0            | 0            | 0            | 3            | 0            | Friendly     |  5           | ⋯            | 0            | 0            | 0            | 0            | 0            | 0            | 0            | 0            | 137          | 122          | \n",
       "| 1024 | 1956         | Giant        | 1            | 0            | 0            | 0            | 4            | 0            | Giant        | 10           | ⋯            | 0            | 0            | 0            | 1            | 0            | 0            | 0            | 0            | 201          | 168          | \n",
       "| 1025 | 1956         | King         | 1            | 0            | 0            | 0            | 5            | 0            | King         |  9           | ⋯            | 0            | 0            | 0            | 0            | 0            | 0            | 0            | 0            | 133          | 272          | \n",
       "| 1041 | 1955         | Love         | 1            | 0            | 0            | 0            | 1            | 0            | Love         |  8           | ⋯            | 0            | 0            | 0            | 0            | 0            | 0            | 0            | 0            | 102          | 216          | \n",
       "| 1042 | 1955         | Marty        | 1            | 0            | 0            | 0            | 2            | 1            | Marty        |  8           | ⋯            | 0            | 0            | 0            | 1            | 0            | 0            | 0            | 0            |  91          | 345          | \n",
       "| 1043 | 1955         | Picnic       | 1            | 0            | 0            | 0            | 3            | 0            | Picnic       |  6           | ⋯            | 0            | 0            | 0            | 0            | 0            | 0            | 0            | 0            | 115          | 127          | \n",
       "| 1044 | 1955         | Roberts      | 1            | 0            | 0            | 0            | 4            | 0            | Roberts      |  3           | ⋯            | 0            | 0            | 0            | 0            | 0            | 0            | 0            | 0            | 123          | 235          | \n",
       "| 1045 | 1955         | Rose         | 1            | 0            | 0            | 0            | 5            | 0            | Rose         |  8           | ⋯            | 0            | 0            | 0            | 0            | 0            | 0            | 0            | 0            | 117          | 100          | \n",
       "| 1061 | 1954         | Brides       | 1            | 0            | 0            | 0            | 1            | 0            | Brides       |  5           | ⋯            | 0            | 0            | 0            | 0            | 0            | 0            | 0            | 0            | 102          | 251          | \n",
       "| 1062 | 1954         | Caine        | 1            | 0            | 0            | 0            | 2            | 0            | Caine        |  7           | ⋯            | 0            | 0            | 0            | 0            | 0            | 0            | 0            | 0            | 124          | 279          | \n",
       "| 1063 | 1954         | Coins        | 1            | 0            | 0            | 0            | 3            | 0            | Coins        |  3           | ⋯            | 0            | 0            | 0            | 0            | 0            | 0            | 0            | 0            | 102          | 314          | \n",
       "| 1064 | 1954         | Country      | 1            | 0            | 0            | 0            | 4            | 0            | Country      |  7           | ⋯            | 0            | 0            | 0            | 0            | 0            | 0            | 0            | 0            | 104          | 105          | \n",
       "| 1065 | 1954         | Waterfont    | 1            | 0            | 0            | 0            | 5            | 1            | Waterfont    | 12           | ⋯            | 0            | 0            | 0            | 1            | 0            | 0            | 0            | 0            | 108          | 245          | \n",
       "| 1081 | 1953         | Caesar       | 1            | 0            | 0            | 0            | 1            | 0            | Caesar       |  5           | ⋯            | 0            | 0            | 0            | 0            | 0            | 0            | 0            | 0            | 120          | 294          | \n",
       "| 1082 | 1953         | Eternity     | 1            | 0            | 0            | 0            | 2            | 1            | Eternity     | 13           | ⋯            | 0            | 0            | 0            | 1            | 0            | 0            | 0            | 0            | 118          | 232          | \n",
       "| 1083 | 1953         | Robe         | 1            | 0            | 0            | 0            | 3            | 0            | Robe         |  5           | ⋯            | 0            | 0            | 0            | 0            | 0            | 0            | 0            | 0            | 135          | 190          | \n",
       "| 1084 | 1953         | Roman        | 1            | 0            | 0            | 0            | 4            | 0            | Roman        | 10           | ⋯            | 0            | 0            | 0            | 0            | 0            | 0            | 0            | 0            | 118          | 210          | \n",
       "| 1085 | 1953         | Shane        | 1            | 0            | 0            | 0            | 5            | 0            | Shane        |  6           | ⋯            | 0            | 0            | 0            | 0            | 0            | 0            | 0            | 0            | 118          | 336          | \n",
       "| 1101 | 1952         | Greatest     | 1            | 0            | 0            | 0            | 1            | 1            | Greatest     |  5           | ⋯            | 0            | 0            | 0            | 0            | 0            | 0            | 0            | 0            | 152          | 434          | \n",
       "| 1102 | 1952         | Ivanhoe      | 1            | 0            | 0            | 0            | 2            | 0            | Ivanhoe      |  3           | ⋯            | 0            | 0            | 0            | 0            | 0            | 0            | 0            | 0            | 106          | 231          | \n",
       "| 1103 | 1952         | Moulin       | 1            | 0            | 0            | 0            | 3            | 0            | Moulin       |  7           | ⋯            | 0            | 0            | 0            | 0            | 0            | 0            | 0            | 0            | 119          |  86          | \n",
       "| 1104 | 1952         | Noon         | 1            | 0            | 0            | 0            | 4            | 0            | Noon         |  7           | ⋯            | 0            | 0            | 0            | 0            | 0            | 0            | 0            | 0            |  85          | 238          | \n",
       "| 1105 | 1952         | Quiet        | 1            | 0            | 0            | 0            | 5            | 0            | Quiet        |  7           | ⋯            | 0            | 0            | 0            | 1            | 0            | 0            | 0            | 0            | 129          | 217          | \n",
       "| 1121 | 1951         | American     | 1            | 0            | 0            | 0            | 1            | 1            | American     |  8           | ⋯            | 0            | 0            | 0            | 0            | 0            | 0            | 0            | 0            | 113          | 168          | \n",
       "| 1122 | 1951         | Decision     | 1            | 0            | 0            | 0            | 2            | 0            | Decision     |  2           | ⋯            | 0            | 0            | 0            | 0            | 0            | 0            | 0            | 0            | 119          |  90          | \n",
       "| 1123 | 1951         | Place        | 1            | 0            | 0            | 0            | 3            | 0            | Place        |  9           | ⋯            | 0            | 0            | 0            | 1            | 0            | 0            | 0            | 0            | 122          | 219          | \n",
       "| 1124 | 1951         | Quo          | 1            | 0            | 0            | 0            | 4            | 0            | Quo          |  8           | ⋯            | 0            | 0            | 0            | 0            | 0            | 0            | 0            | 0            | 171          | 133          | \n",
       "| 1125 | 1951         | Streetcar    | 1            | 0            | 0            | 0            | 5            | 0            | Streetcar    | 12           | ⋯            | 0            | 0            | 0            | 0            | 0            | 0            | 0            | 0            | 122          | 184          | \n",
       "\n",
       "\n"
      ],
      "text/plain": [
       "     Year Name         PP DD MM FF Mode Ch Movie        Nom ⋯ Gm2 Gf1 Gf2 PGA\n",
       "1    2007 Atonement    1  0  0  0  1    0  Atonement     7  ⋯ 0   0   0   0  \n",
       "2    2007 Juno         1  0  0  0  2    0  Juno          4  ⋯ 0   0   0   0  \n",
       "3    2007 Clayton      1  0  0  0  3    0  Clayton       7  ⋯ 0   0   0   0  \n",
       "4    2007 Country      1  0  0  0  4    1  Country       8  ⋯ 0   0   0   1  \n",
       "5    2007 Blood        1  0  0  0  5    0  Blood         8  ⋯ 0   0   0   0  \n",
       "21   2006 Babel        1  0  0  0  1    0  Babel         7  ⋯ 0   0   0   0  \n",
       "22   2006 Departed     1  0  0  0  2    1  Departed      5  ⋯ 0   0   0   0  \n",
       "23   2006 Letters      1  0  0  0  3    0  Letters       4  ⋯ 0   0   0   0  \n",
       "24   2006 Sunshine     1  0  0  0  4    0  Sunshine      4  ⋯ 0   0   0   1  \n",
       "25   2006 Queen        1  0  0  0  5    0  Queen         6  ⋯ 0   0   0   0  \n",
       "41   2005 Brokeback    1  0  0  0  1    0  Brokeback     8  ⋯ 0   0   0   1  \n",
       "42   2005 Capote       1  0  0  0  2    0  Capote        5  ⋯ 0   0   0   0  \n",
       "43   2005 Crash        1  0  0  0  3    1  Crash         6  ⋯ 0   0   0   0  \n",
       "44   2005 Goodnight    1  0  0  0  4    0  Goodnight     6  ⋯ 0   0   0   0  \n",
       "45   2005 Munich       1  0  0  0  5    0  Munich        5  ⋯ 0   0   0   0  \n",
       "61   2004 Aviator      1  0  0  0  1    0  Aviator      11  ⋯ 0   0   0   1  \n",
       "62   2004 Neverland    1  0  0  0  2    0  Neverland     7  ⋯ 0   0   0   0  \n",
       "63   2004 Million      1  0  0  0  3    1  Million       7  ⋯ 0   0   0   0  \n",
       "64   2004 Ray          1  0  0  0  4    0  Ray           6  ⋯ 0   0   0   0  \n",
       "65   2004 Sideways     1  0  0  0  5    0  Sideways      5  ⋯ 0   0   0   0  \n",
       "81   2003 Lost         1  0  0  0  1    0  Lost          4  ⋯ 0   0   0   0  \n",
       "82   2003 Master       1  0  0  0  2    0  Master       10  ⋯ 0   0   0   0  \n",
       "83   2003 Mystic       1  0  0  0  3    0  Mystic        6  ⋯ 0   0   0   0  \n",
       "84   2003 Return       1  0  0  0  4    1  Return       11  ⋯ 0   0   0   1  \n",
       "85   2003 Seabiscuit   1  0  0  0  5    0  Seabiscuit    7  ⋯ 0   0   0   0  \n",
       "101  2002 Chicago      1  0  0  0  1    1  Chicago      13  ⋯ 0   0   0   1  \n",
       "102  2002 Gangs        1  0  0  0  2    0  Gangs        10  ⋯ 0   0   0   0  \n",
       "103  2002 Hours        1  0  0  0  3    0  Hours         9  ⋯ 0   0   0   0  \n",
       "104  2002 Pianist      1  0  0  0  4    0  Pianist       7  ⋯ 0   0   0   0  \n",
       "105  2002 Towers       1  0  0  0  5    0  Towers        6  ⋯ 0   0   0   0  \n",
       "⋮    ⋮    ⋮            ⋮  ⋮  ⋮  ⋮  ⋮    ⋮  ⋮            ⋮   ⋱ ⋮   ⋮   ⋮   ⋮  \n",
       "1021 1956 Around       1  0  0  0  1    1  Around        8  ⋯ 0   0   0   0  \n",
       "1022 1956 Commandments 1  0  0  0  2    0  Commandments  7  ⋯ 0   0   0   0  \n",
       "1023 1956 Friendly     1  0  0  0  3    0  Friendly      5  ⋯ 0   0   0   0  \n",
       "1024 1956 Giant        1  0  0  0  4    0  Giant        10  ⋯ 0   0   0   1  \n",
       "1025 1956 King         1  0  0  0  5    0  King          9  ⋯ 0   0   0   0  \n",
       "1041 1955 Love         1  0  0  0  1    0  Love          8  ⋯ 0   0   0   0  \n",
       "1042 1955 Marty        1  0  0  0  2    1  Marty         8  ⋯ 0   0   0   1  \n",
       "1043 1955 Picnic       1  0  0  0  3    0  Picnic        6  ⋯ 0   0   0   0  \n",
       "1044 1955 Roberts      1  0  0  0  4    0  Roberts       3  ⋯ 0   0   0   0  \n",
       "1045 1955 Rose         1  0  0  0  5    0  Rose          8  ⋯ 0   0   0   0  \n",
       "1061 1954 Brides       1  0  0  0  1    0  Brides        5  ⋯ 0   0   0   0  \n",
       "1062 1954 Caine        1  0  0  0  2    0  Caine         7  ⋯ 0   0   0   0  \n",
       "1063 1954 Coins        1  0  0  0  3    0  Coins         3  ⋯ 0   0   0   0  \n",
       "1064 1954 Country      1  0  0  0  4    0  Country       7  ⋯ 0   0   0   0  \n",
       "1065 1954 Waterfont    1  0  0  0  5    1  Waterfont    12  ⋯ 0   0   0   1  \n",
       "1081 1953 Caesar       1  0  0  0  1    0  Caesar        5  ⋯ 0   0   0   0  \n",
       "1082 1953 Eternity     1  0  0  0  2    1  Eternity     13  ⋯ 0   0   0   1  \n",
       "1083 1953 Robe         1  0  0  0  3    0  Robe          5  ⋯ 0   0   0   0  \n",
       "1084 1953 Roman        1  0  0  0  4    0  Roman        10  ⋯ 0   0   0   0  \n",
       "1085 1953 Shane        1  0  0  0  5    0  Shane         6  ⋯ 0   0   0   0  \n",
       "1101 1952 Greatest     1  0  0  0  1    1  Greatest      5  ⋯ 0   0   0   0  \n",
       "1102 1952 Ivanhoe      1  0  0  0  2    0  Ivanhoe       3  ⋯ 0   0   0   0  \n",
       "1103 1952 Moulin       1  0  0  0  3    0  Moulin        7  ⋯ 0   0   0   0  \n",
       "1104 1952 Noon         1  0  0  0  4    0  Noon          7  ⋯ 0   0   0   0  \n",
       "1105 1952 Quiet        1  0  0  0  5    0  Quiet         7  ⋯ 0   0   0   1  \n",
       "1121 1951 American     1  0  0  0  1    1  American      8  ⋯ 0   0   0   0  \n",
       "1122 1951 Decision     1  0  0  0  2    0  Decision      2  ⋯ 0   0   0   0  \n",
       "1123 1951 Place        1  0  0  0  3    0  Place         9  ⋯ 0   0   0   1  \n",
       "1124 1951 Quo          1  0  0  0  4    0  Quo           8  ⋯ 0   0   0   0  \n",
       "1125 1951 Streetcar    1  0  0  0  5    0  Streetcar    12  ⋯ 0   0   0   0  \n",
       "     DGA SAM SAF Age Length Days\n",
       "1    0   0   0   0   130     51 \n",
       "2    0   0   0   0    96     61 \n",
       "3    0   0   0   0   119    135 \n",
       "4    0   0   0   0   122     95 \n",
       "5    0   0   0   0   158     44 \n",
       "21   0   0   0   0   142    121 \n",
       "22   0   0   0   0   151    142 \n",
       "23   0   0   0   0   140     67 \n",
       "24   0   0   0   0   101    214 \n",
       "25   0   0   0   0    97    148 \n",
       "41   0   0   0   0   134     95 \n",
       "42   0   0   0   0   114    156 \n",
       "43   0   0   0   0   113    303 \n",
       "44   0   0   0   0    93    149 \n",
       "45   0   0   0   0   164     72 \n",
       "61   0   0   0   0   170     75 \n",
       "62   0   0   0   0   106    107 \n",
       "63   0   0   0   0   132     74 \n",
       "64   0   0   0   0   152    131 \n",
       "65   0   0   0   0   123    138 \n",
       "81   0   0   0   0   102    149 \n",
       "82   0   0   0   0   138    107 \n",
       "83   0   0   0   0   137    137 \n",
       "84   0   0   0   0   201     74 \n",
       "85   0   0   0   0   141    219 \n",
       "101  0   0   0   0   113     58 \n",
       "102  0   0   0   0   166     93 \n",
       "103  0   0   0   0   114     58 \n",
       "104  0   0   0   0   150     79 \n",
       "105  0   0   0   0   179     95 \n",
       "⋮    ⋮   ⋮   ⋮   ⋮   ⋮      ⋮   \n",
       "1021 0   0   0   0   167    161 \n",
       "1022 0   0   0   0   220    173 \n",
       "1023 0   0   0   0   137    122 \n",
       "1024 0   0   0   0   201    168 \n",
       "1025 0   0   0   0   133    272 \n",
       "1041 0   0   0   0   102    216 \n",
       "1042 0   0   0   0    91    345 \n",
       "1043 0   0   0   0   115    127 \n",
       "1044 0   0   0   0   123    235 \n",
       "1045 0   0   0   0   117    100 \n",
       "1061 0   0   0   0   102    251 \n",
       "1062 0   0   0   0   124    279 \n",
       "1063 0   0   0   0   102    314 \n",
       "1064 0   0   0   0   104    105 \n",
       "1065 0   0   0   0   108    245 \n",
       "1081 0   0   0   0   120    294 \n",
       "1082 0   0   0   0   118    232 \n",
       "1083 0   0   0   0   135    190 \n",
       "1084 0   0   0   0   118    210 \n",
       "1085 0   0   0   0   118    336 \n",
       "1101 0   0   0   0   152    434 \n",
       "1102 0   0   0   0   106    231 \n",
       "1103 0   0   0   0   119     86 \n",
       "1104 0   0   0   0    85    238 \n",
       "1105 0   0   0   0   129    217 \n",
       "1121 0   0   0   0   113    168 \n",
       "1122 0   0   0   0   119     90 \n",
       "1123 0   0   0   0   122    219 \n",
       "1124 0   0   0   0   171    133 \n",
       "1125 0   0   0   0   122    184 "
      ]
     },
     "metadata": {},
     "output_type": "display_data"
    }
   ],
   "source": [
    "# Building a logit model\n",
    "library(mlogit)\n",
    "?mlogit.data\n",
    "oscarsPP <- subset(oscars, PP==1)\n",
    "oscarsPP\n",
    "D1 <- mlogit.data(subset(oscarsPP, Year<=2006),\n",
    "                 choice = \"Ch\",\n",
    "                 shape = \"long\",\n",
    "                 chid.var = \"Year\",\n",
    "                 alt.var = \"Mode\")\n",
    "# alternatively, can use \"alt.var = c(1,2,3,4,5)\"\n",
    "\n",
    "# optimisation via newton's method\n",
    "# M1 <- mlogit(Ch~Nom+Dir+G+Aml+Afl+PGA+Days+Length-1, data=D1)\n",
    "# summary(M1)\n",
    "# ?mlogit.data\n",
    "# oscarsPP"
   ]
  },
  {
   "cell_type": "code",
   "execution_count": 10,
   "metadata": {},
   "outputs": [
    {
     "ename": "ERROR",
     "evalue": "Error in as.data.frame.default(data): cannot coerce class \"\"function\"\" to a data.frame\n",
     "output_type": "error",
     "traceback": [
      "Error in as.data.frame.default(data): cannot coerce class \"\"function\"\" to a data.frame\nTraceback:\n",
      "1. mlogit(Ch ~ Nom + Dir + G + PGA - 1, data = D)",
      "2. eval(mf, parent.frame())",
      "3. eval(mf, parent.frame())",
      "4. model.frame(formula = Ch ~ Nom + Dir + G + PGA - 1, data = function (expr, \n .     name) \n . .External(C_doD, expr, name))",
      "5. model.frame.mFormula(formula = Ch ~ Nom + Dir + G + PGA - 1, \n .     data = function (expr, name) \n .     .External(C_doD, expr, name))",
      "6. model.frame(as.Formula(formula), as.data.frame(data), ..., rhs = rhs)",
      "7. model.frame.Formula(as.Formula(formula), as.data.frame(data), \n .     ..., rhs = rhs)",
      "8. model.frame(terms(formula, lhs = lhs, rhs = rhs, data = data, \n .     dot = dot), data = data, ...)",
      "9. terms(formula, lhs = lhs, rhs = rhs, data = data, dot = dot)",
      "10. terms.Formula(formula, lhs = lhs, rhs = rhs, data = data, dot = dot)",
      "11. terms(form, ...)",
      "12. terms.formula(form, ...)",
      "13. as.data.frame(data)",
      "14. as.data.frame.default(data)",
      "15. stop(gettextf(\"cannot coerce class \\\"%s\\\" to a data.frame\", deparse(class(x))), \n  .     domain = NA)"
     ]
    }
   ],
   "source": [
    "M2 <- mlogit(Ch~Nom+Dir+G+PGA-1, data=D)\n",
    "summary(M2)"
   ]
  },
  {
   "cell_type": "markdown",
   "metadata": {},
   "source": [
    "Now, predicting 2007 winning results using model M2. We can see that based on this model, alternative \\#4 (No Country for Old Men) has the highest chance of winning."
   ]
  },
  {
   "cell_type": "code",
   "execution_count": 11,
   "metadata": {},
   "outputs": [
    {
     "ename": "ERROR",
     "evalue": "Error in predict(M2, D2): object 'M2' not found\n",
     "output_type": "error",
     "traceback": [
      "Error in predict(M2, D2): object 'M2' not found\nTraceback:\n",
      "1. predict(M2, D2)"
     ]
    }
   ],
   "source": [
    "D2 <- mlogit.data(subset(oscarsPP, Year==2007),\n",
    "                 choice = \"Ch\",\n",
    "                 shape = \"long\",\n",
    "                 chid.var = \"Year\",\n",
    "                 alt.var = \"Mode\")\n",
    "P2 <- predict(M2, D2)\n",
    "\n",
    "# showing results\n",
    "P2\n",
    "subset(oscarsPP, Year==2007)"
   ]
  },
  {
   "cell_type": "markdown",
   "metadata": {},
   "source": [
    "Similarly, we can also see who the surprise winners are based on our prediction probabilities versus actual winners. We can see that for the year 2004 there are surprise winners."
   ]
  },
  {
   "cell_type": "code",
   "execution_count": null,
   "metadata": {
    "collapsed": true
   },
   "outputs": [],
   "source": [
    "D3 <- mlogit.data(oscarsPP,\n",
    "                 choice = \"Ch\",\n",
    "                 shape = \"long\",\n",
    "                 chid.var = \"Year\",\n",
    "                 alt.var = \"Mode\")\n",
    "M3 <- mlogit(Ch~Nom+Dir+G+PGA-1, data=D3)\n",
    "P3 <- predict(M3, D3)\n",
    "\n",
    "# assigning winning prediction probabilties back to dataframe\n",
    "Pred <- as.vector(t(P3))\n",
    "oscarsPP$Pred <- Pred\n",
    "\n",
    "# showing results\n",
    "print(subset(oscarsPP, oscarsPP$Year==2004))"
   ]
  },
  {
   "cell_type": "markdown",
   "metadata": {},
   "source": [
    "Now, to predict Best Actor winners instead of Best Picture"
   ]
  },
  {
   "cell_type": "code",
   "execution_count": null,
   "metadata": {
    "collapsed": true,
    "scrolled": false
   },
   "outputs": [],
   "source": [
    "Fail <- 0\n",
    "Predict <- NULL\n",
    "Coefficients <- NULL\n",
    "oscarsMM <- subset(oscars, MM==1)\n",
    "\n",
    "\n",
    "# here in this loop, we wish to model real life predictions and use only previous year's data to predict\n",
    "for (i in 1960:2006) {\n",
    "    \n",
    "    # creating logit model based on training set Year<=i\n",
    "    D4 <- mlogit.data(subset(oscarsMM, Year<=i),\n",
    "         choice = \"Ch\",\n",
    "         shape = \"long\",\n",
    "         chid.var = \"Year\",\n",
    "         alt.var = \"Mode\")\n",
    "    M4 <- mlogit(Ch~Pic+Gm1+Gm2+PrNl+PrWl-1, data=D4)\n",
    "    # memoise coefficients results\n",
    "    Coefficients <- rbind(Coefficients, M4$coeff)\n",
    "    \n",
    "    # predicting Year=i+1's results based on past trained model\n",
    "    D5 <- mlogit.data(subset(oscarsMM, Year==i+1),\n",
    "         choice = \"Ch\",\n",
    "         shape = \"long\",\n",
    "         chid.var = \"Year\",\n",
    "         alt.var = \"Mode\")\n",
    "    P <- predict(M4, D5, Year=i+1)\n",
    "    # memoise prediction results\n",
    "    Predict <- rbind(Predict, P)\n",
    "    \n",
    "    # \n",
    "    Fail <- Fail + as.logical(which.max(P)-\n",
    "                              which.max(subset(oscarsMM, Year==i+1)$Ch))\n",
    "    \n",
    "}\n",
    "Fail"
   ]
  }
 ],
 "metadata": {
  "kernelspec": {
   "display_name": "R",
   "language": "R",
   "name": "ir"
  },
  "language_info": {
   "codemirror_mode": "r",
   "file_extension": ".r",
   "mimetype": "text/x-r-source",
   "name": "R",
   "pygments_lexer": "r",
   "version": "3.4.0"
  }
 },
 "nbformat": 4,
 "nbformat_minor": 2
}
