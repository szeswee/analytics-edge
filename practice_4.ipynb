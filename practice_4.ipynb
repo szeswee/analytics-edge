{
 "cells": [
  {
   "cell_type": "markdown",
   "metadata": {},
   "source": [
    "### 1A"
   ]
  },
  {
   "cell_type": "code",
   "execution_count": 31,
   "metadata": {
    "scrolled": false
   },
   "outputs": [
    {
     "name": "stdout",
     "output_type": "stream",
     "text": [
      "'data.frame':\t900 obs. of  16 variables:\n",
      " $ idcase: int  1 2 3 4 5 6 7 8 9 10 ...\n",
      " $ depvar: Factor w/ 5 levels \"ec\",\"er\",\"gc\",..: 3 3 3 2 2 3 3 3 3 3 ...\n",
      " $ ic.gc : num  866 728 599 835 756 ...\n",
      " $ ic.gr : num  963 759 783 793 846 ...\n",
      " $ ic.ec : num  860 797 720 761 859 ...\n",
      " $ ic.er : num  996 895 900 831 986 ...\n",
      " $ ic.hp : num  1136 969 1048 1049 883 ...\n",
      " $ oc.gc : num  200 169 166 181 175 ...\n",
      " $ oc.gr : num  152 169 138 147 139 ...\n",
      " $ oc.ec : num  553 520 439 483 404 ...\n",
      " $ oc.er : num  506 486 405 425 390 ...\n",
      " $ oc.hp : num  238 199 171 223 178 ...\n",
      " $ income: int  7 5 4 2 2 6 4 6 5 7 ...\n",
      " $ agehed: int  25 60 65 50 25 65 35 20 60 20 ...\n",
      " $ rooms : int  6 5 2 4 6 7 2 7 6 2 ...\n",
      " $ region: Factor w/ 4 levels \"mountn\",\"ncostl\",..: 2 3 2 3 4 3 3 4 3 3 ...\n"
     ]
    },
    {
     "data": {
      "text/html": [
       "<table>\n",
       "<thead><tr><th scope=col>idcase</th><th scope=col>depvar</th><th scope=col>ic.gc</th><th scope=col>ic.gr</th><th scope=col>ic.ec</th><th scope=col>ic.er</th><th scope=col>ic.hp</th><th scope=col>oc.gc</th><th scope=col>oc.gr</th><th scope=col>oc.ec</th><th scope=col>oc.er</th><th scope=col>oc.hp</th><th scope=col>income</th><th scope=col>agehed</th><th scope=col>rooms</th><th scope=col>region</th></tr></thead>\n",
       "<tbody>\n",
       "\t<tr><td>1      </td><td>gc     </td><td>866.00 </td><td>962.64 </td><td>859.90 </td><td>995.76 </td><td>1135.50</td><td>199.69 </td><td>151.72 </td><td>553.34 </td><td>505.60 </td><td>237.88 </td><td>7      </td><td>25     </td><td>6      </td><td>ncostl </td></tr>\n",
       "\t<tr><td>2      </td><td>gc     </td><td>727.93 </td><td>758.89 </td><td>796.82 </td><td>894.69 </td><td> 968.90</td><td>168.66 </td><td>168.66 </td><td>520.24 </td><td>486.49 </td><td>199.19 </td><td>5      </td><td>60     </td><td>5      </td><td>scostl </td></tr>\n",
       "\t<tr><td>3      </td><td>gc     </td><td>599.48 </td><td>783.05 </td><td>719.86 </td><td>900.11 </td><td>1048.30</td><td>165.58 </td><td>137.80 </td><td>439.06 </td><td>404.74 </td><td>171.47 </td><td>4      </td><td>65     </td><td>2      </td><td>ncostl </td></tr>\n",
       "\t<tr><td>4      </td><td>er     </td><td>835.17 </td><td>793.06 </td><td>761.25 </td><td>831.04 </td><td>1048.70</td><td>180.88 </td><td>147.14 </td><td>483.00 </td><td>425.22 </td><td>222.95 </td><td>2      </td><td>50     </td><td>4      </td><td>scostl </td></tr>\n",
       "\t<tr><td>5      </td><td>er     </td><td>755.59 </td><td>846.29 </td><td>858.86 </td><td>985.64 </td><td> 883.05</td><td>174.91 </td><td>138.90 </td><td>404.41 </td><td>389.52 </td><td>178.49 </td><td>2      </td><td>25     </td><td>6      </td><td>valley </td></tr>\n",
       "\t<tr><td>6      </td><td>gc     </td><td>666.11 </td><td>841.71 </td><td>693.74 </td><td>862.56 </td><td> 859.18</td><td>135.67 </td><td>140.97 </td><td>398.22 </td><td>371.04 </td><td>209.27 </td><td>6      </td><td>65     </td><td>7      </td><td>scostl </td></tr>\n",
       "</tbody>\n",
       "</table>\n"
      ],
      "text/latex": [
       "\\begin{tabular}{r|llllllllllllllll}\n",
       " idcase & depvar & ic.gc & ic.gr & ic.ec & ic.er & ic.hp & oc.gc & oc.gr & oc.ec & oc.er & oc.hp & income & agehed & rooms & region\\\\\n",
       "\\hline\n",
       "\t 1       & gc      & 866.00  & 962.64  & 859.90  & 995.76  & 1135.50 & 199.69  & 151.72  & 553.34  & 505.60  & 237.88  & 7       & 25      & 6       & ncostl \\\\\n",
       "\t 2       & gc      & 727.93  & 758.89  & 796.82  & 894.69  &  968.90 & 168.66  & 168.66  & 520.24  & 486.49  & 199.19  & 5       & 60      & 5       & scostl \\\\\n",
       "\t 3       & gc      & 599.48  & 783.05  & 719.86  & 900.11  & 1048.30 & 165.58  & 137.80  & 439.06  & 404.74  & 171.47  & 4       & 65      & 2       & ncostl \\\\\n",
       "\t 4       & er      & 835.17  & 793.06  & 761.25  & 831.04  & 1048.70 & 180.88  & 147.14  & 483.00  & 425.22  & 222.95  & 2       & 50      & 4       & scostl \\\\\n",
       "\t 5       & er      & 755.59  & 846.29  & 858.86  & 985.64  &  883.05 & 174.91  & 138.90  & 404.41  & 389.52  & 178.49  & 2       & 25      & 6       & valley \\\\\n",
       "\t 6       & gc      & 666.11  & 841.71  & 693.74  & 862.56  &  859.18 & 135.67  & 140.97  & 398.22  & 371.04  & 209.27  & 6       & 65      & 7       & scostl \\\\\n",
       "\\end{tabular}\n"
      ],
      "text/markdown": [
       "\n",
       "idcase | depvar | ic.gc | ic.gr | ic.ec | ic.er | ic.hp | oc.gc | oc.gr | oc.ec | oc.er | oc.hp | income | agehed | rooms | region | \n",
       "|---|---|---|---|---|---|\n",
       "| 1       | gc      | 866.00  | 962.64  | 859.90  | 995.76  | 1135.50 | 199.69  | 151.72  | 553.34  | 505.60  | 237.88  | 7       | 25      | 6       | ncostl  | \n",
       "| 2       | gc      | 727.93  | 758.89  | 796.82  | 894.69  |  968.90 | 168.66  | 168.66  | 520.24  | 486.49  | 199.19  | 5       | 60      | 5       | scostl  | \n",
       "| 3       | gc      | 599.48  | 783.05  | 719.86  | 900.11  | 1048.30 | 165.58  | 137.80  | 439.06  | 404.74  | 171.47  | 4       | 65      | 2       | ncostl  | \n",
       "| 4       | er      | 835.17  | 793.06  | 761.25  | 831.04  | 1048.70 | 180.88  | 147.14  | 483.00  | 425.22  | 222.95  | 2       | 50      | 4       | scostl  | \n",
       "| 5       | er      | 755.59  | 846.29  | 858.86  | 985.64  |  883.05 | 174.91  | 138.90  | 404.41  | 389.52  | 178.49  | 2       | 25      | 6       | valley  | \n",
       "| 6       | gc      | 666.11  | 841.71  | 693.74  | 862.56  |  859.18 | 135.67  | 140.97  | 398.22  | 371.04  | 209.27  | 6       | 65      | 7       | scostl  | \n",
       "\n",
       "\n"
      ],
      "text/plain": [
       "  idcase depvar ic.gc  ic.gr  ic.ec  ic.er  ic.hp   oc.gc  oc.gr  oc.ec  oc.er \n",
       "1 1      gc     866.00 962.64 859.90 995.76 1135.50 199.69 151.72 553.34 505.60\n",
       "2 2      gc     727.93 758.89 796.82 894.69  968.90 168.66 168.66 520.24 486.49\n",
       "3 3      gc     599.48 783.05 719.86 900.11 1048.30 165.58 137.80 439.06 404.74\n",
       "4 4      er     835.17 793.06 761.25 831.04 1048.70 180.88 147.14 483.00 425.22\n",
       "5 5      er     755.59 846.29 858.86 985.64  883.05 174.91 138.90 404.41 389.52\n",
       "6 6      gc     666.11 841.71 693.74 862.56  859.18 135.67 140.97 398.22 371.04\n",
       "  oc.hp  income agehed rooms region\n",
       "1 237.88 7      25     6     ncostl\n",
       "2 199.19 5      60     5     scostl\n",
       "3 171.47 4      65     2     ncostl\n",
       "4 222.95 2      50     4     scostl\n",
       "5 178.49 2      25     6     valley\n",
       "6 209.27 6      65     7     scostl"
      ]
     },
     "metadata": {},
     "output_type": "display_data"
    },
    {
     "data": {
      "text/html": [
       "<table>\n",
       "<thead><tr><th></th><th scope=col>idcase</th><th scope=col>depvar</th><th scope=col>income</th><th scope=col>agehed</th><th scope=col>rooms</th><th scope=col>region</th><th scope=col>alt</th><th scope=col>ic</th><th scope=col>oc</th><th scope=col>chid</th></tr></thead>\n",
       "<tbody>\n",
       "\t<tr><th scope=row>1.gc</th><td>1      </td><td>FALSE  </td><td>7      </td><td>25     </td><td>6      </td><td>ncostl </td><td>ec     </td><td> 859.90</td><td>553.34 </td><td>1      </td></tr>\n",
       "\t<tr><th scope=row>1.gr</th><td>1      </td><td>FALSE  </td><td>7      </td><td>25     </td><td>6      </td><td>ncostl </td><td>er     </td><td> 995.76</td><td>505.60 </td><td>1      </td></tr>\n",
       "\t<tr><th scope=row>1.ec</th><td>1      </td><td> TRUE  </td><td>7      </td><td>25     </td><td>6      </td><td>ncostl </td><td>gc     </td><td> 866.00</td><td>199.69 </td><td>1      </td></tr>\n",
       "\t<tr><th scope=row>1.er</th><td>1      </td><td>FALSE  </td><td>7      </td><td>25     </td><td>6      </td><td>ncostl </td><td>gr     </td><td> 962.64</td><td>151.72 </td><td>1      </td></tr>\n",
       "\t<tr><th scope=row>1.hp</th><td>1      </td><td>FALSE  </td><td>7      </td><td>25     </td><td>6      </td><td>ncostl </td><td>hp     </td><td>1135.50</td><td>237.88 </td><td>1      </td></tr>\n",
       "\t<tr><th scope=row>2.gc</th><td>2      </td><td>FALSE  </td><td>5      </td><td>60     </td><td>5      </td><td>scostl </td><td>ec     </td><td> 796.82</td><td>520.24 </td><td>2      </td></tr>\n",
       "</tbody>\n",
       "</table>\n"
      ],
      "text/latex": [
       "\\begin{tabular}{r|llllllllll}\n",
       "  & idcase & depvar & income & agehed & rooms & region & alt & ic & oc & chid\\\\\n",
       "\\hline\n",
       "\t1.gc & 1       & FALSE   & 7       & 25      & 6       & ncostl  & ec      &  859.90 & 553.34  & 1      \\\\\n",
       "\t1.gr & 1       & FALSE   & 7       & 25      & 6       & ncostl  & er      &  995.76 & 505.60  & 1      \\\\\n",
       "\t1.ec & 1       &  TRUE   & 7       & 25      & 6       & ncostl  & gc      &  866.00 & 199.69  & 1      \\\\\n",
       "\t1.er & 1       & FALSE   & 7       & 25      & 6       & ncostl  & gr      &  962.64 & 151.72  & 1      \\\\\n",
       "\t1.hp & 1       & FALSE   & 7       & 25      & 6       & ncostl  & hp      & 1135.50 & 237.88  & 1      \\\\\n",
       "\t2.gc & 2       & FALSE   & 5       & 60      & 5       & scostl  & ec      &  796.82 & 520.24  & 2      \\\\\n",
       "\\end{tabular}\n"
      ],
      "text/markdown": [
       "\n",
       "| <!--/--> | idcase | depvar | income | agehed | rooms | region | alt | ic | oc | chid | \n",
       "|---|---|---|---|---|---|\n",
       "| 1.gc | 1       | FALSE   | 7       | 25      | 6       | ncostl  | ec      |  859.90 | 553.34  | 1       | \n",
       "| 1.gr | 1       | FALSE   | 7       | 25      | 6       | ncostl  | er      |  995.76 | 505.60  | 1       | \n",
       "| 1.ec | 1       |  TRUE   | 7       | 25      | 6       | ncostl  | gc      |  866.00 | 199.69  | 1       | \n",
       "| 1.er | 1       | FALSE   | 7       | 25      | 6       | ncostl  | gr      |  962.64 | 151.72  | 1       | \n",
       "| 1.hp | 1       | FALSE   | 7       | 25      | 6       | ncostl  | hp      | 1135.50 | 237.88  | 1       | \n",
       "| 2.gc | 2       | FALSE   | 5       | 60      | 5       | scostl  | ec      |  796.82 | 520.24  | 2       | \n",
       "\n",
       "\n"
      ],
      "text/plain": [
       "     idcase depvar income agehed rooms region alt ic      oc     chid\n",
       "1.gc 1      FALSE  7      25     6     ncostl ec   859.90 553.34 1   \n",
       "1.gr 1      FALSE  7      25     6     ncostl er   995.76 505.60 1   \n",
       "1.ec 1       TRUE  7      25     6     ncostl gc   866.00 199.69 1   \n",
       "1.er 1      FALSE  7      25     6     ncostl gr   962.64 151.72 1   \n",
       "1.hp 1      FALSE  7      25     6     ncostl hp  1135.50 237.88 1   \n",
       "2.gc 2      FALSE  5      60     5     scostl ec   796.82 520.24 2   "
      ]
     },
     "metadata": {},
     "output_type": "display_data"
    },
    {
     "data": {
      "text/plain": [
       "\n",
       "Call:\n",
       "mlogit(formula = depvar ~ ic + oc - 1, data = data1A, method = \"nr\", \n",
       "    print.level = 0)\n",
       "\n",
       "Frequencies of alternatives:\n",
       "      gc       gr       ec       er       hp \n",
       "0.071111 0.093333 0.636667 0.143333 0.055556 \n",
       "\n",
       "nr method\n",
       "4 iterations, 0h:0m:0s \n",
       "g'(-H)^-1g = 1.56E-07 \n",
       "gradient close to zero \n",
       "\n",
       "Coefficients :\n",
       "      Estimate  Std. Error t-value  Pr(>|t|)    \n",
       "ic -0.00623187  0.00035277 -17.665 < 2.2e-16 ***\n",
       "oc -0.00458008  0.00032216 -14.217 < 2.2e-16 ***\n",
       "---\n",
       "Signif. codes:  0 ‘***’ 0.001 ‘**’ 0.01 ‘*’ 0.05 ‘.’ 0.1 ‘ ’ 1\n",
       "\n",
       "Log-Likelihood: -1095.2"
      ]
     },
     "metadata": {},
     "output_type": "display_data"
    }
   ],
   "source": [
    "library(mlogit)\n",
    "options(repr.plot.width=7, repr.plot.height=4) # resize IRkernel plot size\n",
    "heating <- read.csv(\"csv/Heating.csv\")\n",
    "str(heating)\n",
    "head(heating)\n",
    "\n",
    "# ?mlogit.data\n",
    "# this preprocesses the heating dataset to be ready to be inputted into the mlogit model\n",
    "data1A <- mlogit.data(heating,\n",
    "                 shape = \"wide\",\n",
    "                 choice = \"depvar\",\n",
    "                 alt.levels = c(\"gc\", \"gr\", \"ec\", \"er\", \"hp\"),\n",
    "                 sep = \".\",\n",
    "                 id.var = \"idcase\",\n",
    "                 varying = c(3:12))\n",
    "head(data1A)\n",
    "\n",
    "# no closed-form solution for the mlogit model, just like logistic regression\n",
    "model1A <- mlogit(depvar~ic+oc-1, data=data1A)\n",
    "summary(model1A)"
   ]
  },
  {
   "cell_type": "markdown",
   "metadata": {},
   "source": [
    "Both the coefficients of `ic` (installation cost) and `oc` (operating cost) are negative, which makes sense since the more expensive the alternative is, the less likely one will want to purchase it all else considered equal.\n",
    "\n",
    "Given the extremely small p-value, we can be confident in saying that the coefficient values are in fact non-zero, albeit with a tiny magnitude."
   ]
  },
  {
   "cell_type": "code",
   "execution_count": 32,
   "metadata": {
    "scrolled": false
   },
   "outputs": [
    {
     "data": {
      "text/plain": [
       "\n",
       "        ec         er         gc         gr         hp \n",
       "0.07111111 0.09333333 0.63666667 0.14333333 0.05555556 "
      ]
     },
     "metadata": {},
     "output_type": "display_data"
    },
    {
     "data": {
      "text/html": [
       "<dl class=dl-horizontal>\n",
       "\t<dt>gc</dt>\n",
       "\t\t<dd>0.104130572375179</dd>\n",
       "\t<dt>gr</dt>\n",
       "\t\t<dd>0.0514147742983051</dd>\n",
       "\t<dt>ec</dt>\n",
       "\t\t<dd>0.516956532280289</dd>\n",
       "\t<dt>er</dt>\n",
       "\t\t<dd>0.240308975347445</dd>\n",
       "\t<dt>hp</dt>\n",
       "\t\t<dd>0.087189145698782</dd>\n",
       "</dl>\n"
      ],
      "text/latex": [
       "\\begin{description*}\n",
       "\\item[gc] 0.104130572375179\n",
       "\\item[gr] 0.0514147742983051\n",
       "\\item[ec] 0.516956532280289\n",
       "\\item[er] 0.240308975347445\n",
       "\\item[hp] 0.087189145698782\n",
       "\\end{description*}\n"
      ],
      "text/markdown": [
       "gc\n",
       ":   0.104130572375179gr\n",
       ":   0.0514147742983051ec\n",
       ":   0.516956532280289er\n",
       ":   0.240308975347445hp\n",
       ":   0.087189145698782\n",
       "\n"
      ],
      "text/plain": [
       "        gc         gr         ec         er         hp \n",
       "0.10413057 0.05141477 0.51695653 0.24030898 0.08718915 "
      ]
     },
     "metadata": {},
     "output_type": "display_data"
    }
   ],
   "source": [
    "### SUBPART III\n",
    "table(heating$depvar)/NROW(heating) # actual share\n",
    "predict1A <- predict(model1A, data1A)\n",
    "apply(predict1A, 2, mean) # predicted share"
   ]
  },
  {
   "cell_type": "markdown",
   "metadata": {},
   "source": [
    "We can see that the predicted share do not bear any resemblance the actual share at all."
   ]
  },
  {
   "cell_type": "code",
   "execution_count": 3,
   "metadata": {},
   "outputs": [
    {
     "data": {
      "text/html": [
       "<strong>oc:</strong> 0.734945281306935"
      ],
      "text/latex": [
       "\\textbf{oc:} 0.734945281306935"
      ],
      "text/markdown": [
       "**oc:** 0.734945281306935"
      ],
      "text/plain": [
       "       oc \n",
       "0.7349453 "
      ]
     },
     "metadata": {},
     "output_type": "display_data"
    }
   ],
   "source": [
    "### SUBPART IV\n",
    "wtp1A <- model1A$coef[\"oc\"]/model1A$coef[\"ic\"]\n",
    "wtp1A"
   ]
  },
  {
   "cell_type": "markdown",
   "metadata": {},
   "source": [
    "For every dollar decrease increase in upfront installation cost, the owner expects roughly $0.73 decrease in yearly operational costs for the alternative to be equivalent."
   ]
  },
  {
   "cell_type": "markdown",
   "metadata": {},
   "source": [
    "### 1B"
   ]
  },
  {
   "cell_type": "code",
   "execution_count": 8,
   "metadata": {},
   "outputs": [
    {
     "data": {
      "text/plain": [
       "\n",
       "        ec         er         gc         gr         hp \n",
       "0.07111111 0.09333333 0.63666667 0.14333333 0.05555556 "
      ]
     },
     "metadata": {},
     "output_type": "display_data"
    },
    {
     "data": {
      "text/html": [
       "<dl class=dl-horizontal>\n",
       "\t<dt>gc</dt>\n",
       "\t\t<dd>0.0550317395229422</dd>\n",
       "\t<dt>gr</dt>\n",
       "\t\t<dd>0.0644100211583846</dd>\n",
       "\t<dt>ec</dt>\n",
       "\t\t<dd>0.335385839841312</dd>\n",
       "\t<dt>er</dt>\n",
       "\t\t<dd>0.335993959734097</dd>\n",
       "\t<dt>hp</dt>\n",
       "\t\t<dd>0.209178439743265</dd>\n",
       "</dl>\n"
      ],
      "text/latex": [
       "\\begin{description*}\n",
       "\\item[gc] 0.0550317395229422\n",
       "\\item[gr] 0.0644100211583846\n",
       "\\item[ec] 0.335385839841312\n",
       "\\item[er] 0.335993959734097\n",
       "\\item[hp] 0.209178439743265\n",
       "\\end{description*}\n"
      ],
      "text/markdown": [
       "gc\n",
       ":   0.0550317395229422gr\n",
       ":   0.0644100211583846ec\n",
       ":   0.335385839841312er\n",
       ":   0.335993959734097hp\n",
       ":   0.209178439743265\n",
       "\n"
      ],
      "text/plain": [
       "        gc         gr         ec         er         hp \n",
       "0.05503174 0.06441002 0.33538584 0.33599396 0.20917844 "
      ]
     },
     "metadata": {},
     "output_type": "display_data"
    },
    {
     "data": {
      "text/plain": [
       "'log Lik.' -1095.237 (df=2)"
      ]
     },
     "metadata": {},
     "output_type": "display_data"
    },
    {
     "data": {
      "text/plain": [
       "'log Lik.' -1248.702 (df=1)"
      ]
     },
     "metadata": {},
     "output_type": "display_data"
    }
   ],
   "source": [
    "# new lifecycle cost\n",
    "r = 0.12 # discount rate\n",
    "data1B <- data1A\n",
    "data1B$lcc <- data1B$ic + data1B$oc/r\n",
    "model1B <- mlogit(depvar~lcc-1 ,data1B)\n",
    "\n",
    "table(heating$depvar)/NROW(heating) # actual share\n",
    "predict1B <- predict(model1B, data1B)\n",
    "apply(predict1B, 2, mean) # predicted share\n",
    "\n",
    "# get log-likelihood\n",
    "logLik(model1A)\n",
    "logLik(model1B)"
   ]
  },
  {
   "cell_type": "markdown",
   "metadata": {},
   "source": [
    "### 1C\n",
    "\n",
    "Adding alternative-specific constants merely means adding the relevant intercepts/constants to the utility equations for each alternative, with reference to a baseline alternative that has an alternative-specific constant value of 0. E.g. (where alternative m is the reference level):\n",
    "\n",
    "- **Alternative k**: $U_{k} = \\beta'x_k + C_k + \\epsilon_k$, where $C_k=$ alternative-specific constant for k\n",
    "- **Alternative l**: $U_{l} = \\beta'x_l + C_l + \\epsilon_l$, where $C_l=$ alternative-specific constant for l\n",
    "- **Alternative m**: $U_{m} = \\beta'x_m + \\epsilon_l$\n",
    "\n",
    "**Q:** what is the operational difference between `+1` and adding `reflevel=\"hp\"` for the model in `mlogit()`?\n",
    "\n",
    "**A:** it seems by adding `+1` the `mlogit()` function is automatically treating it as adding alternative-specific constants with a randomly-chosen reference alternative. Note there is no difference in results even if normalisation is not carried out; it is merely convenient for us."
   ]
  },
  {
   "cell_type": "code",
   "execution_count": 39,
   "metadata": {},
   "outputs": [
    {
     "data": {
      "text/plain": [
       "\n",
       "Call:\n",
       "mlogit(formula = depvar ~ ic + oc, data = data1B, reflevel = \"hp\", \n",
       "    method = \"nr\", print.level = 0)\n",
       "\n",
       "Frequencies of alternatives:\n",
       "      hp       gc       gr       ec       er \n",
       "0.055556 0.071111 0.093333 0.636667 0.143333 \n",
       "\n",
       "nr method\n",
       "6 iterations, 0h:0m:0s \n",
       "g'(-H)^-1g = 9.58E-06 \n",
       "successive function values within tolerance limits \n",
       "\n",
       "Coefficients :\n",
       "                  Estimate  Std. Error t-value  Pr(>|t|)    \n",
       "gc:(intercept)  1.65884594  0.44841936  3.6993 0.0002162 ***\n",
       "gr:(intercept)  1.85343697  0.36195509  5.1206 3.045e-07 ***\n",
       "ec:(intercept)  1.71097930  0.22674214  7.5459 4.485e-14 ***\n",
       "er:(intercept)  0.30826328  0.20659222  1.4921 0.1356640    \n",
       "ic             -0.00153315  0.00062086 -2.4694 0.0135333 *  \n",
       "oc             -0.00699637  0.00155408 -4.5019 6.734e-06 ***\n",
       "---\n",
       "Signif. codes:  0 ‘***’ 0.001 ‘**’ 0.01 ‘*’ 0.05 ‘.’ 0.1 ‘ ’ 1\n",
       "\n",
       "Log-Likelihood: -1008.2\n",
       "McFadden R^2:  0.013691 \n",
       "Likelihood ratio test : chisq = 27.99 (p.value = 8.3572e-07)"
      ]
     },
     "metadata": {},
     "output_type": "display_data"
    },
    {
     "data": {
      "text/plain": [
       "\n",
       "        ec         er         gc         gr         hp \n",
       "0.07111111 0.09333333 0.63666667 0.14333333 0.05555556 "
      ]
     },
     "metadata": {},
     "output_type": "display_data"
    },
    {
     "data": {
      "text/html": [
       "<dl class=dl-horizontal>\n",
       "\t<dt>hp</dt>\n",
       "\t\t<dd>0.0555555553039371</dd>\n",
       "\t<dt>gc</dt>\n",
       "\t\t<dd>0.0711111107734277</dd>\n",
       "\t<dt>gr</dt>\n",
       "\t\t<dd>0.093333332947316</dd>\n",
       "\t<dt>ec</dt>\n",
       "\t\t<dd>0.636666663884788</dd>\n",
       "\t<dt>er</dt>\n",
       "\t\t<dd>0.143333337090531</dd>\n",
       "</dl>\n"
      ],
      "text/latex": [
       "\\begin{description*}\n",
       "\\item[hp] 0.0555555553039371\n",
       "\\item[gc] 0.0711111107734277\n",
       "\\item[gr] 0.093333332947316\n",
       "\\item[ec] 0.636666663884788\n",
       "\\item[er] 0.143333337090531\n",
       "\\end{description*}\n"
      ],
      "text/markdown": [
       "hp\n",
       ":   0.0555555553039371gc\n",
       ":   0.0711111107734277gr\n",
       ":   0.093333332947316ec\n",
       ":   0.636666663884788er\n",
       ":   0.143333337090531\n",
       "\n"
      ],
      "text/plain": [
       "        hp         gc         gr         ec         er \n",
       "0.05555556 0.07111111 0.09333333 0.63666666 0.14333334 "
      ]
     },
     "metadata": {},
     "output_type": "display_data"
    }
   ],
   "source": [
    "### SUBPART I\n",
    "model1C <- mlogit(depvar~ic+oc, data=data1B, reflevel=\"hp\")\n",
    "summary(model1C)\n",
    "predict1C <- predict(model1C, data1B)\n",
    "# comparing shares\n",
    "table(heating$depvar)/NROW(heating) # actual share\n",
    "apply(predict1C, 2, mean) # predicted share\n",
    "\n",
    "# here, in fact the predicted shares are exactly identical to the actual share"
   ]
  },
  {
   "cell_type": "code",
   "execution_count": 35,
   "metadata": {},
   "outputs": [
    {
     "data": {
      "text/html": [
       "<strong>oc:</strong> 4.56338500660111"
      ],
      "text/latex": [
       "\\textbf{oc:} 4.56338500660111"
      ],
      "text/markdown": [
       "**oc:** 4.56338500660111"
      ],
      "text/plain": [
       "      oc \n",
       "4.563385 "
      ]
     },
     "metadata": {},
     "output_type": "display_data"
    }
   ],
   "source": [
    "### SUBPART II\n",
    "model1C$coef[\"oc\"]/model1C$coef[\"ic\"]"
   ]
  },
  {
   "cell_type": "markdown",
   "metadata": {},
   "source": [
    "For every dollar increase in upfront installation cost, the owner expects roughly $4.56 decrease in yearly operational costs for the alternative to be equivalent. This is quite unreasonable and economically unsound since suppliers will clearly not make profits if this were to be true."
   ]
  },
  {
   "cell_type": "code",
   "execution_count": 40,
   "metadata": {},
   "outputs": [
    {
     "data": {
      "text/html": [
       "-0.194"
      ],
      "text/latex": [
       "-0.194"
      ],
      "text/markdown": [
       "-0.194"
      ],
      "text/plain": [
       "[1] -0.194"
      ]
     },
     "metadata": {},
     "output_type": "display_data"
    }
   ],
   "source": [
    "### SUBPART III\n",
    "# note that in model1C, gc-value = 1.659\n",
    "# we want to reduce gr-value to 0.\n",
    "# therefore, gr-value in new model = 1.659-1.853\n",
    "1.659-1.853"
   ]
  },
  {
   "cell_type": "markdown",
   "metadata": {},
   "source": [
    "Note that appending constants to ALL alternatives on top of already-added alternative constants won't change probabilities"
   ]
  },
  {
   "cell_type": "markdown",
   "metadata": {},
   "source": [
    "### 1D\n",
    "\n",
    "Compared to Model1C, Model1D has a lower log-likelihood and is hence a worse fit since we want to maximise log-likelihood. Also, the augmented income/installation-cost variable is no longer significant."
   ]
  },
  {
   "cell_type": "code",
   "execution_count": 46,
   "metadata": {},
   "outputs": [
    {
     "data": {
      "text/plain": [
       "\n",
       "Call:\n",
       "mlogit(formula = depvar ~ iic + oc, data = data1A, method = \"nr\", \n",
       "    print.level = 0)\n",
       "\n",
       "Frequencies of alternatives:\n",
       "      gc       gr       ec       er       hp \n",
       "0.071111 0.093333 0.636667 0.143333 0.055556 \n",
       "\n",
       "nr method\n",
       "6 iterations, 0h:0m:0s \n",
       "g'(-H)^-1g = 1.03E-05 \n",
       "successive function values within tolerance limits \n",
       "\n",
       "Coefficients :\n",
       "                 Estimate Std. Error t-value  Pr(>|t|)    \n",
       "gr:(intercept)  0.0639934  0.1944893  0.3290  0.742131    \n",
       "ec:(intercept)  0.0563481  0.4650251  0.1212  0.903555    \n",
       "er:(intercept) -1.4653063  0.5033845 -2.9109  0.003604 ** \n",
       "hp:(intercept) -1.8700773  0.4364248 -4.2850 1.827e-05 ***\n",
       "iic            -0.0027658  0.0018944 -1.4600  0.144298    \n",
       "oc             -0.0071066  0.0015518 -4.5797 4.657e-06 ***\n",
       "---\n",
       "Signif. codes:  0 ‘***’ 0.001 ‘**’ 0.01 ‘*’ 0.05 ‘.’ 0.1 ‘ ’ 1\n",
       "\n",
       "Log-Likelihood: -1010.2\n",
       "McFadden R^2:  0.011765 \n",
       "Likelihood ratio test : chisq = 24.052 (p.value = 5.9854e-06)"
      ]
     },
     "metadata": {},
     "output_type": "display_data"
    },
    {
     "data": {
      "text/plain": [
       "\n",
       "Call:\n",
       "mlogit(formula = depvar ~ ic + oc, data = data1B, reflevel = \"hp\", \n",
       "    method = \"nr\", print.level = 0)\n",
       "\n",
       "Frequencies of alternatives:\n",
       "      hp       gc       gr       ec       er \n",
       "0.055556 0.071111 0.093333 0.636667 0.143333 \n",
       "\n",
       "nr method\n",
       "6 iterations, 0h:0m:0s \n",
       "g'(-H)^-1g = 9.58E-06 \n",
       "successive function values within tolerance limits \n",
       "\n",
       "Coefficients :\n",
       "                  Estimate  Std. Error t-value  Pr(>|t|)    \n",
       "gc:(intercept)  1.65884594  0.44841936  3.6993 0.0002162 ***\n",
       "gr:(intercept)  1.85343697  0.36195509  5.1206 3.045e-07 ***\n",
       "ec:(intercept)  1.71097930  0.22674214  7.5459 4.485e-14 ***\n",
       "er:(intercept)  0.30826328  0.20659222  1.4921 0.1356640    \n",
       "ic             -0.00153315  0.00062086 -2.4694 0.0135333 *  \n",
       "oc             -0.00699637  0.00155408 -4.5019 6.734e-06 ***\n",
       "---\n",
       "Signif. codes:  0 ‘***’ 0.001 ‘**’ 0.01 ‘*’ 0.05 ‘.’ 0.1 ‘ ’ 1\n",
       "\n",
       "Log-Likelihood: -1008.2\n",
       "McFadden R^2:  0.013691 \n",
       "Likelihood ratio test : chisq = 27.99 (p.value = 8.3572e-07)"
      ]
     },
     "metadata": {},
     "output_type": "display_data"
    }
   ],
   "source": [
    "### SUBPART 1\n",
    "data1A$iic <- data1A$ic/data1A$income\n",
    "model1D1 <- mlogit(depvar~iic+oc, data1A)\n",
    "summary(model1D1)\n",
    "summary(model1C)"
   ]
  },
  {
   "cell_type": "code",
   "execution_count": 52,
   "metadata": {},
   "outputs": [
    {
     "data": {
      "text/plain": [
       "\n",
       "Call:\n",
       "mlogit(formula = depvar ~ oc | income + ic, data = data1A, method = \"nr\", \n",
       "    print.level = 0)\n",
       "\n",
       "Frequencies of alternatives:\n",
       "      gc       gr       ec       er       hp \n",
       "0.071111 0.093333 0.636667 0.143333 0.055556 \n",
       "\n",
       "nr method\n",
       "6 iterations, 0h:0m:0s \n",
       "g'(-H)^-1g = 5.15E-05 \n",
       "successive function values within tolerance limits \n",
       "\n",
       "Coefficients :\n",
       "                  Estimate  Std. Error t-value  Pr(>|t|)    \n",
       "gr:(intercept)  2.23414866  1.00659539  2.2195 0.0264520 *  \n",
       "ec:(intercept)  0.90508942  0.77064863  1.1745 0.2402142    \n",
       "er:(intercept) -0.55101204  0.93575437 -0.5888 0.5559669    \n",
       "hp:(intercept) -0.80603925  1.22000644 -0.6607 0.5088147    \n",
       "oc             -0.00634691  0.00174082 -3.6459 0.0002664 ***\n",
       "gr:income      -0.03930273  0.09943773 -0.3952 0.6926586    \n",
       "ec:income      -0.01035931  0.07860167 -0.1318 0.8951464    \n",
       "er:income      -0.11847274  0.09118180 -1.2993 0.1938402    \n",
       "hp:income       0.06051634  0.11318339  0.5347 0.5928745    \n",
       "gr:ic          -0.00217418  0.00088874 -2.4464 0.0144305 *  \n",
       "ec:ic          -0.00072452  0.00078538 -0.9225 0.3562662    \n",
       "er:ic          -0.00024917  0.00081696 -0.3050 0.7603678    \n",
       "hp:ic          -0.00128483  0.00100658 -1.2764 0.2018033    \n",
       "---\n",
       "Signif. codes:  0 ‘***’ 0.001 ‘**’ 0.01 ‘*’ 0.05 ‘.’ 0.1 ‘ ’ 1\n",
       "\n",
       "Log-Likelihood: -1005.4\n",
       "McFadden R^2:  0.016432 \n",
       "Likelihood ratio test : chisq = 33.594 (p.value = 0.00010521)"
      ]
     },
     "metadata": {},
     "output_type": "display_data"
    }
   ],
   "source": [
    "### SUBPART II\n",
    "model1D2 <- mlogit(depvar~oc+ic|income, data1A)\n",
    "# model1D2 <- mlogit(depvar~oc|income+ic, data1A)\n",
    "summary(model1D2)\n",
    "\n",
    "# this estimates a coefficient for each  alternative that is income dependent.\n",
    "# As income rises, probability of choosing `hp` increases relative to others\n",
    "# As income rises, probability of choosing `gr` decreases relative to others\n",
    "# None of these variables are significant however"
   ]
  },
  {
   "cell_type": "markdown",
   "metadata": {},
   "source": [
    "### 1E\n",
    "\n",
    "1. We can observe the predicted share of houses with `house pump (hp)` will increase from 5.6% to 6.4%\n",
    "2. \n",
    "3. "
   ]
  },
  {
   "cell_type": "code",
   "execution_count": 78,
   "metadata": {
    "scrolled": false
   },
   "outputs": [
    {
     "data": {
      "text/plain": [
       "\n",
       "Call:\n",
       "mlogit(formula = depvar ~ ic + oc, data = data1A, reflevel = \"hp\", \n",
       "    method = \"nr\", print.level = 0)\n",
       "\n",
       "Frequencies of alternatives:\n",
       "      hp       gc       gr       ec       er \n",
       "0.055556 0.071111 0.093333 0.636667 0.143333 \n",
       "\n",
       "nr method\n",
       "6 iterations, 0h:0m:0s \n",
       "g'(-H)^-1g = 9.58E-06 \n",
       "successive function values within tolerance limits \n",
       "\n",
       "Coefficients :\n",
       "                  Estimate  Std. Error t-value  Pr(>|t|)    \n",
       "gc:(intercept)  1.65884594  0.44841936  3.6993 0.0002162 ***\n",
       "gr:(intercept)  1.85343697  0.36195509  5.1206 3.045e-07 ***\n",
       "ec:(intercept)  1.71097930  0.22674214  7.5459 4.485e-14 ***\n",
       "er:(intercept)  0.30826328  0.20659222  1.4921 0.1356640    \n",
       "ic             -0.00153315  0.00062086 -2.4694 0.0135333 *  \n",
       "oc             -0.00699637  0.00155408 -4.5019 6.734e-06 ***\n",
       "---\n",
       "Signif. codes:  0 ‘***’ 0.001 ‘**’ 0.01 ‘*’ 0.05 ‘.’ 0.1 ‘ ’ 1\n",
       "\n",
       "Log-Likelihood: -1008.2\n",
       "McFadden R^2:  0.013691 \n",
       "Likelihood ratio test : chisq = 27.99 (p.value = 8.3572e-07)"
      ]
     },
     "metadata": {},
     "output_type": "display_data"
    },
    {
     "data": {
      "text/html": [
       "<dl class=dl-horizontal>\n",
       "\t<dt>hp</dt>\n",
       "\t\t<dd>0.0555555553039371</dd>\n",
       "\t<dt>gc</dt>\n",
       "\t\t<dd>0.0711111107734277</dd>\n",
       "\t<dt>gr</dt>\n",
       "\t\t<dd>0.093333332947316</dd>\n",
       "\t<dt>ec</dt>\n",
       "\t\t<dd>0.636666663884788</dd>\n",
       "\t<dt>er</dt>\n",
       "\t\t<dd>0.143333337090531</dd>\n",
       "</dl>\n"
      ],
      "text/latex": [
       "\\begin{description*}\n",
       "\\item[hp] 0.0555555553039371\n",
       "\\item[gc] 0.0711111107734277\n",
       "\\item[gr] 0.093333332947316\n",
       "\\item[ec] 0.636666663884788\n",
       "\\item[er] 0.143333337090531\n",
       "\\end{description*}\n"
      ],
      "text/markdown": [
       "hp\n",
       ":   0.0555555553039371gc\n",
       ":   0.0711111107734277gr\n",
       ":   0.093333332947316ec\n",
       ":   0.636666663884788er\n",
       ":   0.143333337090531\n",
       "\n"
      ],
      "text/plain": [
       "        hp         gc         gr         ec         er \n",
       "0.05555556 0.07111111 0.09333333 0.63666666 0.14333334 "
      ]
     },
     "metadata": {},
     "output_type": "display_data"
    },
    {
     "data": {
      "text/html": [
       "<dl class=dl-horizontal>\n",
       "\t<dt>hp</dt>\n",
       "\t\t<dd>0.064462300839173</dd>\n",
       "\t<dt>gc</dt>\n",
       "\t\t<dd>0.0704548629434125</dd>\n",
       "\t<dt>gr</dt>\n",
       "\t\t<dd>0.0924702628508885</dd>\n",
       "\t<dt>ec</dt>\n",
       "\t\t<dd>0.63064442981537</dd>\n",
       "\t<dt>er</dt>\n",
       "\t\t<dd>0.141968143551156</dd>\n",
       "</dl>\n"
      ],
      "text/latex": [
       "\\begin{description*}\n",
       "\\item[hp] 0.064462300839173\n",
       "\\item[gc] 0.0704548629434125\n",
       "\\item[gr] 0.0924702628508885\n",
       "\\item[ec] 0.63064442981537\n",
       "\\item[er] 0.141968143551156\n",
       "\\end{description*}\n"
      ],
      "text/markdown": [
       "hp\n",
       ":   0.064462300839173gc\n",
       ":   0.0704548629434125gr\n",
       ":   0.0924702628508885ec\n",
       ":   0.63064442981537er\n",
       ":   0.141968143551156\n",
       "\n"
      ],
      "text/plain": [
       "        hp         gc         gr         ec         er \n",
       "0.06446230 0.07045486 0.09247026 0.63064443 0.14196814 "
      ]
     },
     "metadata": {},
     "output_type": "display_data"
    }
   ],
   "source": [
    "# original model with alternative-specific constants\n",
    "model1E <- mlogit(depvar~ic+oc, data1A, reflevel=\"hp\")\n",
    "summary(model1E)\n",
    "predict1E <- predict(model1E, data1A)\n",
    "# head(predict1E) # explicit predicted probabilities for each house\n",
    "\n",
    "# SUBPART I\n",
    "heating1E <- heating\n",
    "heating1E$ic.hp <- 0.9*heating1E$ic.hp\n",
    "data1E1 <- mlogit.data(heating1E,\n",
    "                    shape = \"wide\",\n",
    "                    choice = \"depvar\",\n",
    "                    alt.levels = c(\"gc\", \"gr\", \"ec\", \"er\", \"hp\"),\n",
    "                    sep = \".\",\n",
    "                    id.var = \"idcase\",\n",
    "                    varying = c(3:12))\n",
    "# now, given new data, what will be the predicted shares under old model\n",
    "predict1E1 <- predict(model1E, data1E1)\n",
    "apply(predict1E, 2, mean) # predicted share of `hp` without rebates\n",
    "apply(predict1E1, 2, mean) # predicted share of `hp` with rebates"
   ]
  },
  {
   "cell_type": "code",
   "execution_count": 121,
   "metadata": {
    "scrolled": false
   },
   "outputs": [
    {
     "data": {
      "text/html": [
       "<dl class=dl-horizontal>\n",
       "\t<dt>hp</dt>\n",
       "\t\t<dd>0.0555555553039371</dd>\n",
       "\t<dt>gc</dt>\n",
       "\t\t<dd>0.0711111107734277</dd>\n",
       "\t<dt>gr</dt>\n",
       "\t\t<dd>0.093333332947316</dd>\n",
       "\t<dt>ec</dt>\n",
       "\t\t<dd>0.636666663884788</dd>\n",
       "\t<dt>er</dt>\n",
       "\t\t<dd>0.143333337090531</dd>\n",
       "</dl>\n"
      ],
      "text/latex": [
       "\\begin{description*}\n",
       "\\item[hp] 0.0555555553039371\n",
       "\\item[gc] 0.0711111107734277\n",
       "\\item[gr] 0.093333332947316\n",
       "\\item[ec] 0.636666663884788\n",
       "\\item[er] 0.143333337090531\n",
       "\\end{description*}\n"
      ],
      "text/markdown": [
       "hp\n",
       ":   0.0555555553039371gc\n",
       ":   0.0711111107734277gr\n",
       ":   0.093333332947316ec\n",
       ":   0.636666663884788er\n",
       ":   0.143333337090531\n",
       "\n"
      ],
      "text/plain": [
       "        hp         gc         gr         ec         er \n",
       "0.05555556 0.07111111 0.09333333 0.63666666 0.14333334 "
      ]
     },
     "metadata": {},
     "output_type": "display_data"
    },
    {
     "data": {
      "text/html": [
       "0.039091116296636"
      ],
      "text/latex": [
       "0.039091116296636"
      ],
      "text/markdown": [
       "0.039091116296636"
      ],
      "text/plain": [
       "[1] 0.03909112"
      ]
     },
     "metadata": {},
     "output_type": "display_data"
    },
    {
     "data": {
      "text/html": [
       "0.425612697871353"
      ],
      "text/latex": [
       "0.425612697871353"
      ],
      "text/markdown": [
       "0.425612697871353"
      ],
      "text/plain": [
       "[1] 0.4256127"
      ]
     },
     "metadata": {},
     "output_type": "display_data"
    },
    {
     "data": {
      "text/html": [
       "0.468087385968019"
      ],
      "text/latex": [
       "0.468087385968019"
      ],
      "text/markdown": [
       "0.468087385968019"
      ],
      "text/plain": [
       "[1] 0.4680874"
      ]
     },
     "metadata": {},
     "output_type": "display_data"
    },
    {
     "data": {
      "text/html": [
       "0.0530473733283881"
      ],
      "text/latex": [
       "0.0530473733283881"
      ],
      "text/markdown": [
       "0.0530473733283881"
      ],
      "text/plain": [
       "[1] 0.05304737"
      ]
     },
     "metadata": {},
     "output_type": "display_data"
    },
    {
     "data": {
      "text/html": [
       "0.0141614265356044"
      ],
      "text/latex": [
       "0.0141614265356044"
      ],
      "text/markdown": [
       "0.0141614265356044"
      ],
      "text/plain": [
       "[1] 0.01416143"
      ]
     },
     "metadata": {},
     "output_type": "display_data"
    },
    {
     "name": "stdout",
     "output_type": "stream",
     "text": [
      "[1] \"--\"\n"
     ]
    },
    {
     "data": {
      "text/html": [
       "0.0384832752053754"
      ],
      "text/latex": [
       "0.0384832752053754"
      ],
      "text/markdown": [
       "0.0384832752053754"
      ],
      "text/plain": [
       "[1] 0.03848328"
      ]
     },
     "metadata": {},
     "output_type": "display_data"
    },
    {
     "data": {
      "text/html": [
       "0.419104607159895"
      ],
      "text/latex": [
       "0.419104607159895"
      ],
      "text/markdown": [
       "0.419104607159895"
      ],
      "text/plain": [
       "[1] 0.4191046"
      ]
     },
     "metadata": {},
     "output_type": "display_data"
    },
    {
     "data": {
      "text/html": [
       "0.460948832076977"
      ],
      "text/latex": [
       "0.460948832076977"
      ],
      "text/markdown": [
       "0.460948832076977"
      ],
      "text/plain": [
       "[1] 0.4609488"
      ]
     },
     "metadata": {},
     "output_type": "display_data"
    },
    {
     "data": {
      "text/html": [
       "0.0521435455538225"
      ],
      "text/latex": [
       "0.0521435455538225"
      ],
      "text/markdown": [
       "0.0521435455538225"
      ],
      "text/plain": [
       "[1] 0.05214355"
      ]
     },
     "metadata": {},
     "output_type": "display_data"
    },
    {
     "data": {
      "text/html": [
       "0.0139350728545034"
      ],
      "text/latex": [
       "0.0139350728545034"
      ],
      "text/markdown": [
       "0.0139350728545034"
      ],
      "text/plain": [
       "[1] 0.01393507"
      ]
     },
     "metadata": {},
     "output_type": "display_data"
    },
    {
     "data": {
      "text/html": [
       "0.0153846671494272"
      ],
      "text/latex": [
       "0.0153846671494272"
      ],
      "text/markdown": [
       "0.0153846671494272"
      ],
      "text/plain": [
       "[1] 0.01538467"
      ]
     },
     "metadata": {},
     "output_type": "display_data"
    }
   ],
   "source": [
    "### SUBPART II\n",
    "heating1E2 <- heating\n",
    "heating1E2$ic.eec <- 200 + heating$ic.ec\n",
    "heating1E2$oc.eec <- 0.75 * heating$oc.ec\n",
    "# data1E2 <- mlogit.data(heating1E2,\n",
    "#                     shape = \"wide\",\n",
    "#                     choice = \"depvar\",\n",
    "#                     alt.levels = c(\"gc\", \"gr\", \"ec\", \"er\", \"hp\", \"eec\"),\n",
    "#                     sep = \".\",\n",
    "#                     id.var = \"idcase\",\n",
    "#                     varying = c(3:12, 17, 18))\n",
    "\n",
    "# model1E$coef[]\n",
    "exp_gc <- exp(model1E$coef[\"ic\"]*heating1E2$ic.gc+\n",
    "             model1E$coef[\"oc\"]*heating1E2$oc.gc+\n",
    "             model1E$coef[\"gc:(intercept)\"])\n",
    "exp_gr <- exp(model1E$coef[\"ic\"]*heating1E2$ic.gr+\n",
    "             model1E$coef[\"oc\"]*heating1E2$oc.gr+\n",
    "             model1E$coef[\"gr:(intercept)\"])\n",
    "exp_ec <- exp(model1E$coef[\"ic\"]*heating1E2$ic.ec+\n",
    "             model1E$coef[\"oc\"]*heating1E2$oc.ec+\n",
    "             model1E$coef[\"ec:(intercept)\"])\n",
    "exp_er <- exp(model1E$coef[\"ic\"]*heating1E2$ic.er+\n",
    "             model1E$coef[\"oc\"]*heating1E2$oc.er+\n",
    "             model1E$coef[\"er:(intercept)\"])\n",
    "exp_hp <- exp(model1E$coef[\"ic\"]*heating1E2$ic.hp+\n",
    "             model1E$coef[\"oc\"]*heating1E2$oc.hp)\n",
    "exp_eec <- exp(model1E$coef[\"ic\"]*heating1E2$ic.eec+\n",
    "             model1E$coef[\"oc\"]*heating1E2$oc.eec)\n",
    "\n",
    "denm_old <- exp_gc + exp_gr + exp_ec + exp_er + exp_hp\n",
    "denm_new <- exp_gc + exp_gr + exp_ec + exp_er + exp_hp + exp_eec\n",
    "\n",
    "p_gc_old <- exp_gc / denm_old\n",
    "p_gc_new <- exp_gc / denm_new\n",
    "\n",
    "p_gr_old <- exp_gr / denm_old\n",
    "p_gr_new <- exp_gr / denm_new\n",
    "\n",
    "p_ec_old <- exp_ec / denm_old\n",
    "p_ec_new <- exp_ec / denm_new\n",
    "\n",
    "p_er_old <- exp_er / denm_old\n",
    "p_er_new <- exp_er / denm_new\n",
    "\n",
    "p_hp_old <- exp_hp / denm_old\n",
    "p_hp_new <- exp_hp / denm_new\n",
    "\n",
    "p_eec_new <- exp_eec / denm_new\n",
    "\n",
    "\n",
    "# old market share\n",
    "apply(predict1C, 2, mean)\n",
    "mean(p_hp_old)\n",
    "mean(p_gc_old)\n",
    "mean(p_gr_old)\n",
    "mean(p_ec_old)\n",
    "mean(p_er_old)\n",
    "\n",
    "# new market share\n",
    "print(\"--\")\n",
    "mean(p_hp_new)\n",
    "mean(p_gc_new)\n",
    "mean(p_gr_new)\n",
    "mean(p_ec_new)\n",
    "mean(p_er_new)\n",
    "mean(p_eec_new)\n",
    "# ?apply\n",
    "\n",
    "\n",
    "# predict1E2 <- predict(model1E, data1E2)\n",
    "# apply(predict1E, 2, mean) # predicted share of original `ec` system\n",
    "# apply(predict1E2, 2, mean) # predicted share of more efficient `ec` system"
   ]
  }
 ],
 "metadata": {
  "kernelspec": {
   "display_name": "R",
   "language": "R",
   "name": "ir"
  },
  "language_info": {
   "codemirror_mode": "r",
   "file_extension": ".r",
   "mimetype": "text/x-r-source",
   "name": "R",
   "pygments_lexer": "r",
   "version": "3.4.0"
  }
 },
 "nbformat": 4,
 "nbformat_minor": 2
}
