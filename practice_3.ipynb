{
 "cells": [
  {
   "cell_type": "markdown",
   "metadata": {},
   "source": [
    "## Question un\n",
    "### Part 1A (checked)"
   ]
  },
  {
   "cell_type": "code",
   "execution_count": 1,
   "metadata": {
    "scrolled": false
   },
   "outputs": [
    {
     "name": "stdout",
     "output_type": "stream",
     "text": [
      "'data.frame':\t1232 obs. of  13 variables:\n",
      " $ Team        : Factor w/ 39 levels \"ANA\",\"ARI\",\"ATL\",..: 2 3 4 5 7 8 9 10 11 12 ...\n",
      " $ League      : Factor w/ 2 levels \"AL\",\"NL\": 2 2 1 1 2 1 2 1 2 1 ...\n",
      " $ Year        : int  2012 2012 2012 2012 2012 2012 2012 2012 2012 2012 ...\n",
      " $ RS          : int  734 700 712 734 613 748 669 667 758 726 ...\n",
      " $ RA          : int  688 600 705 806 759 676 588 845 890 670 ...\n",
      " $ W           : int  81 94 93 69 61 85 97 68 64 88 ...\n",
      " $ OBP         : num  0.328 0.32 0.311 0.315 0.302 0.318 0.315 0.324 0.33 0.335 ...\n",
      " $ SLG         : num  0.418 0.389 0.417 0.415 0.378 0.422 0.411 0.381 0.436 0.422 ...\n",
      " $ BA          : num  0.259 0.247 0.247 0.26 0.24 0.255 0.251 0.251 0.274 0.268 ...\n",
      " $ Playoffs    : int  0 1 1 0 0 0 1 0 0 1 ...\n",
      " $ RankSeason  : int  NA 4 5 NA NA NA 2 NA NA 6 ...\n",
      " $ RankPlayoffs: int  NA 5 4 NA NA NA 4 NA NA 2 ...\n",
      " $ Games       : int  162 162 162 162 162 162 162 162 162 162 ...\n",
      "\n",
      "No. of team/year pairs: 1232"
     ]
    },
    {
     "data": {
      "text/plain": [
       "\n",
       "1962 1963 1964 1965 1966 1967 1968 1969 1970 1971 1973 1974 1975 1976 1977 1978 \n",
       "  20   20   20   20   20   20   20   24   24   24   24   24   24   24   26   26 \n",
       "1979 1980 1982 1983 1984 1985 1986 1987 1988 1989 1990 1991 1992 1993 1996 1997 \n",
       "  26   26   26   26   26   26   26   26   26   26   26   26   26   28   28   28 \n",
       "1998 1999 2000 2001 2002 2003 2004 2005 2006 2007 2008 2009 2010 2011 2012 \n",
       "  30   30   30   30   30   30   30   30   30   30   30   30   30   30   30 "
      ]
     },
     "metadata": {},
     "output_type": "display_data"
    },
    {
     "name": "stdout",
     "output_type": "stream",
     "text": [
      "\n",
      "No. of years in dataset: 47\n",
      "No. of team/year pairs (subset): 244"
     ]
    },
    {
     "data": {
      "text/plain": [
       "\n",
       " 2  4  8 10 \n",
       " 7 23 16  1 "
      ]
     },
     "metadata": {},
     "output_type": "display_data"
    }
   ],
   "source": [
    "options(repr.plot.width=7, repr.plot.height=4) # resize IRkernel plot size\n",
    "baseball <- read.csv(\"csv/baseballlarge.csv\")\n",
    "str(baseball)\n",
    "\n",
    "# part i\n",
    "# min(year)=1962 , max(year)=2012 , no. of years=51\n",
    "# total no. of team/year pairs in dataset\n",
    "cat(sprintf(\"\\nNo. of team/year pairs: %s\",\n",
    "            length(with(baseball, paste(Team, Year, sep=\" \")))))\n",
    "\n",
    "# part ii\n",
    "# total no. of years in dataset\n",
    "table(baseball$Year)\n",
    "cat(sprintf(\"\\nNo. of years in dataset: %s\",\n",
    "            length(table(baseball$Year))))\n",
    "\n",
    "# part iii\n",
    "# total no. of team/year pairs in subset\n",
    "baseballP <- subset(baseball, Playoffs==1)\n",
    "cat(sprintf(\"\\nNo. of team/year pairs (subset): %s\",\n",
    "            length(with(baseballP, paste(Team, Year, sep=\" \")))))\n",
    "\n",
    "# part iv\n",
    "# no. of teams invited to playoffs each year\n",
    "table(table(baseballP$Year))"
   ]
  },
  {
   "cell_type": "markdown",
   "metadata": {},
   "source": [
    "### Part 1B (c)"
   ]
  },
  {
   "cell_type": "code",
   "execution_count": 2,
   "metadata": {
    "scrolled": false
   },
   "outputs": [
    {
     "name": "stdout",
     "output_type": "stream",
     "text": [
      "'data.frame':\t244 obs. of  14 variables:\n",
      " $ Team        : Factor w/ 39 levels \"ANA\",\"ARI\",\"ATL\",..: 3 4 9 12 25 26 32 33 36 39 ...\n",
      " $ League      : Factor w/ 2 levels \"AL\",\"NL\": 2 1 2 1 1 1 2 2 1 2 ...\n",
      " $ Year        : int  2012 2012 2012 2012 2012 2012 2012 2012 2012 2012 ...\n",
      " $ RS          : int  700 712 669 726 804 713 718 765 808 731 ...\n",
      " $ RA          : int  600 705 588 670 668 614 649 648 707 594 ...\n",
      " $ W           : int  94 93 97 88 95 94 94 88 93 98 ...\n",
      " $ OBP         : num  0.32 0.311 0.315 0.335 0.337 0.31 0.327 0.338 0.334 0.322 ...\n",
      " $ SLG         : num  0.389 0.417 0.411 0.422 0.453 0.404 0.397 0.421 0.446 0.428 ...\n",
      " $ BA          : num  0.247 0.247 0.251 0.268 0.265 0.238 0.269 0.271 0.273 0.261 ...\n",
      " $ Playoffs    : int  1 1 1 1 1 1 1 1 1 1 ...\n",
      " $ RankSeason  : int  4 5 2 6 3 4 4 6 5 1 ...\n",
      " $ RankPlayoffs: int  5 4 4 2 3 4 1 3 5 4 ...\n",
      " $ Games       : int  162 162 162 162 162 162 162 162 162 162 ...\n",
      " $ NumComp     : int  10 10 10 10 10 10 10 10 10 10 ...\n"
     ]
    },
    {
     "data": {
      "text/html": [
       "<ol class=list-inline>\n",
       "\t<li>'2'</li>\n",
       "\t<li>'3'</li>\n",
       "\t<li>'7'</li>\n",
       "\t<li>'10'</li>\n",
       "\t<li>'19'</li>\n",
       "\t<li>'20'</li>\n",
       "\t<li>'25'</li>\n",
       "\t<li>'26'</li>\n",
       "\t<li>'28'</li>\n",
       "\t<li>'30'</li>\n",
       "\t<li>'31'</li>\n",
       "\t<li>'40'</li>\n",
       "\t<li>'46'</li>\n",
       "\t<li>'49'</li>\n",
       "\t<li>'51'</li>\n",
       "\t<li>'56'</li>\n",
       "\t<li>'57'</li>\n",
       "\t<li>'58'</li>\n",
       "\t<li>'62'</li>\n",
       "\t<li>'67'</li>\n",
       "\t<li>'77'</li>\n",
       "\t<li>'79'</li>\n",
       "\t<li>'81'</li>\n",
       "\t<li>'85'</li>\n",
       "\t<li>'87'</li>\n",
       "\t<li>'88'</li>\n",
       "\t<li>'94'</li>\n",
       "\t<li>'99'</li>\n",
       "\t<li>'104'</li>\n",
       "\t<li>'105'</li>\n",
       "\t<li>'107'</li>\n",
       "\t<li>'109'</li>\n",
       "\t<li>'111'</li>\n",
       "\t<li>'116'</li>\n",
       "\t<li>'124'</li>\n",
       "\t<li>'125'</li>\n",
       "\t<li>'126'</li>\n",
       "\t<li>'134'</li>\n",
       "\t<li>'135'</li>\n",
       "\t<li>'136'</li>\n",
       "\t<li>'141'</li>\n",
       "\t<li>'147'</li>\n",
       "\t<li>'151'</li>\n",
       "\t<li>'154'</li>\n",
       "\t<li>'155'</li>\n",
       "\t<li>'158'</li>\n",
       "\t<li>'159'</li>\n",
       "\t<li>'164'</li>\n",
       "\t<li>'169'</li>\n",
       "\t<li>'171'</li>\n",
       "\t<li>'190'</li>\n",
       "\t<li>'195'</li>\n",
       "\t<li>'197'</li>\n",
       "\t<li>'198'</li>\n",
       "\t<li>'199'</li>\n",
       "\t<li>'200'</li>\n",
       "\t<li>'203'</li>\n",
       "\t<li>'206'</li>\n",
       "\t<li>'212'</li>\n",
       "\t<li>'214'</li>\n",
       "\t<li>'216'</li>\n",
       "\t<li>'222'</li>\n",
       "\t<li>'224'</li>\n",
       "\t<li>'229'</li>\n",
       "\t<li>'233'</li>\n",
       "\t<li>'236'</li>\n",
       "\t<li>'241'</li>\n",
       "\t<li>'243'</li>\n",
       "\t<li>'245'</li>\n",
       "\t<li>'253'</li>\n",
       "\t<li>'255'</li>\n",
       "\t<li>'257'</li>\n",
       "\t<li>'260'</li>\n",
       "\t<li>'267'</li>\n",
       "\t<li>'273'</li>\n",
       "\t<li>'275'</li>\n",
       "\t<li>'276'</li>\n",
       "\t<li>'282'</li>\n",
       "\t<li>'287'</li>\n",
       "\t<li>'290'</li>\n",
       "\t<li>'291'</li>\n",
       "\t<li>'296'</li>\n",
       "\t<li>'301'</li>\n",
       "\t<li>'302'</li>\n",
       "\t<li>'303'</li>\n",
       "\t<li>'317'</li>\n",
       "\t<li>'320'</li>\n",
       "\t<li>'321'</li>\n",
       "\t<li>'326'</li>\n",
       "\t<li>'327'</li>\n",
       "\t<li>'332'</li>\n",
       "\t<li>'333'</li>\n",
       "\t<li>'339'</li>\n",
       "\t<li>'343'</li>\n",
       "\t<li>'350'</li>\n",
       "\t<li>'351'</li>\n",
       "\t<li>'355'</li>\n",
       "\t<li>'357'</li>\n",
       "\t<li>'363'</li>\n",
       "\t<li>'367'</li>\n",
       "\t<li>'379'</li>\n",
       "\t<li>'380'</li>\n",
       "\t<li>'381'</li>\n",
       "\t<li>'385'</li>\n",
       "\t<li>'386'</li>\n",
       "\t<li>'387'</li>\n",
       "\t<li>'392'</li>\n",
       "\t<li>'393'</li>\n",
       "\t<li>'395'</li>\n",
       "\t<li>'399'</li>\n",
       "\t<li>'403'</li>\n",
       "\t<li>'409'</li>\n",
       "\t<li>'410'</li>\n",
       "\t<li>'419'</li>\n",
       "\t<li>'423'</li>\n",
       "\t<li>'425'</li>\n",
       "\t<li>'426'</li>\n",
       "\t<li>'429'</li>\n",
       "\t<li>'433'</li>\n",
       "\t<li>'440'</li>\n",
       "\t<li>'444'</li>\n",
       "\t<li>'449'</li>\n",
       "\t<li>'452'</li>\n",
       "\t<li>'453'</li>\n",
       "\t<li>'458'</li>\n",
       "\t<li>'461'</li>\n",
       "\t<li>'462'</li>\n",
       "\t<li>'469'</li>\n",
       "\t<li>'474'</li>\n",
       "\t<li>'475'</li>\n",
       "\t<li>'479'</li>\n",
       "\t<li>'480'</li>\n",
       "\t<li>'486'</li>\n",
       "\t<li>'492'</li>\n",
       "\t<li>'497'</li>\n",
       "\t<li>'501'</li>\n",
       "\t<li>'504'</li>\n",
       "\t<li>'505'</li>\n",
       "\t<li>'507'</li>\n",
       "\t<li>'512'</li>\n",
       "\t<li>'527'</li>\n",
       "\t<li>'534'</li>\n",
       "\t<li>'535'</li>\n",
       "\t<li>'552'</li>\n",
       "\t<li>'554'</li>\n",
       "\t<li>'560'</li>\n",
       "\t<li>'561'</li>\n",
       "\t<li>'574'</li>\n",
       "\t<li>'580'</li>\n",
       "\t<li>'586'</li>\n",
       "\t<li>'589'</li>\n",
       "\t<li>'593'</li>\n",
       "\t<li>'604'</li>\n",
       "\t<li>'606'</li>\n",
       "\t<li>'617'</li>\n",
       "\t<li>'630'</li>\n",
       "\t<li>'635'</li>\n",
       "\t<li>'638'</li>\n",
       "\t<li>'641'</li>\n",
       "\t<li>'650'</li>\n",
       "\t<li>'654'</li>\n",
       "\t<li>'656'</li>\n",
       "\t<li>'673'</li>\n",
       "\t<li>'678'</li>\n",
       "\t<li>'687'</li>\n",
       "\t<li>'688'</li>\n",
       "\t<li>'693'</li>\n",
       "\t<li>'694'</li>\n",
       "\t<li>'700'</li>\n",
       "\t<li>'706'</li>\n",
       "\t<li>'727'</li>\n",
       "\t<li>'728'</li>\n",
       "\t<li>'740'</li>\n",
       "\t<li>'742'</li>\n",
       "\t<li>'747'</li>\n",
       "\t<li>'751'</li>\n",
       "\t<li>'753'</li>\n",
       "\t<li>'763'</li>\n",
       "\t<li>'770'</li>\n",
       "\t<li>'774'</li>\n",
       "\t<li>'780'</li>\n",
       "\t<li>'787'</li>\n",
       "\t<li>'795'</li>\n",
       "\t<li>'798'</li>\n",
       "\t<li>'807'</li>\n",
       "\t<li>'818'</li>\n",
       "\t<li>'830'</li>\n",
       "\t<li>'831'</li>\n",
       "\t<li>'837'</li>\n",
       "\t<li>'839'</li>\n",
       "\t<li>'848'</li>\n",
       "\t<li>'850'</li>\n",
       "\t<li>'853'</li>\n",
       "\t<li>'866'</li>\n",
       "\t<li>'883'</li>\n",
       "\t<li>'884'</li>\n",
       "\t<li>'889'</li>\n",
       "\t<li>'891'</li>\n",
       "\t<li>'909'</li>\n",
       "\t<li>'910'</li>\n",
       "\t<li>'915'</li>\n",
       "\t<li>'917'</li>\n",
       "\t<li>'931'</li>\n",
       "\t<li>'935'</li>\n",
       "\t<li>'941'</li>\n",
       "\t<li>'943'</li>\n",
       "\t<li>'951'</li>\n",
       "\t<li>'955'</li>\n",
       "\t<li>'966'</li>\n",
       "\t<li>'968'</li>\n",
       "\t<li>'974'</li>\n",
       "\t<li>'984'</li>\n",
       "\t<li>'990'</li>\n",
       "\t<li>'992'</li>\n",
       "\t<li>'998'</li>\n",
       "\t<li>'1003'</li>\n",
       "\t<li>'1012'</li>\n",
       "\t<li>'1014'</li>\n",
       "\t<li>'1022'</li>\n",
       "\t<li>'1038'</li>\n",
       "\t<li>'1040'</li>\n",
       "\t<li>'1042'</li>\n",
       "\t<li>'1046'</li>\n",
       "\t<li>'1051'</li>\n",
       "\t<li>'1058'</li>\n",
       "\t<li>'1064'</li>\n",
       "\t<li>'1069'</li>\n",
       "\t<li>'1070'</li>\n",
       "\t<li>'1081'</li>\n",
       "\t<li>'1083'</li>\n",
       "\t<li>'1101'</li>\n",
       "\t<li>'1111'</li>\n",
       "\t<li>'1115'</li>\n",
       "\t<li>'1131'</li>\n",
       "\t<li>'1134'</li>\n",
       "\t<li>'1144'</li>\n",
       "\t<li>'1163'</li>\n",
       "\t<li>'1164'</li>\n",
       "\t<li>'1187'</li>\n",
       "\t<li>'1191'</li>\n",
       "\t<li>'1203'</li>\n",
       "\t<li>'1207'</li>\n",
       "\t<li>'1227'</li>\n",
       "\t<li>'1230'</li>\n",
       "</ol>\n"
      ],
      "text/latex": [
       "\\begin{enumerate*}\n",
       "\\item '2'\n",
       "\\item '3'\n",
       "\\item '7'\n",
       "\\item '10'\n",
       "\\item '19'\n",
       "\\item '20'\n",
       "\\item '25'\n",
       "\\item '26'\n",
       "\\item '28'\n",
       "\\item '30'\n",
       "\\item '31'\n",
       "\\item '40'\n",
       "\\item '46'\n",
       "\\item '49'\n",
       "\\item '51'\n",
       "\\item '56'\n",
       "\\item '57'\n",
       "\\item '58'\n",
       "\\item '62'\n",
       "\\item '67'\n",
       "\\item '77'\n",
       "\\item '79'\n",
       "\\item '81'\n",
       "\\item '85'\n",
       "\\item '87'\n",
       "\\item '88'\n",
       "\\item '94'\n",
       "\\item '99'\n",
       "\\item '104'\n",
       "\\item '105'\n",
       "\\item '107'\n",
       "\\item '109'\n",
       "\\item '111'\n",
       "\\item '116'\n",
       "\\item '124'\n",
       "\\item '125'\n",
       "\\item '126'\n",
       "\\item '134'\n",
       "\\item '135'\n",
       "\\item '136'\n",
       "\\item '141'\n",
       "\\item '147'\n",
       "\\item '151'\n",
       "\\item '154'\n",
       "\\item '155'\n",
       "\\item '158'\n",
       "\\item '159'\n",
       "\\item '164'\n",
       "\\item '169'\n",
       "\\item '171'\n",
       "\\item '190'\n",
       "\\item '195'\n",
       "\\item '197'\n",
       "\\item '198'\n",
       "\\item '199'\n",
       "\\item '200'\n",
       "\\item '203'\n",
       "\\item '206'\n",
       "\\item '212'\n",
       "\\item '214'\n",
       "\\item '216'\n",
       "\\item '222'\n",
       "\\item '224'\n",
       "\\item '229'\n",
       "\\item '233'\n",
       "\\item '236'\n",
       "\\item '241'\n",
       "\\item '243'\n",
       "\\item '245'\n",
       "\\item '253'\n",
       "\\item '255'\n",
       "\\item '257'\n",
       "\\item '260'\n",
       "\\item '267'\n",
       "\\item '273'\n",
       "\\item '275'\n",
       "\\item '276'\n",
       "\\item '282'\n",
       "\\item '287'\n",
       "\\item '290'\n",
       "\\item '291'\n",
       "\\item '296'\n",
       "\\item '301'\n",
       "\\item '302'\n",
       "\\item '303'\n",
       "\\item '317'\n",
       "\\item '320'\n",
       "\\item '321'\n",
       "\\item '326'\n",
       "\\item '327'\n",
       "\\item '332'\n",
       "\\item '333'\n",
       "\\item '339'\n",
       "\\item '343'\n",
       "\\item '350'\n",
       "\\item '351'\n",
       "\\item '355'\n",
       "\\item '357'\n",
       "\\item '363'\n",
       "\\item '367'\n",
       "\\item '379'\n",
       "\\item '380'\n",
       "\\item '381'\n",
       "\\item '385'\n",
       "\\item '386'\n",
       "\\item '387'\n",
       "\\item '392'\n",
       "\\item '393'\n",
       "\\item '395'\n",
       "\\item '399'\n",
       "\\item '403'\n",
       "\\item '409'\n",
       "\\item '410'\n",
       "\\item '419'\n",
       "\\item '423'\n",
       "\\item '425'\n",
       "\\item '426'\n",
       "\\item '429'\n",
       "\\item '433'\n",
       "\\item '440'\n",
       "\\item '444'\n",
       "\\item '449'\n",
       "\\item '452'\n",
       "\\item '453'\n",
       "\\item '458'\n",
       "\\item '461'\n",
       "\\item '462'\n",
       "\\item '469'\n",
       "\\item '474'\n",
       "\\item '475'\n",
       "\\item '479'\n",
       "\\item '480'\n",
       "\\item '486'\n",
       "\\item '492'\n",
       "\\item '497'\n",
       "\\item '501'\n",
       "\\item '504'\n",
       "\\item '505'\n",
       "\\item '507'\n",
       "\\item '512'\n",
       "\\item '527'\n",
       "\\item '534'\n",
       "\\item '535'\n",
       "\\item '552'\n",
       "\\item '554'\n",
       "\\item '560'\n",
       "\\item '561'\n",
       "\\item '574'\n",
       "\\item '580'\n",
       "\\item '586'\n",
       "\\item '589'\n",
       "\\item '593'\n",
       "\\item '604'\n",
       "\\item '606'\n",
       "\\item '617'\n",
       "\\item '630'\n",
       "\\item '635'\n",
       "\\item '638'\n",
       "\\item '641'\n",
       "\\item '650'\n",
       "\\item '654'\n",
       "\\item '656'\n",
       "\\item '673'\n",
       "\\item '678'\n",
       "\\item '687'\n",
       "\\item '688'\n",
       "\\item '693'\n",
       "\\item '694'\n",
       "\\item '700'\n",
       "\\item '706'\n",
       "\\item '727'\n",
       "\\item '728'\n",
       "\\item '740'\n",
       "\\item '742'\n",
       "\\item '747'\n",
       "\\item '751'\n",
       "\\item '753'\n",
       "\\item '763'\n",
       "\\item '770'\n",
       "\\item '774'\n",
       "\\item '780'\n",
       "\\item '787'\n",
       "\\item '795'\n",
       "\\item '798'\n",
       "\\item '807'\n",
       "\\item '818'\n",
       "\\item '830'\n",
       "\\item '831'\n",
       "\\item '837'\n",
       "\\item '839'\n",
       "\\item '848'\n",
       "\\item '850'\n",
       "\\item '853'\n",
       "\\item '866'\n",
       "\\item '883'\n",
       "\\item '884'\n",
       "\\item '889'\n",
       "\\item '891'\n",
       "\\item '909'\n",
       "\\item '910'\n",
       "\\item '915'\n",
       "\\item '917'\n",
       "\\item '931'\n",
       "\\item '935'\n",
       "\\item '941'\n",
       "\\item '943'\n",
       "\\item '951'\n",
       "\\item '955'\n",
       "\\item '966'\n",
       "\\item '968'\n",
       "\\item '974'\n",
       "\\item '984'\n",
       "\\item '990'\n",
       "\\item '992'\n",
       "\\item '998'\n",
       "\\item '1003'\n",
       "\\item '1012'\n",
       "\\item '1014'\n",
       "\\item '1022'\n",
       "\\item '1038'\n",
       "\\item '1040'\n",
       "\\item '1042'\n",
       "\\item '1046'\n",
       "\\item '1051'\n",
       "\\item '1058'\n",
       "\\item '1064'\n",
       "\\item '1069'\n",
       "\\item '1070'\n",
       "\\item '1081'\n",
       "\\item '1083'\n",
       "\\item '1101'\n",
       "\\item '1111'\n",
       "\\item '1115'\n",
       "\\item '1131'\n",
       "\\item '1134'\n",
       "\\item '1144'\n",
       "\\item '1163'\n",
       "\\item '1164'\n",
       "\\item '1187'\n",
       "\\item '1191'\n",
       "\\item '1203'\n",
       "\\item '1207'\n",
       "\\item '1227'\n",
       "\\item '1230'\n",
       "\\end{enumerate*}\n"
      ],
      "text/markdown": [
       "1. '2'\n",
       "2. '3'\n",
       "3. '7'\n",
       "4. '10'\n",
       "5. '19'\n",
       "6. '20'\n",
       "7. '25'\n",
       "8. '26'\n",
       "9. '28'\n",
       "10. '30'\n",
       "11. '31'\n",
       "12. '40'\n",
       "13. '46'\n",
       "14. '49'\n",
       "15. '51'\n",
       "16. '56'\n",
       "17. '57'\n",
       "18. '58'\n",
       "19. '62'\n",
       "20. '67'\n",
       "21. '77'\n",
       "22. '79'\n",
       "23. '81'\n",
       "24. '85'\n",
       "25. '87'\n",
       "26. '88'\n",
       "27. '94'\n",
       "28. '99'\n",
       "29. '104'\n",
       "30. '105'\n",
       "31. '107'\n",
       "32. '109'\n",
       "33. '111'\n",
       "34. '116'\n",
       "35. '124'\n",
       "36. '125'\n",
       "37. '126'\n",
       "38. '134'\n",
       "39. '135'\n",
       "40. '136'\n",
       "41. '141'\n",
       "42. '147'\n",
       "43. '151'\n",
       "44. '154'\n",
       "45. '155'\n",
       "46. '158'\n",
       "47. '159'\n",
       "48. '164'\n",
       "49. '169'\n",
       "50. '171'\n",
       "51. '190'\n",
       "52. '195'\n",
       "53. '197'\n",
       "54. '198'\n",
       "55. '199'\n",
       "56. '200'\n",
       "57. '203'\n",
       "58. '206'\n",
       "59. '212'\n",
       "60. '214'\n",
       "61. '216'\n",
       "62. '222'\n",
       "63. '224'\n",
       "64. '229'\n",
       "65. '233'\n",
       "66. '236'\n",
       "67. '241'\n",
       "68. '243'\n",
       "69. '245'\n",
       "70. '253'\n",
       "71. '255'\n",
       "72. '257'\n",
       "73. '260'\n",
       "74. '267'\n",
       "75. '273'\n",
       "76. '275'\n",
       "77. '276'\n",
       "78. '282'\n",
       "79. '287'\n",
       "80. '290'\n",
       "81. '291'\n",
       "82. '296'\n",
       "83. '301'\n",
       "84. '302'\n",
       "85. '303'\n",
       "86. '317'\n",
       "87. '320'\n",
       "88. '321'\n",
       "89. '326'\n",
       "90. '327'\n",
       "91. '332'\n",
       "92. '333'\n",
       "93. '339'\n",
       "94. '343'\n",
       "95. '350'\n",
       "96. '351'\n",
       "97. '355'\n",
       "98. '357'\n",
       "99. '363'\n",
       "100. '367'\n",
       "101. '379'\n",
       "102. '380'\n",
       "103. '381'\n",
       "104. '385'\n",
       "105. '386'\n",
       "106. '387'\n",
       "107. '392'\n",
       "108. '393'\n",
       "109. '395'\n",
       "110. '399'\n",
       "111. '403'\n",
       "112. '409'\n",
       "113. '410'\n",
       "114. '419'\n",
       "115. '423'\n",
       "116. '425'\n",
       "117. '426'\n",
       "118. '429'\n",
       "119. '433'\n",
       "120. '440'\n",
       "121. '444'\n",
       "122. '449'\n",
       "123. '452'\n",
       "124. '453'\n",
       "125. '458'\n",
       "126. '461'\n",
       "127. '462'\n",
       "128. '469'\n",
       "129. '474'\n",
       "130. '475'\n",
       "131. '479'\n",
       "132. '480'\n",
       "133. '486'\n",
       "134. '492'\n",
       "135. '497'\n",
       "136. '501'\n",
       "137. '504'\n",
       "138. '505'\n",
       "139. '507'\n",
       "140. '512'\n",
       "141. '527'\n",
       "142. '534'\n",
       "143. '535'\n",
       "144. '552'\n",
       "145. '554'\n",
       "146. '560'\n",
       "147. '561'\n",
       "148. '574'\n",
       "149. '580'\n",
       "150. '586'\n",
       "151. '589'\n",
       "152. '593'\n",
       "153. '604'\n",
       "154. '606'\n",
       "155. '617'\n",
       "156. '630'\n",
       "157. '635'\n",
       "158. '638'\n",
       "159. '641'\n",
       "160. '650'\n",
       "161. '654'\n",
       "162. '656'\n",
       "163. '673'\n",
       "164. '678'\n",
       "165. '687'\n",
       "166. '688'\n",
       "167. '693'\n",
       "168. '694'\n",
       "169. '700'\n",
       "170. '706'\n",
       "171. '727'\n",
       "172. '728'\n",
       "173. '740'\n",
       "174. '742'\n",
       "175. '747'\n",
       "176. '751'\n",
       "177. '753'\n",
       "178. '763'\n",
       "179. '770'\n",
       "180. '774'\n",
       "181. '780'\n",
       "182. '787'\n",
       "183. '795'\n",
       "184. '798'\n",
       "185. '807'\n",
       "186. '818'\n",
       "187. '830'\n",
       "188. '831'\n",
       "189. '837'\n",
       "190. '839'\n",
       "191. '848'\n",
       "192. '850'\n",
       "193. '853'\n",
       "194. '866'\n",
       "195. '883'\n",
       "196. '884'\n",
       "197. '889'\n",
       "198. '891'\n",
       "199. '909'\n",
       "200. '910'\n",
       "201. '915'\n",
       "202. '917'\n",
       "203. '931'\n",
       "204. '935'\n",
       "205. '941'\n",
       "206. '943'\n",
       "207. '951'\n",
       "208. '955'\n",
       "209. '966'\n",
       "210. '968'\n",
       "211. '974'\n",
       "212. '984'\n",
       "213. '990'\n",
       "214. '992'\n",
       "215. '998'\n",
       "216. '1003'\n",
       "217. '1012'\n",
       "218. '1014'\n",
       "219. '1022'\n",
       "220. '1038'\n",
       "221. '1040'\n",
       "222. '1042'\n",
       "223. '1046'\n",
       "224. '1051'\n",
       "225. '1058'\n",
       "226. '1064'\n",
       "227. '1069'\n",
       "228. '1070'\n",
       "229. '1081'\n",
       "230. '1083'\n",
       "231. '1101'\n",
       "232. '1111'\n",
       "233. '1115'\n",
       "234. '1131'\n",
       "235. '1134'\n",
       "236. '1144'\n",
       "237. '1163'\n",
       "238. '1164'\n",
       "239. '1187'\n",
       "240. '1191'\n",
       "241. '1203'\n",
       "242. '1207'\n",
       "243. '1227'\n",
       "244. '1230'\n",
       "\n",
       "\n"
      ],
      "text/plain": [
       "  [1] \"2\"    \"3\"    \"7\"    \"10\"   \"19\"   \"20\"   \"25\"   \"26\"   \"28\"   \"30\"  \n",
       " [11] \"31\"   \"40\"   \"46\"   \"49\"   \"51\"   \"56\"   \"57\"   \"58\"   \"62\"   \"67\"  \n",
       " [21] \"77\"   \"79\"   \"81\"   \"85\"   \"87\"   \"88\"   \"94\"   \"99\"   \"104\"  \"105\" \n",
       " [31] \"107\"  \"109\"  \"111\"  \"116\"  \"124\"  \"125\"  \"126\"  \"134\"  \"135\"  \"136\" \n",
       " [41] \"141\"  \"147\"  \"151\"  \"154\"  \"155\"  \"158\"  \"159\"  \"164\"  \"169\"  \"171\" \n",
       " [51] \"190\"  \"195\"  \"197\"  \"198\"  \"199\"  \"200\"  \"203\"  \"206\"  \"212\"  \"214\" \n",
       " [61] \"216\"  \"222\"  \"224\"  \"229\"  \"233\"  \"236\"  \"241\"  \"243\"  \"245\"  \"253\" \n",
       " [71] \"255\"  \"257\"  \"260\"  \"267\"  \"273\"  \"275\"  \"276\"  \"282\"  \"287\"  \"290\" \n",
       " [81] \"291\"  \"296\"  \"301\"  \"302\"  \"303\"  \"317\"  \"320\"  \"321\"  \"326\"  \"327\" \n",
       " [91] \"332\"  \"333\"  \"339\"  \"343\"  \"350\"  \"351\"  \"355\"  \"357\"  \"363\"  \"367\" \n",
       "[101] \"379\"  \"380\"  \"381\"  \"385\"  \"386\"  \"387\"  \"392\"  \"393\"  \"395\"  \"399\" \n",
       "[111] \"403\"  \"409\"  \"410\"  \"419\"  \"423\"  \"425\"  \"426\"  \"429\"  \"433\"  \"440\" \n",
       "[121] \"444\"  \"449\"  \"452\"  \"453\"  \"458\"  \"461\"  \"462\"  \"469\"  \"474\"  \"475\" \n",
       "[131] \"479\"  \"480\"  \"486\"  \"492\"  \"497\"  \"501\"  \"504\"  \"505\"  \"507\"  \"512\" \n",
       "[141] \"527\"  \"534\"  \"535\"  \"552\"  \"554\"  \"560\"  \"561\"  \"574\"  \"580\"  \"586\" \n",
       "[151] \"589\"  \"593\"  \"604\"  \"606\"  \"617\"  \"630\"  \"635\"  \"638\"  \"641\"  \"650\" \n",
       "[161] \"654\"  \"656\"  \"673\"  \"678\"  \"687\"  \"688\"  \"693\"  \"694\"  \"700\"  \"706\" \n",
       "[171] \"727\"  \"728\"  \"740\"  \"742\"  \"747\"  \"751\"  \"753\"  \"763\"  \"770\"  \"774\" \n",
       "[181] \"780\"  \"787\"  \"795\"  \"798\"  \"807\"  \"818\"  \"830\"  \"831\"  \"837\"  \"839\" \n",
       "[191] \"848\"  \"850\"  \"853\"  \"866\"  \"883\"  \"884\"  \"889\"  \"891\"  \"909\"  \"910\" \n",
       "[201] \"915\"  \"917\"  \"931\"  \"935\"  \"941\"  \"943\"  \"951\"  \"955\"  \"966\"  \"968\" \n",
       "[211] \"974\"  \"984\"  \"990\"  \"992\"  \"998\"  \"1003\" \"1012\" \"1014\" \"1022\" \"1038\"\n",
       "[221] \"1040\" \"1042\" \"1046\" \"1051\" \"1058\" \"1064\" \"1069\" \"1070\" \"1081\" \"1083\"\n",
       "[231] \"1101\" \"1111\" \"1115\" \"1131\" \"1134\" \"1144\" \"1163\" \"1164\" \"1187\" \"1191\"\n",
       "[241] \"1203\" \"1207\" \"1227\" \"1230\""
      ]
     },
     "metadata": {},
     "output_type": "display_data"
    },
    {
     "name": "stdout",
     "output_type": "stream",
     "text": [
      "\n",
      "No. of team/year pairs where no. of playoff teams is 8: 128"
     ]
    },
    {
     "data": {
      "text/plain": [
       "\n",
       "  2   4   8  10 \n",
       " 14  92 128  10 "
      ]
     },
     "metadata": {},
     "output_type": "display_data"
    }
   ],
   "source": [
    "baseballP$NumComp <- as.integer(table(baseballP$Year)[as.character(baseballP$Year)])\n",
    "str(baseballP)\n",
    "rownames(baseballP)\n",
    "\n",
    "# get number of team/year pairs where no. of playoff teams=8\n",
    "cat(sprintf(\"\\nNo. of team/year pairs where no. of playoff teams is 8: %s\",\n",
    "            NROW(subset(baseballP, baseballP$NumComp == 8))))\n",
    "\n",
    "# OR...\n",
    "table(baseballP$NumComp)"
   ]
  },
  {
   "cell_type": "markdown",
   "metadata": {},
   "source": [
    "### Part 1C (checked)"
   ]
  },
  {
   "cell_type": "code",
   "execution_count": 3,
   "metadata": {},
   "outputs": [
    {
     "name": "stdout",
     "output_type": "stream",
     "text": [
      "\n",
      "No. of losing teams total (subset): 197"
     ]
    },
    {
     "data": {
      "text/html": [
       "47"
      ],
      "text/latex": [
       "47"
      ],
      "text/markdown": [
       "47"
      ],
      "text/plain": [
       "[1] 47"
      ]
     },
     "metadata": {},
     "output_type": "display_data"
    }
   ],
   "source": [
    "baseballP$WorldSeries <- ifelse(baseballP$RankPlayoffs == 1, 1, 0)\n",
    "cat(sprintf(\"\\nNo. of losing teams total (subset): %s\",\n",
    "            length(baseballP$WorldSeries[baseballP$WorldSeries == 0])))\n",
    "\n",
    "# baseballP\n",
    "NROW(subset(baseballP, baseballP$WorldSeries == 1))"
   ]
  },
  {
   "cell_type": "markdown",
   "metadata": {},
   "source": [
    "### Part 1D (c)"
   ]
  },
  {
   "cell_type": "code",
   "execution_count": 4,
   "metadata": {
    "scrolled": false
   },
   "outputs": [
    {
     "name": "stderr",
     "output_type": "stream",
     "text": [
      "Warning message:\n",
      "\"glm.fit: algorithm did not converge\"Warning message:\n",
      "\"glm.fit: fitted probabilities numerically 0 or 1 occurred\""
     ]
    },
    {
     "data": {
      "text/html": [
       "<table>\n",
       "<thead><tr><th scope=col>name</th><th scope=col>variable</th><th scope=col>intercept</th><th scope=col>varP</th><th scope=col>intP</th><th scope=col>aic</th></tr></thead>\n",
       "<tbody>\n",
       "\t<tr><td>League       </td><td> -0.158292579</td><td> -1.3558352  </td><td>0.6264465507 </td><td>1.495819e-09 </td><td>242.8846     </td></tr>\n",
       "\t<tr><td>Year         </td><td> -0.036999890</td><td> 72.2360208  </td><td>0.0011544695 </td><td>1.422431e-03 </td><td>232.3508     </td></tr>\n",
       "\t<tr><td>RS           </td><td> -0.002681168</td><td>  0.6612262  </td><td>0.2013364471 </td><td>6.861757e-01 </td><td>241.4543     </td></tr>\n",
       "\t<tr><td>RA           </td><td> -0.005053397</td><td>  1.8881745  </td><td>0.0262137758 </td><td>2.031958e-01 </td><td>237.8839     </td></tr>\n",
       "\t<tr><td>W            </td><td>  0.056714483</td><td> -6.8556774  </td><td>0.0577260348 </td><td>1.714458e-02 </td><td>239.5105     </td></tr>\n",
       "\t<tr><td>OBP          </td><td>-12.401837341</td><td>  2.7413679  </td><td>0.2959201177 </td><td>4.918963e-01 </td><td>242.0209     </td></tr>\n",
       "\t<tr><td>SLG          </td><td>-11.129812981</td><td>  3.1997590  </td><td>0.0504256593 </td><td>1.748288e-01 </td><td>239.2283     </td></tr>\n",
       "\t<tr><td>BA           </td><td> -2.976491008</td><td> -0.6392427  </td><td>0.8385900817 </td><td>8.697621e-01 </td><td>243.0804     </td></tr>\n",
       "\t<tr><td>RankSeason   </td><td> -0.206926332</td><td> -0.8256129  </td><td>0.0438313556 </td><td>1.151641e-02 </td><td>238.7546     </td></tr>\n",
       "\t<tr><td>RankPlayoffs </td><td>-47.682457516</td><td> 71.7719409  </td><td>0.9980079493 </td><td>9.982285e-01 </td><td>  4.0000     </td></tr>\n",
       "\t<tr><td>Games        </td><td>  0.171690765</td><td>-29.2414027  </td><td>0.5220175769 </td><td>5.008564e-01 </td><td>242.6988     </td></tr>\n",
       "\t<tr><td>NumComp      </td><td> -0.252196729</td><td>  0.0386751  </td><td>0.0006784323 </td><td>9.295592e-01 </td><td>230.9592     </td></tr>\n",
       "</tbody>\n",
       "</table>\n"
      ],
      "text/latex": [
       "\\begin{tabular}{r|llllll}\n",
       " name & variable & intercept & varP & intP & aic\\\\\n",
       "\\hline\n",
       "\t League        &  -0.158292579 &  -1.3558352   & 0.6264465507  & 1.495819e-09  & 242.8846     \\\\\n",
       "\t Year          &  -0.036999890 &  72.2360208   & 0.0011544695  & 1.422431e-03  & 232.3508     \\\\\n",
       "\t RS            &  -0.002681168 &   0.6612262   & 0.2013364471  & 6.861757e-01  & 241.4543     \\\\\n",
       "\t RA            &  -0.005053397 &   1.8881745   & 0.0262137758  & 2.031958e-01  & 237.8839     \\\\\n",
       "\t W             &   0.056714483 &  -6.8556774   & 0.0577260348  & 1.714458e-02  & 239.5105     \\\\\n",
       "\t OBP           & -12.401837341 &   2.7413679   & 0.2959201177  & 4.918963e-01  & 242.0209     \\\\\n",
       "\t SLG           & -11.129812981 &   3.1997590   & 0.0504256593  & 1.748288e-01  & 239.2283     \\\\\n",
       "\t BA            &  -2.976491008 &  -0.6392427   & 0.8385900817  & 8.697621e-01  & 243.0804     \\\\\n",
       "\t RankSeason    &  -0.206926332 &  -0.8256129   & 0.0438313556  & 1.151641e-02  & 238.7546     \\\\\n",
       "\t RankPlayoffs  & -47.682457516 &  71.7719409   & 0.9980079493  & 9.982285e-01  &   4.0000     \\\\\n",
       "\t Games         &   0.171690765 & -29.2414027   & 0.5220175769  & 5.008564e-01  & 242.6988     \\\\\n",
       "\t NumComp       &  -0.252196729 &   0.0386751   & 0.0006784323  & 9.295592e-01  & 230.9592     \\\\\n",
       "\\end{tabular}\n"
      ],
      "text/markdown": [
       "\n",
       "name | variable | intercept | varP | intP | aic | \n",
       "|---|---|---|---|---|---|---|---|---|---|---|---|\n",
       "| League        |  -0.158292579 |  -1.3558352   | 0.6264465507  | 1.495819e-09  | 242.8846      | \n",
       "| Year          |  -0.036999890 |  72.2360208   | 0.0011544695  | 1.422431e-03  | 232.3508      | \n",
       "| RS            |  -0.002681168 |   0.6612262   | 0.2013364471  | 6.861757e-01  | 241.4543      | \n",
       "| RA            |  -0.005053397 |   1.8881745   | 0.0262137758  | 2.031958e-01  | 237.8839      | \n",
       "| W             |   0.056714483 |  -6.8556774   | 0.0577260348  | 1.714458e-02  | 239.5105      | \n",
       "| OBP           | -12.401837341 |   2.7413679   | 0.2959201177  | 4.918963e-01  | 242.0209      | \n",
       "| SLG           | -11.129812981 |   3.1997590   | 0.0504256593  | 1.748288e-01  | 239.2283      | \n",
       "| BA            |  -2.976491008 |  -0.6392427   | 0.8385900817  | 8.697621e-01  | 243.0804      | \n",
       "| RankSeason    |  -0.206926332 |  -0.8256129   | 0.0438313556  | 1.151641e-02  | 238.7546      | \n",
       "| RankPlayoffs  | -47.682457516 |  71.7719409   | 0.9980079493  | 9.982285e-01  |   4.0000      | \n",
       "| Games         |   0.171690765 | -29.2414027   | 0.5220175769  | 5.008564e-01  | 242.6988      | \n",
       "| NumComp       |  -0.252196729 |   0.0386751   | 0.0006784323  | 9.295592e-01  | 230.9592      | \n",
       "\n",
       "\n"
      ],
      "text/plain": [
       "   name         variable      intercept   varP         intP         aic     \n",
       "1  League        -0.158292579  -1.3558352 0.6264465507 1.495819e-09 242.8846\n",
       "2  Year          -0.036999890  72.2360208 0.0011544695 1.422431e-03 232.3508\n",
       "3  RS            -0.002681168   0.6612262 0.2013364471 6.861757e-01 241.4543\n",
       "4  RA            -0.005053397   1.8881745 0.0262137758 2.031958e-01 237.8839\n",
       "5  W              0.056714483  -6.8556774 0.0577260348 1.714458e-02 239.5105\n",
       "6  OBP          -12.401837341   2.7413679 0.2959201177 4.918963e-01 242.0209\n",
       "7  SLG          -11.129812981   3.1997590 0.0504256593 1.748288e-01 239.2283\n",
       "8  BA            -2.976491008  -0.6392427 0.8385900817 8.697621e-01 243.0804\n",
       "9  RankSeason    -0.206926332  -0.8256129 0.0438313556 1.151641e-02 238.7546\n",
       "10 RankPlayoffs -47.682457516  71.7719409 0.9980079493 9.982285e-01   4.0000\n",
       "11 Games          0.171690765 -29.2414027 0.5220175769 5.008564e-01 242.6988\n",
       "12 NumComp       -0.252196729   0.0386751 0.0006784323 9.295592e-01 230.9592"
      ]
     },
     "metadata": {},
     "output_type": "display_data"
    },
    {
     "data": {
      "text/plain": [
       "\n",
       "Call:\n",
       "glm(formula = baseballP$WorldSeries ~ baseballP[[\"Year\"]], family = \"binomial\")\n",
       "\n",
       "Deviance Residuals: \n",
       "    Min       1Q   Median       3Q      Max  \n",
       "-1.0297  -0.6797  -0.5435  -0.4648   2.1504  \n",
       "\n",
       "Coefficients:\n",
       "                    Estimate Std. Error z value Pr(>|z|)   \n",
       "(Intercept)         72.23602   22.64409    3.19  0.00142 **\n",
       "baseballP[[\"Year\"]] -0.03700    0.01138   -3.25  0.00115 **\n",
       "---\n",
       "Signif. codes:  0 '***' 0.001 '**' 0.01 '*' 0.05 '.' 0.1 ' ' 1\n",
       "\n",
       "(Dispersion parameter for binomial family taken to be 1)\n",
       "\n",
       "    Null deviance: 239.12  on 243  degrees of freedom\n",
       "Residual deviance: 228.35  on 242  degrees of freedom\n",
       "AIC: 232.35\n",
       "\n",
       "Number of Fisher Scoring iterations: 4\n"
      ]
     },
     "metadata": {},
     "output_type": "display_data"
    },
    {
     "data": {
      "image/png": "[encoded data removed]",
      "text/plain": [
       "plot without title"
      ]
     },
     "metadata": {},
     "output_type": "display_data"
    }
   ],
   "source": [
    "results <- data.frame(name=character(),\n",
    "                      variable=double(),\n",
    "                      intercept=double(),\n",
    "                      varP=double(),\n",
    "                      intP=double(),\n",
    "                      aic=double(),\n",
    "                      stringsAsFactors=FALSE)\n",
    "\n",
    "\n",
    "# for each predictor, generate single regression model and append model statistics to \"results\"\n",
    "for (var in colnames(baseballP)) {\n",
    "    if (var %in% c(\"League\", \"Year\", \"RS\", \"RA\", \"W\", \"OBP\", \"SLG\", \"BA\", \"NumComp\", \"RankSeason\", \"RankPlayoffs\", \"Games\")) {\n",
    "        model1D <- glm(baseballP$WorldSeries~baseballP[[var]], family=\"binomial\")\n",
    "#         plot(baseballP[[var]],baseballP$WorldSeries, xlab=var)\n",
    "#         curve(exp(coefficients(model1D)[1]+coefficients(model1D)[2]*x)/\n",
    "#               (1+exp(coefficients(model1D)[1]+coefficients(model1D)[2]*x)), add=T)\n",
    "#         print(var)\n",
    "#         print(summary(model1D))\n",
    "        model_stats <- data.frame(name = var,\n",
    "                                  variable = coefficients(model1D)[[2]],\n",
    "                                  intercept = coefficients(model1D)[[1]],\n",
    "                                  varP = coef(summary(model1D))[2,4],\n",
    "                                  intP = coef(summary(model1D))[1,4],\n",
    "                                  aic = summary(model1D)$aic)\n",
    "        results <- rbind(results, model_stats)\n",
    "}}\n",
    "\n",
    "# transform column datatype to numeric\n",
    "# for (i in colnames(results)[2:5]) {\n",
    "#   results[[i]] <- as.numeric(results[[i]])}\n",
    "\n",
    "# display results\n",
    "results\n",
    "model1D <- glm(baseballP$WorldSeries~baseballP[[\"Year\"]], family=\"binomial\")\n",
    "plot(baseballP[[\"Year\"]],baseballP$WorldSeries)\n",
    "abline(model1D)\n",
    "summary(model1D)\n",
    "\n",
    "# we can observe that variables \"Year\", \"RA\", \"NumComp\", \"RankSeason\" are significant predictors\n",
    "# near-hits include \"W\", \"SLG\""
   ]
  },
  {
   "cell_type": "markdown",
   "metadata": {},
   "source": [
    "### Part 1E (c)\n",
    "\n",
    "There are three significant predictor variable as found in part 1D, i.e. **Year**, **RA** and **NumComp** and **RankSeason**. However, running a multiple regression on all three does not give us significant predictors, in fact, all three of them turn non-significant."
   ]
  },
  {
   "cell_type": "code",
   "execution_count": 5,
   "metadata": {},
   "outputs": [
    {
     "data": {
      "text/plain": [
       "\n",
       "Call:\n",
       "glm(formula = WorldSeries ~ Year + RA + NumComp + RankSeason, \n",
       "    family = \"binomial\", data = baseballP)\n",
       "\n",
       "Deviance Residuals: \n",
       "    Min       1Q   Median       3Q      Max  \n",
       "-1.0336  -0.7689  -0.5139  -0.4583   2.2195  \n",
       "\n",
       "Coefficients:\n",
       "              Estimate Std. Error z value Pr(>|z|)\n",
       "(Intercept) 12.5874376 53.6474210   0.235    0.814\n",
       "Year        -0.0061425  0.0274665  -0.224    0.823\n",
       "RA          -0.0008238  0.0027391  -0.301    0.764\n",
       "NumComp     -0.1794264  0.1815933  -0.988    0.323\n",
       "RankSeason  -0.0685046  0.1203459  -0.569    0.569\n",
       "\n",
       "(Dispersion parameter for binomial family taken to be 1)\n",
       "\n",
       "    Null deviance: 239.12  on 243  degrees of freedom\n",
       "Residual deviance: 226.37  on 239  degrees of freedom\n",
       "AIC: 236.37\n",
       "\n",
       "Number of Fisher Scoring iterations: 4\n"
      ]
     },
     "metadata": {},
     "output_type": "display_data"
    }
   ],
   "source": [
    "model1E <- glm(WorldSeries~Year+RA+NumComp+RankSeason, data=baseballP, family=\"binomial\")\n",
    "summary(model1E)"
   ]
  },
  {
   "cell_type": "markdown",
   "metadata": {},
   "source": [
    "### Part 1F (c)\n",
    "\n",
    "Yes there is one. The variables **Year** is highly correlated with **NumComp** by $0.914$."
   ]
  },
  {
   "cell_type": "code",
   "execution_count": 6,
   "metadata": {},
   "outputs": [
    {
     "data": {
      "text/html": [
       "<table>\n",
       "<thead><tr><th></th><th scope=col>Year</th><th scope=col>RA</th><th scope=col>NumComp</th><th scope=col>RankSeason</th></tr></thead>\n",
       "<tbody>\n",
       "\t<tr><th scope=row>Year</th><td>1.0000000</td><td>0.4762422</td><td>0.9139548</td><td>0.3852191</td></tr>\n",
       "\t<tr><th scope=row>RA</th><td>0.4762422</td><td>1.0000000</td><td>0.5136769</td><td>0.3991413</td></tr>\n",
       "\t<tr><th scope=row>NumComp</th><td>0.9139548</td><td>0.5136769</td><td>1.0000000</td><td>0.4247393</td></tr>\n",
       "\t<tr><th scope=row>RankSeason</th><td>0.3852191</td><td>0.3991413</td><td>0.4247393</td><td>1.0000000</td></tr>\n",
       "</tbody>\n",
       "</table>\n"
      ],
      "text/latex": [
       "\\begin{tabular}{r|llll}\n",
       "  & Year & RA & NumComp & RankSeason\\\\\n",
       "\\hline\n",
       "\tYear & 1.0000000 & 0.4762422 & 0.9139548 & 0.3852191\\\\\n",
       "\tRA & 0.4762422 & 1.0000000 & 0.5136769 & 0.3991413\\\\\n",
       "\tNumComp & 0.9139548 & 0.5136769 & 1.0000000 & 0.4247393\\\\\n",
       "\tRankSeason & 0.3852191 & 0.3991413 & 0.4247393 & 1.0000000\\\\\n",
       "\\end{tabular}\n"
      ],
      "text/markdown": [
       "\n",
       "| <!--/--> | Year | RA | NumComp | RankSeason | \n",
       "|---|---|---|---|\n",
       "| Year | 1.0000000 | 0.4762422 | 0.9139548 | 0.3852191 | \n",
       "| RA | 0.4762422 | 1.0000000 | 0.5136769 | 0.3991413 | \n",
       "| NumComp | 0.9139548 | 0.5136769 | 1.0000000 | 0.4247393 | \n",
       "| RankSeason | 0.3852191 | 0.3991413 | 0.4247393 | 1.0000000 | \n",
       "\n",
       "\n"
      ],
      "text/plain": [
       "           Year      RA        NumComp   RankSeason\n",
       "Year       1.0000000 0.4762422 0.9139548 0.3852191 \n",
       "RA         0.4762422 1.0000000 0.5136769 0.3991413 \n",
       "NumComp    0.9139548 0.5136769 1.0000000 0.4247393 \n",
       "RankSeason 0.3852191 0.3991413 0.4247393 1.0000000 "
      ]
     },
     "metadata": {},
     "output_type": "display_data"
    },
    {
     "data": {
      "image/png": "[encoded data removed]",
      "text/plain": [
       "plot without title"
      ]
     },
     "metadata": {},
     "output_type": "display_data"
    },
    {
     "data": {
      "image/png": "[encoded data removed]",
      "text/plain": [
       "plot without title"
      ]
     },
     "metadata": {},
     "output_type": "display_data"
    },
    {
     "data": {
      "image/png": "[encoded data removed]",
      "text/plain": [
       "plot without title"
      ]
     },
     "metadata": {},
     "output_type": "display_data"
    }
   ],
   "source": [
    "cor(baseballP[,c(\"Year\", \"RA\", \"NumComp\", \"RankSeason\")])\n",
    "\n",
    "plot(baseballP$Year, baseballP$RA)\n",
    "plot(baseballP$Year, baseballP$NumComp)\n",
    "plot(baseballP$RA, baseballP$NumComp)"
   ]
  },
  {
   "cell_type": "markdown",
   "metadata": {},
   "source": [
    "### Part 1G (c)\n",
    "\n",
    "Smallest AIC of 230.9592 belongs to model with **WorldSeries~NumComp**."
   ]
  },
  {
   "cell_type": "code",
   "execution_count": 7,
   "metadata": {
    "scrolled": false
   },
   "outputs": [
    {
     "data": {
      "text/html": [
       "233.876587091113"
      ],
      "text/latex": [
       "233.876587091113"
      ],
      "text/markdown": [
       "233.876587091113"
      ],
      "text/plain": [
       "[1] 233.8766"
      ]
     },
     "metadata": {},
     "output_type": "display_data"
    },
    {
     "data": {
      "text/html": [
       "233.5524479584"
      ],
      "text/latex": [
       "233.5524479584"
      ],
      "text/markdown": [
       "233.5524479584"
      ],
      "text/plain": [
       "[1] 233.5524"
      ]
     },
     "metadata": {},
     "output_type": "display_data"
    },
    {
     "data": {
      "text/html": [
       "232.897168212545"
      ],
      "text/latex": [
       "232.897168212545"
      ],
      "text/markdown": [
       "232.897168212545"
      ],
      "text/plain": [
       "[1] 232.8972"
      ]
     },
     "metadata": {},
     "output_type": "display_data"
    },
    {
     "data": {
      "text/html": [
       "238.217989366883"
      ],
      "text/latex": [
       "238.217989366883"
      ],
      "text/markdown": [
       "238.217989366883"
      ],
      "text/plain": [
       "[1] 238.218"
      ]
     },
     "metadata": {},
     "output_type": "display_data"
    },
    {
     "data": {
      "text/html": [
       "232.742945386299"
      ],
      "text/latex": [
       "232.742945386299"
      ],
      "text/markdown": [
       "232.742945386299"
      ],
      "text/plain": [
       "[1] 232.7429"
      ]
     },
     "metadata": {},
     "output_type": "display_data"
    },
    {
     "data": {
      "text/html": [
       "232.523952903188"
      ],
      "text/latex": [
       "232.523952903188"
      ],
      "text/markdown": [
       "232.523952903188"
      ],
      "text/plain": [
       "[1] 232.524"
      ]
     },
     "metadata": {},
     "output_type": "display_data"
    }
   ],
   "source": [
    "model1GA <- glm(WorldSeries~Year+RA, data=baseballP, family=\"binomial\")\n",
    "model1GB <- glm(WorldSeries~Year+RankSeason, data=baseballP, family=\"binomial\")\n",
    "model1GC <- glm(WorldSeries~Year+NumComp, data=baseballP, family=\"binomial\")\n",
    "model1GD <- glm(WorldSeries~RA+RankSeason, data=baseballP, family=\"binomial\")\n",
    "model1GE <- glm(WorldSeries~RA+NumComp, data=baseballP, family=\"binomial\")\n",
    "model1GF <- glm(WorldSeries~RankSeason+NumComp, data=baseballP, family=\"binomial\")\n",
    "\n",
    "summary(model1GA)$aic\n",
    "summary(model1GB)$aic\n",
    "summary(model1GC)$aic\n",
    "summary(model1GD)$aic\n",
    "summary(model1GE)$aic\n",
    "summary(model1GF)$aic"
   ]
  },
  {
   "cell_type": "markdown",
   "metadata": {},
   "source": [
    "### Part 1H\n",
    "\n",
    "Overall it seems the winning of playoffs has a large reliance on unmodelled variables (which we can refer to as luck or environmental factors) than other season performance metrics."
   ]
  },
  {
   "cell_type": "markdown",
   "metadata": {},
   "source": [
    "## Question deux\n",
    "\n",
    "### Part 2A (c)\n",
    "There are a total of 675 parolees."
   ]
  },
  {
   "cell_type": "code",
   "execution_count": 8,
   "metadata": {},
   "outputs": [
    {
     "name": "stdout",
     "output_type": "stream",
     "text": [
      "'data.frame':\t675 obs. of  9 variables:\n",
      " $ Male            : int  1 0 1 1 1 1 1 0 0 1 ...\n",
      " $ RaceWhite       : int  1 1 0 1 0 0 1 1 1 0 ...\n",
      " $ Age             : num  33.2 39.7 29.5 22.4 21.6 46.7 31 24.6 32.6 29.1 ...\n",
      " $ State           : Factor w/ 4 levels \"Kentucky\",\"Louisiana\",..: 3 3 3 3 3 3 3 3 3 3 ...\n",
      " $ TimeServed      : num  5.5 5.4 5.6 5.7 5.4 6 6 4.8 4.5 4.7 ...\n",
      " $ MaxSentence     : int  18 12 12 18 12 18 18 12 13 12 ...\n",
      " $ MultipleOffenses: int  0 0 0 0 0 0 0 0 0 0 ...\n",
      " $ Crime           : Factor w/ 4 levels \"Driving\",\"Drugs\",..: 1 2 2 4 4 1 2 4 2 3 ...\n",
      " $ Violator        : int  0 0 0 0 0 0 0 0 0 0 ...\n"
     ]
    }
   ],
   "source": [
    "parole <- read.csv(\"csv/Parole.csv\")\n",
    "str(parole)"
   ]
  },
  {
   "cell_type": "markdown",
   "metadata": {},
   "source": [
    "### Part 2B (c)"
   ]
  },
  {
   "cell_type": "code",
   "execution_count": 9,
   "metadata": {},
   "outputs": [
    {
     "data": {
      "text/html": [
       "78"
      ],
      "text/latex": [
       "78"
      ],
      "text/markdown": [
       "78"
      ],
      "text/plain": [
       "[1] 78"
      ]
     },
     "metadata": {},
     "output_type": "display_data"
    }
   ],
   "source": [
    "length(parole$Violator[parole$Violator == 1])"
   ]
  },
  {
   "cell_type": "markdown",
   "metadata": {},
   "source": [
    "### Part 2C (c)\n",
    "\n",
    "Both **State** and **Crime** are unordered factors with at least 3 levels (they have 4 levels each)."
   ]
  },
  {
   "cell_type": "markdown",
   "metadata": {},
   "source": [
    "### Part 2D (c)\n",
    "\n",
    "Roughly $70\\%$ of parolees are allocated to the training set whilst the other $30\\%$ go to the test set."
   ]
  },
  {
   "cell_type": "code",
   "execution_count": 10,
   "metadata": {
    "scrolled": false
   },
   "outputs": [
    {
     "data": {
      "text/html": [
       "473"
      ],
      "text/latex": [
       "473"
      ],
      "text/markdown": [
       "473"
      ],
      "text/plain": [
       "[1] 473"
      ]
     },
     "metadata": {},
     "output_type": "display_data"
    },
    {
     "data": {
      "text/html": [
       "202"
      ],
      "text/latex": [
       "202"
      ],
      "text/markdown": [
       "202"
      ],
      "text/plain": [
       "[1] 202"
      ]
     },
     "metadata": {},
     "output_type": "display_data"
    }
   ],
   "source": [
    "set.seed(144)\n",
    "library(caTools)\n",
    "split <- sample.split(parole$Violator, SplitRatio=0.7)\n",
    "parole_train <- subset(parole, split==T)\n",
    "parole_test <- subset(parole, split==F)\n",
    "\n",
    "NROW(parole_train)\n",
    "NROW(parole_test)"
   ]
  },
  {
   "cell_type": "markdown",
   "metadata": {},
   "source": [
    "### Part 2E (c)\n",
    "\n",
    "The only significant variables are **RaceWhite**, **StateVirginia** and **MultipleOffenses**."
   ]
  },
  {
   "cell_type": "code",
   "execution_count": 11,
   "metadata": {},
   "outputs": [
    {
     "data": {
      "text/plain": [
       "\n",
       "Call:\n",
       "glm(formula = Violator ~ ., family = binomial, data = parole_train)\n",
       "\n",
       "Deviance Residuals: \n",
       "    Min       1Q   Median       3Q      Max  \n",
       "-1.7041  -0.4236  -0.2719  -0.1690   2.8375  \n",
       "\n",
       "Coefficients:\n",
       "                   Estimate Std. Error z value Pr(>|z|)    \n",
       "(Intercept)      -2.0361809  1.4474831  -1.407   0.1595    \n",
       "Male              0.3869904  0.4379613   0.884   0.3769    \n",
       "RaceWhite        -0.8867192  0.3950660  -2.244   0.0248 *  \n",
       "Age              -0.0001756  0.0160852  -0.011   0.9913    \n",
       "StateLouisiana    0.3916790  0.5719679   0.685   0.4935    \n",
       "StateOther       -0.4433007  0.4816619  -0.920   0.3574    \n",
       "StateVirginia    -3.8400884  0.6904894  -5.561 2.68e-08 ***\n",
       "TimeServed       -0.1238867  0.1204230  -1.029   0.3036    \n",
       "MaxSentence       0.0802954  0.0553747   1.450   0.1470    \n",
       "MultipleOffenses  1.6119919  0.3853050   4.184 2.87e-05 ***\n",
       "CrimeDrugs       -0.2663428  0.6412857  -0.415   0.6779    \n",
       "CrimeLarceny      0.6954770  0.6714835   1.036   0.3003    \n",
       "CrimeOther        0.0117627  0.5713035   0.021   0.9836    \n",
       "---\n",
       "Signif. codes:  0 '***' 0.001 '**' 0.01 '*' 0.05 '.' 0.1 ' ' 1\n",
       "\n",
       "(Dispersion parameter for binomial family taken to be 1)\n",
       "\n",
       "    Null deviance: 340.04  on 472  degrees of freedom\n",
       "Residual deviance: 251.48  on 460  degrees of freedom\n",
       "AIC: 277.48\n",
       "\n",
       "Number of Fisher Scoring iterations: 6\n"
      ]
     },
     "metadata": {},
     "output_type": "display_data"
    }
   ],
   "source": [
    "model2E <- glm(Violator~., data=parole_train, family=binomial)\n",
    "summary(model2E)"
   ]
  },
  {
   "cell_type": "markdown",
   "metadata": {},
   "source": [
    "### Part 2F (c)\n",
    "\n",
    "Our model predicts that a parolee who committed multiple offenses has $5.01$ times higher odds of being a violator than a parolee who did not commit multiple offenses but is otherwise identical."
   ]
  },
  {
   "cell_type": "code",
   "execution_count": 12,
   "metadata": {},
   "outputs": [
    {
     "data": {
      "text/html": [
       "<dl class=dl-horizontal>\n",
       "\t<dt>(Intercept)</dt>\n",
       "\t\t<dd>0.130526251755564</dd>\n",
       "\t<dt>Male</dt>\n",
       "\t\t<dd>1.47254235803815</dd>\n",
       "\t<dt>RaceWhite</dt>\n",
       "\t\t<dd>0.41200522771062</dd>\n",
       "\t<dt>Age</dt>\n",
       "\t\t<dd>0.99982439986818</dd>\n",
       "\t<dt>StateLouisiana</dt>\n",
       "\t\t<dd>1.47946273129565</dd>\n",
       "\t<dt>StateOther</dt>\n",
       "\t\t<dd>0.641914185641291</dd>\n",
       "\t<dt>StateVirginia</dt>\n",
       "\t\t<dd>0.0214917010775244</dd>\n",
       "\t<dt>TimeServed</dt>\n",
       "\t\t<dd>0.883479931092115</dd>\n",
       "\t<dt>MaxSentence</dt>\n",
       "\t\t<dd>1.08360709249038</dd>\n",
       "\t<dt>MultipleOffenses</dt>\n",
       "\t\t<dd>5.01278605570312</dd>\n",
       "\t<dt>CrimeDrugs</dt>\n",
       "\t\t<dd>0.766176459636451</dd>\n",
       "\t<dt>CrimeLarceny</dt>\n",
       "\t\t<dd>2.00466500542348</dd>\n",
       "\t<dt>CrimeOther</dt>\n",
       "\t\t<dd>1.01183210409731</dd>\n",
       "</dl>\n"
      ],
      "text/latex": [
       "\\begin{description*}\n",
       "\\item[(Intercept)] 0.130526251755564\n",
       "\\item[Male] 1.47254235803815\n",
       "\\item[RaceWhite] 0.41200522771062\n",
       "\\item[Age] 0.99982439986818\n",
       "\\item[StateLouisiana] 1.47946273129565\n",
       "\\item[StateOther] 0.641914185641291\n",
       "\\item[StateVirginia] 0.0214917010775244\n",
       "\\item[TimeServed] 0.883479931092115\n",
       "\\item[MaxSentence] 1.08360709249038\n",
       "\\item[MultipleOffenses] 5.01278605570312\n",
       "\\item[CrimeDrugs] 0.766176459636451\n",
       "\\item[CrimeLarceny] 2.00466500542348\n",
       "\\item[CrimeOther] 1.01183210409731\n",
       "\\end{description*}\n"
      ],
      "text/markdown": [
       "(Intercept)\n",
       ":   0.130526251755564Male\n",
       ":   1.47254235803815RaceWhite\n",
       ":   0.41200522771062Age\n",
       ":   0.99982439986818StateLouisiana\n",
       ":   1.47946273129565StateOther\n",
       ":   0.641914185641291StateVirginia\n",
       ":   0.0214917010775244TimeServed\n",
       ":   0.883479931092115MaxSentence\n",
       ":   1.08360709249038MultipleOffenses\n",
       ":   5.01278605570312CrimeDrugs\n",
       ":   0.766176459636451CrimeLarceny\n",
       ":   2.00466500542348CrimeOther\n",
       ":   1.01183210409731\n",
       "\n"
      ],
      "text/plain": [
       "     (Intercept)             Male        RaceWhite              Age \n",
       "       0.1305263        1.4725424        0.4120052        0.9998244 \n",
       "  StateLouisiana       StateOther    StateVirginia       TimeServed \n",
       "       1.4794627        0.6419142        0.0214917        0.8834799 \n",
       "     MaxSentence MultipleOffenses       CrimeDrugs     CrimeLarceny \n",
       "       1.0836071        5.0127861        0.7661765        2.0046650 \n",
       "      CrimeOther \n",
       "       1.0118321 "
      ]
     },
     "metadata": {},
     "output_type": "display_data"
    }
   ],
   "source": [
    "exp(coef(model2E))\n",
    "\n",
    "# model2F <- glm(Violator~RaceWhite+State+MultipleOffenses, data=parole_train, family=binomial)\n",
    "# summary(model2F)"
   ]
  },
  {
   "cell_type": "markdown",
   "metadata": {},
   "source": [
    "### Part 2G (c)\n",
    "\n",
    "- Odds that indiviudal is a violator: $0.28441$\n",
    "- Probability that individual is a violator: $0.22143$"
   ]
  },
  {
   "cell_type": "code",
   "execution_count": 13,
   "metadata": {},
   "outputs": [
    {
     "name": "stdout",
     "output_type": "stream",
     "text": [
      "\n",
      "Odds: 0.28441263680295\n",
      "Odds: 0.28441263680295"
     ]
    },
    {
     "data": {
      "text/html": [
       "<strong>1:</strong> 0.221434006995513"
      ],
      "text/latex": [
       "\\textbf{1:} 0.221434006995513"
      ],
      "text/markdown": [
       "**1:** 0.221434006995513"
      ],
      "text/plain": [
       "       1 \n",
       "0.221434 "
      ]
     },
     "metadata": {},
     "output_type": "display_data"
    },
    {
     "data": {
      "text/html": [
       "<strong>1:</strong> 0.221434006995513"
      ],
      "text/latex": [
       "\\textbf{1:} 0.221434006995513"
      ],
      "text/markdown": [
       "**1:** 0.221434006995513"
      ],
      "text/plain": [
       "       1 \n",
       "0.221434 "
      ]
     },
     "metadata": {},
     "output_type": "display_data"
    }
   ],
   "source": [
    "# get odds (FIRST METHOD)\n",
    "prob2G <- predict(model2E, data.frame(Male=1,\n",
    "                            RaceWhite=1,\n",
    "                            Age=50,\n",
    "                            State=\"Kentucky\",\n",
    "                            TimeServed=3,\n",
    "                            MaxSentence=12,\n",
    "                            MultipleOffenses=0,\n",
    "                            Crime=\"Larceny\"), type=\"response\")\n",
    "cat(sprintf(\"\\nOdds: %s\", (prob2G)/(1-prob2G)))\n",
    "\n",
    "# get odds (SECOND METHOD)\n",
    "cat(sprintf(\"\\nOdds: %s\", exp(predict(model2E, data.frame(Male=1,\n",
    "                            RaceWhite=1,\n",
    "                            Age=50,\n",
    "                            State=\"Kentucky\",\n",
    "                            TimeServed=3,\n",
    "                            MaxSentence=12,\n",
    "                            MultipleOffenses=0,\n",
    "                            Crime=\"Larceny\")))))\n",
    "\n",
    "\n",
    "# get probability\n",
    "prob2G\n",
    "predict(model2E, data.frame(Male=1,\n",
    "                            RaceWhite=1,\n",
    "                            Age=50,\n",
    "                            State=\"Kentucky\",\n",
    "                            TimeServed=3,\n",
    "                            MaxSentence=12,\n",
    "                            MultipleOffenses=0,\n",
    "                            Crime=\"Larceny\"), type=\"response\")\n",
    "\n"
   ]
  },
  {
   "cell_type": "markdown",
   "metadata": {},
   "source": [
    "### Part 2H (c)"
   ]
  },
  {
   "cell_type": "code",
   "execution_count": 14,
   "metadata": {
    "scrolled": false
   },
   "outputs": [
    {
     "data": {
      "text/html": [
       "0.907279069042028"
      ],
      "text/latex": [
       "0.907279069042028"
      ],
      "text/markdown": [
       "0.907279069042028"
      ],
      "text/plain": [
       "[1] 0.9072791"
      ]
     },
     "metadata": {},
     "output_type": "display_data"
    }
   ],
   "source": [
    "predict2H <- predict(model2E, parole_test, type=\"response\")\n",
    "max(predict2H)"
   ]
  },
  {
   "cell_type": "markdown",
   "metadata": {},
   "source": [
    "### Part 2I (c)"
   ]
  },
  {
   "cell_type": "code",
   "execution_count": 44,
   "metadata": {},
   "outputs": [
    {
     "data": {
      "text/plain": [
       "       \n",
       "          0   1\n",
       "  FALSE 167  11\n",
       "  TRUE   12  12"
      ]
     },
     "metadata": {},
     "output_type": "display_data"
    },
    {
     "data": {
      "text/html": [
       "0.521739130434783"
      ],
      "text/latex": [
       "0.521739130434783"
      ],
      "text/markdown": [
       "0.521739130434783"
      ],
      "text/plain": [
       "[1] 0.5217391"
      ]
     },
     "metadata": {},
     "output_type": "display_data"
    },
    {
     "data": {
      "text/html": [
       "0.932960893854749"
      ],
      "text/latex": [
       "0.932960893854749"
      ],
      "text/markdown": [
       "0.932960893854749"
      ],
      "text/plain": [
       "[1] 0.9329609"
      ]
     },
     "metadata": {},
     "output_type": "display_data"
    },
    {
     "data": {
      "text/html": [
       "0.886138613861386"
      ],
      "text/latex": [
       "0.886138613861386"
      ],
      "text/markdown": [
       "0.886138613861386"
      ],
      "text/plain": [
       "[1] 0.8861386"
      ]
     },
     "metadata": {},
     "output_type": "display_data"
    }
   ],
   "source": [
    "library(ROCR) # Load ROC-R package\n",
    "\n",
    "# confusion matrix\n",
    "table(predict2H>0.5, parole_test$Violator)\n",
    "\n",
    "# sensitivity (TPR)\n",
    "tpr2I <- 12/(11+12)\n",
    "tpr2I\n",
    "\n",
    "# specificity (TNR)\n",
    "tnr2I <- 167/(167+12)\n",
    "tnr2I\n",
    "\n",
    "# accuracy\n",
    "(12+167)/(167+12+11+12)\n"
   ]
  },
  {
   "cell_type": "markdown",
   "metadata": {},
   "source": [
    "### Part 2J (c)"
   ]
  },
  {
   "cell_type": "code",
   "execution_count": 16,
   "metadata": {},
   "outputs": [
    {
     "data": {
      "text/plain": [
       "       \n",
       "          0   1\n",
       "  FALSE 179  23"
      ]
     },
     "metadata": {},
     "output_type": "display_data"
    },
    {
     "data": {
      "text/html": [
       "0.886138613861386"
      ],
      "text/latex": [
       "0.886138613861386"
      ],
      "text/markdown": [
       "0.886138613861386"
      ],
      "text/plain": [
       "[1] 0.8861386"
      ]
     },
     "metadata": {},
     "output_type": "display_data"
    }
   ],
   "source": [
    "# confusion matrix\n",
    "table(predict2H>1, parole_test$Violator)\n",
    "\n",
    "# accuracy of simple model predicting every parolee is a non-violator\n",
    "tpr2J <- 0\n",
    "tnr2J <- 1\n",
    "\n",
    "accuracy <- (179)/(179+23)\n",
    "accuracy"
   ]
  },
  {
   "cell_type": "markdown",
   "metadata": {},
   "source": [
    "### Part 2K (c)\n",
    "Since the board is 'particularly concerned' with release of parolees who will violate, the board will assign more cost to a false negative than a false positive, and should therefore use a logistic regression cutoff less than $0.5$."
   ]
  },
  {
   "cell_type": "markdown",
   "metadata": {},
   "source": [
    "### Part 2L (c) !\n",
    "\n",
    "The model is of limited value to the board because it cannot outperform a simple baseline, and using a different logistic regression cutoff is likely to improve the model's value.\n",
    "\n",
    "**Corrected answer:** The model is likely of value to the board, and using a different logistic regression cutoff is likely to improve the model's value. Whilst both simple and the logistic model have the same accuracy, the baseline model produces many more false negatives (23) as opposed to the logisitic model (11) since the board is 'particularly concerned' with release of parolees who will violate."
   ]
  },
  {
   "cell_type": "markdown",
   "metadata": {},
   "source": [
    "### Part 2M (c)\n",
    "\n",
    "$AUC = 0.8946$"
   ]
  },
  {
   "cell_type": "code",
   "execution_count": 17,
   "metadata": {},
   "outputs": [
    {
     "data": {
      "text/plain": [
       "An object of class \"performance\"\n",
       "Slot \"x.name\":\n",
       "[1] \"None\"\n",
       "\n",
       "Slot \"y.name\":\n",
       "[1] \"Area under the ROC curve\"\n",
       "\n",
       "Slot \"alpha.name\":\n",
       "[1] \"none\"\n",
       "\n",
       "Slot \"x.values\":\n",
       "list()\n",
       "\n",
       "Slot \"y.values\":\n",
       "[[1]]\n",
       "[1] 0.8945834\n",
       "\n",
       "\n",
       "Slot \"alpha.values\":\n",
       "list()\n"
      ]
     },
     "metadata": {},
     "output_type": "display_data"
    }
   ],
   "source": [
    "ROCRpredict2M <- prediction(predict2H, parole_test$Violator)\n",
    "ROCRperf2M <- performance(ROCRpredict2M, measure=\"auc\")\n",
    "ROCRperf2M"
   ]
  },
  {
   "cell_type": "markdown",
   "metadata": {},
   "source": [
    "### Part 2N (c)\n",
    "\n",
    "The probability the model can correctly differentiate between a randomly selected parole violator and a randomly selected parole non-violator."
   ]
  },
  {
   "cell_type": "markdown",
   "metadata": {},
   "source": [
    "### Part 2O (c) !!\n",
    "\n",
    "We should use the current dataset, expanded to include the missing parolees. Each added parolee should be labeled with $Violator=NA$, because the true outcome has not been observed for these individuals. (**Note**: this does not build a better model)\n",
    "\n",
    "**Corrected answer:** We should use a dataset tracking a group of parolees from the start of their parole until either they violated parole or they completed their term."
   ]
  },
  {
   "cell_type": "markdown",
   "metadata": {},
   "source": [
    "## Question trois\n",
    "\n",
    "### Part 3A (c)\n",
    "\n",
    "`sample.split()` is used to balance the dependent variable between the training and testing sets."
   ]
  },
  {
   "cell_type": "code",
   "execution_count": 48,
   "metadata": {},
   "outputs": [
    {
     "data": {
      "text/plain": [
       "\n",
       "  0   1 \n",
       "225 525 "
      ]
     },
     "metadata": {},
     "output_type": "display_data"
    },
    {
     "data": {
      "text/plain": [
       "\n",
       "  0   1 \n",
       " 75 175 "
      ]
     },
     "metadata": {},
     "output_type": "display_data"
    }
   ],
   "source": [
    "credit <- read.csv(\"csv/germancredit.csv\")\n",
    "\n",
    "# obtain random training/test set split\n",
    "set.seed(2016)\n",
    "library(caTools)\n",
    "spl <- sample.split(credit$resp, 0.75)\n",
    "credit_train <- subset(credit, spl==T)\n",
    "credit_test <- subset(credit, spl==F)\n",
    "\n",
    "table(credit_train$resp)\n",
    "table(credit_test$resp)"
   ]
  },
  {
   "cell_type": "markdown",
   "metadata": {},
   "source": [
    "### Part 3B (c)\n",
    "\n",
    "Fitted model: $\\large resp=\\frac{e^{0.84730}}{1+e^{0.84730}}$"
   ]
  },
  {
   "cell_type": "code",
   "execution_count": 19,
   "metadata": {},
   "outputs": [
    {
     "data": {
      "text/plain": [
       "\n",
       "Call:\n",
       "glm(formula = resp ~ 1, family = binomial, data = credit_train)\n",
       "\n",
       "Deviance Residuals: \n",
       "    Min       1Q   Median       3Q      Max  \n",
       "-1.5518  -1.5518   0.8446   0.8446   0.8446  \n",
       "\n",
       "Coefficients:\n",
       "            Estimate Std. Error z value Pr(>|z|)    \n",
       "(Intercept)  0.84730    0.07968   10.63   <2e-16 ***\n",
       "---\n",
       "Signif. codes:  0 '***' 0.001 '**' 0.01 '*' 0.05 '.' 0.1 ' ' 1\n",
       "\n",
       "(Dispersion parameter for binomial family taken to be 1)\n",
       "\n",
       "    Null deviance: 916.3  on 749  degrees of freedom\n",
       "Residual deviance: 916.3  on 749  degrees of freedom\n",
       "AIC: 918.3\n",
       "\n",
       "Number of Fisher Scoring iterations: 4\n"
      ]
     },
     "metadata": {},
     "output_type": "display_data"
    }
   ],
   "source": [
    "model3B <- glm(resp~1,data=credit_train, family=binomial)\n",
    "summary(model3B)"
   ]
  },
  {
   "cell_type": "markdown",
   "metadata": {},
   "source": [
    "### Part 3C (c)\n",
    "\n",
    "$$Good:Bad = \\frac{e^{0.84720}}{1+e^{0.84720}}$$\n",
    "\n",
    "Note that this $Good:Bad$ ratio is exactly identical to the odds ratio."
   ]
  },
  {
   "cell_type": "code",
   "execution_count": 20,
   "metadata": {},
   "outputs": [
    {
     "data": {
      "text/html": [
       "0.7"
      ],
      "text/latex": [
       "0.7"
      ],
      "text/markdown": [
       "0.7"
      ],
      "text/plain": [
       "[1] 0.7"
      ]
     },
     "metadata": {},
     "output_type": "display_data"
    },
    {
     "data": {
      "text/html": [
       "0.699979448916476"
      ],
      "text/latex": [
       "0.699979448916476"
      ],
      "text/markdown": [
       "0.699979448916476"
      ],
      "text/plain": [
       "[1] 0.6999794"
      ]
     },
     "metadata": {},
     "output_type": "display_data"
    }
   ],
   "source": [
    "good3C <- length(credit_train$resp[credit_train$resp==1])\n",
    "bad3C <- length(credit_train$resp[credit_train$resp==0])\n",
    "\n",
    "fraction3C <- good3C/(good3C+bad3C)\n",
    "fraction3C\n",
    "exp(0.84720)/(1+exp(0.84720))"
   ]
  },
  {
   "cell_type": "markdown",
   "metadata": {},
   "source": [
    "### Part 3D (c)\n",
    "\n",
    "Variables **chkacct**, **dur**, **hist**, **amt**, **sav**, **instrate**, **malesingle**, **age**, **foreign** are significant at the $10\\%$ level."
   ]
  },
  {
   "cell_type": "code",
   "execution_count": 21,
   "metadata": {},
   "outputs": [
    {
     "data": {
      "text/plain": [
       "\n",
       "Call:\n",
       "glm(formula = resp ~ ., family = binomial, data = credit_train)\n",
       "\n",
       "Deviance Residuals: \n",
       "    Min       1Q   Median       3Q      Max  \n",
       "-2.6850  -0.7577   0.4041   0.6919   1.9701  \n",
       "\n",
       "Coefficients:\n",
       "              Estimate Std. Error z value Pr(>|z|)    \n",
       "(Intercept)  8.764e-01  1.028e+00   0.853 0.393872    \n",
       "chkacct      5.652e-01  8.470e-02   6.674 2.50e-11 ***\n",
       "dur         -2.053e-02  1.024e-02  -2.005 0.045012 *  \n",
       "hist         4.764e-01  1.008e-01   4.727 2.28e-06 ***\n",
       "newcar      -6.703e-01  4.623e-01  -1.450 0.147105    \n",
       "usedcar      7.830e-01  5.755e-01   1.361 0.173630    \n",
       "furn        -5.487e-02  4.780e-01  -0.115 0.908623    \n",
       "radiotv      8.473e-02  4.620e-01   0.183 0.854492    \n",
       "educ        -8.672e-01  5.896e-01  -1.471 0.141351    \n",
       "retrain      2.284e-01  5.271e-01   0.433 0.664745    \n",
       "amt         -1.525e-04  4.976e-05  -3.064 0.002186 ** \n",
       "sav          2.379e-01  7.006e-02   3.395 0.000686 ***\n",
       "emp          5.648e-02  8.857e-02   0.638 0.523673    \n",
       "instrate    -3.521e-01  9.981e-02  -3.527 0.000420 ***\n",
       "malediv     -5.518e-01  4.449e-01  -1.240 0.214802    \n",
       "malesingle   5.595e-01  2.374e-01   2.357 0.018411 *  \n",
       "malemarwid   8.168e-02  3.421e-01   0.239 0.811311    \n",
       "coapp       -8.291e-01  5.111e-01  -1.622 0.104779    \n",
       "guar         7.445e-01  4.563e-01   1.631 0.102801    \n",
       "presres     -1.008e-01  9.679e-02  -1.042 0.297500    \n",
       "realest      1.915e-01  2.466e-01   0.776 0.437475    \n",
       "propnone    -1.797e-01  4.564e-01  -0.394 0.693857    \n",
       "age          1.827e-02  1.019e-02   1.792 0.073173 .  \n",
       "other       -3.604e-01  2.362e-01  -1.526 0.126976    \n",
       "rent        -2.345e-01  5.621e-01  -0.417 0.676537    \n",
       "ownres      -5.753e-02  5.371e-01  -0.107 0.914702    \n",
       "numcred     -2.412e-01  1.868e-01  -1.291 0.196741    \n",
       "job         -3.661e-02  1.648e-01  -0.222 0.824244    \n",
       "numdep      -3.114e-01  2.904e-01  -1.072 0.283523    \n",
       "tel          2.516e-01  2.268e-01   1.109 0.267366    \n",
       "for.         1.536e+00  8.062e-01   1.905 0.056781 .  \n",
       "---\n",
       "Signif. codes:  0 '***' 0.001 '**' 0.01 '*' 0.05 '.' 0.1 ' ' 1\n",
       "\n",
       "(Dispersion parameter for binomial family taken to be 1)\n",
       "\n",
       "    Null deviance: 916.30  on 749  degrees of freedom\n",
       "Residual deviance: 689.55  on 719  degrees of freedom\n",
       "AIC: 751.55\n",
       "\n",
       "Number of Fisher Scoring iterations: 5\n"
      ]
     },
     "metadata": {},
     "output_type": "display_data"
    }
   ],
   "source": [
    "model3D <- glm(resp~., data=credit_train, family=binomial)\n",
    "summary(model3D)"
   ]
  },
  {
   "cell_type": "markdown",
   "metadata": {},
   "source": [
    "### Part 3E (c)"
   ]
  },
  {
   "cell_type": "code",
   "execution_count": 22,
   "metadata": {},
   "outputs": [
    {
     "data": {
      "text/plain": [
       "'log Lik.' -344.7769 (df=31)"
      ]
     },
     "metadata": {},
     "output_type": "display_data"
    }
   ],
   "source": [
    "# log likelihood of model\n",
    "logLik(model3D)"
   ]
  },
  {
   "cell_type": "markdown",
   "metadata": {},
   "source": [
    "### Part 3F (c)"
   ]
  },
  {
   "cell_type": "code",
   "execution_count": 23,
   "metadata": {},
   "outputs": [
    {
     "data": {
      "text/plain": [
       "       \n",
       "          0   1\n",
       "  FALSE  40  18\n",
       "  TRUE   35 157"
      ]
     },
     "metadata": {},
     "output_type": "display_data"
    }
   ],
   "source": [
    "# confusion matrix\n",
    "predict3F <- predict(model3D, credit_test, type=\"response\")\n",
    "table(predict3F>0.5, credit_test$resp)"
   ]
  },
  {
   "cell_type": "markdown",
   "metadata": {},
   "source": [
    "### Part 3G (c)"
   ]
  },
  {
   "cell_type": "code",
   "execution_count": 24,
   "metadata": {},
   "outputs": [
    {
     "data": {
      "text/html": [
       "0.788"
      ],
      "text/latex": [
       "0.788"
      ],
      "text/markdown": [
       "0.788"
      ],
      "text/plain": [
       "[1] 0.788"
      ]
     },
     "metadata": {},
     "output_type": "display_data"
    }
   ],
   "source": [
    "# model accuracy\n",
    "(40+157)/(40+35+18+157)"
   ]
  },
  {
   "cell_type": "markdown",
   "metadata": {},
   "source": [
    "### Part 3H (c)\n",
    "\n",
    "For *Model3H*, $AIC=750.24$ which is comparable to *Model3D*'s $AIC=751.55$"
   ]
  },
  {
   "cell_type": "code",
   "execution_count": 25,
   "metadata": {},
   "outputs": [
    {
     "data": {
      "text/plain": [
       "\n",
       "Call:\n",
       "glm(formula = resp ~ chkacct + dur + hist + amt + sav + instrate + \n",
       "    malesingle + age + for. - 1, family = binomial, data = credit_train)\n",
       "\n",
       "Deviance Residuals: \n",
       "    Min       1Q   Median       3Q      Max  \n",
       "-2.5475  -0.8448   0.4505   0.7671   1.8101  \n",
       "\n",
       "Coefficients:\n",
       "             Estimate Std. Error z value Pr(>|z|)    \n",
       "chkacct     5.977e-01  8.075e-02   7.402 1.34e-13 ***\n",
       "dur        -1.820e-02  9.416e-03  -1.933 0.053291 .  \n",
       "hist        3.887e-01  8.303e-02   4.682 2.84e-06 ***\n",
       "amt        -1.388e-04  4.374e-05  -3.175 0.001499 ** \n",
       "sav         2.184e-01  6.581e-02   3.318 0.000907 ***\n",
       "instrate   -3.168e-01  8.001e-02  -3.959 7.52e-05 ***\n",
       "malesingle  4.671e-01  1.927e-01   2.424 0.015344 *  \n",
       "age         1.318e-02  7.300e-03   1.805 0.071051 .  \n",
       "for.        1.420e+00  7.882e-01   1.802 0.071539 .  \n",
       "---\n",
       "Signif. codes:  0 '***' 0.001 '**' 0.01 '*' 0.05 '.' 0.1 ' ' 1\n",
       "\n",
       "(Dispersion parameter for binomial family taken to be 1)\n",
       "\n",
       "    Null deviance: 1039.72  on 750  degrees of freedom\n",
       "Residual deviance:  732.24  on 741  degrees of freedom\n",
       "AIC: 750.24\n",
       "\n",
       "Number of Fisher Scoring iterations: 5\n"
      ]
     },
     "metadata": {},
     "output_type": "display_data"
    }
   ],
   "source": [
    "model3H <- glm(resp~chkacct+dur+hist+amt+sav+instrate+malesingle+age+for.-1,\n",
    "               data=credit_train, family=binomial)\n",
    "summary(model3H)"
   ]
  },
  {
   "cell_type": "markdown",
   "metadata": {},
   "source": [
    "### Part 3I (c)\n",
    "\n",
    "Based on AIC score alone, *Model3H* is preferable to *Model3D*, albeit very slightly."
   ]
  },
  {
   "cell_type": "markdown",
   "metadata": {},
   "source": [
    "### Part 3J (c)"
   ]
  },
  {
   "cell_type": "code",
   "execution_count": 26,
   "metadata": {},
   "outputs": [
    {
     "data": {
      "text/plain": [
       "       \n",
       "          0   1\n",
       "  FALSE  33  15\n",
       "  TRUE   42 160"
      ]
     },
     "metadata": {},
     "output_type": "display_data"
    }
   ],
   "source": [
    "# confusion matrix\n",
    "predict3J <- predict(model3H, credit_test, type=\"response\")\n",
    "table(predict3J>0.5, credit_test$resp)"
   ]
  },
  {
   "cell_type": "markdown",
   "metadata": {},
   "source": [
    "### Part 3K (c)\n",
    "\n",
    "Based on $FPR$ (Type I), $Model3D = 0.533$ and $Model3D = 0.56$. Hence, *Model3D* is slightly preferred over *Model3H*."
   ]
  },
  {
   "cell_type": "code",
   "execution_count": 27,
   "metadata": {},
   "outputs": [
    {
     "data": {
      "text/html": [
       "0.466666666666667"
      ],
      "text/latex": [
       "0.466666666666667"
      ],
      "text/markdown": [
       "0.466666666666667"
      ],
      "text/plain": [
       "[1] 0.4666667"
      ]
     },
     "metadata": {},
     "output_type": "display_data"
    },
    {
     "data": {
      "text/html": [
       "0.56"
      ],
      "text/latex": [
       "0.56"
      ],
      "text/markdown": [
       "0.56"
      ],
      "text/plain": [
       "[1] 0.56"
      ]
     },
     "metadata": {},
     "output_type": "display_data"
    }
   ],
   "source": [
    "# model3D FPR\n",
    "35/(40+35)\n",
    "# model3H FPR\n",
    "42/(33+42)"
   ]
  },
  {
   "cell_type": "markdown",
   "metadata": {},
   "source": [
    "### Part 3L (c)\n",
    "\n",
    "Based on $FNR$ (Type II), $Model3D = 0.103$ and $Model3D = 0.085$. Hence, *Model3D* is slightly preferred over *Model3H*."
   ]
  },
  {
   "cell_type": "code",
   "execution_count": 28,
   "metadata": {},
   "outputs": [
    {
     "data": {
      "text/html": [
       "0.102857142857143"
      ],
      "text/latex": [
       "0.102857142857143"
      ],
      "text/markdown": [
       "0.102857142857143"
      ],
      "text/plain": [
       "[1] 0.1028571"
      ]
     },
     "metadata": {},
     "output_type": "display_data"
    },
    {
     "data": {
      "text/html": [
       "0.0857142857142857"
      ],
      "text/latex": [
       "0.0857142857142857"
      ],
      "text/markdown": [
       "0.0857142857142857"
      ],
      "text/plain": [
       "[1] 0.08571429"
      ]
     },
     "metadata": {},
     "output_type": "display_data"
    }
   ],
   "source": [
    "# model3D FNR\n",
    "18/(157+18)\n",
    "# model3H FNR\n",
    "15/(160+15)"
   ]
  },
  {
   "cell_type": "markdown",
   "metadata": {},
   "source": [
    "### Part 3M (C)\n",
    "\n",
    "$AUC_{3D} = 0.829$ and $AUC_{3H} = 0.783$. Hence, *Model3D* is preferred."
   ]
  },
  {
   "cell_type": "code",
   "execution_count": 29,
   "metadata": {},
   "outputs": [
    {
     "data": {
      "text/plain": [
       "An object of class \"performance\"\n",
       "Slot \"x.name\":\n",
       "[1] \"None\"\n",
       "\n",
       "Slot \"y.name\":\n",
       "[1] \"Area under the ROC curve\"\n",
       "\n",
       "Slot \"alpha.name\":\n",
       "[1] \"none\"\n",
       "\n",
       "Slot \"x.values\":\n",
       "list()\n",
       "\n",
       "Slot \"y.values\":\n",
       "[[1]]\n",
       "[1] 0.8292571\n",
       "\n",
       "\n",
       "Slot \"alpha.values\":\n",
       "list()\n"
      ]
     },
     "metadata": {},
     "output_type": "display_data"
    },
    {
     "data": {
      "text/plain": [
       "An object of class \"performance\"\n",
       "Slot \"x.name\":\n",
       "[1] \"None\"\n",
       "\n",
       "Slot \"y.name\":\n",
       "[1] \"Area under the ROC curve\"\n",
       "\n",
       "Slot \"alpha.name\":\n",
       "[1] \"none\"\n",
       "\n",
       "Slot \"x.values\":\n",
       "list()\n",
       "\n",
       "Slot \"y.values\":\n",
       "[[1]]\n",
       "[1] 0.782781\n",
       "\n",
       "\n",
       "Slot \"alpha.values\":\n",
       "list()\n"
      ]
     },
     "metadata": {},
     "output_type": "display_data"
    }
   ],
   "source": [
    "# model3D AUROC\n",
    "ROCRpredict3D <- prediction(predict3F, credit_test$resp)\n",
    "ROCRperf3D <- performance(ROCRpredict3D, measure=\"auc\")\n",
    "ROCRperf3D\n",
    "\n",
    "# model3H AUROC\n",
    "ROCRpredict3H <- prediction(predict3J, credit_test$resp)\n",
    "ROCRperf3H <- performance(ROCRpredict3H, measure=\"auc\")\n",
    "ROCRperf3H"
   ]
  },
  {
   "cell_type": "markdown",
   "metadata": {},
   "source": [
    "### Part 3N (c)\n",
    "\n",
    "Total profit incurred on test set is 5200 Deutschemark."
   ]
  },
  {
   "cell_type": "code",
   "execution_count": 30,
   "metadata": {},
   "outputs": [
    {
     "data": {
      "text/plain": [
       "       \n",
       "          0   1\n",
       "  FALSE  40  18\n",
       "  TRUE   35 157"
      ]
     },
     "metadata": {},
     "output_type": "display_data"
    },
    {
     "data": {
      "text/html": [
       "5200"
      ],
      "text/latex": [
       "5200"
      ],
      "text/markdown": [
       "5200"
      ],
      "text/plain": [
       "[1] 5200"
      ]
     },
     "metadata": {},
     "output_type": "display_data"
    }
   ],
   "source": [
    "# recall Model3D confusion matrix (still assume threshold=0.5)\n",
    "table(predict3F>0.5, credit_test$resp)\n",
    "\n",
    "# calculate profit\n",
    "-300*35 + 100*157"
   ]
  },
  {
   "cell_type": "markdown",
   "metadata": {},
   "source": [
    "### Part 3O (c)\n",
    "\n",
    "Duration of credit with lowest good credit risk is 36 months."
   ]
  },
  {
   "cell_type": "code",
   "execution_count": 31,
   "metadata": {
    "scrolled": false
   },
   "outputs": [
    {
     "data": {
      "text/html": [
       "<table>\n",
       "<thead><tr><th></th><th scope=col>chkacct</th><th scope=col>dur</th><th scope=col>hist</th><th scope=col>newcar</th><th scope=col>usedcar</th><th scope=col>furn</th><th scope=col>radiotv</th><th scope=col>educ</th><th scope=col>retrain</th><th scope=col>amt</th><th scope=col>...</th><th scope=col>age</th><th scope=col>other</th><th scope=col>rent</th><th scope=col>ownres</th><th scope=col>numcred</th><th scope=col>job</th><th scope=col>numdep</th><th scope=col>tel</th><th scope=col>for.</th><th scope=col>resp</th></tr></thead>\n",
       "<tbody>\n",
       "\t<tr><th scope=row>819</th><td>0    </td><td>36   </td><td>2    </td><td>0    </td><td>0    </td><td>0    </td><td>0    </td><td>0    </td><td>0    </td><td>15857</td><td>...  </td><td>43   </td><td>0    </td><td>0    </td><td>1    </td><td>1    </td><td>3    </td><td>1    </td><td>0    </td><td>0    </td><td>1    </td></tr>\n",
       "</tbody>\n",
       "</table>\n"
      ],
      "text/latex": [
       "\\begin{tabular}{r|lllllllllllllllllllllllllllllll}\n",
       "  & chkacct & dur & hist & newcar & usedcar & furn & radiotv & educ & retrain & amt & ... & age & other & rent & ownres & numcred & job & numdep & tel & for. & resp\\\\\n",
       "\\hline\n",
       "\t819 & 0     & 36    & 2     & 0     & 0     & 0     & 0     & 0     & 0     & 15857 & ...   & 43    & 0     & 0     & 1     & 1     & 3     & 1     & 0     & 0     & 1    \\\\\n",
       "\\end{tabular}\n"
      ],
      "text/markdown": [
       "\n",
       "| <!--/--> | chkacct | dur | hist | newcar | usedcar | furn | radiotv | educ | retrain | amt | ... | age | other | rent | ownres | numcred | job | numdep | tel | for. | resp | \n",
       "|---|\n",
       "| 819 | 0     | 36    | 2     | 0     | 0     | 0     | 0     | 0     | 0     | 15857 | ...   | 43    | 0     | 0     | 1     | 1     | 3     | 1     | 0     | 0     | 1     | \n",
       "\n",
       "\n"
      ],
      "text/plain": [
       "    chkacct dur hist newcar usedcar furn radiotv educ retrain amt   ... age\n",
       "819 0       36  2    0      0       0    0       0    0       15857 ... 43 \n",
       "    other rent ownres numcred job numdep tel for. resp\n",
       "819 0     0    1      1       3   1      0   0    1   "
      ]
     },
     "metadata": {},
     "output_type": "display_data"
    }
   ],
   "source": [
    "# sort test set from highest to lowest P(good credit risk)\n",
    "credit_test <- credit_test[names(sort(predict3F, T)),]\n",
    "# row ID with lowest good credit risk = 819\n",
    "\n",
    "# sort(predict3F, T)\n",
    "# names(sort(predict3F, T))\n",
    "# rownames(credit_test)\n",
    "\n",
    "# find dependent values for #819\n",
    "credit_test['819',]"
   ]
  },
  {
   "cell_type": "markdown",
   "metadata": {},
   "source": [
    "### Part 3P (c)"
   ]
  },
  {
   "cell_type": "code",
   "execution_count": 32,
   "metadata": {
    "scrolled": false
   },
   "outputs": [
    {
     "data": {
      "text/html": [
       "<strong>965:</strong> 150"
      ],
      "text/latex": [
       "\\textbf{965:} 150"
      ],
      "text/markdown": [
       "**965:** 150"
      ],
      "text/plain": [
       "965 \n",
       "150 "
      ]
     },
     "metadata": {},
     "output_type": "display_data"
    },
    {
     "data": {
      "text/html": [
       "<strong>965:</strong> 7800"
      ],
      "text/latex": [
       "\\textbf{965:} 7800"
      ],
      "text/markdown": [
       "**965:** 7800"
      ],
      "text/plain": [
       " 965 \n",
       "7800 "
      ]
     },
     "metadata": {},
     "output_type": "display_data"
    },
    {
     "data": {
      "image/png": "[encoded data removed]",
      "text/plain": [
       "Plot with title \"Cumulative profits v. Index (decreasing)\""
      ]
     },
     "metadata": {},
     "output_type": "display_data"
    }
   ],
   "source": [
    "# get discrete prediction (w/ threshold=0.5)\n",
    "# actually, it doesnt really matter now, as we shall see if we mess with...\n",
    "# ...the threshold value\n",
    "predict3P <- ifelse(sort(predict3F, T)>=0.0, 1, 0)\n",
    "\n",
    "# get profit of each individual row\n",
    "profits <- ifelse(predict3P==0, 0, ifelse(credit_test$resp==0, -300, 100))\n",
    "\n",
    "# get cumsum of profits\n",
    "cum_profits <- cumsum(profits)\n",
    "\n",
    "# get max profit point\n",
    "which(cum_profits==max(cum_profits)) # this get the index\n",
    "# cum_profits[\"965\"] # this gets the profit value\n",
    "# cum_profits[150] # this ALSO gets the profit value\n",
    "cum_profits[which(cum_profits==max(cum_profits))]\n",
    "\n",
    "# plot cumsum v. index\n",
    "plot(cum_profits, type=\"l\", main=\"Cumulative profits v. Index (decreasing)\")\n",
    "abline(0,0,lty=2) # breakeven line\n",
    "\n",
    "# ?sort\n",
    "# ?cumsum\n",
    "# ?which"
   ]
  },
  {
   "cell_type": "markdown",
   "metadata": {},
   "source": [
    "### Part 3Q (c)\n",
    "\n",
    "Credit should be lent to those with at least $71.9\\%$ probability of having a good credit risk."
   ]
  },
  {
   "cell_type": "code",
   "execution_count": 33,
   "metadata": {},
   "outputs": [
    {
     "data": {
      "text/html": [
       "<strong>965:</strong> 0.718749471961773"
      ],
      "text/latex": [
       "\\textbf{965:} 0.718749471961773"
      ],
      "text/markdown": [
       "**965:** 0.718749471961773"
      ],
      "text/plain": [
       "      965 \n",
       "0.7187495 "
      ]
     },
     "metadata": {},
     "output_type": "display_data"
    }
   ],
   "source": [
    "# get prediction value at max(cum_profits)\n",
    "predict3F[\"965\"]"
   ]
  },
  {
   "cell_type": "markdown",
   "metadata": {},
   "source": [
    "## Question quatre\n",
    "### Part 4A (c)"
   ]
  },
  {
   "cell_type": "code",
   "execution_count": 34,
   "metadata": {},
   "outputs": [
    {
     "name": "stdout",
     "output_type": "stream",
     "text": [
      "'data.frame':\t25 obs. of  9 variables:\n",
      " $ YEAR  : int  1916 1920 1924 1928 1932 1936 1940 1944 1948 1952 ...\n",
      " $ DEM   : Factor w/ 18 levels \"Carter\",\"Clinton\",..: 18 3 4 15 14 14 14 14 17 16 ...\n",
      " $ REP   : Factor w/ 17 levels \"Coolidge\",\"Dewey\",..: 11 9 1 10 10 12 17 2 2 4 ...\n",
      " $ INC   : int  1 1 -1 -1 -1 1 1 1 1 1 ...\n",
      " $ RUN   : int  1 0 -1 0 -1 1 1 1 1 0 ...\n",
      " $ DUR   : num  0 1 0 -1 -1.25 0 1 1.25 1.5 1.75 ...\n",
      " $ GROWTH: num  2.23 -11.46 -3.87 4.62 -14.35 ...\n",
      " $ GOOD  : int  3 0 10 7 4 9 8 0 0 7 ...\n",
      " $ WIN   : int  1 -1 -1 -1 1 1 1 1 1 -1 ...\n"
     ]
    },
    {
     "data": {
      "text/html": [
       "14"
      ],
      "text/latex": [
       "14"
      ],
      "text/markdown": [
       "14"
      ],
      "text/plain": [
       "[1] 14"
      ]
     },
     "metadata": {},
     "output_type": "display_data"
    },
    {
     "data": {
      "text/html": [
       "11"
      ],
      "text/latex": [
       "11"
      ],
      "text/markdown": [
       "11"
      ],
      "text/plain": [
       "[1] 11"
      ]
     },
     "metadata": {},
     "output_type": "display_data"
    }
   ],
   "source": [
    "pres <- read.csv(\"csv/presidential.csv\")\n",
    "str(pres)\n",
    "\n",
    "# get no. of democrat winnings\n",
    "NROW(pres$WIN[pres$WIN==1])\n",
    "\n",
    "# get no. of republican winnings\n",
    "NROW(pres$WIN[pres$WIN==-1])\n",
    "# subset(pres, pres$REP==\"Nixon\")\n",
    "# pres"
   ]
  },
  {
   "cell_type": "markdown",
   "metadata": {
    "collapsed": true
   },
   "source": [
    "### Part 4B (c)"
   ]
  },
  {
   "cell_type": "code",
   "execution_count": 35,
   "metadata": {},
   "outputs": [
    {
     "data": {
      "text/plain": [
       "\n",
       "   Carter   Clinton       Cox     Davis   Dukakis      Gore  Humphrey   Johnson \n",
       "        2         2         1         1         1         1         1         1 \n",
       "  Kennedy     Kerry  McGovern   Mondale     Obama Roosevelt     Smith Stevenson \n",
       "        1         1         1         1         2         4         1         2 \n",
       "   Truman    Wilson \n",
       "        1         1 "
      ]
     },
     "metadata": {},
     "output_type": "display_data"
    },
    {
     "data": {
      "text/plain": [
       "\n",
       "  Coolidge      Dewey       Dole Eisenhower       Ford     G.Bush   G.W.Bush \n",
       "         1          2          1          2          1          2          2 \n",
       " Goldwater    Harding     Hoover     Hughes     Landon     McCain      Nixon \n",
       "         1          1          2          1          1          1          3 \n",
       "    Reagan     Romney     Wilkie \n",
       "         2          1          1 "
      ]
     },
     "metadata": {},
     "output_type": "display_data"
    }
   ],
   "source": [
    "# get number of presidential terms for democrats\n",
    "table(pres$DEM)\n",
    "\n",
    "# get number of presidential terms for republicans\n",
    "table(pres$REP)"
   ]
  },
  {
   "cell_type": "markdown",
   "metadata": {},
   "source": [
    "### Part 4C (c)\n",
    "\n",
    "- Null hypothesis: $H_0: Q_{DEM} - Q_{REP} = 0$\n",
    "- Null hypothesis: $H_1: Q_{DEM} - Q_{REP} \\neq 0$\n",
    "- p-value is $0.7494$\n",
    "- Unable to reject null hypothesis, hence we can conclude there is no significant difference between the number of good terms for DEM and REP"
   ]
  },
  {
   "cell_type": "code",
   "execution_count": 36,
   "metadata": {},
   "outputs": [
    {
     "data": {
      "text/plain": [
       "\n",
       "\tWelch Two Sample t-test\n",
       "\n",
       "data:  pres$GOOD[pres$INC == 1] and pres$GOOD[pres$INC == -1]\n",
       "t = -0.32362, df = 21.196, p-value = 0.7494\n",
       "alternative hypothesis: true difference in means is not equal to 0\n",
       "95 percent confidence interval:\n",
       " -2.854816  2.085585\n",
       "sample estimates:\n",
       "mean of x mean of y \n",
       " 4.615385  5.000000 \n"
      ]
     },
     "metadata": {},
     "output_type": "display_data"
    }
   ],
   "source": [
    "?t.test\n",
    "\n",
    "t.test(pres$GOOD[pres$INC==1], pres$GOOD[pres$INC==-1])"
   ]
  },
  {
   "cell_type": "markdown",
   "metadata": {},
   "source": [
    "### Part 4D (c)"
   ]
  },
  {
   "cell_type": "code",
   "execution_count": 37,
   "metadata": {
    "collapsed": true
   },
   "outputs": [],
   "source": [
    "pres$WININC <- ifelse(pres$INC==pres$WIN,1,0)\n",
    "# pres"
   ]
  },
  {
   "cell_type": "markdown",
   "metadata": {},
   "source": [
    "### Part 4E (c)"
   ]
  },
  {
   "cell_type": "code",
   "execution_count": 38,
   "metadata": {},
   "outputs": [
    {
     "data": {
      "text/html": [
       "16"
      ],
      "text/latex": [
       "16"
      ],
      "text/markdown": [
       "16"
      ],
      "text/plain": [
       "[1] 16"
      ]
     },
     "metadata": {},
     "output_type": "display_data"
    },
    {
     "data": {
      "text/html": [
       "9"
      ],
      "text/latex": [
       "9"
      ],
      "text/markdown": [
       "9"
      ],
      "text/plain": [
       "[1] 9"
      ]
     },
     "metadata": {},
     "output_type": "display_data"
    }
   ],
   "source": [
    "# Number of times incumbent party has won\n",
    "length(pres$WININC[pres$WININC==1])\n",
    "\n",
    "# Number of times incumbent party has won\n",
    "length(pres$WININC[pres$WININC==0])"
   ]
  },
  {
   "cell_type": "markdown",
   "metadata": {},
   "source": [
    "### Part 4F (c)"
   ]
  },
  {
   "cell_type": "code",
   "execution_count": 39,
   "metadata": {},
   "outputs": [
    {
     "data": {
      "text/plain": [
       "\n",
       "Call:\n",
       "glm(formula = WININC ~ GROWTH, family = binomial, data = pres)\n",
       "\n",
       "Deviance Residuals: \n",
       "    Min       1Q   Median       3Q      Max  \n",
       "-1.8657  -0.9044   0.6222   0.8386   1.5112  \n",
       "\n",
       "Coefficients:\n",
       "            Estimate Std. Error z value Pr(>|z|)  \n",
       "(Intercept)   0.2435     0.5249   0.464   0.6427  \n",
       "GROWTH        0.2585     0.1381   1.871   0.0613 .\n",
       "---\n",
       "Signif. codes:  0 '***' 0.001 '**' 0.01 '*' 0.05 '.' 0.1 ' ' 1\n",
       "\n",
       "(Dispersion parameter for binomial family taken to be 1)\n",
       "\n",
       "    Null deviance: 32.671  on 24  degrees of freedom\n",
       "Residual deviance: 26.365  on 23  degrees of freedom\n",
       "AIC: 30.365\n",
       "\n",
       "Number of Fisher Scoring iterations: 5\n"
      ]
     },
     "metadata": {},
     "output_type": "display_data"
    },
    {
     "data": {
      "text/plain": [
       "'log Lik.' -13.18257 (df=2)"
      ]
     },
     "metadata": {},
     "output_type": "display_data"
    },
    {
     "data": {
      "text/plain": [
       "'log Lik.' 1.883144e-06 (df=2)"
      ]
     },
     "metadata": {},
     "output_type": "display_data"
    },
    {
     "data": {
      "text/html": [
       "-13.1825680673068"
      ],
      "text/latex": [
       "-13.1825680673068"
      ],
      "text/markdown": [
       "-13.1825680673068"
      ],
      "text/plain": [
       "[1] -13.18257"
      ]
     },
     "metadata": {},
     "output_type": "display_data"
    }
   ],
   "source": [
    "model4F <- glm(WININC~GROWTH, data=pres, family=binomial)\n",
    "summary(model4F)\n",
    "logLik(model4F)\n",
    "exp(logLik(model4F))\n",
    "\n",
    "# manual calculation\n",
    "yes_odds <- exp(0.2435+0.2585*pres$GROWTH[pres$WININC==1])\n",
    "no_odds <- exp(0.2435+0.2585*pres$GROWTH[pres$WININC==0])\n",
    "yes <- log((yes_odds)/(1+yes_odds))\n",
    "no <- log(1/(1+no_odds))\n",
    "sum(yes)+sum(no)"
   ]
  },
  {
   "cell_type": "markdown",
   "metadata": {},
   "source": [
    "### Part 4G (c)\n",
    "\n",
    "**Growth** variable is significant at the $0.1$ level."
   ]
  },
  {
   "cell_type": "markdown",
   "metadata": {},
   "source": [
    "### Part 4H (c)"
   ]
  },
  {
   "cell_type": "code",
   "execution_count": 40,
   "metadata": {
    "collapsed": true
   },
   "outputs": [],
   "source": [
    "# normalise 'WIN' binary variable\n",
    "pres$WINNORM <- ifelse(pres$WIN==1, 1, 0)\n",
    "\n",
    "# normalise \"Growth\" variable\n",
    "pres$GROWTHNORM <- ifelse(pres$INC==1,\n",
    "                          ifelse(pres$GROWTH>=0, pres$GROWTH, pres$GROWTH),\n",
    "                          ifelse(pres$GROWTH>=0, -pres$GROWTH, -pres$GROWTH))"
   ]
  },
  {
   "cell_type": "markdown",
   "metadata": {},
   "source": [
    "### Part 4I (c)\n",
    "\n",
    "$AIC=29.406$"
   ]
  },
  {
   "cell_type": "code",
   "execution_count": 41,
   "metadata": {},
   "outputs": [
    {
     "data": {
      "text/html": [
       "<table>\n",
       "<thead><tr><th scope=col>YEAR</th><th scope=col>DEM</th><th scope=col>REP</th><th scope=col>INC</th><th scope=col>RUN</th><th scope=col>DUR</th><th scope=col>GROWTH</th><th scope=col>GOOD</th><th scope=col>WIN</th><th scope=col>WININC</th><th scope=col>WINNORM</th><th scope=col>GROWTHNORM</th><th scope=col>GOODNORM</th></tr></thead>\n",
       "<tbody>\n",
       "\t<tr><td>1916      </td><td>Wilson    </td><td>Hughes    </td><td> 1        </td><td> 1        </td><td> 0.00     </td><td>  2.229   </td><td> 3        </td><td> 1        </td><td>1         </td><td>1         </td><td>  2.229   </td><td>  3       </td></tr>\n",
       "\t<tr><td>1920      </td><td>Cox       </td><td>Harding   </td><td> 1        </td><td> 0        </td><td> 1.00     </td><td>-11.463   </td><td> 0        </td><td>-1        </td><td>0         </td><td>0         </td><td>-11.463   </td><td>  0       </td></tr>\n",
       "\t<tr><td>1924      </td><td>Davis     </td><td>Coolidge  </td><td>-1        </td><td>-1        </td><td> 0.00     </td><td> -3.872   </td><td>10        </td><td>-1        </td><td>1         </td><td>0         </td><td>  3.872   </td><td>-10       </td></tr>\n",
       "\t<tr><td>1928      </td><td>Smith     </td><td>Hoover    </td><td>-1        </td><td> 0        </td><td>-1.00     </td><td>  4.623   </td><td> 7        </td><td>-1        </td><td>1         </td><td>0         </td><td> -4.623   </td><td> -7       </td></tr>\n",
       "\t<tr><td>1932      </td><td>Roosevelt </td><td>Hoover    </td><td>-1        </td><td>-1        </td><td>-1.25     </td><td>-14.350   </td><td> 4        </td><td> 1        </td><td>0         </td><td>1         </td><td> 14.350   </td><td> -4       </td></tr>\n",
       "\t<tr><td>1936      </td><td>Roosevelt </td><td>Landon    </td><td> 1        </td><td> 1        </td><td> 0.00     </td><td> 11.682   </td><td> 9        </td><td> 1        </td><td>1         </td><td>1         </td><td> 11.682   </td><td>  9       </td></tr>\n",
       "\t<tr><td>1940      </td><td>Roosevelt </td><td>Wilkie    </td><td> 1        </td><td> 1        </td><td> 1.00     </td><td>  3.913   </td><td> 8        </td><td> 1        </td><td>1         </td><td>1         </td><td>  3.913   </td><td>  8       </td></tr>\n",
       "\t<tr><td>1944      </td><td>Roosevelt </td><td>Dewey     </td><td> 1        </td><td> 1        </td><td> 1.25     </td><td>  4.122   </td><td> 0        </td><td> 1        </td><td>1         </td><td>1         </td><td>  4.122   </td><td>  0       </td></tr>\n",
       "\t<tr><td>1948      </td><td>Truman    </td><td>Dewey     </td><td> 1        </td><td> 1        </td><td> 1.50     </td><td>  3.214   </td><td> 0        </td><td> 1        </td><td>1         </td><td>1         </td><td>  3.214   </td><td>  0       </td></tr>\n",
       "\t<tr><td>1952      </td><td>Stevenson </td><td>Eisenhower</td><td> 1        </td><td> 0        </td><td> 1.75     </td><td>  0.997   </td><td> 7        </td><td>-1        </td><td>0         </td><td>0         </td><td>  0.997   </td><td>  7       </td></tr>\n",
       "\t<tr><td>1956      </td><td>Stevenson </td><td>Eisenhower</td><td>-1        </td><td>-1        </td><td> 0.00     </td><td> -1.252   </td><td> 5        </td><td>-1        </td><td>1         </td><td>0         </td><td>  1.252   </td><td> -5       </td></tr>\n",
       "\t<tr><td>1960      </td><td>Kennedy   </td><td>Nixon     </td><td>-1        </td><td> 0        </td><td>-1.00     </td><td>  0.674   </td><td> 5        </td><td> 1        </td><td>0         </td><td>1         </td><td> -0.674   </td><td> -5       </td></tr>\n",
       "\t<tr><td>1964      </td><td>Johnson   </td><td>Goldwater </td><td> 1        </td><td> 1        </td><td> 0.00     </td><td>  5.030   </td><td> 9        </td><td> 1        </td><td>1         </td><td>1         </td><td>  5.030   </td><td>  9       </td></tr>\n",
       "\t<tr><td>1968      </td><td>Humphrey  </td><td>Nixon     </td><td> 1        </td><td> 0        </td><td> 1.00     </td><td>  5.045   </td><td> 7        </td><td>-1        </td><td>0         </td><td>0         </td><td>  5.045   </td><td>  7       </td></tr>\n",
       "\t<tr><td>1972      </td><td>McGovern  </td><td>Nixon     </td><td>-1        </td><td>-1        </td><td> 0.00     </td><td>  5.834   </td><td> 4        </td><td>-1        </td><td>1         </td><td>0         </td><td> -5.834   </td><td> -4       </td></tr>\n",
       "\t<tr><td>1976      </td><td>Carter    </td><td>Ford      </td><td>-1        </td><td> 0        </td><td>-1.00     </td><td>  3.817   </td><td> 5        </td><td> 1        </td><td>0         </td><td>1         </td><td> -3.817   </td><td> -5       </td></tr>\n",
       "\t<tr><td>1980      </td><td>Carter    </td><td>Reagan    </td><td> 1        </td><td> 1        </td><td> 0.00     </td><td> -3.583   </td><td> 5        </td><td>-1        </td><td>0         </td><td>0         </td><td> -3.583   </td><td>  5       </td></tr>\n",
       "\t<tr><td>1984      </td><td>Mondale   </td><td>Reagan    </td><td>-1        </td><td>-1        </td><td> 0.00     </td><td>  5.550   </td><td> 8        </td><td>-1        </td><td>1         </td><td>0         </td><td> -5.550   </td><td> -8       </td></tr>\n",
       "\t<tr><td>1988      </td><td>Dukakis   </td><td>G.Bush    </td><td>-1        </td><td> 0        </td><td>-1.00     </td><td>  2.402   </td><td> 5        </td><td>-1        </td><td>1         </td><td>0         </td><td> -2.402   </td><td> -5       </td></tr>\n",
       "\t<tr><td>1992      </td><td>Clinton   </td><td>G.Bush    </td><td>-1        </td><td>-1        </td><td>-1.25     </td><td>  3.035   </td><td> 3        </td><td> 1        </td><td>0         </td><td>1         </td><td> -3.035   </td><td> -3       </td></tr>\n",
       "\t<tr><td>1996      </td><td>Clinton   </td><td>Dole      </td><td> 1        </td><td> 1        </td><td> 0.00     </td><td>  3.315   </td><td> 4        </td><td> 1        </td><td>1         </td><td>1         </td><td>  3.315   </td><td>  4       </td></tr>\n",
       "\t<tr><td>2000      </td><td>Gore      </td><td>G.W.Bush  </td><td> 1        </td><td> 0        </td><td> 1.00     </td><td>  2.031   </td><td> 7        </td><td> 1        </td><td>1         </td><td>1         </td><td>  2.031   </td><td>  7       </td></tr>\n",
       "\t<tr><td>2004      </td><td>Kerry     </td><td>G.W.Bush  </td><td>-1        </td><td>-1        </td><td> 0.00     </td><td>  2.086   </td><td> 2        </td><td>-1        </td><td>1         </td><td>0         </td><td> -2.086   </td><td> -2       </td></tr>\n",
       "\t<tr><td>2008      </td><td>Obama     </td><td>McCain    </td><td>-1        </td><td> 0        </td><td>-1.00     </td><td> -1.787   </td><td> 2        </td><td> 1        </td><td>0         </td><td>1         </td><td>  1.787   </td><td> -2       </td></tr>\n",
       "\t<tr><td>2012      </td><td>Obama     </td><td>Romney    </td><td> 1        </td><td> 1        </td><td> 0.00     </td><td>  1.422   </td><td> 1        </td><td> 1        </td><td>1         </td><td>1         </td><td>  1.422   </td><td>  1       </td></tr>\n",
       "</tbody>\n",
       "</table>\n"
      ],
      "text/latex": [
       "\\begin{tabular}{r|lllllllllllll}\n",
       " YEAR & DEM & REP & INC & RUN & DUR & GROWTH & GOOD & WIN & WININC & WINNORM & GROWTHNORM & GOODNORM\\\\\n",
       "\\hline\n",
       "\t 1916       & Wilson     & Hughes     &  1         &  1         &  0.00      &   2.229    &  3         &  1         & 1          & 1          &   2.229    &   3       \\\\\n",
       "\t 1920       & Cox        & Harding    &  1         &  0         &  1.00      & -11.463    &  0         & -1         & 0          & 0          & -11.463    &   0       \\\\\n",
       "\t 1924       & Davis      & Coolidge   & -1         & -1         &  0.00      &  -3.872    & 10         & -1         & 1          & 0          &   3.872    & -10       \\\\\n",
       "\t 1928       & Smith      & Hoover     & -1         &  0         & -1.00      &   4.623    &  7         & -1         & 1          & 0          &  -4.623    &  -7       \\\\\n",
       "\t 1932       & Roosevelt  & Hoover     & -1         & -1         & -1.25      & -14.350    &  4         &  1         & 0          & 1          &  14.350    &  -4       \\\\\n",
       "\t 1936       & Roosevelt  & Landon     &  1         &  1         &  0.00      &  11.682    &  9         &  1         & 1          & 1          &  11.682    &   9       \\\\\n",
       "\t 1940       & Roosevelt  & Wilkie     &  1         &  1         &  1.00      &   3.913    &  8         &  1         & 1          & 1          &   3.913    &   8       \\\\\n",
       "\t 1944       & Roosevelt  & Dewey      &  1         &  1         &  1.25      &   4.122    &  0         &  1         & 1          & 1          &   4.122    &   0       \\\\\n",
       "\t 1948       & Truman     & Dewey      &  1         &  1         &  1.50      &   3.214    &  0         &  1         & 1          & 1          &   3.214    &   0       \\\\\n",
       "\t 1952       & Stevenson  & Eisenhower &  1         &  0         &  1.75      &   0.997    &  7         & -1         & 0          & 0          &   0.997    &   7       \\\\\n",
       "\t 1956       & Stevenson  & Eisenhower & -1         & -1         &  0.00      &  -1.252    &  5         & -1         & 1          & 0          &   1.252    &  -5       \\\\\n",
       "\t 1960       & Kennedy    & Nixon      & -1         &  0         & -1.00      &   0.674    &  5         &  1         & 0          & 1          &  -0.674    &  -5       \\\\\n",
       "\t 1964       & Johnson    & Goldwater  &  1         &  1         &  0.00      &   5.030    &  9         &  1         & 1          & 1          &   5.030    &   9       \\\\\n",
       "\t 1968       & Humphrey   & Nixon      &  1         &  0         &  1.00      &   5.045    &  7         & -1         & 0          & 0          &   5.045    &   7       \\\\\n",
       "\t 1972       & McGovern   & Nixon      & -1         & -1         &  0.00      &   5.834    &  4         & -1         & 1          & 0          &  -5.834    &  -4       \\\\\n",
       "\t 1976       & Carter     & Ford       & -1         &  0         & -1.00      &   3.817    &  5         &  1         & 0          & 1          &  -3.817    &  -5       \\\\\n",
       "\t 1980       & Carter     & Reagan     &  1         &  1         &  0.00      &  -3.583    &  5         & -1         & 0          & 0          &  -3.583    &   5       \\\\\n",
       "\t 1984       & Mondale    & Reagan     & -1         & -1         &  0.00      &   5.550    &  8         & -1         & 1          & 0          &  -5.550    &  -8       \\\\\n",
       "\t 1988       & Dukakis    & G.Bush     & -1         &  0         & -1.00      &   2.402    &  5         & -1         & 1          & 0          &  -2.402    &  -5       \\\\\n",
       "\t 1992       & Clinton    & G.Bush     & -1         & -1         & -1.25      &   3.035    &  3         &  1         & 0          & 1          &  -3.035    &  -3       \\\\\n",
       "\t 1996       & Clinton    & Dole       &  1         &  1         &  0.00      &   3.315    &  4         &  1         & 1          & 1          &   3.315    &   4       \\\\\n",
       "\t 2000       & Gore       & G.W.Bush   &  1         &  0         &  1.00      &   2.031    &  7         &  1         & 1          & 1          &   2.031    &   7       \\\\\n",
       "\t 2004       & Kerry      & G.W.Bush   & -1         & -1         &  0.00      &   2.086    &  2         & -1         & 1          & 0          &  -2.086    &  -2       \\\\\n",
       "\t 2008       & Obama      & McCain     & -1         &  0         & -1.00      &  -1.787    &  2         &  1         & 0          & 1          &   1.787    &  -2       \\\\\n",
       "\t 2012       & Obama      & Romney     &  1         &  1         &  0.00      &   1.422    &  1         &  1         & 1          & 1          &   1.422    &   1       \\\\\n",
       "\\end{tabular}\n"
      ],
      "text/markdown": [
       "\n",
       "YEAR | DEM | REP | INC | RUN | DUR | GROWTH | GOOD | WIN | WININC | WINNORM | GROWTHNORM | GOODNORM | \n",
       "|---|---|---|---|---|---|---|---|---|---|---|---|---|---|---|---|---|---|---|---|---|---|---|---|---|\n",
       "| 1916       | Wilson     | Hughes     |  1         |  1         |  0.00      |   2.229    |  3         |  1         | 1          | 1          |   2.229    |   3        | \n",
       "| 1920       | Cox        | Harding    |  1         |  0         |  1.00      | -11.463    |  0         | -1         | 0          | 0          | -11.463    |   0        | \n",
       "| 1924       | Davis      | Coolidge   | -1         | -1         |  0.00      |  -3.872    | 10         | -1         | 1          | 0          |   3.872    | -10        | \n",
       "| 1928       | Smith      | Hoover     | -1         |  0         | -1.00      |   4.623    |  7         | -1         | 1          | 0          |  -4.623    |  -7        | \n",
       "| 1932       | Roosevelt  | Hoover     | -1         | -1         | -1.25      | -14.350    |  4         |  1         | 0          | 1          |  14.350    |  -4        | \n",
       "| 1936       | Roosevelt  | Landon     |  1         |  1         |  0.00      |  11.682    |  9         |  1         | 1          | 1          |  11.682    |   9        | \n",
       "| 1940       | Roosevelt  | Wilkie     |  1         |  1         |  1.00      |   3.913    |  8         |  1         | 1          | 1          |   3.913    |   8        | \n",
       "| 1944       | Roosevelt  | Dewey      |  1         |  1         |  1.25      |   4.122    |  0         |  1         | 1          | 1          |   4.122    |   0        | \n",
       "| 1948       | Truman     | Dewey      |  1         |  1         |  1.50      |   3.214    |  0         |  1         | 1          | 1          |   3.214    |   0        | \n",
       "| 1952       | Stevenson  | Eisenhower |  1         |  0         |  1.75      |   0.997    |  7         | -1         | 0          | 0          |   0.997    |   7        | \n",
       "| 1956       | Stevenson  | Eisenhower | -1         | -1         |  0.00      |  -1.252    |  5         | -1         | 1          | 0          |   1.252    |  -5        | \n",
       "| 1960       | Kennedy    | Nixon      | -1         |  0         | -1.00      |   0.674    |  5         |  1         | 0          | 1          |  -0.674    |  -5        | \n",
       "| 1964       | Johnson    | Goldwater  |  1         |  1         |  0.00      |   5.030    |  9         |  1         | 1          | 1          |   5.030    |   9        | \n",
       "| 1968       | Humphrey   | Nixon      |  1         |  0         |  1.00      |   5.045    |  7         | -1         | 0          | 0          |   5.045    |   7        | \n",
       "| 1972       | McGovern   | Nixon      | -1         | -1         |  0.00      |   5.834    |  4         | -1         | 1          | 0          |  -5.834    |  -4        | \n",
       "| 1976       | Carter     | Ford       | -1         |  0         | -1.00      |   3.817    |  5         |  1         | 0          | 1          |  -3.817    |  -5        | \n",
       "| 1980       | Carter     | Reagan     |  1         |  1         |  0.00      |  -3.583    |  5         | -1         | 0          | 0          |  -3.583    |   5        | \n",
       "| 1984       | Mondale    | Reagan     | -1         | -1         |  0.00      |   5.550    |  8         | -1         | 1          | 0          |  -5.550    |  -8        | \n",
       "| 1988       | Dukakis    | G.Bush     | -1         |  0         | -1.00      |   2.402    |  5         | -1         | 1          | 0          |  -2.402    |  -5        | \n",
       "| 1992       | Clinton    | G.Bush     | -1         | -1         | -1.25      |   3.035    |  3         |  1         | 0          | 1          |  -3.035    |  -3        | \n",
       "| 1996       | Clinton    | Dole       |  1         |  1         |  0.00      |   3.315    |  4         |  1         | 1          | 1          |   3.315    |   4        | \n",
       "| 2000       | Gore       | G.W.Bush   |  1         |  0         |  1.00      |   2.031    |  7         |  1         | 1          | 1          |   2.031    |   7        | \n",
       "| 2004       | Kerry      | G.W.Bush   | -1         | -1         |  0.00      |   2.086    |  2         | -1         | 1          | 0          |  -2.086    |  -2        | \n",
       "| 2008       | Obama      | McCain     | -1         |  0         | -1.00      |  -1.787    |  2         |  1         | 0          | 1          |   1.787    |  -2        | \n",
       "| 2012       | Obama      | Romney     |  1         |  1         |  0.00      |   1.422    |  1         |  1         | 1          | 1          |   1.422    |   1        | \n",
       "\n",
       "\n"
      ],
      "text/plain": [
       "   YEAR DEM       REP        INC RUN DUR   GROWTH  GOOD WIN WININC WINNORM\n",
       "1  1916 Wilson    Hughes      1   1   0.00   2.229  3    1  1      1      \n",
       "2  1920 Cox       Harding     1   0   1.00 -11.463  0   -1  0      0      \n",
       "3  1924 Davis     Coolidge   -1  -1   0.00  -3.872 10   -1  1      0      \n",
       "4  1928 Smith     Hoover     -1   0  -1.00   4.623  7   -1  1      0      \n",
       "5  1932 Roosevelt Hoover     -1  -1  -1.25 -14.350  4    1  0      1      \n",
       "6  1936 Roosevelt Landon      1   1   0.00  11.682  9    1  1      1      \n",
       "7  1940 Roosevelt Wilkie      1   1   1.00   3.913  8    1  1      1      \n",
       "8  1944 Roosevelt Dewey       1   1   1.25   4.122  0    1  1      1      \n",
       "9  1948 Truman    Dewey       1   1   1.50   3.214  0    1  1      1      \n",
       "10 1952 Stevenson Eisenhower  1   0   1.75   0.997  7   -1  0      0      \n",
       "11 1956 Stevenson Eisenhower -1  -1   0.00  -1.252  5   -1  1      0      \n",
       "12 1960 Kennedy   Nixon      -1   0  -1.00   0.674  5    1  0      1      \n",
       "13 1964 Johnson   Goldwater   1   1   0.00   5.030  9    1  1      1      \n",
       "14 1968 Humphrey  Nixon       1   0   1.00   5.045  7   -1  0      0      \n",
       "15 1972 McGovern  Nixon      -1  -1   0.00   5.834  4   -1  1      0      \n",
       "16 1976 Carter    Ford       -1   0  -1.00   3.817  5    1  0      1      \n",
       "17 1980 Carter    Reagan      1   1   0.00  -3.583  5   -1  0      0      \n",
       "18 1984 Mondale   Reagan     -1  -1   0.00   5.550  8   -1  1      0      \n",
       "19 1988 Dukakis   G.Bush     -1   0  -1.00   2.402  5   -1  1      0      \n",
       "20 1992 Clinton   G.Bush     -1  -1  -1.25   3.035  3    1  0      1      \n",
       "21 1996 Clinton   Dole        1   1   0.00   3.315  4    1  1      1      \n",
       "22 2000 Gore      G.W.Bush    1   0   1.00   2.031  7    1  1      1      \n",
       "23 2004 Kerry     G.W.Bush   -1  -1   0.00   2.086  2   -1  1      0      \n",
       "24 2008 Obama     McCain     -1   0  -1.00  -1.787  2    1  0      1      \n",
       "25 2012 Obama     Romney      1   1   0.00   1.422  1    1  1      1      \n",
       "   GROWTHNORM GOODNORM\n",
       "1    2.229      3     \n",
       "2  -11.463      0     \n",
       "3    3.872    -10     \n",
       "4   -4.623     -7     \n",
       "5   14.350     -4     \n",
       "6   11.682      9     \n",
       "7    3.913      8     \n",
       "8    4.122      0     \n",
       "9    3.214      0     \n",
       "10   0.997      7     \n",
       "11   1.252     -5     \n",
       "12  -0.674     -5     \n",
       "13   5.030      9     \n",
       "14   5.045      7     \n",
       "15  -5.834     -4     \n",
       "16  -3.817     -5     \n",
       "17  -3.583      5     \n",
       "18  -5.550     -8     \n",
       "19  -2.402     -5     \n",
       "20  -3.035     -3     \n",
       "21   3.315      4     \n",
       "22   2.031      7     \n",
       "23  -2.086     -2     \n",
       "24   1.787     -2     \n",
       "25   1.422      1     "
      ]
     },
     "metadata": {},
     "output_type": "display_data"
    },
    {
     "data": {
      "text/plain": [
       "\n",
       "Call:\n",
       "glm(formula = WINNORM ~ INC + RUN + DUR + GROWTHNORM + GOODNORM, \n",
       "    family = binomial, data = pres)\n",
       "\n",
       "Deviance Residuals: \n",
       "    Min       1Q   Median       3Q      Max  \n",
       "-1.6418  -0.3862   0.0302   0.3889   1.6105  \n",
       "\n",
       "Coefficients:\n",
       "            Estimate Std. Error z value Pr(>|z|)\n",
       "(Intercept)  0.04699    0.63096   0.074    0.941\n",
       "INC         -0.17339    3.06255  -0.057    0.955\n",
       "RUN          1.96642    1.71162   1.149    0.251\n",
       "DUR         -2.08399    1.77249  -1.176    0.240\n",
       "GROWTHNORM   0.50456    0.31041   1.625    0.104\n",
       "GOODNORM     0.10169    0.29263   0.348    0.728\n",
       "\n",
       "(Dispersion parameter for binomial family taken to be 1)\n",
       "\n",
       "    Null deviance: 34.296  on 24  degrees of freedom\n",
       "Residual deviance: 17.406  on 19  degrees of freedom\n",
       "AIC: 29.406\n",
       "\n",
       "Number of Fisher Scoring iterations: 7\n"
      ]
     },
     "metadata": {},
     "output_type": "display_data"
    }
   ],
   "source": [
    "# normalise \"Good\" variable (here, it depends on how you model the values)\n",
    "# pres$GOODNORM <- ifelse(pres$INC==1,\n",
    "#                         ifelse(pres$GOOD>7.5, pres$GOOD-7.5, pres$GOOD-7.5),\n",
    "#                         ifelse(pres$GOOD>7.5, 7.5-pres$GOOD, 7.5-pres$GOOD))\n",
    "pres$GOODNORM <- ifelse(pres$INC==1, pres$GOOD, -pres$GOOD)\n",
    "\n",
    "pres\n",
    "model4I <- glm(WINNORM~INC+RUN+DUR+GROWTHNORM+GOODNORM, data=pres, family=binomial)\n",
    "summary(model4I)"
   ]
  },
  {
   "cell_type": "markdown",
   "metadata": {},
   "source": [
    "### Part 4J (c)\n",
    "\n",
    "The three least significant variables are **INC**, **GOOD**, **(intercept)**. AIC of reduced model is $23.748$."
   ]
  },
  {
   "cell_type": "markdown",
   "metadata": {},
   "source": [
    "### Part 4K (c)"
   ]
  },
  {
   "cell_type": "code",
   "execution_count": 42,
   "metadata": {},
   "outputs": [
    {
     "data": {
      "text/plain": [
       "\n",
       "Call:\n",
       "glm(formula = WINNORM ~ DUR + GROWTHNORM + RUN - 1, family = binomial, \n",
       "    data = pres)\n",
       "\n",
       "Deviance Residuals: \n",
       "     Min        1Q    Median        3Q       Max  \n",
       "-1.46675  -0.36836   0.04492   0.47750   1.73580  \n",
       "\n",
       "Coefficients:\n",
       "           Estimate Std. Error z value Pr(>|z|)  \n",
       "DUR         -1.7852     1.0876  -1.641   0.1007  \n",
       "GROWTHNORM   0.4690     0.2774   1.691   0.0909 .\n",
       "RUN          2.0638     0.9772   2.112   0.0347 *\n",
       "---\n",
       "Signif. codes:  0 '***' 0.001 '**' 0.01 '*' 0.05 '.' 0.1 ' ' 1\n",
       "\n",
       "(Dispersion parameter for binomial family taken to be 1)\n",
       "\n",
       "    Null deviance: 34.657  on 25  degrees of freedom\n",
       "Residual deviance: 17.748  on 22  degrees of freedom\n",
       "AIC: 23.748\n",
       "\n",
       "Number of Fisher Scoring iterations: 6\n"
      ]
     },
     "metadata": {},
     "output_type": "display_data"
    }
   ],
   "source": [
    "model4K <- glm(WINNORM~DUR+GROWTHNORM+RUN-1, data=pres, family=binomial)\n",
    "summary(model4K)"
   ]
  },
  {
   "cell_type": "markdown",
   "metadata": {},
   "source": [
    "### Part 4L (c) !\n",
    "\n",
    "Smallest significance level I would reject $H_0: DUR = 0$ is if the cutoff is $0.1$. However, given how close it is, one might be tempted to leave it in."
   ]
  },
  {
   "cell_type": "markdown",
   "metadata": {},
   "source": [
    "### Part 4M (c)\n",
    "\n",
    "I will prefer **Model4K** over **Model4I** as **4K** has a lower AIC score and comparably-close residual deviances. By dropping the variables that has are less interpretable, the model obtained is clearer and less susceptible to \"noise\" from errorneous readings or readings with wide fluctuations."
   ]
  },
  {
   "cell_type": "markdown",
   "metadata": {},
   "source": [
    "### Part 4N (c)\n",
    "\n",
    "$INC=1$, $RUN=0$, $DUR=1$"
   ]
  },
  {
   "cell_type": "markdown",
   "metadata": {},
   "source": [
    "### Part 4O (c)"
   ]
  },
  {
   "cell_type": "code",
   "execution_count": 43,
   "metadata": {},
   "outputs": [
    {
     "data": {
      "text/html": [
       "<strong>1:</strong> 0.300043539724165"
      ],
      "text/latex": [
       "\\textbf{1:} 0.300043539724165"
      ],
      "text/markdown": [
       "**1:** 0.300043539724165"
      ],
      "text/plain": [
       "        1 \n",
       "0.3000435 "
      ]
     },
     "metadata": {},
     "output_type": "display_data"
    }
   ],
   "source": [
    "predict4O <- predict(model4K, data.frame(INC=1, RUN=0, DUR=1, GROWTHNORM=2), type=\"response\")\n",
    "\n",
    "# probability of Clinton winning\n",
    "predict4O"
   ]
  }
 ],
 "metadata": {
  "kernelspec": {
   "display_name": "R",
   "language": "R",
   "name": "ir"
  },
  "language_info": {
   "codemirror_mode": "r",
   "file_extension": ".r",
   "mimetype": "text/x-r-source",
   "name": "R",
   "pygments_lexer": "r",
   "version": "3.4.0"
  }
 },
 "nbformat": 4,
 "nbformat_minor": 2
}
