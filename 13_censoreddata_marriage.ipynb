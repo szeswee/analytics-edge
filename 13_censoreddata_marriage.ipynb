{
 "cells": [
  {
   "cell_type": "markdown",
   "metadata": {},
   "source": [
    "## Censored data (Tobit, Survival functions)"
   ]
  },
  {
   "cell_type": "markdown",
   "metadata": {},
   "source": [
    "In some applications, we only have access to censored data. A censored variable has a large fraction of observations either at the minimum or maximum and the range of values allowed by the study is not wide enough to capture the variation in the censored variable."
   ]
  },
  {
   "cell_type": "code",
   "execution_count": 3,
   "metadata": {},
   "outputs": [
    {
     "name": "stdout",
     "output_type": "stream",
     "text": [
      "'data.frame':\t6366 obs. of  7 variables:\n",
      " $ marriage_rating: int  3 3 4 4 5 4 5 5 3 3 ...\n",
      " $ age            : num  32 27 22 37 27 27 37 37 22 27 ...\n",
      " $ yrs_married    : num  9 13 2.5 16.5 9 9 23 23 2.5 6 ...\n",
      " $ religiosity    : int  3 1 1 3 1 2 2 2 2 1 ...\n",
      " $ education      : int  17 14 16 16 14 14 12 12 12 16 ...\n",
      " $ occupation     : int  2 3 3 5 3 3 5 2 3 3 ...\n",
      " $ time_in_affairs: num  0.111 3.231 1.4 0.727 4.667 ...\n"
     ]
    }
   ],
   "source": [
    "exm <- read.csv(\"csv/extramarital.csv\")\n",
    "str(exm)"
   ]
  },
  {
   "cell_type": "code",
   "execution_count": 29,
   "metadata": {},
   "outputs": [
    {
     "data": {
      "text/plain": [
       "\n",
       "FALSE  TRUE \n",
       " 4313  2053 "
      ]
     },
     "metadata": {},
     "output_type": "display_data"
    },
    {
     "data": {
      "image/png": "[encoded data removed]",
      "text/plain": [
       "Plot with title “Histogram of exm$time_in_affairs”"
      ]
     },
     "metadata": {},
     "output_type": "display_data"
    }
   ],
   "source": [
    "options(repr.plot.width=9, repr.plot.height=4) # resize IRkernel plot size\n",
    "\n",
    "# numbers of unfaitful partners\n",
    "table(exm$time_in_affairs > 0)\n",
    "hist(exm$time_in_affairs, 100)"
   ]
  },
  {
   "cell_type": "markdown",
   "metadata": {},
   "source": [
    "### Building a Tobit model"
   ]
  },
  {
   "cell_type": "code",
   "execution_count": 11,
   "metadata": {
    "collapsed": true
   },
   "outputs": [],
   "source": [
    "set.seed(100)\n",
    "spl <- sample(nrow(exm), 0.7*nrow(exm))\n",
    "train <- exm[spl,]\n",
    "test <- exm[-spl,]"
   ]
  },
  {
   "cell_type": "code",
   "execution_count": 13,
   "metadata": {
    "collapsed": true
   },
   "outputs": [],
   "source": [
    "library(survival)\n",
    "?survreg"
   ]
  },
  {
   "cell_type": "code",
   "execution_count": 17,
   "metadata": {},
   "outputs": [
    {
     "data": {
      "text/plain": [
       "\n",
       "Call:\n",
       "survreg(formula = Surv(time_in_affairs, time_in_affairs > 0, \n",
       "    type = \"left\") ~ ., data = train, dist = \"gaussian\")\n",
       "                  Value Std. Error      z        p\n",
       "(Intercept)      7.0440     0.8144   8.65 5.20e-18\n",
       "marriage_rating -1.4505     0.0847 -17.12 1.11e-65\n",
       "age             -0.0828     0.0288  -2.88 3.99e-03\n",
       "yrs_married      0.1043     0.0272   3.83 1.28e-04\n",
       "religiosity     -0.8853     0.0985  -8.98 2.63e-19\n",
       "education       -0.1074     0.0428  -2.51 1.21e-02\n",
       "occupation       0.4027     0.0935   4.31 1.66e-05\n",
       "Log(scale)       1.4759     0.0206  71.73 0.00e+00\n",
       "\n",
       "Scale= 4.37 \n",
       "\n",
       "Gaussian distribution\n",
       "Loglik(model)= -5436.9   Loglik(intercept only)= -5676.2\n",
       "\tChisq= 478.62 on 6 degrees of freedom, p= 0 \n",
       "Number of Newton-Raphson Iterations: 4 \n",
       "n= 4456 \n"
      ]
     },
     "metadata": {},
     "output_type": "display_data"
    }
   ],
   "source": [
    "# `Surv()` function tells the model that the variable is a censored variable\n",
    "# even if time_in_affairs cannot be a negative number, we still want to see what effects it would have\n",
    "# we will compare results with standard linreg later on\n",
    "model1 <- survreg(Surv(time_in_affairs, time_in_affairs>0, type=\"left\")~., data=train, dist=\"gaussian\")\n",
    "summary(model1)\n",
    "\n",
    "# `Scale` refers to the sigma decision variable for maximising the MLE objective function\n",
    "# Since loglikelihood of model is closer to zero, we can see that the x-vars do affect the y-vars"
   ]
  },
  {
   "cell_type": "markdown",
   "metadata": {},
   "source": [
    "### Building a linreg model to compare with Tobit"
   ]
  },
  {
   "cell_type": "code",
   "execution_count": 18,
   "metadata": {},
   "outputs": [
    {
     "data": {
      "text/plain": [
       "\n",
       "Call:\n",
       "lm(formula = time_in_affairs ~ ., data = train)\n",
       "\n",
       "Residuals:\n",
       "   Min     1Q Median     3Q    Max \n",
       "-2.436 -0.820 -0.444  0.053 37.518 \n",
       "\n",
       "Coefficients:\n",
       "                 Estimate Std. Error t value Pr(>|t|)    \n",
       "(Intercept)      3.355442   0.302629  11.088  < 2e-16 ***\n",
       "marriage_rating -0.397490   0.032564 -12.206  < 2e-16 ***\n",
       "age             -0.009296   0.010619  -0.875  0.38137    \n",
       "yrs_married     -0.023114   0.010061  -2.297  0.02164 *  \n",
       "religiosity     -0.223889   0.035981  -6.222 5.35e-10 ***\n",
       "education       -0.025641   0.015910  -1.612  0.10711    \n",
       "occupation       0.106046   0.035611   2.978  0.00292 ** \n",
       "---\n",
       "Signif. codes:  0 ‘***’ 0.001 ‘**’ 0.01 ‘*’ 0.05 ‘.’ 0.1 ‘ ’ 1\n",
       "\n",
       "Residual standard error: 2.066 on 4449 degrees of freedom\n",
       "Multiple R-squared:  0.05452,\tAdjusted R-squared:  0.05325 \n",
       "F-statistic: 42.76 on 6 and 4449 DF,  p-value: < 2.2e-16\n"
      ]
     },
     "metadata": {},
     "output_type": "display_data"
    }
   ],
   "source": [
    "model2 <- lm(time_in_affairs~., data=train)\n",
    "summary(model2)"
   ]
  },
  {
   "cell_type": "code",
   "execution_count": 23,
   "metadata": {},
   "outputs": [
    {
     "data": {
      "text/plain": [
       "       \n",
       "        FALSE TRUE\n",
       "  FALSE    92   43\n",
       "  TRUE    523 1252"
      ]
     },
     "metadata": {},
     "output_type": "display_data"
    },
    {
     "data": {
      "text/plain": [
       "       \n",
       "        FALSE TRUE\n",
       "  FALSE   582 1175\n",
       "  TRUE     33  120"
      ]
     },
     "metadata": {},
     "output_type": "display_data"
    }
   ],
   "source": [
    "# here, predict tells us `beta*x` and gives us the latent unobservable values\n",
    "predict1 <- predict(model1, newdata = test)\n",
    "table(predict1 <= 0, test$time_in_affairs == 0)\n",
    "\n",
    "predict2 <- predict(model2, newdata = test)\n",
    "table(predict2 <= 0, test$time_in_affairs == 0)\n",
    "\n",
    "# we can see how the tobit model is much more accurate in predicting that negative predicted values are seen...\n",
    "# ... as zeros.\n",
    "\n",
    "# Tobit model works well with a heavily skewed tail in the histogram of the dataset, that suggests censored data\n",
    "# It does not work well for all datasets, but only some."
   ]
  },
  {
   "cell_type": "markdown",
   "metadata": {},
   "source": [
    "- Since we have $\\beta$, $\\sigma$ and $x_i$ values already, we can calculate what $P(Y_i | x_i)$ is.\n",
    "- we can also calculate $E(Y_i | x_i)$"
   ]
  },
  {
   "cell_type": "markdown",
   "metadata": {},
   "source": [
    "### Survival functions, Duration"
   ]
  },
  {
   "cell_type": "code",
   "execution_count": 2,
   "metadata": {},
   "outputs": [
    {
     "name": "stdout",
     "output_type": "stream",
     "text": [
      "'data.frame':\t172 obs. of  7 variables:\n",
      " $ start     : num  0 0 0 1 0 36 0 0 0 51 ...\n",
      " $ stop      : num  50 6 1 16 36 39 18 3 51 675 ...\n",
      " $ event     : int  1 1 0 1 0 1 1 1 0 1 ...\n",
      " $ age       : int  31 52 54 54 40 40 21 55 51 51 ...\n",
      " $ surgery   : int  0 0 0 0 0 0 0 0 0 0 ...\n",
      " $ transplant: int  0 0 0 1 0 1 0 0 0 1 ...\n",
      " $ id        : int  1 2 3 3 4 4 5 6 7 7 ...\n"
     ]
    }
   ],
   "source": [
    "heart <- read.csv(\"csv/heart.csv\")\n",
    "str(heart)"
   ]
  },
  {
   "cell_type": "code",
   "execution_count": 32,
   "metadata": {},
   "outputs": [
    {
     "data": {
      "text/html": [
       "103"
      ],
      "text/latex": [
       "103"
      ],
      "text/markdown": [
       "103"
      ],
      "text/plain": [
       "[1] 103"
      ]
     },
     "metadata": {},
     "output_type": "display_data"
    }
   ],
   "source": [
    "# There are a total of 103 patients\n",
    "max(unique(heart$id))"
   ]
  },
  {
   "cell_type": "code",
   "execution_count": 38,
   "metadata": {},
   "outputs": [
    {
     "data": {
      "text/html": [
       "<table>\n",
       "<thead><tr><th scope=col>start</th><th scope=col>stop</th><th scope=col>event</th><th scope=col>age</th><th scope=col>surgery</th><th scope=col>transplant</th><th scope=col>id</th></tr></thead>\n",
       "<tbody>\n",
       "\t<tr><td>0 </td><td>50</td><td>1 </td><td>31</td><td>0 </td><td>0 </td><td>1 </td></tr>\n",
       "</tbody>\n",
       "</table>\n"
      ],
      "text/latex": [
       "\\begin{tabular}{r|lllllll}\n",
       " start & stop & event & age & surgery & transplant & id\\\\\n",
       "\\hline\n",
       "\t 0  & 50 & 1  & 31 & 0  & 0  & 1 \\\\\n",
       "\\end{tabular}\n"
      ],
      "text/markdown": [
       "\n",
       "start | stop | event | age | surgery | transplant | id | \n",
       "|---|\n",
       "| 0  | 50 | 1  | 31 | 0  | 0  | 1  | \n",
       "\n",
       "\n"
      ],
      "text/plain": [
       "  start stop event age surgery transplant id\n",
       "1 0     50   1     31  0       0          1 "
      ]
     },
     "metadata": {},
     "output_type": "display_data"
    },
    {
     "data": {
      "text/html": [
       "<table>\n",
       "<thead><tr><th></th><th scope=col>start</th><th scope=col>stop</th><th scope=col>event</th><th scope=col>age</th><th scope=col>surgery</th><th scope=col>transplant</th><th scope=col>id</th></tr></thead>\n",
       "<tbody>\n",
       "\t<tr><th scope=row>5</th><td> 0</td><td>36</td><td>0 </td><td>40</td><td>0 </td><td>0 </td><td>4 </td></tr>\n",
       "\t<tr><th scope=row>6</th><td>36</td><td>39</td><td>1 </td><td>40</td><td>0 </td><td>1 </td><td>4 </td></tr>\n",
       "</tbody>\n",
       "</table>\n"
      ],
      "text/latex": [
       "\\begin{tabular}{r|lllllll}\n",
       "  & start & stop & event & age & surgery & transplant & id\\\\\n",
       "\\hline\n",
       "\t5 &  0 & 36 & 0  & 40 & 0  & 0  & 4 \\\\\n",
       "\t6 & 36 & 39 & 1  & 40 & 0  & 1  & 4 \\\\\n",
       "\\end{tabular}\n"
      ],
      "text/markdown": [
       "\n",
       "| <!--/--> | start | stop | event | age | surgery | transplant | id | \n",
       "|---|---|\n",
       "| 5 |  0 | 36 | 0  | 40 | 0  | 0  | 4  | \n",
       "| 6 | 36 | 39 | 1  | 40 | 0  | 1  | 4  | \n",
       "\n",
       "\n"
      ],
      "text/plain": [
       "  start stop event age surgery transplant id\n",
       "5  0    36   0     40  0       0          4 \n",
       "6 36    39   1     40  0       1          4 "
      ]
     },
     "metadata": {},
     "output_type": "display_data"
    },
    {
     "data": {
      "text/html": [
       "<table>\n",
       "<thead><tr><th></th><th scope=col>start</th><th scope=col>stop</th><th scope=col>event</th><th scope=col>age</th><th scope=col>surgery</th><th scope=col>transplant</th><th scope=col>id</th></tr></thead>\n",
       "<tbody>\n",
       "\t<tr><th scope=row>39</th><td> 0  </td><td>  25</td><td>0   </td><td>33  </td><td>0   </td><td>0   </td><td>25  </td></tr>\n",
       "\t<tr><th scope=row>40</th><td>25  </td><td>1800</td><td>0   </td><td>33  </td><td>0   </td><td>1   </td><td>25  </td></tr>\n",
       "</tbody>\n",
       "</table>\n"
      ],
      "text/latex": [
       "\\begin{tabular}{r|lllllll}\n",
       "  & start & stop & event & age & surgery & transplant & id\\\\\n",
       "\\hline\n",
       "\t39 &  0   &   25 & 0    & 33   & 0    & 0    & 25  \\\\\n",
       "\t40 & 25   & 1800 & 0    & 33   & 0    & 1    & 25  \\\\\n",
       "\\end{tabular}\n"
      ],
      "text/markdown": [
       "\n",
       "| <!--/--> | start | stop | event | age | surgery | transplant | id | \n",
       "|---|---|\n",
       "| 39 |  0   |   25 | 0    | 33   | 0    | 0    | 25   | \n",
       "| 40 | 25   | 1800 | 0    | 33   | 0    | 1    | 25   | \n",
       "\n",
       "\n"
      ],
      "text/plain": [
       "   start stop event age surgery transplant id\n",
       "39  0      25 0     33  0       0          25\n",
       "40 25    1800 0     33  0       1          25"
      ]
     },
     "metadata": {},
     "output_type": "display_data"
    },
    {
     "data": {
      "text/html": [
       "<table>\n",
       "<thead><tr><th></th><th scope=col>start</th><th scope=col>stop</th><th scope=col>event</th><th scope=col>age</th><th scope=col>surgery</th><th scope=col>transplant</th><th scope=col>id</th></tr></thead>\n",
       "<tbody>\n",
       "\t<tr><th scope=row>171</th><td>0  </td><td>11 </td><td>0  </td><td>40 </td><td>0  </td><td>0  </td><td>102</td></tr>\n",
       "</tbody>\n",
       "</table>\n"
      ],
      "text/latex": [
       "\\begin{tabular}{r|lllllll}\n",
       "  & start & stop & event & age & surgery & transplant & id\\\\\n",
       "\\hline\n",
       "\t171 & 0   & 11  & 0   & 40  & 0   & 0   & 102\\\\\n",
       "\\end{tabular}\n"
      ],
      "text/markdown": [
       "\n",
       "| <!--/--> | start | stop | event | age | surgery | transplant | id | \n",
       "|---|\n",
       "| 171 | 0   | 11  | 0   | 40  | 0   | 0   | 102 | \n",
       "\n",
       "\n"
      ],
      "text/plain": [
       "    start stop event age surgery transplant id \n",
       "171 0     11   0     40  0       0          102"
      ]
     },
     "metadata": {},
     "output_type": "display_data"
    }
   ],
   "source": [
    "# patient died at day 50 even when he did not have a transplant\n",
    "subset(heart, id==1)\n",
    "\n",
    "# patient had a transplant at day 36 and died at day 39\n",
    "subset(heart, id==4)\n",
    "\n",
    "# patient had a transplant at day 25, but since data collection stopped at day 1800...\n",
    "# ...we did not know if the patient survived or died\n",
    "subset(heart, id==25)\n",
    "\n",
    "# patient left the programme at day 11\n",
    "subset(heart, id==102)"
   ]
  },
  {
   "cell_type": "markdown",
   "metadata": {},
   "source": [
    "### Using Kaplan-Meier estimator"
   ]
  },
  {
   "cell_type": "code",
   "execution_count": 47,
   "metadata": {
    "collapsed": true
   },
   "outputs": [],
   "source": [
    "?survfit\n",
    "?Surv"
   ]
  },
  {
   "cell_type": "code",
   "execution_count": 12,
   "metadata": {
    "scrolled": false
   },
   "outputs": [
    {
     "data": {
      "text/plain": [
       "Call: survfit(formula = Surv(start, stop, event) ~ 1, data = heart)\n",
       "\n",
       " time n.risk n.event censored survival std.err lower 95% CI upper 95% CI\n",
       "    1    103       1        2    0.990 0.00966       0.9715        1.000\n",
       "    2    102       3        3    0.961 0.01904       0.9246        0.999\n",
       "    3     99       3        3    0.932 0.02480       0.8847        0.982\n",
       "    5     96       2        5    0.913 0.02782       0.8597        0.969\n",
       "    6     94       2        1    0.893 0.03043       0.8355        0.955\n",
       "    8     92       1        2    0.883 0.03161       0.8237        0.948\n",
       "    9     91       1        0    0.874 0.03272       0.8119        0.940\n",
       "   12     89       1        6    0.864 0.03379       0.8002        0.933\n",
       "   16     88       3        2    0.835 0.03667       0.7656        0.910\n",
       "   17     85       1        2    0.825 0.03753       0.7543        0.902\n",
       "   18     84       1        1    0.815 0.03835       0.7431        0.894\n",
       "   21     83       2        5    0.795 0.03986       0.7208        0.877\n",
       "   28     81       1        8    0.785 0.04056       0.7098        0.869\n",
       "   30     80       1        0    0.776 0.04122       0.6989        0.861\n",
       "   32     78       1        5    0.766 0.04188       0.6878        0.852\n",
       "   35     77       1        1    0.756 0.04250       0.6769        0.844\n",
       "   36     76       1        2    0.746 0.04308       0.6659        0.835\n",
       "   37     75       1        2    0.736 0.04364       0.6551        0.827\n",
       "   39     74       1        2    0.726 0.04417       0.6443        0.818\n",
       "   40     72       2        0    0.706 0.04519       0.6225        0.800\n",
       "   43     70       1        2    0.696 0.04565       0.6117        0.791\n",
       "   45     69       1        0    0.686 0.04609       0.6009        0.782\n",
       "   50     68       1        2    0.675 0.04650       0.5902        0.773\n",
       "   51     67       1        2    0.665 0.04689       0.5796        0.764\n",
       "   53     66       1        0    0.655 0.04725       0.5690        0.755\n",
       "   58     65       1        2    0.645 0.04759       0.5584        0.746\n",
       "   61     64       1        1    0.635 0.04790       0.5479        0.736\n",
       "   66     63       1        0    0.625 0.04819       0.5374        0.727\n",
       "   68     62       2        2    0.605 0.04870       0.5166        0.708\n",
       "   69     60       1        0    0.595 0.04892       0.5063        0.699\n",
       "   72     59       2        1    0.575 0.04929       0.4857        0.680\n",
       "   77     57       1        0    0.565 0.04945       0.4755        0.670\n",
       "   78     56       1        1    0.554 0.04958       0.4654        0.661\n",
       "   80     55       1        0    0.544 0.04970       0.4552        0.651\n",
       "   81     54       1        0    0.534 0.04979       0.4451        0.641\n",
       "   85     53       1        2    0.524 0.04986       0.4351        0.632\n",
       "   90     52       1        0    0.514 0.04991       0.4251        0.622\n",
       "   96     51       1        1    0.504 0.04994       0.4151        0.612\n",
       "  100     50       1        0    0.494 0.04995       0.4052        0.602\n",
       "  102     49       1        0    0.484 0.04993       0.3953        0.592\n",
       "  110     47       1        1    0.474 0.04992       0.3852        0.582\n",
       "  149     45       1        2    0.463 0.04991       0.3749        0.572\n",
       "  153     44       1        0    0.453 0.04987       0.3647        0.562\n",
       "  165     43       1        1    0.442 0.04981       0.3545        0.551\n",
       "  186     41       1        1    0.431 0.04975       0.3440        0.541\n",
       "  188     40       1        0    0.420 0.04966       0.3336        0.530\n",
       "  207     39       1        0    0.410 0.04954       0.3233        0.519\n",
       "  219     38       1        1    0.399 0.04940       0.3130        0.509\n",
       "  263     37       1        0    0.388 0.04923       0.3027        0.498\n",
       "  285     35       2        1    0.366 0.04885       0.2817        0.475\n",
       "  308     33       1        0    0.355 0.04861       0.2713        0.464\n",
       "  334     32       1        1    0.344 0.04834       0.2610        0.453\n",
       "  340     31       1        1    0.333 0.04804       0.2507        0.442\n",
       "  343     29       1        0    0.321 0.04773       0.2401        0.430\n",
       "  584     21       1        7    0.306 0.04785       0.2252        0.416\n",
       "  675     17       1        3    0.288 0.04830       0.2073        0.400\n",
       "  733     16       1        0    0.270 0.04852       0.1898        0.384\n",
       "  852     14       1        1    0.251 0.04873       0.1712        0.367\n",
       "  980     11       1        2    0.228 0.04934       0.1491        0.348\n",
       "  996     10       1        0    0.205 0.04939       0.1279        0.329\n",
       " 1032      9       1        0    0.182 0.04888       0.1078        0.308\n",
       " 1387      6       1        2    0.152 0.04928       0.0804        0.287"
      ]
     },
     "metadata": {},
     "output_type": "display_data"
    },
    {
     "data": {
      "text/html": [
       "<table>\n",
       "<thead><tr><th></th><th scope=col>start</th><th scope=col>stop</th><th scope=col>event</th><th scope=col>age</th><th scope=col>surgery</th><th scope=col>transplant</th><th scope=col>id</th></tr></thead>\n",
       "<tbody>\n",
       "\t<tr><th scope=row>88</th><td>0 </td><td>10</td><td>0 </td><td>52</td><td>0 </td><td>0 </td><td>55</td></tr>\n",
       "\t<tr><th scope=row>112</th><td>0 </td><td>10</td><td>0 </td><td>48</td><td>0 </td><td>0 </td><td>69</td></tr>\n",
       "</tbody>\n",
       "</table>\n"
      ],
      "text/latex": [
       "\\begin{tabular}{r|lllllll}\n",
       "  & start & stop & event & age & surgery & transplant & id\\\\\n",
       "\\hline\n",
       "\t88 & 0  & 10 & 0  & 52 & 0  & 0  & 55\\\\\n",
       "\t112 & 0  & 10 & 0  & 48 & 0  & 0  & 69\\\\\n",
       "\\end{tabular}\n"
      ],
      "text/markdown": [
       "\n",
       "| <!--/--> | start | stop | event | age | surgery | transplant | id | \n",
       "|---|---|\n",
       "| 88 | 0  | 10 | 0  | 52 | 0  | 0  | 55 | \n",
       "| 112 | 0  | 10 | 0  | 48 | 0  | 0  | 69 | \n",
       "\n",
       "\n"
      ],
      "text/plain": [
       "    start stop event age surgery transplant id\n",
       "88  0     10   0     52  0       0          55\n",
       "112 0     10   0     48  0       0          69"
      ]
     },
     "metadata": {},
     "output_type": "display_data"
    },
    {
     "data": {
      "text/html": [
       "<table>\n",
       "<thead><tr><th></th><th scope=col>start</th><th scope=col>stop</th><th scope=col>event</th><th scope=col>age</th><th scope=col>surgery</th><th scope=col>transplant</th><th scope=col>id</th></tr></thead>\n",
       "<tbody>\n",
       "\t<tr><th scope=row>171</th><td>0  </td><td>11 </td><td>0  </td><td>40 </td><td>0  </td><td>0  </td><td>102</td></tr>\n",
       "</tbody>\n",
       "</table>\n"
      ],
      "text/latex": [
       "\\begin{tabular}{r|lllllll}\n",
       "  & start & stop & event & age & surgery & transplant & id\\\\\n",
       "\\hline\n",
       "\t171 & 0   & 11  & 0   & 40  & 0   & 0   & 102\\\\\n",
       "\\end{tabular}\n"
      ],
      "text/markdown": [
       "\n",
       "| <!--/--> | start | stop | event | age | surgery | transplant | id | \n",
       "|---|\n",
       "| 171 | 0   | 11  | 0   | 40  | 0   | 0   | 102 | \n",
       "\n",
       "\n"
      ],
      "text/plain": [
       "    start stop event age surgery transplant id \n",
       "171 0     11   0     40  0       0          102"
      ]
     },
     "metadata": {},
     "output_type": "display_data"
    },
    {
     "data": {
      "image/png": "[encoded data removed]",
      "text/plain": [
       "Plot with title “Survival function (Kaplan-Meier)”"
      ]
     },
     "metadata": {},
     "output_type": "display_data"
    }
   ],
   "source": [
    "# build a survival function using Kaplan-Meier\n",
    "library(survival)\n",
    "km <- survfit(Surv(start, stop, event)~1, data=heart)\n",
    "\n",
    "# `n.event` merely represents how the curve is\n",
    "# why the discrepancy between time 9/12? someone probably dropped out of the programme\n",
    "summary(km)\n",
    "# find out who died at time=10\n",
    "subset(heart, stop==10)\n",
    "# find out who died at time=11\n",
    "subset(heart, stop==11)\n",
    "\n",
    "#\n",
    "options(repr.plot.width=9, repr.plot.height=4) # resize IRkernel plot size\n",
    "plot(km, main=\"Survival function (Kaplan-Meier)\", xlab=\"Time\", ylab=\"Probability of survival\")\n",
    "\n",
    "# Q: why do we need KM estimation when we already have a closed-form solution?\n",
    "# A: The question itself is flawed because we do no know the closed-form equation for the survival...\n",
    "# ... function a priori and will have to estimate it by collecting data samples. Now, given these data...\n",
    "# ... samples, we can use the KM estimator to get the approximate survival function given samples."
   ]
  },
  {
   "cell_type": "code",
   "execution_count": 3,
   "metadata": {},
   "outputs": [
    {
     "data": {
      "text/html": [
       "<table>\n",
       "<thead><tr><th></th><th scope=col>start</th><th scope=col>stop</th><th scope=col>event</th><th scope=col>age</th><th scope=col>surgery</th><th scope=col>transplant</th><th scope=col>id</th></tr></thead>\n",
       "<tbody>\n",
       "\t<tr><th scope=row>3</th><td>0 </td><td>1 </td><td>0 </td><td>54</td><td>0 </td><td>0 </td><td> 3</td></tr>\n",
       "\t<tr><th scope=row>22</th><td>0 </td><td>1 </td><td>1 </td><td>54</td><td>1 </td><td>0 </td><td>15</td></tr>\n",
       "\t<tr><th scope=row>71</th><td>0 </td><td>1 </td><td>0 </td><td>36</td><td>0 </td><td>0 </td><td>45</td></tr>\n",
       "</tbody>\n",
       "</table>\n"
      ],
      "text/latex": [
       "\\begin{tabular}{r|lllllll}\n",
       "  & start & stop & event & age & surgery & transplant & id\\\\\n",
       "\\hline\n",
       "\t3 & 0  & 1  & 0  & 54 & 0  & 0  &  3\\\\\n",
       "\t22 & 0  & 1  & 1  & 54 & 1  & 0  & 15\\\\\n",
       "\t71 & 0  & 1  & 0  & 36 & 0  & 0  & 45\\\\\n",
       "\\end{tabular}\n"
      ],
      "text/markdown": [
       "\n",
       "| <!--/--> | start | stop | event | age | surgery | transplant | id | \n",
       "|---|---|---|\n",
       "| 3 | 0  | 1  | 0  | 54 | 0  | 0  |  3 | \n",
       "| 22 | 0  | 1  | 1  | 54 | 1  | 0  | 15 | \n",
       "| 71 | 0  | 1  | 0  | 36 | 0  | 0  | 45 | \n",
       "\n",
       "\n"
      ],
      "text/plain": [
       "   start stop event age surgery transplant id\n",
       "3  0     1    0     54  0       0           3\n",
       "22 0     1    1     54  1       0          15\n",
       "71 0     1    0     36  0       0          45"
      ]
     },
     "metadata": {},
     "output_type": "display_data"
    }
   ],
   "source": [
    "# find out who died at time=1\n",
    "subset(heart, stop==1)"
   ]
  },
  {
   "cell_type": "markdown",
   "metadata": {
    "collapsed": true
   },
   "source": [
    "### Cox proportional hazard model\n",
    "\n",
    "One drawback of the KM estimator is that it doesnt model the dependence of the x-variables. That is, the rate at which events happen may vary based on time t (hazard rate $\\lambda(t) \\neq constant$). To account for that, we will need to use the **Cox proportional hazard model**.\n",
    "\n",
    "$$\\large \\lambda(t) = \\frac{f_{pdf_t}(t)}{s(t)}$$\n",
    "\n",
    "If we assume that $\\lambda(t)$ is of the form $\\lambda(t) = \\lambda_0 e^{\\beta'x}$ and assume only one event can happen at time $t$ (where $x$ are the predictor variables) and let $t_i$ be the time at which individual $i$ exists, then the probability of event occuring is:\n",
    "\n",
    "$$\\large P(event\\:i) = \\frac{e^{\\beta'x_i}}{\\sum_{j\\in R(t_i)}e^{\\beta'x_j}}$$\n",
    "\n",
    "where $R(t_i)$ is the set of all individuals still existing at time $t_i$. To find $\\beta$, we conduct MLE."
   ]
  },
  {
   "cell_type": "code",
   "execution_count": 13,
   "metadata": {},
   "outputs": [
    {
     "data": {
      "text/plain": [
       "Call:\n",
       "coxph(formula = Surv(start, stop, event) ~ age + surgery + transplant, \n",
       "    data = heart)\n",
       "\n",
       "  n= 172, number of events= 75 \n",
       "\n",
       "               coef exp(coef) se(coef)      z Pr(>|z|)  \n",
       "age         0.03026   1.03072  0.01397  2.166   0.0303 *\n",
       "surgery    -0.77139   0.46237  0.35966 -2.145   0.0320 *\n",
       "transplant  0.01970   1.01990  0.30823  0.064   0.9490  \n",
       "---\n",
       "Signif. codes:  0 ‘***’ 0.001 ‘**’ 0.01 ‘*’ 0.05 ‘.’ 0.1 ‘ ’ 1\n",
       "\n",
       "           exp(coef) exp(-coef) lower .95 upper .95\n",
       "age           1.0307     0.9702    1.0029    1.0593\n",
       "surgery       0.4624     2.1628    0.2285    0.9357\n",
       "transplant    1.0199     0.9805    0.5574    1.8661\n",
       "\n",
       "Concordance= 0.599  (se = 0.037 )\n",
       "Rsquare= 0.06   (max possible= 0.969 )\n",
       "Likelihood ratio test= 10.55  on 3 df,   p=0.0144\n",
       "Wald test            = 9.53  on 3 df,   p=0.02305\n",
       "Score (logrank) test = 9.85  on 3 df,   p=0.0199\n"
      ]
     },
     "metadata": {},
     "output_type": "display_data"
    },
    {
     "data": {
      "image/png": "[encoded data removed]",
      "text/plain": [
       "Plot with title “Survival function (Cox proportional hazard)”"
      ]
     },
     "metadata": {},
     "output_type": "display_data"
    }
   ],
   "source": [
    "cox <- coxph(Surv(start, stop, event)~age+surgery+transplant, data=heart)\n",
    "summary(cox)\n",
    "\n",
    "plot(survfit(cox), main=\"Survival function (Cox proportional hazard)\", xlab=\"Time\", ylab=\"Probability of survival\")"
   ]
  }
 ],
 "metadata": {
  "kernelspec": {
   "display_name": "R",
   "language": "R",
   "name": "ir"
  },
  "language_info": {
   "codemirror_mode": "r",
   "file_extension": ".r",
   "mimetype": "text/x-r-source",
   "name": "R",
   "pygments_lexer": "r",
   "version": "3.4.0"
  }
 },
 "nbformat": 4,
 "nbformat_minor": 2
}
