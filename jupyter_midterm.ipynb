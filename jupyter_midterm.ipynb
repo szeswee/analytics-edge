{
 "cells": [
  {
   "cell_type": "markdown",
   "metadata": {},
   "source": [
    "# The Analytics Edge Mid-term\n",
    "\n",
    "## Ong Sze Swee, 1000969\n",
    "\n",
    "### Question 1"
   ]
  },
  {
   "cell_type": "markdown",
   "metadata": {},
   "source": [
    "### Part 1"
   ]
  },
  {
   "cell_type": "code",
   "execution_count": 1,
   "metadata": {
    "scrolled": false
   },
   "outputs": [
    {
     "name": "stdout",
     "output_type": "stream",
     "text": [
      "'data.frame':\t17919 obs. of  9 variables:\n",
      " $ ID      : int  1 1 1 1 2 2 2 2 2 2 ...\n",
      " $ EDUC    : int  1 2 2 2 1 1 1 1 1 1 ...\n",
      " $ LOGWAGE : num  1.82 3.29 3.21 3.06 2.14 2.3 2.4 2.46 2.51 2.5 ...\n",
      " $ EXPER   : int  1 3 5 6 4 5 6 7 8 9 ...\n",
      " $ ABILITY : num  1 1 1 1 1.5 1.5 1.5 1.5 1.5 1.5 ...\n",
      " $ MOTHERED: int  12 12 12 12 12 12 12 12 12 12 ...\n",
      " $ FATHERED: int  12 12 12 12 12 12 12 12 12 12 ...\n",
      " $ BRKNHOME: int  0 0 0 0 0 0 0 0 0 0 ...\n",
      " $ SIBLINGS: int  1 1 1 1 1 1 1 1 1 1 ...\n"
     ]
    },
    {
     "data": {
      "text/html": [
       "2178"
      ],
      "text/latex": [
       "2178"
      ],
      "text/markdown": [
       "2178"
      ],
      "text/plain": [
       "[1] 2178"
      ]
     },
     "metadata": {},
     "output_type": "display_data"
    }
   ],
   "source": [
    "options(repr.plot.width=7, repr.plot.height=4) # resize IRkernel plot size for jupyter\n",
    "wages <- read.csv(\"csv/wages.csv\")\n",
    "str(wages)\n",
    "max(wages$ID)"
   ]
  },
  {
   "cell_type": "markdown",
   "metadata": {},
   "source": [
    "### Part 2"
   ]
  },
  {
   "cell_type": "code",
   "execution_count": 2,
   "metadata": {
    "scrolled": true
   },
   "outputs": [
    {
     "data": {
      "text/html": [
       "<strong>48:</strong> 48"
      ],
      "text/latex": [
       "\\textbf{48:} 48"
      ],
      "text/markdown": [
       "**48:** 48"
      ],
      "text/plain": [
       "48 \n",
       "48 "
      ]
     },
     "metadata": {},
     "output_type": "display_data"
    }
   ],
   "source": [
    "which.max(table(wages$ID))\n",
    "# table(wages$ID)\n",
    "# ?which.max"
   ]
  },
  {
   "cell_type": "markdown",
   "metadata": {},
   "source": [
    "### Part 3"
   ]
  },
  {
   "cell_type": "code",
   "execution_count": 3,
   "metadata": {},
   "outputs": [
    {
     "data": {
      "text/plain": [
       "\n",
       "Call:\n",
       "lm(formula = LOGWAGE ~ ABILITY + MOTHERED + FATHERED + BRKNHOME + \n",
       "    SIBLINGS, data = wages)\n",
       "\n",
       "Residuals:\n",
       "     Min       1Q   Median       3Q      Max \n",
       "-2.32860 -0.32079  0.02028  0.33861  2.28755 \n",
       "\n",
       "Coefficients:\n",
       "             Estimate Std. Error t value Pr(>|t|)    \n",
       "(Intercept)  2.164029   0.020145 107.423  < 2e-16 ***\n",
       "ABILITY      0.108962   0.004792  22.738  < 2e-16 ***\n",
       "MOTHERED     0.001707   0.001815   0.941 0.346957    \n",
       "FATHERED     0.008323   0.001424   5.845 5.15e-09 ***\n",
       "BRKNHOME    -0.075650   0.010664  -7.094 1.35e-12 ***\n",
       "SIBLINGS     0.006871   0.001916   3.587 0.000336 ***\n",
       "---\n",
       "Signif. codes:  0 ‘***’ 0.001 ‘**’ 0.01 ‘*’ 0.05 ‘.’ 0.1 ‘ ’ 1\n",
       "\n",
       "Residual standard error: 0.5138 on 17913 degrees of freedom\n",
       "Multiple R-squared:  0.05407,\tAdjusted R-squared:  0.05381 \n",
       "F-statistic: 204.8 on 5 and 17913 DF,  p-value: < 2.2e-16\n"
      ]
     },
     "metadata": {},
     "output_type": "display_data"
    }
   ],
   "source": [
    "model13 <- lm(LOGWAGE~ABILITY+MOTHERED+FATHERED+BRKNHOME+SIBLINGS, data=wages)\n",
    "summary(model13)"
   ]
  },
  {
   "cell_type": "markdown",
   "metadata": {},
   "source": [
    "### Part 4"
   ]
  },
  {
   "cell_type": "code",
   "execution_count": 4,
   "metadata": {},
   "outputs": [
    {
     "data": {
      "text/plain": [
       "\n",
       "Call:\n",
       "lm(formula = LOGWAGE ~ EDUC + EXPER, data = wages)\n",
       "\n",
       "Residuals:\n",
       "     Min       1Q   Median       3Q      Max \n",
       "-2.42459 -0.29167  0.01968  0.32973  2.17815 \n",
       "\n",
       "Coefficients:\n",
       "             Estimate Std. Error t value Pr(>|t|)    \n",
       "(Intercept) 1.9058640  0.0092728  205.53   <2e-16 ***\n",
       "EDUC        0.2656628  0.0067703   39.24   <2e-16 ***\n",
       "EXPER       0.0343065  0.0009106   37.68   <2e-16 ***\n",
       "---\n",
       "Signif. codes:  0 ‘***’ 0.001 ‘**’ 0.01 ‘*’ 0.05 ‘.’ 0.1 ‘ ’ 1\n",
       "\n",
       "Residual standard error: 0.4948 on 17916 degrees of freedom\n",
       "Multiple R-squared:  0.1227,\tAdjusted R-squared:  0.1226 \n",
       "F-statistic:  1253 on 2 and 17916 DF,  p-value: < 2.2e-16\n"
      ]
     },
     "metadata": {},
     "output_type": "display_data"
    }
   ],
   "source": [
    "model14 <- lm(LOGWAGE~EDUC+EXPER, data=wages)\n",
    "summary(model14)"
   ]
  },
  {
   "cell_type": "markdown",
   "metadata": {},
   "source": [
    "### Part 6"
   ]
  },
  {
   "cell_type": "code",
   "execution_count": 5,
   "metadata": {},
   "outputs": [
    {
     "data": {
      "text/plain": [
       "\n",
       "Call:\n",
       "lm(formula = LOGWAGE ~ EDUC + EXPER + ABILITY + MOTHERED + FATHERED + \n",
       "    BRKNHOME + SIBLINGS, data = wages)\n",
       "\n",
       "Residuals:\n",
       "     Min       1Q   Median       3Q      Max \n",
       "-2.49139 -0.28417  0.02438  0.31532  2.17335 \n",
       "\n",
       "Coefficients:\n",
       "              Estimate Std. Error t value Pr(>|t|)    \n",
       "(Intercept)  1.8106464  0.0206653  87.618  < 2e-16 ***\n",
       "EDUC         0.1771914  0.0074420  23.810  < 2e-16 ***\n",
       "EXPER        0.0381444  0.0009064  42.084  < 2e-16 ***\n",
       "ABILITY      0.1007876  0.0048550  20.760  < 2e-16 ***\n",
       "MOTHERED     0.0008363  0.0017146   0.488   0.6257    \n",
       "FATHERED     0.0069995  0.0013509   5.181 2.23e-07 ***\n",
       "BRKNHOME    -0.0695576  0.0100778  -6.902 5.30e-12 ***\n",
       "SIBLINGS     0.0036907  0.0018111   2.038   0.0416 *  \n",
       "---\n",
       "Signif. codes:  0 ‘***’ 0.001 ‘**’ 0.01 ‘*’ 0.05 ‘.’ 0.1 ‘ ’ 1\n",
       "\n",
       "Residual standard error: 0.4851 on 17911 degrees of freedom\n",
       "Multiple R-squared:  0.1569,\tAdjusted R-squared:  0.1566 \n",
       "F-statistic: 476.3 on 7 and 17911 DF,  p-value: < 2.2e-16\n"
      ]
     },
     "metadata": {},
     "output_type": "display_data"
    }
   ],
   "source": [
    "model16 <- lm(LOGWAGE~EDUC+EXPER+ABILITY+MOTHERED+FATHERED+BRKNHOME+SIBLINGS, data=wages)\n",
    "summary(model16)"
   ]
  },
  {
   "cell_type": "markdown",
   "metadata": {},
   "source": [
    "### Part 7"
   ]
  },
  {
   "cell_type": "code",
   "execution_count": 6,
   "metadata": {},
   "outputs": [
    {
     "data": {
      "text/html": [
       "<table>\n",
       "<thead><tr><th></th><th scope=col>EDUC</th><th scope=col>EXPER</th><th scope=col>ABILITY</th><th scope=col>MOTHERED</th><th scope=col>FATHERED</th><th scope=col>BRKNHOME</th><th scope=col>SIBLINGS</th></tr></thead>\n",
       "<tbody>\n",
       "\t<tr><th scope=row>EDUC</th><td> 1.00000000</td><td>-0.18087264</td><td> 0.45193465</td><td> 0.30006708</td><td> 0.32250694</td><td>-0.06824661</td><td>-0.14989919</td></tr>\n",
       "\t<tr><th scope=row>EXPER</th><td>-0.18087264</td><td> 1.00000000</td><td>-0.22215626</td><td>-0.14032375</td><td>-0.14724716</td><td> 0.02492273</td><td> 0.11132678</td></tr>\n",
       "\t<tr><th scope=row>ABILITY</th><td> 0.45193465</td><td>-0.22215626</td><td> 1.00000000</td><td> 0.45012560</td><td> 0.44916014</td><td>-0.06087286</td><td>-0.24271656</td></tr>\n",
       "\t<tr><th scope=row>MOTHERED</th><td> 0.30006708</td><td>-0.14032375</td><td> 0.45012560</td><td> 1.00000000</td><td> 0.67852304</td><td>-0.03063772</td><td>-0.30192343</td></tr>\n",
       "\t<tr><th scope=row>FATHERED</th><td> 0.32250694</td><td>-0.14724716</td><td> 0.44916014</td><td> 0.67852304</td><td> 1.00000000</td><td>-0.05109599</td><td>-0.25551676</td></tr>\n",
       "\t<tr><th scope=row>BRKNHOME</th><td>-0.06824661</td><td> 0.02492273</td><td>-0.06087286</td><td>-0.03063772</td><td>-0.05109599</td><td> 1.00000000</td><td> 0.03028934</td></tr>\n",
       "\t<tr><th scope=row>SIBLINGS</th><td>-0.14989919</td><td> 0.11132678</td><td>-0.24271656</td><td>-0.30192343</td><td>-0.25551676</td><td> 0.03028934</td><td> 1.00000000</td></tr>\n",
       "</tbody>\n",
       "</table>\n"
      ],
      "text/latex": [
       "\\begin{tabular}{r|lllllll}\n",
       "  & EDUC & EXPER & ABILITY & MOTHERED & FATHERED & BRKNHOME & SIBLINGS\\\\\n",
       "\\hline\n",
       "\tEDUC &  1.00000000 & -0.18087264 &  0.45193465 &  0.30006708 &  0.32250694 & -0.06824661 & -0.14989919\\\\\n",
       "\tEXPER & -0.18087264 &  1.00000000 & -0.22215626 & -0.14032375 & -0.14724716 &  0.02492273 &  0.11132678\\\\\n",
       "\tABILITY &  0.45193465 & -0.22215626 &  1.00000000 &  0.45012560 &  0.44916014 & -0.06087286 & -0.24271656\\\\\n",
       "\tMOTHERED &  0.30006708 & -0.14032375 &  0.45012560 &  1.00000000 &  0.67852304 & -0.03063772 & -0.30192343\\\\\n",
       "\tFATHERED &  0.32250694 & -0.14724716 &  0.44916014 &  0.67852304 &  1.00000000 & -0.05109599 & -0.25551676\\\\\n",
       "\tBRKNHOME & -0.06824661 &  0.02492273 & -0.06087286 & -0.03063772 & -0.05109599 &  1.00000000 &  0.03028934\\\\\n",
       "\tSIBLINGS & -0.14989919 &  0.11132678 & -0.24271656 & -0.30192343 & -0.25551676 &  0.03028934 &  1.00000000\\\\\n",
       "\\end{tabular}\n"
      ],
      "text/markdown": [
       "\n",
       "| <!--/--> | EDUC | EXPER | ABILITY | MOTHERED | FATHERED | BRKNHOME | SIBLINGS | \n",
       "|---|---|---|---|---|---|---|\n",
       "| EDUC |  1.00000000 | -0.18087264 |  0.45193465 |  0.30006708 |  0.32250694 | -0.06824661 | -0.14989919 | \n",
       "| EXPER | -0.18087264 |  1.00000000 | -0.22215626 | -0.14032375 | -0.14724716 |  0.02492273 |  0.11132678 | \n",
       "| ABILITY |  0.45193465 | -0.22215626 |  1.00000000 |  0.45012560 |  0.44916014 | -0.06087286 | -0.24271656 | \n",
       "| MOTHERED |  0.30006708 | -0.14032375 |  0.45012560 |  1.00000000 |  0.67852304 | -0.03063772 | -0.30192343 | \n",
       "| FATHERED |  0.32250694 | -0.14724716 |  0.44916014 |  0.67852304 |  1.00000000 | -0.05109599 | -0.25551676 | \n",
       "| BRKNHOME | -0.06824661 |  0.02492273 | -0.06087286 | -0.03063772 | -0.05109599 |  1.00000000 |  0.03028934 | \n",
       "| SIBLINGS | -0.14989919 |  0.11132678 | -0.24271656 | -0.30192343 | -0.25551676 |  0.03028934 |  1.00000000 | \n",
       "\n",
       "\n"
      ],
      "text/plain": [
       "         EDUC        EXPER       ABILITY     MOTHERED    FATHERED   \n",
       "EDUC      1.00000000 -0.18087264  0.45193465  0.30006708  0.32250694\n",
       "EXPER    -0.18087264  1.00000000 -0.22215626 -0.14032375 -0.14724716\n",
       "ABILITY   0.45193465 -0.22215626  1.00000000  0.45012560  0.44916014\n",
       "MOTHERED  0.30006708 -0.14032375  0.45012560  1.00000000  0.67852304\n",
       "FATHERED  0.32250694 -0.14724716  0.44916014  0.67852304  1.00000000\n",
       "BRKNHOME -0.06824661  0.02492273 -0.06087286 -0.03063772 -0.05109599\n",
       "SIBLINGS -0.14989919  0.11132678 -0.24271656 -0.30192343 -0.25551676\n",
       "         BRKNHOME    SIBLINGS   \n",
       "EDUC     -0.06824661 -0.14989919\n",
       "EXPER     0.02492273  0.11132678\n",
       "ABILITY  -0.06087286 -0.24271656\n",
       "MOTHERED -0.03063772 -0.30192343\n",
       "FATHERED -0.05109599 -0.25551676\n",
       "BRKNHOME  1.00000000  0.03028934\n",
       "SIBLINGS  0.03028934  1.00000000"
      ]
     },
     "metadata": {},
     "output_type": "display_data"
    }
   ],
   "source": [
    "cor(wages[,c(\"EDUC\", \"EXPER\", \"ABILITY\", \"MOTHERED\", \"FATHERED\", \"BRKNHOME\", \"SIBLINGS\")])"
   ]
  },
  {
   "cell_type": "markdown",
   "metadata": {},
   "source": [
    "### Part 9"
   ]
  },
  {
   "cell_type": "code",
   "execution_count": 7,
   "metadata": {},
   "outputs": [
    {
     "data": {
      "text/html": [
       "<strong>1:</strong> 10.0494988167831"
      ],
      "text/latex": [
       "\\textbf{1:} 10.0494988167831"
      ],
      "text/markdown": [
       "**1:** 10.0494988167831"
      ],
      "text/plain": [
       "      1 \n",
       "10.0495 "
      ]
     },
     "metadata": {},
     "output_type": "display_data"
    }
   ],
   "source": [
    "logwage19 <- predict(model16, data.frame(EDUC=mean(wages$EDUC),\n",
    "                                         EXPER=mean(wages$EXPER),\n",
    "                                         ABILITY=mean(wages$ABILITY),\n",
    "                                         MOTHERED=mean(wages$MOTHERED),\n",
    "                                         FATHERED=mean(wages$FATHERED),\n",
    "                                         BRKNHOME=0,\n",
    "                                         SIBLINGS=mean(wages$SIBLINGS)))\n",
    "wage19 <- exp(logwage19)\n",
    "wage19"
   ]
  },
  {
   "cell_type": "markdown",
   "metadata": {},
   "source": [
    "### Part 11"
   ]
  },
  {
   "cell_type": "code",
   "execution_count": 8,
   "metadata": {},
   "outputs": [
    {
     "data": {
      "text/html": [
       "<strong>1:</strong> -6.71935978116536"
      ],
      "text/latex": [
       "\\textbf{1:} -6.71935978116536"
      ],
      "text/markdown": [
       "**1:** -6.71935978116536"
      ],
      "text/plain": [
       "       1 \n",
       "-6.71936 "
      ]
     },
     "metadata": {},
     "output_type": "display_data"
    }
   ],
   "source": [
    "# alternative approach\n",
    "wage110 <- exp(logwage19-0.0695576)\n",
    "100*(wage110-wage19)/(wage19)"
   ]
  },
  {
   "cell_type": "markdown",
   "metadata": {},
   "source": [
    "### Part  12"
   ]
  },
  {
   "cell_type": "code",
   "execution_count": 9,
   "metadata": {},
   "outputs": [
    {
     "data": {
      "text/plain": [
       "\n",
       "Call:\n",
       "lm(formula = LOGWAGE ~ EDUC + EXPER + ABILITY + MOTHERED + FATHERED + \n",
       "    BRKNHOME + SIBLINGS + EDUCABILITY, data = wages)\n",
       "\n",
       "Residuals:\n",
       "     Min       1Q   Median       3Q      Max \n",
       "-2.49817 -0.28416  0.02399  0.31495  2.17177 \n",
       "\n",
       "Coefficients:\n",
       "              Estimate Std. Error t value Pr(>|t|)    \n",
       "(Intercept)  1.8096712  0.0206638  87.577  < 2e-16 ***\n",
       "EDUC         0.1625970  0.0090037  18.059  < 2e-16 ***\n",
       "EXPER        0.0381290  0.0009062  42.075  < 2e-16 ***\n",
       "ABILITY      0.0947563  0.0052869  17.923  < 2e-16 ***\n",
       "MOTHERED     0.0008794  0.0017143   0.513   0.6080    \n",
       "FATHERED     0.0070017  0.0013506   5.184 2.19e-07 ***\n",
       "BRKNHOME    -0.0692269  0.0100764  -6.870 6.62e-12 ***\n",
       "SIBLINGS     0.0036743  0.0018108   2.029   0.0425 *  \n",
       "EDUCABILITY  0.0261659  0.0090901   2.879   0.0040 ** \n",
       "---\n",
       "Signif. codes:  0 ‘***’ 0.001 ‘**’ 0.01 ‘*’ 0.05 ‘.’ 0.1 ‘ ’ 1\n",
       "\n",
       "Residual standard error: 0.485 on 17910 degrees of freedom\n",
       "Multiple R-squared:  0.1573,\tAdjusted R-squared:  0.1569 \n",
       "F-statistic:   418 on 8 and 17910 DF,  p-value: < 2.2e-16\n"
      ]
     },
     "metadata": {},
     "output_type": "display_data"
    }
   ],
   "source": [
    "wages$EDUCABILITY <- wages$EDUC*wages$ABILITY\n",
    "# str(wages)\n",
    "\n",
    "# recomputing model\n",
    "model112 <- lm(LOGWAGE~EDUC+EXPER+ABILITY+MOTHERED+FATHERED+BRKNHOME+SIBLINGS+EDUCABILITY, data=wages)\n",
    "summary(model112)"
   ]
  },
  {
   "cell_type": "markdown",
   "metadata": {},
   "source": [
    "### Part 13"
   ]
  },
  {
   "cell_type": "code",
   "execution_count": 10,
   "metadata": {},
   "outputs": [
    {
     "data": {
      "text/plain": [
       "\n",
       "Call:\n",
       "lm(formula = LOGWAGE ~ Col + Grad + EXPER + ABILITY + MOTHERED + \n",
       "    FATHERED + BRKNHOME + SIBLINGS + EDUCABILITY, data = wages)\n",
       "\n",
       "Residuals:\n",
       "     Min       1Q   Median       3Q      Max \n",
       "-2.50076 -0.28350  0.02435  0.31494  2.17214 \n",
       "\n",
       "Coefficients:\n",
       "              Estimate Std. Error t value Pr(>|t|)    \n",
       "(Intercept)  1.8089190  0.0207061  87.362  < 2e-16 ***\n",
       "Col          0.1642301  0.0094466  17.385  < 2e-16 ***\n",
       "Grad         0.3138324  0.0268251  11.699  < 2e-16 ***\n",
       "EXPER        0.0381317  0.0009062  42.076  < 2e-16 ***\n",
       "ABILITY      0.0940600  0.0054256  17.336  < 2e-16 ***\n",
       "MOTHERED     0.0009019  0.0017148   0.526  0.59893    \n",
       "FATHERED     0.0069942  0.0013507   5.178 2.26e-07 ***\n",
       "BRKNHOME    -0.0691248  0.0100781  -6.859 7.17e-12 ***\n",
       "SIBLINGS     0.0036492  0.0018113   2.015  0.04395 *  \n",
       "EDUCABILITY  0.0282715  0.0098087   2.882  0.00395 ** \n",
       "---\n",
       "Signif. codes:  0 ‘***’ 0.001 ‘**’ 0.01 ‘*’ 0.05 ‘.’ 0.1 ‘ ’ 1\n",
       "\n",
       "Residual standard error: 0.485 on 17909 degrees of freedom\n",
       "Multiple R-squared:  0.1573,\tAdjusted R-squared:  0.1569 \n",
       "F-statistic: 371.5 on 9 and 17909 DF,  p-value: < 2.2e-16\n"
      ]
     },
     "metadata": {},
     "output_type": "display_data"
    },
    {
     "data": {
      "text/html": [
       "4213.07872038768"
      ],
      "text/latex": [
       "4213.07872038768"
      ],
      "text/markdown": [
       "4213.07872038768"
      ],
      "text/plain": [
       "[1] 4213.079"
      ]
     },
     "metadata": {},
     "output_type": "display_data"
    }
   ],
   "source": [
    "wages$HS <- ifelse(wages$EDUC==0, 1, 0)\n",
    "wages$Col <- ifelse(wages$EDUC==1, 1, 0)\n",
    "wages$Grad <- ifelse(wages$EDUC==2, 1, 0)\n",
    "\n",
    "# recomputing model\n",
    "model113 <- lm(LOGWAGE~Col+Grad+EXPER+ABILITY+MOTHERED+FATHERED+BRKNHOME+SIBLINGS+EDUCABILITY, data=wages)\n",
    "summary(model113)\n",
    "\n",
    "# compute SSE\n",
    "predict113 <- predict(model113, wages)\n",
    "sse113 <- sum((wages$LOGWAGE-predict113)^2)\n",
    "sse113\n",
    "\n",
    "# sst113 <- sum((wages$LOGWAGE-mean(wages$LOGWAGE))^2)\n",
    "# rsq113 <- 1 - (sse113/sst113)\n",
    "# rsq113"
   ]
  },
  {
   "cell_type": "markdown",
   "metadata": {},
   "source": [
    "### Question 2"
   ]
  },
  {
   "cell_type": "markdown",
   "metadata": {},
   "source": [
    "### Part 1"
   ]
  },
  {
   "cell_type": "code",
   "execution_count": 11,
   "metadata": {},
   "outputs": [
    {
     "name": "stdout",
     "output_type": "stream",
     "text": [
      "'data.frame':\t4521 obs. of  16 variables:\n",
      " $ age      : int  30 33 35 30 59 35 36 39 41 43 ...\n",
      " $ job      : Factor w/ 12 levels \"admin.\",\"blue-collar\",..: 11 8 5 5 2 5 7 10 3 8 ...\n",
      " $ marital  : Factor w/ 3 levels \"divorced\",\"married\",..: 2 2 3 2 2 3 2 2 2 2 ...\n",
      " $ education: Factor w/ 4 levels \"primary\",\"secondary\",..: 1 2 3 3 2 3 3 2 3 1 ...\n",
      " $ default  : Factor w/ 2 levels \"no\",\"yes\": 1 1 1 1 1 1 1 1 1 1 ...\n",
      " $ balance  : int  1787 4789 1350 1476 0 747 307 147 221 -88 ...\n",
      " $ housing  : Factor w/ 2 levels \"no\",\"yes\": 1 2 2 2 2 1 2 2 2 2 ...\n",
      " $ loan     : Factor w/ 2 levels \"no\",\"yes\": 1 2 1 2 1 1 1 1 1 2 ...\n",
      " $ contact  : Factor w/ 3 levels \"cellular\",\"telephone\",..: 1 1 1 3 3 1 1 1 3 1 ...\n",
      " $ day      : int  19 11 16 3 5 23 14 6 14 17 ...\n",
      " $ month    : Factor w/ 12 levels \"apr\",\"aug\",\"dec\",..: 11 9 1 7 9 4 9 9 9 1 ...\n",
      " $ duration : int  79 220 185 199 226 141 341 151 57 313 ...\n",
      " $ campaign : int  1 1 1 4 1 2 1 2 2 1 ...\n",
      " $ previous : int  0 4 1 0 0 3 2 0 0 2 ...\n",
      " $ poutcome : Factor w/ 3 levels \"failure\",\"success\",..: 3 1 1 3 3 1 2 3 3 1 ...\n",
      " $ subscribe: int  0 0 0 0 0 0 0 0 0 0 ...\n"
     ]
    },
    {
     "data": {
      "text/plain": [
       "\n",
       "\tWelch Two Sample t-test\n",
       "\n",
       "data:  bank$balance[bank$marital == \"married\"] and bank$balance[bank$marital == \"single\"]\n",
       "t = 0.027049, df = 2484.4, p-value = 0.9784\n",
       "alternative hypothesis: true difference in means is not equal to 0\n",
       "95 percent confidence interval:\n",
       " -198.8143  204.3760\n",
       "sample estimates:\n",
       "mean of x mean of y \n",
       " 1463.196  1460.415 \n"
      ]
     },
     "metadata": {},
     "output_type": "display_data"
    }
   ],
   "source": [
    "bank <- read.csv(\"csv/bank.csv\")\n",
    "str(bank)\n",
    "\n",
    "# t-test\n",
    "t.test(bank$balance[bank$marital==\"married\"], bank$balance[bank$marital==\"single\"])"
   ]
  },
  {
   "cell_type": "markdown",
   "metadata": {},
   "source": [
    "### Part 2"
   ]
  },
  {
   "cell_type": "code",
   "execution_count": 12,
   "metadata": {},
   "outputs": [
    {
     "data": {
      "text/plain": [
       "\n",
       "\tWelch Two Sample t-test\n",
       "\n",
       "data:  bank$balance[bank$marital == \"married\"] and bank$balance[bank$marital == \"divorced\"]\n",
       "t = 3.0122, df = 998.27, p-value = 0.002659\n",
       "alternative hypothesis: true difference in means is not equal to 0\n",
       "95 percent confidence interval:\n",
       " 118.7831 562.8277\n",
       "sample estimates:\n",
       "mean of x mean of y \n",
       " 1463.196  1122.390 \n"
      ]
     },
     "metadata": {},
     "output_type": "display_data"
    }
   ],
   "source": [
    "# t-test\n",
    "t.test(bank$balance[bank$marital==\"married\"], bank$balance[bank$marital==\"divorced\"])"
   ]
  },
  {
   "cell_type": "markdown",
   "metadata": {},
   "source": [
    "### Part 3"
   ]
  },
  {
   "cell_type": "code",
   "execution_count": 13,
   "metadata": {
    "collapsed": true
   },
   "outputs": [],
   "source": [
    "set.seed(2017)\n",
    "library(caTools)\n",
    "spl <- sample.split(bank$subscribe, SplitRatio=0.80)\n",
    "\n",
    "train <- subset(bank, spl==T)\n",
    "test <- subset(bank, spl==F)\n",
    "\n",
    "# table(train$subscribe)\n",
    "# table(test$subscribe)"
   ]
  },
  {
   "cell_type": "markdown",
   "metadata": {},
   "source": [
    "### Part 4"
   ]
  },
  {
   "cell_type": "code",
   "execution_count": 14,
   "metadata": {},
   "outputs": [
    {
     "data": {
      "text/plain": [
       "\n",
       "Call:\n",
       "glm(formula = subscribe ~ ., family = \"binomial\", data = train)\n",
       "\n",
       "Deviance Residuals: \n",
       "    Min       1Q   Median       3Q      Max  \n",
       "-4.1395  -0.3766  -0.2435  -0.1492   3.0258  \n",
       "\n",
       "Coefficients:\n",
       "                     Estimate Std. Error z value Pr(>|z|)    \n",
       "(Intercept)        -3.043e+00  6.184e-01  -4.920 8.65e-07 ***\n",
       "age                -4.135e-03  8.033e-03  -0.515 0.606700    \n",
       "jobblue-collar     -3.775e-01  2.693e-01  -1.402 0.161019    \n",
       "jobentrepreneur    -3.247e-01  4.199e-01  -0.773 0.439290    \n",
       "jobhousemaid       -3.170e-01  4.594e-01  -0.690 0.490171    \n",
       "jobmanagement      -2.644e-01  2.723e-01  -0.971 0.331609    \n",
       "jobretired          5.169e-01  3.589e-01   1.440 0.149821    \n",
       "jobself-employed   -4.753e-01  4.053e-01  -1.173 0.240916    \n",
       "jobservices        -1.606e-01  3.011e-01  -0.533 0.593733    \n",
       "jobstudent          2.147e-01  4.130e-01   0.520 0.603115    \n",
       "jobtechnician      -2.514e-01  2.527e-01  -0.995 0.319907    \n",
       "jobunemployed      -9.671e-01  4.827e-01  -2.004 0.045116 *  \n",
       "jobunknown         -2.333e-01  7.280e-01  -0.320 0.748606    \n",
       "maritalmarried     -2.280e-01  2.028e-01  -1.124 0.260879    \n",
       "maritalsingle      -1.498e-03  2.338e-01  -0.006 0.994886    \n",
       "educationsecondary  2.924e-01  2.327e-01   1.256 0.209016    \n",
       "educationtertiary   4.397e-01  2.689e-01   1.635 0.102017    \n",
       "educationunknown   -4.656e-01  3.972e-01  -1.172 0.241146    \n",
       "defaultyes          2.310e-01  5.300e-01   0.436 0.663017    \n",
       "balance             8.014e-07  1.831e-05   0.044 0.965088    \n",
       "housingyes         -2.671e-01  1.555e-01  -1.718 0.085869 .  \n",
       "loanyes            -6.962e-01  2.319e-01  -3.003 0.002674 ** \n",
       "contacttelephone   -9.412e-02  2.668e-01  -0.353 0.724271    \n",
       "contactunknown     -1.398e+00  2.550e-01  -5.482 4.21e-08 ***\n",
       "day                 8.601e-03  9.281e-03   0.927 0.354061    \n",
       "monthaug            5.612e-02  2.860e-01   0.196 0.844400    \n",
       "monthdec            9.080e-01  7.143e-01   1.271 0.203659    \n",
       "monthfeb            4.039e-01  3.357e-01   1.203 0.228849    \n",
       "monthjan           -7.839e-01  4.291e-01  -1.827 0.067711 .  \n",
       "monthjul           -4.617e-01  2.901e-01  -1.591 0.111520    \n",
       "monthjun            7.838e-01  3.404e-01   2.302 0.021310 *  \n",
       "monthmar            1.626e+00  4.513e-01   3.604 0.000314 ***\n",
       "monthmay           -2.683e-01  2.697e-01  -0.995 0.319810    \n",
       "monthnov           -6.956e-01  3.161e-01  -2.200 0.027784 *  \n",
       "monthoct            1.974e+00  3.846e-01   5.133 2.85e-07 ***\n",
       "monthsep            1.159e+00  4.456e-01   2.601 0.009300 ** \n",
       "duration            4.571e-03  2.379e-04  19.214  < 2e-16 ***\n",
       "campaign           -5.439e-02  3.123e-02  -1.742 0.081558 .  \n",
       "previous           -3.385e-02  3.952e-02  -0.857 0.391721    \n",
       "poutcomesuccess     1.669e+00  2.465e-01   6.770 1.28e-11 ***\n",
       "poutcomeunknown    -1.421e-01  2.461e-01  -0.578 0.563590    \n",
       "---\n",
       "Signif. codes:  0 ‘***’ 0.001 ‘**’ 0.01 ‘*’ 0.05 ‘.’ 0.1 ‘ ’ 1\n",
       "\n",
       "(Dispersion parameter for binomial family taken to be 1)\n",
       "\n",
       "    Null deviance: 2585.7  on 3616  degrees of freedom\n",
       "Residual deviance: 1709.9  on 3576  degrees of freedom\n",
       "AIC: 1791.9\n",
       "\n",
       "Number of Fisher Scoring iterations: 6\n"
      ]
     },
     "metadata": {},
     "output_type": "display_data"
    }
   ],
   "source": [
    "model24 <- glm(subscribe~., data=train, family=\"binomial\")\n",
    "summary(model24)"
   ]
  },
  {
   "cell_type": "markdown",
   "metadata": {},
   "source": [
    "### Part 5"
   ]
  },
  {
   "cell_type": "code",
   "execution_count": 15,
   "metadata": {},
   "outputs": [
    {
     "data": {
      "text/html": [
       "0.115288913489711"
      ],
      "text/latex": [
       "0.115288913489711"
      ],
      "text/markdown": [
       "0.115288913489711"
      ],
      "text/plain": [
       "[1] 0.1152889"
      ]
     },
     "metadata": {},
     "output_type": "display_data"
    },
    {
     "data": {
      "text/html": [
       "0.115288913464197"
      ],
      "text/latex": [
       "0.115288913464197"
      ],
      "text/markdown": [
       "0.115288913464197"
      ],
      "text/plain": [
       "[1] 0.1152889"
      ]
     },
     "metadata": {},
     "output_type": "display_data"
    }
   ],
   "source": [
    "# predicted average\n",
    "predict25 <- predict(model24, train, type=\"response\")\n",
    "mean(predict25)\n",
    "\n",
    "# training set actual average\n",
    "mean(train$subscribe)\n",
    "\n",
    "# asssume small deviation is due to approximation error"
   ]
  },
  {
   "cell_type": "markdown",
   "metadata": {},
   "source": [
    "### Part 8"
   ]
  },
  {
   "cell_type": "code",
   "execution_count": 16,
   "metadata": {},
   "outputs": [
    {
     "data": {
      "text/html": [
       "2.71828182845905"
      ],
      "text/latex": [
       "2.71828182845905"
      ],
      "text/markdown": [
       "2.71828182845905"
      ],
      "text/plain": [
       "[1] 2.718282"
      ]
     },
     "metadata": {},
     "output_type": "display_data"
    }
   ],
   "source": [
    "exp(1)"
   ]
  },
  {
   "cell_type": "markdown",
   "metadata": {},
   "source": [
    "### Part 9"
   ]
  },
  {
   "cell_type": "code",
   "execution_count": 17,
   "metadata": {},
   "outputs": [
    {
     "data": {
      "text/html": [
       "0.33868354323822"
      ],
      "text/latex": [
       "0.33868354323822"
      ],
      "text/markdown": [
       "0.33868354323822"
      ],
      "text/plain": [
       "[1] 0.3386835"
      ]
     },
     "metadata": {},
     "output_type": "display_data"
    }
   ],
   "source": [
    "nullModel <- glm(subscribe~1, data=train, family=\"binomial\")\n",
    "mcfadden <- 1 - (logLik(model24)[1])/(logLik(nullModel)[1])\n",
    "mcfadden"
   ]
  },
  {
   "cell_type": "markdown",
   "metadata": {},
   "source": [
    "### Part 10"
   ]
  },
  {
   "cell_type": "code",
   "execution_count": 18,
   "metadata": {},
   "outputs": [
    {
     "data": {
      "text/plain": [
       "       \n",
       "          0   1\n",
       "  FALSE 769  80\n",
       "  TRUE   31  24"
      ]
     },
     "metadata": {},
     "output_type": "display_data"
    },
    {
     "data": {
      "text/html": [
       "0.877212389380531"
      ],
      "text/latex": [
       "0.877212389380531"
      ],
      "text/markdown": [
       "0.877212389380531"
      ],
      "text/plain": [
       "[1] 0.8772124"
      ]
     },
     "metadata": {},
     "output_type": "display_data"
    }
   ],
   "source": [
    "# confusion matrix\n",
    "predict210 <- predict(model24, test, type=\"response\")\n",
    "table(predict210>0.5, test$subscribe)\n",
    "\n",
    "# accuracy\n",
    "(769+24)/(769+80+31+24)"
   ]
  },
  {
   "cell_type": "markdown",
   "metadata": {},
   "source": [
    "### Part 12"
   ]
  },
  {
   "cell_type": "code",
   "execution_count": 23,
   "metadata": {},
   "outputs": [
    {
     "data": {
      "text/plain": [
       "\n",
       "Call:\n",
       "glm(formula = subscribe ~ . - duration, family = \"binomial\", \n",
       "    data = train)\n",
       "\n",
       "Deviance Residuals: \n",
       "    Min       1Q   Median       3Q      Max  \n",
       "-1.9609  -0.4864  -0.3807  -0.2632   2.8931  \n",
       "\n",
       "Coefficients:\n",
       "                     Estimate Std. Error z value Pr(>|z|)    \n",
       "(Intercept)        -2.081e+00  5.426e-01  -3.834 0.000126 ***\n",
       "age                 5.018e-03  6.935e-03   0.724 0.469332    \n",
       "jobblue-collar     -4.632e-02  2.352e-01  -0.197 0.843858    \n",
       "jobentrepreneur     2.969e-01  3.480e-01   0.853 0.393598    \n",
       "jobhousemaid        2.046e-01  3.935e-01   0.520 0.603052    \n",
       "jobmanagement       5.061e-02  2.387e-01   0.212 0.832093    \n",
       "jobretired          7.100e-01  3.093e-01   2.295 0.021715 *  \n",
       "jobself-employed   -1.064e-01  3.539e-01  -0.301 0.763633    \n",
       "jobservices         1.231e-01  2.590e-01   0.475 0.634643    \n",
       "jobstudent          3.490e-01  3.769e-01   0.926 0.354518    \n",
       "jobtechnician      -1.323e-01  2.224e-01  -0.595 0.551851    \n",
       "jobunemployed      -2.890e-01  3.961e-01  -0.730 0.465596    \n",
       "jobunknown          1.384e-01  6.316e-01   0.219 0.826539    \n",
       "maritalmarried     -3.048e-01  1.760e-01  -1.732 0.083269 .  \n",
       "maritalsingle       1.158e-01  2.015e-01   0.575 0.565364    \n",
       "educationsecondary  3.452e-01  2.023e-01   1.706 0.087952 .  \n",
       "educationtertiary   3.636e-01  2.347e-01   1.549 0.121378    \n",
       "educationunknown   -2.849e-01  3.560e-01  -0.800 0.423489    \n",
       "defaultyes          6.471e-02  4.569e-01   0.142 0.887358    \n",
       "balance            -1.202e-05  1.684e-05  -0.714 0.475196    \n",
       "housingyes         -1.691e-01  1.333e-01  -1.268 0.204633    \n",
       "loanyes            -5.569e-01  1.969e-01  -2.828 0.004680 ** \n",
       "contacttelephone   -1.621e-01  2.211e-01  -0.733 0.463343    \n",
       "contactunknown     -1.061e+00  2.169e-01  -4.894  9.9e-07 ***\n",
       "day                 5.967e-03  8.004e-03   0.746 0.455956    \n",
       "monthaug           -1.220e-01  2.488e-01  -0.490 0.623942    \n",
       "monthdec            9.002e-01  5.857e-01   1.537 0.124297    \n",
       "monthfeb            1.324e-01  2.958e-01   0.448 0.654314    \n",
       "monthjan           -6.786e-01  3.620e-01  -1.874 0.060871 .  \n",
       "monthjul           -4.075e-01  2.499e-01  -1.631 0.102970    \n",
       "monthjun            4.613e-01  2.965e-01   1.556 0.119820    \n",
       "monthmar            9.866e-01  4.149e-01   2.378 0.017422 *  \n",
       "monthmay           -3.645e-01  2.343e-01  -1.556 0.119794    \n",
       "monthnov           -6.399e-01  2.734e-01  -2.341 0.019257 *  \n",
       "monthoct            1.551e+00  3.392e-01   4.573  4.8e-06 ***\n",
       "monthsep            7.086e-01  4.116e-01   1.721 0.085199 .  \n",
       "campaign           -5.685e-02  2.609e-02  -2.179 0.029362 *  \n",
       "previous           -7.492e-03  3.420e-02  -0.219 0.826607    \n",
       "poutcomesuccess     1.566e+00  2.143e-01   7.309  2.7e-13 ***\n",
       "poutcomeunknown    -4.138e-03  2.131e-01  -0.019 0.984509    \n",
       "---\n",
       "Signif. codes:  0 ‘***’ 0.001 ‘**’ 0.01 ‘*’ 0.05 ‘.’ 0.1 ‘ ’ 1\n",
       "\n",
       "(Dispersion parameter for binomial family taken to be 1)\n",
       "\n",
       "    Null deviance: 2585.7  on 3616  degrees of freedom\n",
       "Residual deviance: 2225.7  on 3577  degrees of freedom\n",
       "AIC: 2305.7\n",
       "\n",
       "Number of Fisher Scoring iterations: 6\n"
      ]
     },
     "metadata": {},
     "output_type": "display_data"
    },
    {
     "data": {
      "text/plain": [
       "       \n",
       "          0   1\n",
       "  FALSE 785  96\n",
       "  TRUE   15   8"
      ]
     },
     "metadata": {},
     "output_type": "display_data"
    },
    {
     "data": {
      "text/html": [
       "0.877212389380531"
      ],
      "text/latex": [
       "0.877212389380531"
      ],
      "text/markdown": [
       "0.877212389380531"
      ],
      "text/plain": [
       "[1] 0.8772124"
      ]
     },
     "metadata": {},
     "output_type": "display_data"
    }
   ],
   "source": [
    "# refitting model\n",
    "model212 <- glm(subscribe~.-duration, data=train, family=\"binomial\")\n",
    "summary(model212)\n",
    "\n",
    "# confusion matrix\n",
    "predict212 <- predict(model212, test, type=\"response\")\n",
    "table(predict212>0.5, test$subscribe)\n",
    "\n",
    "# accuracy\n",
    "(785+8)/(785+8+15+96)"
   ]
  },
  {
   "cell_type": "markdown",
   "metadata": {},
   "source": [
    "### Part 13"
   ]
  },
  {
   "cell_type": "code",
   "execution_count": 20,
   "metadata": {},
   "outputs": [
    {
     "data": {
      "text/plain": [
       "\n",
       "  0   1 \n",
       "800 104 "
      ]
     },
     "metadata": {},
     "output_type": "display_data"
    },
    {
     "data": {
      "text/html": [
       "0.884955752212389"
      ],
      "text/latex": [
       "0.884955752212389"
      ],
      "text/markdown": [
       "0.884955752212389"
      ],
      "text/plain": [
       "[1] 0.8849558"
      ]
     },
     "metadata": {},
     "output_type": "display_data"
    }
   ],
   "source": [
    "# baseline model, majority outcome in training set is 0\n",
    "table(test$subscribe)\n",
    "\n",
    "# accuracy of baseline mode\n",
    "(800)/(800+104)"
   ]
  },
  {
   "cell_type": "markdown",
   "metadata": {},
   "source": [
    "### Part 14"
   ]
  },
  {
   "cell_type": "code",
   "execution_count": 21,
   "metadata": {},
   "outputs": [
    {
     "data": {
      "text/html": [
       "0.899921654701573"
      ],
      "text/latex": [
       "0.899921654701573"
      ],
      "text/markdown": [
       "0.899921654701573"
      ],
      "text/plain": [
       "[1] 0.8999217"
      ]
     },
     "metadata": {},
     "output_type": "display_data"
    },
    {
     "data": {
      "text/html": [
       "0.232012697949726"
      ],
      "text/latex": [
       "0.232012697949726"
      ],
      "text/markdown": [
       "0.232012697949726"
      ],
      "text/plain": [
       "[1] 0.2320127"
      ]
     },
     "metadata": {},
     "output_type": "display_data"
    }
   ],
   "source": [
    "# not subscribing\n",
    "predict214NS <- mean(1-predict(model212, subset(train, train$subscribe==0), type=\"response\"))\n",
    "\n",
    "# subscribing\n",
    "predict214S <- mean(predict(model212, subset(train, train$subscribe==1), type=\"response\"))\n",
    "\n",
    "predict214NS\n",
    "predict214S"
   ]
  },
  {
   "cell_type": "markdown",
   "metadata": {},
   "source": [
    "### Part 15"
   ]
  },
  {
   "cell_type": "code",
   "execution_count": 22,
   "metadata": {},
   "outputs": [
    {
     "data": {
      "text/html": [
       "-0.131934352651299"
      ],
      "text/latex": [
       "-0.131934352651299"
      ],
      "text/markdown": [
       "-0.131934352651299"
      ],
      "text/plain": [
       "[1] -0.1319344"
      ]
     },
     "metadata": {},
     "output_type": "display_data"
    },
    {
     "data": {
      "text/html": [
       "0"
      ],
      "text/latex": [
       "0"
      ],
      "text/markdown": [
       "0"
      ],
      "text/plain": [
       "[1] 0"
      ]
     },
     "metadata": {},
     "output_type": "display_data"
    }
   ],
   "source": [
    "# model: not subscribing\n",
    "predict215NS <- mean(predict(model212, subset(train, train$subscribe==0), type=\"response\"))\n",
    "# model: subscribing\n",
    "predict215S <- mean(predict(model212, subset(train, train$subscribe==1), type=\"response\"))\n",
    "\n",
    "measure215M <- predict215NS - predict215S\n",
    "measure215M\n",
    "\n",
    "# baseline: subscribing (NS)\n",
    "predict215NSB <- mean(predict(nullModel, subset(train, train$subscribe==0), type=\"response\"))\n",
    "# baseline: subscribing (S)\n",
    "predict215SB <- mean(predict(nullModel, subset(train, train$subscribe==1), type=\"response\"))\n",
    "\n",
    "measure215B <- predict215NSB - predict215SB\n",
    "measure215B"
   ]
  }
 ],
 "metadata": {
  "kernelspec": {
   "display_name": "R",
   "language": "R",
   "name": "ir"
  },
  "language_info": {
   "codemirror_mode": "r",
   "file_extension": ".r",
   "mimetype": "text/x-r-source",
   "name": "R",
   "pygments_lexer": "r",
   "version": "3.4.0"
  }
 },
 "nbformat": 4,
 "nbformat_minor": 2
}
