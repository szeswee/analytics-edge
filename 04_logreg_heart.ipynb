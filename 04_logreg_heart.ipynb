{
 "cells": [
  {
   "cell_type": "markdown",
   "metadata": {},
   "source": [
    "The risk of having CHD ten years from now can be predicted from data available today on patients such as blood pressure, cholesterol level, smoking habits, age.Using a simple logistic regression model it is possible to do predictions, clinical prediction rules and new markets for drugs and prevention programmes.\n",
    "\n",
    "In 1991, Framingham Heart Study (FHS) embarked on an ambitious and landmark project in health research. At that time, little was known about the causes of heart disease and stroke, and death rates for cardiovascular diseases were increasing. The objective of FHS was to identify the common factors on characteristics that contribute to CVD by following its developmentover a long period of time in a large group of patients who had not yet developed overt symptomsof CVD or suffered a heart attack/stroke.\n",
    "\n",
    "Most of what is known today about the risks of having heart dieseases come from the FHS, albeit calibrated for local populations."
   ]
  },
  {
   "cell_type": "code",
   "execution_count": 4,
   "metadata": {},
   "outputs": [
    {
     "name": "stdout",
     "output_type": "stream",
     "text": [
      "'data.frame':\t11627 obs. of  39 variables:\n",
      " $ RANDID  : int  2448 2448 6238 6238 6238 9428 9428 10552 10552 11252 ...\n",
      " $ SEX     : int  1 1 2 2 2 1 1 2 2 2 ...\n",
      " $ TOTCHOL : int  195 209 250 260 237 245 283 225 232 285 ...\n",
      " $ AGE     : int  39 52 46 52 58 48 54 61 67 46 ...\n",
      " $ SYSBP   : num  106 121 121 105 108 ...\n",
      " $ DIABP   : num  70 66 81 69.5 66 80 89 95 109 84 ...\n",
      " $ CURSMOKE: int  0 0 0 0 0 1 1 1 1 1 ...\n",
      " $ CIGPDAY : int  0 0 0 0 0 20 30 30 20 23 ...\n",
      " $ BMI     : num  27 NA 28.7 29.4 28.5 ...\n",
      " $ DIABETES: int  0 0 0 0 0 0 0 0 0 0 ...\n",
      " $ BPMEDS  : int  0 0 0 0 0 0 0 0 0 0 ...\n",
      " $ HEARTRTE: int  80 69 95 80 80 75 75 65 60 85 ...\n",
      " $ GLUCOSE : int  77 92 76 86 71 70 87 103 89 85 ...\n",
      " $ educ    : int  4 4 2 2 2 1 1 3 3 3 ...\n",
      " $ PREVCHD : int  0 0 0 0 0 0 0 0 0 0 ...\n",
      " $ PREVAP  : int  0 0 0 0 0 0 0 0 0 0 ...\n",
      " $ PREVMI  : int  0 0 0 0 0 0 0 0 0 0 ...\n",
      " $ PREVSTRK: int  0 0 0 0 0 0 0 0 0 0 ...\n",
      " $ PREVHYP : int  0 0 0 0 0 0 0 1 1 0 ...\n",
      " $ TIME    : int  0 4628 0 2156 4344 0 2199 0 1977 0 ...\n",
      " $ PERIOD  : int  1 3 1 2 3 1 2 1 2 1 ...\n",
      " $ HDLC    : int  NA 31 NA NA 54 NA NA NA NA NA ...\n",
      " $ LDLC    : int  NA 178 NA NA 141 NA NA NA NA NA ...\n",
      " $ DEATH   : int  0 0 0 0 0 0 0 1 1 0 ...\n",
      " $ ANGINA  : int  0 0 0 0 0 0 0 0 0 0 ...\n",
      " $ HOSPMI  : int  1 1 0 0 0 0 0 0 0 0 ...\n",
      " $ MI_FCHD : int  1 1 0 0 0 0 0 0 0 0 ...\n",
      " $ ANYCHD  : int  1 1 0 0 0 0 0 0 0 0 ...\n",
      " $ STROKE  : int  0 0 0 0 0 0 0 1 1 0 ...\n",
      " $ CVD     : int  1 1 0 0 0 0 0 1 1 0 ...\n",
      " $ HYPERTEN: int  0 0 0 0 0 0 0 1 1 1 ...\n",
      " $ TIMEAP  : int  8766 8766 8766 8766 8766 8766 8766 2956 2956 8766 ...\n",
      " $ TIMEMI  : int  6438 6438 8766 8766 8766 8766 8766 2956 2956 8766 ...\n",
      " $ TIMEMIFC: int  6438 6438 8766 8766 8766 8766 8766 2956 2956 8766 ...\n",
      " $ TIMECHD : int  6438 6438 8766 8766 8766 8766 8766 2956 2956 8766 ...\n",
      " $ TIMESTRK: int  8766 8766 8766 8766 8766 8766 8766 2089 2089 8766 ...\n",
      " $ TIMECVD : int  6438 6438 8766 8766 8766 8766 8766 2089 2089 8766 ...\n",
      " $ TIMEDTH : int  8766 8766 8766 8766 8766 8766 8766 2956 2956 8766 ...\n",
      " $ TIMEHYP : int  8766 8766 8766 8766 8766 8766 8766 0 0 4285 ...\n"
     ]
    }
   ],
   "source": [
    "heart <- read.csv(\"csv/framingham.csv\")\n",
    "str(heart)"
   ]
  },
  {
   "cell_type": "markdown",
   "metadata": {},
   "source": [
    "Here, we will only look at the first period where people do not have CHD, so that we can observe how factors affect the prevalence of CHD in the long run."
   ]
  },
  {
   "cell_type": "code",
   "execution_count": 7,
   "metadata": {},
   "outputs": [
    {
     "name": "stdout",
     "output_type": "stream",
     "text": [
      "'data.frame':\t4240 obs. of  39 variables:\n",
      " $ RANDID  : int  2448 6238 9428 10552 11252 11263 12629 12806 14367 16365 ...\n",
      " $ SEX     : int  1 2 1 2 2 2 2 2 1 1 ...\n",
      " $ TOTCHOL : int  195 250 245 225 285 228 205 313 260 225 ...\n",
      " $ AGE     : int  39 46 48 61 46 43 63 45 52 43 ...\n",
      " $ SYSBP   : num  106 121 128 150 130 ...\n",
      " $ DIABP   : num  70 81 80 95 84 110 71 71 89 107 ...\n",
      " $ CURSMOKE: int  0 0 1 1 1 0 0 1 0 1 ...\n",
      " $ CIGPDAY : int  0 0 20 30 23 0 0 20 0 30 ...\n",
      " $ BMI     : num  27 28.7 25.3 28.6 23.1 ...\n",
      " $ DIABETES: int  0 0 0 0 0 0 0 0 0 0 ...\n",
      " $ BPMEDS  : int  0 0 0 0 0 0 0 0 0 0 ...\n",
      " $ HEARTRTE: int  80 95 75 65 85 77 60 79 76 93 ...\n",
      " $ GLUCOSE : int  77 76 70 103 85 99 85 78 79 88 ...\n",
      " $ educ    : int  4 2 1 3 3 2 1 2 1 1 ...\n",
      " $ PREVCHD : int  0 0 0 0 0 0 0 0 0 0 ...\n",
      " $ PREVAP  : int  0 0 0 0 0 0 0 0 0 0 ...\n",
      " $ PREVMI  : int  0 0 0 0 0 0 0 0 0 0 ...\n",
      " $ PREVSTRK: int  0 0 0 0 0 0 0 0 0 0 ...\n",
      " $ PREVHYP : int  0 0 0 1 0 1 0 0 1 1 ...\n",
      " $ TIME    : int  0 0 0 0 0 0 0 0 0 0 ...\n",
      " $ PERIOD  : int  1 1 1 1 1 1 1 1 1 1 ...\n",
      " $ HDLC    : int  NA NA NA NA NA NA NA NA NA NA ...\n",
      " $ LDLC    : int  NA NA NA NA NA NA NA NA NA NA ...\n",
      " $ DEATH   : int  0 0 0 1 0 0 0 0 0 0 ...\n",
      " $ ANGINA  : int  0 0 0 0 0 0 1 0 0 0 ...\n",
      " $ HOSPMI  : int  1 0 0 0 0 0 0 0 0 0 ...\n",
      " $ MI_FCHD : int  1 0 0 0 0 1 0 0 0 0 ...\n",
      " $ ANYCHD  : int  1 0 0 0 0 1 1 0 0 0 ...\n",
      " $ STROKE  : int  0 0 0 1 0 0 0 0 0 0 ...\n",
      " $ CVD     : int  1 0 0 1 0 1 0 0 0 0 ...\n",
      " $ HYPERTEN: int  0 0 0 1 1 1 1 1 1 1 ...\n",
      " $ TIMEAP  : int  8766 8766 8766 2956 8766 8766 373 8766 8766 8766 ...\n",
      " $ TIMEMI  : int  6438 8766 8766 2956 8766 8766 8766 8766 8766 8766 ...\n",
      " $ TIMEMIFC: int  6438 8766 8766 2956 8766 5719 8766 8766 8766 8766 ...\n",
      " $ TIMECHD : int  6438 8766 8766 2956 8766 5719 373 8766 8766 8766 ...\n",
      " $ TIMESTRK: int  8766 8766 8766 2089 8766 8766 8766 8766 8766 8766 ...\n",
      " $ TIMECVD : int  6438 8766 8766 2089 8766 5719 8766 8766 8766 8766 ...\n",
      " $ TIMEDTH : int  8766 8766 8766 2956 8766 8766 8766 8766 8766 8766 ...\n",
      " $ TIMEHYP : int  8766 8766 8766 0 4285 0 2212 8679 0 0 ...\n"
     ]
    }
   ],
   "source": [
    "heart1 <- subset(heart, PERIOD==1 & PREVCHD==0)\n",
    "str(heart1)\n",
    "\n",
    "heart1$TENCHD <- as.integer(heart1$TIMECHD/365<=10)"
   ]
  },
  {
   "cell_type": "code",
   "execution_count": 11,
   "metadata": {},
   "outputs": [
    {
     "name": "stdout",
     "output_type": "stream",
     "text": [
      "'data.frame':\t4240 obs. of  22 variables:\n",
      " $ RANDID  : int  2448 6238 9428 10552 11252 11263 12629 12806 14367 16365 ...\n",
      " $ SEX     : int  1 2 1 2 2 2 2 2 1 1 ...\n",
      " $ TOTCHOL : int  195 250 245 225 285 228 205 313 260 225 ...\n",
      " $ AGE     : int  39 46 48 61 46 43 63 45 52 43 ...\n",
      " $ SYSBP   : num  106 121 128 150 130 ...\n",
      " $ DIABP   : num  70 81 80 95 84 110 71 71 89 107 ...\n",
      " $ CURSMOKE: int  0 0 1 1 1 0 0 1 0 1 ...\n",
      " $ CIGPDAY : int  0 0 20 30 23 0 0 20 0 30 ...\n",
      " $ BMI     : num  27 28.7 25.3 28.6 23.1 ...\n",
      " $ DIABETES: int  0 0 0 0 0 0 0 0 0 0 ...\n",
      " $ BPMEDS  : int  0 0 0 0 0 0 0 0 0 0 ...\n",
      " $ HEARTRTE: int  80 95 75 65 85 77 60 79 76 93 ...\n",
      " $ GLUCOSE : int  77 76 70 103 85 99 85 78 79 88 ...\n",
      " $ educ    : int  4 2 1 3 3 2 1 2 1 1 ...\n",
      " $ PREVCHD : int  0 0 0 0 0 0 0 0 0 0 ...\n",
      " $ PREVAP  : int  0 0 0 0 0 0 0 0 0 0 ...\n",
      " $ PREVMI  : int  0 0 0 0 0 0 0 0 0 0 ...\n",
      " $ PREVSTRK: int  0 0 0 0 0 0 0 0 0 0 ...\n",
      " $ PREVHYP : int  0 0 0 1 0 1 0 0 1 1 ...\n",
      " $ TIME    : int  0 0 0 0 0 0 0 0 0 0 ...\n",
      " $ PERIOD  : int  1 1 1 1 1 1 1 1 1 1 ...\n",
      " $ TENCHD  : int  0 0 0 1 0 0 1 0 0 0 ...\n"
     ]
    },
    {
     "data": {
      "text/html": [
       "<ol class=list-inline>\n",
       "\t<li>1</li>\n",
       "\t<li>2</li>\n",
       "\t<li>3</li>\n",
       "\t<li>4</li>\n",
       "\t<li>5</li>\n",
       "\t<li>6</li>\n",
       "\t<li>7</li>\n",
       "\t<li>8</li>\n",
       "\t<li>9</li>\n",
       "\t<li>10</li>\n",
       "\t<li>11</li>\n",
       "\t<li>12</li>\n",
       "\t<li>13</li>\n",
       "\t<li>14</li>\n",
       "\t<li>15</li>\n",
       "\t<li>16</li>\n",
       "\t<li>17</li>\n",
       "\t<li>18</li>\n",
       "\t<li>19</li>\n",
       "\t<li>20</li>\n",
       "\t<li>21</li>\n",
       "\t<li>40</li>\n",
       "</ol>\n"
      ],
      "text/latex": [
       "\\begin{enumerate*}\n",
       "\\item 1\n",
       "\\item 2\n",
       "\\item 3\n",
       "\\item 4\n",
       "\\item 5\n",
       "\\item 6\n",
       "\\item 7\n",
       "\\item 8\n",
       "\\item 9\n",
       "\\item 10\n",
       "\\item 11\n",
       "\\item 12\n",
       "\\item 13\n",
       "\\item 14\n",
       "\\item 15\n",
       "\\item 16\n",
       "\\item 17\n",
       "\\item 18\n",
       "\\item 19\n",
       "\\item 20\n",
       "\\item 21\n",
       "\\item 40\n",
       "\\end{enumerate*}\n"
      ],
      "text/markdown": [
       "1. 1\n",
       "2. 2\n",
       "3. 3\n",
       "4. 4\n",
       "5. 5\n",
       "6. 6\n",
       "7. 7\n",
       "8. 8\n",
       "9. 9\n",
       "10. 10\n",
       "11. 11\n",
       "12. 12\n",
       "13. 13\n",
       "14. 14\n",
       "15. 15\n",
       "16. 16\n",
       "17. 17\n",
       "18. 18\n",
       "19. 19\n",
       "20. 20\n",
       "21. 21\n",
       "22. 40\n",
       "\n",
       "\n"
      ],
      "text/plain": [
       " [1]  1  2  3  4  5  6  7  8  9 10 11 12 13 14 15 16 17 18 19 20 21 40"
      ]
     },
     "metadata": {},
     "output_type": "display_data"
    }
   ],
   "source": [
    "heart2 <- heart1[,c(1:21,40)] # we only want dataframe factors indexes 1 to 21, and factor 40 (TENCHD)\n",
    "str(heart2)\n",
    "c(1:21,40)"
   ]
  },
  {
   "cell_type": "code",
   "execution_count": 28,
   "metadata": {},
   "outputs": [
    {
     "data": {
      "text/plain": [
       "\n",
       "Call:\n",
       "glm(formula = TENCHD ~ ., family = \"binomial\", data = heart_train)\n",
       "\n",
       "Deviance Residuals: \n",
       "    Min       1Q   Median       3Q      Max  \n",
       "-2.2162  -0.6057  -0.4474  -0.3029   2.7904  \n",
       "\n",
       "Coefficients: (5 not defined because of singularities)\n",
       "              Estimate Std. Error z value Pr(>|z|)    \n",
       "(Intercept) -6.874e+00  8.700e-01  -7.902 2.75e-15 ***\n",
       "RANDID      -3.594e-09  2.061e-08  -0.174 0.861547    \n",
       "SEX         -5.471e-01  1.331e-01  -4.111 3.94e-05 ***\n",
       "TOTCHOL      1.887e-03  1.376e-03   1.371 0.170246    \n",
       "AGE          5.475e-02  8.083e-03   6.773 1.26e-11 ***\n",
       "SYSBP        1.231e-02  4.684e-03   2.628 0.008601 ** \n",
       "DIABP       -2.138e-03  7.979e-03  -0.268 0.788704    \n",
       "CURSMOKE    -1.219e-01  1.943e-01  -0.628 0.530190    \n",
       "CIGPDAY      2.168e-02  7.823e-03   2.771 0.005584 ** \n",
       "BMI          1.234e-02  1.526e-02   0.809 0.418782    \n",
       "DIABETES    -1.934e-01  3.897e-01  -0.496 0.619678    \n",
       "BPMEDS       7.219e-02  3.027e-01   0.238 0.811495    \n",
       "HEARTRTE    -1.251e-03  5.104e-03  -0.245 0.806357    \n",
       "GLUCOSE      1.034e-02  3.056e-03   3.384 0.000715 ***\n",
       "educ        -4.412e-02  6.049e-02  -0.729 0.465841    \n",
       "PREVCHD             NA         NA      NA       NA    \n",
       "PREVAP              NA         NA      NA       NA    \n",
       "PREVMI              NA         NA      NA       NA    \n",
       "PREVSTRK    -2.027e-01  6.845e-01  -0.296 0.767168    \n",
       "PREVHYP      2.609e-01  1.669e-01   1.563 0.117958    \n",
       "TIME                NA         NA      NA       NA    \n",
       "PERIOD              NA         NA      NA       NA    \n",
       "---\n",
       "Signif. codes:  0 ‘***’ 0.001 ‘**’ 0.01 ‘*’ 0.05 ‘.’ 0.1 ‘ ’ 1\n",
       "\n",
       "(Dispersion parameter for binomial family taken to be 1)\n",
       "\n",
       "    Null deviance: 2037.5  on 2383  degrees of freedom\n",
       "Residual deviance: 1834.1  on 2367  degrees of freedom\n",
       "  (372 observations deleted due to missingness)\n",
       "AIC: 1868.1\n",
       "\n",
       "Number of Fisher Scoring iterations: 5\n"
      ]
     },
     "metadata": {},
     "output_type": "display_data"
    }
   ],
   "source": [
    "library(\"caTools\") # import 'caTools' library\n",
    "# ?sample.split\n",
    "\n",
    "# uses sample.split to split data into 65:35 ratio by maintaining ratio of TENCHD variable in both sets\n",
    "set.seed(1) # to ensure reproducible results\n",
    "splitcrit <- sample.split(heart2$TENCHD, SplitRatio=0.65)\n",
    "heart_train <- subset(heart2, splitcrit==T)\n",
    "heart_test <- subset(heart2, splitcrit==F)\n",
    "\n",
    "# create logistic regression model using all predictors\n",
    "model1 <- glm(TENCHD~., data=heart_train, family=\"binomial\")\n",
    "summary(model1)"
   ]
  },
  {
   "cell_type": "code",
   "execution_count": 44,
   "metadata": {},
   "outputs": [
    {
     "data": {
      "text/plain": [
       "\n",
       "Call:\n",
       "glm(formula = TENCHD ~ SEX + TOTCHOL + AGE + SYSBP + DIABP + \n",
       "    CURSMOKE + CIGPDAY + BMI + DIABETES + BPMEDS + HEARTRTE + \n",
       "    GLUCOSE + educ + PREVSTRK + PREVHYP, family = \"binomial\", \n",
       "    data = heart_train)\n",
       "\n",
       "Deviance Residuals: \n",
       "    Min       1Q   Median       3Q      Max  \n",
       "-2.2221  -0.6061  -0.4469  -0.3030   2.7865  \n",
       "\n",
       "Coefficients:\n",
       "             Estimate Std. Error z value Pr(>|z|)    \n",
       "(Intercept) -6.893440   0.863061  -7.987 1.38e-15 ***\n",
       "SEX         -0.546744   0.133067  -4.109 3.98e-05 ***\n",
       "TOTCHOL      0.001892   0.001376   1.375 0.168999    \n",
       "AGE          0.054723   0.008082   6.771 1.28e-11 ***\n",
       "SYSBP        0.012335   0.004682   2.635 0.008415 ** \n",
       "DIABP       -0.002156   0.007979  -0.270 0.787031    \n",
       "CURSMOKE    -0.121615   0.194276  -0.626 0.531322    \n",
       "CIGPDAY      0.021662   0.007823   2.769 0.005625 ** \n",
       "BMI          0.012397   0.015259   0.812 0.416545    \n",
       "DIABETES    -0.195542   0.389503  -0.502 0.615646    \n",
       "BPMEDS       0.070097   0.302526   0.232 0.816767    \n",
       "HEARTRTE    -0.001282   0.005101  -0.251 0.801555    \n",
       "GLUCOSE      0.010346   0.003058   3.383 0.000716 ***\n",
       "educ        -0.044207   0.060493  -0.731 0.464913    \n",
       "PREVSTRK    -0.204484   0.684401  -0.299 0.765109    \n",
       "PREVHYP      0.259538   0.166680   1.557 0.119446    \n",
       "---\n",
       "Signif. codes:  0 ‘***’ 0.001 ‘**’ 0.01 ‘*’ 0.05 ‘.’ 0.1 ‘ ’ 1\n",
       "\n",
       "(Dispersion parameter for binomial family taken to be 1)\n",
       "\n",
       "    Null deviance: 2037.5  on 2383  degrees of freedom\n",
       "Residual deviance: 1834.1  on 2368  degrees of freedom\n",
       "  (372 observations deleted due to missingness)\n",
       "AIC: 1866.1\n",
       "\n",
       "Number of Fisher Scoring iterations: 5\n"
      ]
     },
     "metadata": {},
     "output_type": "display_data"
    },
    {
     "data": {
      "text/plain": [
       "\n",
       "Call:\n",
       "glm(formula = TENCHD ~ SEX + TOTCHOL + AGE + SYSBP + DIABP + \n",
       "    CURSMOKE + CIGPDAY + BMI + DIABETES + BPMEDS + HEARTRTE + \n",
       "    GLUCOSE + educ + PREVSTRK + PREVHYP, family = \"binomial\", \n",
       "    data = na.omit(heart_train))\n",
       "\n",
       "Deviance Residuals: \n",
       "    Min       1Q   Median       3Q      Max  \n",
       "-2.2221  -0.6061  -0.4469  -0.3030   2.7865  \n",
       "\n",
       "Coefficients:\n",
       "             Estimate Std. Error z value Pr(>|z|)    \n",
       "(Intercept) -6.893440   0.863061  -7.987 1.38e-15 ***\n",
       "SEX         -0.546744   0.133067  -4.109 3.98e-05 ***\n",
       "TOTCHOL      0.001892   0.001376   1.375 0.168999    \n",
       "AGE          0.054723   0.008082   6.771 1.28e-11 ***\n",
       "SYSBP        0.012335   0.004682   2.635 0.008415 ** \n",
       "DIABP       -0.002156   0.007979  -0.270 0.787031    \n",
       "CURSMOKE    -0.121615   0.194276  -0.626 0.531322    \n",
       "CIGPDAY      0.021662   0.007823   2.769 0.005625 ** \n",
       "BMI          0.012397   0.015259   0.812 0.416545    \n",
       "DIABETES    -0.195542   0.389503  -0.502 0.615646    \n",
       "BPMEDS       0.070097   0.302526   0.232 0.816767    \n",
       "HEARTRTE    -0.001282   0.005101  -0.251 0.801555    \n",
       "GLUCOSE      0.010346   0.003058   3.383 0.000716 ***\n",
       "educ        -0.044207   0.060493  -0.731 0.464913    \n",
       "PREVSTRK    -0.204484   0.684401  -0.299 0.765109    \n",
       "PREVHYP      0.259538   0.166680   1.557 0.119446    \n",
       "---\n",
       "Signif. codes:  0 ‘***’ 0.001 ‘**’ 0.01 ‘*’ 0.05 ‘.’ 0.1 ‘ ’ 1\n",
       "\n",
       "(Dispersion parameter for binomial family taken to be 1)\n",
       "\n",
       "    Null deviance: 2037.5  on 2383  degrees of freedom\n",
       "Residual deviance: 1834.1  on 2368  degrees of freedom\n",
       "AIC: 1866.1\n",
       "\n",
       "Number of Fisher Scoring iterations: 5\n"
      ]
     },
     "metadata": {},
     "output_type": "display_data"
    }
   ],
   "source": [
    "# model without NA removal\n",
    "model2 <- glm(TENCHD~\n",
    "              SEX+TOTCHOL+AGE+SYSBP+DIABP+CURSMOKE+CIGPDAY+BMI+DIABETES+BPMEDS+HEARTRTE+GLUCOSE+educ+PREVSTRK+PREVHYP,\n",
    "              data=heart_train,\n",
    "              family=\"binomial\")\n",
    "\n",
    "# model with NA removal\n",
    "model2b <- glm(TENCHD~\n",
    "              SEX+TOTCHOL+AGE+SYSBP+DIABP+CURSMOKE+CIGPDAY+BMI+DIABETES+BPMEDS+HEARTRTE+GLUCOSE+educ+PREVSTRK+PREVHYP,\n",
    "              data=na.omit(heart_train),\n",
    "              family=\"binomial\")\n",
    "\n",
    "summary(model2)\n",
    "summary(model2b)"
   ]
  },
  {
   "cell_type": "code",
   "execution_count": 47,
   "metadata": {
    "scrolled": false
   },
   "outputs": [
    {
     "data": {
      "text/plain": [
       "\n",
       "Call:\n",
       "glm(formula = TENCHD ~ SEX + AGE + SYSBP + CIGPDAY + GLUCOSE, \n",
       "    family = \"binomial\", data = heart_train)\n",
       "\n",
       "Deviance Residuals: \n",
       "    Min       1Q   Median       3Q      Max  \n",
       "-2.3252  -0.5973  -0.4480  -0.3089   2.7699  \n",
       "\n",
       "Coefficients:\n",
       "             Estimate Std. Error z value Pr(>|z|)    \n",
       "(Intercept) -7.160110   0.524258 -13.658  < 2e-16 ***\n",
       "SEX         -0.540547   0.126240  -4.282 1.85e-05 ***\n",
       "AGE          0.059845   0.007537   7.940 2.02e-15 ***\n",
       "SYSBP        0.016072   0.002573   6.247 4.18e-10 ***\n",
       "CIGPDAY      0.018223   0.005058   3.602 0.000315 ***\n",
       "GLUCOSE      0.009935   0.002303   4.314 1.61e-05 ***\n",
       "---\n",
       "Signif. codes:  0 ‘***’ 0.001 ‘**’ 0.01 ‘*’ 0.05 ‘.’ 0.1 ‘ ’ 1\n",
       "\n",
       "(Dispersion parameter for binomial family taken to be 1)\n",
       "\n",
       "    Null deviance: 2143.5  on 2496  degrees of freedom\n",
       "Residual deviance: 1929.3  on 2491  degrees of freedom\n",
       "  (259 observations deleted due to missingness)\n",
       "AIC: 1941.3\n",
       "\n",
       "Number of Fisher Scoring iterations: 5\n"
      ]
     },
     "metadata": {},
     "output_type": "display_data"
    },
    {
     "data": {
      "text/plain": [
       "\n",
       "Call:\n",
       "glm(formula = TENCHD ~ SEX + AGE + SYSBP + CIGPDAY + GLUCOSE, \n",
       "    family = \"binomial\", data = na.omit(heart_train))\n",
       "\n",
       "Deviance Residuals: \n",
       "    Min       1Q   Median       3Q      Max  \n",
       "-2.2864  -0.5945  -0.4525  -0.3125   2.7595  \n",
       "\n",
       "Coefficients:\n",
       "             Estimate Std. Error z value Pr(>|z|)    \n",
       "(Intercept) -7.054993   0.535175 -13.183  < 2e-16 ***\n",
       "SEX         -0.535382   0.129163  -4.145 3.40e-05 ***\n",
       "AGE          0.057835   0.007716   7.496 6.59e-14 ***\n",
       "SYSBP        0.016245   0.002629   6.179 6.46e-10 ***\n",
       "CIGPDAY      0.017635   0.005186   3.400 0.000673 ***\n",
       "GLUCOSE      0.009642   0.002358   4.090 4.32e-05 ***\n",
       "---\n",
       "Signif. codes:  0 ‘***’ 0.001 ‘**’ 0.01 ‘*’ 0.05 ‘.’ 0.1 ‘ ’ 1\n",
       "\n",
       "(Dispersion parameter for binomial family taken to be 1)\n",
       "\n",
       "    Null deviance: 2037.5  on 2383  degrees of freedom\n",
       "Residual deviance: 1840.8  on 2378  degrees of freedom\n",
       "AIC: 1852.8\n",
       "\n",
       "Number of Fisher Scoring iterations: 5\n"
      ]
     },
     "metadata": {},
     "output_type": "display_data"
    }
   ],
   "source": [
    "model3 <- glm(TENCHD~SEX+AGE+SYSBP+CIGPDAY+GLUCOSE, data=heart_train, family=\"binomial\")\n",
    "model3b <- glm(TENCHD~SEX+AGE+SYSBP+CIGPDAY+GLUCOSE, data=na.omit(heart_train), family=\"binomial\")\n",
    "summary(model3)\n",
    "summary(model3b)\n",
    "\n",
    "# stepwise regression to find optimal model\n",
    "# step(model2)"
   ]
  },
  {
   "cell_type": "code",
   "execution_count": 49,
   "metadata": {},
   "outputs": [
    {
     "data": {
      "text/plain": [
       "       \n",
       "           0    1\n",
       "  FALSE 1113  187\n",
       "  TRUE     9   21"
      ]
     },
     "metadata": {},
     "output_type": "display_data"
    }
   ],
   "source": [
    "pred <- predict(model3, heart_test, type=\"response\")\n",
    "\n",
    "# predicted percentage chance of having heart disease\n",
    "table(pred>0.5, heart_test$TENCHD)"
   ]
  },
  {
   "cell_type": "code",
   "execution_count": 51,
   "metadata": {},
   "outputs": [
    {
     "data": {
      "text/plain": [
       "\n",
       "   0    1 \n",
       "1259  225 "
      ]
     },
     "metadata": {},
     "output_type": "display_data"
    },
    {
     "data": {
      "text/html": [
       "0.848382749326146"
      ],
      "text/latex": [
       "0.848382749326146"
      ],
      "text/markdown": [
       "0.848382749326146"
      ],
      "text/plain": [
       "[1] 0.8483827"
      ]
     },
     "metadata": {},
     "output_type": "display_data"
    }
   ],
   "source": [
    "# actual percentage chance of not having heart disease\n",
    "table(heart_test$TENCHD)\n",
    "1259/(1259+225)"
   ]
  },
  {
   "cell_type": "code",
   "execution_count": 59,
   "metadata": {},
   "outputs": [
    {
     "data": {
      "text/plain": [
       "An object of class \"performance\"\n",
       "Slot \"x.name\":\n",
       "[1] \"None\"\n",
       "\n",
       "Slot \"y.name\":\n",
       "[1] \"Area under the ROC curve\"\n",
       "\n",
       "Slot \"alpha.name\":\n",
       "[1] \"none\"\n",
       "\n",
       "Slot \"x.values\":\n",
       "list()\n",
       "\n",
       "Slot \"y.values\":\n",
       "[[1]]\n",
       "[1] 0.7574258\n",
       "\n",
       "\n",
       "Slot \"alpha.values\":\n",
       "list()\n"
      ]
     },
     "metadata": {},
     "output_type": "display_data"
    },
    {
     "data": {
      "image/png": "[encoded data removed]",
      "text/plain": [
       "plot without title"
      ]
     },
     "metadata": {},
     "output_type": "display_data"
    }
   ],
   "source": [
    "options(repr.plot.width=7, repr.plot.height=4) # resize IRkernel plot size\n",
    "\n",
    "library(ROCR)\n",
    "pred2 <- prediction(pred, heart_test$TENCHD)\n",
    "perf2 <- performance(pred2, measure=\"tpr\", x.measure=\"fpr\")\n",
    "plot(perf2)\n",
    "performance(pred2, measure=\"auc\")"
   ]
  }
 ],
 "metadata": {
  "kernelspec": {
   "display_name": "R",
   "language": "R",
   "name": "ir"
  },
  "language_info": {
   "codemirror_mode": "r",
   "file_extension": ".r",
   "mimetype": "text/x-r-source",
   "name": "R",
   "pygments_lexer": "r",
   "version": "3.4.0"
  }
 },
 "nbformat": 4,
 "nbformat_minor": 2
}
