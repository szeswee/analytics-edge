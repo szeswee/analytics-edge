{
 "cells": [
  {
   "cell_type": "markdown",
   "metadata": {},
   "source": [
    "### 1.1"
   ]
  },
  {
   "cell_type": "code",
   "execution_count": 19,
   "metadata": {},
   "outputs": [
    {
     "data": {
      "text/html": [
       "<table>\n",
       "<thead><tr><th scope=col>letter</th><th scope=col>xbox</th><th scope=col>ybox</th><th scope=col>width</th><th scope=col>height</th><th scope=col>onpix</th><th scope=col>xbar</th><th scope=col>ybar</th><th scope=col>x2bar</th><th scope=col>y2bar</th><th scope=col>xybar</th><th scope=col>x2ybar</th><th scope=col>xy2bar</th><th scope=col>xedge</th><th scope=col>xedgeycor</th><th scope=col>yedge</th><th scope=col>yedgexcor</th><th scope=col>isU</th></tr></thead>\n",
       "<tbody>\n",
       "\t<tr><td>U   </td><td>7   </td><td>11  </td><td>8   </td><td>9   </td><td>4   </td><td>3   </td><td>9   </td><td> 6  </td><td>7   </td><td>11  </td><td>11  </td><td>10  </td><td>3   </td><td> 9  </td><td>2   </td><td>6   </td><td>TRUE</td></tr>\n",
       "\t<tr><td>U   </td><td>4   </td><td> 7  </td><td>4   </td><td>5   </td><td>2   </td><td>7   </td><td>5   </td><td>13  </td><td>5   </td><td> 7  </td><td>14  </td><td> 7  </td><td>3   </td><td> 9  </td><td>0   </td><td>8   </td><td>TRUE</td></tr>\n",
       "\t<tr><td>U   </td><td>5   </td><td> 6  </td><td>5   </td><td>4   </td><td>2   </td><td>5   </td><td>8   </td><td> 6  </td><td>8   </td><td> 9  </td><td> 8  </td><td> 8  </td><td>3   </td><td> 9  </td><td>2   </td><td>5   </td><td>TRUE</td></tr>\n",
       "\t<tr><td>U   </td><td>3   </td><td> 3  </td><td>3   </td><td>1   </td><td>1   </td><td>5   </td><td>8   </td><td> 5  </td><td>7   </td><td>10  </td><td> 9  </td><td> 8  </td><td>3   </td><td>10  </td><td>2   </td><td>6   </td><td>TRUE</td></tr>\n",
       "\t<tr><td>U   </td><td>5   </td><td> 7  </td><td>6   </td><td>5   </td><td>5   </td><td>8   </td><td>8   </td><td> 8  </td><td>5   </td><td> 6  </td><td> 7  </td><td> 9  </td><td>4   </td><td> 8  </td><td>4   </td><td>5   </td><td>TRUE</td></tr>\n",
       "\t<tr><td>U   </td><td>5   </td><td> 8  </td><td>5   </td><td>6   </td><td>4   </td><td>8   </td><td>6   </td><td>11  </td><td>4   </td><td> 8  </td><td>13  </td><td> 7  </td><td>3   </td><td> 9  </td><td>0   </td><td>8   </td><td>TRUE</td></tr>\n",
       "</tbody>\n",
       "</table>\n"
      ],
      "text/latex": [
       "\\begin{tabular}{r|llllllllllllllllll}\n",
       " letter & xbox & ybox & width & height & onpix & xbar & ybar & x2bar & y2bar & xybar & x2ybar & xy2bar & xedge & xedgeycor & yedge & yedgexcor & isU\\\\\n",
       "\\hline\n",
       "\t U    & 7    & 11   & 8    & 9    & 4    & 3    & 9    &  6   & 7    & 11   & 11   & 10   & 3    &  9   & 2    & 6    & TRUE\\\\\n",
       "\t U    & 4    &  7   & 4    & 5    & 2    & 7    & 5    & 13   & 5    &  7   & 14   &  7   & 3    &  9   & 0    & 8    & TRUE\\\\\n",
       "\t U    & 5    &  6   & 5    & 4    & 2    & 5    & 8    &  6   & 8    &  9   &  8   &  8   & 3    &  9   & 2    & 5    & TRUE\\\\\n",
       "\t U    & 3    &  3   & 3    & 1    & 1    & 5    & 8    &  5   & 7    & 10   &  9   &  8   & 3    & 10   & 2    & 6    & TRUE\\\\\n",
       "\t U    & 5    &  7   & 6    & 5    & 5    & 8    & 8    &  8   & 5    &  6   &  7   &  9   & 4    &  8   & 4    & 5    & TRUE\\\\\n",
       "\t U    & 5    &  8   & 5    & 6    & 4    & 8    & 6    & 11   & 4    &  8   & 13   &  7   & 3    &  9   & 0    & 8    & TRUE\\\\\n",
       "\\end{tabular}\n"
      ],
      "text/markdown": [
       "\n",
       "letter | xbox | ybox | width | height | onpix | xbar | ybar | x2bar | y2bar | xybar | x2ybar | xy2bar | xedge | xedgeycor | yedge | yedgexcor | isU | \n",
       "|---|---|---|---|---|---|\n",
       "| U    | 7    | 11   | 8    | 9    | 4    | 3    | 9    |  6   | 7    | 11   | 11   | 10   | 3    |  9   | 2    | 6    | TRUE | \n",
       "| U    | 4    |  7   | 4    | 5    | 2    | 7    | 5    | 13   | 5    |  7   | 14   |  7   | 3    |  9   | 0    | 8    | TRUE | \n",
       "| U    | 5    |  6   | 5    | 4    | 2    | 5    | 8    |  6   | 8    |  9   |  8   |  8   | 3    |  9   | 2    | 5    | TRUE | \n",
       "| U    | 3    |  3   | 3    | 1    | 1    | 5    | 8    |  5   | 7    | 10   |  9   |  8   | 3    | 10   | 2    | 6    | TRUE | \n",
       "| U    | 5    |  7   | 6    | 5    | 5    | 8    | 8    |  8   | 5    |  6   |  7   |  9   | 4    |  8   | 4    | 5    | TRUE | \n",
       "| U    | 5    |  8   | 5    | 6    | 4    | 8    | 6    | 11   | 4    |  8   | 13   |  7   | 3    |  9   | 0    | 8    | TRUE | \n",
       "\n",
       "\n"
      ],
      "text/plain": [
       "  letter xbox ybox width height onpix xbar ybar x2bar y2bar xybar x2ybar xy2bar\n",
       "1 U      7    11   8     9      4     3    9     6    7     11    11     10    \n",
       "2 U      4     7   4     5      2     7    5    13    5      7    14      7    \n",
       "3 U      5     6   5     4      2     5    8     6    8      9     8      8    \n",
       "4 U      3     3   3     1      1     5    8     5    7     10     9      8    \n",
       "5 U      5     7   6     5      5     8    8     8    5      6     7      9    \n",
       "6 U      5     8   5     6      4     8    6    11    4      8    13      7    \n",
       "  xedge xedgeycor yedge yedgexcor isU \n",
       "1 3      9        2     6         TRUE\n",
       "2 3      9        0     8         TRUE\n",
       "3 3      9        2     5         TRUE\n",
       "4 3     10        2     6         TRUE\n",
       "5 4      8        4     5         TRUE\n",
       "6 3      9        0     8         TRUE"
      ]
     },
     "metadata": {},
     "output_type": "display_data"
    }
   ],
   "source": [
    "letters <- read.csv(\"csv/letters.csv\")\n",
    "letters$isU <- ifelse(letters$letter==\"U\", T, F)\n",
    "head(letters)"
   ]
  },
  {
   "cell_type": "markdown",
   "metadata": {},
   "source": [
    "### 1.2"
   ]
  },
  {
   "cell_type": "code",
   "execution_count": 18,
   "metadata": {},
   "outputs": [
    {
     "data": {
      "text/plain": [
       "\n",
       "FALSE  TRUE \n",
       " 2294   488 "
      ]
     },
     "metadata": {},
     "output_type": "display_data"
    },
    {
     "data": {
      "text/plain": [
       "\n",
       "FALSE  TRUE \n",
       " 1529   325 "
      ]
     },
     "metadata": {},
     "output_type": "display_data"
    },
    {
     "data": {
      "text/html": [
       "0.82470334412082"
      ],
      "text/latex": [
       "0.82470334412082"
      ],
      "text/markdown": [
       "0.82470334412082"
      ],
      "text/plain": [
       "[1] 0.8247033"
      ]
     },
     "metadata": {},
     "output_type": "display_data"
    }
   ],
   "source": [
    "library(caTools)\n",
    "set.seed(1000)\n",
    "spl <- sample.split(letters$isU, SplitRatio=0.6)\n",
    "train.1 <- subset(letters, spl==T)\n",
    "test.1 <- subset(letters, spl==F)\n",
    "\n",
    "table(train.1$isU) # most frequent outcome is FALSE in training set\n",
    "table(test.1$isU)\n",
    "1529/(1529+325) ## accuracy of baseline"
   ]
  },
  {
   "cell_type": "markdown",
   "metadata": {},
   "source": [
    "### 1.4"
   ]
  },
  {
   "cell_type": "code",
   "execution_count": 241,
   "metadata": {
    "scrolled": false
   },
   "outputs": [
    {
     "data": {
      "image/png": "[encoded data removed]",
      "text/plain": [
       "plot without title"
      ]
     },
     "metadata": {},
     "output_type": "display_data"
    }
   ],
   "source": [
    "library(rpart)\n",
    "library(rpart.plot)\n",
    "\n",
    "model.1.cart <- rpart(isU~.-letter, data=train.1, method=\"class\")\n",
    "# summary(model.1.rpart)$var\n",
    "options(repr.plot.width=8, repr.plot.height=7) # resize IRkernel plot size for jupyter\n",
    "prp(model.1.cart, extra=4, type=4, branch=0)"
   ]
  },
  {
   "cell_type": "markdown",
   "metadata": {},
   "source": [
    "### 1.5"
   ]
  },
  {
   "cell_type": "code",
   "execution_count": 28,
   "metadata": {},
   "outputs": [
    {
     "data": {
      "text/html": [
       "0.166666666666667"
      ],
      "text/latex": [
       "0.166666666666667"
      ],
      "text/markdown": [
       "0.166666666666667"
      ],
      "text/plain": [
       "[1] 0.1666667"
      ]
     },
     "metadata": {},
     "output_type": "display_data"
    }
   ],
   "source": [
    "2/12"
   ]
  },
  {
   "cell_type": "markdown",
   "metadata": {},
   "source": [
    "### 1.6"
   ]
  },
  {
   "cell_type": "code",
   "execution_count": 97,
   "metadata": {},
   "outputs": [
    {
     "data": {
      "text/plain": [
       "              \n",
       "predict.1.cart FALSE TRUE\n",
       "         FALSE  1516   37\n",
       "         TRUE     13  288"
      ]
     },
     "metadata": {},
     "output_type": "display_data"
    },
    {
     "data": {
      "text/html": [
       "0.973031283710895"
      ],
      "text/latex": [
       "0.973031283710895"
      ],
      "text/markdown": [
       "0.973031283710895"
      ],
      "text/plain": [
       "[1] 0.9730313"
      ]
     },
     "metadata": {},
     "output_type": "display_data"
    }
   ],
   "source": [
    "predict.1.cart <- predict(model.1.cart, test.1, type=\"class\")\n",
    "table.1.cart <- table(predict.1.cart, test.1$isU)\n",
    "table.1.cart\n",
    "sum(diag(table.1.cart))/sum(table.1.cart) ## accuracy"
   ]
  },
  {
   "cell_type": "markdown",
   "metadata": {},
   "source": [
    "### 1.7"
   ]
  },
  {
   "cell_type": "code",
   "execution_count": 87,
   "metadata": {},
   "outputs": [
    {
     "data": {
      "text/plain": [
       "            \n",
       "predict.1.rf FALSE TRUE\n",
       "       FALSE  1526    7\n",
       "       TRUE      3  318"
      ]
     },
     "metadata": {},
     "output_type": "display_data"
    },
    {
     "data": {
      "text/html": [
       "0.994606256742179"
      ],
      "text/latex": [
       "0.994606256742179"
      ],
      "text/markdown": [
       "0.994606256742179"
      ],
      "text/plain": [
       "[1] 0.9946063"
      ]
     },
     "metadata": {},
     "output_type": "display_data"
    }
   ],
   "source": [
    "library(randomForest)\n",
    "set.seed(2000)\n",
    "model.1.rf <- randomForest(as.factor(isU)~.-letter, data=train.1)\n",
    "predict.1.rf <- predict(model.1.rf, test.1)\n",
    "table.1.rf <- table(predict.1.rf, test.1$isU)\n",
    "table.1.rf\n",
    "sum(diag(table.1.rf))/sum(table.1.rf) ## accuracy"
   ]
  },
  {
   "cell_type": "markdown",
   "metadata": {},
   "source": [
    "### 1.9"
   ]
  },
  {
   "cell_type": "code",
   "execution_count": 88,
   "metadata": {
    "collapsed": true
   },
   "outputs": [],
   "source": [
    "library(caTools)\n",
    "set.seed(1000)\n",
    "spl <- sample.split(letters$letter, SplitRatio=0.6)\n",
    "train.1.9 <- subset(letters, spl==T)\n",
    "test.1.9 <- subset(letters, spl==F)"
   ]
  },
  {
   "cell_type": "markdown",
   "metadata": {},
   "source": [
    "### 1.10"
   ]
  },
  {
   "cell_type": "code",
   "execution_count": 95,
   "metadata": {},
   "outputs": [
    {
     "data": {
      "text/plain": [
       "               \n",
       "predict.1.cart2   U   V   W   X   Y   Z\n",
       "              U 262  19   2   0  27   0\n",
       "              V   2 234  17   0  19   0\n",
       "              W  43  44 282   4  19   1\n",
       "              X  13   1   0 279   8  13\n",
       "              Y   1   8   0   2 236   6\n",
       "              Z   4   0   0  30   5 274"
      ]
     },
     "metadata": {},
     "output_type": "display_data"
    },
    {
     "data": {
      "text/html": [
       "0.844743935309973"
      ],
      "text/latex": [
       "0.844743935309973"
      ],
      "text/markdown": [
       "0.844743935309973"
      ],
      "text/plain": [
       "[1] 0.8447439"
      ]
     },
     "metadata": {},
     "output_type": "display_data"
    }
   ],
   "source": [
    "model.1.cart2 <- rpart(letter~.-isU, data=train.1.9, method=\"class\")\n",
    "predict.1.cart2 <- predict(model.1.cart2, test.1.9, type=\"class\")\n",
    "table.1.cart2 <- table(predict.1.cart2, test.1.9$letter)\n",
    "table.1.cart2\n",
    "sum(diag(table.1.cart2))/sum(table.1.cart2) ## accuracy"
   ]
  },
  {
   "cell_type": "markdown",
   "metadata": {},
   "source": [
    "### 1.11"
   ]
  },
  {
   "cell_type": "code",
   "execution_count": 242,
   "metadata": {
    "scrolled": false
   },
   "outputs": [
    {
     "name": "stdout",
     "output_type": "stream",
     "text": [
      "Call:\n",
      "rpart(formula = letter ~ . - isU, data = train.1.9, method = \"class\")\n",
      "  n= 2781 \n",
      "\n",
      "           CP nsplit rel error    xerror        xstd\n",
      "1  0.16964675      0 1.0000000 1.0000000 0.008747972\n",
      "2  0.16048844      1 0.8303532 0.8682948 0.010371573\n",
      "3  0.13388574      2 0.6698648 0.7017008 0.011356311\n",
      "4  0.11862189      3 0.5359791 0.5442652 0.011438625\n",
      "5  0.09768862      4 0.4173572 0.4221544 0.010955496\n",
      "6  0.02573048      5 0.3196686 0.3249019 0.010185034\n",
      "7  0.01984300      6 0.2939381 0.2987353 0.009909149\n",
      "8  0.01569996      8 0.2542521 0.2664631 0.009522389\n",
      "9  0.01308330      9 0.2385521 0.2586132 0.009419904\n",
      "10 0.01221108     10 0.2254688 0.2389882 0.009148083\n",
      "11 0.01003053     11 0.2132577 0.2333188 0.009065196\n",
      "12 0.01000000     12 0.2032272 0.2267771 0.008967005\n",
      "\n",
      "Variable importance\n",
      "    xedge xedgeycor     x2bar     y2bar    x2ybar     yedge      ybar     xybar \n",
      "       22        11        11        11        10        10         8         3 \n",
      "yedgexcor     onpix      xbar    xy2bar     width      xbox    height \n",
      "        3         3         3         2         1         1         1 \n",
      "\n",
      "Node number 1: 2781 observations,    complexity param=0.1696468\n",
      "  predicted class=U  expected loss=0.8245236  P(node) =1\n",
      "    class counts:   488   458   451   472   472   440\n",
      "   probabilities: 0.175 0.165 0.162 0.170 0.170 0.158 \n",
      "  left son=2 (567 obs) right son=3 (2214 obs)\n",
      "  Primary splits:\n",
      "      xedge     < 5.5  to the right, improve=281.3861, (0 missing)\n",
      "      x2ybar    < 6.5  to the right, improve=264.6448, (0 missing)\n",
      "      xedgeycor < 9.5  to the right, improve=263.8530, (0 missing)\n",
      "      y2bar     < 3.5  to the left,  improve=253.8330, (0 missing)\n",
      "      yedge     < 2.5  to the left,  improve=223.7156, (0 missing)\n",
      "  Surrogate splits:\n",
      "      onpix     < 6.5  to the right, agree=0.837, adj=0.199, (0 split)\n",
      "      xedgeycor < 11.5 to the right, agree=0.807, adj=0.051, (0 split)\n",
      "      y2bar     < 1.5  to the left,  agree=0.806, adj=0.048, (0 split)\n",
      "      width     < 8.5  to the right, agree=0.805, adj=0.044, (0 split)\n",
      "      xbox      < 9.5  to the right, agree=0.801, adj=0.025, (0 split)\n",
      "\n",
      "Node number 2: 567 observations\n",
      "  predicted class=W  expected loss=0.2698413  P(node) =0.2038835\n",
      "    class counts:    64    53   414     9    26     1\n",
      "   probabilities: 0.113 0.093 0.730 0.016 0.046 0.002 \n",
      "\n",
      "Node number 3: 2214 observations,    complexity param=0.1604884\n",
      "  predicted class=X  expected loss=0.7908762  P(node) =0.7961165\n",
      "    class counts:   424   405    37   463   446   439\n",
      "   probabilities: 0.192 0.183 0.017 0.209 0.201 0.198 \n",
      "  left son=6 (1290 obs) right son=7 (924 obs)\n",
      "  Primary splits:\n",
      "      x2ybar    < 7.5  to the right, improve=296.2766, (0 missing)\n",
      "      xedgeycor < 9.5  to the right, improve=284.6743, (0 missing)\n",
      "      yedge     < 2.5  to the left,  improve=258.8518, (0 missing)\n",
      "      ybar      < 8.5  to the right, improve=230.6370, (0 missing)\n",
      "      xedge     < 1.5  to the right, improve=222.7301, (0 missing)\n",
      "  Surrogate splits:\n",
      "      xedgeycor < 8.5  to the right, agree=0.879, adj=0.710, (0 split)\n",
      "      yedge     < 3.5  to the left,  agree=0.879, adj=0.709, (0 split)\n",
      "      ybar      < 7.5  to the right, agree=0.816, adj=0.560, (0 split)\n",
      "      y2bar     < 7.5  to the left,  agree=0.743, adj=0.383, (0 split)\n",
      "      xbar      < 6.5  to the left,  agree=0.688, adj=0.252, (0 split)\n",
      "\n",
      "Node number 6: 1290 observations,    complexity param=0.1338857\n",
      "  predicted class=Y  expected loss=0.6751938  P(node) =0.4638619\n",
      "    class counts:   355   396    34    59   419    27\n",
      "   probabilities: 0.275 0.307 0.026 0.046 0.325 0.021 \n",
      "  left son=12 (429 obs) right son=13 (861 obs)\n",
      "  Primary splits:\n",
      "      x2bar     < 4.5  to the right, improve=236.5348, (0 missing)\n",
      "      xedge     < 1.5  to the right, improve=202.3456, (0 missing)\n",
      "      xedgeycor < 9.5  to the left,  improve=175.3742, (0 missing)\n",
      "      y2bar     < 4.5  to the left,  improve=159.8215, (0 missing)\n",
      "      ybar      < 9.5  to the left,  improve=141.5538, (0 missing)\n",
      "  Surrogate splits:\n",
      "      xedgeycor < 9.5  to the left,  agree=0.798, adj=0.392, (0 split)\n",
      "      ybar      < 8.5  to the left,  agree=0.784, adj=0.352, (0 split)\n",
      "      xedge     < 2.5  to the right, agree=0.723, adj=0.168, (0 split)\n",
      "      xy2bar    < 9.5  to the right, agree=0.685, adj=0.054, (0 split)\n",
      "      x2ybar    < 13.5 to the right, agree=0.681, adj=0.042, (0 split)\n",
      "\n",
      "Node number 7: 924 observations,    complexity param=0.1186219\n",
      "  predicted class=Z  expected loss=0.5541126  P(node) =0.3322546\n",
      "    class counts:    69     9     3   404    27   412\n",
      "   probabilities: 0.075 0.010 0.003 0.437 0.029 0.446 \n",
      "  left son=14 (644 obs) right son=15 (280 obs)\n",
      "  Primary splits:\n",
      "      xedge < 1.5  to the right, improve=202.77620, (0 missing)\n",
      "      yedge < 4.5  to the left,  improve=139.92740, (0 missing)\n",
      "      y2bar < 8.5  to the left,  improve= 98.55708, (0 missing)\n",
      "      xybar < 10.5 to the left,  improve= 52.59142, (0 missing)\n",
      "      x2bar < 4.5  to the right, improve= 40.60370, (0 missing)\n",
      "  Surrogate splits:\n",
      "      y2bar < 9.5  to the left,  agree=0.832, adj=0.446, (0 split)\n",
      "      xybar < 11.5 to the left,  agree=0.711, adj=0.046, (0 split)\n",
      "      xbox  < 2.5  to the right, agree=0.710, adj=0.043, (0 split)\n",
      "      yedge < 7.5  to the left,  agree=0.709, adj=0.039, (0 split)\n",
      "      ybox  < 0.5  to the right, agree=0.705, adj=0.025, (0 split)\n",
      "\n",
      "Node number 12: 429 observations\n",
      "  predicted class=U  expected loss=0.2074592  P(node) =0.1542611\n",
      "    class counts:   340    50     4     0    33     2\n",
      "   probabilities: 0.793 0.117 0.009 0.000 0.077 0.005 \n",
      "\n",
      "Node number 13: 861 observations,    complexity param=0.09768862\n",
      "  predicted class=Y  expected loss=0.5516841  P(node) =0.3096009\n",
      "    class counts:    15   346    30    59   386    25\n",
      "   probabilities: 0.017 0.402 0.035 0.069 0.448 0.029 \n",
      "  left son=26 (583 obs) right son=27 (278 obs)\n",
      "  Primary splits:\n",
      "      xedge     < 1.5  to the right, improve=172.22450, (0 missing)\n",
      "      y2bar     < 5.5  to the left,  improve=106.40000, (0 missing)\n",
      "      xedgeycor < 10.5 to the left,  improve= 79.71744, (0 missing)\n",
      "      yedge     < 1.5  to the left,  improve= 72.81290, (0 missing)\n",
      "      yedgexcor < 6.5  to the right, improve= 63.91972, (0 missing)\n",
      "  Surrogate splits:\n",
      "      x2bar     < 1.5  to the right, agree=0.749, adj=0.223, (0 split)\n",
      "      y2bar     < 5.5  to the left,  agree=0.733, adj=0.173, (0 split)\n",
      "      xybar     < 11.5 to the left,  agree=0.698, adj=0.065, (0 split)\n",
      "      xedgeycor < 10.5 to the left,  agree=0.690, adj=0.040, (0 split)\n",
      "      yedgexcor < 5.5  to the right, agree=0.689, adj=0.036, (0 split)\n",
      "\n",
      "Node number 14: 644 observations,    complexity param=0.019843\n",
      "  predicted class=X  expected loss=0.3726708  P(node) =0.2315714\n",
      "    class counts:    69     9     3   404    27   132\n",
      "   probabilities: 0.107 0.014 0.005 0.627 0.042 0.205 \n",
      "  left son=28 (161 obs) right son=29 (483 obs)\n",
      "  Primary splits:\n",
      "      x2bar     < 4.5  to the right, improve=66.83437, (0 missing)\n",
      "      yedgexcor < 6.5  to the left,  improve=53.21257, (0 missing)\n",
      "      xybar     < 10.5 to the left,  improve=36.56116, (0 missing)\n",
      "      yedge     < 4.5  to the left,  improve=36.30771, (0 missing)\n",
      "      ybar      < 5.5  to the right, improve=33.72247, (0 missing)\n",
      "  Surrogate splits:\n",
      "      yedgexcor < 6.5  to the left,  agree=0.818, adj=0.273, (0 split)\n",
      "      ybar      < 8.5  to the right, agree=0.786, adj=0.143, (0 split)\n",
      "      xbar      < 5.5  to the left,  agree=0.764, adj=0.056, (0 split)\n",
      "      xedge     < 4.5  to the right, agree=0.761, adj=0.043, (0 split)\n",
      "      xybar     < 4.5  to the left,  agree=0.756, adj=0.025, (0 split)\n",
      "\n",
      "Node number 15: 280 observations\n",
      "  predicted class=Z  expected loss=0  P(node) =0.1006832\n",
      "    class counts:     0     0     0     0     0   280\n",
      "   probabilities: 0.000 0.000 0.000 0.000 0.000 1.000 \n",
      "\n",
      "Node number 26: 583 observations,    complexity param=0.02573048\n",
      "  predicted class=V  expected loss=0.406518  P(node) =0.2096368\n",
      "    class counts:    15   346    30    59   122    11\n",
      "   probabilities: 0.026 0.593 0.051 0.101 0.209 0.019 \n",
      "  left son=52 (461 obs) right son=53 (122 obs)\n",
      "  Primary splits:\n",
      "      y2bar     < 5.5  to the left,  improve=82.06402, (0 missing)\n",
      "      yedge     < 2.5  to the left,  improve=77.48611, (0 missing)\n",
      "      yedgexcor < 6.5  to the right, improve=74.91367, (0 missing)\n",
      "      ybar      < 10.5 to the right, improve=60.29148, (0 missing)\n",
      "      x2ybar    < 10.5 to the right, improve=48.40457, (0 missing)\n",
      "  Surrogate splits:\n",
      "      yedgexcor < 6.5  to the right, agree=0.870, adj=0.377, (0 split)\n",
      "      xedgeycor < 8.5  to the right, agree=0.847, adj=0.270, (0 split)\n",
      "      x2bar     < 1.5  to the right, agree=0.846, adj=0.262, (0 split)\n",
      "      xybar     < 10.5 to the left,  agree=0.823, adj=0.156, (0 split)\n",
      "      yedge     < 2.5  to the left,  agree=0.820, adj=0.139, (0 split)\n",
      "\n",
      "Node number 27: 278 observations\n",
      "  predicted class=Y  expected loss=0.05035971  P(node) =0.09996404\n",
      "    class counts:     0     0     0     0   264    14\n",
      "   probabilities: 0.000 0.000 0.000 0.000 0.950 0.050 \n",
      "\n",
      "Node number 28: 161 observations,    complexity param=0.019843\n",
      "  predicted class=Z  expected loss=0.6086957  P(node) =0.05789284\n",
      "    class counts:    54     4     2    25    13    63\n",
      "   probabilities: 0.335 0.025 0.012 0.155 0.081 0.391 \n",
      "  left son=56 (85 obs) right son=57 (76 obs)\n",
      "  Primary splits:\n",
      "      yedge  < 5.5  to the left,  improve=46.62223, (0 missing)\n",
      "      x2bar  < 6.5  to the right, improve=20.41576, (0 missing)\n",
      "      xedge  < 2.5  to the right, improve=19.74935, (0 missing)\n",
      "      xy2bar < 8.5  to the right, improve=17.82037, (0 missing)\n",
      "      x2ybar < 5.5  to the right, improve=17.47132, (0 missing)\n",
      "  Surrogate splits:\n",
      "      xy2bar < 7.5  to the right, agree=0.752, adj=0.474, (0 split)\n",
      "      xbar   < 8.5  to the left,  agree=0.720, adj=0.408, (0 split)\n",
      "      x2ybar < 5.5  to the right, agree=0.720, adj=0.408, (0 split)\n",
      "      xedge  < 2.5  to the right, agree=0.720, adj=0.408, (0 split)\n",
      "      width  < 4.5  to the right, agree=0.671, adj=0.303, (0 split)\n",
      "\n",
      "Node number 29: 483 observations,    complexity param=0.01221108\n",
      "  predicted class=X  expected loss=0.2153209  P(node) =0.1736785\n",
      "    class counts:    15     5     1   379    14    69\n",
      "   probabilities: 0.031 0.010 0.002 0.785 0.029 0.143 \n",
      "  left son=58 (407 obs) right son=59 (76 obs)\n",
      "  Primary splits:\n",
      "      xybar  < 10.5 to the left,  improve=46.43400, (0 missing)\n",
      "      ybar   < 5.5  to the right, improve=42.54609, (0 missing)\n",
      "      height < 8.5  to the left,  improve=23.13706, (0 missing)\n",
      "      y2bar  < 3.5  to the left,  improve=19.41606, (0 missing)\n",
      "      xbox   < 5.5  to the left,  improve=15.96264, (0 missing)\n",
      "  Surrogate splits:\n",
      "      xbox   < 6.5  to the left,  agree=0.857, adj=0.092, (0 split)\n",
      "      height < 10.5 to the left,  agree=0.853, adj=0.066, (0 split)\n",
      "      ybar   < 3.5  to the right, agree=0.851, adj=0.053, (0 split)\n",
      "      y2bar  < 9.5  to the left,  agree=0.851, adj=0.053, (0 split)\n",
      "      yedge  < 12.5 to the left,  agree=0.851, adj=0.053, (0 split)\n",
      "\n",
      "Node number 52: 461 observations,    complexity param=0.0130833\n",
      "  predicted class=V  expected loss=0.2494577  P(node) =0.1657677\n",
      "    class counts:     6   346    30     0    77     2\n",
      "   probabilities: 0.013 0.751 0.065 0.000 0.167 0.004 \n",
      "  left son=104 (397 obs) right son=105 (64 obs)\n",
      "  Primary splits:\n",
      "      yedge     < 3.5  to the left,  improve=41.62279, (0 missing)\n",
      "      x2ybar    < 9.5  to the right, improve=41.41990, (0 missing)\n",
      "      yedgexcor < 6.5  to the right, improve=31.76063, (0 missing)\n",
      "      xedge     < 3.5  to the left,  improve=29.85752, (0 missing)\n",
      "      height    < 8.5  to the left,  improve=29.81085, (0 missing)\n",
      "  Surrogate splits:\n",
      "      onpix     < 4.5  to the left,  agree=0.933, adj=0.516, (0 split)\n",
      "      height    < 8.5  to the left,  agree=0.915, adj=0.391, (0 split)\n",
      "      xy2bar    < 5.5  to the right, agree=0.883, adj=0.156, (0 split)\n",
      "      yedgexcor < 5.5  to the right, agree=0.883, adj=0.156, (0 split)\n",
      "      ybar      < 7.5  to the right, agree=0.881, adj=0.141, (0 split)\n",
      "\n",
      "Node number 53: 122 observations,    complexity param=0.01569996\n",
      "  predicted class=X  expected loss=0.5163934  P(node) =0.04386911\n",
      "    class counts:     9     0     0    59    45     9\n",
      "   probabilities: 0.074 0.000 0.000 0.484 0.369 0.074 \n",
      "  left son=106 (72 obs) right son=107 (50 obs)\n",
      "  Primary splits:\n",
      "      xedgeycor < 9.5  to the left,  improve=29.90432, (0 missing)\n",
      "      xy2bar    < 7.5  to the right, improve=25.97469, (0 missing)\n",
      "      ybar      < 9.5  to the left,  improve=17.51055, (0 missing)\n",
      "      yedgexcor < 4.5  to the right, improve=15.42792, (0 missing)\n",
      "      xybar     < 9.5  to the right, improve=13.16154, (0 missing)\n",
      "  Surrogate splits:\n",
      "      xy2bar    < 7.5  to the right, agree=0.811, adj=0.54, (0 split)\n",
      "      xybar     < 9.5  to the right, agree=0.762, adj=0.42, (0 split)\n",
      "      ybar      < 9.5  to the left,  agree=0.754, adj=0.40, (0 split)\n",
      "      y2bar     < 7.5  to the right, agree=0.730, adj=0.34, (0 split)\n",
      "      yedgexcor < 4.5  to the right, agree=0.730, adj=0.34, (0 split)\n",
      "\n",
      "Node number 56: 85 observations,    complexity param=0.01003053\n",
      "  predicted class=U  expected loss=0.3764706  P(node) =0.03056455\n",
      "    class counts:    53     3     2    25     2     0\n",
      "   probabilities: 0.624 0.035 0.024 0.294 0.024 0.000 \n",
      "  left son=112 (55 obs) right son=113 (30 obs)\n",
      "  Primary splits:\n",
      "      yedgexcor < 7.5  to the left,  improve=27.93333, (0 missing)\n",
      "      onpix     < 2.5  to the right, improve=27.83423, (0 missing)\n",
      "      y2bar     < 4.5  to the right, improve=23.68491, (0 missing)\n",
      "      xybar     < 6.5  to the left,  improve=14.40000, (0 missing)\n",
      "      xy2bar    < 8.5  to the right, improve=12.43846, (0 missing)\n",
      "  Surrogate splits:\n",
      "      onpix  < 2.5  to the right, agree=0.918, adj=0.767, (0 split)\n",
      "      y2bar  < 4.5  to the right, agree=0.894, adj=0.700, (0 split)\n",
      "      x2bar  < 5.5  to the right, agree=0.729, adj=0.233, (0 split)\n",
      "      xybar  < 6.5  to the left,  agree=0.729, adj=0.233, (0 split)\n",
      "      x2ybar < 6.5  to the right, agree=0.729, adj=0.233, (0 split)\n",
      "\n",
      "Node number 57: 76 observations\n",
      "  predicted class=Z  expected loss=0.1710526  P(node) =0.0273283\n",
      "    class counts:     1     1     0     0    11    63\n",
      "   probabilities: 0.013 0.013 0.000 0.000 0.145 0.829 \n",
      "\n",
      "Node number 58: 407 observations\n",
      "  predicted class=X  expected loss=0.1277641  P(node) =0.1463502\n",
      "    class counts:    15     5     1   355    14    17\n",
      "   probabilities: 0.037 0.012 0.002 0.872 0.034 0.042 \n",
      "\n",
      "Node number 59: 76 observations\n",
      "  predicted class=Z  expected loss=0.3157895  P(node) =0.0273283\n",
      "    class counts:     0     0     0    24     0    52\n",
      "   probabilities: 0.000 0.000 0.000 0.316 0.000 0.684 \n",
      "\n",
      "Node number 104: 397 observations\n",
      "  predicted class=V  expected loss=0.1687657  P(node) =0.1427544\n",
      "    class counts:     6   330    30     0    31     0\n",
      "   probabilities: 0.015 0.831 0.076 0.000 0.078 0.000 \n",
      "\n",
      "Node number 105: 64 observations\n",
      "  predicted class=Y  expected loss=0.28125  P(node) =0.0230133\n",
      "    class counts:     0    16     0     0    46     2\n",
      "   probabilities: 0.000 0.250 0.000 0.000 0.719 0.031 \n",
      "\n",
      "Node number 106: 72 observations\n",
      "  predicted class=X  expected loss=0.25  P(node) =0.02588997\n",
      "    class counts:     7     0     0    54     4     7\n",
      "   probabilities: 0.097 0.000 0.000 0.750 0.056 0.097 \n",
      "\n",
      "Node number 107: 50 observations\n",
      "  predicted class=Y  expected loss=0.18  P(node) =0.01797914\n",
      "    class counts:     2     0     0     5    41     2\n",
      "   probabilities: 0.040 0.000 0.000 0.100 0.820 0.040 \n",
      "\n",
      "Node number 112: 55 observations\n",
      "  predicted class=U  expected loss=0.07272727  P(node) =0.01977706\n",
      "    class counts:    51     1     2     0     1     0\n",
      "   probabilities: 0.927 0.018 0.036 0.000 0.018 0.000 \n",
      "\n",
      "Node number 113: 30 observations\n",
      "  predicted class=X  expected loss=0.1666667  P(node) =0.01078749\n",
      "    class counts:     2     2     0    25     1     0\n",
      "   probabilities: 0.067 0.067 0.000 0.833 0.033 0.000 \n",
      "\n",
      "List of 14\n",
      " $ frame              :'data.frame':\t25 obs. of  9 variables:\n",
      "  ..$ var       : Factor w/ 9 levels \"<leaf>\",\"x2bar\",..: 4 1 3 2 1 4 7 8 1 1 ...\n",
      "  ..$ n         : int [1:25] 2781 567 2214 1290 429 861 583 461 397 64 ...\n",
      "  ..$ wt        : num [1:25] 2781 567 2214 1290 429 ...\n",
      "  ..$ dev       : num [1:25] 2293 153 1751 871 89 ...\n",
      "  ..$ yval      : num [1:25] 1 3 4 5 1 5 2 2 2 5 ...\n",
      "  ..$ complexity: num [1:25] 0.16965 0.00916 0.16049 0.13389 0.00959 ...\n",
      "  ..$ ncompete  : int [1:25] 4 0 4 4 0 4 4 4 0 0 ...\n",
      "  ..$ nsurrogate: int [1:25] 5 0 5 5 0 5 5 5 0 0 ...\n",
      "  ..$ yval2     : num [1:25, 1:14] 1 3 4 5 1 5 2 2 2 5 ...\n",
      "  .. ..- attr(*, \"dimnames\")=List of 2\n",
      "  .. .. ..$ : NULL\n",
      "  .. .. ..$ : chr [1:14] \"\" \"\" \"\" \"\" ...\n",
      " $ where              : Named int [1:2781] 5 5 19 5 2 5 5 5 23 5 ...\n",
      "  ..- attr(*, \"names\")= chr [1:2781] \"1\" \"3\" \"5\" \"6\" ...\n",
      " $ call               : language rpart(formula = letter ~ . - isU, data = train.1.9, method = \"class\")\n",
      " $ terms              :Classes 'terms', 'formula'  language letter ~ (xbox + ybox + width + height + onpix + xbar + ybar + x2bar +      y2bar + xybar + x2ybar + xy2bar + xed| __truncated__ ...\n",
      "  .. ..- attr(*, \"variables\")= language list(letter, xbox, ybox, width, height, onpix, xbar, ybar, x2bar, y2bar,      xybar, x2ybar, xy2bar, xedge, xedge| __truncated__\n",
      "  .. ..- attr(*, \"factors\")= int [1:18, 1:16] 0 1 0 0 0 0 0 0 0 0 ...\n",
      "  .. .. ..- attr(*, \"dimnames\")=List of 2\n",
      "  .. .. .. ..$ : chr [1:18] \"letter\" \"xbox\" \"ybox\" \"width\" ...\n",
      "  .. .. .. ..$ : chr [1:16] \"xbox\" \"ybox\" \"width\" \"height\" ...\n",
      "  .. ..- attr(*, \"term.labels\")= chr [1:16] \"xbox\" \"ybox\" \"width\" \"height\" ...\n",
      "  .. ..- attr(*, \"order\")= int [1:16] 1 1 1 1 1 1 1 1 1 1 ...\n",
      "  .. ..- attr(*, \"intercept\")= int 1\n",
      "  .. ..- attr(*, \"response\")= int 1\n",
      "  .. ..- attr(*, \".Environment\")=<environment: R_GlobalEnv> \n",
      "  .. ..- attr(*, \"predvars\")= language list(letter, xbox, ybox, width, height, onpix, xbar, ybar, x2bar, y2bar,      xybar, x2ybar, xy2bar, xedge, xedge| __truncated__\n",
      "  .. ..- attr(*, \"dataClasses\")= Named chr [1:18] \"factor\" \"numeric\" \"numeric\" \"numeric\" ...\n",
      "  .. .. ..- attr(*, \"names\")= chr [1:18] \"letter\" \"xbox\" \"ybox\" \"width\" ...\n",
      " $ cptable            : num [1:12, 1:5] 0.1696 0.1605 0.1339 0.1186 0.0977 ...\n",
      "  ..- attr(*, \"dimnames\")=List of 2\n",
      "  .. ..$ : chr [1:12] \"1\" \"2\" \"3\" \"4\" ...\n",
      "  .. ..$ : chr [1:5] \"CP\" \"nsplit\" \"rel error\" \"xerror\" ...\n",
      " $ method             : chr \"class\"\n",
      " $ parms              :List of 3\n",
      "  ..$ prior: num [1:6(1d)] 0.175 0.165 0.162 0.17 0.17 ...\n",
      "  .. ..- attr(*, \"dimnames\")=List of 1\n",
      "  .. .. ..$ : chr [1:6] \"1\" \"2\" \"3\" \"4\" ...\n",
      "  ..$ loss : num [1:6, 1:6] 0 1 1 1 1 1 1 0 1 1 ...\n",
      "  ..$ split: num 1\n",
      " $ control            :List of 9\n",
      "  ..$ minsplit      : int 20\n",
      "  ..$ minbucket     : num 7\n",
      "  ..$ cp            : num 0.01\n",
      "  ..$ maxcompete    : int 4\n",
      "  ..$ maxsurrogate  : int 5\n",
      "  ..$ usesurrogate  : int 2\n",
      "  ..$ surrogatestyle: int 0\n",
      "  ..$ maxdepth      : int 30\n",
      "  ..$ xval          : int 10\n",
      " $ functions          :List of 3\n",
      "  ..$ summary:function (yval, dev, wt, ylevel, digits)  \n",
      "  ..$ print  :function (yval, ylevel, digits)  \n",
      "  ..$ text   :function (yval, dev, wt, ylevel, digits, n, use.n)  \n",
      " $ numresp            : int 8\n",
      " $ splits             : num [1:120, 1:5] 2781 2781 2781 2781 2781 ...\n",
      "  ..- attr(*, \"dimnames\")=List of 2\n",
      "  .. ..$ : chr [1:120] \"xedge\" \"x2ybar\" \"xedgeycor\" \"y2bar\" ...\n",
      "  .. ..$ : chr [1:5] \"count\" \"ncat\" \"improve\" \"index\" ...\n",
      " $ variable.importance: Named num [1:16] 718 376 370 361 332 ...\n",
      "  ..- attr(*, \"names\")= chr [1:16] \"xedge\" \"xedgeycor\" \"x2bar\" \"y2bar\" ...\n",
      " $ y                  : int [1:2781] 1 1 1 1 1 1 1 1 1 1 ...\n",
      " $ ordered            : Named logi [1:16] FALSE FALSE FALSE FALSE FALSE FALSE ...\n",
      "  ..- attr(*, \"names\")= chr [1:16] \"xbox\" \"ybox\" \"width\" \"height\" ...\n",
      " - attr(*, \"xlevels\")= Named list()\n",
      " - attr(*, \"ylevels\")= chr [1:6] \"U\" \"V\" \"W\" \"X\" ...\n",
      " - attr(*, \"class\")= chr \"rpart\"\n"
     ]
    }
   ],
   "source": [
    "str(summary(model.1.cart2))\n",
    "# options(repr.plot.width=8, repr.plot.height=8) # resize IRkernel plot size for jupyter\n",
    "# prp(model.1.cart2, extra=4, type=4, branch=0)"
   ]
  },
  {
   "cell_type": "markdown",
   "metadata": {},
   "source": [
    "### 1.12"
   ]
  },
  {
   "cell_type": "code",
   "execution_count": 115,
   "metadata": {},
   "outputs": [
    {
     "data": {
      "text/html": [
       "<table>\n",
       "<thead><tr><th scope=col>cp</th></tr></thead>\n",
       "<tbody>\n",
       "\t<tr><td>0</td></tr>\n",
       "</tbody>\n",
       "</table>\n"
      ],
      "text/latex": [
       "\\begin{tabular}{r|l}\n",
       " cp\\\\\n",
       "\\hline\n",
       "\t 0\\\\\n",
       "\\end{tabular}\n"
      ],
      "text/markdown": [
       "\n",
       "cp | \n",
       "|---|\n",
       "| 0 | \n",
       "\n",
       "\n"
      ],
      "text/plain": [
       "  cp\n",
       "1 0 "
      ]
     },
     "metadata": {},
     "output_type": "display_data"
    },
    {
     "data": {
      "image/png": "[encoded data removed]",
      "text/plain": [
       "plot without title"
      ]
     },
     "metadata": {},
     "output_type": "display_data"
    }
   ],
   "source": [
    "library(caret)\n",
    "\n",
    "# initialise CART inner-model to use for cross-validation\n",
    "control <- trainControl(method=\"cv\", number=10, savePredictions=\"final\")\n",
    "\n",
    "# specify parameter grid to compute over (e.g. complexity parameter for CART)\n",
    "grid <- expand.grid(cp=seq(0, 1, 0.01)) \n",
    "\n",
    "# train the model (WARNING: LONG COMPUTATION TIME)\n",
    "set.seed(1000)\n",
    "model.1.cartcv <- train(letter~.-isU, data=train.1.9, trControl=control, tuneGrid=grid, method=\"rpart\")\n",
    "\n",
    "# plot cp cross-validation results\n",
    "model.1.cartcv$bestTune\n",
    "options(repr.plot.width=9, repr.plot.height=4) # resize IRkernel plot size\n",
    "plot(model.1.cartcv$results$cp[1:50], model.1.cartcv$results$Accuracy[1:50],\n",
    "     xlab=\"Complexity parameter\",\n",
    "     ylab=\"Accuracy (cross-validation)\")"
   ]
  },
  {
   "cell_type": "markdown",
   "metadata": {},
   "source": [
    "### 1.13 and 1.14"
   ]
  },
  {
   "cell_type": "code",
   "execution_count": 119,
   "metadata": {},
   "outputs": [
    {
     "data": {
      "text/plain": [
       "             \n",
       "predict.1.rf2   U   V   W   X   Y   Z\n",
       "            U 325   0   2   0   3   0\n",
       "            V   0 300   0   0   1   0\n",
       "            W   0   5 299   0   0   0\n",
       "            X   0   0   0 315   0   2\n",
       "            Y   0   1   0   0 310   0\n",
       "            Z   0   0   0   0   0 292"
      ]
     },
     "metadata": {},
     "output_type": "display_data"
    },
    {
     "data": {
      "text/html": [
       "0.992452830188679"
      ],
      "text/latex": [
       "0.992452830188679"
      ],
      "text/markdown": [
       "0.992452830188679"
      ],
      "text/plain": [
       "[1] 0.9924528"
      ]
     },
     "metadata": {},
     "output_type": "display_data"
    }
   ],
   "source": [
    "set.seed(2000)\n",
    "model.1.rf2 <- randomForest(letter~.-isU, data=train.1.9)\n",
    "predict.1.rf2 <- predict(model.1.rf2, test.1.9)\n",
    "table.1.rf2 <- table(predict.1.rf2, test.1.9$letter)\n",
    "table.1.rf2\n",
    "sum(diag(table.1.rf2))/sum(table.1.rf2) ## accuracy"
   ]
  },
  {
   "cell_type": "markdown",
   "metadata": {},
   "source": [
    "### 2.1"
   ]
  },
  {
   "cell_type": "code",
   "execution_count": 219,
   "metadata": {},
   "outputs": [
    {
     "data": {
      "text/html": [
       "<table>\n",
       "<thead><tr><th scope=col>name</th><th scope=col>state</th><th scope=col>type</th><th scope=col>apprec</th><th scope=col>appacc</th><th scope=col>newstud</th><th scope=col>newstudtop10</th><th scope=col>newstudtop25</th><th scope=col>ft</th><th scope=col>pt</th><th scope=col>instatetuition</th><th scope=col>outofstatetuition</th><th scope=col>room</th><th scope=col>board</th><th scope=col>addfees</th><th scope=col>bookcosts</th><th scope=col>personal</th><th scope=col>facphd</th><th scope=col>studfacratio</th><th scope=col>gradrate</th></tr></thead>\n",
       "<tbody>\n",
       "\t<tr><td>Alaska Pacific University        </td><td>AK                               </td><td>Private                          </td><td> 193                             </td><td> 146                             </td><td>  55                             </td><td>16                               </td><td>44                               </td><td> 249                             </td><td>  869                            </td><td>7560                             </td><td>7560                             </td><td>1620                             </td><td>2500                             </td><td>130                              </td><td>800                              </td><td>1500                             </td><td>76                               </td><td>11.9                             </td><td>15                               </td></tr>\n",
       "\t<tr><td>University of Alaska at Fairbanks</td><td>AK                               </td><td>Public                           </td><td>1852                             </td><td>1427                             </td><td> 928                             </td><td>NA                               </td><td>NA                               </td><td>3885                             </td><td> 4519                            </td><td>1742                             </td><td>5226                             </td><td>1800                             </td><td>1790                             </td><td>155                              </td><td>650                              </td><td>2304                             </td><td>67                               </td><td>10.0                             </td><td>NA                               </td></tr>\n",
       "\t<tr><td>University of Alaska Southeast   </td><td>AK                               </td><td>Public                           </td><td> 146                             </td><td> 117                             </td><td>  89                             </td><td> 4                               </td><td>24                               </td><td> 492                             </td><td> 1849                            </td><td>1742                             </td><td>5226                             </td><td>2514                             </td><td>2250                             </td><td> 34                              </td><td>500                              </td><td>1162                             </td><td>39                               </td><td> 9.5                             </td><td>39                               </td></tr>\n",
       "\t<tr><td>University of Alaska at Anchorage</td><td>AK                               </td><td>Public                           </td><td>2065                             </td><td>1598                             </td><td>1162                             </td><td>NA                               </td><td>NA                               </td><td>6209                             </td><td>10537                            </td><td>1742                             </td><td>5226                             </td><td>2600                             </td><td>2520                             </td><td>114                              </td><td>580                              </td><td>1260                             </td><td>48                               </td><td>13.7                             </td><td>NA                               </td></tr>\n",
       "\t<tr><td><span style=white-space:pre-wrap>Alabama Agri. &amp; Mech. Univ.      </span></td><td>AL                                                                           </td><td>Public                                                                       </td><td>2817                                                                         </td><td>1920                                                                         </td><td> 984                                                                         </td><td>NA                                                                           </td><td>NA                                                                           </td><td>3958                                                                         </td><td><span style=white-space:pre-wrap>  305</span>                                </td><td>1700                                                                         </td><td>3400                                                                         </td><td>1108                                                                         </td><td>1442                                                                         </td><td>155                                                                          </td><td>500                                                                          </td><td> 850                                                                         </td><td>53                                                                           </td><td>14.3                                                                         </td><td>40                                                                           </td></tr>\n",
       "\t<tr><td>Faulkner University              </td><td>AL                               </td><td>Private                          </td><td> 345                             </td><td> 320                             </td><td> 179                             </td><td>NA                               </td><td>27                               </td><td>1367                             </td><td>  578                            </td><td>5600                             </td><td>5600                             </td><td>1550                             </td><td>1700                             </td><td>300                              </td><td>350                              </td><td>  NA                             </td><td>52                               </td><td>32.8                             </td><td>55                               </td></tr>\n",
       "</tbody>\n",
       "</table>\n"
      ],
      "text/latex": [
       "\\begin{tabular}{r|llllllllllllllllllll}\n",
       " name & state & type & apprec & appacc & newstud & newstudtop10 & newstudtop25 & ft & pt & instatetuition & outofstatetuition & room & board & addfees & bookcosts & personal & facphd & studfacratio & gradrate\\\\\n",
       "\\hline\n",
       "\t Alaska Pacific University         & AK                                & Private                           &  193                              &  146                              &   55                              & 16                                & 44                                &  249                              &   869                             & 7560                              & 7560                              & 1620                              & 2500                              & 130                               & 800                               & 1500                              & 76                                & 11.9                              & 15                               \\\\\n",
       "\t University of Alaska at Fairbanks & AK                                & Public                            & 1852                              & 1427                              &  928                              & NA                                & NA                                & 3885                              &  4519                             & 1742                              & 5226                              & 1800                              & 1790                              & 155                               & 650                               & 2304                              & 67                                & 10.0                              & NA                               \\\\\n",
       "\t University of Alaska Southeast    & AK                                & Public                            &  146                              &  117                              &   89                              &  4                                & 24                                &  492                              &  1849                             & 1742                              & 5226                              & 2514                              & 2250                              &  34                               & 500                               & 1162                              & 39                                &  9.5                              & 39                               \\\\\n",
       "\t University of Alaska at Anchorage & AK                                & Public                            & 2065                              & 1598                              & 1162                              & NA                                & NA                                & 6209                              & 10537                             & 1742                              & 5226                              & 2600                              & 2520                              & 114                               & 580                               & 1260                              & 48                                & 13.7                              & NA                               \\\\\n",
       "\t Alabama Agri. \\& Mech. Univ.       & AL                                  & Public                              & 2817                                & 1920                                &  984                                & NA                                  & NA                                  & 3958                                &   305                               & 1700                                & 3400                                & 1108                                & 1442                                & 155                                 & 500                                 &  850                                & 53                                  & 14.3                                & 40                                 \\\\\n",
       "\t Faulkner University               & AL                                & Private                           &  345                              &  320                              &  179                              & NA                                & 27                                & 1367                              &   578                             & 5600                              & 5600                              & 1550                              & 1700                              & 300                               & 350                               &   NA                              & 52                                & 32.8                              & 55                               \\\\\n",
       "\\end{tabular}\n"
      ],
      "text/markdown": [
       "\n",
       "name | state | type | apprec | appacc | newstud | newstudtop10 | newstudtop25 | ft | pt | instatetuition | outofstatetuition | room | board | addfees | bookcosts | personal | facphd | studfacratio | gradrate | \n",
       "|---|---|---|---|---|---|\n",
       "| Alaska Pacific University         | AK                                | Private                           |  193                              |  146                              |   55                              | 16                                | 44                                |  249                              |   869                             | 7560                              | 7560                              | 1620                              | 2500                              | 130                               | 800                               | 1500                              | 76                                | 11.9                              | 15                                | \n",
       "| University of Alaska at Fairbanks | AK                                | Public                            | 1852                              | 1427                              |  928                              | NA                                | NA                                | 3885                              |  4519                             | 1742                              | 5226                              | 1800                              | 1790                              | 155                               | 650                               | 2304                              | 67                                | 10.0                              | NA                                | \n",
       "| University of Alaska Southeast    | AK                                | Public                            |  146                              |  117                              |   89                              |  4                                | 24                                |  492                              |  1849                             | 1742                              | 5226                              | 2514                              | 2250                              |  34                               | 500                               | 1162                              | 39                                |  9.5                              | 39                                | \n",
       "| University of Alaska at Anchorage | AK                                | Public                            | 2065                              | 1598                              | 1162                              | NA                                | NA                                | 6209                              | 10537                             | 1742                              | 5226                              | 2600                              | 2520                              | 114                               | 580                               | 1260                              | 48                                | 13.7                              | NA                                | \n",
       "| Alabama Agri. & Mech. Univ.       | AL                                | Public                            | 2817                              | 1920                              |  984                              | NA                                | NA                                | 3958                              |   305                             | 1700                              | 3400                              | 1108                              | 1442                              | 155                               | 500                               |  850                              | 53                                | 14.3                              | 40                                | \n",
       "| Faulkner University               | AL                                | Private                           |  345                              |  320                              |  179                              | NA                                | 27                                | 1367                              |   578                             | 5600                              | 5600                              | 1550                              | 1700                              | 300                               | 350                               |   NA                              | 52                                | 32.8                              | 55                                | \n",
       "\n",
       "\n"
      ],
      "text/plain": [
       "  name                              state type    apprec appacc newstud\n",
       "1 Alaska Pacific University         AK    Private  193    146     55   \n",
       "2 University of Alaska at Fairbanks AK    Public  1852   1427    928   \n",
       "3 University of Alaska Southeast    AK    Public   146    117     89   \n",
       "4 University of Alaska at Anchorage AK    Public  2065   1598   1162   \n",
       "5 Alabama Agri. & Mech. Univ.       AL    Public  2817   1920    984   \n",
       "6 Faulkner University               AL    Private  345    320    179   \n",
       "  newstudtop10 newstudtop25 ft   pt    instatetuition outofstatetuition room\n",
       "1 16           44            249   869 7560           7560              1620\n",
       "2 NA           NA           3885  4519 1742           5226              1800\n",
       "3  4           24            492  1849 1742           5226              2514\n",
       "4 NA           NA           6209 10537 1742           5226              2600\n",
       "5 NA           NA           3958   305 1700           3400              1108\n",
       "6 NA           27           1367   578 5600           5600              1550\n",
       "  board addfees bookcosts personal facphd studfacratio gradrate\n",
       "1 2500  130     800       1500     76     11.9         15      \n",
       "2 1790  155     650       2304     67     10.0         NA      \n",
       "3 2250   34     500       1162     39      9.5         39      \n",
       "4 2520  114     580       1260     48     13.7         NA      \n",
       "5 1442  155     500        850     53     14.3         40      \n",
       "6 1700  300     350         NA     52     32.8         55      "
      ]
     },
     "metadata": {},
     "output_type": "display_data"
    },
    {
     "data": {
      "text/html": [
       "471"
      ],
      "text/latex": [
       "471"
      ],
      "text/markdown": [
       "471"
      ],
      "text/plain": [
       "[1] 471"
      ]
     },
     "metadata": {},
     "output_type": "display_data"
    }
   ],
   "source": [
    "universities <- read.csv(\"csv/universities.csv\")\n",
    "universitiesfull <- na.omit(universities)\n",
    "head(universities)\n",
    "NROW(universitiesfull)"
   ]
  },
  {
   "cell_type": "markdown",
   "metadata": {},
   "source": [
    "### 2.2"
   ]
  },
  {
   "cell_type": "code",
   "execution_count": 220,
   "metadata": {},
   "outputs": [],
   "source": [
    "universitiesreduced <- universitiesfull\n",
    "universitiesreduced$state <- NULL\n",
    "universitiesreduced$name <- NULL\n",
    "universitiesreduced$type <- NULL"
   ]
  },
  {
   "cell_type": "markdown",
   "metadata": {},
   "source": [
    "### 2.3"
   ]
  },
  {
   "cell_type": "code",
   "execution_count": 221,
   "metadata": {},
   "outputs": [
    {
     "data": {
      "text/html": [
       "-3.91272303609609"
      ],
      "text/latex": [
       "-3.91272303609609"
      ],
      "text/markdown": [
       "-3.91272303609609"
      ],
      "text/plain": [
       "[1] -3.912723"
      ]
     },
     "metadata": {},
     "output_type": "display_data"
    },
    {
     "data": {
      "text/html": [
       "13.6101658634544"
      ],
      "text/latex": [
       "13.6101658634544"
      ],
      "text/markdown": [
       "13.6101658634544"
      ],
      "text/plain": [
       "[1] 13.61017"
      ]
     },
     "metadata": {},
     "output_type": "display_data"
    }
   ],
   "source": [
    "universities.scale <- universitiesreduced\n",
    "for (i in 1:NCOL(universities.scale)) {\n",
    "    universities.scale[,i] <- scale(universities.scale[,i])\n",
    "}\n",
    "\n",
    "min(universities.scale)\n",
    "max(universities.scale)"
   ]
  },
  {
   "cell_type": "markdown",
   "metadata": {},
   "source": [
    "### 2.4"
   ]
  },
  {
   "cell_type": "code",
   "execution_count": 222,
   "metadata": {},
   "outputs": [
    {
     "data": {
      "image/png": "[encoded data removed]",
      "text/plain": [
       "Plot with title “Cluster Dendrogram”"
      ]
     },
     "metadata": {},
     "output_type": "display_data"
    }
   ],
   "source": [
    "# computes distances\n",
    "distances <- dist(universities.scale[,1:17], method=\"euclidean\")\n",
    "\n",
    "# performs hierach cluster analysis using the distances calculated\n",
    "cluster.2 <- hclust(distances, method=\"ward.D2\")\n",
    "options(repr.plot.width=9, repr.plot.height=5) # resize IRkernel plot size\n",
    "plot(cluster.2)"
   ]
  },
  {
   "cell_type": "markdown",
   "metadata": {},
   "source": [
    "### 2.5"
   ]
  },
  {
   "cell_type": "code",
   "execution_count": 228,
   "metadata": {},
   "outputs": [
    {
     "data": {
      "text/html": [
       "<table>\n",
       "<thead><tr><th></th><th scope=col>1</th><th scope=col>2</th><th scope=col>3</th><th scope=col>4</th><th scope=col>5</th><th scope=col>6</th><th scope=col>7</th><th scope=col>8</th><th scope=col>9</th><th scope=col>10</th><th scope=col>11</th><th scope=col>12</th></tr></thead>\n",
       "<tbody>\n",
       "\t<tr><th scope=row>apprec</th><td>-0.49104564 </td><td>-0.56725015 </td><td>-0.07316315 </td><td>-0.415880178</td><td> 0.65889438 </td><td> 0.23069698 </td><td> 3.49913161 </td><td> 1.78118210 </td><td>-0.39596094 </td><td> 1.35730638 </td><td>-0.6251454  </td><td> 1.94118052 </td></tr>\n",
       "\t<tr><th scope=row>appacc</th><td>-0.50260701 </td><td>-0.56011983 </td><td>-0.11827795 </td><td>-0.383263187</td><td> 0.80777671 </td><td> 0.24836644 </td><td> 3.96656362 </td><td> 1.90878733 </td><td>-0.35086382 </td><td> 0.57807009 </td><td>-0.6657828  </td><td> 1.73101940 </td></tr>\n",
       "\t<tr><th scope=row>newstud</th><td>-0.50097008 </td><td>-0.56896841 </td><td>-0.30038031 </td><td>-0.430873129</td><td> 1.50107906 </td><td> 0.31813513 </td><td> 3.97807920 </td><td> 1.66835289 </td><td>-0.14283908 </td><td> 0.51346441 </td><td>-0.6309348  </td><td> 2.99606307 </td></tr>\n",
       "\t<tr><th scope=row>newstudtop10</th><td>-0.48399147 </td><td>-0.68003959 </td><td> 1.21689607 </td><td> 0.008837911</td><td>-0.19009154 </td><td>-0.59305434 </td><td> 0.39164372 </td><td> 0.27694365 </td><td>-0.79211989 </td><td> 2.41824703 </td><td>-1.4617919  </td><td>-0.10891918 </td></tr>\n",
       "\t<tr><th scope=row>newstudtop25</th><td>-0.52918111 </td><td>-0.80416477 </td><td> 1.20290273 </td><td> 0.115882652</td><td>-0.23590746 </td><td>-0.44238059 </td><td> 0.74696320 </td><td> 0.44497635 </td><td>-0.95768481 </td><td> 1.78102749 </td><td>-1.7541439  </td><td>-0.03207016 </td></tr>\n",
       "\t<tr><th scope=row>ft</th><td>-0.44383941 </td><td>-0.54278798 </td><td>-0.34583640 </td><td>-0.442533810</td><td> 1.82648583 </td><td> 0.44066434 </td><td> 4.08311284 </td><td> 1.53514320 </td><td>-0.22731748 </td><td> 0.29898134 </td><td>-0.6506299  </td><td> 2.77113605 </td></tr>\n",
       "\t<tr><th scope=row>pt</th><td>-0.24143734 </td><td>-0.22964048 </td><td>-0.41265957 </td><td>-0.298909312</td><td> 2.43363404 </td><td> 0.29139575 </td><td> 1.76616335 </td><td> 0.59995948 </td><td>-0.08025541 </td><td>-0.28500154 </td><td>-0.3069320  </td><td>13.61016586 </td></tr>\n",
       "\t<tr><th scope=row>instatetuition</th><td>-0.09472273 </td><td>-0.09746257 </td><td> 1.37881370 </td><td> 0.397815795</td><td>-1.08350818 </td><td>-1.16429072 </td><td>-1.24318294 </td><td>-0.55455644 </td><td>-1.11678481 </td><td> 1.61556048 </td><td> 0.3305117  </td><td>-1.13030036 </td></tr>\n",
       "\t<tr><th scope=row>outofstatetuition</th><td>-0.36102227 </td><td>-0.34158973 </td><td> 1.49318066 </td><td> 0.270639569</td><td>-0.82229053 </td><td>-0.92216891 </td><td>-0.60550632 </td><td>-0.03140829 </td><td>-1.24798716 </td><td> 1.79609872 </td><td> 0.1518758  </td><td>-0.37715330 </td></tr>\n",
       "\t<tr><th scope=row>room</th><td>-0.30499958 </td><td>-0.25786784 </td><td> 0.74731343 </td><td> 0.018125556</td><td>-0.42330206 </td><td>-0.17965265 </td><td>-0.30558784 </td><td> 0.67800330 </td><td>-1.07098899 </td><td> 1.62003783 </td><td> 2.2741430  </td><td>-1.01390961 </td></tr>\n",
       "\t<tr><th scope=row>board</th><td>-0.37589192 </td><td>-0.22762697 </td><td> 0.82073516 </td><td> 0.273875922</td><td> 0.02921254 </td><td>-0.69195817 </td><td>-0.14954968 </td><td> 0.11668892 </td><td>-1.04097186 </td><td> 1.17825958 </td><td> 1.1961652  </td><td> 0.21885337 </td></tr>\n",
       "\t<tr><th scope=row>addfees</th><td>-0.35161678 </td><td>-0.42970713 </td><td>-0.21372332 </td><td>-0.128692436</td><td>-0.03177400 </td><td> 0.75962924 </td><td> 1.22586013 </td><td> 0.37197729 </td><td>-0.07388416 </td><td> 0.40066507 </td><td>-0.6997824  </td><td> 0.09829493 </td></tr>\n",
       "\t<tr><th scope=row>bookcosts</th><td> 0.67836461 </td><td>-0.24662093 </td><td> 0.03891210 </td><td>-0.201846083</td><td> 0.44429341 </td><td> 0.05319616 </td><td> 0.09988563 </td><td> 0.24138453 </td><td>-0.45891070 </td><td> 0.83871728 </td><td>10.9765619  </td><td> 1.01244587 </td></tr>\n",
       "\t<tr><th scope=row>personal</th><td> 1.82560479 </td><td>-0.37403225 </td><td>-0.64299430 </td><td>-0.375559716</td><td> 1.55405906 </td><td> 0.05367062 </td><td> 0.77983173 </td><td> 0.20024677 </td><td> 0.50973213 </td><td>-0.06217016 </td><td>-1.0148029  </td><td> 2.34372064 </td></tr>\n",
       "\t<tr><th scope=row>facphd</th><td>-0.84632887 </td><td>-1.05377920 </td><td> 0.94757379 </td><td> 0.047941387</td><td> 0.73756097 </td><td> 0.25538866 </td><td> 0.89257044 </td><td> 0.55102784 </td><td>-0.83253492 </td><td> 1.21759028 </td><td>-3.9127230  </td><td> 0.88757013 </td></tr>\n",
       "\t<tr><th scope=row>studfacratio</th><td>-0.37337532 </td><td> 0.32446954 </td><td>-0.69361377 </td><td>-0.287722339</td><td> 0.28072606 </td><td> 0.76759064 </td><td> 1.05048812 </td><td> 0.28948799 </td><td> 0.91797057 </td><td>-1.78709725 </td><td>-1.8371119  </td><td>-0.45208985 </td></tr>\n",
       "\t<tr><th scope=row>gradrate</th><td>-0.40914407 </td><td>-0.18530054 </td><td> 0.96916582 </td><td> 0.266256506</td><td>-1.17248146 </td><td>-0.52990855 </td><td> 0.08839156 </td><td> 0.29723453 </td><td>-1.18822597 </td><td> 1.26673710 </td><td>-1.0229086  </td><td>-1.13312018 </td></tr>\n",
       "</tbody>\n",
       "</table>\n"
      ],
      "text/latex": [
       "\\begin{tabular}{r|llllllllllll}\n",
       "  & 1 & 2 & 3 & 4 & 5 & 6 & 7 & 8 & 9 & 10 & 11 & 12\\\\\n",
       "\\hline\n",
       "\tapprec & -0.49104564  & -0.56725015  & -0.07316315  & -0.415880178 &  0.65889438  &  0.23069698  &  3.49913161  &  1.78118210  & -0.39596094  &  1.35730638  & -0.6251454   &  1.94118052 \\\\\n",
       "\tappacc & -0.50260701  & -0.56011983  & -0.11827795  & -0.383263187 &  0.80777671  &  0.24836644  &  3.96656362  &  1.90878733  & -0.35086382  &  0.57807009  & -0.6657828   &  1.73101940 \\\\\n",
       "\tnewstud & -0.50097008  & -0.56896841  & -0.30038031  & -0.430873129 &  1.50107906  &  0.31813513  &  3.97807920  &  1.66835289  & -0.14283908  &  0.51346441  & -0.6309348   &  2.99606307 \\\\\n",
       "\tnewstudtop10 & -0.48399147  & -0.68003959  &  1.21689607  &  0.008837911 & -0.19009154  & -0.59305434  &  0.39164372  &  0.27694365  & -0.79211989  &  2.41824703  & -1.4617919   & -0.10891918 \\\\\n",
       "\tnewstudtop25 & -0.52918111  & -0.80416477  &  1.20290273  &  0.115882652 & -0.23590746  & -0.44238059  &  0.74696320  &  0.44497635  & -0.95768481  &  1.78102749  & -1.7541439   & -0.03207016 \\\\\n",
       "\tft & -0.44383941  & -0.54278798  & -0.34583640  & -0.442533810 &  1.82648583  &  0.44066434  &  4.08311284  &  1.53514320  & -0.22731748  &  0.29898134  & -0.6506299   &  2.77113605 \\\\\n",
       "\tpt & -0.24143734  & -0.22964048  & -0.41265957  & -0.298909312 &  2.43363404  &  0.29139575  &  1.76616335  &  0.59995948  & -0.08025541  & -0.28500154  & -0.3069320   & 13.61016586 \\\\\n",
       "\tinstatetuition & -0.09472273  & -0.09746257  &  1.37881370  &  0.397815795 & -1.08350818  & -1.16429072  & -1.24318294  & -0.55455644  & -1.11678481  &  1.61556048  &  0.3305117   & -1.13030036 \\\\\n",
       "\toutofstatetuition & -0.36102227  & -0.34158973  &  1.49318066  &  0.270639569 & -0.82229053  & -0.92216891  & -0.60550632  & -0.03140829  & -1.24798716  &  1.79609872  &  0.1518758   & -0.37715330 \\\\\n",
       "\troom & -0.30499958  & -0.25786784  &  0.74731343  &  0.018125556 & -0.42330206  & -0.17965265  & -0.30558784  &  0.67800330  & -1.07098899  &  1.62003783  &  2.2741430   & -1.01390961 \\\\\n",
       "\tboard & -0.37589192  & -0.22762697  &  0.82073516  &  0.273875922 &  0.02921254  & -0.69195817  & -0.14954968  &  0.11668892  & -1.04097186  &  1.17825958  &  1.1961652   &  0.21885337 \\\\\n",
       "\taddfees & -0.35161678  & -0.42970713  & -0.21372332  & -0.128692436 & -0.03177400  &  0.75962924  &  1.22586013  &  0.37197729  & -0.07388416  &  0.40066507  & -0.6997824   &  0.09829493 \\\\\n",
       "\tbookcosts &  0.67836461  & -0.24662093  &  0.03891210  & -0.201846083 &  0.44429341  &  0.05319616  &  0.09988563  &  0.24138453  & -0.45891070  &  0.83871728  & 10.9765619   &  1.01244587 \\\\\n",
       "\tpersonal &  1.82560479  & -0.37403225  & -0.64299430  & -0.375559716 &  1.55405906  &  0.05367062  &  0.77983173  &  0.20024677  &  0.50973213  & -0.06217016  & -1.0148029   &  2.34372064 \\\\\n",
       "\tfacphd & -0.84632887  & -1.05377920  &  0.94757379  &  0.047941387 &  0.73756097  &  0.25538866  &  0.89257044  &  0.55102784  & -0.83253492  &  1.21759028  & -3.9127230   &  0.88757013 \\\\\n",
       "\tstudfacratio & -0.37337532  &  0.32446954  & -0.69361377  & -0.287722339 &  0.28072606  &  0.76759064  &  1.05048812  &  0.28948799  &  0.91797057  & -1.78709725  & -1.8371119   & -0.45208985 \\\\\n",
       "\tgradrate & -0.40914407  & -0.18530054  &  0.96916582  &  0.266256506 & -1.17248146  & -0.52990855  &  0.08839156  &  0.29723453  & -1.18822597  &  1.26673710  & -1.0229086   & -1.13312018 \\\\\n",
       "\\end{tabular}\n"
      ],
      "text/markdown": [
       "\n",
       "| <!--/--> | 1 | 2 | 3 | 4 | 5 | 6 | 7 | 8 | 9 | 10 | 11 | 12 | \n",
       "|---|---|---|---|---|---|---|---|---|---|---|---|---|---|---|---|---|\n",
       "| apprec | -0.49104564  | -0.56725015  | -0.07316315  | -0.415880178 |  0.65889438  |  0.23069698  |  3.49913161  |  1.78118210  | -0.39596094  |  1.35730638  | -0.6251454   |  1.94118052  | \n",
       "| appacc | -0.50260701  | -0.56011983  | -0.11827795  | -0.383263187 |  0.80777671  |  0.24836644  |  3.96656362  |  1.90878733  | -0.35086382  |  0.57807009  | -0.6657828   |  1.73101940  | \n",
       "| newstud | -0.50097008  | -0.56896841  | -0.30038031  | -0.430873129 |  1.50107906  |  0.31813513  |  3.97807920  |  1.66835289  | -0.14283908  |  0.51346441  | -0.6309348   |  2.99606307  | \n",
       "| newstudtop10 | -0.48399147  | -0.68003959  |  1.21689607  |  0.008837911 | -0.19009154  | -0.59305434  |  0.39164372  |  0.27694365  | -0.79211989  |  2.41824703  | -1.4617919   | -0.10891918  | \n",
       "| newstudtop25 | -0.52918111  | -0.80416477  |  1.20290273  |  0.115882652 | -0.23590746  | -0.44238059  |  0.74696320  |  0.44497635  | -0.95768481  |  1.78102749  | -1.7541439   | -0.03207016  | \n",
       "| ft | -0.44383941  | -0.54278798  | -0.34583640  | -0.442533810 |  1.82648583  |  0.44066434  |  4.08311284  |  1.53514320  | -0.22731748  |  0.29898134  | -0.6506299   |  2.77113605  | \n",
       "| pt | -0.24143734  | -0.22964048  | -0.41265957  | -0.298909312 |  2.43363404  |  0.29139575  |  1.76616335  |  0.59995948  | -0.08025541  | -0.28500154  | -0.3069320   | 13.61016586  | \n",
       "| instatetuition | -0.09472273  | -0.09746257  |  1.37881370  |  0.397815795 | -1.08350818  | -1.16429072  | -1.24318294  | -0.55455644  | -1.11678481  |  1.61556048  |  0.3305117   | -1.13030036  | \n",
       "| outofstatetuition | -0.36102227  | -0.34158973  |  1.49318066  |  0.270639569 | -0.82229053  | -0.92216891  | -0.60550632  | -0.03140829  | -1.24798716  |  1.79609872  |  0.1518758   | -0.37715330  | \n",
       "| room | -0.30499958  | -0.25786784  |  0.74731343  |  0.018125556 | -0.42330206  | -0.17965265  | -0.30558784  |  0.67800330  | -1.07098899  |  1.62003783  |  2.2741430   | -1.01390961  | \n",
       "| board | -0.37589192  | -0.22762697  |  0.82073516  |  0.273875922 |  0.02921254  | -0.69195817  | -0.14954968  |  0.11668892  | -1.04097186  |  1.17825958  |  1.1961652   |  0.21885337  | \n",
       "| addfees | -0.35161678  | -0.42970713  | -0.21372332  | -0.128692436 | -0.03177400  |  0.75962924  |  1.22586013  |  0.37197729  | -0.07388416  |  0.40066507  | -0.6997824   |  0.09829493  | \n",
       "| bookcosts |  0.67836461  | -0.24662093  |  0.03891210  | -0.201846083 |  0.44429341  |  0.05319616  |  0.09988563  |  0.24138453  | -0.45891070  |  0.83871728  | 10.9765619   |  1.01244587  | \n",
       "| personal |  1.82560479  | -0.37403225  | -0.64299430  | -0.375559716 |  1.55405906  |  0.05367062  |  0.77983173  |  0.20024677  |  0.50973213  | -0.06217016  | -1.0148029   |  2.34372064  | \n",
       "| facphd | -0.84632887  | -1.05377920  |  0.94757379  |  0.047941387 |  0.73756097  |  0.25538866  |  0.89257044  |  0.55102784  | -0.83253492  |  1.21759028  | -3.9127230   |  0.88757013  | \n",
       "| studfacratio | -0.37337532  |  0.32446954  | -0.69361377  | -0.287722339 |  0.28072606  |  0.76759064  |  1.05048812  |  0.28948799  |  0.91797057  | -1.78709725  | -1.8371119   | -0.45208985  | \n",
       "| gradrate | -0.40914407  | -0.18530054  |  0.96916582  |  0.266256506 | -1.17248146  | -0.52990855  |  0.08839156  |  0.29723453  | -1.18822597  |  1.26673710  | -1.0229086   | -1.13312018  | \n",
       "\n",
       "\n"
      ],
      "text/plain": [
       "                  1           2           3           4            5          \n",
       "apprec            -0.49104564 -0.56725015 -0.07316315 -0.415880178  0.65889438\n",
       "appacc            -0.50260701 -0.56011983 -0.11827795 -0.383263187  0.80777671\n",
       "newstud           -0.50097008 -0.56896841 -0.30038031 -0.430873129  1.50107906\n",
       "newstudtop10      -0.48399147 -0.68003959  1.21689607  0.008837911 -0.19009154\n",
       "newstudtop25      -0.52918111 -0.80416477  1.20290273  0.115882652 -0.23590746\n",
       "ft                -0.44383941 -0.54278798 -0.34583640 -0.442533810  1.82648583\n",
       "pt                -0.24143734 -0.22964048 -0.41265957 -0.298909312  2.43363404\n",
       "instatetuition    -0.09472273 -0.09746257  1.37881370  0.397815795 -1.08350818\n",
       "outofstatetuition -0.36102227 -0.34158973  1.49318066  0.270639569 -0.82229053\n",
       "room              -0.30499958 -0.25786784  0.74731343  0.018125556 -0.42330206\n",
       "board             -0.37589192 -0.22762697  0.82073516  0.273875922  0.02921254\n",
       "addfees           -0.35161678 -0.42970713 -0.21372332 -0.128692436 -0.03177400\n",
       "bookcosts          0.67836461 -0.24662093  0.03891210 -0.201846083  0.44429341\n",
       "personal           1.82560479 -0.37403225 -0.64299430 -0.375559716  1.55405906\n",
       "facphd            -0.84632887 -1.05377920  0.94757379  0.047941387  0.73756097\n",
       "studfacratio      -0.37337532  0.32446954 -0.69361377 -0.287722339  0.28072606\n",
       "gradrate          -0.40914407 -0.18530054  0.96916582  0.266256506 -1.17248146\n",
       "                  6           7           8           9           10         \n",
       "apprec             0.23069698  3.49913161  1.78118210 -0.39596094  1.35730638\n",
       "appacc             0.24836644  3.96656362  1.90878733 -0.35086382  0.57807009\n",
       "newstud            0.31813513  3.97807920  1.66835289 -0.14283908  0.51346441\n",
       "newstudtop10      -0.59305434  0.39164372  0.27694365 -0.79211989  2.41824703\n",
       "newstudtop25      -0.44238059  0.74696320  0.44497635 -0.95768481  1.78102749\n",
       "ft                 0.44066434  4.08311284  1.53514320 -0.22731748  0.29898134\n",
       "pt                 0.29139575  1.76616335  0.59995948 -0.08025541 -0.28500154\n",
       "instatetuition    -1.16429072 -1.24318294 -0.55455644 -1.11678481  1.61556048\n",
       "outofstatetuition -0.92216891 -0.60550632 -0.03140829 -1.24798716  1.79609872\n",
       "room              -0.17965265 -0.30558784  0.67800330 -1.07098899  1.62003783\n",
       "board             -0.69195817 -0.14954968  0.11668892 -1.04097186  1.17825958\n",
       "addfees            0.75962924  1.22586013  0.37197729 -0.07388416  0.40066507\n",
       "bookcosts          0.05319616  0.09988563  0.24138453 -0.45891070  0.83871728\n",
       "personal           0.05367062  0.77983173  0.20024677  0.50973213 -0.06217016\n",
       "facphd             0.25538866  0.89257044  0.55102784 -0.83253492  1.21759028\n",
       "studfacratio       0.76759064  1.05048812  0.28948799  0.91797057 -1.78709725\n",
       "gradrate          -0.52990855  0.08839156  0.29723453 -1.18822597  1.26673710\n",
       "                  11         12         \n",
       "apprec            -0.6251454  1.94118052\n",
       "appacc            -0.6657828  1.73101940\n",
       "newstud           -0.6309348  2.99606307\n",
       "newstudtop10      -1.4617919 -0.10891918\n",
       "newstudtop25      -1.7541439 -0.03207016\n",
       "ft                -0.6506299  2.77113605\n",
       "pt                -0.3069320 13.61016586\n",
       "instatetuition     0.3305117 -1.13030036\n",
       "outofstatetuition  0.1518758 -0.37715330\n",
       "room               2.2741430 -1.01390961\n",
       "board              1.1961652  0.21885337\n",
       "addfees           -0.6997824  0.09829493\n",
       "bookcosts         10.9765619  1.01244587\n",
       "personal          -1.0148029  2.34372064\n",
       "facphd            -3.9127230  0.88757013\n",
       "studfacratio      -1.8371119 -0.45208985\n",
       "gradrate          -1.0229086 -1.13312018"
      ]
     },
     "metadata": {},
     "output_type": "display_data"
    }
   ],
   "source": [
    "# cuts tree into k subclusters\n",
    "size <- 12\n",
    "clusterGroups <- cutree(cluster.2, k=size)\n",
    "# how do we select k-value???\n",
    "\n",
    "\n",
    "# Now, compute average value  across the cluster groups for ALL genres\n",
    "categories <- matrix(0, nrow=NCOL(universities.scale), ncol=size)\n",
    "for (i in 1:NCOL(universities.scale)) {\n",
    "    categories[i,] <- tapply(universities.scale[,i], clusterGroups, mean)\n",
    "}\n",
    "\n",
    "# naming the matrix rows and columns\n",
    "rownames(categories) <- colnames(universities.scale)\n",
    "colnames(categories) <- c(1:size)\n",
    "categories"
   ]
  },
  {
   "cell_type": "markdown",
   "metadata": {},
   "source": [
    "### 2.7"
   ]
  },
  {
   "cell_type": "code",
   "execution_count": 208,
   "metadata": {},
   "outputs": [
    {
     "data": {
      "text/plain": [
       "\n",
       "Private  Public \n",
       "     41      16 "
      ]
     },
     "metadata": {},
     "output_type": "display_data"
    },
    {
     "data": {
      "text/html": [
       "0.280701754385965"
      ],
      "text/latex": [
       "0.280701754385965"
      ],
      "text/markdown": [
       "0.280701754385965"
      ],
      "text/plain": [
       "[1] 0.2807018"
      ]
     },
     "metadata": {},
     "output_type": "display_data"
    }
   ],
   "source": [
    "table(subset(universities$type, clusterGroups == 10))\n",
    "(16)/(41+16)"
   ]
  },
  {
   "cell_type": "markdown",
   "metadata": {},
   "source": [
    "### 2.8"
   ]
  },
  {
   "cell_type": "code",
   "execution_count": 211,
   "metadata": {},
   "outputs": [
    {
     "data": {
      "text/plain": [
       "\n",
       "Private  Public \n",
       "    106      66 "
      ]
     },
     "metadata": {},
     "output_type": "display_data"
    },
    {
     "data": {
      "text/html": [
       "0.35036496350365"
      ],
      "text/latex": [
       "0.35036496350365"
      ],
      "text/markdown": [
       "0.35036496350365"
      ],
      "text/plain": [
       "[1] 0.350365"
      ]
     },
     "metadata": {},
     "output_type": "display_data"
    }
   ],
   "source": [
    "table(subset(universities$type, clusterGroups == 3))\n",
    "(48)/(89+48)"
   ]
  },
  {
   "cell_type": "markdown",
   "metadata": {},
   "source": [
    "### 2.9"
   ]
  },
  {
   "cell_type": "code",
   "execution_count": 230,
   "metadata": {},
   "outputs": [
    {
     "data": {
      "text/html": [
       "<table>\n",
       "<thead><tr><th></th><th scope=col>1</th><th scope=col>2</th><th scope=col>3</th><th scope=col>4</th><th scope=col>5</th><th scope=col>6</th><th scope=col>7</th><th scope=col>8</th><th scope=col>9</th><th scope=col>10</th><th scope=col>11</th><th scope=col>12</th><th scope=col>476</th></tr></thead>\n",
       "<tbody>\n",
       "\t<tr><th scope=row>apprec</th><td>1147.20690 </td><td> 836.81538 </td><td> 2849.30000</td><td> 1453.36620</td><td> 5831.07143</td><td>4086.96429 </td><td>17399.75000</td><td>10402.30435</td><td>1534.50000 </td><td> 8675.800  </td><td>  601.0    </td><td>11054.0    </td><td> 7614.0    </td></tr>\n",
       "\t<tr><th scope=row>appacc</th><td> 804.55172 </td><td> 660.55385 </td><td> 1766.81667</td><td> 1103.35915</td><td> 4085.42857</td><td>2684.80357 </td><td>11994.25000</td><td> 6842.08696</td><td>1184.47917 </td><td> 3510.300  </td><td>  396.0    </td><td> 6397.0    </td><td> 3605.0    </td></tr>\n",
       "\t<tr><th scope=row>newstud</th><td> 322.00000 </td><td> 259.73846 </td><td>  505.66667</td><td>  386.18310</td><td> 2155.14286</td><td>1072.00000 </td><td> 4423.16667</td><td> 2308.30435</td><td> 649.91667 </td><td> 1250.850  </td><td>  203.0    </td><td> 3524.0    </td><td> 1205.0    </td></tr>\n",
       "\t<tr><th scope=row>newstudtop10</th><td>  19.06897 </td><td>  15.44615 </td><td>   50.50000</td><td>   28.17606</td><td>   24.50000</td><td>  17.05357 </td><td>   35.25000</td><td>   33.13043</td><td>  13.37500 </td><td>   72.700  </td><td>    1.0    </td><td>   26.0    </td><td>   60.0    </td></tr>\n",
       "\t<tr><th scope=row>newstudtop25</th><td>  44.89655 </td><td>  39.30769 </td><td>   80.10000</td><td>   58.00704</td><td>   50.85714</td><td>  46.66071 </td><td>   70.83333</td><td>   64.69565</td><td>  36.18750 </td><td>   91.850  </td><td>   20.0    </td><td>   55.0    </td><td>   90.0    </td></tr>\n",
       "\t<tr><th scope=row>ft</th><td>1490.55172 </td><td>1028.53846 </td><td> 1948.15000</td><td> 1496.64789</td><td>12091.21429</td><td>5620.50000 </td><td>22627.91667</td><td>10730.86957</td><td>2501.54167 </td><td> 4958.950  </td><td>  525.0    </td><td>16502.0    </td><td> 4598.0    </td></tr>\n",
       "\t<tr><th scope=row>pt</th><td> 424.24138 </td><td> 442.47692 </td><td>  159.56667</td><td>  335.40141</td><td> 4559.35714</td><td>1247.89286 </td><td> 3527.58333</td><td> 1724.86957</td><td> 673.39583 </td><td>  356.900  </td><td>  323.0    </td><td>21836.0    </td><td>     NA    </td></tr>\n",
       "\t<tr><th scope=row>instatetuition</th><td>8884.06897 </td><td>8868.95385 </td><td>17013.26667</td><td>11601.30282</td><td> 3429.14286</td><td>2983.48214 </td><td> 2548.25000</td><td> 6347.26087</td><td>3245.56250 </td><td>18319.350  </td><td>11230.0    </td><td> 3171.0    </td><td>19701.0    </td></tr>\n",
       "\t<tr><th scope=row>outofstatetuition</th><td>9018.55172 </td><td>9102.33846 </td><td>17013.26667</td><td>11742.07042</td><td> 7029.71429</td><td>6599.07143 </td><td> 7964.41667</td><td>10439.73913</td><td>5194.25000 </td><td>18319.350  </td><td>11230.0    </td><td> 8949.0    </td><td>19701.0    </td></tr>\n",
       "\t<tr><th scope=row>room</th><td>2003.58621 </td><td>2037.20000 </td><td> 2754.08333</td><td> 2234.03521</td><td> 1919.21429</td><td>2092.98214 </td><td> 2003.16667</td><td> 2704.65217</td><td>1457.29167 </td><td> 3376.500  </td><td> 3843.0    </td><td> 1498.0    </td><td> 3038.0    </td></tr>\n",
       "\t<tr><th scope=row>board</th><td>1908.86207 </td><td>1992.90769 </td><td> 2587.18333</td><td> 2277.19014</td><td> 2138.50000</td><td>1729.69643 </td><td> 2037.16667</td><td> 2188.08696</td><td>1531.85417 </td><td> 2789.850  </td><td> 2800.0    </td><td> 2246.0    </td><td> 2930.0    </td></tr>\n",
       "\t<tr><th scope=row>addfees</th><td> 253.89655 </td><td> 226.10769 </td><td>  302.96667</td><td>  333.22535</td><td>  367.71429</td><td> 649.33929 </td><td>  815.25000</td><td>  511.39130</td><td> 352.72917 </td><td>  521.600  </td><td>  130.0    </td><td>  414.0    </td><td>  503.0    </td></tr>\n",
       "\t<tr><th scope=row>bookcosts</th><td> 659.48276 </td><td> 508.53846 </td><td>  555.13333</td><td>  515.84507</td><td>  621.28571</td><td> 557.46429 </td><td>  565.08333</td><td>  588.17391</td><td> 473.89583 </td><td>  685.650  </td><td> 2340.0    </td><td>  714.0    </td><td>  600.0    </td></tr>\n",
       "\t<tr><th scope=row>personal</th><td>2556.72414 </td><td>1056.90769 </td><td>  873.51667</td><td> 1055.86620</td><td> 2371.57143</td><td>1348.53571 </td><td> 1843.66667</td><td> 1448.47826</td><td>1659.50000 </td><td> 1269.550  </td><td>  620.0    </td><td> 2910.0    </td><td>  928.0    </td></tr>\n",
       "\t<tr><th scope=row>facphd</th><td>  59.10345 </td><td>  55.64615 </td><td>   89.00000</td><td>   74.00704</td><td>   85.50000</td><td>  77.46429 </td><td>   88.08333</td><td>   82.39130</td><td>  59.33333 </td><td>   93.500  </td><td>    8.0    </td><td>   88.0    </td><td>   99.0    </td></tr>\n",
       "\t<tr><th scope=row>studfacratio</th><td>  12.50690 </td><td>  15.22769 </td><td>   11.25833</td><td>   12.84085</td><td>   15.05714</td><td>  16.95536 </td><td>   18.05833</td><td>   15.09130</td><td>  17.54167 </td><td>    6.995  </td><td>    6.8    </td><td>   12.2    </td><td>   10.3    </td></tr>\n",
       "\t<tr><th scope=row>gradrate</th><td>  58.13793 </td><td>  62.20000 </td><td>   83.15000</td><td>   70.39437</td><td>   44.28571</td><td>  55.94643 </td><td>   67.16667</td><td>   70.95652</td><td>  44.00000 </td><td>   88.550  </td><td>   47.0    </td><td>   45.0    </td><td>   92.0    </td></tr>\n",
       "</tbody>\n",
       "</table>\n"
      ],
      "text/latex": [
       "\\begin{tabular}{r|lllllllllllll}\n",
       "  & 1 & 2 & 3 & 4 & 5 & 6 & 7 & 8 & 9 & 10 & 11 & 12 & 476\\\\\n",
       "\\hline\n",
       "\tapprec & 1147.20690  &  836.81538  &  2849.30000 &  1453.36620 &  5831.07143 & 4086.96429  & 17399.75000 & 10402.30435 & 1534.50000  &  8675.800   &   601.0     & 11054.0     &  7614.0    \\\\\n",
       "\tappacc &  804.55172  &  660.55385  &  1766.81667 &  1103.35915 &  4085.42857 & 2684.80357  & 11994.25000 &  6842.08696 & 1184.47917  &  3510.300   &   396.0     &  6397.0     &  3605.0    \\\\\n",
       "\tnewstud &  322.00000  &  259.73846  &   505.66667 &   386.18310 &  2155.14286 & 1072.00000  &  4423.16667 &  2308.30435 &  649.91667  &  1250.850   &   203.0     &  3524.0     &  1205.0    \\\\\n",
       "\tnewstudtop10 &   19.06897  &   15.44615  &    50.50000 &    28.17606 &    24.50000 &   17.05357  &    35.25000 &    33.13043 &   13.37500  &    72.700   &     1.0     &    26.0     &    60.0    \\\\\n",
       "\tnewstudtop25 &   44.89655  &   39.30769  &    80.10000 &    58.00704 &    50.85714 &   46.66071  &    70.83333 &    64.69565 &   36.18750  &    91.850   &    20.0     &    55.0     &    90.0    \\\\\n",
       "\tft & 1490.55172  & 1028.53846  &  1948.15000 &  1496.64789 & 12091.21429 & 5620.50000  & 22627.91667 & 10730.86957 & 2501.54167  &  4958.950   &   525.0     & 16502.0     &  4598.0    \\\\\n",
       "\tpt &  424.24138  &  442.47692  &   159.56667 &   335.40141 &  4559.35714 & 1247.89286  &  3527.58333 &  1724.86957 &  673.39583  &   356.900   &   323.0     & 21836.0     &      NA    \\\\\n",
       "\tinstatetuition & 8884.06897  & 8868.95385  & 17013.26667 & 11601.30282 &  3429.14286 & 2983.48214  &  2548.25000 &  6347.26087 & 3245.56250  & 18319.350   & 11230.0     &  3171.0     & 19701.0    \\\\\n",
       "\toutofstatetuition & 9018.55172  & 9102.33846  & 17013.26667 & 11742.07042 &  7029.71429 & 6599.07143  &  7964.41667 & 10439.73913 & 5194.25000  & 18319.350   & 11230.0     &  8949.0     & 19701.0    \\\\\n",
       "\troom & 2003.58621  & 2037.20000  &  2754.08333 &  2234.03521 &  1919.21429 & 2092.98214  &  2003.16667 &  2704.65217 & 1457.29167  &  3376.500   &  3843.0     &  1498.0     &  3038.0    \\\\\n",
       "\tboard & 1908.86207  & 1992.90769  &  2587.18333 &  2277.19014 &  2138.50000 & 1729.69643  &  2037.16667 &  2188.08696 & 1531.85417  &  2789.850   &  2800.0     &  2246.0     &  2930.0    \\\\\n",
       "\taddfees &  253.89655  &  226.10769  &   302.96667 &   333.22535 &   367.71429 &  649.33929  &   815.25000 &   511.39130 &  352.72917  &   521.600   &   130.0     &   414.0     &   503.0    \\\\\n",
       "\tbookcosts &  659.48276  &  508.53846  &   555.13333 &   515.84507 &   621.28571 &  557.46429  &   565.08333 &   588.17391 &  473.89583  &   685.650   &  2340.0     &   714.0     &   600.0    \\\\\n",
       "\tpersonal & 2556.72414  & 1056.90769  &   873.51667 &  1055.86620 &  2371.57143 & 1348.53571  &  1843.66667 &  1448.47826 & 1659.50000  &  1269.550   &   620.0     &  2910.0     &   928.0    \\\\\n",
       "\tfacphd &   59.10345  &   55.64615  &    89.00000 &    74.00704 &    85.50000 &   77.46429  &    88.08333 &    82.39130 &   59.33333  &    93.500   &     8.0     &    88.0     &    99.0    \\\\\n",
       "\tstudfacratio &   12.50690  &   15.22769  &    11.25833 &    12.84085 &    15.05714 &   16.95536  &    18.05833 &    15.09130 &   17.54167  &     6.995   &     6.8     &    12.2     &    10.3    \\\\\n",
       "\tgradrate &   58.13793  &   62.20000  &    83.15000 &    70.39437 &    44.28571 &   55.94643  &    67.16667 &    70.95652 &   44.00000  &    88.550   &    47.0     &    45.0     &    92.0    \\\\\n",
       "\\end{tabular}\n"
      ],
      "text/markdown": [
       "\n",
       "| <!--/--> | 1 | 2 | 3 | 4 | 5 | 6 | 7 | 8 | 9 | 10 | 11 | 12 | 476 | \n",
       "|---|---|---|---|---|---|---|---|---|---|---|---|---|---|---|---|---|\n",
       "| apprec | 1147.20690  |  836.81538  |  2849.30000 |  1453.36620 |  5831.07143 | 4086.96429  | 17399.75000 | 10402.30435 | 1534.50000  |  8675.800   |   601.0     | 11054.0     |  7614.0     | \n",
       "| appacc |  804.55172  |  660.55385  |  1766.81667 |  1103.35915 |  4085.42857 | 2684.80357  | 11994.25000 |  6842.08696 | 1184.47917  |  3510.300   |   396.0     |  6397.0     |  3605.0     | \n",
       "| newstud |  322.00000  |  259.73846  |   505.66667 |   386.18310 |  2155.14286 | 1072.00000  |  4423.16667 |  2308.30435 |  649.91667  |  1250.850   |   203.0     |  3524.0     |  1205.0     | \n",
       "| newstudtop10 |   19.06897  |   15.44615  |    50.50000 |    28.17606 |    24.50000 |   17.05357  |    35.25000 |    33.13043 |   13.37500  |    72.700   |     1.0     |    26.0     |    60.0     | \n",
       "| newstudtop25 |   44.89655  |   39.30769  |    80.10000 |    58.00704 |    50.85714 |   46.66071  |    70.83333 |    64.69565 |   36.18750  |    91.850   |    20.0     |    55.0     |    90.0     | \n",
       "| ft | 1490.55172  | 1028.53846  |  1948.15000 |  1496.64789 | 12091.21429 | 5620.50000  | 22627.91667 | 10730.86957 | 2501.54167  |  4958.950   |   525.0     | 16502.0     |  4598.0     | \n",
       "| pt |  424.24138  |  442.47692  |   159.56667 |   335.40141 |  4559.35714 | 1247.89286  |  3527.58333 |  1724.86957 |  673.39583  |   356.900   |   323.0     | 21836.0     |      NA     | \n",
       "| instatetuition | 8884.06897  | 8868.95385  | 17013.26667 | 11601.30282 |  3429.14286 | 2983.48214  |  2548.25000 |  6347.26087 | 3245.56250  | 18319.350   | 11230.0     |  3171.0     | 19701.0     | \n",
       "| outofstatetuition | 9018.55172  | 9102.33846  | 17013.26667 | 11742.07042 |  7029.71429 | 6599.07143  |  7964.41667 | 10439.73913 | 5194.25000  | 18319.350   | 11230.0     |  8949.0     | 19701.0     | \n",
       "| room | 2003.58621  | 2037.20000  |  2754.08333 |  2234.03521 |  1919.21429 | 2092.98214  |  2003.16667 |  2704.65217 | 1457.29167  |  3376.500   |  3843.0     |  1498.0     |  3038.0     | \n",
       "| board | 1908.86207  | 1992.90769  |  2587.18333 |  2277.19014 |  2138.50000 | 1729.69643  |  2037.16667 |  2188.08696 | 1531.85417  |  2789.850   |  2800.0     |  2246.0     |  2930.0     | \n",
       "| addfees |  253.89655  |  226.10769  |   302.96667 |   333.22535 |   367.71429 |  649.33929  |   815.25000 |   511.39130 |  352.72917  |   521.600   |   130.0     |   414.0     |   503.0     | \n",
       "| bookcosts |  659.48276  |  508.53846  |   555.13333 |   515.84507 |   621.28571 |  557.46429  |   565.08333 |   588.17391 |  473.89583  |   685.650   |  2340.0     |   714.0     |   600.0     | \n",
       "| personal | 2556.72414  | 1056.90769  |   873.51667 |  1055.86620 |  2371.57143 | 1348.53571  |  1843.66667 |  1448.47826 | 1659.50000  |  1269.550   |   620.0     |  2910.0     |   928.0     | \n",
       "| facphd |   59.10345  |   55.64615  |    89.00000 |    74.00704 |    85.50000 |   77.46429  |    88.08333 |    82.39130 |   59.33333  |    93.500   |     8.0     |    88.0     |    99.0     | \n",
       "| studfacratio |   12.50690  |   15.22769  |    11.25833 |    12.84085 |    15.05714 |   16.95536  |    18.05833 |    15.09130 |   17.54167  |     6.995   |     6.8     |    12.2     |    10.3     | \n",
       "| gradrate |   58.13793  |   62.20000  |    83.15000 |    70.39437 |    44.28571 |   55.94643  |    67.16667 |    70.95652 |   44.00000  |    88.550   |    47.0     |    45.0     |    92.0     | \n",
       "\n",
       "\n"
      ],
      "text/plain": [
       "                  1          2          3           4           5          \n",
       "apprec            1147.20690  836.81538  2849.30000  1453.36620  5831.07143\n",
       "appacc             804.55172  660.55385  1766.81667  1103.35915  4085.42857\n",
       "newstud            322.00000  259.73846   505.66667   386.18310  2155.14286\n",
       "newstudtop10        19.06897   15.44615    50.50000    28.17606    24.50000\n",
       "newstudtop25        44.89655   39.30769    80.10000    58.00704    50.85714\n",
       "ft                1490.55172 1028.53846  1948.15000  1496.64789 12091.21429\n",
       "pt                 424.24138  442.47692   159.56667   335.40141  4559.35714\n",
       "instatetuition    8884.06897 8868.95385 17013.26667 11601.30282  3429.14286\n",
       "outofstatetuition 9018.55172 9102.33846 17013.26667 11742.07042  7029.71429\n",
       "room              2003.58621 2037.20000  2754.08333  2234.03521  1919.21429\n",
       "board             1908.86207 1992.90769  2587.18333  2277.19014  2138.50000\n",
       "addfees            253.89655  226.10769   302.96667   333.22535   367.71429\n",
       "bookcosts          659.48276  508.53846   555.13333   515.84507   621.28571\n",
       "personal          2556.72414 1056.90769   873.51667  1055.86620  2371.57143\n",
       "facphd              59.10345   55.64615    89.00000    74.00704    85.50000\n",
       "studfacratio        12.50690   15.22769    11.25833    12.84085    15.05714\n",
       "gradrate            58.13793   62.20000    83.15000    70.39437    44.28571\n",
       "                  6          7           8           9          10       \n",
       "apprec            4086.96429 17399.75000 10402.30435 1534.50000  8675.800\n",
       "appacc            2684.80357 11994.25000  6842.08696 1184.47917  3510.300\n",
       "newstud           1072.00000  4423.16667  2308.30435  649.91667  1250.850\n",
       "newstudtop10        17.05357    35.25000    33.13043   13.37500    72.700\n",
       "newstudtop25        46.66071    70.83333    64.69565   36.18750    91.850\n",
       "ft                5620.50000 22627.91667 10730.86957 2501.54167  4958.950\n",
       "pt                1247.89286  3527.58333  1724.86957  673.39583   356.900\n",
       "instatetuition    2983.48214  2548.25000  6347.26087 3245.56250 18319.350\n",
       "outofstatetuition 6599.07143  7964.41667 10439.73913 5194.25000 18319.350\n",
       "room              2092.98214  2003.16667  2704.65217 1457.29167  3376.500\n",
       "board             1729.69643  2037.16667  2188.08696 1531.85417  2789.850\n",
       "addfees            649.33929   815.25000   511.39130  352.72917   521.600\n",
       "bookcosts          557.46429   565.08333   588.17391  473.89583   685.650\n",
       "personal          1348.53571  1843.66667  1448.47826 1659.50000  1269.550\n",
       "facphd              77.46429    88.08333    82.39130   59.33333    93.500\n",
       "studfacratio        16.95536    18.05833    15.09130   17.54167     6.995\n",
       "gradrate            55.94643    67.16667    70.95652   44.00000    88.550\n",
       "                  11      12      476    \n",
       "apprec              601.0 11054.0  7614.0\n",
       "appacc              396.0  6397.0  3605.0\n",
       "newstud             203.0  3524.0  1205.0\n",
       "newstudtop10          1.0    26.0    60.0\n",
       "newstudtop25         20.0    55.0    90.0\n",
       "ft                  525.0 16502.0  4598.0\n",
       "pt                  323.0 21836.0      NA\n",
       "instatetuition    11230.0  3171.0 19701.0\n",
       "outofstatetuition 11230.0  8949.0 19701.0\n",
       "room               3843.0  1498.0  3038.0\n",
       "board              2800.0  2246.0  2930.0\n",
       "addfees             130.0   414.0   503.0\n",
       "bookcosts          2340.0   714.0   600.0\n",
       "personal            620.0  2910.0   928.0\n",
       "facphd                8.0    88.0    99.0\n",
       "studfacratio          6.8    12.2    10.3\n",
       "gradrate             47.0    45.0    92.0"
      ]
     },
     "metadata": {},
     "output_type": "display_data"
    }
   ],
   "source": [
    "# cuts tree into k subclusters\n",
    "size <- 12\n",
    "clusterGroups <- cutree(cluster.2, k=size)\n",
    "# how do we select k-value???\n",
    "\n",
    "\n",
    "# Now, compute average value  across the cluster groups for ALL genres\n",
    "categories.full <- matrix(0, nrow=NCOL(universitiesreduced), ncol=size)\n",
    "for (i in 1:NCOL(universitiesreduced)) {\n",
    "    categories.full[i,] <- tapply(universitiesreduced[,i], clusterGroups, mean)\n",
    "}\n",
    "\n",
    "# naming the matrix rows and columns\n",
    "rownames(categories.full) <- colnames(universitiesreduced)\n",
    "colnames(categories.full) <- c(1:size)\n",
    "\n",
    "\n",
    "# comparing tufts with the rest\n",
    "tufts <- subset(universities, universities$name==\"Tufts University\")\n",
    "tufts$name <- NULL\n",
    "tufts$state <- NULL\n",
    "tufts$type <- NULL\n",
    "categories.full <- cbind(categories.full, t(as.matrix(tufts)))\n",
    "categories.full"
   ]
  },
  {
   "cell_type": "code",
   "execution_count": 235,
   "metadata": {},
   "outputs": [
    {
     "data": {
      "text/plain": [
       "                       apprec      appacc     newstud newstudtop10 newstudtop25\n",
       "appacc            10628.13800                                                  \n",
       "newstud           20445.03480 10302.63196                                      \n",
       "newstudtop10      26953.75140 16870.79664  6778.68921                          \n",
       "newstudtop25      26874.04538 16791.70028  6700.80044     99.12334             \n",
       "ft                11112.34762 17568.40736 26912.08817  33663.28157  33587.23694\n",
       "pt                22633.02222 19530.47818 19283.89426  23594.72801  23547.78783\n",
       "instatetuition    33001.65006 34288.90566 36506.23410  38863.32284  38784.35388\n",
       "outofstatetuition 30056.95814 33998.50890 38644.03314  42465.74153  42375.80943\n",
       "room              21661.85715 12800.96246  6888.61397   8826.45697   8734.50292\n",
       "board             21548.52487 12436.11247  5836.99997   8106.57341   8011.11628\n",
       "addfees           25599.53430 15535.56484  5519.01459   1513.65054   1420.47059\n",
       "bookcosts         25493.40067 15547.02115  5816.82938   3034.20359   2959.51950\n",
       "personal          22663.24390 12864.60257  3921.34116   5950.56528   5860.35800\n",
       "facphd            26823.68714 16740.09301  6645.11830    165.37468     73.59436\n",
       "studfacratio      27019.26269 16926.64394  6829.48770     97.75993    178.11273\n",
       "gradrate          26875.44265 16792.32265  6703.73432    124.91774     44.14880\n",
       "                           ft          pt instatetuition outofstatetuition\n",
       "appacc                                                                    \n",
       "newstud                                                                   \n",
       "newstudtop10                                                              \n",
       "newstudtop25                                                              \n",
       "ft                                                                        \n",
       "pt                25084.30604                                             \n",
       "instatetuition    40608.61282 38619.92170                                 \n",
       "outofstatetuition 35790.49086 37836.99309    10459.20057                  \n",
       "room              29160.66977 22374.26071    31035.97025       34053.44991\n",
       "board             28811.66898 21314.47647    31765.88238       34662.43560\n",
       "addfees           32383.21648 22943.77252    37838.68701       41222.40185\n",
       "bookcosts         32274.00875 22723.97003    36752.06401       40186.10221\n",
       "personal          29084.30370 20122.00532    35486.95762       38123.49306\n",
       "facphd            33531.13742 23500.49365    38753.06309       42331.92175\n",
       "studfacratio      33709.83047 23616.01433    38946.53629       42548.39636\n",
       "gradrate          33590.73757 23557.41581    38763.10724       42356.78964\n",
       "                         room       board     addfees   bookcosts    personal\n",
       "appacc                                                                       \n",
       "newstud                                                                      \n",
       "newstudtop10                                                                 \n",
       "newstudtop25                                                                 \n",
       "ft                                                                           \n",
       "pt                                                                           \n",
       "instatetuition                                                               \n",
       "outofstatetuition                                                            \n",
       "room                                                                         \n",
       "board              1580.33084                                                \n",
       "addfees            7578.48790  6809.92857                                    \n",
       "bookcosts          6288.57904  5738.74030  2346.81198                        \n",
       "personal           5465.11555  4247.00853  4711.57009  4471.28772            \n",
       "facphd             8689.64894  7959.42805  1361.32375  2929.58768  5794.76101\n",
       "studfacratio       8895.90355  8177.11133  1578.96415  3074.24671  6000.72865\n",
       "gradrate           8709.63206  7989.47070  1409.87101  2930.31143  5848.83118\n",
       "                       facphd studfacratio\n",
       "appacc                                    \n",
       "newstud                                   \n",
       "newstudtop10                              \n",
       "newstudtop25                              \n",
       "ft                                        \n",
       "pt                                        \n",
       "instatetuition                            \n",
       "outofstatetuition                         \n",
       "room                                      \n",
       "board                                     \n",
       "addfees                                   \n",
       "bookcosts                                 \n",
       "personal                                  \n",
       "facphd                                    \n",
       "studfacratio        233.43245             \n",
       "gradrate             80.62053    193.37684"
      ]
     },
     "metadata": {},
     "output_type": "display_data"
    },
    {
     "ename": "ERROR",
     "evalue": "Error in tapply(t(tufts), clusterGroups, mean): arguments must have same length\n",
     "output_type": "error",
     "traceback": [
      "Error in tapply(t(tufts), clusterGroups, mean): arguments must have same length\nTraceback:\n",
      "1. tapply(t(tufts), clusterGroups, mean)",
      "2. stop(\"arguments must have same length\")"
     ]
    }
   ],
   "source": [
    "# calculating distance\n",
    "dist(categories.full, method=\"euclidean\")\n",
    "tapply(t(tufts), clusterGroups, mean)\n",
    "# ?tapply"
   ]
  }
 ],
 "metadata": {
  "kernelspec": {
   "display_name": "R",
   "language": "R",
   "name": "ir"
  },
  "language_info": {
   "codemirror_mode": "r",
   "file_extension": ".r",
   "mimetype": "text/x-r-source",
   "name": "R",
   "pygments_lexer": "r",
   "version": "3.4.0"
  }
 },
 "nbformat": 4,
 "nbformat_minor": 2
}
