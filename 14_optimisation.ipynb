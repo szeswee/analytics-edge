{
 "cells": [
  {
   "cell_type": "markdown",
   "metadata": {},
   "source": [
    "### Revenue Management in Airlines"
   ]
  },
  {
   "cell_type": "code",
   "execution_count": 1,
   "metadata": {},
   "outputs": [
    {
     "data": {
      "text/latex": [
       "$$ 100 x_{1} + 90 x_{2} + 80 x_{3} + 215 y_{1} + 185 y_{2} + 145 y_{3} + 140 z_{1} + 120 z_{2} + 100 z_{3} $$"
      ],
      "text/plain": [
       "100 x[1] + 90 x[2] + 80 x[3] + 215 y[1] + 185 y[2] + 145 y[3] + 140 z[1] + 120 z[2] + 100 z[3]"
      ]
     },
     "execution_count": 1,
     "metadata": {},
     "output_type": "execute_result"
    }
   ],
   "source": [
    "using JuMP # JuMP provides the modelling language to code the problem in\n",
    "using Cbc # free solver to solve LPs\n",
    "\n",
    "# initialising model\n",
    "m = Model(solver=CbcSolver())\n",
    "\n",
    "# non-negativity constraints\n",
    "@variable(m, x[1:3] >= 0)\n",
    "@variable(m, y[1:3] >= 0)\n",
    "@variable(m, z[1:3] >= 0)\n",
    "\n",
    "# capacity constraints\n",
    "@constraint(m, constraint1, x[1]+x[2]+x[3]+y[1]+y[2]+y[3] <= 300)\n",
    "@constraint(m, constraint2, z[1]+z[2]+z[3]+y[1]+y[2]+y[3] <= 200)\n",
    "\n",
    "# demand constraints\n",
    "@constraint(m, x[1] <= 20)\n",
    "@constraint(m, x[2] <= 40)\n",
    "@constraint(m, x[3] <= 60)\n",
    "@constraint(m, y[1] <= 80)\n",
    "@constraint(m, y[2] <= 60)\n",
    "@constraint(m, y[3] <= 70)\n",
    "@constraint(m, z[1] <= 20)\n",
    "@constraint(m, z[2] <= 20)\n",
    "@constraint(m, z[3] <= 30)\n",
    "\n",
    "# objective function\n",
    "@objective(m, Max, 100*x[1]+90*x[2]+80*x[3]+215*y[1]+185*y[2]+145*y[3]+140*z[1]+120*z[2]+100*z[3])"
   ]
  },
  {
   "cell_type": "code",
   "execution_count": 2,
   "metadata": {},
   "outputs": [
    {
     "data": {
      "text/latex": [
       "$$ \\begin{alignat*}{1}\\max\\quad & 100 x_{1} + 90 x_{2} + 80 x_{3} + 215 y_{1} + 185 y_{2} + 145 y_{3} + 140 z_{1} + 120 z_{2} + 100 z_{3}\\\\\n",
       "\\text{Subject to} \\quad & x_{1} + x_{2} + x_{3} + y_{1} + y_{2} + y_{3} \\leq 300\\\\\n",
       " & z_{1} + z_{2} + z_{3} + y_{1} + y_{2} + y_{3} \\leq 200\\\\\n",
       " & x_{1} \\leq 20\\\\\n",
       " & x_{2} \\leq 40\\\\\n",
       " & x_{3} \\leq 60\\\\\n",
       " & y_{1} \\leq 80\\\\\n",
       " & y_{2} \\leq 60\\\\\n",
       " & y_{3} \\leq 70\\\\\n",
       " & z_{1} \\leq 20\\\\\n",
       " & z_{2} \\leq 20\\\\\n",
       " & z_{3} \\leq 30\\\\\n",
       " & x_{i} \\geq 0 \\quad\\forall i \\in \\{1,2,3\\}\\\\\n",
       " & y_{i} \\geq 0 \\quad\\forall i \\in \\{1,2,3\\}\\\\\n",
       " & z_{i} \\geq 0 \\quad\\forall i \\in \\{1,2,3\\}\\\\\n",
       "\\end{alignat*}\n",
       " $$"
      ],
      "text/plain": [
       "Maximization problem with:\n",
       " * 11 linear constraints\n",
       " * 9 variables\n",
       "Solver is CbcMathProg"
      ]
     },
     "execution_count": 2,
     "metadata": {},
     "output_type": "execute_result"
    }
   ],
   "source": [
    "# show model\n",
    "m"
   ]
  },
  {
   "cell_type": "code",
   "execution_count": 3,
   "metadata": {},
   "outputs": [
    {
     "data": {
      "text/plain": [
       "47300.0"
      ]
     },
     "execution_count": 3,
     "metadata": {},
     "output_type": "execute_result"
    }
   ],
   "source": [
    "# solving model\n",
    "solve(m)\n",
    "\n",
    "# get optimal objective function value\n",
    "getobjectivevalue(m)"
   ]
  },
  {
   "cell_type": "code",
   "execution_count": 4,
   "metadata": {},
   "outputs": [
    {
     "data": {
      "text/plain": [
       "3-element Array{Float64,1}:\n",
       " 20.0\n",
       " 40.0\n",
       " 60.0"
      ]
     },
     "execution_count": 4,
     "metadata": {},
     "output_type": "execute_result"
    }
   ],
   "source": [
    "getvalue(x)"
   ]
  },
  {
   "cell_type": "code",
   "execution_count": 5,
   "metadata": {},
   "outputs": [
    {
     "data": {
      "text/plain": [
       "3-element Array{Float64,1}:\n",
       " 80.0\n",
       " 60.0\n",
       " 40.0"
      ]
     },
     "execution_count": 5,
     "metadata": {},
     "output_type": "execute_result"
    }
   ],
   "source": [
    "# get optimal decision variables\n",
    "getvalue(y)"
   ]
  },
  {
   "cell_type": "code",
   "execution_count": 6,
   "metadata": {},
   "outputs": [
    {
     "data": {
      "text/plain": [
       "3-element Array{Float64,1}:\n",
       " 20.0\n",
       "  0.0\n",
       "  0.0"
      ]
     },
     "execution_count": 6,
     "metadata": {},
     "output_type": "execute_result"
    }
   ],
   "source": [
    "# get optimal decision variables\n",
    "getvalue(z)"
   ]
  },
  {
   "cell_type": "code",
   "execution_count": 7,
   "metadata": {},
   "outputs": [
    {
     "data": {
      "text/plain": [
       "NaN"
      ]
     },
     "execution_count": 7,
     "metadata": {},
     "output_type": "execute_result"
    }
   ],
   "source": [
    "# get dual constraints\n",
    "getdual(constraint1)\n",
    "getdual(constraint2)"
   ]
  },
  {
   "cell_type": "markdown",
   "metadata": {},
   "source": [
    "It is also possible to separate the model and the coefficient data into separate structures/files for modularity, just like AMPL.\n",
    "\n",
    "The `Nan` obtained when attempting to get the dual of the constraints may be due to the CbcSolver not providing duals. Will have to check."
   ]
  }
 ],
 "metadata": {
  "kernelspec": {
   "display_name": "Julia 0.5.2",
   "language": "julia",
   "name": "julia-0.5"
  },
  "language_info": {
   "file_extension": ".jl",
   "mimetype": "application/julia",
   "name": "julia",
   "version": "0.5.2"
  }
 },
 "nbformat": 4,
 "nbformat_minor": 2
}
