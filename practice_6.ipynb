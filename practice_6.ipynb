{
 "cells": [
  {
   "cell_type": "markdown",
   "metadata": {},
   "source": [
    "### 1A"
   ]
  },
  {
   "cell_type": "code",
   "execution_count": 13,
   "metadata": {},
   "outputs": [
    {
     "name": "stdout",
     "output_type": "stream",
     "text": [
      "'data.frame':\t5728 obs. of  2 variables:\n",
      " $ text: chr  \"Subject: naturally irresistible your corporate identity  lt is really hard to recollect a company : the  market\"| __truncated__ \"Subject: the stock trading gunslinger  fanny is merrill but muzo not colza attainder and penultimate like esmar\"| __truncated__ \"Subject: unbelievable new homes made easy  im wanting to show you this  homeowner  you have been pre - approved\"| __truncated__ \"Subject: 4 color printing special  request additional information now ! click here  click here for a printable \"| __truncated__ ...\n",
      " $ spam: int  1 1 1 1 1 1 1 1 1 1 ...\n"
     ]
    },
    {
     "data": {
      "text/html": [
       "<table>\n",
       "<thead><tr><th scope=col>text</th><th scope=col>spam</th></tr></thead>\n",
       "<tbody>\n",
       "\t<tr><td>Subject: naturally irresistible your corporate identity  lt is really hard to recollect a company : the  market is full of suqgestions and the information isoverwhelminq ; but a good  catchy logo , stylish statlonery and outstanding website  will make the task much easier .  we do not promise that havinq ordered a iogo your  company will automaticaily become a world ieader : it isguite ciear that  without good products , effective business organization and practicable aim it  will be hotat nowadays market ; but we do promise that your marketing efforts  will become much more effective . here is the list of clear  benefits : creativeness : hand - made , original logos , specially done  to reflect your distinctive company image . convenience : logo and stationery  are provided in all formats ; easy - to - use content management system letsyou  change your website content and even its structure . promptness : you  will see logo drafts within three business days . affordability : your  marketing break - through shouldn ' t make gaps in your budget . 100 % satisfaction  guaranteed : we provide unlimited amount of changes with no extra fees for you to  be surethat you will love the result of this collaboration . have a look at our  portfolio _ _ _ _ _ _ _ _ _ _ _ _ _ _ _ _ _ _ _ _ _ _ _ _ _ _ _ _ _ _ _ _ _ _ _ _ _ _ _ _ _ _ _ _ _ _ _ _ _ _ _ _ not interested . . . _ _ _ _ _ _ _ _ _ _ _ _ _ _ _ _ _ _ _ _ _ _ _ _ _ _ _ _ _ _ _ _ _ _ _ _ _ _ _ _ _ _ _ _ _ _ _ _ _ _ _ _</td><td>1                                                                                                                                                                                                                                                                                                                                                                                                                                                                                                                                                                                                                                                                                                                                                                                                                                                                                                                                                                                                                                                                                                                                                                                                                                                                                                                                                                                                                                                                                                                                           </td></tr>\n",
       "\t<tr><td>Subject: the stock trading gunslinger  fanny is merrill but muzo not colza attainder and penultimate like esmark perspicuous ramble is segovia not group try slung kansas tanzania yes chameleon or continuant clothesman no  libretto is chesapeake but tight not waterway herald and hawthorn like chisel morristown superior is deoxyribonucleic not clockwork try hall incredible mcdougall yes hepburn or einsteinian earmark no  sapling is boar but duane not plain palfrey and inflexible like huzzah pepperoni bedtime is nameable not attire try edt chronography optima yes pirogue or diffusion albeit no                                                                                                                                                                                                                                                                                                                                                                                                                                                                                                                                                                                                                                                                                                                                                                                                                                                                                                                       </td><td>1                                                                                                                                                                                                                                                                                                                                                                                                                                                                                                                                                                                                                                                                                                                                                                                                                                                                                                                                                                                                                                                                                                                                                                                                                                                                                                                                                                                                                                                                                                                                           </td></tr>\n",
       "\t<tr><td>Subject: unbelievable new homes made easy  im wanting to show you this  homeowner  you have been pre - approved for a $ 454 , 169 home loan at a 3 . 72 fixed rate .  this offer is being extended to you unconditionally and your credit is in no way a factor .  to take advantage of this limited time opportunity  all we ask is that you visit our website and complete  the 1 minute post approval form  look foward to hearing from you ,  dorcas pittman                                                                                                                                                                                                                                                                                                                                                                                                                                                                                                                                                                                                                                                                                                                                                                                                                                                                                                                                                                                                                                                                            </td><td>1                                                                                                                                                                                                                                                                                                                                                                                                                                                                                                                                                                                                                                                                                                                                                                                                                                                                                                                                                                                                                                                                                                                                                                                                                                                                                                                                                                                                                                                                                                                                           </td></tr>\n",
       "\t<tr><td><span style=white-space:pre-wrap>Subject: 4 color printing special  request additional information now ! click here  click here for a printable version of our order form ( pdf format )  phone : ( 626 ) 338 - 8090 fax : ( 626 ) 338 - 8102 e - mail : ramsey @ goldengraphix . com  request additional information now ! click here  click here for a printable version of our order form ( pdf format )  golden graphix &amp; printing 5110 azusa canyon rd . irwindale , ca 91706 this e - mail message is an advertisement and / or solicitation .                                                                                                                                                                                                                                                                                                                                                                                                                                                                                                                                                                                                                                                                                                                                                                                                                                                                                                                                                                                                                         </span></td><td>1                                                                                                                                                                                                                                                                                                                                                                                                                                                                                                                                                                                                                                                                                                                                                                                                                                                                                                                                                                                                                                                                                                                                                                                                                                                                                                                                                                                                                                                                                                                                                                                       </td></tr>\n",
       "\t<tr><td>Subject: do not have money , get software cds from here !  software compatibility . . . . ain ' t it great ?  grow old along with me the best is yet to be .  all tradgedies are finish ' d by death . all comedies are ended by marriage .                                                                                                                                                                                                                                                                                                                                                                                                                                                                                                                                                                                                                                                                                                                                                                                                                                                                                                                                                                                                                                                                                                                                                                                                                                                                                                 </td><td>1                                                                                                                                                                                                                                                                                                                                                                                                                                                                                                                                                                                                                                                                                                                                                                                                                                                                                                                                                                                                                                                                                                                                                                                                                                                                                                                                                                                                                                                                                                                                           </td></tr>\n",
       "\t<tr><td>Subject: great nnews  hello , welcome to medzonline sh groundsel op  we are pleased to introduce ourselves as one of the ieading online phar felicitation maceuticai shops .  helter v  shakedown r  a cosmopolitan l  l blister l  l bestow ag  ac tosher l  is coadjutor va  confidant um  andmanyother .  - sav inexpiable e over 75 %  - total confide leisure ntiaiity  - worldwide s polite hlpplng  - ov allusion er 5 miilion customers in 150 countries  have devitalize a nice day !                                                                                                                                                                                                                                                                                                                                                                                                                                                                                                                                                                                                                                                                                                                                                                                                                                                                                                                                                                                                                                              </td><td>1                                                                                                                                                                                                                                                                                                                                                                                                                                                                                                                                                                                                                                                                                                                                                                                                                                                                                                                                                                                                                                                                                                                                                                                                                                                                                                                                                                                                                                                                                                                                           </td></tr>\n",
       "</tbody>\n",
       "</table>\n"
      ],
      "text/latex": [
       "\\begin{tabular}{r|ll}\n",
       " text & spam\\\\\n",
       "\\hline\n",
       "\t Subject: naturally irresistible your corporate identity  lt is really hard to recollect a company : the  market is full of suqgestions and the information isoverwhelminq ; but a good  catchy logo , stylish statlonery and outstanding website  will make the task much easier .  we do not promise that havinq ordered a iogo your  company will automaticaily become a world ieader : it isguite ciear that  without good products , effective business organization and practicable aim it  will be hotat nowadays market ; but we do promise that your marketing efforts  will become much more effective . here is the list of clear  benefits : creativeness : hand - made , original logos , specially done  to reflect your distinctive company image . convenience : logo and stationery  are provided in all formats ; easy - to - use content management system letsyou  change your website content and even its structure . promptness : you  will see logo drafts within three business days . affordability : your  marketing break - through shouldn ' t make gaps in your budget . 100 \\% satisfaction  guaranteed : we provide unlimited amount of changes with no extra fees for you to  be surethat you will love the result of this collaboration . have a look at our  portfolio \\_ \\_ \\_ \\_ \\_ \\_ \\_ \\_ \\_ \\_ \\_ \\_ \\_ \\_ \\_ \\_ \\_ \\_ \\_ \\_ \\_ \\_ \\_ \\_ \\_ \\_ \\_ \\_ \\_ \\_ \\_ \\_ \\_ \\_ \\_ \\_ \\_ \\_ \\_ \\_ \\_ \\_ \\_ \\_ \\_ \\_ \\_ \\_ \\_ \\_ \\_ \\_ not interested . . . \\_ \\_ \\_ \\_ \\_ \\_ \\_ \\_ \\_ \\_ \\_ \\_ \\_ \\_ \\_ \\_ \\_ \\_ \\_ \\_ \\_ \\_ \\_ \\_ \\_ \\_ \\_ \\_ \\_ \\_ \\_ \\_ \\_ \\_ \\_ \\_ \\_ \\_ \\_ \\_ \\_ \\_ \\_ \\_ \\_ \\_ \\_ \\_ \\_ \\_ \\_ \\_ & 1                                                                                                                                                                                                                                                                                                                                                                                                                                                                                                                                                                                                                                                                                                                                                                                                                                                                                                                                                                                                                                                                                                                                                                                                                                                                                                                                                                                                                                                                                                                                                                                                                                                                                                                                                             \\\\\n",
       "\t Subject: the stock trading gunslinger  fanny is merrill but muzo not colza attainder and penultimate like esmark perspicuous ramble is segovia not group try slung kansas tanzania yes chameleon or continuant clothesman no  libretto is chesapeake but tight not waterway herald and hawthorn like chisel morristown superior is deoxyribonucleic not clockwork try hall incredible mcdougall yes hepburn or einsteinian earmark no  sapling is boar but duane not plain palfrey and inflexible like huzzah pepperoni bedtime is nameable not attire try edt chronography optima yes pirogue or diffusion albeit no                                                                                                                                                                                                                                                                                                                                                                                                                                                                                                                                                                                                                                                                                                                                                                                                                                                                                                                        & 1                                                                                                                                                                                                                                                                                                                                                                                                                                                                                                                                                                                                                                                                                                                                                                                                                                                                                                                                                                                                                                                                                                                                                                                                                                                                                                                                                                                                                                                                                                                                           \\\\\n",
       "\t Subject: unbelievable new homes made easy  im wanting to show you this  homeowner  you have been pre - approved for a \\$ 454 , 169 home loan at a 3 . 72 fixed rate .  this offer is being extended to you unconditionally and your credit is in no way a factor .  to take advantage of this limited time opportunity  all we ask is that you visit our website and complete  the 1 minute post approval form  look foward to hearing from you ,  dorcas pittman                                                                                                                                                                                                                                                                                                                                                                                                                                                                                                                                                                                                                                                                                                                                                                                                                                                                                                                                                                                                                                                                             & 1                                                                                                                                                                                                                                                                                                                                                                                                                                                                                                                                                                                                                                                                                                                                                                                                                                                                                                                                                                                                                                                                                                                                                                                                                                                                                                                                                                                                                                                                                                                                             \\\\\n",
       "\t Subject: 4 color printing special  request additional information now ! click here  click here for a printable version of our order form ( pdf format )  phone : ( 626 ) 338 - 8090 fax : ( 626 ) 338 - 8102 e - mail : ramsey @ goldengraphix . com  request additional information now ! click here  click here for a printable version of our order form ( pdf format )  golden graphix \\& printing 5110 azusa canyon rd . irwindale , ca 91706 this e - mail message is an advertisement and / or solicitation .                                                                                                                                                                                                                                                                                                                                                                                                                                                                                                                                                                                                                                                                                                                                                                                                                                                                                                                                                                                                                          & 1                                                                                                                                                                                                                                                                                                                                                                                                                                                                                                                                                                                                                                                                                                                                                                                                                                                                                                                                                                                                                                                                                                                                                                                                                                                                                                                                                                                                                                                                                                                                             \\\\\n",
       "\t Subject: do not have money , get software cds from here !  software compatibility . . . . ain ' t it great ?  grow old along with me the best is yet to be .  all tradgedies are finish ' d by death . all comedies are ended by marriage .                                                                                                                                                                                                                                                                                                                                                                                                                                                                                                                                                                                                                                                                                                                                                                                                                                                                                                                                                                                                                                                                                                                                                                                                                                                                                                  & 1                                                                                                                                                                                                                                                                                                                                                                                                                                                                                                                                                                                                                                                                                                                                                                                                                                                                                                                                                                                                                                                                                                                                                                                                                                                                                                                                                                                                                                                                                                                                           \\\\\n",
       "\t Subject: great nnews  hello , welcome to medzonline sh groundsel op  we are pleased to introduce ourselves as one of the ieading online phar felicitation maceuticai shops .  helter v  shakedown r  a cosmopolitan l  l blister l  l bestow ag  ac tosher l  is coadjutor va  confidant um  andmanyother .  - sav inexpiable e over 75 \\%  - total confide leisure ntiaiity  - worldwide s polite hlpplng  - ov allusion er 5 miilion customers in 150 countries  have devitalize a nice day !                                                                                                                                                                                                                                                                                                                                                                                                                                                                                                                                                                                                                                                                                                                                                                                                                                                                                                                                                                                                                                               & 1                                                                                                                                                                                                                                                                                                                                                                                                                                                                                                                                                                                                                                                                                                                                                                                                                                                                                                                                                                                                                                                                                                                                                                                                                                                                                                                                                                                                                                                                                                                                             \\\\\n",
       "\\end{tabular}\n"
      ],
      "text/markdown": [
       "\n",
       "text | spam | \n",
       "|---|---|---|---|---|---|\n",
       "| Subject: naturally irresistible your corporate identity  lt is really hard to recollect a company : the  market is full of suqgestions and the information isoverwhelminq ; but a good  catchy logo , stylish statlonery and outstanding website  will make the task much easier .  we do not promise that havinq ordered a iogo your  company will automaticaily become a world ieader : it isguite ciear that  without good products , effective business organization and practicable aim it  will be hotat nowadays market ; but we do promise that your marketing efforts  will become much more effective . here is the list of clear  benefits : creativeness : hand - made , original logos , specially done  to reflect your distinctive company image . convenience : logo and stationery  are provided in all formats ; easy - to - use content management system letsyou  change your website content and even its structure . promptness : you  will see logo drafts within three business days . affordability : your  marketing break - through shouldn ' t make gaps in your budget . 100 % satisfaction  guaranteed : we provide unlimited amount of changes with no extra fees for you to  be surethat you will love the result of this collaboration . have a look at our  portfolio _ _ _ _ _ _ _ _ _ _ _ _ _ _ _ _ _ _ _ _ _ _ _ _ _ _ _ _ _ _ _ _ _ _ _ _ _ _ _ _ _ _ _ _ _ _ _ _ _ _ _ _ not interested . . . _ _ _ _ _ _ _ _ _ _ _ _ _ _ _ _ _ _ _ _ _ _ _ _ _ _ _ _ _ _ _ _ _ _ _ _ _ _ _ _ _ _ _ _ _ _ _ _ _ _ _ _ | 1                                                                                                                                                                                                                                                                                                                                                                                                                                                                                                                                                                                                                                                                                                                                                                                                                                                                                                                                                                                                                                                                                                                                                                                                                                                                                                                                                                                                                                                                                                                                            | \n",
       "| Subject: the stock trading gunslinger  fanny is merrill but muzo not colza attainder and penultimate like esmark perspicuous ramble is segovia not group try slung kansas tanzania yes chameleon or continuant clothesman no  libretto is chesapeake but tight not waterway herald and hawthorn like chisel morristown superior is deoxyribonucleic not clockwork try hall incredible mcdougall yes hepburn or einsteinian earmark no  sapling is boar but duane not plain palfrey and inflexible like huzzah pepperoni bedtime is nameable not attire try edt chronography optima yes pirogue or diffusion albeit no                                                                                                                                                                                                                                                                                                                                                                                                                                                                                                                                                                                                                                                                                                                                                                                                                                                                                                                        | 1                                                                                                                                                                                                                                                                                                                                                                                                                                                                                                                                                                                                                                                                                                                                                                                                                                                                                                                                                                                                                                                                                                                                                                                                                                                                                                                                                                                                                                                                                                                                            | \n",
       "| Subject: unbelievable new homes made easy  im wanting to show you this  homeowner  you have been pre - approved for a $ 454 , 169 home loan at a 3 . 72 fixed rate .  this offer is being extended to you unconditionally and your credit is in no way a factor .  to take advantage of this limited time opportunity  all we ask is that you visit our website and complete  the 1 minute post approval form  look foward to hearing from you ,  dorcas pittman                                                                                                                                                                                                                                                                                                                                                                                                                                                                                                                                                                                                                                                                                                                                                                                                                                                                                                                                                                                                                                                                             | 1                                                                                                                                                                                                                                                                                                                                                                                                                                                                                                                                                                                                                                                                                                                                                                                                                                                                                                                                                                                                                                                                                                                                                                                                                                                                                                                                                                                                                                                                                                                                            | \n",
       "| Subject: 4 color printing special  request additional information now ! click here  click here for a printable version of our order form ( pdf format )  phone : ( 626 ) 338 - 8090 fax : ( 626 ) 338 - 8102 e - mail : ramsey @ goldengraphix . com  request additional information now ! click here  click here for a printable version of our order form ( pdf format )  golden graphix & printing 5110 azusa canyon rd . irwindale , ca 91706 this e - mail message is an advertisement and / or solicitation .                                                                                                                                                                                                                                                                                                                                                                                                                                                                                                                                                                                                                                                                                                                                                                                                                                                                                                                                                                                                                          | 1                                                                                                                                                                                                                                                                                                                                                                                                                                                                                                                                                                                                                                                                                                                                                                                                                                                                                                                                                                                                                                                                                                                                                                                                                                                                                                                                                                                                                                                                                                                                            | \n",
       "| Subject: do not have money , get software cds from here !  software compatibility . . . . ain ' t it great ?  grow old along with me the best is yet to be .  all tradgedies are finish ' d by death . all comedies are ended by marriage .                                                                                                                                                                                                                                                                                                                                                                                                                                                                                                                                                                                                                                                                                                                                                                                                                                                                                                                                                                                                                                                                                                                                                                                                                                                                                                  | 1                                                                                                                                                                                                                                                                                                                                                                                                                                                                                                                                                                                                                                                                                                                                                                                                                                                                                                                                                                                                                                                                                                                                                                                                                                                                                                                                                                                                                                                                                                                                            | \n",
       "| Subject: great nnews  hello , welcome to medzonline sh groundsel op  we are pleased to introduce ourselves as one of the ieading online phar felicitation maceuticai shops .  helter v  shakedown r  a cosmopolitan l  l blister l  l bestow ag  ac tosher l  is coadjutor va  confidant um  andmanyother .  - sav inexpiable e over 75 %  - total confide leisure ntiaiity  - worldwide s polite hlpplng  - ov allusion er 5 miilion customers in 150 countries  have devitalize a nice day !                                                                                                                                                                                                                                                                                                                                                                                                                                                                                                                                                                                                                                                                                                                                                                                                                                                                                                                                                                                                                                               | 1                                                                                                                                                                                                                                                                                                                                                                                                                                                                                                                                                                                                                                                                                                                                                                                                                                                                                                                                                                                                                                                                                                                                                                                                                                                                                                                                                                                                                                                                                                                                            | \n",
       "\n",
       "\n"
      ],
      "text/plain": [
       "  text                                                                                                                                                                                                                                                                                                                                                                                                                                                                                                                                                                                                                                                                                                                                                                                                                                                                                                                                                                                                                                                                                                                                                                                                                                                                                                                                                                                                                                                                                                                                        \n",
       "1 Subject: naturally irresistible your corporate identity  lt is really hard to recollect a company : the  market is full of suqgestions and the information isoverwhelminq ; but a good  catchy logo , stylish statlonery and outstanding website  will make the task much easier .  we do not promise that havinq ordered a iogo your  company will automaticaily become a world ieader : it isguite ciear that  without good products , effective business organization and practicable aim it  will be hotat nowadays market ; but we do promise that your marketing efforts  will become much more effective . here is the list of clear  benefits : creativeness : hand - made , original logos , specially done  to reflect your distinctive company image . convenience : logo and stationery  are provided in all formats ; easy - to - use content management system letsyou  change your website content and even its structure . promptness : you  will see logo drafts within three business days . affordability : your  marketing break - through shouldn ' t make gaps in your budget . 100 % satisfaction  guaranteed : we provide unlimited amount of changes with no extra fees for you to  be surethat you will love the result of this collaboration . have a look at our  portfolio _ _ _ _ _ _ _ _ _ _ _ _ _ _ _ _ _ _ _ _ _ _ _ _ _ _ _ _ _ _ _ _ _ _ _ _ _ _ _ _ _ _ _ _ _ _ _ _ _ _ _ _ not interested . . . _ _ _ _ _ _ _ _ _ _ _ _ _ _ _ _ _ _ _ _ _ _ _ _ _ _ _ _ _ _ _ _ _ _ _ _ _ _ _ _ _ _ _ _ _ _ _ _ _ _ _ _\n",
       "2 Subject: the stock trading gunslinger  fanny is merrill but muzo not colza attainder and penultimate like esmark perspicuous ramble is segovia not group try slung kansas tanzania yes chameleon or continuant clothesman no  libretto is chesapeake but tight not waterway herald and hawthorn like chisel morristown superior is deoxyribonucleic not clockwork try hall incredible mcdougall yes hepburn or einsteinian earmark no  sapling is boar but duane not plain palfrey and inflexible like huzzah pepperoni bedtime is nameable not attire try edt chronography optima yes pirogue or diffusion albeit no                                                                                                                                                                                                                                                                                                                                                                                                                                                                                                                                                                                                                                                                                                                                                                                                                                                                                                                       \n",
       "3 Subject: unbelievable new homes made easy  im wanting to show you this  homeowner  you have been pre - approved for a $ 454 , 169 home loan at a 3 . 72 fixed rate .  this offer is being extended to you unconditionally and your credit is in no way a factor .  to take advantage of this limited time opportunity  all we ask is that you visit our website and complete  the 1 minute post approval form  look foward to hearing from you ,  dorcas pittman                                                                                                                                                                                                                                                                                                                                                                                                                                                                                                                                                                                                                                                                                                                                                                                                                                                                                                                                                                                                                                                                            \n",
       "4 Subject: 4 color printing special  request additional information now ! click here  click here for a printable version of our order form ( pdf format )  phone : ( 626 ) 338 - 8090 fax : ( 626 ) 338 - 8102 e - mail : ramsey @ goldengraphix . com  request additional information now ! click here  click here for a printable version of our order form ( pdf format )  golden graphix & printing 5110 azusa canyon rd . irwindale , ca 91706 this e - mail message is an advertisement and / or solicitation .                                                                                                                                                                                                                                                                                                                                                                                                                                                                                                                                                                                                                                                                                                                                                                                                                                                                                                                                                                                                                         \n",
       "5 Subject: do not have money , get software cds from here !  software compatibility . . . . ain ' t it great ?  grow old along with me the best is yet to be .  all tradgedies are finish ' d by death . all comedies are ended by marriage .                                                                                                                                                                                                                                                                                                                                                                                                                                                                                                                                                                                                                                                                                                                                                                                                                                                                                                                                                                                                                                                                                                                                                                                                                                                                                                 \n",
       "6 Subject: great nnews  hello , welcome to medzonline sh groundsel op  we are pleased to introduce ourselves as one of the ieading online phar felicitation maceuticai shops .  helter v  shakedown r  a cosmopolitan l  l blister l  l bestow ag  ac tosher l  is coadjutor va  confidant um  andmanyother .  - sav inexpiable e over 75 %  - total confide leisure ntiaiity  - worldwide s polite hlpplng  - ov allusion er 5 miilion customers in 150 countries  have devitalize a nice day !                                                                                                                                                                                                                                                                                                                                                                                                                                                                                                                                                                                                                                                                                                                                                                                                                                                                                                                                                                                                                                              \n",
       "  spam\n",
       "1 1   \n",
       "2 1   \n",
       "3 1   \n",
       "4 1   \n",
       "5 1   \n",
       "6 1   "
      ]
     },
     "metadata": {},
     "output_type": "display_data"
    },
    {
     "data": {
      "text/html": [
       "<span style=white-space:pre-wrap>'Subject: naturally irresistible your corporate identity  lt is really hard to recollect a company : the  market is full of suqgestions and the information isoverwhelminq ; but a good  catchy logo , stylish statlonery and outstanding website  will make the task much easier .  we do not promise that havinq ordered a iogo your  company will automaticaily become a world ieader : it isguite ciear that  without good products , effective business organization and practicable aim it  will be hotat nowadays market ; but we do promise that your marketing efforts  will become much more effective . here is the list of clear  benefits : creativeness : hand - made , original logos , specially done  to reflect your distinctive company image . convenience : logo and stationery  are provided in all formats ; easy - to - use content management system letsyou  change your website content and even its structure . promptness : you  will see logo drafts within three business days . affordability : your  marketing break - through shouldn \\' t make gaps in your budget . 100 % satisfaction  guaranteed : we provide unlimited amount of changes with no extra fees for you to  be surethat you will love the result of this collaboration . have a look at our  portfolio _ _ _ _ _ _ _ _ _ _ _ _ _ _ _ _ _ _ _ _ _ _ _ _ _ _ _ _ _ _ _ _ _ _ _ _ _ _ _ _ _ _ _ _ _ _ _ _ _ _ _ _ not interested . . . _ _ _ _ _ _ _ _ _ _ _ _ _ _ _ _ _ _ _ _ _ _ _ _ _ _ _ _ _ _ _ _ _ _ _ _ _ _ _ _ _ _ _ _ _ _ _ _ _ _ _ _'</span>"
      ],
      "text/latex": [
       "'Subject: naturally irresistible your corporate identity  lt is really hard to recollect a company : the  market is full of suqgestions and the information isoverwhelminq ; but a good  catchy logo , stylish statlonery and outstanding website  will make the task much easier .  we do not promise that havinq ordered a iogo your  company will automaticaily become a world ieader : it isguite ciear that  without good products , effective business organization and practicable aim it  will be hotat nowadays market ; but we do promise that your marketing efforts  will become much more effective . here is the list of clear  benefits : creativeness : hand - made , original logos , specially done  to reflect your distinctive company image . convenience : logo and stationery  are provided in all formats ; easy - to - use content management system letsyou  change your website content and even its structure . promptness : you  will see logo drafts within three business days . affordability : your  marketing break - through shouldn \\textbackslash{}' t make gaps in your budget . 100 \\% satisfaction  guaranteed : we provide unlimited amount of changes with no extra fees for you to  be surethat you will love the result of this collaboration . have a look at our  portfolio \\_ \\_ \\_ \\_ \\_ \\_ \\_ \\_ \\_ \\_ \\_ \\_ \\_ \\_ \\_ \\_ \\_ \\_ \\_ \\_ \\_ \\_ \\_ \\_ \\_ \\_ \\_ \\_ \\_ \\_ \\_ \\_ \\_ \\_ \\_ \\_ \\_ \\_ \\_ \\_ \\_ \\_ \\_ \\_ \\_ \\_ \\_ \\_ \\_ \\_ \\_ \\_ not interested . . . \\_ \\_ \\_ \\_ \\_ \\_ \\_ \\_ \\_ \\_ \\_ \\_ \\_ \\_ \\_ \\_ \\_ \\_ \\_ \\_ \\_ \\_ \\_ \\_ \\_ \\_ \\_ \\_ \\_ \\_ \\_ \\_ \\_ \\_ \\_ \\_ \\_ \\_ \\_ \\_ \\_ \\_ \\_ \\_ \\_ \\_ \\_ \\_ \\_ \\_ \\_ \\_'"
      ],
      "text/markdown": [
       "<span style=white-space:pre-wrap>'Subject: naturally irresistible your corporate identity  lt is really hard to recollect a company : the  market is full of suqgestions and the information isoverwhelminq ; but a good  catchy logo , stylish statlonery and outstanding website  will make the task much easier .  we do not promise that havinq ordered a iogo your  company will automaticaily become a world ieader : it isguite ciear that  without good products , effective business organization and practicable aim it  will be hotat nowadays market ; but we do promise that your marketing efforts  will become much more effective . here is the list of clear  benefits : creativeness : hand - made , original logos , specially done  to reflect your distinctive company image . convenience : logo and stationery  are provided in all formats ; easy - to - use content management system letsyou  change your website content and even its structure . promptness : you  will see logo drafts within three business days . affordability : your  marketing break - through shouldn \\' t make gaps in your budget . 100 % satisfaction  guaranteed : we provide unlimited amount of changes with no extra fees for you to  be surethat you will love the result of this collaboration . have a look at our  portfolio _ _ _ _ _ _ _ _ _ _ _ _ _ _ _ _ _ _ _ _ _ _ _ _ _ _ _ _ _ _ _ _ _ _ _ _ _ _ _ _ _ _ _ _ _ _ _ _ _ _ _ _ not interested . . . _ _ _ _ _ _ _ _ _ _ _ _ _ _ _ _ _ _ _ _ _ _ _ _ _ _ _ _ _ _ _ _ _ _ _ _ _ _ _ _ _ _ _ _ _ _ _ _ _ _ _ _'</span>"
      ],
      "text/plain": [
       "[1] \"Subject: naturally irresistible your corporate identity  lt is really hard to recollect a company : the  market is full of suqgestions and the information isoverwhelminq ; but a good  catchy logo , stylish statlonery and outstanding website  will make the task much easier .  we do not promise that havinq ordered a iogo your  company will automaticaily become a world ieader : it isguite ciear that  without good products , effective business organization and practicable aim it  will be hotat nowadays market ; but we do promise that your marketing efforts  will become much more effective . here is the list of clear  benefits : creativeness : hand - made , original logos , specially done  to reflect your distinctive company image . convenience : logo and stationery  are provided in all formats ; easy - to - use content management system letsyou  change your website content and even its structure . promptness : you  will see logo drafts within three business days . affordability : your  marketing break - through shouldn ' t make gaps in your budget . 100 % satisfaction  guaranteed : we provide unlimited amount of changes with no extra fees for you to  be surethat you will love the result of this collaboration . have a look at our  portfolio _ _ _ _ _ _ _ _ _ _ _ _ _ _ _ _ _ _ _ _ _ _ _ _ _ _ _ _ _ _ _ _ _ _ _ _ _ _ _ _ _ _ _ _ _ _ _ _ _ _ _ _ not interested . . . _ _ _ _ _ _ _ _ _ _ _ _ _ _ _ _ _ _ _ _ _ _ _ _ _ _ _ _ _ _ _ _ _ _ _ _ _ _ _ _ _ _ _ _ _ _ _ _ _ _ _ _\""
      ]
     },
     "metadata": {},
     "output_type": "display_data"
    },
    {
     "data": {
      "text/html": [
       "5728"
      ],
      "text/latex": [
       "5728"
      ],
      "text/markdown": [
       "5728"
      ],
      "text/plain": [
       "[1] 5728"
      ]
     },
     "metadata": {},
     "output_type": "display_data"
    },
    {
     "data": {
      "text/plain": [
       "\n",
       "   0    1 \n",
       "4360 1368 "
      ]
     },
     "metadata": {},
     "output_type": "display_data"
    }
   ],
   "source": [
    "emails <- read.csv(\"csv/emails.csv\", stringsAsFactors = F)\n",
    "str(emails)\n",
    "\n",
    "# display sample text\n",
    "head(emails)\n",
    "emails$text[1]\n",
    "\n",
    "# number of total emails in dataset\n",
    "NROW(emails)\n",
    "\n",
    "# number of spam emails = 1368\n",
    "table(emails$spam)"
   ]
  },
  {
   "cell_type": "markdown",
   "metadata": {},
   "source": [
    "### 1B\n",
    "\n",
    "The word `subject` appears in all emails."
   ]
  },
  {
   "cell_type": "markdown",
   "metadata": {},
   "source": [
    "### 1C\n",
    "\n",
    "No, the word appears in every email so this variable would not help us differentiate spam from ham."
   ]
  },
  {
   "cell_type": "markdown",
   "metadata": {},
   "source": [
    "### 1D"
   ]
  },
  {
   "cell_type": "code",
   "execution_count": 23,
   "metadata": {},
   "outputs": [
    {
     "data": {
      "text/html": [
       "43952"
      ],
      "text/latex": [
       "43952"
      ],
      "text/markdown": [
       "43952"
      ],
      "text/plain": [
       "[1] 43952"
      ]
     },
     "metadata": {},
     "output_type": "display_data"
    },
    {
     "data": {
      "text/html": [
       "2651"
      ],
      "text/latex": [
       "2651"
      ],
      "text/markdown": [
       "2651"
      ],
      "text/plain": [
       "[1] 2651"
      ]
     },
     "metadata": {},
     "output_type": "display_data"
    }
   ],
   "source": [
    "# get nchar() for each email\n",
    "emails$nchar <- nchar(emails$text)\n",
    "\n",
    "# get email/corresponding index with largest number of characters\n",
    "max(emails$nchar)\n",
    "which(emails$nchar == max(emails$nchar))"
   ]
  },
  {
   "cell_type": "markdown",
   "metadata": {},
   "source": [
    "### 1E"
   ]
  },
  {
   "cell_type": "code",
   "execution_count": 26,
   "metadata": {},
   "outputs": [
    {
     "data": {
      "text/html": [
       "13"
      ],
      "text/latex": [
       "13"
      ],
      "text/markdown": [
       "13"
      ],
      "text/plain": [
       "[1] 13"
      ]
     },
     "metadata": {},
     "output_type": "display_data"
    },
    {
     "data": {
      "text/html": [
       "1992"
      ],
      "text/latex": [
       "1992"
      ],
      "text/markdown": [
       "1992"
      ],
      "text/plain": [
       "[1] 1992"
      ]
     },
     "metadata": {},
     "output_type": "display_data"
    }
   ],
   "source": [
    "# get email/corresponding index with smallest number of characters\n",
    "min(emails$nchar)\n",
    "which(emails$nchar == min(emails$nchar))"
   ]
  },
  {
   "cell_type": "markdown",
   "metadata": {},
   "source": [
    "### 1F"
   ]
  },
  {
   "cell_type": "code",
   "execution_count": 56,
   "metadata": {},
   "outputs": [
    {
     "data": {
      "text/plain": [
       "<<DocumentTermMatrix (documents: 5728, terms: 28687)>>\n",
       "Non-/sparse entries: 476011/163843125\n",
       "Sparsity           : 100%\n",
       "Maximal term length: 24\n",
       "Weighting          : term frequency (tf)"
      ]
     },
     "metadata": {},
     "output_type": "display_data"
    }
   ],
   "source": [
    "library(tm)\n",
    "\n",
    "# preprocessing to get around Linux string formatting bug\n",
    "# apply proper encoding for columns with datatype `string`\n",
    "# emails[,sapply(emails,is.character)] <- sapply(\n",
    "#     emails[,sapply(emails,is.character)],\n",
    "#     iconv,\"WINDOWS-1252\",\"UTF-8\")\n",
    "\n",
    "\n",
    "corpus <- Corpus(VectorSource(emails$text))\n",
    "# corpus\n",
    "# corpus[[1]]\n",
    "# as.character(corpus[[1]])\n",
    "\n",
    "# preprocessing\n",
    "corpus <- tm_map(corpus, tolower)\n",
    "corpus <- tm_map(corpus, removePunctuation)\n",
    "corpus <- tm_map(corpus, removeWords, stopwords(\"english\"))\n",
    "corpus <- tm_map(corpus, removeWords, c(\"subject\"))\n",
    "corpus <- tm_map(corpus, stemDocument)\n",
    "\n",
    "# building document-term matrix\n",
    "dtm <- DocumentTermMatrix(corpus)\n",
    "dtm"
   ]
  },
  {
   "cell_type": "markdown",
   "metadata": {},
   "source": [
    "### 1G"
   ]
  },
  {
   "cell_type": "code",
   "execution_count": 90,
   "metadata": {},
   "outputs": [
    {
     "data": {
      "text/plain": [
       "<<DocumentTermMatrix (documents: 5728, terms: 329)>>\n",
       "Non-/sparse entries: 207823/1676689\n",
       "Sparsity           : 89%\n",
       "Maximal term length: 10\n",
       "Weighting          : term frequency (tf)"
      ]
     },
     "metadata": {},
     "output_type": "display_data"
    }
   ],
   "source": [
    "spdtm <- removeSparseTerms(dtm, 0.95)\n",
    "spdtm"
   ]
  },
  {
   "cell_type": "markdown",
   "metadata": {},
   "source": [
    "### 1H"
   ]
  },
  {
   "cell_type": "code",
   "execution_count": 58,
   "metadata": {
    "scrolled": true
   },
   "outputs": [
    {
     "data": {
      "text/html": [
       "<table>\n",
       "<thead><tr><th scope=col>busi</th><th scope=col>chang</th><th scope=col>compani</th><th scope=col>corpor</th><th scope=col>day</th><th scope=col>done</th><th scope=col>effect</th><th scope=col>effort</th><th scope=col>even</th><th scope=col>full</th><th scope=col>⋯</th><th scope=col>vinc</th><th scope=col>X853</th><th scope=col>shirley</th><th scope=col>enron</th><th scope=col>kaminski</th><th scope=col>X713</th><th scope=col>crenshaw</th><th scope=col>vkamin</th><th scope=col>gibner</th><th scope=col>stinson</th></tr></thead>\n",
       "<tbody>\n",
       "\t<tr><td>2</td><td>2</td><td>3</td><td>1</td><td>1</td><td>1</td><td>2</td><td>1</td><td>1</td><td>1</td><td>⋯</td><td>0</td><td>0</td><td>0</td><td>0</td><td>0</td><td>0</td><td>0</td><td>0</td><td>0</td><td>0</td></tr>\n",
       "\t<tr><td>0</td><td>0</td><td>0</td><td>0</td><td>0</td><td>0</td><td>0</td><td>0</td><td>0</td><td>0</td><td>⋯</td><td>0</td><td>0</td><td>0</td><td>0</td><td>0</td><td>0</td><td>0</td><td>0</td><td>0</td><td>0</td></tr>\n",
       "\t<tr><td>0</td><td>0</td><td>0</td><td>0</td><td>0</td><td>0</td><td>0</td><td>0</td><td>0</td><td>0</td><td>⋯</td><td>0</td><td>0</td><td>0</td><td>0</td><td>0</td><td>0</td><td>0</td><td>0</td><td>0</td><td>0</td></tr>\n",
       "\t<tr><td>0</td><td>0</td><td>0</td><td>0</td><td>0</td><td>0</td><td>0</td><td>0</td><td>0</td><td>0</td><td>⋯</td><td>0</td><td>0</td><td>0</td><td>0</td><td>0</td><td>0</td><td>0</td><td>0</td><td>0</td><td>0</td></tr>\n",
       "\t<tr><td>0</td><td>0</td><td>0</td><td>0</td><td>0</td><td>0</td><td>0</td><td>0</td><td>0</td><td>0</td><td>⋯</td><td>0</td><td>0</td><td>0</td><td>0</td><td>0</td><td>0</td><td>0</td><td>0</td><td>0</td><td>0</td></tr>\n",
       "\t<tr><td>0</td><td>0</td><td>0</td><td>0</td><td>1</td><td>0</td><td>0</td><td>0</td><td>0</td><td>0</td><td>⋯</td><td>0</td><td>0</td><td>0</td><td>0</td><td>0</td><td>0</td><td>0</td><td>0</td><td>0</td><td>0</td></tr>\n",
       "</tbody>\n",
       "</table>\n"
      ],
      "text/latex": [
       "\\begin{tabular}{r|lllllllllllllllllllllllllllllllllllllllllllllllllllllllllllllllllllllllllllllllllllllllllllllllllllllllllllllllllllllllllllllllllllllllllllllllllllllllllllllllllllllllllllllllllllllllllllllllllllllllllllllllllllllllllllllllllllllllllllllllllllllllllllllllllllllllllllllllllllllllllllllllllllllllllllllllllllllllllllllllllllllllll}\n",
       " busi & chang & compani & corpor & day & done & effect & effort & even & full & ⋯ & vinc & X853 & shirley & enron & kaminski & X713 & crenshaw & vkamin & gibner & stinson\\\\\n",
       "\\hline\n",
       "\t 2 & 2 & 3 & 1 & 1 & 1 & 2 & 1 & 1 & 1 & ⋯ & 0 & 0 & 0 & 0 & 0 & 0 & 0 & 0 & 0 & 0\\\\\n",
       "\t 0 & 0 & 0 & 0 & 0 & 0 & 0 & 0 & 0 & 0 & ⋯ & 0 & 0 & 0 & 0 & 0 & 0 & 0 & 0 & 0 & 0\\\\\n",
       "\t 0 & 0 & 0 & 0 & 0 & 0 & 0 & 0 & 0 & 0 & ⋯ & 0 & 0 & 0 & 0 & 0 & 0 & 0 & 0 & 0 & 0\\\\\n",
       "\t 0 & 0 & 0 & 0 & 0 & 0 & 0 & 0 & 0 & 0 & ⋯ & 0 & 0 & 0 & 0 & 0 & 0 & 0 & 0 & 0 & 0\\\\\n",
       "\t 0 & 0 & 0 & 0 & 0 & 0 & 0 & 0 & 0 & 0 & ⋯ & 0 & 0 & 0 & 0 & 0 & 0 & 0 & 0 & 0 & 0\\\\\n",
       "\t 0 & 0 & 0 & 0 & 1 & 0 & 0 & 0 & 0 & 0 & ⋯ & 0 & 0 & 0 & 0 & 0 & 0 & 0 & 0 & 0 & 0\\\\\n",
       "\\end{tabular}\n"
      ],
      "text/markdown": [
       "\n",
       "busi | chang | compani | corpor | day | done | effect | effort | even | full | ⋯ | vinc | X853 | shirley | enron | kaminski | X713 | crenshaw | vkamin | gibner | stinson | \n",
       "|---|---|---|---|---|---|\n",
       "| 2 | 2 | 3 | 1 | 1 | 1 | 2 | 1 | 1 | 1 | ⋯ | 0 | 0 | 0 | 0 | 0 | 0 | 0 | 0 | 0 | 0 | \n",
       "| 0 | 0 | 0 | 0 | 0 | 0 | 0 | 0 | 0 | 0 | ⋯ | 0 | 0 | 0 | 0 | 0 | 0 | 0 | 0 | 0 | 0 | \n",
       "| 0 | 0 | 0 | 0 | 0 | 0 | 0 | 0 | 0 | 0 | ⋯ | 0 | 0 | 0 | 0 | 0 | 0 | 0 | 0 | 0 | 0 | \n",
       "| 0 | 0 | 0 | 0 | 0 | 0 | 0 | 0 | 0 | 0 | ⋯ | 0 | 0 | 0 | 0 | 0 | 0 | 0 | 0 | 0 | 0 | \n",
       "| 0 | 0 | 0 | 0 | 0 | 0 | 0 | 0 | 0 | 0 | ⋯ | 0 | 0 | 0 | 0 | 0 | 0 | 0 | 0 | 0 | 0 | \n",
       "| 0 | 0 | 0 | 0 | 1 | 0 | 0 | 0 | 0 | 0 | ⋯ | 0 | 0 | 0 | 0 | 0 | 0 | 0 | 0 | 0 | 0 | \n",
       "\n",
       "\n"
      ],
      "text/plain": [
       "  busi chang compani corpor day done effect effort even full ⋯ vinc X853\n",
       "1 2    2     3       1      1   1    2      1      1    1    ⋯ 0    0   \n",
       "2 0    0     0       0      0   0    0      0      0    0    ⋯ 0    0   \n",
       "3 0    0     0       0      0   0    0      0      0    0    ⋯ 0    0   \n",
       "4 0    0     0       0      0   0    0      0      0    0    ⋯ 0    0   \n",
       "5 0    0     0       0      0   0    0      0      0    0    ⋯ 0    0   \n",
       "6 0    0     0       0      1   0    0      0      0    0    ⋯ 0    0   \n",
       "  shirley enron kaminski X713 crenshaw vkamin gibner stinson\n",
       "1 0       0     0        0    0        0      0      0      \n",
       "2 0       0     0        0    0        0      0      0      \n",
       "3 0       0     0        0    0        0      0      0      \n",
       "4 0       0     0        0    0        0      0      0      \n",
       "5 0       0     0        0    0        0      0      0      \n",
       "6 0       0     0        0    0        0      0      0      "
      ]
     },
     "metadata": {},
     "output_type": "display_data"
    },
    {
     "data": {
      "text/html": [
       "<dl class=dl-horizontal>\n",
       "\t<dt>enron</dt>\n",
       "\t\t<dd>13388</dd>\n",
       "\t<dt>ect</dt>\n",
       "\t\t<dd>11427</dd>\n",
       "\t<dt>vinc</dt>\n",
       "\t\t<dd>8532</dd>\n",
       "\t<dt>will</dt>\n",
       "\t\t<dd>8252</dd>\n",
       "\t<dt>hou</dt>\n",
       "\t\t<dd>5577</dd>\n",
       "\t<dt>com</dt>\n",
       "\t\t<dd>5443</dd>\n",
       "\t<dt>pleas</dt>\n",
       "\t\t<dd>5113</dd>\n",
       "\t<dt>X2000</dt>\n",
       "\t\t<dd>4967</dd>\n",
       "\t<dt>kaminski</dt>\n",
       "\t\t<dd>4801</dd>\n",
       "\t<dt>can</dt>\n",
       "\t\t<dd>4257</dd>\n",
       "\t<dt>thank</dt>\n",
       "\t\t<dd>3730</dd>\n",
       "\t<dt>forward</dt>\n",
       "\t\t<dd>3161</dd>\n",
       "\t<dt>time</dt>\n",
       "\t\t<dd>3145</dd>\n",
       "\t<dt>X2001</dt>\n",
       "\t\t<dd>3089</dd>\n",
       "\t<dt>research</dt>\n",
       "\t\t<dd>2820</dd>\n",
       "\t<dt>market</dt>\n",
       "\t\t<dd>2750</dd>\n",
       "\t<dt>work</dt>\n",
       "\t\t<dd>2708</dd>\n",
       "\t<dt>inform</dt>\n",
       "\t\t<dd>2701</dd>\n",
       "\t<dt>price</dt>\n",
       "\t\t<dd>2694</dd>\n",
       "\t<dt>meet</dt>\n",
       "\t\t<dd>2623</dd>\n",
       "\t<dt>know</dt>\n",
       "\t\t<dd>2614</dd>\n",
       "\t<dt>group</dt>\n",
       "\t\t<dd>2604</dd>\n",
       "\t<dt>manag</dt>\n",
       "\t\t<dd>2600</dd>\n",
       "\t<dt>may</dt>\n",
       "\t\t<dd>2465</dd>\n",
       "\t<dt>get</dt>\n",
       "\t\t<dd>2462</dd>\n",
       "\t<dt>like</dt>\n",
       "\t\t<dd>2352</dd>\n",
       "\t<dt>use</dt>\n",
       "\t\t<dd>2330</dd>\n",
       "\t<dt>need</dt>\n",
       "\t\t<dd>2328</dd>\n",
       "\t<dt>busi</dt>\n",
       "\t\t<dd>2313</dd>\n",
       "\t<dt>compani</dt>\n",
       "\t\t<dd>2290</dd>\n",
       "\t<dt>new</dt>\n",
       "\t\t<dd>2281</dd>\n",
       "\t<dt>mail</dt>\n",
       "\t\t<dd>2269</dd>\n",
       "\t<dt>risk</dt>\n",
       "\t\t<dd>2267</dd>\n",
       "\t<dt>model</dt>\n",
       "\t\t<dd>2199</dd>\n",
       "\t<dt>energi</dt>\n",
       "\t\t<dd>2179</dd>\n",
       "\t<dt>power</dt>\n",
       "\t\t<dd>2117</dd>\n",
       "\t<dt>one</dt>\n",
       "\t\t<dd>2108</dd>\n",
       "\t<dt>email</dt>\n",
       "\t\t<dd>2066</dd>\n",
       "\t<dt>regard</dt>\n",
       "\t\t<dd>2045</dd>\n",
       "\t<dt>look</dt>\n",
       "\t\t<dd>2003</dd>\n",
       "\t<dt>messag</dt>\n",
       "\t\t<dd>1983</dd>\n",
       "\t<dt>let</dt>\n",
       "\t\t<dd>1963</dd>\n",
       "\t<dt>year</dt>\n",
       "\t\t<dd>1890</dd>\n",
       "\t<dt>make</dt>\n",
       "\t\t<dd>1884</dd>\n",
       "\t<dt>develop</dt>\n",
       "\t\t<dd>1882</dd>\n",
       "\t<dt>also</dt>\n",
       "\t\t<dd>1864</dd>\n",
       "\t<dt>day</dt>\n",
       "\t\t<dd>1860</dd>\n",
       "\t<dt>interest</dt>\n",
       "\t\t<dd>1814</dd>\n",
       "\t<dt>week</dt>\n",
       "\t\t<dd>1758</dd>\n",
       "\t<dt>corp</dt>\n",
       "\t\t<dd>1692</dd>\n",
       "\t<dt>shirley</dt>\n",
       "\t\t<dd>1689</dd>\n",
       "\t<dt>call</dt>\n",
       "\t\t<dd>1687</dd>\n",
       "\t<dt>edu</dt>\n",
       "\t\t<dd>1627</dd>\n",
       "\t<dt>http</dt>\n",
       "\t\t<dd>1609</dd>\n",
       "\t<dt>houston</dt>\n",
       "\t\t<dd>1582</dd>\n",
       "\t<dt>see</dt>\n",
       "\t\t<dd>1567</dd>\n",
       "\t<dt>receiv</dt>\n",
       "\t\t<dd>1557</dd>\n",
       "\t<dt>follow</dt>\n",
       "\t\t<dd>1552</dd>\n",
       "\t<dt>present</dt>\n",
       "\t\t<dd>1543</dd>\n",
       "\t<dt>contact</dt>\n",
       "\t\t<dd>1543</dd>\n",
       "\t<dt>project</dt>\n",
       "\t\t<dd>1522</dd>\n",
       "\t<dt>want</dt>\n",
       "\t\t<dd>1488</dd>\n",
       "\t<dt>option</dt>\n",
       "\t\t<dd>1488</dd>\n",
       "\t<dt>program</dt>\n",
       "\t\t<dd>1438</dd>\n",
       "\t<dt>help</dt>\n",
       "\t\t<dd>1430</dd>\n",
       "\t<dt>list</dt>\n",
       "\t\t<dd>1410</dd>\n",
       "\t<dt>provid</dt>\n",
       "\t\t<dd>1405</dd>\n",
       "\t<dt>send</dt>\n",
       "\t\t<dd>1379</dd>\n",
       "\t<dt>trade</dt>\n",
       "\t\t<dd>1366</dd>\n",
       "\t<dt>take</dt>\n",
       "\t\t<dd>1361</dd>\n",
       "\t<dt>just</dt>\n",
       "\t\t<dd>1354</dd>\n",
       "\t<dt>request</dt>\n",
       "\t\t<dd>1344</dd>\n",
       "\t<dt>communic</dt>\n",
       "\t\t<dd>1343</dd>\n",
       "\t<dt>servic</dt>\n",
       "\t\t<dd>1337</dd>\n",
       "\t<dt>interview</dt>\n",
       "\t\t<dd>1333</dd>\n",
       "\t<dt>discuss</dt>\n",
       "\t\t<dd>1326</dd>\n",
       "\t<dt>www</dt>\n",
       "\t\t<dd>1323</dd>\n",
       "\t<dt>now</dt>\n",
       "\t\t<dd>1300</dd>\n",
       "\t<dt>confer</dt>\n",
       "\t\t<dd>1297</dd>\n",
       "\t<dt>best</dt>\n",
       "\t\t<dd>1291</dd>\n",
       "\t<dt>report</dt>\n",
       "\t\t<dd>1279</dd>\n",
       "\t<dt>includ</dt>\n",
       "\t\t<dd>1238</dd>\n",
       "\t<dt>think</dt>\n",
       "\t\t<dd>1216</dd>\n",
       "\t<dt>order</dt>\n",
       "\t\t<dd>1210</dd>\n",
       "\t<dt>product</dt>\n",
       "\t\t<dd>1197</dd>\n",
       "\t<dt>date</dt>\n",
       "\t\t<dd>1187</dd>\n",
       "\t<dt>number</dt>\n",
       "\t\t<dd>1182</dd>\n",
       "\t<dt>attach</dt>\n",
       "\t\t<dd>1176</dd>\n",
       "\t<dt>offer</dt>\n",
       "\t\t<dd>1171</dd>\n",
       "\t<dt>address</dt>\n",
       "\t\t<dd>1154</dd>\n",
       "\t<dt>avail</dt>\n",
       "\t\t<dd>1152</dd>\n",
       "\t<dt>question</dt>\n",
       "\t\t<dd>1152</dd>\n",
       "\t<dt>next.</dt>\n",
       "\t\t<dd>1145</dd>\n",
       "\t<dt>free</dt>\n",
       "\t\t<dd>1141</dd>\n",
       "\t<dt>visit</dt>\n",
       "\t\t<dd>1126</dd>\n",
       "\t<dt>sent</dt>\n",
       "\t\t<dd>1126</dd>\n",
       "\t<dt>well</dt>\n",
       "\t\t<dd>1125</dd>\n",
       "\t<dt>system</dt>\n",
       "\t\t<dd>1118</dd>\n",
       "\t<dt>crenshaw</dt>\n",
       "\t\t<dd>1115</dd>\n",
       "\t<dt>posit</dt>\n",
       "\t\t<dd>1104</dd>\n",
       "\t<dt>good</dt>\n",
       "\t\t<dd>1097</dd>\n",
       "\t<dt>X713</dt>\n",
       "\t\t<dd>1097</dd>\n",
       "\t<dt>name</dt>\n",
       "\t\t<dd>1089</dd>\n",
       "\t<dt>state</dt>\n",
       "\t\t<dd>1086</dd>\n",
       "\t<dt>financ</dt>\n",
       "\t\t<dd>1073</dd>\n",
       "\t<dt>schedul</dt>\n",
       "\t\t<dd>1071</dd>\n",
       "\t<dt>gas</dt>\n",
       "\t\t<dd>1070</dd>\n",
       "\t<dt>offic</dt>\n",
       "\t\t<dd>1068</dd>\n",
       "\t<dt>univers</dt>\n",
       "\t\t<dd>1059</dd>\n",
       "\t<dt>give</dt>\n",
       "\t\t<dd>1055</dd>\n",
       "\t<dt>stinson</dt>\n",
       "\t\t<dd>1051</dd>\n",
       "\t<dt>current</dt>\n",
       "\t\t<dd>1044</dd>\n",
       "\t<dt>john</dt>\n",
       "\t\t<dd>1042</dd>\n",
       "\t<dt>fax</dt>\n",
       "\t\t<dd>1038</dd>\n",
       "\t<dt>chang</dt>\n",
       "\t\t<dd>1035</dd>\n",
       "\t<dt>X000</dt>\n",
       "\t\t<dd>1007</dd>\n",
       "\t<dt>phone</dt>\n",
       "\t\t<dd>1001</dd>\n",
       "\t<dt>last</dt>\n",
       "\t\t<dd>998</dd>\n",
       "\t<dt>talk</dt>\n",
       "\t\t<dd>981</dd>\n",
       "\t<dt>review</dt>\n",
       "\t\t<dd>976</dd>\n",
       "\t<dt>process</dt>\n",
       "\t\t<dd>975</dd>\n",
       "\t<dt>industri</dt>\n",
       "\t\t<dd>970</dd>\n",
       "\t<dt>credit</dt>\n",
       "\t\t<dd>960</dd>\n",
       "\t<dt>month</dt>\n",
       "\t\t<dd>958</dd>\n",
       "\t<dt>peopl</dt>\n",
       "\t\t<dd>958</dd>\n",
       "\t<dt>data</dt>\n",
       "\t\t<dd>955</dd>\n",
       "\t<dt>issu</dt>\n",
       "\t\t<dd>944</dd>\n",
       "\t<dt>resum</dt>\n",
       "\t\t<dd>933</dd>\n",
       "\t<dt>first</dt>\n",
       "\t\t<dd>929</dd>\n",
       "\t<dt>team</dt>\n",
       "\t\t<dd>926</dd>\n",
       "\t<dt>opportun</dt>\n",
       "\t\t<dd>918</dd>\n",
       "\t<dt>site</dt>\n",
       "\t\t<dd>913</dd>\n",
       "\t<dt>two</dt>\n",
       "\t\t<dd>911</dd>\n",
       "\t<dt>financi</dt>\n",
       "\t\t<dd>909</dd>\n",
       "\t<dt>plan</dt>\n",
       "\t\t<dd>904</dd>\n",
       "\t<dt>come</dt>\n",
       "\t\t<dd>903</dd>\n",
       "\t<dt>origin</dt>\n",
       "\t\t<dd>892</dd>\n",
       "\t<dt>shall</dt>\n",
       "\t\t<dd>884</dd>\n",
       "\t<dt>start</dt>\n",
       "\t\t<dd>880</dd>\n",
       "\t<dt>ask</dt>\n",
       "\t\t<dd>871</dd>\n",
       "\t<dt>invest</dt>\n",
       "\t\t<dd>867</dd>\n",
       "\t<dt>find</dt>\n",
       "\t\t<dd>867</dd>\n",
       "\t<dt>way</dt>\n",
       "\t\t<dd>864</dd>\n",
       "\t<dt>back</dt>\n",
       "\t\t<dd>864</dd>\n",
       "\t<dt>much</dt>\n",
       "\t\t<dd>861</dd>\n",
       "\t<dt>hope</dt>\n",
       "\t\t<dd>858</dd>\n",
       "\t<dt>secur</dt>\n",
       "\t\t<dd>857</dd>\n",
       "\t<dt>support</dt>\n",
       "\t\t<dd>854</dd>\n",
       "\t<dt>friday</dt>\n",
       "\t\t<dd>854</dd>\n",
       "\t<dt>london</dt>\n",
       "\t\t<dd>843</dd>\n",
       "\t<dt>dear</dt>\n",
       "\t\t<dd>838</dd>\n",
       "\t<dt>great</dt>\n",
       "\t\t<dd>837</dd>\n",
       "\t<dt>base</dt>\n",
       "\t\t<dd>837</dd>\n",
       "\t<dt>account</dt>\n",
       "\t\t<dd>829</dd>\n",
       "\t<dt>today</dt>\n",
       "\t\t<dd>828</dd>\n",
       "\t<dt>respons</dt>\n",
       "\t\t<dd>824</dd>\n",
       "\t<dt>cost</dt>\n",
       "\t\t<dd>821</dd>\n",
       "\t<dt>oper</dt>\n",
       "\t\t<dd>820</dd>\n",
       "\t<dt>copi</dt>\n",
       "\t\t<dd>797</dd>\n",
       "\t<dt>custom</dt>\n",
       "\t\t<dd>796</dd>\n",
       "\t<dt>possibl</dt>\n",
       "\t\t<dd>796</dd>\n",
       "\t<dt>access</dt>\n",
       "\t\t<dd>789</dd>\n",
       "\t<dt>term</dt>\n",
       "\t\t<dd>786</dd>\n",
       "\t<dt>particip</dt>\n",
       "\t\t<dd>782</dd>\n",
       "\t<dt>associ</dt>\n",
       "\t\t<dd>777</dd>\n",
       "\t<dt>money</dt>\n",
       "\t\t<dd>776</dd>\n",
       "\t<dt>addit</dt>\n",
       "\t\t<dd>774</dd>\n",
       "\t<dt>file</dt>\n",
       "\t\t<dd>770</dd>\n",
       "\t<dt>click</dt>\n",
       "\t\t<dd>769</dd>\n",
       "\t<dt>person</dt>\n",
       "\t\t<dd>767</dd>\n",
       "\t<dt>mani</dt>\n",
       "\t\t<dd>758</dd>\n",
       "\t<dt>book</dt>\n",
       "\t\t<dd>756</dd>\n",
       "\t<dt>softwar</dt>\n",
       "\t\t<dd>739</dd>\n",
       "\t<dt>requir</dt>\n",
       "\t\t<dd>736</dd>\n",
       "\t<dt>within</dt>\n",
       "\t\t<dd>732</dd>\n",
       "\t<dt>set</dt>\n",
       "\t\t<dd>727</dd>\n",
       "\t<dt>student</dt>\n",
       "\t\t<dd>726</dd>\n",
       "\t<dt>futur</dt>\n",
       "\t\t<dd>722</dd>\n",
       "\t<dt>valu</dt>\n",
       "\t\t<dd>721</dd>\n",
       "\t<dt>rate</dt>\n",
       "\t\t<dd>717</dd>\n",
       "\t<dt>complet</dt>\n",
       "\t\t<dd>707</dd>\n",
       "\t<dt>director</dt>\n",
       "\t\t<dd>705</dd>\n",
       "\t<dt>juli</dt>\n",
       "\t\t<dd>701</dd>\n",
       "\t<dt>websit</dt>\n",
       "\t\t<dd>700</dd>\n",
       "\t<dt>relat</dt>\n",
       "\t\t<dd>694</dd>\n",
       "\t<dt>note</dt>\n",
       "\t\t<dd>688</dd>\n",
       "\t<dt>april</dt>\n",
       "\t\t<dd>682</dd>\n",
       "\t<dt>don</dt>\n",
       "\t\t<dd>676</dd>\n",
       "\t<dt>deriv</dt>\n",
       "\t\t<dd>676</dd>\n",
       "\t<dt>doc</dt>\n",
       "\t\t<dd>675</dd>\n",
       "\t<dt>web</dt>\n",
       "\t\t<dd>668</dd>\n",
       "\t<dt>problem</dt>\n",
       "\t\t<dd>666</dd>\n",
       "\t<dt>form</dt>\n",
       "\t\t<dd>664</dd>\n",
       "\t<dt>tri</dt>\n",
       "\t\t<dd>661</dd>\n",
       "\t<dt>detail</dt>\n",
       "\t\t<dd>661</dd>\n",
       "\t<dt>home</dt>\n",
       "\t\t<dd>660</dd>\n",
       "\t<dt>direct</dt>\n",
       "\t\t<dd>657</dd>\n",
       "\t<dt>kevin</dt>\n",
       "\t\t<dd>656</dd>\n",
       "\t<dt>result</dt>\n",
       "\t\t<dd>655</dd>\n",
       "\t<dt>school</dt>\n",
       "\t\t<dd>655</dd>\n",
       "\t<dt>monday</dt>\n",
       "\t\t<dd>649</dd>\n",
       "\t<dt>approv</dt>\n",
       "\t\t<dd>648</dd>\n",
       "\t<dt>real</dt>\n",
       "\t\t<dd>648</dd>\n",
       "\t<dt>invit</dt>\n",
       "\t\t<dd>647</dd>\n",
       "\t<dt>per</dt>\n",
       "\t\t<dd>642</dd>\n",
       "\t<dt>right</dt>\n",
       "\t\t<dd>639</dd>\n",
       "\t<dt>end</dt>\n",
       "\t\t<dd>635</dd>\n",
       "\t<dt>gibner</dt>\n",
       "\t\t<dd>633</dd>\n",
       "\t<dt>contract</dt>\n",
       "\t\t<dd>629</dd>\n",
       "\t<dt>cours</dt>\n",
       "\t\t<dd>626</dd>\n",
       "\t<dt>high</dt>\n",
       "\t\t<dd>624</dd>\n",
       "\t<dt>internet</dt>\n",
       "\t\t<dd>623</dd>\n",
       "\t<dt>even</dt>\n",
       "\t\t<dd>622</dd>\n",
       "\t<dt>made</dt>\n",
       "\t\t<dd>622</dd>\n",
       "\t<dt>depart</dt>\n",
       "\t\t<dd>621</dd>\n",
       "\t<dt>mark</dt>\n",
       "\t\t<dd>613</dd>\n",
       "\t<dt>move</dt>\n",
       "\t\t<dd>612</dd>\n",
       "\t<dt>intern</dt>\n",
       "\t\t<dd>606</dd>\n",
       "\t<dt>updat</dt>\n",
       "\t\t<dd>606</dd>\n",
       "\t<dt>assist</dt>\n",
       "\t\t<dd>598</dd>\n",
       "\t<dt>differ</dt>\n",
       "\t\t<dd>598</dd>\n",
       "\t<dt>abl</dt>\n",
       "\t\t<dd>590</dd>\n",
       "\t<dt>morn</dt>\n",
       "\t\t<dd>586</dd>\n",
       "\t<dt>might</dt>\n",
       "\t\t<dd>577</dd>\n",
       "\t<dt>thursday</dt>\n",
       "\t\t<dd>575</dd>\n",
       "\t<dt>attend</dt>\n",
       "\t\t<dd>573</dd>\n",
       "\t<dt>engin</dt>\n",
       "\t\t<dd>571</dd>\n",
       "\t<dt>part</dt>\n",
       "\t\t<dd>571</dd>\n",
       "\t<dt>applic</dt>\n",
       "\t\t<dd>567</dd>\n",
       "\t<dt>corpor</dt>\n",
       "\t\t<dd>565</dd>\n",
       "\t<dt>version</dt>\n",
       "\t\t<dd>564</dd>\n",
       "\t<dt>case</dt>\n",
       "\t\t<dd>561</dd>\n",
       "\t<dt>resourc</dt>\n",
       "\t\t<dd>556</dd>\n",
       "\t<dt>expect</dt>\n",
       "\t\t<dd>554</dd>\n",
       "\t<dt>unit</dt>\n",
       "\t\t<dd>554</dd>\n",
       "\t<dt>suggest</dt>\n",
       "\t\t<dd>554</dd>\n",
       "\t<dt>continu</dt>\n",
       "\t\t<dd>552</dd>\n",
       "\t<dt>event</dt>\n",
       "\t\t<dd>552</dd>\n",
       "\t<dt>hour</dt>\n",
       "\t\t<dd>548</dd>\n",
       "\t<dt>net</dt>\n",
       "\t\t<dd>548</dd>\n",
       "\t<dt>member</dt>\n",
       "\t\t<dd>545</dd>\n",
       "\t<dt>howev</dt>\n",
       "\t\t<dd>545</dd>\n",
       "\t<dt>feel</dt>\n",
       "\t\t<dd>543</dd>\n",
       "\t<dt>appreci</dt>\n",
       "\t\t<dd>541</dd>\n",
       "\t<dt>point</dt>\n",
       "\t\t<dd>536</dd>\n",
       "\t<dt>thing</dt>\n",
       "\t\t<dd>535</dd>\n",
       "\t<dt>hello</dt>\n",
       "\t\t<dd>534</dd>\n",
       "\t<dt>long</dt>\n",
       "\t\t<dd>534</dd>\n",
       "\t<dt>confirm</dt>\n",
       "\t\t<dd>532</dd>\n",
       "\t<dt>comment</dt>\n",
       "\t\t<dd>531</dd>\n",
       "\t<dt>import</dt>\n",
       "\t\t<dd>530</dd>\n",
       "\t<dt>still</dt>\n",
       "\t\t<dd>523</dd>\n",
       "\t<dt>understand</dt>\n",
       "\t\t<dd>521</dd>\n",
       "\t<dt>sinc</dt>\n",
       "\t\t<dd>521</dd>\n",
       "\t<dt>success</dt>\n",
       "\t\t<dd>519</dd>\n",
       "\t<dt>onlin</dt>\n",
       "\t\t<dd>518</dd>\n",
       "\t<dt>place</dt>\n",
       "\t\t<dd>516</dd>\n",
       "\t<dt>return</dt>\n",
       "\t\t<dd>509</dd>\n",
       "\t<dt>deal</dt>\n",
       "\t\t<dd>498</dd>\n",
       "\t<dt>analysi</dt>\n",
       "\t\t<dd>495</dd>\n",
       "\t<dt>sure</dt>\n",
       "\t\t<dd>495</dd>\n",
       "\t<dt>soon</dt>\n",
       "\t\t<dd>492</dd>\n",
       "\t<dt>increas</dt>\n",
       "\t\t<dd>491</dd>\n",
       "\t<dt>final</dt>\n",
       "\t\t<dd>490</dd>\n",
       "\t<dt>area</dt>\n",
       "\t\t<dd>489</dd>\n",
       "\t<dt>check</dt>\n",
       "\t\t<dd>488</dd>\n",
       "\t<dt>locat</dt>\n",
       "\t\t<dd>485</dd>\n",
       "\t<dt>robert</dt>\n",
       "\t\t<dd>482</dd>\n",
       "\t<dt>tuesday</dt>\n",
       "\t\t<dd>474</dd>\n",
       "\t<dt>effort</dt>\n",
       "\t\t<dd>473</dd>\n",
       "\t<dt>effect</dt>\n",
       "\t\t<dd>471</dd>\n",
       "\t<dt>full</dt>\n",
       "\t\t<dd>469</dd>\n",
       "\t<dt>hear</dt>\n",
       "\t\t<dd>469</dd>\n",
       "\t<dt>join</dt>\n",
       "\t\t<dd>469</dd>\n",
       "\t<dt>public</dt>\n",
       "\t\t<dd>468</dd>\n",
       "\t<dt>type</dt>\n",
       "\t\t<dd>466</dd>\n",
       "\t<dt>wednesday</dt>\n",
       "\t\t<dd>464</dd>\n",
       "\t<dt>X853</dt>\n",
       "\t\t<dd>462</dd>\n",
       "\t<dt>remov</dt>\n",
       "\t\t<dd>460</dd>\n",
       "\t<dt>put</dt>\n",
       "\t\t<dd>458</dd>\n",
       "\t<dt>design</dt>\n",
       "\t\t<dd>457</dd>\n",
       "\t<dt>believ</dt>\n",
       "\t\t<dd>456</dd>\n",
       "\t<dt>given</dt>\n",
       "\t\t<dd>453</dd>\n",
       "\t<dt>special</dt>\n",
       "\t\t<dd>451</dd>\n",
       "\t<dt>recent</dt>\n",
       "\t\t<dd>451</dd>\n",
       "\t<dt>allow</dt>\n",
       "\t\t<dd>450</dd>\n",
       "\t<dt>line</dt>\n",
       "\t\t<dd>448</dd>\n",
       "\t<dt>alreadi</dt>\n",
       "\t\t<dd>446</dd>\n",
       "\t<dt>due</dt>\n",
       "\t\t<dd>445</dd>\n",
       "\t<dt>buy</dt>\n",
       "\t\t<dd>442</dd>\n",
       "\t<dt>sincer</dt>\n",
       "\t\t<dd>441</dd>\n",
       "\t<dt>short</dt>\n",
       "\t\t<dd>439</dd>\n",
       "\t<dt>info</dt>\n",
       "\t\t<dd>438</dd>\n",
       "\t<dt>togeth</dt>\n",
       "\t\t<dd>438</dd>\n",
       "\t<dt>run</dt>\n",
       "\t\t<dd>437</dd>\n",
       "\t<dt>anoth</dt>\n",
       "\t\t<dd>435</dd>\n",
       "\t<dt>etc</dt>\n",
       "\t\t<dd>434</dd>\n",
       "\t<dt>keep</dt>\n",
       "\t\t<dd>431</dd>\n",
       "\t<dt>respond</dt>\n",
       "\t\t<dd>430</dd>\n",
       "\t<dt>sever</dt>\n",
       "\t\t<dd>430</dd>\n",
       "\t<dt>say</dt>\n",
       "\t\t<dd>423</dd>\n",
       "\t<dt>link</dt>\n",
       "\t\t<dd>421</dd>\n",
       "\t<dt>realli</dt>\n",
       "\t\t<dd>417</dd>\n",
       "\t<dt>open</dt>\n",
       "\t\t<dd>416</dd>\n",
       "\t<dt>wish</dt>\n",
       "\t\t<dd>414</dd>\n",
       "\t<dt>creat</dt>\n",
       "\t\t<dd>413</dd>\n",
       "\t<dt>read</dt>\n",
       "\t\t<dd>413</dd>\n",
       "\t<dt>arrang</dt>\n",
       "\t\t<dd>410</dd>\n",
       "\t<dt>specif</dt>\n",
       "\t\t<dd>407</dd>\n",
       "\t<dt>involv</dt>\n",
       "\t\t<dd>405</dd>\n",
       "\t<dt>experi</dt>\n",
       "\t\t<dd>405</dd>\n",
       "\t<dt>life</dt>\n",
       "\t\t<dd>400</dd>\n",
       "\t<dt>repli</dt>\n",
       "\t\t<dd>397</dd>\n",
       "\t<dt>happi</dt>\n",
       "\t\t<dd>396</dd>\n",
       "\t<dt>mean</dt>\n",
       "\t\t<dd>390</dd>\n",
       "\t<dt>write</dt>\n",
       "\t\t<dd>390</dd>\n",
       "\t<dt>without</dt>\n",
       "\t\t<dd>389</dd>\n",
       "\t<dt>immedi</dt>\n",
       "\t\t<dd>385</dd>\n",
       "\t<dt>better</dt>\n",
       "\t\t<dd>383</dd>\n",
       "\t<dt>idea</dt>\n",
       "\t\t<dd>378</dd>\n",
       "\t<dt>bring</dt>\n",
       "\t\t<dd>374</dd>\n",
       "\t<dt>thought</dt>\n",
       "\t\t<dd>367</dd>\n",
       "\t<dt>mention</dt>\n",
       "\t\t<dd>355</dd>\n",
       "\t<dt>lot</dt>\n",
       "\t\t<dd>348</dd>\n",
       "\t<dt>sorri</dt>\n",
       "\t\t<dd>343</dd>\n",
       "\t<dt>done</dt>\n",
       "\t\t<dd>337</dd>\n",
       "\t<dt>either</dt>\n",
       "\t\t<dd>318</dd>\n",
       "\t<dt>begin</dt>\n",
       "\t\t<dd>317</dd>\n",
       "\t<dt>vkamin</dt>\n",
       "\t\t<dd>301</dd>\n",
       "</dl>\n"
      ],
      "text/latex": [
       "\\begin{description*}\n",
       "\\item[enron] 13388\n",
       "\\item[ect] 11427\n",
       "\\item[vinc] 8532\n",
       "\\item[will] 8252\n",
       "\\item[hou] 5577\n",
       "\\item[com] 5443\n",
       "\\item[pleas] 5113\n",
       "\\item[X2000] 4967\n",
       "\\item[kaminski] 4801\n",
       "\\item[can] 4257\n",
       "\\item[thank] 3730\n",
       "\\item[forward] 3161\n",
       "\\item[time] 3145\n",
       "\\item[X2001] 3089\n",
       "\\item[research] 2820\n",
       "\\item[market] 2750\n",
       "\\item[work] 2708\n",
       "\\item[inform] 2701\n",
       "\\item[price] 2694\n",
       "\\item[meet] 2623\n",
       "\\item[know] 2614\n",
       "\\item[group] 2604\n",
       "\\item[manag] 2600\n",
       "\\item[may] 2465\n",
       "\\item[get] 2462\n",
       "\\item[like] 2352\n",
       "\\item[use] 2330\n",
       "\\item[need] 2328\n",
       "\\item[busi] 2313\n",
       "\\item[compani] 2290\n",
       "\\item[new] 2281\n",
       "\\item[mail] 2269\n",
       "\\item[risk] 2267\n",
       "\\item[model] 2199\n",
       "\\item[energi] 2179\n",
       "\\item[power] 2117\n",
       "\\item[one] 2108\n",
       "\\item[email] 2066\n",
       "\\item[regard] 2045\n",
       "\\item[look] 2003\n",
       "\\item[messag] 1983\n",
       "\\item[let] 1963\n",
       "\\item[year] 1890\n",
       "\\item[make] 1884\n",
       "\\item[develop] 1882\n",
       "\\item[also] 1864\n",
       "\\item[day] 1860\n",
       "\\item[interest] 1814\n",
       "\\item[week] 1758\n",
       "\\item[corp] 1692\n",
       "\\item[shirley] 1689\n",
       "\\item[call] 1687\n",
       "\\item[edu] 1627\n",
       "\\item[http] 1609\n",
       "\\item[houston] 1582\n",
       "\\item[see] 1567\n",
       "\\item[receiv] 1557\n",
       "\\item[follow] 1552\n",
       "\\item[present] 1543\n",
       "\\item[contact] 1543\n",
       "\\item[project] 1522\n",
       "\\item[want] 1488\n",
       "\\item[option] 1488\n",
       "\\item[program] 1438\n",
       "\\item[help] 1430\n",
       "\\item[list] 1410\n",
       "\\item[provid] 1405\n",
       "\\item[send] 1379\n",
       "\\item[trade] 1366\n",
       "\\item[take] 1361\n",
       "\\item[just] 1354\n",
       "\\item[request] 1344\n",
       "\\item[communic] 1343\n",
       "\\item[servic] 1337\n",
       "\\item[interview] 1333\n",
       "\\item[discuss] 1326\n",
       "\\item[www] 1323\n",
       "\\item[now] 1300\n",
       "\\item[confer] 1297\n",
       "\\item[best] 1291\n",
       "\\item[report] 1279\n",
       "\\item[includ] 1238\n",
       "\\item[think] 1216\n",
       "\\item[order] 1210\n",
       "\\item[product] 1197\n",
       "\\item[date] 1187\n",
       "\\item[number] 1182\n",
       "\\item[attach] 1176\n",
       "\\item[offer] 1171\n",
       "\\item[address] 1154\n",
       "\\item[avail] 1152\n",
       "\\item[question] 1152\n",
       "\\item[next.] 1145\n",
       "\\item[free] 1141\n",
       "\\item[visit] 1126\n",
       "\\item[sent] 1126\n",
       "\\item[well] 1125\n",
       "\\item[system] 1118\n",
       "\\item[crenshaw] 1115\n",
       "\\item[posit] 1104\n",
       "\\item[good] 1097\n",
       "\\item[X713] 1097\n",
       "\\item[name] 1089\n",
       "\\item[state] 1086\n",
       "\\item[financ] 1073\n",
       "\\item[schedul] 1071\n",
       "\\item[gas] 1070\n",
       "\\item[offic] 1068\n",
       "\\item[univers] 1059\n",
       "\\item[give] 1055\n",
       "\\item[stinson] 1051\n",
       "\\item[current] 1044\n",
       "\\item[john] 1042\n",
       "\\item[fax] 1038\n",
       "\\item[chang] 1035\n",
       "\\item[X000] 1007\n",
       "\\item[phone] 1001\n",
       "\\item[last] 998\n",
       "\\item[talk] 981\n",
       "\\item[review] 976\n",
       "\\item[process] 975\n",
       "\\item[industri] 970\n",
       "\\item[credit] 960\n",
       "\\item[month] 958\n",
       "\\item[peopl] 958\n",
       "\\item[data] 955\n",
       "\\item[issu] 944\n",
       "\\item[resum] 933\n",
       "\\item[first] 929\n",
       "\\item[team] 926\n",
       "\\item[opportun] 918\n",
       "\\item[site] 913\n",
       "\\item[two] 911\n",
       "\\item[financi] 909\n",
       "\\item[plan] 904\n",
       "\\item[come] 903\n",
       "\\item[origin] 892\n",
       "\\item[shall] 884\n",
       "\\item[start] 880\n",
       "\\item[ask] 871\n",
       "\\item[invest] 867\n",
       "\\item[find] 867\n",
       "\\item[way] 864\n",
       "\\item[back] 864\n",
       "\\item[much] 861\n",
       "\\item[hope] 858\n",
       "\\item[secur] 857\n",
       "\\item[support] 854\n",
       "\\item[friday] 854\n",
       "\\item[london] 843\n",
       "\\item[dear] 838\n",
       "\\item[great] 837\n",
       "\\item[base] 837\n",
       "\\item[account] 829\n",
       "\\item[today] 828\n",
       "\\item[respons] 824\n",
       "\\item[cost] 821\n",
       "\\item[oper] 820\n",
       "\\item[copi] 797\n",
       "\\item[custom] 796\n",
       "\\item[possibl] 796\n",
       "\\item[access] 789\n",
       "\\item[term] 786\n",
       "\\item[particip] 782\n",
       "\\item[associ] 777\n",
       "\\item[money] 776\n",
       "\\item[addit] 774\n",
       "\\item[file] 770\n",
       "\\item[click] 769\n",
       "\\item[person] 767\n",
       "\\item[mani] 758\n",
       "\\item[book] 756\n",
       "\\item[softwar] 739\n",
       "\\item[requir] 736\n",
       "\\item[within] 732\n",
       "\\item[set] 727\n",
       "\\item[student] 726\n",
       "\\item[futur] 722\n",
       "\\item[valu] 721\n",
       "\\item[rate] 717\n",
       "\\item[complet] 707\n",
       "\\item[director] 705\n",
       "\\item[juli] 701\n",
       "\\item[websit] 700\n",
       "\\item[relat] 694\n",
       "\\item[note] 688\n",
       "\\item[april] 682\n",
       "\\item[don] 676\n",
       "\\item[deriv] 676\n",
       "\\item[doc] 675\n",
       "\\item[web] 668\n",
       "\\item[problem] 666\n",
       "\\item[form] 664\n",
       "\\item[tri] 661\n",
       "\\item[detail] 661\n",
       "\\item[home] 660\n",
       "\\item[direct] 657\n",
       "\\item[kevin] 656\n",
       "\\item[result] 655\n",
       "\\item[school] 655\n",
       "\\item[monday] 649\n",
       "\\item[approv] 648\n",
       "\\item[real] 648\n",
       "\\item[invit] 647\n",
       "\\item[per] 642\n",
       "\\item[right] 639\n",
       "\\item[end] 635\n",
       "\\item[gibner] 633\n",
       "\\item[contract] 629\n",
       "\\item[cours] 626\n",
       "\\item[high] 624\n",
       "\\item[internet] 623\n",
       "\\item[even] 622\n",
       "\\item[made] 622\n",
       "\\item[depart] 621\n",
       "\\item[mark] 613\n",
       "\\item[move] 612\n",
       "\\item[intern] 606\n",
       "\\item[updat] 606\n",
       "\\item[assist] 598\n",
       "\\item[differ] 598\n",
       "\\item[abl] 590\n",
       "\\item[morn] 586\n",
       "\\item[might] 577\n",
       "\\item[thursday] 575\n",
       "\\item[attend] 573\n",
       "\\item[engin] 571\n",
       "\\item[part] 571\n",
       "\\item[applic] 567\n",
       "\\item[corpor] 565\n",
       "\\item[version] 564\n",
       "\\item[case] 561\n",
       "\\item[resourc] 556\n",
       "\\item[expect] 554\n",
       "\\item[unit] 554\n",
       "\\item[suggest] 554\n",
       "\\item[continu] 552\n",
       "\\item[event] 552\n",
       "\\item[hour] 548\n",
       "\\item[net] 548\n",
       "\\item[member] 545\n",
       "\\item[howev] 545\n",
       "\\item[feel] 543\n",
       "\\item[appreci] 541\n",
       "\\item[point] 536\n",
       "\\item[thing] 535\n",
       "\\item[hello] 534\n",
       "\\item[long] 534\n",
       "\\item[confirm] 532\n",
       "\\item[comment] 531\n",
       "\\item[import] 530\n",
       "\\item[still] 523\n",
       "\\item[understand] 521\n",
       "\\item[sinc] 521\n",
       "\\item[success] 519\n",
       "\\item[onlin] 518\n",
       "\\item[place] 516\n",
       "\\item[return] 509\n",
       "\\item[deal] 498\n",
       "\\item[analysi] 495\n",
       "\\item[sure] 495\n",
       "\\item[soon] 492\n",
       "\\item[increas] 491\n",
       "\\item[final] 490\n",
       "\\item[area] 489\n",
       "\\item[check] 488\n",
       "\\item[locat] 485\n",
       "\\item[robert] 482\n",
       "\\item[tuesday] 474\n",
       "\\item[effort] 473\n",
       "\\item[effect] 471\n",
       "\\item[full] 469\n",
       "\\item[hear] 469\n",
       "\\item[join] 469\n",
       "\\item[public] 468\n",
       "\\item[type] 466\n",
       "\\item[wednesday] 464\n",
       "\\item[X853] 462\n",
       "\\item[remov] 460\n",
       "\\item[put] 458\n",
       "\\item[design] 457\n",
       "\\item[believ] 456\n",
       "\\item[given] 453\n",
       "\\item[special] 451\n",
       "\\item[recent] 451\n",
       "\\item[allow] 450\n",
       "\\item[line] 448\n",
       "\\item[alreadi] 446\n",
       "\\item[due] 445\n",
       "\\item[buy] 442\n",
       "\\item[sincer] 441\n",
       "\\item[short] 439\n",
       "\\item[info] 438\n",
       "\\item[togeth] 438\n",
       "\\item[run] 437\n",
       "\\item[anoth] 435\n",
       "\\item[etc] 434\n",
       "\\item[keep] 431\n",
       "\\item[respond] 430\n",
       "\\item[sever] 430\n",
       "\\item[say] 423\n",
       "\\item[link] 421\n",
       "\\item[realli] 417\n",
       "\\item[open] 416\n",
       "\\item[wish] 414\n",
       "\\item[creat] 413\n",
       "\\item[read] 413\n",
       "\\item[arrang] 410\n",
       "\\item[specif] 407\n",
       "\\item[involv] 405\n",
       "\\item[experi] 405\n",
       "\\item[life] 400\n",
       "\\item[repli] 397\n",
       "\\item[happi] 396\n",
       "\\item[mean] 390\n",
       "\\item[write] 390\n",
       "\\item[without] 389\n",
       "\\item[immedi] 385\n",
       "\\item[better] 383\n",
       "\\item[idea] 378\n",
       "\\item[bring] 374\n",
       "\\item[thought] 367\n",
       "\\item[mention] 355\n",
       "\\item[lot] 348\n",
       "\\item[sorri] 343\n",
       "\\item[done] 337\n",
       "\\item[either] 318\n",
       "\\item[begin] 317\n",
       "\\item[vkamin] 301\n",
       "\\end{description*}\n"
      ],
      "text/markdown": [
       "enron\n",
       ":   13388ect\n",
       ":   11427vinc\n",
       ":   8532will\n",
       ":   8252hou\n",
       ":   5577com\n",
       ":   5443pleas\n",
       ":   5113X2000\n",
       ":   4967kaminski\n",
       ":   4801can\n",
       ":   4257thank\n",
       ":   3730forward\n",
       ":   3161time\n",
       ":   3145X2001\n",
       ":   3089research\n",
       ":   2820market\n",
       ":   2750work\n",
       ":   2708inform\n",
       ":   2701price\n",
       ":   2694meet\n",
       ":   2623know\n",
       ":   2614group\n",
       ":   2604manag\n",
       ":   2600may\n",
       ":   2465get\n",
       ":   2462like\n",
       ":   2352use\n",
       ":   2330need\n",
       ":   2328busi\n",
       ":   2313compani\n",
       ":   2290new\n",
       ":   2281mail\n",
       ":   2269risk\n",
       ":   2267model\n",
       ":   2199energi\n",
       ":   2179power\n",
       ":   2117one\n",
       ":   2108email\n",
       ":   2066regard\n",
       ":   2045look\n",
       ":   2003messag\n",
       ":   1983let\n",
       ":   1963year\n",
       ":   1890make\n",
       ":   1884develop\n",
       ":   1882also\n",
       ":   1864day\n",
       ":   1860interest\n",
       ":   1814week\n",
       ":   1758corp\n",
       ":   1692shirley\n",
       ":   1689call\n",
       ":   1687edu\n",
       ":   1627http\n",
       ":   1609houston\n",
       ":   1582see\n",
       ":   1567receiv\n",
       ":   1557follow\n",
       ":   1552present\n",
       ":   1543contact\n",
       ":   1543project\n",
       ":   1522want\n",
       ":   1488option\n",
       ":   1488program\n",
       ":   1438help\n",
       ":   1430list\n",
       ":   1410provid\n",
       ":   1405send\n",
       ":   1379trade\n",
       ":   1366take\n",
       ":   1361just\n",
       ":   1354request\n",
       ":   1344communic\n",
       ":   1343servic\n",
       ":   1337interview\n",
       ":   1333discuss\n",
       ":   1326www\n",
       ":   1323now\n",
       ":   1300confer\n",
       ":   1297best\n",
       ":   1291report\n",
       ":   1279includ\n",
       ":   1238think\n",
       ":   1216order\n",
       ":   1210product\n",
       ":   1197date\n",
       ":   1187number\n",
       ":   1182attach\n",
       ":   1176offer\n",
       ":   1171address\n",
       ":   1154avail\n",
       ":   1152question\n",
       ":   1152next.\n",
       ":   1145free\n",
       ":   1141visit\n",
       ":   1126sent\n",
       ":   1126well\n",
       ":   1125system\n",
       ":   1118crenshaw\n",
       ":   1115posit\n",
       ":   1104good\n",
       ":   1097X713\n",
       ":   1097name\n",
       ":   1089state\n",
       ":   1086financ\n",
       ":   1073schedul\n",
       ":   1071gas\n",
       ":   1070offic\n",
       ":   1068univers\n",
       ":   1059give\n",
       ":   1055stinson\n",
       ":   1051current\n",
       ":   1044john\n",
       ":   1042fax\n",
       ":   1038chang\n",
       ":   1035X000\n",
       ":   1007phone\n",
       ":   1001last\n",
       ":   998talk\n",
       ":   981review\n",
       ":   976process\n",
       ":   975industri\n",
       ":   970credit\n",
       ":   960month\n",
       ":   958peopl\n",
       ":   958data\n",
       ":   955issu\n",
       ":   944resum\n",
       ":   933first\n",
       ":   929team\n",
       ":   926opportun\n",
       ":   918site\n",
       ":   913two\n",
       ":   911financi\n",
       ":   909plan\n",
       ":   904come\n",
       ":   903origin\n",
       ":   892shall\n",
       ":   884start\n",
       ":   880ask\n",
       ":   871invest\n",
       ":   867find\n",
       ":   867way\n",
       ":   864back\n",
       ":   864much\n",
       ":   861hope\n",
       ":   858secur\n",
       ":   857support\n",
       ":   854friday\n",
       ":   854london\n",
       ":   843dear\n",
       ":   838great\n",
       ":   837base\n",
       ":   837account\n",
       ":   829today\n",
       ":   828respons\n",
       ":   824cost\n",
       ":   821oper\n",
       ":   820copi\n",
       ":   797custom\n",
       ":   796possibl\n",
       ":   796access\n",
       ":   789term\n",
       ":   786particip\n",
       ":   782associ\n",
       ":   777money\n",
       ":   776addit\n",
       ":   774file\n",
       ":   770click\n",
       ":   769person\n",
       ":   767mani\n",
       ":   758book\n",
       ":   756softwar\n",
       ":   739requir\n",
       ":   736within\n",
       ":   732set\n",
       ":   727student\n",
       ":   726futur\n",
       ":   722valu\n",
       ":   721rate\n",
       ":   717complet\n",
       ":   707director\n",
       ":   705juli\n",
       ":   701websit\n",
       ":   700relat\n",
       ":   694note\n",
       ":   688april\n",
       ":   682don\n",
       ":   676deriv\n",
       ":   676doc\n",
       ":   675web\n",
       ":   668problem\n",
       ":   666form\n",
       ":   664tri\n",
       ":   661detail\n",
       ":   661home\n",
       ":   660direct\n",
       ":   657kevin\n",
       ":   656result\n",
       ":   655school\n",
       ":   655monday\n",
       ":   649approv\n",
       ":   648real\n",
       ":   648invit\n",
       ":   647per\n",
       ":   642right\n",
       ":   639end\n",
       ":   635gibner\n",
       ":   633contract\n",
       ":   629cours\n",
       ":   626high\n",
       ":   624internet\n",
       ":   623even\n",
       ":   622made\n",
       ":   622depart\n",
       ":   621mark\n",
       ":   613move\n",
       ":   612intern\n",
       ":   606updat\n",
       ":   606assist\n",
       ":   598differ\n",
       ":   598abl\n",
       ":   590morn\n",
       ":   586might\n",
       ":   577thursday\n",
       ":   575attend\n",
       ":   573engin\n",
       ":   571part\n",
       ":   571applic\n",
       ":   567corpor\n",
       ":   565version\n",
       ":   564case\n",
       ":   561resourc\n",
       ":   556expect\n",
       ":   554unit\n",
       ":   554suggest\n",
       ":   554continu\n",
       ":   552event\n",
       ":   552hour\n",
       ":   548net\n",
       ":   548member\n",
       ":   545howev\n",
       ":   545feel\n",
       ":   543appreci\n",
       ":   541point\n",
       ":   536thing\n",
       ":   535hello\n",
       ":   534long\n",
       ":   534confirm\n",
       ":   532comment\n",
       ":   531import\n",
       ":   530still\n",
       ":   523understand\n",
       ":   521sinc\n",
       ":   521success\n",
       ":   519onlin\n",
       ":   518place\n",
       ":   516return\n",
       ":   509deal\n",
       ":   498analysi\n",
       ":   495sure\n",
       ":   495soon\n",
       ":   492increas\n",
       ":   491final\n",
       ":   490area\n",
       ":   489check\n",
       ":   488locat\n",
       ":   485robert\n",
       ":   482tuesday\n",
       ":   474effort\n",
       ":   473effect\n",
       ":   471full\n",
       ":   469hear\n",
       ":   469join\n",
       ":   469public\n",
       ":   468type\n",
       ":   466wednesday\n",
       ":   464X853\n",
       ":   462remov\n",
       ":   460put\n",
       ":   458design\n",
       ":   457believ\n",
       ":   456given\n",
       ":   453special\n",
       ":   451recent\n",
       ":   451allow\n",
       ":   450line\n",
       ":   448alreadi\n",
       ":   446due\n",
       ":   445buy\n",
       ":   442sincer\n",
       ":   441short\n",
       ":   439info\n",
       ":   438togeth\n",
       ":   438run\n",
       ":   437anoth\n",
       ":   435etc\n",
       ":   434keep\n",
       ":   431respond\n",
       ":   430sever\n",
       ":   430say\n",
       ":   423link\n",
       ":   421realli\n",
       ":   417open\n",
       ":   416wish\n",
       ":   414creat\n",
       ":   413read\n",
       ":   413arrang\n",
       ":   410specif\n",
       ":   407involv\n",
       ":   405experi\n",
       ":   405life\n",
       ":   400repli\n",
       ":   397happi\n",
       ":   396mean\n",
       ":   390write\n",
       ":   390without\n",
       ":   389immedi\n",
       ":   385better\n",
       ":   383idea\n",
       ":   378bring\n",
       ":   374thought\n",
       ":   367mention\n",
       ":   355lot\n",
       ":   348sorri\n",
       ":   343done\n",
       ":   337either\n",
       ":   318begin\n",
       ":   317vkamin\n",
       ":   301\n",
       "\n"
      ],
      "text/plain": [
       "     enron        ect       vinc       will        hou        com      pleas \n",
       "     13388      11427       8532       8252       5577       5443       5113 \n",
       "     X2000   kaminski        can      thank    forward       time      X2001 \n",
       "      4967       4801       4257       3730       3161       3145       3089 \n",
       "  research     market       work     inform      price       meet       know \n",
       "      2820       2750       2708       2701       2694       2623       2614 \n",
       "     group      manag        may        get       like        use       need \n",
       "      2604       2600       2465       2462       2352       2330       2328 \n",
       "      busi    compani        new       mail       risk      model     energi \n",
       "      2313       2290       2281       2269       2267       2199       2179 \n",
       "     power        one      email     regard       look     messag        let \n",
       "      2117       2108       2066       2045       2003       1983       1963 \n",
       "      year       make    develop       also        day   interest       week \n",
       "      1890       1884       1882       1864       1860       1814       1758 \n",
       "      corp    shirley       call        edu       http    houston        see \n",
       "      1692       1689       1687       1627       1609       1582       1567 \n",
       "    receiv     follow    present    contact    project       want     option \n",
       "      1557       1552       1543       1543       1522       1488       1488 \n",
       "   program       help       list     provid       send      trade       take \n",
       "      1438       1430       1410       1405       1379       1366       1361 \n",
       "      just    request   communic     servic  interview    discuss        www \n",
       "      1354       1344       1343       1337       1333       1326       1323 \n",
       "       now     confer       best     report     includ      think      order \n",
       "      1300       1297       1291       1279       1238       1216       1210 \n",
       "   product       date     number     attach      offer    address      avail \n",
       "      1197       1187       1182       1176       1171       1154       1152 \n",
       "  question      next.       free      visit       sent       well     system \n",
       "      1152       1145       1141       1126       1126       1125       1118 \n",
       "  crenshaw      posit       good       X713       name      state     financ \n",
       "      1115       1104       1097       1097       1089       1086       1073 \n",
       "   schedul        gas      offic    univers       give    stinson    current \n",
       "      1071       1070       1068       1059       1055       1051       1044 \n",
       "      john        fax      chang       X000      phone       last       talk \n",
       "      1042       1038       1035       1007       1001        998        981 \n",
       "    review    process   industri     credit      month      peopl       data \n",
       "       976        975        970        960        958        958        955 \n",
       "      issu      resum      first       team   opportun       site        two \n",
       "       944        933        929        926        918        913        911 \n",
       "   financi       plan       come     origin      shall      start        ask \n",
       "       909        904        903        892        884        880        871 \n",
       "    invest       find        way       back       much       hope      secur \n",
       "       867        867        864        864        861        858        857 \n",
       "   support     friday     london       dear      great       base    account \n",
       "       854        854        843        838        837        837        829 \n",
       "     today    respons       cost       oper       copi     custom    possibl \n",
       "       828        824        821        820        797        796        796 \n",
       "    access       term   particip     associ      money      addit       file \n",
       "       789        786        782        777        776        774        770 \n",
       "     click     person       mani       book    softwar     requir     within \n",
       "       769        767        758        756        739        736        732 \n",
       "       set    student      futur       valu       rate    complet   director \n",
       "       727        726        722        721        717        707        705 \n",
       "      juli     websit      relat       note      april        don      deriv \n",
       "       701        700        694        688        682        676        676 \n",
       "       doc        web    problem       form        tri     detail       home \n",
       "       675        668        666        664        661        661        660 \n",
       "    direct      kevin     result     school     monday     approv       real \n",
       "       657        656        655        655        649        648        648 \n",
       "     invit        per      right        end     gibner   contract      cours \n",
       "       647        642        639        635        633        629        626 \n",
       "      high   internet       even       made     depart       mark       move \n",
       "       624        623        622        622        621        613        612 \n",
       "    intern      updat     assist     differ        abl       morn      might \n",
       "       606        606        598        598        590        586        577 \n",
       "  thursday     attend      engin       part     applic     corpor    version \n",
       "       575        573        571        571        567        565        564 \n",
       "      case    resourc     expect       unit    suggest    continu      event \n",
       "       561        556        554        554        554        552        552 \n",
       "      hour        net     member      howev       feel    appreci      point \n",
       "       548        548        545        545        543        541        536 \n",
       "     thing      hello       long    confirm    comment     import      still \n",
       "       535        534        534        532        531        530        523 \n",
       "understand       sinc    success      onlin      place     return       deal \n",
       "       521        521        519        518        516        509        498 \n",
       "   analysi       sure       soon    increas      final       area      check \n",
       "       495        495        492        491        490        489        488 \n",
       "     locat     robert    tuesday     effort     effect       full       hear \n",
       "       485        482        474        473        471        469        469 \n",
       "      join     public       type  wednesday       X853      remov        put \n",
       "       469        468        466        464        462        460        458 \n",
       "    design     believ      given    special     recent      allow       line \n",
       "       457        456        453        451        451        450        448 \n",
       "   alreadi        due        buy     sincer      short       info     togeth \n",
       "       446        445        442        441        439        438        438 \n",
       "       run      anoth        etc       keep    respond      sever        say \n",
       "       437        435        434        431        430        430        423 \n",
       "      link     realli       open       wish      creat       read     arrang \n",
       "       421        417        416        414        413        413        410 \n",
       "    specif     involv     experi       life      repli      happi       mean \n",
       "       407        405        405        400        397        396        390 \n",
       "     write    without     immedi     better       idea      bring    thought \n",
       "       390        389        385        383        378        374        367 \n",
       "   mention        lot      sorri       done     either      begin     vkamin \n",
       "       355        348        343        337        318        317        301 "
      ]
     },
     "metadata": {},
     "output_type": "display_data"
    }
   ],
   "source": [
    "emailsSparse <- as.data.frame(as.matrix(spdtm))\n",
    "colnames(emailsSparse) <- make.names(colnames(emailsSparse))\n",
    "head(emailsSparse)\n",
    "\n",
    "sort(colSums(emailsSparse), decreasing = T)\n",
    "# `enron` appears most often"
   ]
  },
  {
   "cell_type": "markdown",
   "metadata": {},
   "source": [
    "### 1I"
   ]
  },
  {
   "cell_type": "code",
   "execution_count": 92,
   "metadata": {},
   "outputs": [
    {
     "data": {
      "text/html": [
       "<dl class=dl-horizontal>\n",
       "\t<dt>enron</dt>\n",
       "\t\t<dd>13388</dd>\n",
       "\t<dt>ect</dt>\n",
       "\t\t<dd>11417</dd>\n",
       "\t<dt>vinc</dt>\n",
       "\t\t<dd>8531</dd>\n",
       "\t<dt>will</dt>\n",
       "\t\t<dd>6802</dd>\n",
       "\t<dt>hou</dt>\n",
       "\t\t<dd>5569</dd>\n",
       "</dl>\n"
      ],
      "text/latex": [
       "\\begin{description*}\n",
       "\\item[enron] 13388\n",
       "\\item[ect] 11417\n",
       "\\item[vinc] 8531\n",
       "\\item[will] 6802\n",
       "\\item[hou] 5569\n",
       "\\end{description*}\n"
      ],
      "text/markdown": [
       "enron\n",
       ":   13388ect\n",
       ":   11417vinc\n",
       ":   8531will\n",
       ":   6802hou\n",
       ":   5569\n",
       "\n"
      ],
      "text/plain": [
       "enron   ect  vinc  will   hou \n",
       "13388 11417  8531  6802  5569 "
      ]
     },
     "metadata": {},
     "output_type": "display_data"
    }
   ],
   "source": [
    "emailsSparse$spam <- emails$spam\n",
    "hamSparse <- subset(emailsSparse, emailsSparse$spam == 0)\n",
    "\n",
    "# only 5 words appear in the ham emails at least 5000 times\n",
    "sort(colSums(hamSparse), decreasing = T)[sort(colSums(hamSparse), decreasing = T) >= 5000]"
   ]
  },
  {
   "cell_type": "markdown",
   "metadata": {},
   "source": [
    "### 1J"
   ]
  },
  {
   "cell_type": "code",
   "execution_count": 60,
   "metadata": {},
   "outputs": [
    {
     "data": {
      "text/html": [
       "<dl class=dl-horizontal>\n",
       "\t<dt>will</dt>\n",
       "\t\t<dd>1450</dd>\n",
       "\t<dt>spam</dt>\n",
       "\t\t<dd>1368</dd>\n",
       "\t<dt>compani</dt>\n",
       "\t\t<dd>1065</dd>\n",
       "</dl>\n"
      ],
      "text/latex": [
       "\\begin{description*}\n",
       "\\item[will] 1450\n",
       "\\item[spam] 1368\n",
       "\\item[compani] 1065\n",
       "\\end{description*}\n"
      ],
      "text/markdown": [
       "will\n",
       ":   1450spam\n",
       ":   1368compani\n",
       ":   1065\n",
       "\n"
      ],
      "text/plain": [
       "   will    spam compani \n",
       "   1450    1368    1065 "
      ]
     },
     "metadata": {},
     "output_type": "display_data"
    }
   ],
   "source": [
    "spamSparse <- subset(emailsSparse, emailsSparse$spam == 1)\n",
    "\n",
    "# only 3 words appear in the spam emails at least 1000 times\n",
    "sort(colSums(spamSparse), decreasing = T)[sort(colSums(spamSparse), decreasing = T) >= 1000]"
   ]
  },
  {
   "cell_type": "markdown",
   "metadata": {},
   "source": [
    "### 1K\n",
    "\n",
    "The frequencies of these most common words are likely to help differentiate between spam and ham."
   ]
  },
  {
   "cell_type": "markdown",
   "metadata": {},
   "source": [
    "### 1L\n",
    "\n",
    "The models we build are personalized, and would need to be further tested before being used as a spam filter for another person."
   ]
  },
  {
   "cell_type": "markdown",
   "metadata": {},
   "source": [
    "### 1M\n",
    "\n",
    "*WARNING*: long computation time"
   ]
  },
  {
   "cell_type": "code",
   "execution_count": 70,
   "metadata": {},
   "outputs": [
    {
     "name": "stderr",
     "output_type": "stream",
     "text": [
      "Warning message:\n",
      "“glm.fit: algorithm did not converge”Warning message:\n",
      "“glm.fit: fitted probabilities numerically 0 or 1 occurred”randomForest 4.6-12\n",
      "Type rfNews() to see new features/changes/bug fixes.\n"
     ]
    },
    {
     "data": {
      "image/png": "[encoded data removed]",
      "text/plain": [
       "plot without title"
      ]
     },
     "metadata": {},
     "output_type": "display_data"
    }
   ],
   "source": [
    "emailsSparse$spam <- as.factor(emailsSparse$spam)\n",
    "\n",
    "# splitting into training and test sets (rmb to always split on dependent var)\n",
    "library(caTools)\n",
    "set.seed(123)\n",
    "spl <- sample.split(emailsSparse$spam, SplitRatio = 0.7)\n",
    "train1 <- subset(emailsSparse, spl == T)\n",
    "test1 <- subset(emailsSparse, spl == F)\n",
    "\n",
    "# Model_1: log regression\n",
    "spamLog <- glm(spam~., train1, family=\"binomial\")\n",
    "\n",
    "# Model_2: CART\n",
    "library(rpart)\n",
    "library(rpart.plot)\n",
    "set.seed(123)\n",
    "spamCART <- rpart(spam~., train1)\n",
    "\n",
    "# Model_3: ranfom forest\n",
    "library(randomForest)\n",
    "set.seed(123)\n",
    "spamRF <- randomForest(spam~., train1)"
   ]
  },
  {
   "cell_type": "code",
   "execution_count": 134,
   "metadata": {
    "scrolled": false
   },
   "outputs": [
    {
     "data": {
      "text/html": [
       "3046"
      ],
      "text/latex": [
       "3046"
      ],
      "text/markdown": [
       "3046"
      ],
      "text/plain": [
       "[1] 3046"
      ]
     },
     "metadata": {},
     "output_type": "display_data"
    },
    {
     "data": {
      "text/html": [
       "954"
      ],
      "text/latex": [
       "954"
      ],
      "text/markdown": [
       "954"
      ],
      "text/plain": [
       "[1] 954"
      ]
     },
     "metadata": {},
     "output_type": "display_data"
    },
    {
     "data": {
      "text/html": [
       "10"
      ],
      "text/latex": [
       "10"
      ],
      "text/markdown": [
       "10"
      ],
      "text/plain": [
       "[1] 10"
      ]
     },
     "metadata": {},
     "output_type": "display_data"
    }
   ],
   "source": [
    "spamLogPredict <- predict(spamLog, train1, type=\"response\")\n",
    "spamCARTPredict <- predict(spamCART, train1, type='prob')\n",
    "spamRFPredict <- predict(spamRF, train1, type='prob')\n",
    "\n",
    "# spamLog probability counting\n",
    "length(spamLogPredict[spamLogPredict < 0.00001])\n",
    "length(spamLogPredict[spamLogPredict > 0.99999])\n",
    "length(spamLogPredict[spamLogPredict > 0.00001 & spamLogPredict < 0.99999])"
   ]
  },
  {
   "cell_type": "markdown",
   "metadata": {},
   "source": [
    "### 1N\n",
    "\n",
    "There are no variables labelled as significant ($p=0.5$)"
   ]
  },
  {
   "cell_type": "code",
   "execution_count": 88,
   "metadata": {
    "scrolled": true
   },
   "outputs": [
    {
     "data": {
      "text/plain": [
       "\n",
       "Call:\n",
       "glm(formula = spam ~ ., family = \"binomial\", data = train1)\n",
       "\n",
       "Deviance Residuals: \n",
       "   Min      1Q  Median      3Q     Max  \n",
       "-1.011   0.000   0.000   0.000   1.354  \n",
       "\n",
       "Coefficients:\n",
       "              Estimate Std. Error z value Pr(>|z|)\n",
       "(Intercept) -4.055e-01  6.455e-01  -0.628    0.530\n",
       "busi        -3.601e+00  1.378e+04   0.000    1.000\n",
       "chang       -2.711e+01  1.857e+04  -0.001    0.999\n",
       "compani      4.426e+00  1.109e+04   0.000    1.000\n",
       "corpor       1.033e-01  2.871e+04   0.000    1.000\n",
       "day         -5.244e+00  8.973e+03  -0.001    1.000\n",
       "done         9.355e+00  5.901e+04   0.000    1.000\n",
       "effect       2.255e+01  3.844e+04   0.001    1.000\n",
       "effort       1.396e+01  6.308e+04   0.000    1.000\n",
       "even        -1.875e+01  4.433e+04   0.000    1.000\n",
       "full         5.810e+00  2.568e+04   0.000    1.000\n",
       "good         1.051e+01  1.684e+04   0.001    1.000\n",
       "inform       1.747e+01  1.038e+04   0.002    0.999\n",
       "interest     2.489e+01  1.563e+04   0.002    0.999\n",
       "list        -8.088e+00  1.198e+03  -0.007    0.995\n",
       "look        -5.458e+00  1.744e+04   0.000    1.000\n",
       "made         1.070e+01  4.000e+04   0.000    1.000\n",
       "make         2.340e+01  1.703e+04   0.001    0.999\n",
       "manag        4.970e+00  3.222e+04   0.000    1.000\n",
       "market       8.152e+00  1.179e+04   0.001    0.999\n",
       "much         4.104e+00  1.954e+04   0.000    1.000\n",
       "order        4.504e+00  1.918e+04   0.000    1.000\n",
       "origin       2.048e+01  4.141e+04   0.000    1.000\n",
       "product      8.567e+00  2.540e+04   0.000    1.000\n",
       "provid       5.877e+00  1.597e+04   0.000    1.000\n",
       "realli      -1.931e+01  4.643e+04   0.000    1.000\n",
       "result       1.160e+01  5.600e+04   0.000    1.000\n",
       "see         -8.303e+00  1.511e+04  -0.001    1.000\n",
       "special      1.512e+01  3.608e+04   0.000    1.000\n",
       "system       3.613e+00  1.289e+04   0.000    1.000\n",
       "use         -1.077e+01  1.210e+04  -0.001    0.999\n",
       "websit      -3.456e+01  2.686e+04  -0.001    0.999\n",
       "will        -7.488e+00  6.816e+03  -0.001    0.999\n",
       "within       3.706e+01  2.406e+04   0.002    0.999\n",
       "without      1.149e+01  2.619e+04   0.000    1.000\n",
       "continu      1.577e+01  1.819e+04   0.001    0.999\n",
       "group        4.559e+00  1.383e+04   0.000    1.000\n",
       "like         6.819e+00  1.304e+04   0.001    1.000\n",
       "trade       -2.281e+01  1.743e+04  -0.001    0.999\n",
       "tri         -1.458e+00  1.264e+04   0.000    1.000\n",
       "approv      -9.139e+00  2.866e+04   0.000    1.000\n",
       "ask         -5.632e+00  3.978e+04   0.000    1.000\n",
       "complet     -4.635e+00  3.341e+04   0.000    1.000\n",
       "credit       2.637e+01  1.128e+04   0.002    0.998\n",
       "form         1.915e+00  2.102e+04   0.000    1.000\n",
       "hear         3.862e+01  2.433e+04   0.002    0.999\n",
       "home         4.334e+00  1.291e+04   0.000    1.000\n",
       "new          1.668e+00  8.831e+03   0.000    1.000\n",
       "offer        1.276e+01  1.212e+04   0.001    0.999\n",
       "opportun     3.185e-01  2.518e+04   0.000    1.000\n",
       "rate        -3.741e+00  1.636e+04   0.000    1.000\n",
       "take         7.201e+00  1.702e+04   0.000    1.000\n",
       "time        -1.558e+00  1.143e+04   0.000    1.000\n",
       "visit        2.609e+01  1.651e+04   0.002    0.999\n",
       "want        -9.053e+00  1.833e+04   0.000    1.000\n",
       "way          1.334e+01  1.093e+04   0.001    0.999\n",
       "addit       -1.597e+01  3.454e+04   0.000    1.000\n",
       "click        1.404e+01  9.744e+03   0.001    0.999\n",
       "com          1.516e+00  4.463e+03   0.000    1.000\n",
       "fax          1.142e+01  2.706e+04   0.000    1.000\n",
       "mail         6.785e+00  1.062e+04   0.001    0.999\n",
       "messag       1.854e+01  4.892e+03   0.004    0.997\n",
       "now          3.366e+01  1.685e+04   0.002    0.998\n",
       "phone       -6.681e+00  1.618e+04   0.000    1.000\n",
       "request     -7.965e+00  1.937e+04   0.000    1.000\n",
       "version     -3.687e+01  4.602e+04  -0.001    0.999\n",
       "best        -8.073e+00  1.188e+03  -0.007    0.995\n",
       "end         -1.138e+01  4.432e+04   0.000    1.000\n",
       "get          6.797e+00  1.023e+04   0.001    0.999\n",
       "great        6.520e+00  1.143e+04   0.001    1.000\n",
       "money        3.071e+01  2.706e+04   0.001    0.999\n",
       "softwar      2.975e+01  1.911e+04   0.002    0.999\n",
       "custom       1.733e+01  1.422e+04   0.001    0.999\n",
       "hello        2.756e+01  2.793e+04   0.001    0.999\n",
       "one          1.191e+01  9.456e+03   0.001    0.999\n",
       "onlin        3.873e+01  1.961e+04   0.002    0.998\n",
       "pleas       -2.273e+00  1.130e+04   0.000    1.000\n",
       "access      -1.275e+01  2.809e+04   0.000    1.000\n",
       "account      2.373e+01  1.006e+04   0.002    0.998\n",
       "allow        1.862e+01  5.422e+03   0.003    0.997\n",
       "alreadi     -1.433e+01  4.500e+04   0.000    1.000\n",
       "also         1.783e+01  1.921e+04   0.001    0.999\n",
       "applic       8.188e-01  2.178e+04   0.000    1.000\n",
       "area         2.087e+01  3.539e+04   0.001    1.000\n",
       "assist      -2.113e+01  2.529e+04  -0.001    0.999\n",
       "base        -1.496e+01  3.308e+04   0.000    1.000\n",
       "believ       2.214e+01  2.537e+04   0.001    0.999\n",
       "buy          3.989e+01  6.323e+04   0.001    0.999\n",
       "can          5.455e+00  1.106e+04   0.000    1.000\n",
       "cost        -9.966e-01  3.089e+04   0.000    1.000\n",
       "creat        2.310e+01  5.043e+04   0.000    1.000\n",
       "current      1.884e+00  1.710e+04   0.000    1.000\n",
       "design      -2.674e+01  2.718e+04  -0.001    0.999\n",
       "develop     -2.872e+00  3.336e+04   0.000    1.000\n",
       "differ       1.839e+00  1.684e+04   0.000    1.000\n",
       "director    -9.994e+00  3.138e+04   0.000    1.000\n",
       "discuss     -1.580e+01  2.734e+04  -0.001    1.000\n",
       "due         -7.606e+00  3.610e+04   0.000    1.000\n",
       "email        7.212e+00  1.214e+04   0.001    1.000\n",
       "event        1.293e+01  2.819e+04   0.000    1.000\n",
       "expect      -6.886e+00  2.368e+04   0.000    1.000\n",
       "file        -3.232e+01  3.137e+04  -0.001    0.999\n",
       "forward     -3.288e+00  2.113e+04   0.000    1.000\n",
       "futur        3.570e+01  2.240e+04   0.002    0.999\n",
       "gas         -4.570e+00  4.876e+03  -0.001    0.999\n",
       "give        -2.232e+01  2.282e+04  -0.001    0.999\n",
       "given       -3.196e+01  7.931e+04   0.000    1.000\n",
       "high         6.558e+00  3.546e+04   0.000    1.000\n",
       "import      -2.735e+00  2.675e+04   0.000    1.000\n",
       "includ       2.658e+00  2.576e+04   0.000    1.000\n",
       "increas      1.345e+01  2.678e+04   0.001    1.000\n",
       "industri    -2.888e+01  2.239e+04  -0.001    0.999\n",
       "invest       3.103e+01  3.270e+04   0.001    0.999\n",
       "involv       4.848e+01  3.509e+04   0.001    0.999\n",
       "just         1.506e+01  6.223e+03   0.002    0.998\n",
       "know         3.155e+00  1.918e+04   0.000    1.000\n",
       "locat        1.620e+01  2.987e+04   0.001    1.000\n",
       "mani         2.485e+01  1.445e+04   0.002    0.999\n",
       "may         -4.488e+00  1.746e+04   0.000    1.000\n",
       "mean        -5.361e+00  3.517e+04   0.000    1.000\n",
       "mention      2.921e+00  4.132e+04   0.000    1.000\n",
       "might        1.273e+01  1.968e+04   0.001    0.999\n",
       "month       -5.328e+00  1.547e+04   0.000    1.000\n",
       "need        -4.604e+00  1.508e+04   0.000    1.000\n",
       "note         1.244e+01  3.029e+04   0.000    1.000\n",
       "number      -1.623e+01  3.046e+04  -0.001    1.000\n",
       "offic       -1.335e+01  1.289e+04  -0.001    0.999\n",
       "oper        -1.991e+01  2.093e+04  -0.001    0.999\n",
       "person       1.896e+01  1.110e+04   0.002    0.999\n",
       "posit       -1.941e+01  2.159e+04  -0.001    0.999\n",
       "possibl     -3.081e+01  2.954e+04  -0.001    0.999\n",
       "present     -2.551e+00  2.428e+04   0.000    1.000\n",
       "price        1.483e+00  1.077e+04   0.000    1.000\n",
       "problem      1.283e+01  1.438e+04   0.001    0.999\n",
       "process     -6.045e+00  1.510e+04   0.000    1.000\n",
       "project     -5.455e+00  2.188e+04   0.000    1.000\n",
       "read        -7.300e+00  3.210e+04   0.000    1.000\n",
       "relat       -5.510e+01  2.941e+04  -0.002    0.999\n",
       "report      -1.793e+01  2.001e+04  -0.001    0.999\n",
       "requir       6.393e-01  3.244e+04   0.000    1.000\n",
       "research    -3.262e+01  2.596e+04  -0.001    0.999\n",
       "resourc     -2.606e+01  5.011e+04  -0.001    1.000\n",
       "return       1.388e+01  2.808e+04   0.000    1.000\n",
       "review      -3.901e-01  1.356e+04   0.000    1.000\n",
       "risk        -6.953e+00  1.619e+04   0.000    1.000\n",
       "secur       -1.601e+01  2.210e+03  -0.007    0.994\n",
       "servic      -1.591e+01  2.102e+04  -0.001    0.999\n",
       "set         -1.994e+01  2.660e+04  -0.001    0.999\n",
       "short       -6.461e+00  2.300e+04   0.000    1.000\n",
       "specif      -1.553e+01  3.342e+04   0.000    1.000\n",
       "state        8.925e+00  2.198e+04   0.000    1.000\n",
       "term         1.680e+01  2.334e+04   0.001    0.999\n",
       "thing        3.633e+01  2.520e+04   0.001    0.999\n",
       "today       -1.706e+01  3.483e+04   0.000    1.000\n",
       "two         -2.324e+01  2.581e+04  -0.001    0.999\n",
       "understand  -5.141e+00  4.398e+04   0.000    1.000\n",
       "unit        -1.016e+01  5.427e+04   0.000    1.000\n",
       "well        -1.929e+01  7.163e+03  -0.003    0.998\n",
       "work        -8.857e+00  1.539e+04  -0.001    1.000\n",
       "hour         3.279e+00  2.273e+04   0.000    1.000\n",
       "lot         -2.125e+01  2.465e+04  -0.001    0.999\n",
       "real         2.759e+01  2.774e+04   0.001    0.999\n",
       "right        1.836e+01  1.912e+04   0.001    0.999\n",
       "start        2.110e+01  2.433e+04   0.001    0.999\n",
       "X000         1.613e+01  1.723e+04   0.001    0.999\n",
       "X2001       -1.791e+01  1.629e+04  -0.001    0.999\n",
       "follow       1.812e+01  3.689e+03   0.005    0.996\n",
       "name         1.449e+01  1.301e+04   0.001    0.999\n",
       "sent        -1.815e+01  3.883e+04   0.000    1.000\n",
       "last         3.056e+00  1.493e+04   0.000    1.000\n",
       "avail        6.422e+00  2.734e+04   0.000    1.000\n",
       "first       -2.226e+00  2.872e+04   0.000    1.000\n",
       "http         2.134e+01  1.531e+04   0.001    0.999\n",
       "join        -4.142e+01  2.590e+04  -0.002    0.999\n",
       "line         6.095e+00  3.160e+04   0.000    1.000\n",
       "next.        1.140e+01  1.726e+04   0.001    0.999\n",
       "remov        3.575e+01  3.834e+04   0.001    0.999\n",
       "repli        1.828e+01  3.534e+04   0.001    1.000\n",
       "wish         2.366e+01  3.459e+04   0.001    0.999\n",
       "www         -5.412e+00  1.561e+04   0.000    1.000\n",
       "year        -1.044e+01  1.516e+04  -0.001    0.999\n",
       "back        -1.114e+01  2.830e+04   0.000    1.000\n",
       "internet     4.148e+00  1.920e+04   0.000    1.000\n",
       "member       1.860e+01  2.988e+04   0.001    1.000\n",
       "receiv       2.387e+00  2.307e+04   0.000    1.000\n",
       "site         1.150e+01  1.352e+04   0.001    0.999\n",
       "anoth       -6.755e+00  1.980e+04   0.000    1.000\n",
       "associ       8.040e+00  1.489e+04   0.001    1.000\n",
       "comment     -9.949e+00  3.604e+04   0.000    1.000\n",
       "corp         7.606e+00  3.402e+04   0.000    1.000\n",
       "date         4.084e+00  2.264e+04   0.000    1.000\n",
       "find        -8.172e+00  1.934e+04   0.000    1.000\n",
       "free         5.225e+00  1.277e+04   0.000    1.000\n",
       "issu        -2.959e+01  2.930e+04  -0.001    0.999\n",
       "long        -2.213e+01  3.419e+04  -0.001    0.999\n",
       "move        -2.970e+01  4.551e+04  -0.001    0.999\n",
       "particip    -1.066e+01  2.297e+04   0.000    1.000\n",
       "recent      -2.457e+00  2.660e+04   0.000    1.000\n",
       "respons     -2.163e+01  4.726e+04   0.000    1.000\n",
       "say          8.407e+00  3.944e+04   0.000    1.000\n",
       "week        -1.165e+01  1.700e+04  -0.001    0.999\n",
       "dear        -1.226e+01  2.510e+04   0.000    1.000\n",
       "regard      -4.118e+00  1.573e+04   0.000    1.000\n",
       "thank       -4.427e+01  1.114e+04  -0.004    0.997\n",
       "address     -7.546e+00  1.641e+04   0.000    1.000\n",
       "contact     -1.421e+00  1.500e+04   0.000    1.000\n",
       "engin        3.565e+01  2.545e+04   0.001    0.999\n",
       "etc         -2.986e+00  2.213e+04   0.000    1.000\n",
       "immedi       4.045e+01  3.574e+04   0.001    0.999\n",
       "net          1.597e+01  2.291e+04   0.001    0.999\n",
       "per          1.581e+01  1.290e+04   0.001    0.999\n",
       "place        1.049e+01  4.386e+04   0.000    1.000\n",
       "respond      2.603e+01  4.360e+04   0.001    1.000\n",
       "sincer      -1.479e+01  4.664e+04   0.000    1.000\n",
       "type        -3.378e+01  5.734e+04  -0.001    1.000\n",
       "come         7.084e+00  3.425e+04   0.000    1.000\n",
       "confirm     -9.670e+00  1.460e+04  -0.001    0.999\n",
       "analysi     -2.143e+01  3.991e+04  -0.001    1.000\n",
       "bring        1.508e+01  5.408e+04   0.000    1.000\n",
       "call        -3.812e+00  1.665e+04   0.000    1.000\n",
       "data        -2.382e+01  3.522e+04  -0.001    0.999\n",
       "detail       1.138e+01  4.051e+04   0.000    1.000\n",
       "happi       -4.866e-01  1.715e+04   0.000    1.000\n",
       "idea        -2.231e+01  5.498e+04   0.000    1.000\n",
       "info        -1.431e+00  5.551e+03   0.000    1.000\n",
       "send        -2.325e+01  1.467e+04  -0.002    0.999\n",
       "success      2.160e+00  2.951e+04   0.000    1.000\n",
       "sure        -1.932e+00  2.357e+04   0.000    1.000\n",
       "team         2.465e+00  2.700e+04   0.000    1.000\n",
       "web          3.950e+00  2.065e+04   0.000    1.000\n",
       "don          2.185e+01  2.307e+04   0.001    0.999\n",
       "copi        -3.328e+01  4.120e+04  -0.001    0.999\n",
       "help         1.680e+01  2.174e+03   0.008    0.994\n",
       "part         8.549e+00  5.242e+04   0.000    1.000\n",
       "life         7.103e+01  5.742e+04   0.001    0.999\n",
       "meet        -2.809e+00  1.516e+04   0.000    1.000\n",
       "sever        2.177e+01  3.082e+04   0.001    0.999\n",
       "question    -3.269e+01  2.228e+04  -0.001    0.999\n",
       "write        3.680e+01  3.788e+04   0.001    0.999\n",
       "think       -2.869e+01  3.927e+04  -0.001    0.999\n",
       "point        4.645e-01  3.982e+04   0.000    1.000\n",
       "let         -3.592e+01  1.877e+04  -0.002    0.998\n",
       "link         1.530e-01  2.556e+04   0.000    1.000\n",
       "communic     1.603e+01  2.598e+04   0.001    1.000\n",
       "contract    -1.024e+01  2.754e+04   0.000    1.000\n",
       "either      -2.730e+01  5.825e+04   0.000    1.000\n",
       "final        5.371e+00  3.088e+04   0.000    1.000\n",
       "howev       -3.400e+01  5.017e+04  -0.001    0.999\n",
       "peopl       -1.886e+01  1.813e+04  -0.001    0.999\n",
       "power       -2.813e+00  1.227e+04   0.000    1.000\n",
       "put         -1.311e+00  3.020e+04   0.000    1.000\n",
       "run         -5.392e+01  4.940e+04  -0.001    0.999\n",
       "shall        1.537e+01  6.631e+04   0.000    1.000\n",
       "soon         3.283e+01  2.801e+04   0.001    0.999\n",
       "support     -1.211e+01  2.078e+04  -0.001    1.000\n",
       "attach      -1.381e+01  1.891e+04  -0.001    0.999\n",
       "abl         -5.019e+00  2.720e+04   0.000    1.000\n",
       "program     -4.131e+00  1.948e+04   0.000    1.000\n",
       "sorri        2.065e+01  4.014e+04   0.001    1.000\n",
       "valu         2.532e+00  2.156e+04   0.000    1.000\n",
       "check        1.185e+00  2.982e+04   0.000    1.000\n",
       "feel         4.585e+00  1.943e+04   0.000    1.000\n",
       "better       4.740e+01  3.943e+04   0.001    0.999\n",
       "plan        -2.028e+01  1.330e+04  -0.002    0.999\n",
       "experi       1.007e+00  3.048e+04   0.000    1.000\n",
       "hope        -2.596e+01  4.121e+04  -0.001    0.999\n",
       "begin        1.033e+01  3.744e+04   0.000    1.000\n",
       "X2000       -3.082e+01  2.139e+04  -0.001    0.999\n",
       "case        -3.389e+01  4.827e+04  -0.001    0.999\n",
       "depart      -3.301e+01  2.123e+04  -0.002    0.999\n",
       "financi      5.930e-01  2.195e+04   0.000    1.000\n",
       "houston     -1.910e+01  1.001e+04  -0.002    0.998\n",
       "intern       1.524e+00  3.363e+04   0.000    1.000\n",
       "john        -1.359e+01  3.351e+04   0.000    1.000\n",
       "juli        -7.231e+00  3.443e+04   0.000    1.000\n",
       "mark        -2.766e+01  3.372e+04  -0.001    0.999\n",
       "open         2.843e+01  2.723e+04   0.001    0.999\n",
       "public      -3.946e+01  2.766e+04  -0.001    0.999\n",
       "sinc        -9.646e+00  3.214e+04   0.000    1.000\n",
       "still        8.844e+00  2.446e+04   0.000    1.000\n",
       "thought      4.105e+00  2.792e+04   0.000    1.000\n",
       "univers      5.652e+00  2.201e+04   0.000    1.000\n",
       "appreci     -5.174e+00  2.857e+04   0.000    1.000\n",
       "keep         1.596e+01  2.390e+04   0.001    0.999\n",
       "cours        1.596e+01  2.960e+04   0.001    1.000\n",
       "direct      -1.936e+01  4.211e+04   0.000    1.000\n",
       "togeth      -2.571e+01  3.145e+04  -0.001    0.999\n",
       "energi      -1.550e+01  1.521e+04  -0.001    0.999\n",
       "london      -3.138e+00  3.104e+04   0.000    1.000\n",
       "updat       -1.694e+01  1.698e+04  -0.001    0.999\n",
       "suggest     -5.163e+01  8.551e+04  -0.001    1.000\n",
       "option      -2.090e+00  1.847e+04   0.000    1.000\n",
       "monday       2.887e+00  4.950e+04   0.000    1.000\n",
       "kevin       -3.558e+01  4.546e+04  -0.001    0.999\n",
       "book         1.071e+00  1.928e+04   0.000    1.000\n",
       "deal        -6.537e+00  2.397e+04   0.000    1.000\n",
       "invit        2.854e+00  5.272e+04   0.000    1.000\n",
       "tuesday     -1.040e+01  3.636e+04   0.000    1.000\n",
       "interview   -1.067e+01  2.413e+04   0.000    1.000\n",
       "schedul     -5.881e+00  3.237e+04   0.000    1.000\n",
       "school      -9.131e-02  3.121e+04   0.000    1.000\n",
       "model       -1.948e+01  1.929e+04  -0.001    0.999\n",
       "financ      -7.158e+00  1.308e+04  -0.001    1.000\n",
       "morn        -2.441e+01  4.964e+04   0.000    1.000\n",
       "attend      -3.275e+01  4.458e+04  -0.001    0.999\n",
       "robert      -7.010e+00  5.367e+04   0.000    1.000\n",
       "student     -2.065e+01  4.204e+04   0.000    1.000\n",
       "april       -1.656e+01  4.724e+04   0.000    1.000\n",
       "talk        -1.026e+01  1.891e+04  -0.001    1.000\n",
       "arrang       1.329e+01  2.598e+04   0.001    1.000\n",
       "deriv       -4.271e+01  3.414e+04  -0.001    0.999\n",
       "thursday    -1.432e+01  2.845e+04  -0.001    1.000\n",
       "resum       -8.015e+00  2.128e+04   0.000    1.000\n",
       "doc         -1.968e+01  1.302e+04  -0.002    0.999\n",
       "confer      -3.365e+00  9.481e+03   0.000    1.000\n",
       "wednesday   -2.101e+01  4.033e+04  -0.001    1.000\n",
       "edu         -1.102e-01  4.958e+02   0.000    1.000\n",
       "friday      -6.287e+00  2.633e+04   0.000    1.000\n",
       "ect          3.273e+00  2.203e+03   0.001    0.999\n",
       "hou          4.765e+00  5.769e+03   0.001    0.999\n",
       "vinc        -3.424e+01  1.300e+04  -0.003    0.998\n",
       "X853        -1.111e+01  1.232e+05   0.000    1.000\n",
       "shirley     -4.320e+01  7.347e+04  -0.001    1.000\n",
       "enron       -1.147e+01  1.087e+04  -0.001    0.999\n",
       "kaminski    -1.680e+01  3.267e+03  -0.005    0.996\n",
       "X713        -2.577e+01  4.140e+04  -0.001    1.000\n",
       "crenshaw     8.138e+01  6.828e+04   0.001    0.999\n",
       "vkamin      -4.324e+01  7.841e+04  -0.001    1.000\n",
       "gibner       3.932e+01  5.576e+04   0.001    0.999\n",
       "stinson     -4.523e+01  6.162e+04  -0.001    0.999\n",
       "\n",
       "(Dispersion parameter for binomial family taken to be 1)\n",
       "\n",
       "    Null deviance: 4409.49  on 4009  degrees of freedom\n",
       "Residual deviance:   13.46  on 3680  degrees of freedom\n",
       "AIC: 673.46\n",
       "\n",
       "Number of Fisher Scoring iterations: 25\n"
      ]
     },
     "metadata": {},
     "output_type": "display_data"
    }
   ],
   "source": [
    "summary(spamLog)"
   ]
  },
  {
   "cell_type": "markdown",
   "metadata": {},
   "source": [
    "### 1O\n",
    "\n",
    "- `enron`: 1\n",
    "- `hou`:  0\n",
    "- `vinc`: 1\n",
    "- `kaminski`: 0 "
   ]
  },
  {
   "cell_type": "code",
   "execution_count": 100,
   "metadata": {},
   "outputs": [
    {
     "data": {
      "image/png": "[encoded data removed]",
      "text/plain": [
       "plot without title"
      ]
     },
     "metadata": {},
     "output_type": "display_data"
    }
   ],
   "source": [
    "prp(spamCART, extra=4, type=4, branch=0)"
   ]
  },
  {
   "cell_type": "markdown",
   "metadata": {},
   "source": [
    "### 1P"
   ]
  },
  {
   "cell_type": "code",
   "execution_count": 114,
   "metadata": {},
   "outputs": [
    {
     "data": {
      "text/plain": [
       "       \n",
       "           0    1\n",
       "  FALSE 3052    4\n",
       "  TRUE     0  954"
      ]
     },
     "metadata": {},
     "output_type": "display_data"
    },
    {
     "data": {
      "text/html": [
       "0.999002493765586"
      ],
      "text/latex": [
       "0.999002493765586"
      ],
      "text/markdown": [
       "0.999002493765586"
      ],
      "text/plain": [
       "[1] 0.9990025"
      ]
     },
     "metadata": {},
     "output_type": "display_data"
    },
    {
     "data": {
      "text/html": [
       "<ol>\n",
       "\t<li>0.999995895774563</li>\n",
       "</ol>\n"
      ],
      "text/latex": [
       "\\begin{enumerate}\n",
       "\\item 0.999995895774563\n",
       "\\end{enumerate}\n"
      ],
      "text/markdown": [
       "1. 0.999995895774563\n",
       "\n",
       "\n"
      ],
      "text/plain": [
       "[[1]]\n",
       "[1] 0.9999959\n"
      ]
     },
     "metadata": {},
     "output_type": "display_data"
    }
   ],
   "source": [
    "library(ROCR)\n",
    "\n",
    "threshold = 0.5\n",
    "table(spamLogPredict>=threshold, train1$spam)\n",
    "\n",
    "LogROCR <- prediction(spamLogPredict, train1$spam)\n",
    "LogAUC <- performance(LogROCR, measure=\"auc\")\n",
    "\n",
    "# accuracy / AUC\n",
    "(3052+954)/(3052+954+4)\n",
    "LogAUC@y.values"
   ]
  },
  {
   "cell_type": "markdown",
   "metadata": {},
   "source": [
    "### 1Q & 1R"
   ]
  },
  {
   "cell_type": "code",
   "execution_count": 128,
   "metadata": {},
   "outputs": [
    {
     "data": {
      "text/plain": [
       "       \n",
       "           0    1\n",
       "  FALSE 2885   64\n",
       "  TRUE   167  894"
      ]
     },
     "metadata": {},
     "output_type": "display_data"
    },
    {
     "data": {
      "text/html": [
       "0.942394014962594"
      ],
      "text/latex": [
       "0.942394014962594"
      ],
      "text/markdown": [
       "0.942394014962594"
      ],
      "text/plain": [
       "[1] 0.942394"
      ]
     },
     "metadata": {},
     "output_type": "display_data"
    },
    {
     "data": {
      "text/html": [
       "<ol>\n",
       "\t<li>0.969604448433144</li>\n",
       "</ol>\n"
      ],
      "text/latex": [
       "\\begin{enumerate}\n",
       "\\item 0.969604448433144\n",
       "\\end{enumerate}\n"
      ],
      "text/markdown": [
       "1. 0.969604448433144\n",
       "\n",
       "\n"
      ],
      "text/plain": [
       "[[1]]\n",
       "[1] 0.9696044\n"
      ]
     },
     "metadata": {},
     "output_type": "display_data"
    }
   ],
   "source": [
    "threshold = 0.5\n",
    "table(spamCARTPredict[,\"1\"]>=threshold, train1$spam)\n",
    "\n",
    "cartROCR <- prediction(spamCARTPredict[,\"1\"], train1$spam)\n",
    "cartAUC <- performance(cartROCR, measure=\"auc\")\n",
    "\n",
    "# accuracy / AUC\n",
    "(2885+894)/(2885+894+167+64)\n",
    "cartAUC@y.values"
   ]
  },
  {
   "cell_type": "markdown",
   "metadata": {},
   "source": [
    "### 1S & 1T"
   ]
  },
  {
   "cell_type": "code",
   "execution_count": 137,
   "metadata": {},
   "outputs": [
    {
     "data": {
      "text/plain": [
       "       \n",
       "           0    1\n",
       "  FALSE 3046    0\n",
       "  TRUE     6  958"
      ]
     },
     "metadata": {},
     "output_type": "display_data"
    },
    {
     "data": {
      "text/html": [
       "0.998503740648379"
      ],
      "text/latex": [
       "0.998503740648379"
      ],
      "text/markdown": [
       "0.998503740648379"
      ],
      "text/plain": [
       "[1] 0.9985037"
      ]
     },
     "metadata": {},
     "output_type": "display_data"
    },
    {
     "data": {
      "text/html": [
       "<ol>\n",
       "\t<li>0.999995895774563</li>\n",
       "</ol>\n"
      ],
      "text/latex": [
       "\\begin{enumerate}\n",
       "\\item 0.999995895774563\n",
       "\\end{enumerate}\n"
      ],
      "text/markdown": [
       "1. 0.999995895774563\n",
       "\n",
       "\n"
      ],
      "text/plain": [
       "[[1]]\n",
       "[1] 0.9999959\n"
      ]
     },
     "metadata": {},
     "output_type": "display_data"
    }
   ],
   "source": [
    "threshold = 0.5\n",
    "table(spamRFPredict[,\"1\"]>=threshold, train1$spam)\n",
    "\n",
    "rfROCR <- prediction(spamRFPredict[,\"1\"], train1$spam)\n",
    "rfAUC <- performance(rfROCR, measure=\"auc\")\n",
    "\n",
    "# accuracy / AUC\n",
    "(3046+958)/(3046+958+6)\n",
    "rfAUC@y.values"
   ]
  },
  {
   "cell_type": "markdown",
   "metadata": {},
   "source": [
    "### 1U\n",
    "\n",
    "Logistic regression has the best training set performance, in terms of accuracy and AUC."
   ]
  },
  {
   "cell_type": "markdown",
   "metadata": {},
   "source": [
    "### 1V"
   ]
  },
  {
   "cell_type": "code",
   "execution_count": 142,
   "metadata": {},
   "outputs": [
    {
     "data": {
      "text/plain": [
       "       \n",
       "           0    1\n",
       "  FALSE 1258   36\n",
       "  TRUE    50  374"
      ]
     },
     "metadata": {},
     "output_type": "display_data"
    },
    {
     "data": {
      "text/html": [
       "0.949941792782305"
      ],
      "text/latex": [
       "0.949941792782305"
      ],
      "text/markdown": [
       "0.949941792782305"
      ],
      "text/plain": [
       "[1] 0.9499418"
      ]
     },
     "metadata": {},
     "output_type": "display_data"
    },
    {
     "data": {
      "text/html": [
       "<ol>\n",
       "\t<li>0.963026777056761</li>\n",
       "</ol>\n"
      ],
      "text/latex": [
       "\\begin{enumerate}\n",
       "\\item 0.963026777056761\n",
       "\\end{enumerate}\n"
      ],
      "text/markdown": [
       "1. 0.963026777056761\n",
       "\n",
       "\n"
      ],
      "text/plain": [
       "[[1]]\n",
       "[1] 0.9630268\n"
      ]
     },
     "metadata": {},
     "output_type": "display_data"
    }
   ],
   "source": [
    "spamLogPredictTest <- predict(spamLog, test1, type=\"response\")\n",
    "spamCARTPredictTest <- predict(spamCART, test1, type='prob')\n",
    "spamRFPredictTest <- predict(spamRF, test1, type='prob')\n",
    "\n",
    "# accuracy table\n",
    "threshold = 0.5\n",
    "table(spamLogPredictTest>=threshold, test1$spam)\n",
    "\n",
    "# AUC performance\n",
    "LogROCRtest <- prediction(spamLogPredictTest, test1$spam)\n",
    "LogAUCtest <- performance(LogROCRtest, measure=\"auc\")\n",
    "\n",
    "# calculating accuracy / AUC\n",
    "(1258+374)/(1258+374+50+36)\n",
    "LogAUCtest@y.values"
   ]
  },
  {
   "cell_type": "markdown",
   "metadata": {},
   "source": [
    "### 1W"
   ]
  },
  {
   "cell_type": "code",
   "execution_count": 145,
   "metadata": {},
   "outputs": [
    {
     "data": {
      "text/plain": [
       "       \n",
       "           0    1\n",
       "  FALSE 1228   24\n",
       "  TRUE    80  386"
      ]
     },
     "metadata": {},
     "output_type": "display_data"
    },
    {
     "data": {
      "text/html": [
       "0.939464493597206"
      ],
      "text/latex": [
       "0.939464493597206"
      ],
      "text/markdown": [
       "0.939464493597206"
      ],
      "text/plain": [
       "[1] 0.9394645"
      ]
     },
     "metadata": {},
     "output_type": "display_data"
    },
    {
     "data": {
      "text/html": [
       "<ol>\n",
       "\t<li>0.963175952860446</li>\n",
       "</ol>\n"
      ],
      "text/latex": [
       "\\begin{enumerate}\n",
       "\\item 0.963175952860446\n",
       "\\end{enumerate}\n"
      ],
      "text/markdown": [
       "1. 0.963175952860446\n",
       "\n",
       "\n"
      ],
      "text/plain": [
       "[[1]]\n",
       "[1] 0.963176\n"
      ]
     },
     "metadata": {},
     "output_type": "display_data"
    },
    {
     "data": {
      "text/plain": [
       "       \n",
       "           0    1\n",
       "  FALSE 1290   23\n",
       "  TRUE    18  387"
      ]
     },
     "metadata": {},
     "output_type": "display_data"
    },
    {
     "data": {
      "text/html": [
       "0.975995316159251"
      ],
      "text/latex": [
       "0.975995316159251"
      ],
      "text/markdown": [
       "0.975995316159251"
      ],
      "text/plain": [
       "[1] 0.9759953"
      ]
     },
     "metadata": {},
     "output_type": "display_data"
    },
    {
     "data": {
      "text/html": [
       "<ol>\n",
       "\t<li>0.997489184754233</li>\n",
       "</ol>\n"
      ],
      "text/latex": [
       "\\begin{enumerate}\n",
       "\\item 0.997489184754233\n",
       "\\end{enumerate}\n"
      ],
      "text/markdown": [
       "1. 0.997489184754233\n",
       "\n",
       "\n"
      ],
      "text/plain": [
       "[[1]]\n",
       "[1] 0.9974892\n"
      ]
     },
     "metadata": {},
     "output_type": "display_data"
    }
   ],
   "source": [
    "# CART: accuracy table\n",
    "threshold = 0.5\n",
    "table(spamCARTPredictTest[,\"1\"]>=threshold, test1$spam)\n",
    "\n",
    "# CART: AUC performance\n",
    "cartROCRtest <- prediction(spamCARTPredictTest[,\"1\"], test1$spam)\n",
    "cartAUCtest <- performance(cartROCRtest, measure=\"auc\")\n",
    "\n",
    "# CART: calculating accuracy / AUC\n",
    "(1228+386)/(1228+386+80+24)\n",
    "cartAUCtest@y.values\n",
    "\n",
    "# RF: accuracy table\n",
    "threshold = 0.5\n",
    "table(spamRFPredictTest[,\"1\"]>=threshold, test1$spam)\n",
    "\n",
    "# RF: AUC performance\n",
    "rfROCRtest <- prediction(spamRFPredictTest[,\"1\"], test1$spam)\n",
    "rfAUCtest <- performance(rfROCRtest, measure=\"auc\")\n",
    "\n",
    "# RF: calculating accuracy / AUC\n",
    "(1280+387)/(1280+387+18+23)\n",
    "rfAUCtest@y.values"
   ]
  },
  {
   "cell_type": "markdown",
   "metadata": {},
   "source": [
    "### 1X\n",
    "\n",
    "Random forest has the best training set performance, in terms of accuracy and AUC."
   ]
  },
  {
   "cell_type": "markdown",
   "metadata": {},
   "source": [
    "### 1Y\n",
    "\n",
    "Logistic regression models demonstrated the greatest degree of overfitting."
   ]
  },
  {
   "cell_type": "markdown",
   "metadata": {},
   "source": [
    "### 2A"
   ]
  },
  {
   "cell_type": "code",
   "execution_count": 148,
   "metadata": {},
   "outputs": [
    {
     "name": "stdout",
     "output_type": "stream",
     "text": [
      "'data.frame':\t11580 obs. of  12 variables:\n",
      " $ ReturnJan  : num  0.0807 -0.0107 0.0477 -0.074 -0.031 ...\n",
      " $ ReturnFeb  : num  0.0663 0.1021 0.036 -0.0482 -0.2127 ...\n",
      " $ ReturnMar  : num  0.0329 0.1455 0.0397 0.0182 0.0915 ...\n",
      " $ ReturnApr  : num  0.1831 -0.0844 -0.1624 -0.0247 0.1893 ...\n",
      " $ ReturnMay  : num  0.13033 -0.3273 -0.14743 -0.00604 -0.15385 ...\n",
      " $ ReturnJune : num  -0.0176 -0.3593 0.0486 -0.0253 -0.1061 ...\n",
      " $ ReturnJuly : num  -0.0205 -0.0253 -0.1354 -0.094 0.3553 ...\n",
      " $ ReturnAug  : num  0.0247 0.2113 0.0334 0.0953 0.0568 ...\n",
      " $ ReturnSep  : num  -0.0204 -0.58 0 0.0567 0.0336 ...\n",
      " $ ReturnOct  : num  -0.1733 -0.2671 0.0917 -0.0963 0.0363 ...\n",
      " $ ReturnNov  : num  -0.0254 -0.1512 -0.0596 -0.0405 -0.0853 ...\n",
      " $ PositiveDec: int  0 0 0 1 1 1 1 0 0 0 ...\n"
     ]
    }
   ],
   "source": [
    "stocks <- read.csv(\"csv/StocksCluster.csv\")\n",
    "str(stocks) # 11580 total observations"
   ]
  },
  {
   "cell_type": "markdown",
   "metadata": {},
   "source": [
    "### 2B"
   ]
  },
  {
   "cell_type": "code",
   "execution_count": 151,
   "metadata": {},
   "outputs": [
    {
     "data": {
      "text/html": [
       "0.546113989637306"
      ],
      "text/latex": [
       "0.546113989637306"
      ],
      "text/markdown": [
       "0.546113989637306"
      ],
      "text/plain": [
       "[1] 0.546114"
      ]
     },
     "metadata": {},
     "output_type": "display_data"
    }
   ],
   "source": [
    "length(stocks$PositiveDec[stocks$PositiveDec == 1])/11580"
   ]
  },
  {
   "cell_type": "markdown",
   "metadata": {},
   "source": [
    "### 2C"
   ]
  },
  {
   "cell_type": "code",
   "execution_count": 164,
   "metadata": {
    "scrolled": false
   },
   "outputs": [
    {
     "data": {
      "text/html": [
       "<table>\n",
       "<thead><tr><th></th><th scope=col>ReturnJan</th><th scope=col>ReturnFeb</th><th scope=col>ReturnMar</th><th scope=col>ReturnApr</th><th scope=col>ReturnMay</th><th scope=col>ReturnJune</th><th scope=col>ReturnJuly</th><th scope=col>ReturnAug</th><th scope=col>ReturnSep</th><th scope=col>ReturnOct</th><th scope=col>ReturnNov</th><th scope=col>PositiveDec</th></tr></thead>\n",
       "<tbody>\n",
       "\t<tr><th scope=row>ReturnJan</th><td> 1.000000000 </td><td> 0.06677458  </td><td>-0.090496798 </td><td>-0.037678006 </td><td>-0.044411417 </td><td> 0.09223831  </td><td>-0.0814297650</td><td>-0.0227920187</td><td>-0.0264371526</td><td> 0.14297723  </td><td> 0.06763233  </td><td> 0.004728518 </td></tr>\n",
       "\t<tr><th scope=row>ReturnFeb</th><td> 0.066774583 </td><td> 1.00000000  </td><td>-0.155983263 </td><td>-0.191351924 </td><td>-0.095520920 </td><td> 0.16999448  </td><td>-0.0617785094</td><td> 0.1315597863</td><td> 0.0435017706</td><td>-0.08732427  </td><td>-0.15465828  </td><td>-0.038173184 </td></tr>\n",
       "\t<tr><th scope=row>ReturnMar</th><td>-0.090496798 </td><td>-0.15598326  </td><td> 1.000000000 </td><td> 0.009726288 </td><td>-0.003892789 </td><td>-0.08590549  </td><td> 0.0033741597</td><td>-0.0220053995</td><td> 0.0765183267</td><td>-0.01192376  </td><td> 0.03732353  </td><td> 0.022408661 </td></tr>\n",
       "\t<tr><th scope=row>ReturnApr</th><td>-0.037678006 </td><td>-0.19135192  </td><td> 0.009726288 </td><td> 1.000000000 </td><td> 0.063822504 </td><td>-0.01102775  </td><td> 0.0806319317</td><td>-0.0517560510</td><td>-0.0289209718</td><td> 0.04854003  </td><td> 0.03176184  </td><td> 0.094353528 </td></tr>\n",
       "\t<tr><th scope=row>ReturnMay</th><td>-0.044411417 </td><td>-0.09552092  </td><td>-0.003892789 </td><td> 0.063822504 </td><td> 1.000000000 </td><td>-0.02107454  </td><td> 0.0908502642</td><td>-0.0331256580</td><td> 0.0219628623</td><td> 0.01716673  </td><td> 0.04804659  </td><td> 0.058201934 </td></tr>\n",
       "\t<tr><th scope=row>ReturnJune</th><td> 0.092238307 </td><td> 0.16999448  </td><td>-0.085905486 </td><td>-0.011027752 </td><td>-0.021074539 </td><td> 1.00000000  </td><td>-0.0291525996</td><td> 0.0107105260</td><td> 0.0447472692</td><td>-0.02263599  </td><td>-0.06527054  </td><td> 0.023409745 </td></tr>\n",
       "\t<tr><th scope=row>ReturnJuly</th><td>-0.081429765 </td><td>-0.06177851  </td><td> 0.003374160 </td><td> 0.080631932 </td><td> 0.090850264 </td><td>-0.02915260  </td><td> 1.0000000000</td><td> 0.0007137558</td><td> 0.0689478037</td><td>-0.05470891  </td><td>-0.04837384  </td><td> 0.074364210 </td></tr>\n",
       "\t<tr><th scope=row>ReturnAug</th><td>-0.022792019 </td><td> 0.13155979  </td><td>-0.022005400 </td><td>-0.051756051 </td><td>-0.033125658 </td><td> 0.01071053  </td><td> 0.0007137558</td><td> 1.0000000000</td><td> 0.0007407139</td><td>-0.07559456  </td><td>-0.11648903  </td><td> 0.004166966 </td></tr>\n",
       "\t<tr><th scope=row>ReturnSep</th><td>-0.026437153 </td><td> 0.04350177  </td><td> 0.076518327 </td><td>-0.028920972 </td><td> 0.021962862 </td><td> 0.04474727  </td><td> 0.0689478037</td><td> 0.0007407139</td><td> 1.0000000000</td><td>-0.05807924  </td><td>-0.01971980  </td><td> 0.041630286 </td></tr>\n",
       "\t<tr><th scope=row>ReturnOct</th><td> 0.142977229 </td><td>-0.08732427  </td><td>-0.011923758 </td><td> 0.048540025 </td><td> 0.017166728 </td><td>-0.02263599  </td><td>-0.0547089088</td><td>-0.0755945614</td><td>-0.0580792362</td><td> 1.00000000  </td><td> 0.19167279  </td><td>-0.052574956 </td></tr>\n",
       "\t<tr><th scope=row>ReturnNov</th><td> 0.067632333 </td><td>-0.15465828  </td><td> 0.037323535 </td><td> 0.031761837 </td><td> 0.048046590 </td><td>-0.06527054  </td><td>-0.0483738369</td><td>-0.1164890345</td><td>-0.0197197998</td><td> 0.19167279  </td><td> 1.00000000  </td><td>-0.062346556 </td></tr>\n",
       "\t<tr><th scope=row>PositiveDec</th><td> 0.004728518 </td><td>-0.03817318  </td><td> 0.022408661 </td><td> 0.094353528 </td><td> 0.058201934 </td><td> 0.02340975  </td><td> 0.0743642097</td><td> 0.0041669657</td><td> 0.0416302863</td><td>-0.05257496  </td><td>-0.06234656  </td><td> 1.000000000 </td></tr>\n",
       "</tbody>\n",
       "</table>\n"
      ],
      "text/latex": [
       "\\begin{tabular}{r|llllllllllll}\n",
       "  & ReturnJan & ReturnFeb & ReturnMar & ReturnApr & ReturnMay & ReturnJune & ReturnJuly & ReturnAug & ReturnSep & ReturnOct & ReturnNov & PositiveDec\\\\\n",
       "\\hline\n",
       "\tReturnJan &  1.000000000  &  0.06677458   & -0.090496798  & -0.037678006  & -0.044411417  &  0.09223831   & -0.0814297650 & -0.0227920187 & -0.0264371526 &  0.14297723   &  0.06763233   &  0.004728518 \\\\\n",
       "\tReturnFeb &  0.066774583  &  1.00000000   & -0.155983263  & -0.191351924  & -0.095520920  &  0.16999448   & -0.0617785094 &  0.1315597863 &  0.0435017706 & -0.08732427   & -0.15465828   & -0.038173184 \\\\\n",
       "\tReturnMar & -0.090496798  & -0.15598326   &  1.000000000  &  0.009726288  & -0.003892789  & -0.08590549   &  0.0033741597 & -0.0220053995 &  0.0765183267 & -0.01192376   &  0.03732353   &  0.022408661 \\\\\n",
       "\tReturnApr & -0.037678006  & -0.19135192   &  0.009726288  &  1.000000000  &  0.063822504  & -0.01102775   &  0.0806319317 & -0.0517560510 & -0.0289209718 &  0.04854003   &  0.03176184   &  0.094353528 \\\\\n",
       "\tReturnMay & -0.044411417  & -0.09552092   & -0.003892789  &  0.063822504  &  1.000000000  & -0.02107454   &  0.0908502642 & -0.0331256580 &  0.0219628623 &  0.01716673   &  0.04804659   &  0.058201934 \\\\\n",
       "\tReturnJune &  0.092238307  &  0.16999448   & -0.085905486  & -0.011027752  & -0.021074539  &  1.00000000   & -0.0291525996 &  0.0107105260 &  0.0447472692 & -0.02263599   & -0.06527054   &  0.023409745 \\\\\n",
       "\tReturnJuly & -0.081429765  & -0.06177851   &  0.003374160  &  0.080631932  &  0.090850264  & -0.02915260   &  1.0000000000 &  0.0007137558 &  0.0689478037 & -0.05470891   & -0.04837384   &  0.074364210 \\\\\n",
       "\tReturnAug & -0.022792019  &  0.13155979   & -0.022005400  & -0.051756051  & -0.033125658  &  0.01071053   &  0.0007137558 &  1.0000000000 &  0.0007407139 & -0.07559456   & -0.11648903   &  0.004166966 \\\\\n",
       "\tReturnSep & -0.026437153  &  0.04350177   &  0.076518327  & -0.028920972  &  0.021962862  &  0.04474727   &  0.0689478037 &  0.0007407139 &  1.0000000000 & -0.05807924   & -0.01971980   &  0.041630286 \\\\\n",
       "\tReturnOct &  0.142977229  & -0.08732427   & -0.011923758  &  0.048540025  &  0.017166728  & -0.02263599   & -0.0547089088 & -0.0755945614 & -0.0580792362 &  1.00000000   &  0.19167279   & -0.052574956 \\\\\n",
       "\tReturnNov &  0.067632333  & -0.15465828   &  0.037323535  &  0.031761837  &  0.048046590  & -0.06527054   & -0.0483738369 & -0.1164890345 & -0.0197197998 &  0.19167279   &  1.00000000   & -0.062346556 \\\\\n",
       "\tPositiveDec &  0.004728518  & -0.03817318   &  0.022408661  &  0.094353528  &  0.058201934  &  0.02340975   &  0.0743642097 &  0.0041669657 &  0.0416302863 & -0.05257496   & -0.06234656   &  1.000000000 \\\\\n",
       "\\end{tabular}\n"
      ],
      "text/markdown": [
       "\n",
       "| <!--/--> | ReturnJan | ReturnFeb | ReturnMar | ReturnApr | ReturnMay | ReturnJune | ReturnJuly | ReturnAug | ReturnSep | ReturnOct | ReturnNov | PositiveDec | \n",
       "|---|---|---|---|---|---|---|---|---|---|---|---|\n",
       "| ReturnJan |  1.000000000  |  0.06677458   | -0.090496798  | -0.037678006  | -0.044411417  |  0.09223831   | -0.0814297650 | -0.0227920187 | -0.0264371526 |  0.14297723   |  0.06763233   |  0.004728518  | \n",
       "| ReturnFeb |  0.066774583  |  1.00000000   | -0.155983263  | -0.191351924  | -0.095520920  |  0.16999448   | -0.0617785094 |  0.1315597863 |  0.0435017706 | -0.08732427   | -0.15465828   | -0.038173184  | \n",
       "| ReturnMar | -0.090496798  | -0.15598326   |  1.000000000  |  0.009726288  | -0.003892789  | -0.08590549   |  0.0033741597 | -0.0220053995 |  0.0765183267 | -0.01192376   |  0.03732353   |  0.022408661  | \n",
       "| ReturnApr | -0.037678006  | -0.19135192   |  0.009726288  |  1.000000000  |  0.063822504  | -0.01102775   |  0.0806319317 | -0.0517560510 | -0.0289209718 |  0.04854003   |  0.03176184   |  0.094353528  | \n",
       "| ReturnMay | -0.044411417  | -0.09552092   | -0.003892789  |  0.063822504  |  1.000000000  | -0.02107454   |  0.0908502642 | -0.0331256580 |  0.0219628623 |  0.01716673   |  0.04804659   |  0.058201934  | \n",
       "| ReturnJune |  0.092238307  |  0.16999448   | -0.085905486  | -0.011027752  | -0.021074539  |  1.00000000   | -0.0291525996 |  0.0107105260 |  0.0447472692 | -0.02263599   | -0.06527054   |  0.023409745  | \n",
       "| ReturnJuly | -0.081429765  | -0.06177851   |  0.003374160  |  0.080631932  |  0.090850264  | -0.02915260   |  1.0000000000 |  0.0007137558 |  0.0689478037 | -0.05470891   | -0.04837384   |  0.074364210  | \n",
       "| ReturnAug | -0.022792019  |  0.13155979   | -0.022005400  | -0.051756051  | -0.033125658  |  0.01071053   |  0.0007137558 |  1.0000000000 |  0.0007407139 | -0.07559456   | -0.11648903   |  0.004166966  | \n",
       "| ReturnSep | -0.026437153  |  0.04350177   |  0.076518327  | -0.028920972  |  0.021962862  |  0.04474727   |  0.0689478037 |  0.0007407139 |  1.0000000000 | -0.05807924   | -0.01971980   |  0.041630286  | \n",
       "| ReturnOct |  0.142977229  | -0.08732427   | -0.011923758  |  0.048540025  |  0.017166728  | -0.02263599   | -0.0547089088 | -0.0755945614 | -0.0580792362 |  1.00000000   |  0.19167279   | -0.052574956  | \n",
       "| ReturnNov |  0.067632333  | -0.15465828   |  0.037323535  |  0.031761837  |  0.048046590  | -0.06527054   | -0.0483738369 | -0.1164890345 | -0.0197197998 |  0.19167279   |  1.00000000   | -0.062346556  | \n",
       "| PositiveDec |  0.004728518  | -0.03817318   |  0.022408661  |  0.094353528  |  0.058201934  |  0.02340975   |  0.0743642097 |  0.0041669657 |  0.0416302863 | -0.05257496   | -0.06234656   |  1.000000000  | \n",
       "\n",
       "\n"
      ],
      "text/plain": [
       "            ReturnJan    ReturnFeb   ReturnMar    ReturnApr    ReturnMay   \n",
       "ReturnJan    1.000000000  0.06677458 -0.090496798 -0.037678006 -0.044411417\n",
       "ReturnFeb    0.066774583  1.00000000 -0.155983263 -0.191351924 -0.095520920\n",
       "ReturnMar   -0.090496798 -0.15598326  1.000000000  0.009726288 -0.003892789\n",
       "ReturnApr   -0.037678006 -0.19135192  0.009726288  1.000000000  0.063822504\n",
       "ReturnMay   -0.044411417 -0.09552092 -0.003892789  0.063822504  1.000000000\n",
       "ReturnJune   0.092238307  0.16999448 -0.085905486 -0.011027752 -0.021074539\n",
       "ReturnJuly  -0.081429765 -0.06177851  0.003374160  0.080631932  0.090850264\n",
       "ReturnAug   -0.022792019  0.13155979 -0.022005400 -0.051756051 -0.033125658\n",
       "ReturnSep   -0.026437153  0.04350177  0.076518327 -0.028920972  0.021962862\n",
       "ReturnOct    0.142977229 -0.08732427 -0.011923758  0.048540025  0.017166728\n",
       "ReturnNov    0.067632333 -0.15465828  0.037323535  0.031761837  0.048046590\n",
       "PositiveDec  0.004728518 -0.03817318  0.022408661  0.094353528  0.058201934\n",
       "            ReturnJune  ReturnJuly    ReturnAug     ReturnSep     ReturnOct  \n",
       "ReturnJan    0.09223831 -0.0814297650 -0.0227920187 -0.0264371526  0.14297723\n",
       "ReturnFeb    0.16999448 -0.0617785094  0.1315597863  0.0435017706 -0.08732427\n",
       "ReturnMar   -0.08590549  0.0033741597 -0.0220053995  0.0765183267 -0.01192376\n",
       "ReturnApr   -0.01102775  0.0806319317 -0.0517560510 -0.0289209718  0.04854003\n",
       "ReturnMay   -0.02107454  0.0908502642 -0.0331256580  0.0219628623  0.01716673\n",
       "ReturnJune   1.00000000 -0.0291525996  0.0107105260  0.0447472692 -0.02263599\n",
       "ReturnJuly  -0.02915260  1.0000000000  0.0007137558  0.0689478037 -0.05470891\n",
       "ReturnAug    0.01071053  0.0007137558  1.0000000000  0.0007407139 -0.07559456\n",
       "ReturnSep    0.04474727  0.0689478037  0.0007407139  1.0000000000 -0.05807924\n",
       "ReturnOct   -0.02263599 -0.0547089088 -0.0755945614 -0.0580792362  1.00000000\n",
       "ReturnNov   -0.06527054 -0.0483738369 -0.1164890345 -0.0197197998  0.19167279\n",
       "PositiveDec  0.02340975  0.0743642097  0.0041669657  0.0416302863 -0.05257496\n",
       "            ReturnNov   PositiveDec \n",
       "ReturnJan    0.06763233  0.004728518\n",
       "ReturnFeb   -0.15465828 -0.038173184\n",
       "ReturnMar    0.03732353  0.022408661\n",
       "ReturnApr    0.03176184  0.094353528\n",
       "ReturnMay    0.04804659  0.058201934\n",
       "ReturnJune  -0.06527054  0.023409745\n",
       "ReturnJuly  -0.04837384  0.074364210\n",
       "ReturnAug   -0.11648903  0.004166966\n",
       "ReturnSep   -0.01971980  0.041630286\n",
       "ReturnOct    0.19167279 -0.052574956\n",
       "ReturnNov    1.00000000 -0.062346556\n",
       "PositiveDec -0.06234656  1.000000000"
      ]
     },
     "metadata": {},
     "output_type": "display_data"
    },
    {
     "data": {
      "text/html": [
       "<ol class=list-inline>\n",
       "\t<li>1</li>\n",
       "\t<li>1</li>\n",
       "\t<li>1</li>\n",
       "\t<li>1</li>\n",
       "\t<li>1</li>\n",
       "\t<li>1</li>\n",
       "\t<li>1</li>\n",
       "\t<li>1</li>\n",
       "\t<li>1</li>\n",
       "\t<li>1</li>\n",
       "\t<li>1</li>\n",
       "\t<li>1</li>\n",
       "\t<li>0.191672785553102</li>\n",
       "\t<li>0.191672785553102</li>\n",
       "\t<li>0.191351923912839</li>\n",
       "\t<li>0.191351923912839</li>\n",
       "\t<li>0.169994483267404</li>\n",
       "\t<li>0.169994483267404</li>\n",
       "\t<li>0.155983263045423</li>\n",
       "\t<li>0.155983263045423</li>\n",
       "</ol>\n"
      ],
      "text/latex": [
       "\\begin{enumerate*}\n",
       "\\item 1\n",
       "\\item 1\n",
       "\\item 1\n",
       "\\item 1\n",
       "\\item 1\n",
       "\\item 1\n",
       "\\item 1\n",
       "\\item 1\n",
       "\\item 1\n",
       "\\item 1\n",
       "\\item 1\n",
       "\\item 1\n",
       "\\item 0.191672785553102\n",
       "\\item 0.191672785553102\n",
       "\\item 0.191351923912839\n",
       "\\item 0.191351923912839\n",
       "\\item 0.169994483267404\n",
       "\\item 0.169994483267404\n",
       "\\item 0.155983263045423\n",
       "\\item 0.155983263045423\n",
       "\\end{enumerate*}\n"
      ],
      "text/markdown": [
       "1. 1\n",
       "2. 1\n",
       "3. 1\n",
       "4. 1\n",
       "5. 1\n",
       "6. 1\n",
       "7. 1\n",
       "8. 1\n",
       "9. 1\n",
       "10. 1\n",
       "11. 1\n",
       "12. 1\n",
       "13. 0.191672785553102\n",
       "14. 0.191672785553102\n",
       "15. 0.191351923912839\n",
       "16. 0.191351923912839\n",
       "17. 0.169994483267404\n",
       "18. 0.169994483267404\n",
       "19. 0.155983263045423\n",
       "20. 0.155983263045423\n",
       "\n",
       "\n"
      ],
      "text/plain": [
       " [1] 1.0000000 1.0000000 1.0000000 1.0000000 1.0000000 1.0000000 1.0000000\n",
       " [8] 1.0000000 1.0000000 1.0000000 1.0000000 1.0000000 0.1916728 0.1916728\n",
       "[15] 0.1913519 0.1913519 0.1699945 0.1699945 0.1559833 0.1559833"
      ]
     },
     "metadata": {},
     "output_type": "display_data"
    }
   ],
   "source": [
    "cor(stocks)\n",
    "sort(abs(cor(stocks)), decreasing = T)[1:20]\n",
    "\n",
    "# Max correlation is between `ReturnOct` and `ReturnNov` = 0.19167279"
   ]
  },
  {
   "cell_type": "markdown",
   "metadata": {},
   "source": [
    "### 2D\n",
    "\n",
    "Month with largest mean return is **April**. Month with smallest mean return is **September**."
   ]
  },
  {
   "cell_type": "code",
   "execution_count": 169,
   "metadata": {},
   "outputs": [
    {
     "data": {
      "text/html": [
       "<dl class=dl-horizontal>\n",
       "\t<dt>ReturnSep</dt>\n",
       "\t\t<dd>-0.0147207680320706</dd>\n",
       "\t<dt>ReturnFeb</dt>\n",
       "\t\t<dd>-0.00760478374652837</dd>\n",
       "\t<dt>ReturnJuly</dt>\n",
       "\t\t<dd>0.0030508630465198</dd>\n",
       "\t<dt>ReturnOct</dt>\n",
       "\t\t<dd>0.005650844223958</dd>\n",
       "\t<dt>ReturnJune</dt>\n",
       "\t\t<dd>0.005937902151085</dd>\n",
       "\t<dt>ReturnNov</dt>\n",
       "\t\t<dd>0.0113874403181846</dd>\n",
       "\t<dt>ReturnJan</dt>\n",
       "\t\t<dd>0.0126316020628346</dd>\n",
       "\t<dt>ReturnAug</dt>\n",
       "\t\t<dd>0.0161982647881778</dd>\n",
       "\t<dt>ReturnMar</dt>\n",
       "\t\t<dd>0.0194023361995022</dd>\n",
       "\t<dt>ReturnMay</dt>\n",
       "\t\t<dd>0.0247365913897302</dd>\n",
       "\t<dt>ReturnApr</dt>\n",
       "\t\t<dd>0.0263081470836858</dd>\n",
       "\t<dt>PositiveDec</dt>\n",
       "\t\t<dd>0.546113989637306</dd>\n",
       "</dl>\n"
      ],
      "text/latex": [
       "\\begin{description*}\n",
       "\\item[ReturnSep] -0.0147207680320706\n",
       "\\item[ReturnFeb] -0.00760478374652837\n",
       "\\item[ReturnJuly] 0.0030508630465198\n",
       "\\item[ReturnOct] 0.005650844223958\n",
       "\\item[ReturnJune] 0.005937902151085\n",
       "\\item[ReturnNov] 0.0113874403181846\n",
       "\\item[ReturnJan] 0.0126316020628346\n",
       "\\item[ReturnAug] 0.0161982647881778\n",
       "\\item[ReturnMar] 0.0194023361995022\n",
       "\\item[ReturnMay] 0.0247365913897302\n",
       "\\item[ReturnApr] 0.0263081470836858\n",
       "\\item[PositiveDec] 0.546113989637306\n",
       "\\end{description*}\n"
      ],
      "text/markdown": [
       "ReturnSep\n",
       ":   -0.0147207680320706ReturnFeb\n",
       ":   -0.00760478374652837ReturnJuly\n",
       ":   0.0030508630465198ReturnOct\n",
       ":   0.005650844223958ReturnJune\n",
       ":   0.005937902151085ReturnNov\n",
       ":   0.0113874403181846ReturnJan\n",
       ":   0.0126316020628346ReturnAug\n",
       ":   0.0161982647881778ReturnMar\n",
       ":   0.0194023361995022ReturnMay\n",
       ":   0.0247365913897302ReturnApr\n",
       ":   0.0263081470836858PositiveDec\n",
       ":   0.546113989637306\n",
       "\n"
      ],
      "text/plain": [
       "   ReturnSep    ReturnFeb   ReturnJuly    ReturnOct   ReturnJune    ReturnNov \n",
       "-0.014720768 -0.007604784  0.003050863  0.005650844  0.005937902  0.011387440 \n",
       "   ReturnJan    ReturnAug    ReturnMar    ReturnMay    ReturnApr  PositiveDec \n",
       " 0.012631602  0.016198265  0.019402336  0.024736591  0.026308147  0.546113990 "
      ]
     },
     "metadata": {},
     "output_type": "display_data"
    }
   ],
   "source": [
    "sort(colSums(stocks)/NROW(stocks))"
   ]
  },
  {
   "cell_type": "markdown",
   "metadata": {},
   "source": [
    "### 2E"
   ]
  },
  {
   "cell_type": "code",
   "execution_count": 176,
   "metadata": {},
   "outputs": [
    {
     "data": {
      "text/plain": [
       "       \n",
       "           0    1\n",
       "  FALSE  990  787\n",
       "  TRUE  2689 3640"
      ]
     },
     "metadata": {},
     "output_type": "display_data"
    },
    {
     "data": {
      "text/html": [
       "0.571181840611892"
      ],
      "text/latex": [
       "0.571181840611892"
      ],
      "text/markdown": [
       "0.571181840611892"
      ],
      "text/plain": [
       "[1] 0.5711818"
      ]
     },
     "metadata": {},
     "output_type": "display_data"
    }
   ],
   "source": [
    "set.seed(144)\n",
    "spl <- sample.split(stocks$PositiveDec, SplitRatio = 0.7)\n",
    "stocksTrain <- subset(stocks, spl == T)\n",
    "stocksTest <- subset(stocks, spl == F)\n",
    "\n",
    "StocksGLM <- glm(PositiveDec~., stocksTrain, family=\"binomial\")\n",
    "predictGLM <- predict(StocksGLM, stocksTrain, type=\"response\")\n",
    "\n",
    "table(predictGLM>=0.5, stocksTrain$PositiveDec)\n",
    "\n",
    "# log-regression: training accuracy\n",
    "(990+3640)/(990+3640+2689+787)"
   ]
  },
  {
   "cell_type": "markdown",
   "metadata": {},
   "source": [
    "### 2F"
   ]
  },
  {
   "cell_type": "code",
   "execution_count": 179,
   "metadata": {},
   "outputs": [
    {
     "data": {
      "text/plain": [
       "       \n",
       "           0    1\n",
       "  FALSE  417  344\n",
       "  TRUE  1160 1553"
      ]
     },
     "metadata": {},
     "output_type": "display_data"
    },
    {
     "data": {
      "text/html": [
       "0.567069660333909"
      ],
      "text/latex": [
       "0.567069660333909"
      ],
      "text/markdown": [
       "0.567069660333909"
      ],
      "text/plain": [
       "[1] 0.5670697"
      ]
     },
     "metadata": {},
     "output_type": "display_data"
    }
   ],
   "source": [
    "predictGLMtest <- predict(StocksGLM, stocksTest, type=\"response\")\n",
    "\n",
    "table(predictGLMtest>=0.5, stocksTest$PositiveDec)\n",
    "\n",
    "# log-regression: test accuracy\n",
    "(417+1553)/(417+1553+1160+344)"
   ]
  },
  {
   "cell_type": "markdown",
   "metadata": {},
   "source": [
    "### 2G"
   ]
  },
  {
   "cell_type": "code",
   "execution_count": 187,
   "metadata": {},
   "outputs": [
    {
     "data": {
      "text/plain": [
       "\n",
       "   0    1 \n",
       "3679 4427 "
      ]
     },
     "metadata": {},
     "output_type": "display_data"
    },
    {
     "data": {
      "text/plain": [
       "      \n",
       "          0    1\n",
       "  TRUE 1577 1897"
      ]
     },
     "metadata": {},
     "output_type": "display_data"
    },
    {
     "data": {
      "text/html": [
       "0.546056419113414"
      ],
      "text/latex": [
       "0.546056419113414"
      ],
      "text/markdown": [
       "0.546056419113414"
      ],
      "text/plain": [
       "[1] 0.5460564"
      ]
     },
     "metadata": {},
     "output_type": "display_data"
    }
   ],
   "source": [
    "table(stocksTrain$PositiveDec) # most common response is to predict `1`\n",
    "\n",
    "table(predictGLMtest>=0, stocksTest$PositiveDec)\n",
    "\n",
    "# Baseline: test accuracy\n",
    "(1897)/(1577+1897)"
   ]
  },
  {
   "cell_type": "markdown",
   "metadata": {},
   "source": [
    "### 2H\n",
    "\n",
    "Needing to know the dependent variable value to assign an observation to a cluster defeats the purpose of the methodology"
   ]
  },
  {
   "cell_type": "code",
   "execution_count": 188,
   "metadata": {
    "collapsed": true
   },
   "outputs": [],
   "source": [
    "limitedTrain <- stocksTrain\n",
    "limitedTrain$PositiveDec <- NULL\n",
    "\n",
    "limitedTest <- stocksTest\n",
    "limitedTest$PositiveDec <- NULL"
   ]
  },
  {
   "cell_type": "markdown",
   "metadata": {},
   "source": [
    "### 2I"
   ]
  },
  {
   "cell_type": "code",
   "execution_count": 200,
   "metadata": {},
   "outputs": [
    {
     "data": {
      "text/html": [
       "<strong>ReturnJan:</strong> 1.33068228147345e-17"
      ],
      "text/latex": [
       "\\textbf{ReturnJan:} 1.33068228147345e-17"
      ],
      "text/markdown": [
       "**ReturnJan:** 1.33068228147345e-17"
      ],
      "text/plain": [
       "   ReturnJan \n",
       "1.330682e-17 "
      ]
     },
     "metadata": {},
     "output_type": "display_data"
    },
    {
     "data": {
      "text/html": [
       "<strong>ReturnJan:</strong> -0.000418588563470998"
      ],
      "text/latex": [
       "\\textbf{ReturnJan:} -0.000418588563470998"
      ],
      "text/markdown": [
       "**ReturnJan:** -0.000418588563470998"
      ],
      "text/plain": [
       "    ReturnJan \n",
       "-0.0004185886 "
      ]
     },
     "metadata": {},
     "output_type": "display_data"
    }
   ],
   "source": [
    "library(caret)\n",
    "preproc <- preProcess(limitedTrain)\n",
    "normTrain <- predict(preproc, limitedTrain)\n",
    "normTest <- predict(preproc, limitedTest)\n",
    "\n",
    "# mean of normalised `ReturnJan` variable\n",
    "(colSums(normTrain)/NROW(normTrain))[\"ReturnJan\"]\n",
    "(colSums(normTest)/NROW(normTest))[\"ReturnJan\"]"
   ]
  },
  {
   "cell_type": "markdown",
   "metadata": {},
   "source": [
    "### 2J\n",
    "\n",
    "The distribution of the ReturnJan variable is different in the training and testing set."
   ]
  },
  {
   "cell_type": "markdown",
   "metadata": {},
   "source": [
    "### 2K\n",
    "\n",
    "**Cluster 2** has the largest number of observations."
   ]
  },
  {
   "cell_type": "code",
   "execution_count": 210,
   "metadata": {},
   "outputs": [
    {
     "data": {
      "text/html": [
       "<ol class=list-inline>\n",
       "\t<li>3157</li>\n",
       "\t<li>4696</li>\n",
       "\t<li>253</li>\n",
       "</ol>\n"
      ],
      "text/latex": [
       "\\begin{enumerate*}\n",
       "\\item 3157\n",
       "\\item 4696\n",
       "\\item 253\n",
       "\\end{enumerate*}\n"
      ],
      "text/markdown": [
       "1. 3157\n",
       "2. 4696\n",
       "3. 253\n",
       "\n",
       "\n"
      ],
      "text/plain": [
       "[1] 3157 4696  253"
      ]
     },
     "metadata": {},
     "output_type": "display_data"
    }
   ],
   "source": [
    "set.seed(144)\n",
    "km <- kmeans(normTrain, centers=3)\n",
    "km$size"
   ]
  },
  {
   "cell_type": "markdown",
   "metadata": {},
   "source": [
    "### 2L\n",
    "\n",
    "2080 observations were assigned to be within *Cluster 2*."
   ]
  },
  {
   "cell_type": "code",
   "execution_count": 221,
   "metadata": {},
   "outputs": [
    {
     "data": {
      "text/plain": [
       "clusterTrain\n",
       "   1    2    3 \n",
       "3157 4696  253 "
      ]
     },
     "metadata": {},
     "output_type": "display_data"
    },
    {
     "data": {
      "text/plain": [
       "clusterTest\n",
       "   1    2    3 \n",
       "1298 2080   96 "
      ]
     },
     "metadata": {},
     "output_type": "display_data"
    }
   ],
   "source": [
    "library(flexclust)\n",
    "km.kcca <- as.kcca(km, normTrain)\n",
    "clusterTrain <- predict(km.kcca)\n",
    "clusterTest <- predict(km.kcca, newdata=normTest)\n",
    "\n",
    "table(clusterTrain)\n",
    "table(clusterTest)"
   ]
  },
  {
   "cell_type": "markdown",
   "metadata": {},
   "source": [
    "### 2M\n",
    "\n",
    "`stocksTrains1` dataframe has the highest average value of the dependent variable."
   ]
  },
  {
   "cell_type": "code",
   "execution_count": 231,
   "metadata": {},
   "outputs": [
    {
     "data": {
      "text/html": [
       "0.602470700031676"
      ],
      "text/latex": [
       "0.602470700031676"
      ],
      "text/markdown": [
       "0.602470700031676"
      ],
      "text/plain": [
       "[1] 0.6024707"
      ]
     },
     "metadata": {},
     "output_type": "display_data"
    },
    {
     "data": {
      "text/html": [
       "0.514054514480409"
      ],
      "text/latex": [
       "0.514054514480409"
      ],
      "text/markdown": [
       "0.514054514480409"
      ],
      "text/plain": [
       "[1] 0.5140545"
      ]
     },
     "metadata": {},
     "output_type": "display_data"
    },
    {
     "data": {
      "text/html": [
       "0.438735177865613"
      ],
      "text/latex": [
       "0.438735177865613"
      ],
      "text/markdown": [
       "0.438735177865613"
      ],
      "text/plain": [
       "[1] 0.4387352"
      ]
     },
     "metadata": {},
     "output_type": "display_data"
    }
   ],
   "source": [
    "stocksTrain1 <- subset(stocksTrain, clusterTrain == 1)\n",
    "stocksTrain2 <- subset(stocksTrain, clusterTrain == 2)\n",
    "stocksTrain3 <- subset(stocksTrain, clusterTrain == 3)\n",
    "\n",
    "stocksTest1 <- subset(stocksTest, clusterTrain == 1)\n",
    "stocksTest2 <- subset(stocksTest, clusterTrain == 2)\n",
    "stocksTest3 <- subset(stocksTest, clusterTrain == 3)\n",
    "\n",
    "sum(stocksTrain1$PositiveDec)/NROW(stocksTrain1)\n",
    "sum(stocksTrain2$PositiveDec)/NROW(stocksTrain2)\n",
    "sum(stocksTrain3$PositiveDec)/NROW(stocksTrain3)"
   ]
  },
  {
   "cell_type": "markdown",
   "metadata": {},
   "source": [
    "### 2N\n",
    "\n",
    "All variables except `ReturnNov` have a positive coefficient in at least one of *StocksModel1*, *StocksModel2*, *StocksModel3*. All variables except `ReturnApr`, `ReturnMay`, `ReturnJuly`, `ReturnSep` have a negative coefficient in at least one of *StocksModel1*, *StocksModel2*, *StocksModel3*."
   ]
  },
  {
   "cell_type": "code",
   "execution_count": 230,
   "metadata": {},
   "outputs": [
    {
     "data": {
      "text/plain": [
       "\n",
       "Call:\n",
       "glm(formula = PositiveDec ~ ., family = \"binomial\", data = stocksTrain1)\n",
       "\n",
       "Deviance Residuals: \n",
       "    Min       1Q   Median       3Q      Max  \n",
       "-2.7307  -1.2910   0.8878   1.0280   1.5023  \n",
       "\n",
       "Coefficients:\n",
       "            Estimate Std. Error z value Pr(>|z|)    \n",
       "(Intercept)  0.17224    0.06302   2.733  0.00628 ** \n",
       "ReturnJan    0.02498    0.29306   0.085  0.93206    \n",
       "ReturnFeb   -0.37207    0.29123  -1.278  0.20139    \n",
       "ReturnMar    0.59555    0.23325   2.553  0.01067 *  \n",
       "ReturnApr    1.19048    0.22439   5.305 1.12e-07 ***\n",
       "ReturnMay    0.30421    0.22845   1.332  0.18298    \n",
       "ReturnJune  -0.01165    0.29993  -0.039  0.96901    \n",
       "ReturnJuly   0.19769    0.27790   0.711  0.47685    \n",
       "ReturnAug    0.51273    0.30858   1.662  0.09660 .  \n",
       "ReturnSep    0.58833    0.28133   2.091  0.03651 *  \n",
       "ReturnOct   -1.02254    0.26007  -3.932 8.43e-05 ***\n",
       "ReturnNov   -0.74847    0.28280  -2.647  0.00813 ** \n",
       "---\n",
       "Signif. codes:  0 ‘***’ 0.001 ‘**’ 0.01 ‘*’ 0.05 ‘.’ 0.1 ‘ ’ 1\n",
       "\n",
       "(Dispersion parameter for binomial family taken to be 1)\n",
       "\n",
       "    Null deviance: 4243.0  on 3156  degrees of freedom\n",
       "Residual deviance: 4172.9  on 3145  degrees of freedom\n",
       "AIC: 4196.9\n",
       "\n",
       "Number of Fisher Scoring iterations: 4\n"
      ]
     },
     "metadata": {},
     "output_type": "display_data"
    },
    {
     "data": {
      "text/plain": [
       "\n",
       "Call:\n",
       "glm(formula = PositiveDec ~ ., family = \"binomial\", data = stocksTrain2)\n",
       "\n",
       "Deviance Residuals: \n",
       "    Min       1Q   Median       3Q      Max  \n",
       "-2.2012  -1.1941   0.8583   1.1334   1.9424  \n",
       "\n",
       "Coefficients:\n",
       "            Estimate Std. Error z value Pr(>|z|)    \n",
       "(Intercept)  0.10293    0.03785   2.719 0.006540 ** \n",
       "ReturnJan    0.88451    0.20276   4.362 1.29e-05 ***\n",
       "ReturnFeb    0.31762    0.26624   1.193 0.232878    \n",
       "ReturnMar   -0.37978    0.24045  -1.579 0.114231    \n",
       "ReturnApr    0.49291    0.22460   2.195 0.028189 *  \n",
       "ReturnMay    0.89655    0.25492   3.517 0.000436 ***\n",
       "ReturnJune   1.50088    0.26014   5.770 7.95e-09 ***\n",
       "ReturnJuly   0.78315    0.26864   2.915 0.003554 ** \n",
       "ReturnAug   -0.24486    0.27080  -0.904 0.365876    \n",
       "ReturnSep    0.73685    0.24820   2.969 0.002989 ** \n",
       "ReturnOct   -0.27756    0.18400  -1.509 0.131419    \n",
       "ReturnNov   -0.78747    0.22458  -3.506 0.000454 ***\n",
       "---\n",
       "Signif. codes:  0 ‘***’ 0.001 ‘**’ 0.01 ‘*’ 0.05 ‘.’ 0.1 ‘ ’ 1\n",
       "\n",
       "(Dispersion parameter for binomial family taken to be 1)\n",
       "\n",
       "    Null deviance: 6506.3  on 4695  degrees of freedom\n",
       "Residual deviance: 6362.2  on 4684  degrees of freedom\n",
       "AIC: 6386.2\n",
       "\n",
       "Number of Fisher Scoring iterations: 4\n"
      ]
     },
     "metadata": {},
     "output_type": "display_data"
    },
    {
     "data": {
      "text/plain": [
       "\n",
       "Call:\n",
       "glm(formula = PositiveDec ~ ., family = \"binomial\", data = stocksTrain3)\n",
       "\n",
       "Deviance Residuals: \n",
       "    Min       1Q   Median       3Q      Max  \n",
       "-1.9146  -1.0393  -0.7689   1.1921   1.6939  \n",
       "\n",
       "Coefficients:\n",
       "             Estimate Std. Error z value Pr(>|z|)  \n",
       "(Intercept) -0.181896   0.325182  -0.559   0.5759  \n",
       "ReturnJan   -0.009789   0.448943  -0.022   0.9826  \n",
       "ReturnFeb   -0.046883   0.213432  -0.220   0.8261  \n",
       "ReturnMar    0.674179   0.564790   1.194   0.2326  \n",
       "ReturnApr    1.281466   0.602672   2.126   0.0335 *\n",
       "ReturnMay    0.762512   0.647783   1.177   0.2392  \n",
       "ReturnJune   0.329434   0.408038   0.807   0.4195  \n",
       "ReturnJuly   0.774164   0.729360   1.061   0.2885  \n",
       "ReturnAug    0.982605   0.533158   1.843   0.0653 .\n",
       "ReturnSep    0.363807   0.627774   0.580   0.5622  \n",
       "ReturnOct    0.782242   0.733123   1.067   0.2860  \n",
       "ReturnNov   -0.873752   0.738480  -1.183   0.2367  \n",
       "---\n",
       "Signif. codes:  0 ‘***’ 0.001 ‘**’ 0.01 ‘*’ 0.05 ‘.’ 0.1 ‘ ’ 1\n",
       "\n",
       "(Dispersion parameter for binomial family taken to be 1)\n",
       "\n",
       "    Null deviance: 346.92  on 252  degrees of freedom\n",
       "Residual deviance: 328.29  on 241  degrees of freedom\n",
       "AIC: 352.29\n",
       "\n",
       "Number of Fisher Scoring iterations: 4\n"
      ]
     },
     "metadata": {},
     "output_type": "display_data"
    }
   ],
   "source": [
    "StocksModel1 <- glm(PositiveDec~., stocksTrain1, family=\"binomial\")\n",
    "StocksModel2 <- glm(PositiveDec~., stocksTrain2, family=\"binomial\")\n",
    "StocksModel3 <- glm(PositiveDec~., stocksTrain3, family=\"binomial\")\n",
    "\n",
    "summary(StocksModel1)\n",
    "summary(StocksModel2)\n",
    "summary(StocksModel3)"
   ]
  },
  {
   "cell_type": "markdown",
   "metadata": {},
   "source": [
    "### 2O"
   ]
  },
  {
   "cell_type": "code",
   "execution_count": 239,
   "metadata": {},
   "outputs": [
    {
     "data": {
      "text/plain": [
       "       \n",
       "          0   1\n",
       "  FALSE 101 103\n",
       "  TRUE  341 498"
      ]
     },
     "metadata": {},
     "output_type": "display_data"
    },
    {
     "data": {
      "text/html": [
       "0.574304889741131"
      ],
      "text/latex": [
       "0.574304889741131"
      ],
      "text/markdown": [
       "0.574304889741131"
      ],
      "text/plain": [
       "[1] 0.5743049"
      ]
     },
     "metadata": {},
     "output_type": "display_data"
    },
    {
     "data": {
      "text/plain": [
       "       \n",
       "          0   1\n",
       "  FALSE 361 301\n",
       "  TRUE  686 862"
      ]
     },
     "metadata": {},
     "output_type": "display_data"
    },
    {
     "data": {
      "text/html": [
       "0.553393665158371"
      ],
      "text/latex": [
       "0.553393665158371"
      ],
      "text/markdown": [
       "0.553393665158371"
      ],
      "text/plain": [
       "[1] 0.5533937"
      ]
     },
     "metadata": {},
     "output_type": "display_data"
    },
    {
     "data": {
      "text/plain": [
       "       \n",
       "         0  1\n",
       "  FALSE 69 94\n",
       "  TRUE  19 39"
      ]
     },
     "metadata": {},
     "output_type": "display_data"
    },
    {
     "data": {
      "text/html": [
       "0.48868778280543"
      ],
      "text/latex": [
       "0.48868778280543"
      ],
      "text/markdown": [
       "0.48868778280543"
      ],
      "text/plain": [
       "[1] 0.4886878"
      ]
     },
     "metadata": {},
     "output_type": "display_data"
    }
   ],
   "source": [
    "PredictTest1 <- predict(StocksModel1, stocksTest1, type=\"response\")\n",
    "PredictTest2 <- predict(StocksModel2, stocksTest2, type=\"response\")\n",
    "PredictTest3 <- predict(StocksModel3, stocksTest3, type=\"response\")\n",
    "\n",
    "# stocksModel1 - accuracy\n",
    "table(PredictTest1>=0.5, stocksTest1$PositiveDec)\n",
    "(101+498)/(101+498+341+103)\n",
    "\n",
    "# stocksModel2 - accuracy\n",
    "table(PredictTest2>=0.5, stocksTest2$PositiveDec)\n",
    "(361+862)/(361+862+686+301)\n",
    "\n",
    "# stocksModel3 - accuracy\n",
    "table(PredictTest3>=0.5, stocksTest3$PositiveDec)\n",
    "(69+39)/(69+39+19+94)"
   ]
  },
  {
   "cell_type": "markdown",
   "metadata": {},
   "source": [
    "### 2P"
   ]
  },
  {
   "cell_type": "code",
   "execution_count": 243,
   "metadata": {},
   "outputs": [
    {
     "data": {
      "text/plain": [
       "       AllOutcomes\n",
       "           0    1\n",
       "  FALSE  531  498\n",
       "  TRUE  1046 1399"
      ]
     },
     "metadata": {},
     "output_type": "display_data"
    },
    {
     "data": {
      "text/html": [
       "0.555555555555556"
      ],
      "text/latex": [
       "0.555555555555556"
      ],
      "text/markdown": [
       "0.555555555555556"
      ],
      "text/plain": [
       "[1] 0.5555556"
      ]
     },
     "metadata": {},
     "output_type": "display_data"
    }
   ],
   "source": [
    "AllPredictions <- c(PredictTest1, PredictTest2, PredictTest3)\n",
    "AllOutcomes <- c(stocksTest1$PositiveDec, stocksTest2$PositiveDec, stocksTest3$PositiveDec)\n",
    "\n",
    "# accuracy\n",
    "table(AllPredictions>=0.5, AllOutcomes)\n",
    "(531+1399)/(531+1399+1046+498)"
   ]
  },
  {
   "cell_type": "markdown",
   "metadata": {},
   "source": [
    "### 3A"
   ]
  },
  {
   "cell_type": "code",
   "execution_count": 312,
   "metadata": {},
   "outputs": [
    {
     "name": "stdout",
     "output_type": "stream",
     "text": [
      "'data.frame':\t667738 obs. of  7 variables:\n",
      " $ tripduration: int  861 757 773 228 456 632 424 1129 1275 440 ...\n",
      " $ startstation: Factor w/ 329 levels \"10 Ave & W 28 St\",..: 102 259 55 5 184 218 289 272 263 309 ...\n",
      " $ endstation  : Factor w/ 329 levels \"10 Ave & W 28 St\",..: 136 257 24 109 161 63 286 299 8 131 ...\n",
      " $ gender      : int  1 1 1 1 1 1 1 1 1 1 ...\n",
      " $ age         : int  25 27 24 26 37 46 41 44 30 23 ...\n",
      " $ day         : Factor w/ 7 levels \"Fri\",\"Mon\",\"Sat\",..: 2 2 2 2 2 2 2 2 2 2 ...\n",
      " $ starttime   : int  0 0 0 0 0 0 0 0 0 0 ...\n"
     ]
    }
   ],
   "source": [
    "citi <- read.csv(\"csv/citibike.csv\")\n",
    "str(citi)\n",
    "# total of 329 bike stations"
   ]
  },
  {
   "cell_type": "markdown",
   "metadata": {},
   "source": [
    "### 3B\n",
    "\n",
    "On **Sunday**, the average duration of trips taken by bikers is the maximum."
   ]
  },
  {
   "cell_type": "code",
   "execution_count": 251,
   "metadata": {},
   "outputs": [
    {
     "data": {
      "text/html": [
       "853.624833235374"
      ],
      "text/latex": [
       "853.624833235374"
      ],
      "text/markdown": [
       "853.624833235374"
      ],
      "text/plain": [
       "[1] 853.6248"
      ]
     },
     "metadata": {},
     "output_type": "display_data"
    },
    {
     "data": {
      "text/html": [
       "857.489528549225"
      ],
      "text/latex": [
       "857.489528549225"
      ],
      "text/markdown": [
       "857.489528549225"
      ],
      "text/plain": [
       "[1] 857.4895"
      ]
     },
     "metadata": {},
     "output_type": "display_data"
    },
    {
     "data": {
      "text/html": [
       "843.567930237804"
      ],
      "text/latex": [
       "843.567930237804"
      ],
      "text/markdown": [
       "843.567930237804"
      ],
      "text/plain": [
       "[1] 843.5679"
      ]
     },
     "metadata": {},
     "output_type": "display_data"
    },
    {
     "data": {
      "text/html": [
       "865.782170286953"
      ],
      "text/latex": [
       "865.782170286953"
      ],
      "text/markdown": [
       "865.782170286953"
      ],
      "text/plain": [
       "[1] 865.7822"
      ]
     },
     "metadata": {},
     "output_type": "display_data"
    },
    {
     "data": {
      "text/html": [
       "832.357990085073"
      ],
      "text/latex": [
       "832.357990085073"
      ],
      "text/markdown": [
       "832.357990085073"
      ],
      "text/plain": [
       "[1] 832.358"
      ]
     },
     "metadata": {},
     "output_type": "display_data"
    },
    {
     "data": {
      "text/html": [
       "894.266140040078"
      ],
      "text/latex": [
       "894.266140040078"
      ],
      "text/markdown": [
       "894.266140040078"
      ],
      "text/plain": [
       "[1] 894.2661"
      ]
     },
     "metadata": {},
     "output_type": "display_data"
    },
    {
     "data": {
      "text/html": [
       "887.552832125866"
      ],
      "text/latex": [
       "887.552832125866"
      ],
      "text/markdown": [
       "887.552832125866"
      ],
      "text/plain": [
       "[1] 887.5528"
      ]
     },
     "metadata": {},
     "output_type": "display_data"
    }
   ],
   "source": [
    "sum(citi$tripduration[citi$day == \"Mon\"])/length(citi$tripduration[citi$day == \"Mon\"])\n",
    "sum(citi$tripduration[citi$day == \"Tue\"])/length(citi$tripduration[citi$day == \"Tue\"])\n",
    "sum(citi$tripduration[citi$day == \"Wed\"])/length(citi$tripduration[citi$day == \"Wed\"])\n",
    "sum(citi$tripduration[citi$day == \"Thu\"])/length(citi$tripduration[citi$day == \"Thu\"])\n",
    "sum(citi$tripduration[citi$day == \"Fri\"])/length(citi$tripduration[citi$day == \"Fri\"])\n",
    "sum(citi$tripduration[citi$day == \"Sat\"])/length(citi$tripduration[citi$day == \"Sat\"])\n",
    "sum(citi$tripduration[citi$day == \"Sun\"])/length(citi$tripduration[citi$day == \"Sun\"])"
   ]
  },
  {
   "cell_type": "markdown",
   "metadata": {},
   "source": [
    "### 3C\n",
    "\n",
    "At **6pm**, the maximum number of bikes are rented. At **4am**, the minimum number of bikes are rented."
   ]
  },
  {
   "cell_type": "code",
   "execution_count": 256,
   "metadata": {},
   "outputs": [
    {
     "data": {
      "text/plain": [
       "\n",
       "    4     3     2     5     1     0     6    23    22    10    11    21     7 \n",
       " 1151  1478  2424  3117  4184  7675 13410 13464 20176 25888 26569 26727 29131 \n",
       "   14    12    13    15    20     9    16    19     8    17    18 \n",
       "32547 33166 34584 34654 37399 41442 43676 51495 52420 65277 65684 "
      ]
     },
     "metadata": {},
     "output_type": "display_data"
    }
   ],
   "source": [
    "sort(table(citi$starttime))"
   ]
  },
  {
   "cell_type": "markdown",
   "metadata": {},
   "source": [
    "### 3D\n",
    "\n",
    "23.5% of bikes were rented by female users. *unsure if the users are unique individuals without repeated trips*"
   ]
  },
  {
   "cell_type": "code",
   "execution_count": 259,
   "metadata": {},
   "outputs": [
    {
     "data": {
      "text/html": [
       "0.234990370474647"
      ],
      "text/latex": [
       "0.234990370474647"
      ],
      "text/markdown": [
       "0.234990370474647"
      ],
      "text/plain": [
       "[1] 0.2349904"
      ]
     },
     "metadata": {},
     "output_type": "display_data"
    }
   ],
   "source": [
    "length(citi$gender[citi$gender == 2])/NROW(citi)"
   ]
  },
  {
   "cell_type": "markdown",
   "metadata": {},
   "source": [
    "### 3E"
   ]
  },
  {
   "cell_type": "code",
   "execution_count": 313,
   "metadata": {},
   "outputs": [],
   "source": [
    "citi$Mon <- ifelse(citi$day == \"Mon\", 1, 0)\n",
    "citi$Tue <- ifelse(citi$day == \"Tue\", 1, 0)\n",
    "citi$Wed <- ifelse(citi$day == \"Wed\", 1, 0)\n",
    "citi$Thu <- ifelse(citi$day == \"Thu\", 1, 0)\n",
    "citi$Fri <- ifelse(citi$day == \"Fri\", 1, 0)\n",
    "citi$Sat <- ifelse(citi$day == \"Sat\", 1, 0)\n",
    "citi$Sun <- ifelse(citi$day == \"Sun\", 1, 0)"
   ]
  },
  {
   "cell_type": "markdown",
   "metadata": {},
   "source": [
    "### 3F\n",
    "\n",
    "I would expect **tripduration** to dominate in the node distance calculations."
   ]
  },
  {
   "cell_type": "markdown",
   "metadata": {},
   "source": [
    "### 3G\n",
    "\n",
    "Max value of normalised **tripduration** is 402."
   ]
  },
  {
   "cell_type": "code",
   "execution_count": 314,
   "metadata": {},
   "outputs": [
    {
     "data": {
      "text/html": [
       "402.951397341594"
      ],
      "text/latex": [
       "402.951397341594"
      ],
      "text/markdown": [
       "402.951397341594"
      ],
      "text/plain": [
       "[1] 402.9514"
      ]
     },
     "metadata": {},
     "output_type": "display_data"
    }
   ],
   "source": [
    "citi$tripduration <- scale(citi$tripduration)\n",
    "citi$gender <- scale(citi$gender)\n",
    "citi$age <- scale(citi$age)\n",
    "citi$starttime <- scale(citi$starttime)\n",
    "citi$Mon <- scale(citi$Mon)\n",
    "citi$Tue <- scale(citi$Tue)\n",
    "citi$Wed <- scale(citi$Wed)\n",
    "citi$Thu <- scale(citi$Thu)\n",
    "citi$Fri <- scale(citi$Fri)\n",
    "citi$Sat <- scale(citi$Sat)\n",
    "citi$Sun <- scale(citi$Sun)\n",
    "\n",
    "max(citi$tripduration)"
   ]
  },
  {
   "cell_type": "markdown",
   "metadata": {},
   "source": [
    "### 3H\n",
    "\n",
    "We might have too many observations in the dataset for hierarchical clustering to handle since finding finding the two closest element to merge to form a cluster has a worst-case time complexity of at least $O(n^2)$."
   ]
  },
  {
   "cell_type": "markdown",
   "metadata": {},
   "source": [
    "### 3I\n",
    "\n",
    "Largest cluster has 107,185 trips whilst the smallest has only 18,148."
   ]
  },
  {
   "cell_type": "code",
   "execution_count": 300,
   "metadata": {},
   "outputs": [
    {
     "data": {
      "text/html": [
       "<ol class=list-inline>\n",
       "\t<li>18148</li>\n",
       "\t<li>21409</li>\n",
       "\t<li>47457</li>\n",
       "\t<li>57884</li>\n",
       "\t<li>63547</li>\n",
       "\t<li>69153</li>\n",
       "\t<li>84891</li>\n",
       "\t<li>98628</li>\n",
       "\t<li>99436</li>\n",
       "\t<li>107185</li>\n",
       "</ol>\n"
      ],
      "text/latex": [
       "\\begin{enumerate*}\n",
       "\\item 18148\n",
       "\\item 21409\n",
       "\\item 47457\n",
       "\\item 57884\n",
       "\\item 63547\n",
       "\\item 69153\n",
       "\\item 84891\n",
       "\\item 98628\n",
       "\\item 99436\n",
       "\\item 107185\n",
       "\\end{enumerate*}\n"
      ],
      "text/markdown": [
       "1. 18148\n",
       "2. 21409\n",
       "3. 47457\n",
       "4. 57884\n",
       "5. 63547\n",
       "6. 69153\n",
       "7. 84891\n",
       "8. 98628\n",
       "9. 99436\n",
       "10. 107185\n",
       "\n",
       "\n"
      ],
      "text/plain": [
       " [1]  18148  21409  47457  57884  63547  69153  84891  98628  99436 107185"
      ]
     },
     "metadata": {},
     "output_type": "display_data"
    }
   ],
   "source": [
    "set.seed(100)\n",
    "cols <- c(\"tripduration\", \"gender\", \"age\", \"starttime\", \"Mon\", \"Tue\", \"Wed\", \"Thu\", \"Fri\", \"Sat\", \"Sun\")\n",
    "clusters <- kmeans(citi[,cols], centers = 10)\n",
    "\n",
    "# extract size of each cluster\n",
    "sort(clusters$size)"
   ]
  },
  {
   "cell_type": "markdown",
   "metadata": {},
   "source": [
    "### 3J\n",
    "\n",
    "Based on the centroids of the clusters, **Cluster 5** best represents trips taken primarily by older users on Saturdays."
   ]
  },
  {
   "cell_type": "code",
   "execution_count": 318,
   "metadata": {},
   "outputs": [
    {
     "data": {
      "text/html": [
       "<table>\n",
       "<thead><tr><th></th><th scope=col>Cluster 1</th><th scope=col>Cluster 2</th><th scope=col>Cluster 3</th><th scope=col>Cluster 4</th><th scope=col>Cluster 5</th><th scope=col>Cluster 6</th><th scope=col>Cluster 7</th><th scope=col>Cluster 8</th><th scope=col>Cluster 9</th><th scope=col>Cluster 10</th></tr></thead>\n",
       "<tbody>\n",
       "\t<tr><th scope=row>tripduration</th><td> 0.07285892 </td><td> 0.02024539 </td><td> 0.002615291</td><td>-0.031234691</td><td> 0.01759875 </td><td>-0.03976388 </td><td>-0.029791852</td><td> 0.01571743 </td><td>-0.004070735</td><td> 0.08704716 </td></tr>\n",
       "\t<tr><th scope=row>gender</th><td> 1.80299766 </td><td> 0.18761389 </td><td>-0.013157139</td><td>-0.554231566</td><td>-0.13967955 </td><td>-0.55423157 </td><td>-0.554231566</td><td> 0.08515270 </td><td>-0.026348869</td><td> 1.80380832 </td></tr>\n",
       "\t<tr><th scope=row>age</th><td>-0.10540533 </td><td>-0.64091446 </td><td> 0.026279008</td><td> 0.078260599</td><td> 1.11985924 </td><td> 0.03803946 </td><td> 0.073115140</td><td>-0.12675059 </td><td> 0.027571553</td><td>-0.09463120 </td></tr>\n",
       "\t<tr><th scope=row>starttime</th><td>-0.04009388 </td><td> 0.05280986 </td><td>-0.010131298</td><td> 0.004153716</td><td>-0.05059162 </td><td>-0.10487535 </td><td> 0.004761192</td><td> 0.02608040 </td><td> 0.013132061</td><td> 0.04725655 </td></tr>\n",
       "\t<tr><th scope=row>Mon</th><td>-0.43728358 </td><td>-0.43728358 </td><td>-0.437283577</td><td>-0.437283577</td><td>-0.43728358 </td><td>-0.43728358 </td><td>-0.437283577</td><td>-0.43728358 </td><td> 2.286842120</td><td>-0.43718945 </td></tr>\n",
       "\t<tr><th scope=row>Tue</th><td>-0.48555563 </td><td>-0.48555563 </td><td>-0.485555631</td><td>-0.485555631</td><td>-0.48555563 </td><td>-0.48555563 </td><td> 2.059493163</td><td>-0.48555563 </td><td>-0.485555631</td><td> 0.77923038 </td></tr>\n",
       "\t<tr><th scope=row>Wed</th><td>-0.48827861 </td><td>-0.48827861 </td><td>-0.488278608</td><td> 2.048008013</td><td>-0.48827861 </td><td>-0.48827861 </td><td>-0.488278608</td><td>-0.48827861 </td><td>-0.488278608</td><td> 0.78744499 </td></tr>\n",
       "\t<tr><th scope=row>Thu</th><td>-0.38164199 </td><td>-0.38164199 </td><td> 2.620252851</td><td>-0.381641986</td><td>-0.38164199 </td><td>-0.38164199 </td><td>-0.381641986</td><td>-0.38164199 </td><td>-0.381641986</td><td>-0.38159013 </td></tr>\n",
       "\t<tr><th scope=row>Fri</th><td> 2.67834598 </td><td>-0.37336420 </td><td>-0.373364199</td><td>-0.373364199</td><td>-0.37336420 </td><td> 2.67834598 </td><td>-0.373364199</td><td>-0.37336420 </td><td>-0.373364199</td><td>-0.37336420 </td></tr>\n",
       "\t<tr><th scope=row>Sat</th><td>-0.33910571 </td><td> 2.94892855 </td><td>-0.339105708</td><td>-0.339105708</td><td> 2.94892855 </td><td>-0.33910571 </td><td>-0.339105708</td><td>-0.33910571 </td><td>-0.339105708</td><td>-0.33910571 </td></tr>\n",
       "\t<tr><th scope=row>Sun</th><td>-0.33989304 </td><td>-0.33989304 </td><td>-0.339893041</td><td>-0.339893041</td><td>-0.33989304 </td><td>-0.33989304 </td><td>-0.339893041</td><td> 2.94209761 </td><td>-0.339893041</td><td>-0.33989304 </td></tr>\n",
       "</tbody>\n",
       "</table>\n"
      ],
      "text/latex": [
       "\\begin{tabular}{r|llllllllll}\n",
       "  & Cluster 1 & Cluster 2 & Cluster 3 & Cluster 4 & Cluster 5 & Cluster 6 & Cluster 7 & Cluster 8 & Cluster 9 & Cluster 10\\\\\n",
       "\\hline\n",
       "\ttripduration &  0.07285892  &  0.02024539  &  0.002615291 & -0.031234691 &  0.01759875  & -0.03976388  & -0.029791852 &  0.01571743  & -0.004070735 &  0.08704716 \\\\\n",
       "\tgender &  1.80299766  &  0.18761389  & -0.013157139 & -0.554231566 & -0.13967955  & -0.55423157  & -0.554231566 &  0.08515270  & -0.026348869 &  1.80380832 \\\\\n",
       "\tage & -0.10540533  & -0.64091446  &  0.026279008 &  0.078260599 &  1.11985924  &  0.03803946  &  0.073115140 & -0.12675059  &  0.027571553 & -0.09463120 \\\\\n",
       "\tstarttime & -0.04009388  &  0.05280986  & -0.010131298 &  0.004153716 & -0.05059162  & -0.10487535  &  0.004761192 &  0.02608040  &  0.013132061 &  0.04725655 \\\\\n",
       "\tMon & -0.43728358  & -0.43728358  & -0.437283577 & -0.437283577 & -0.43728358  & -0.43728358  & -0.437283577 & -0.43728358  &  2.286842120 & -0.43718945 \\\\\n",
       "\tTue & -0.48555563  & -0.48555563  & -0.485555631 & -0.485555631 & -0.48555563  & -0.48555563  &  2.059493163 & -0.48555563  & -0.485555631 &  0.77923038 \\\\\n",
       "\tWed & -0.48827861  & -0.48827861  & -0.488278608 &  2.048008013 & -0.48827861  & -0.48827861  & -0.488278608 & -0.48827861  & -0.488278608 &  0.78744499 \\\\\n",
       "\tThu & -0.38164199  & -0.38164199  &  2.620252851 & -0.381641986 & -0.38164199  & -0.38164199  & -0.381641986 & -0.38164199  & -0.381641986 & -0.38159013 \\\\\n",
       "\tFri &  2.67834598  & -0.37336420  & -0.373364199 & -0.373364199 & -0.37336420  &  2.67834598  & -0.373364199 & -0.37336420  & -0.373364199 & -0.37336420 \\\\\n",
       "\tSat & -0.33910571  &  2.94892855  & -0.339105708 & -0.339105708 &  2.94892855  & -0.33910571  & -0.339105708 & -0.33910571  & -0.339105708 & -0.33910571 \\\\\n",
       "\tSun & -0.33989304  & -0.33989304  & -0.339893041 & -0.339893041 & -0.33989304  & -0.33989304  & -0.339893041 &  2.94209761  & -0.339893041 & -0.33989304 \\\\\n",
       "\\end{tabular}\n"
      ],
      "text/markdown": [
       "\n",
       "| <!--/--> | Cluster 1 | Cluster 2 | Cluster 3 | Cluster 4 | Cluster 5 | Cluster 6 | Cluster 7 | Cluster 8 | Cluster 9 | Cluster 10 | \n",
       "|---|---|---|---|---|---|---|---|---|---|---|\n",
       "| tripduration |  0.07285892  |  0.02024539  |  0.002615291 | -0.031234691 |  0.01759875  | -0.03976388  | -0.029791852 |  0.01571743  | -0.004070735 |  0.08704716  | \n",
       "| gender |  1.80299766  |  0.18761389  | -0.013157139 | -0.554231566 | -0.13967955  | -0.55423157  | -0.554231566 |  0.08515270  | -0.026348869 |  1.80380832  | \n",
       "| age | -0.10540533  | -0.64091446  |  0.026279008 |  0.078260599 |  1.11985924  |  0.03803946  |  0.073115140 | -0.12675059  |  0.027571553 | -0.09463120  | \n",
       "| starttime | -0.04009388  |  0.05280986  | -0.010131298 |  0.004153716 | -0.05059162  | -0.10487535  |  0.004761192 |  0.02608040  |  0.013132061 |  0.04725655  | \n",
       "| Mon | -0.43728358  | -0.43728358  | -0.437283577 | -0.437283577 | -0.43728358  | -0.43728358  | -0.437283577 | -0.43728358  |  2.286842120 | -0.43718945  | \n",
       "| Tue | -0.48555563  | -0.48555563  | -0.485555631 | -0.485555631 | -0.48555563  | -0.48555563  |  2.059493163 | -0.48555563  | -0.485555631 |  0.77923038  | \n",
       "| Wed | -0.48827861  | -0.48827861  | -0.488278608 |  2.048008013 | -0.48827861  | -0.48827861  | -0.488278608 | -0.48827861  | -0.488278608 |  0.78744499  | \n",
       "| Thu | -0.38164199  | -0.38164199  |  2.620252851 | -0.381641986 | -0.38164199  | -0.38164199  | -0.381641986 | -0.38164199  | -0.381641986 | -0.38159013  | \n",
       "| Fri |  2.67834598  | -0.37336420  | -0.373364199 | -0.373364199 | -0.37336420  |  2.67834598  | -0.373364199 | -0.37336420  | -0.373364199 | -0.37336420  | \n",
       "| Sat | -0.33910571  |  2.94892855  | -0.339105708 | -0.339105708 |  2.94892855  | -0.33910571  | -0.339105708 | -0.33910571  | -0.339105708 | -0.33910571  | \n",
       "| Sun | -0.33989304  | -0.33989304  | -0.339893041 | -0.339893041 | -0.33989304  | -0.33989304  | -0.339893041 |  2.94209761  | -0.339893041 | -0.33989304  | \n",
       "\n",
       "\n"
      ],
      "text/plain": [
       "             Cluster 1   Cluster 2   Cluster 3    Cluster 4    Cluster 5  \n",
       "tripduration  0.07285892  0.02024539  0.002615291 -0.031234691  0.01759875\n",
       "gender        1.80299766  0.18761389 -0.013157139 -0.554231566 -0.13967955\n",
       "age          -0.10540533 -0.64091446  0.026279008  0.078260599  1.11985924\n",
       "starttime    -0.04009388  0.05280986 -0.010131298  0.004153716 -0.05059162\n",
       "Mon          -0.43728358 -0.43728358 -0.437283577 -0.437283577 -0.43728358\n",
       "Tue          -0.48555563 -0.48555563 -0.485555631 -0.485555631 -0.48555563\n",
       "Wed          -0.48827861 -0.48827861 -0.488278608  2.048008013 -0.48827861\n",
       "Thu          -0.38164199 -0.38164199  2.620252851 -0.381641986 -0.38164199\n",
       "Fri           2.67834598 -0.37336420 -0.373364199 -0.373364199 -0.37336420\n",
       "Sat          -0.33910571  2.94892855 -0.339105708 -0.339105708  2.94892855\n",
       "Sun          -0.33989304 -0.33989304 -0.339893041 -0.339893041 -0.33989304\n",
       "             Cluster 6   Cluster 7    Cluster 8   Cluster 9    Cluster 10 \n",
       "tripduration -0.03976388 -0.029791852  0.01571743 -0.004070735  0.08704716\n",
       "gender       -0.55423157 -0.554231566  0.08515270 -0.026348869  1.80380832\n",
       "age           0.03803946  0.073115140 -0.12675059  0.027571553 -0.09463120\n",
       "starttime    -0.10487535  0.004761192  0.02608040  0.013132061  0.04725655\n",
       "Mon          -0.43728358 -0.437283577 -0.43728358  2.286842120 -0.43718945\n",
       "Tue          -0.48555563  2.059493163 -0.48555563 -0.485555631  0.77923038\n",
       "Wed          -0.48827861 -0.488278608 -0.48827861 -0.488278608  0.78744499\n",
       "Thu          -0.38164199 -0.381641986 -0.38164199 -0.381641986 -0.38159013\n",
       "Fri           2.67834598 -0.373364199 -0.37336420 -0.373364199 -0.37336420\n",
       "Sat          -0.33910571 -0.339105708 -0.33910571 -0.339105708 -0.33910571\n",
       "Sun          -0.33989304 -0.339893041  2.94209761 -0.339893041 -0.33989304"
      ]
     },
     "metadata": {},
     "output_type": "display_data"
    }
   ],
   "source": [
    "centres <- matrix(0, nrow=length(cols), ncol=length(clusters$size))\n",
    "for (var in 1:length(cols)) {\n",
    "    centres[var,] <- tapply(citi[,cols[var]], clusters$cluster, mean)\n",
    "}\n",
    "rownames(centres) <- cols\n",
    "colnames(centres) <- c(\"Cluster 1\", \"Cluster 2\", \"Cluster 3\",\n",
    "                          \"Cluster 4\", \"Cluster 5\", \"Cluster 6\",\n",
    "                          \"Cluster 7\", \"Cluster 8\", \"Cluster 9\",\n",
    "                          \"Cluster 10\")\n",
    "centres"
   ]
  },
  {
   "cell_type": "markdown",
   "metadata": {},
   "source": [
    "### 3K\n",
    "\n",
    "Based on the centroids of the clusters, **Cluster 10** best represents trips taken primarily by older users on Saturdays."
   ]
  },
  {
   "cell_type": "markdown",
   "metadata": {},
   "source": [
    "### 3L\n",
    "\n",
    "If we ran k-means clustering a second time without making any additional calls to `set.seed()`, we would expect different results from the first k-means clustering."
   ]
  },
  {
   "cell_type": "markdown",
   "metadata": {},
   "source": [
    "### 3M\n",
    "\n",
    "If we ran k-means clustering a second time, again running the command `set.seed(100)` right before doing the clustering, we would expect identical results to the first k-means clustering."
   ]
  },
  {
   "cell_type": "markdown",
   "metadata": {},
   "source": [
    "### 3N\n",
    "\n",
    "Based on the centroids of the clusters, [**Cluster 1**](https://www.youtube.com/watch?v=hoEDw18mkbU) best represents longer trips taken by older female users on weekdays."
   ]
  },
  {
   "cell_type": "code",
   "execution_count": 323,
   "metadata": {},
   "outputs": [
    {
     "data": {
      "text/html": [
       "<table>\n",
       "<thead><tr><th></th><th scope=col>Cluster 1</th><th scope=col>Cluster 2</th><th scope=col>Cluster 3</th><th scope=col>Cluster 4</th><th scope=col>Cluster 5</th><th scope=col>Cluster 6</th><th scope=col>Cluster 7</th><th scope=col>Cluster 8</th><th scope=col>Cluster 9</th><th scope=col>Cluster 10</th></tr></thead>\n",
       "<tbody>\n",
       "\t<tr><th scope=row>tripduration</th><td> 0.4099255  </td><td> 0.003522478</td><td>-0.0476149  </td><td>-0.07846677 </td><td> 0.009448121</td><td>-0.01552319 </td><td>-0.01896928 </td><td>-0.01034726 </td><td>-0.09664855 </td><td> 0.01909979 </td></tr>\n",
       "\t<tr><th scope=row>gender</th><td> 1.7800715  </td><td> 0.218753548</td><td>-0.5542316  </td><td>-0.52083869 </td><td>-0.141849044</td><td>-0.55423157 </td><td>-0.55423157 </td><td>-0.55423157 </td><td>-0.55423157 </td><td> 1.80429727 </td></tr>\n",
       "\t<tr><th scope=row>age</th><td> 1.1147478  </td><td>-0.642713176</td><td> 1.0398396  </td><td>-0.59148114 </td><td> 1.104360822</td><td> 0.47879263 </td><td>-0.77253120 </td><td> 1.87538049 </td><td>-0.56276445 </td><td>-0.67375767 </td></tr>\n",
       "\t<tr><th scope=row>starttime</th><td>-0.1593482  </td><td> 0.195909510</td><td>-1.0983165  </td><td>-1.43820102 </td><td>-0.090378702</td><td> 0.71749435 </td><td> 0.95274639 </td><td> 0.39176021 </td><td>-0.14979678 </td><td> 0.16523325 </td></tr>\n",
       "\t<tr><th scope=row>weekday</th><td> 0.5041004  </td><td>-1.959083793</td><td> 0.5104419  </td><td> 0.37641703 </td><td>-1.959083793</td><td> 0.51044192 </td><td> 0.51044192 </td><td> 0.51044192 </td><td> 0.51044192 </td><td> 0.51044192 </td></tr>\n",
       "</tbody>\n",
       "</table>\n"
      ],
      "text/latex": [
       "\\begin{tabular}{r|llllllllll}\n",
       "  & Cluster 1 & Cluster 2 & Cluster 3 & Cluster 4 & Cluster 5 & Cluster 6 & Cluster 7 & Cluster 8 & Cluster 9 & Cluster 10\\\\\n",
       "\\hline\n",
       "\ttripduration &  0.4099255   &  0.003522478 & -0.0476149   & -0.07846677  &  0.009448121 & -0.01552319  & -0.01896928  & -0.01034726  & -0.09664855  &  0.01909979 \\\\\n",
       "\tgender &  1.7800715   &  0.218753548 & -0.5542316   & -0.52083869  & -0.141849044 & -0.55423157  & -0.55423157  & -0.55423157  & -0.55423157  &  1.80429727 \\\\\n",
       "\tage &  1.1147478   & -0.642713176 &  1.0398396   & -0.59148114  &  1.104360822 &  0.47879263  & -0.77253120  &  1.87538049  & -0.56276445  & -0.67375767 \\\\\n",
       "\tstarttime & -0.1593482   &  0.195909510 & -1.0983165   & -1.43820102  & -0.090378702 &  0.71749435  &  0.95274639  &  0.39176021  & -0.14979678  &  0.16523325 \\\\\n",
       "\tweekday &  0.5041004   & -1.959083793 &  0.5104419   &  0.37641703  & -1.959083793 &  0.51044192  &  0.51044192  &  0.51044192  &  0.51044192  &  0.51044192 \\\\\n",
       "\\end{tabular}\n"
      ],
      "text/markdown": [
       "\n",
       "| <!--/--> | Cluster 1 | Cluster 2 | Cluster 3 | Cluster 4 | Cluster 5 | Cluster 6 | Cluster 7 | Cluster 8 | Cluster 9 | Cluster 10 | \n",
       "|---|---|---|---|---|\n",
       "| tripduration |  0.4099255   |  0.003522478 | -0.0476149   | -0.07846677  |  0.009448121 | -0.01552319  | -0.01896928  | -0.01034726  | -0.09664855  |  0.01909979  | \n",
       "| gender |  1.7800715   |  0.218753548 | -0.5542316   | -0.52083869  | -0.141849044 | -0.55423157  | -0.55423157  | -0.55423157  | -0.55423157  |  1.80429727  | \n",
       "| age |  1.1147478   | -0.642713176 |  1.0398396   | -0.59148114  |  1.104360822 |  0.47879263  | -0.77253120  |  1.87538049  | -0.56276445  | -0.67375767  | \n",
       "| starttime | -0.1593482   |  0.195909510 | -1.0983165   | -1.43820102  | -0.090378702 |  0.71749435  |  0.95274639  |  0.39176021  | -0.14979678  |  0.16523325  | \n",
       "| weekday |  0.5041004   | -1.959083793 |  0.5104419   |  0.37641703  | -1.959083793 |  0.51044192  |  0.51044192  |  0.51044192  |  0.51044192  |  0.51044192  | \n",
       "\n",
       "\n"
      ],
      "text/plain": [
       "             Cluster 1  Cluster 2    Cluster 3  Cluster 4   Cluster 5   \n",
       "tripduration  0.4099255  0.003522478 -0.0476149 -0.07846677  0.009448121\n",
       "gender        1.7800715  0.218753548 -0.5542316 -0.52083869 -0.141849044\n",
       "age           1.1147478 -0.642713176  1.0398396 -0.59148114  1.104360822\n",
       "starttime    -0.1593482  0.195909510 -1.0983165 -1.43820102 -0.090378702\n",
       "weekday       0.5041004 -1.959083793  0.5104419  0.37641703 -1.959083793\n",
       "             Cluster 6   Cluster 7   Cluster 8   Cluster 9   Cluster 10 \n",
       "tripduration -0.01552319 -0.01896928 -0.01034726 -0.09664855  0.01909979\n",
       "gender       -0.55423157 -0.55423157 -0.55423157 -0.55423157  1.80429727\n",
       "age           0.47879263 -0.77253120  1.87538049 -0.56276445 -0.67375767\n",
       "starttime     0.71749435  0.95274639  0.39176021 -0.14979678  0.16523325\n",
       "weekday       0.51044192  0.51044192  0.51044192  0.51044192  0.51044192"
      ]
     },
     "metadata": {},
     "output_type": "display_data"
    }
   ],
   "source": [
    "citi <- read.csv(\"csv/citibike.csv\")\n",
    "citi$weekday <- ifelse(citi$day == \"Mon\" | citi$day == \"Tue\" | citi$day == \"Wed\" |\n",
    "                       citi$day == \"Thu\" | citi$day == \"Fri\", 1, 0)\n",
    "\n",
    "# scaling (normalisation)\n",
    "citi$tripduration <- scale(citi$tripduration)\n",
    "citi$gender <- scale(citi$gender)\n",
    "citi$age <- scale(citi$age)\n",
    "citi$starttime <- scale(citi$starttime)\n",
    "citi$weekday <- scale(citi$weekday)\n",
    "\n",
    "# k-means clustering\n",
    "set.seed(100)\n",
    "colsW <- c(\"tripduration\", \"gender\", \"age\", \"starttime\", \"weekday\")\n",
    "clustersW <- kmeans(citi[,colsW], centers = 10)\n",
    "\n",
    "# centroid calculation\n",
    "centresW <- matrix(0, nrow=length(colsW), ncol=length(clustersW$size))\n",
    "for (var in 1:length(colsW)) {\n",
    "    centresW[var,] <- tapply(citi[,colsW[var]], clustersW$cluster, mean)\n",
    "}\n",
    "rownames(centresW) <- colsW\n",
    "colnames(centresW) <- c(\"Cluster 1\", \"Cluster 2\", \"Cluster 3\",\n",
    "                          \"Cluster 4\", \"Cluster 5\", \"Cluster 6\",\n",
    "                          \"Cluster 7\", \"Cluster 8\", \"Cluster 9\",\n",
    "                          \"Cluster 10\")\n",
    "centresW"
   ]
  },
  {
   "cell_type": "markdown",
   "metadata": {},
   "source": [
    "### 3O\n",
    "\n",
    "Based on the centroids of the clusters, **Cluster 9** best represents short trips taken by younger male users early on weekdays."
   ]
  }
 ],
 "metadata": {
  "kernelspec": {
   "display_name": "R",
   "language": "R",
   "name": "ir"
  },
  "language_info": {
   "codemirror_mode": "r",
   "file_extension": ".r",
   "mimetype": "text/x-r-source",
   "name": "R",
   "pygments_lexer": "r",
   "version": "3.4.0"
  }
 },
 "nbformat": 4,
 "nbformat_minor": 2
}
