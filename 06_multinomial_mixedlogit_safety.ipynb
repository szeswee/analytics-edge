{
 "cells": [
  {
   "cell_type": "markdown",
   "metadata": {},
   "source": [
    "### Multinomial logit models\n",
    "\n",
    "Here, we are using models that incorporate the comparison of attributes across alternatives and can also be used to capture heterogenity in the choice modelling process."
   ]
  },
  {
   "cell_type": "code",
   "execution_count": 1,
   "metadata": {
    "scrolled": false
   },
   "outputs": [
    {
     "name": "stdout",
     "output_type": "stream",
     "text": [
      "'data.frame':\t9500 obs. of  112 variables:\n",
      " $ Case      : int  1 1 1 1 1 1 1 1 1 1 ...\n",
      " $ No        : int  1 2 3 4 5 6 7 8 9 10 ...\n",
      " $ Task      : int  1 2 3 4 5 6 7 8 9 10 ...\n",
      " $ CC1       : int  0 3 1 0 0 3 0 3 3 0 ...\n",
      " $ GN1       : int  1 0 1 0 2 0 2 0 0 0 ...\n",
      " $ NS1       : int  4 0 5 0 2 0 0 1 0 0 ...\n",
      " $ BU1       : int  6 0 0 2 0 5 0 0 3 0 ...\n",
      " $ FA1       : int  0 2 2 0 1 0 1 0 0 0 ...\n",
      " $ LD1       : int  0 2 0 3 2 0 0 2 0 0 ...\n",
      " $ BZ1       : int  0 2 3 0 0 1 2 0 2 0 ...\n",
      " $ FC1       : int  0 1 0 2 2 0 0 0 2 2 ...\n",
      " $ FP1       : int  3 0 1 0 0 4 0 2 0 1 ...\n",
      " $ RP1       : int  1 0 0 1 0 0 1 1 0 2 ...\n",
      " $ PP1       : int  1 0 0 0 2 2 1 0 2 0 ...\n",
      " $ KA1       : int  0 1 0 0 1 2 0 1 2 0 ...\n",
      " $ SC1       : int  0 3 1 0 0 4 4 0 0 1 ...\n",
      " $ TS1       : int  1 0 2 0 0 1 0 0 1 1 ...\n",
      " $ NV1       : int  1 0 0 3 3 0 0 0 3 3 ...\n",
      " $ MA1       : int  4 0 0 4 0 0 1 1 2 0 ...\n",
      " $ LB1       : int  0 4 0 4 3 0 0 2 0 4 ...\n",
      " $ AF1       : int  0 2 0 2 0 1 3 0 0 2 ...\n",
      " $ HU1       : int  0 0 2 1 0 0 2 2 0 1 ...\n",
      " $ Price1    : int  2 8 4 3 1 1 3 4 11 6 ...\n",
      " $ CC2       : int  0 1 2 0 0 1 0 2 2 0 ...\n",
      " $ GN2       : int  2 0 2 0 1 0 2 0 0 0 ...\n",
      " $ NS2       : int  1 0 5 0 1 0 0 3 0 0 ...\n",
      " $ BU2       : int  2 0 0 4 0 1 0 0 6 0 ...\n",
      " $ FA2       : int  0 1 1 0 1 0 1 0 0 0 ...\n",
      " $ LD2       : int  0 3 0 2 3 0 0 2 0 0 ...\n",
      " $ BZ2       : int  0 1 1 0 0 2 2 0 3 0 ...\n",
      " $ FC2       : int  0 2 0 2 1 0 0 0 2 1 ...\n",
      " $ FP2       : int  2 0 4 0 0 1 0 4 0 2 ...\n",
      " $ RP2       : int  1 0 0 2 0 0 1 1 0 2 ...\n",
      " $ PP2       : int  1 0 0 0 2 1 1 0 2 0 ...\n",
      " $ KA2       : int  0 2 0 0 1 2 0 2 1 0 ...\n",
      " $ SC2       : int  0 2 4 0 0 4 3 0 0 3 ...\n",
      " $ TS2       : int  1 0 3 0 0 2 0 0 2 2 ...\n",
      " $ NV2       : int  1 0 0 3 1 0 0 0 1 3 ...\n",
      " $ MA2       : int  1 0 0 4 0 0 4 4 2 0 ...\n",
      " $ LB2       : int  0 1 0 2 2 0 0 4 0 1 ...\n",
      " $ AF2       : int  0 3 0 2 0 3 1 0 0 2 ...\n",
      " $ HU2       : int  0 0 2 1 0 0 1 1 0 1 ...\n",
      " $ Price2    : int  2 7 6 7 4 7 2 11 4 5 ...\n",
      " $ CC3       : int  0 2 3 0 0 2 0 2 2 0 ...\n",
      " $ GN3       : int  2 0 2 0 1 0 2 0 0 0 ...\n",
      " $ NS3       : int  4 0 5 0 4 0 0 4 0 0 ...\n",
      " $ BU3       : int  5 0 0 5 0 5 0 0 4 0 ...\n",
      " $ FA3       : int  0 2 2 0 2 0 2 0 0 0 ...\n",
      " $ LD3       : int  0 1 0 2 2 0 0 3 0 0 ...\n",
      " $ BZ3       : int  0 3 2 0 0 3 1 0 2 0 ...\n",
      " $ FC3       : int  0 2 0 2 2 0 0 0 2 2 ...\n",
      " $ FP3       : int  3 0 1 0 0 2 0 2 0 4 ...\n",
      " $ RP3       : int  2 0 0 1 0 0 2 1 0 1 ...\n",
      " $ PP3       : int  3 0 0 0 1 3 3 0 1 0 ...\n",
      " $ KA3       : int  0 2 0 0 1 2 0 2 2 0 ...\n",
      " $ SC3       : int  0 2 3 0 0 1 1 0 0 4 ...\n",
      " $ TS3       : int  3 0 2 0 0 1 0 0 2 3 ...\n",
      " $ NV3       : int  1 0 0 1 1 0 0 0 2 3 ...\n",
      " $ MA3       : int  1 0 0 4 0 0 2 1 2 0 ...\n",
      " $ LB3       : int  0 4 0 1 1 0 0 3 0 2 ...\n",
      " $ AF3       : int  0 3 0 1 0 2 2 0 0 3 ...\n",
      " $ HU3       : int  0 0 1 2 0 0 1 1 0 2 ...\n",
      " $ Price3    : int  2 12 7 10 2 11 12 11 11 8 ...\n",
      " $ CC4       : int  0 0 0 0 0 0 0 0 0 0 ...\n",
      " $ GN4       : int  0 0 0 0 0 0 0 0 0 0 ...\n",
      " $ NS4       : int  0 0 0 0 0 0 0 0 0 0 ...\n",
      " $ BU4       : int  0 0 0 0 0 0 0 0 0 0 ...\n",
      " $ FA4       : int  0 0 0 0 0 0 0 0 0 0 ...\n",
      " $ LD4       : int  0 0 0 0 0 0 0 0 0 0 ...\n",
      " $ BZ4       : int  0 0 0 0 0 0 0 0 0 0 ...\n",
      " $ FC4       : int  0 0 0 0 0 0 0 0 0 0 ...\n",
      " $ FP4       : int  0 0 0 0 0 0 0 0 0 0 ...\n",
      " $ RP4       : int  0 0 0 0 0 0 0 0 0 0 ...\n",
      " $ PP4       : int  0 0 0 0 0 0 0 0 0 0 ...\n",
      " $ KA4       : int  0 0 0 0 0 0 0 0 0 0 ...\n",
      " $ SC4       : int  0 0 0 0 0 0 0 0 0 0 ...\n",
      " $ TS4       : int  0 0 0 0 0 0 0 0 0 0 ...\n",
      " $ NV4       : int  0 0 0 0 0 0 0 0 0 0 ...\n",
      " $ MA4       : int  0 0 0 0 0 0 0 0 0 0 ...\n",
      " $ LB4       : int  0 0 0 0 0 0 0 0 0 0 ...\n",
      " $ AF4       : int  0 0 0 0 0 0 0 0 0 0 ...\n",
      " $ HU4       : int  0 0 0 0 0 0 0 0 0 0 ...\n",
      " $ Price4    : int  0 0 0 0 0 0 0 0 0 0 ...\n",
      " $ Ch1       : int  0 1 0 0 0 0 0 0 0 0 ...\n",
      " $ Ch2       : int  1 0 1 1 1 1 1 1 1 1 ...\n",
      " $ Ch3       : int  0 0 0 0 0 0 0 0 0 0 ...\n",
      " $ Ch4       : int  0 0 0 0 0 0 0 0 0 0 ...\n",
      " $ segment   : Factor w/ 6 levels \"Full-size Pickup\",..: 2 2 2 2 2 2 2 2 2 2 ...\n",
      " $ segmentind: int  2 2 2 2 2 2 2 2 2 2 ...\n",
      " $ year      : int  2000 2000 2000 2000 2000 2000 2000 2000 2000 2000 ...\n",
      " $ yearind   : int  1 1 1 1 1 1 1 1 1 1 ...\n",
      " $ miles     : Factor w/ 9 levels \"101 To 150 Miles\",..: 7 7 7 7 7 7 7 7 7 7 ...\n",
      " $ milesind  : int  2 2 2 2 2 2 2 2 2 2 ...\n",
      " $ milesa    : int  80 80 80 80 80 80 80 80 80 80 ...\n",
      " $ night     : Factor w/ 10 levels \"10% To 20%\",\"21% To 30%\",..: 2 2 2 2 2 2 2 2 2 2 ...\n",
      " $ nightind  : int  3 3 3 3 3 3 3 3 3 3 ...\n",
      " $ nighta    : int  30 30 30 30 30 30 30 30 30 30 ...\n",
      " $ gender    : Factor w/ 2 levels \"Female\",\"Male\": 1 1 1 1 1 1 1 1 1 1 ...\n",
      " $ genderind : int  1 1 1 1 1 1 1 1 1 1 ...\n",
      "  [list output truncated]\n"
     ]
    },
    {
     "data": {
      "text/plain": [
       "\n",
       " Ch1  Ch2  Ch3  Ch4 \n",
       "2165 2404 2136 2795 "
      ]
     },
     "metadata": {},
     "output_type": "display_data"
    }
   ],
   "source": [
    "safety <- read.csv(\"csv/safetydata.csv\")\n",
    "str(safety)\n",
    "# note that this dataframe has its columns as observations instead of rows\n",
    "\n",
    "\n",
    "table(safety$Choice)"
   ]
  },
  {
   "cell_type": "code",
   "execution_count": 9,
   "metadata": {
    "scrolled": false
   },
   "outputs": [
    {
     "data": {
      "text/plain": [
       "\n",
       "Call:\n",
       "mlogit(formula = Choice ~ CC + GN + NS + BU + FA + LD + BZ + \n",
       "    FC + FP + RP + PP + KA + SC + TS + NV + MA + LB + AF + HU + \n",
       "    Price - 1, data = S, method = \"nr\", print.level = 0)\n",
       "\n",
       "Frequencies of alternatives:\n",
       "    Ch1     Ch2     Ch3     Ch4 \n",
       "0.22850 0.25500 0.23567 0.28083 \n",
       "\n",
       "nr method\n",
       "4 iterations, 0h:0m:0s \n",
       "g'(-H)^-1g = 2.05E-07 \n",
       "gradient close to zero \n",
       "\n",
       "Coefficients :\n",
       "       Estimate Std. Error  t-value  Pr(>|t|)    \n",
       "CC     0.108533   0.020754   5.2295 1.699e-07 ***\n",
       "GN     0.067709   0.029925   2.2626 0.0236592 *  \n",
       "NS     0.021263   0.013039   1.6307 0.1029606    \n",
       "BU     0.026681   0.010931   2.4408 0.0146541 *  \n",
       "FA     0.052062   0.029611   1.7582 0.0787097 .  \n",
       "LD     0.057242   0.020777   2.7550 0.0058689 ** \n",
       "BZ     0.040601   0.020933   1.9395 0.0524345 .  \n",
       "FC     0.056979   0.029856   1.9084 0.0563338 .  \n",
       "FP     0.008004   0.015974   0.5011 0.6163261    \n",
       "RP     0.058425   0.029830   1.9586 0.0501622 .  \n",
       "PP     0.038776   0.021007   1.8459 0.0649103 .  \n",
       "KA     0.122004   0.029667   4.1124 3.915e-05 ***\n",
       "SC     0.044948   0.015805   2.8439 0.0044564 ** \n",
       "TS     0.082892   0.020954   3.9560 7.622e-05 ***\n",
       "NV     0.036925   0.020756   1.7790 0.0752422 .  \n",
       "MA     0.058989   0.015952   3.6980 0.0002173 ***\n",
       "LB     0.032066   0.016020   2.0016 0.0453234 *  \n",
       "AF     0.020830   0.020980   0.9929 0.3207739    \n",
       "HU     0.067075   0.029949   2.2396 0.0251138 *  \n",
       "Price -0.203617   0.005830 -34.9255 < 2.2e-16 ***\n",
       "---\n",
       "Signif. codes:  0 ‘***’ 0.001 ‘**’ 0.01 ‘*’ 0.05 ‘.’ 0.1 ‘ ’ 1\n",
       "\n",
       "Log-Likelihood: -7567.9"
      ]
     },
     "metadata": {},
     "output_type": "display_data"
    }
   ],
   "source": [
    "library(mlogit)\n",
    "\n",
    "S <- mlogit.data(subset(safety, Task<=12),\n",
    "                 shape = \"wide\",\n",
    "                 choice = \"Choice\",\n",
    "                 sep = \"\",\n",
    "                 varying = c(4:83),\n",
    "                 alt.levels = c(\"Ch1\", \"Ch2\", \"Ch3\", \"Ch4\"),\n",
    "                 id.var = \"Case\")\n",
    "\n",
    "# no closed-form solution for the mlogit model, just like logistic regression\n",
    "M <- mlogit(Choice~CC+GN+NS+BU+FA+LD+BZ+FC+FP+RP+PP+KA+SC+TS+NV+MA+LB+AF+HU+Price-1, data=S)\n",
    "summary(M)"
   ]
  },
  {
   "cell_type": "code",
   "execution_count": 4,
   "metadata": {},
   "outputs": [
    {
     "data": {
      "text/html": [
       "-8317.76616671934"
      ],
      "text/latex": [
       "-8317.76616671934"
      ],
      "text/markdown": [
       "-8317.76616671934"
      ],
      "text/plain": [
       "[1] -8317.766"
      ]
     },
     "metadata": {},
     "output_type": "display_data"
    }
   ],
   "source": [
    "# obtaining log-likelihood for a perfectly random baseline model\n",
    "# x6000 because there are 6000 observations total\n",
    "# 1/4 because there are 4 alternatives\n",
    "6000*log(1/4)"
   ]
  },
  {
   "cell_type": "markdown",
   "metadata": {},
   "source": [
    "Now, predicting the choices that are made."
   ]
  },
  {
   "cell_type": "code",
   "execution_count": 5,
   "metadata": {
    "scrolled": false
   },
   "outputs": [
    {
     "name": "stdout",
     "output_type": "stream",
     "text": [
      " Factor w/ 4 levels \"Ch1\",\"Ch2\",\"Ch3\",..: 2 1 2 2 2 2 2 2 2 2 ...\n"
     ]
    },
    {
     "data": {
      "text/plain": [
       "               ActualChoice\n",
       "PredictedChoice Ch1 Ch2 Ch3 Ch4\n",
       "              1 616 273 226 356\n",
       "              2 222 647 235 320\n",
       "              3 194 258 629 309\n",
       "              4 339 352 324 700"
      ]
     },
     "metadata": {},
     "output_type": "display_data"
    },
    {
     "data": {
      "text/html": [
       "0.432"
      ],
      "text/latex": [
       "0.432"
      ],
      "text/markdown": [
       "0.432"
      ],
      "text/plain": [
       "[1] 0.432"
      ]
     },
     "metadata": {},
     "output_type": "display_data"
    }
   ],
   "source": [
    "# get actual choices\n",
    "ActualChoice <- subset(safety, Task<=12)[,\"Choice\"]\n",
    "str(ActualChoice)\n",
    "\n",
    "# get predicted choices\n",
    "F <- predict(M, newdata=S)\n",
    "PredictedChoice <- apply(F,1,which.max)\n",
    "\n",
    "# accuracy matrix\n",
    "table(PredictedChoice,ActualChoice)\n",
    "#accuracy\n",
    "(616+647+629+700)/6000"
   ]
  },
  {
   "cell_type": "markdown",
   "metadata": {},
   "source": [
    "Now, predicting choices on testset."
   ]
  },
  {
   "cell_type": "code",
   "execution_count": 6,
   "metadata": {},
   "outputs": [
    {
     "data": {
      "text/plain": [
       "                   TestActualChoice\n",
       "TestPredictedChoice Ch1 Ch2 Ch3 Ch4\n",
       "                  1 376 120  93 176\n",
       "                  2 119 435  97 227\n",
       "                  3 118 124 356 190\n",
       "                  4 181 195 176 517"
      ]
     },
     "metadata": {},
     "output_type": "display_data"
    },
    {
     "data": {
      "text/html": [
       "0.481142857142857"
      ],
      "text/latex": [
       "0.481142857142857"
      ],
      "text/markdown": [
       "0.481142857142857"
      ],
      "text/plain": [
       "[1] 0.4811429"
      ]
     },
     "metadata": {},
     "output_type": "display_data"
    }
   ],
   "source": [
    "Test <- mlogit.data(subset(safety, Task>12),\n",
    "                 shape = \"wide\",\n",
    "                 choice = \"Choice\",\n",
    "                 sep = \"\",\n",
    "                 varying = c(4:83),\n",
    "                 alt.levels = c(\"Ch1\", \"Ch2\", \"Ch3\", \"Ch4\"),\n",
    "                 id.var = \"Case\")\n",
    "\n",
    "# predicting on test set\n",
    "TestPredict <- predict(M, Test)\n",
    "TestPredictedChoice <- apply(TestPredict,1,which.max)\n",
    "TestActualChoice <- subset(safety, Task>12)[,\"Choice\"]\n",
    "table(TestPredictedChoice, TestActualChoice)\n",
    "\n",
    "#accuracy\n",
    "(376+435+356+517)/3500"
   ]
  },
  {
   "cell_type": "markdown",
   "metadata": {},
   "source": [
    "How much is the price willingness that the consumer is wiling to pay for a unit increase in one of the features, all else held constant?\n",
    "\n",
    "Suppose the following two:\n",
    "- $\\large U_1 = \\beta_1x_1 + \\beta_{price}x_{p} + ...$\n",
    "- $\\large U_2 = \\beta_1(x_1+\\delta_1) + \\beta_{price}({x_{price}+\\delta_p}) + ...$\n",
    "\n",
    "If we wish to find the willingness to pay (WTP), set $U_1=U_2$. Rationale for doing so is to find out the \"exchange rate\" bewteen an additional unit of feature 1 and the money the consumer is willing to pay, hence WTP. We can find out how much $\\delta_p$ will change if we change feature $x_1$ by $\\delta_1$."
   ]
  },
  {
   "cell_type": "markdown",
   "metadata": {},
   "source": [
    "### Mixed logit models\n",
    "\n",
    "However, we usually assume that the $\\beta$ values are fixed in the multinomial model. What if each consumer(observation) has a different subjective $\\beta$ values? Then, we will need to consider the distribution of those consumers(observations) then.\n",
    "\n",
    "**Standard logit model**\n",
    "$$\\Large P(Y_i=k)= \\frac{e^{\\beta'x_{ik}}}{\\sum_{l=1}^{k}e^{\\beta'x_{il}}}$$\n",
    "\n",
    "**Mixed logit model**\n",
    "$$\\Large P(Y_i=k)= \\int{\\frac{e^{\\beta'x_{ik}}}{\\sum_{l=1}^{k}e^{\\beta'x_{il}}}f(\\beta)\\:\\:\\:d\\beta}$$\n",
    "where $\\widetilde{\\beta} \\sim f(\\beta|\\theta)$ for $\\tilde{U_{ik}}= \\tilde{\\beta'}x_{ik}+\\tilde{\\epsilon_{ik}}$"
   ]
  },
  {
   "cell_type": "markdown",
   "metadata": {
    "collapsed": true
   },
   "source": [
    "### Panel data\n",
    "\n",
    "If there are multiple observations of a consumer, how do we build a better model that has the ability to consider multicollinearity between $\\beta$ variables.\n",
    "\n",
    "$$\\Large P(Y_i=k_1\\:in\\:test\\:1 \\cap Y_i=k_2\\:in\\:test\\:2)=\n",
    "\\int{\\frac{e^{\\beta'x_{ik_1}}}{\\sum_{l=1}^{k_1}e^{\\beta'x_{il}}}\n",
    "{\\frac{e^{\\beta'x_{ik_2}}}{\\sum_{l=1}^{k_2}e^{\\beta'x_{il}}}}\n",
    "f(\\beta)\\:\\:\\:d\\beta}$$"
   ]
  },
  {
   "cell_type": "code",
   "execution_count": 3,
   "metadata": {
    "scrolled": false
   },
   "outputs": [
    {
     "ename": "ERROR",
     "evalue": "Error in mlogit(Choice ~ CC + GN + NS + BU + FA + LD + BZ + FC + FP + : could not find function \"mlogit\"\n",
     "output_type": "error",
     "traceback": [
      "Error in mlogit(Choice ~ CC + GN + NS + BU + FA + LD + BZ + FC + FP + : could not find function \"mlogit\"\nTraceback:\n"
     ]
    }
   ],
   "source": [
    "# now estimating mixed logit (may take some time)\n",
    "M1 <- mlogit(Choice~CC+GN+NS+BU+FA+LD+BZ+FC+FP+RP+PP+KA+SC+TS+NV+MA+LB+AF+HU+Price-1,\n",
    "             rpar = c(CC='n', GN='n', NS='n', BU='n', FA='n', LD='n', BZ='n', FC='n',\n",
    "                      FP='n', RP='n', PP='n', KA='n', SC='n', TS='n', NV='n', MA='n',\n",
    "                      LB='n', AF='n', HU='n', Price='n'),\n",
    "             data = S, panel = T, print.level = F)\n",
    "summary(M1)"
   ]
  },
  {
   "cell_type": "code",
   "execution_count": 8,
   "metadata": {},
   "outputs": [
    {
     "data": {
      "text/plain": [
       "                ActualChoice\n",
       "PredictedChoice1 Ch1 Ch2 Ch3 Ch4\n",
       "               1 530 243 179 288\n",
       "               2 203 552 207 256\n",
       "               3 173 220 537 236\n",
       "               4 465 515 491 905"
      ]
     },
     "metadata": {},
     "output_type": "display_data"
    },
    {
     "data": {
      "text/html": [
       "0.420666666666667"
      ],
      "text/latex": [
       "0.420666666666667"
      ],
      "text/markdown": [
       "0.420666666666667"
      ],
      "text/plain": [
       "[1] 0.4206667"
      ]
     },
     "metadata": {},
     "output_type": "display_data"
    },
    {
     "data": {
      "text/plain": [
       "                ActualChoice1\n",
       "PredictedChoice1 Ch1 Ch2 Ch3 Ch4\n",
       "               1 331 116  77 137\n",
       "               2 102 377  83 180\n",
       "               3  98 110 316 149\n",
       "               4 263 271 246 644"
      ]
     },
     "metadata": {},
     "output_type": "display_data"
    },
    {
     "data": {
      "text/html": [
       "0.476571428571429"
      ],
      "text/latex": [
       "0.476571428571429"
      ],
      "text/markdown": [
       "0.476571428571429"
      ],
      "text/plain": [
       "[1] 0.4765714"
      ]
     },
     "metadata": {},
     "output_type": "display_data"
    }
   ],
   "source": [
    "# recall that \"Task\" is simply the index of the observation of the customer\n",
    "# Each customer has 12 observations (12 cars for valuation)\n",
    "\n",
    "# predict on training set\n",
    "P1 <- predict(M1, S)\n",
    "PredictedChoice1 <- apply(P1, 1, which.max)\n",
    "table(PredictedChoice1, ActualChoice)\n",
    "#accuracy on training set\n",
    "(530+552+537+905)/6000\n",
    "\n",
    "# predict on test set\n",
    "TestPredict1 <- predict(M1, Test)\n",
    "ActualChoice1 <- subset(safety, Task>12)[,'Choice']\n",
    "PredictedChoice1 <- apply(TestPredict1, 1, which.max)\n",
    "table(PredictedChoice1, ActualChoice1)\n",
    "#accuracy on test set\n",
    "(331+377+316+644)/3500\n"
   ]
  },
  {
   "cell_type": "code",
   "execution_count": 14,
   "metadata": {
    "scrolled": false
   },
   "outputs": [
    {
     "data": {
      "text/html": [
       "<ol class=list-inline>\n",
       "\t<li>1</li>\n",
       "\t<li>2</li>\n",
       "\t<li>3</li>\n",
       "\t<li>4</li>\n",
       "\t<li>5</li>\n",
       "\t<li>6</li>\n",
       "\t<li>7</li>\n",
       "\t<li>8</li>\n",
       "\t<li>9</li>\n",
       "\t<li>10</li>\n",
       "\t<li>11</li>\n",
       "\t<li>12</li>\n",
       "\t<li>13</li>\n",
       "\t<li>14</li>\n",
       "\t<li>15</li>\n",
       "\t<li>16</li>\n",
       "\t<li>17</li>\n",
       "\t<li>18</li>\n",
       "\t<li>19</li>\n",
       "\t<li>1</li>\n",
       "</ol>\n"
      ],
      "text/latex": [
       "\\begin{enumerate*}\n",
       "\\item 1\n",
       "\\item 2\n",
       "\\item 3\n",
       "\\item 4\n",
       "\\item 5\n",
       "\\item 6\n",
       "\\item 7\n",
       "\\item 8\n",
       "\\item 9\n",
       "\\item 10\n",
       "\\item 11\n",
       "\\item 12\n",
       "\\item 13\n",
       "\\item 14\n",
       "\\item 15\n",
       "\\item 16\n",
       "\\item 17\n",
       "\\item 18\n",
       "\\item 19\n",
       "\\item 1\n",
       "\\end{enumerate*}\n"
      ],
      "text/markdown": [
       "1. 1\n",
       "2. 2\n",
       "3. 3\n",
       "4. 4\n",
       "5. 5\n",
       "6. 6\n",
       "7. 7\n",
       "8. 8\n",
       "9. 9\n",
       "10. 10\n",
       "11. 11\n",
       "12. 12\n",
       "13. 13\n",
       "14. 14\n",
       "15. 15\n",
       "16. 16\n",
       "17. 17\n",
       "18. 18\n",
       "19. 19\n",
       "20. 1\n",
       "\n",
       "\n"
      ],
      "text/plain": [
       " [1]  1  2  3  4  5  6  7  8  9 10 11 12 13 14 15 16 17 18 19  1"
      ]
     },
     "metadata": {},
     "output_type": "display_data"
    },
    {
     "name": "stdout",
     "output_type": "stream",
     "text": [
      "'data.frame':\t9500 obs. of  112 variables:\n",
      " $ Case      : int  1 1 1 1 1 1 1 1 1 1 ...\n",
      " $ No        : int  1 2 3 4 5 6 7 8 9 10 ...\n",
      " $ Task      : int  1 2 3 4 5 6 7 8 9 10 ...\n",
      " $ CC1       : int  0 3 1 0 0 3 0 3 3 0 ...\n",
      " $ GN1       : int  1 0 1 0 2 0 2 0 0 0 ...\n",
      " $ NS1       : int  4 0 5 0 2 0 0 1 0 0 ...\n",
      " $ BU1       : int  6 0 0 2 0 5 0 0 3 0 ...\n",
      " $ FA1       : int  0 2 2 0 1 0 1 0 0 0 ...\n",
      " $ LD1       : int  0 2 0 3 2 0 0 2 0 0 ...\n",
      " $ BZ1       : int  0 2 3 0 0 1 2 0 2 0 ...\n",
      " $ FC1       : int  0 1 0 2 2 0 0 0 2 2 ...\n",
      " $ FP1       : int  3 0 1 0 0 4 0 2 0 1 ...\n",
      " $ RP1       : int  1 0 0 1 0 0 1 1 0 2 ...\n",
      " $ PP1       : int  1 0 0 0 2 2 1 0 2 0 ...\n",
      " $ KA1       : int  0 1 0 0 1 2 0 1 2 0 ...\n",
      " $ SC1       : int  0 3 1 0 0 4 4 0 0 1 ...\n",
      " $ TS1       : int  1 0 2 0 0 1 0 0 1 1 ...\n",
      " $ NV1       : int  1 0 0 3 3 0 0 0 3 3 ...\n",
      " $ MA1       : int  4 0 0 4 0 0 1 1 2 0 ...\n",
      " $ LB1       : int  0 4 0 4 3 0 0 2 0 4 ...\n",
      " $ AF1       : int  0 2 0 2 0 1 3 0 0 2 ...\n",
      " $ HU1       : int  0 0 2 1 0 0 2 2 0 1 ...\n",
      " $ Price1    : int  2 8 4 3 1 1 3 4 11 6 ...\n",
      " $ CC2       : int  0 1 2 0 0 1 0 2 2 0 ...\n",
      " $ GN2       : int  2 0 2 0 1 0 2 0 0 0 ...\n",
      " $ NS2       : int  1 0 5 0 1 0 0 3 0 0 ...\n",
      " $ BU2       : int  2 0 0 4 0 1 0 0 6 0 ...\n",
      " $ FA2       : int  0 1 1 0 1 0 1 0 0 0 ...\n",
      " $ LD2       : int  0 3 0 2 3 0 0 2 0 0 ...\n",
      " $ BZ2       : int  0 1 1 0 0 2 2 0 3 0 ...\n",
      " $ FC2       : int  0 2 0 2 1 0 0 0 2 1 ...\n",
      " $ FP2       : int  2 0 4 0 0 1 0 4 0 2 ...\n",
      " $ RP2       : int  1 0 0 2 0 0 1 1 0 2 ...\n",
      " $ PP2       : int  1 0 0 0 2 1 1 0 2 0 ...\n",
      " $ KA2       : int  0 2 0 0 1 2 0 2 1 0 ...\n",
      " $ SC2       : int  0 2 4 0 0 4 3 0 0 3 ...\n",
      " $ TS2       : int  1 0 3 0 0 2 0 0 2 2 ...\n",
      " $ NV2       : int  1 0 0 3 1 0 0 0 1 3 ...\n",
      " $ MA2       : int  1 0 0 4 0 0 4 4 2 0 ...\n",
      " $ LB2       : int  0 1 0 2 2 0 0 4 0 1 ...\n",
      " $ AF2       : int  0 3 0 2 0 3 1 0 0 2 ...\n",
      " $ HU2       : int  0 0 2 1 0 0 1 1 0 1 ...\n",
      " $ Price2    : int  2 7 6 7 4 7 2 11 4 5 ...\n",
      " $ CC3       : int  0 2 3 0 0 2 0 2 2 0 ...\n",
      " $ GN3       : int  2 0 2 0 1 0 2 0 0 0 ...\n",
      " $ NS3       : int  4 0 5 0 4 0 0 4 0 0 ...\n",
      " $ BU3       : int  5 0 0 5 0 5 0 0 4 0 ...\n",
      " $ FA3       : int  0 2 2 0 2 0 2 0 0 0 ...\n",
      " $ LD3       : int  0 1 0 2 2 0 0 3 0 0 ...\n",
      " $ BZ3       : int  0 3 2 0 0 3 1 0 2 0 ...\n",
      " $ FC3       : int  0 2 0 2 2 0 0 0 2 2 ...\n",
      " $ FP3       : int  3 0 1 0 0 2 0 2 0 4 ...\n",
      " $ RP3       : int  2 0 0 1 0 0 2 1 0 1 ...\n",
      " $ PP3       : int  3 0 0 0 1 3 3 0 1 0 ...\n",
      " $ KA3       : int  0 2 0 0 1 2 0 2 2 0 ...\n",
      " $ SC3       : int  0 2 3 0 0 1 1 0 0 4 ...\n",
      " $ TS3       : int  3 0 2 0 0 1 0 0 2 3 ...\n",
      " $ NV3       : int  1 0 0 1 1 0 0 0 2 3 ...\n",
      " $ MA3       : int  1 0 0 4 0 0 2 1 2 0 ...\n",
      " $ LB3       : int  0 4 0 1 1 0 0 3 0 2 ...\n",
      " $ AF3       : int  0 3 0 1 0 2 2 0 0 3 ...\n",
      " $ HU3       : int  0 0 1 2 0 0 1 1 0 2 ...\n",
      " $ Price3    : int  2 12 7 10 2 11 12 11 11 8 ...\n",
      " $ CC4       : int  0 0 0 0 0 0 0 0 0 0 ...\n",
      " $ GN4       : int  0 0 0 0 0 0 0 0 0 0 ...\n",
      " $ NS4       : int  0 0 0 0 0 0 0 0 0 0 ...\n",
      " $ BU4       : int  0 0 0 0 0 0 0 0 0 0 ...\n",
      " $ FA4       : int  0 0 0 0 0 0 0 0 0 0 ...\n",
      " $ LD4       : int  0 0 0 0 0 0 0 0 0 0 ...\n",
      " $ BZ4       : int  0 0 0 0 0 0 0 0 0 0 ...\n",
      " $ FC4       : int  0 0 0 0 0 0 0 0 0 0 ...\n",
      " $ FP4       : int  0 0 0 0 0 0 0 0 0 0 ...\n",
      " $ RP4       : int  0 0 0 0 0 0 0 0 0 0 ...\n",
      " $ PP4       : int  0 0 0 0 0 0 0 0 0 0 ...\n",
      " $ KA4       : int  0 0 0 0 0 0 0 0 0 0 ...\n",
      " $ SC4       : int  0 0 0 0 0 0 0 0 0 0 ...\n",
      " $ TS4       : int  0 0 0 0 0 0 0 0 0 0 ...\n",
      " $ NV4       : int  0 0 0 0 0 0 0 0 0 0 ...\n",
      " $ MA4       : int  0 0 0 0 0 0 0 0 0 0 ...\n",
      " $ LB4       : int  0 0 0 0 0 0 0 0 0 0 ...\n",
      " $ AF4       : int  0 0 0 0 0 0 0 0 0 0 ...\n",
      " $ HU4       : int  0 0 0 0 0 0 0 0 0 0 ...\n",
      " $ Price4    : int  0 0 0 0 0 0 0 0 0 0 ...\n",
      " $ Ch1       : int  0 1 0 0 0 0 0 0 0 0 ...\n",
      " $ Ch2       : int  1 0 1 1 1 1 1 1 1 1 ...\n",
      " $ Ch3       : int  0 0 0 0 0 0 0 0 0 0 ...\n",
      " $ Ch4       : int  0 0 0 0 0 0 0 0 0 0 ...\n",
      " $ segment   : Factor w/ 6 levels \"Full-size Pickup\",..: 2 2 2 2 2 2 2 2 2 2 ...\n",
      " $ segmentind: int  2 2 2 2 2 2 2 2 2 2 ...\n",
      " $ year      : int  2000 2000 2000 2000 2000 2000 2000 2000 2000 2000 ...\n",
      " $ yearind   : int  1 1 1 1 1 1 1 1 1 1 ...\n",
      " $ miles     : Factor w/ 9 levels \"101 To 150 Miles\",..: 7 7 7 7 7 7 7 7 7 7 ...\n",
      " $ milesind  : int  2 2 2 2 2 2 2 2 2 2 ...\n",
      " $ milesa    : int  80 80 80 80 80 80 80 80 80 80 ...\n",
      " $ night     : Factor w/ 10 levels \"10% To 20%\",\"21% To 30%\",..: 2 2 2 2 2 2 2 2 2 2 ...\n",
      " $ nightind  : int  3 3 3 3 3 3 3 3 3 3 ...\n",
      " $ nighta    : int  30 30 30 30 30 30 30 30 30 30 ...\n",
      " $ gender    : Factor w/ 2 levels \"Female\",\"Male\": 1 1 1 1 1 1 1 1 1 1 ...\n",
      " $ genderind : int  1 1 1 1 1 1 1 1 1 1 ...\n",
      "  [list output truncated]\n"
     ]
    }
   ],
   "source": [
    "safety[1:20,\"Task\"]\n",
    "str(safety)"
   ]
  }
 ],
 "metadata": {
  "kernelspec": {
   "display_name": "R",
   "language": "R",
   "name": "ir"
  },
  "language_info": {
   "codemirror_mode": "r",
   "file_extension": ".r",
   "mimetype": "text/x-r-source",
   "name": "R",
   "pygments_lexer": "r",
   "version": "3.4.0"
  }
 },
 "nbformat": 4,
 "nbformat_minor": 2
}
