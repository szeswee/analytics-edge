{
 "cells": [
  {
   "cell_type": "markdown",
   "metadata": {},
   "source": [
    "## Text Analytics\n",
    "\n",
    "### Sentiment Analysis (Bags of Words model)\n",
    "The frequency which with words appear play a role. The order does not matter.\n",
    "\n",
    "Steps:\n",
    "- Create document x term matrix.\n",
    "- For each document, count how many of each term appears\n",
    "- Preprocess by removing common copulars, pronouns, articles, conjuctives, etc.\n",
    "- Preprocess by lowercasing all words??\n",
    "- Preprocess by using N-grams\n",
    "- Preprocess by removing punctuations\n",
    "- Preprocess by stemming words to their cognates (Porter stemming algo)\n",
    "\n",
    "All preprocessing steps can be doe with several R packages, including `\"tm\"`"
   ]
  },
  {
   "cell_type": "markdown",
   "metadata": {},
   "source": [
    "### Preprocessing"
   ]
  },
  {
   "cell_type": "code",
   "execution_count": 5,
   "metadata": {},
   "outputs": [
    {
     "name": "stdout",
     "output_type": "stream",
     "text": [
      "'data.frame':\t2664 obs. of  2 variables:\n",
      " $ sentiment: int  5 5 5 5 5 5 5 5 5 5 ...\n",
      " $ tweet    : chr  \"Two places I'd invest all my money if I could: 3D printing and Self-driving cars!!!\" \"Awesome! Google driverless cars will help the blind travel more often; https://t.co/QWuXR0FrBpv\" \"Autonomous vehicles could reduce traffic fatalities by 90%...I'm in!\" \"Really good presentation from Jan Becker on Bosch's automated vehicle research. #AutoAuto check it out\" ...\n"
     ]
    },
    {
     "data": {
      "text/html": [
       "<table>\n",
       "<thead><tr><th scope=col>sentiment</th><th scope=col>tweet</th></tr></thead>\n",
       "<tbody>\n",
       "\t<tr><td>5                                                                                                                           </td><td>Two places I'd invest all my money if I could: 3D printing and Self-driving cars!!!                                         </td></tr>\n",
       "\t<tr><td>5                                                                                                                           </td><td>Awesome! Google driverless cars will help the blind travel more often; https://t.co/QWuXR0FrBpv                             </td></tr>\n",
       "\t<tr><td>5                                                                                                                           </td><td>Autonomous vehicles could reduce traffic fatalities by 90%...I'm in!                                                        </td></tr>\n",
       "\t<tr><td>5                                                                                                                           </td><td>Really good presentation from Jan Becker on Bosch's automated vehicle research. #AutoAuto check it out                      </td></tr>\n",
       "\t<tr><td>5                                                                                                                           </td><td>Ford just revealed it's Automated Ford Fusion Hybrid Vehicle. Pretty amazing. #fordtrends @ Ford Test http://t.co/7axya8ogIW</td></tr>\n",
       "\t<tr><td>5                                                                                                                           </td><td>So yeah, just throwing this out there again. Would totally be down to beta test an autonomous car.                          </td></tr>\n",
       "</tbody>\n",
       "</table>\n"
      ],
      "text/latex": [
       "\\begin{tabular}{r|ll}\n",
       " sentiment & tweet\\\\\n",
       "\\hline\n",
       "\t 5                                                                                                                            & Two places I'd invest all my money if I could: 3D printing and Self-driving cars!!!                                         \\\\\n",
       "\t 5                                                                                                                            & Awesome! Google driverless cars will help the blind travel more often; https://t.co/QWuXR0FrBpv                             \\\\\n",
       "\t 5                                                                                                                              & Autonomous vehicles could reduce traffic fatalities by 90\\%...I'm in!                                                        \\\\\n",
       "\t 5                                                                                                                              & Really good presentation from Jan Becker on Bosch's automated vehicle research. \\#AutoAuto check it out                      \\\\\n",
       "\t 5                                                                                                                              & Ford just revealed it's Automated Ford Fusion Hybrid Vehicle. Pretty amazing. \\#fordtrends @ Ford Test http://t.co/7axya8ogIW\\\\\n",
       "\t 5                                                                                                                            & So yeah, just throwing this out there again. Would totally be down to beta test an autonomous car.                          \\\\\n",
       "\\end{tabular}\n"
      ],
      "text/markdown": [
       "\n",
       "sentiment | tweet | \n",
       "|---|---|---|---|---|---|\n",
       "| 5                                                                                                                            | Two places I'd invest all my money if I could: 3D printing and Self-driving cars!!!                                          | \n",
       "| 5                                                                                                                            | Awesome! Google driverless cars will help the blind travel more often; https://t.co/QWuXR0FrBpv                              | \n",
       "| 5                                                                                                                            | Autonomous vehicles could reduce traffic fatalities by 90%...I'm in!                                                         | \n",
       "| 5                                                                                                                            | Really good presentation from Jan Becker on Bosch's automated vehicle research. #AutoAuto check it out                       | \n",
       "| 5                                                                                                                            | Ford just revealed it's Automated Ford Fusion Hybrid Vehicle. Pretty amazing. #fordtrends @ Ford Test http://t.co/7axya8ogIW | \n",
       "| 5                                                                                                                            | So yeah, just throwing this out there again. Would totally be down to beta test an autonomous car.                           | \n",
       "\n",
       "\n"
      ],
      "text/plain": [
       "  sentiment\n",
       "1 5        \n",
       "2 5        \n",
       "3 5        \n",
       "4 5        \n",
       "5 5        \n",
       "6 5        \n",
       "  tweet                                                                                                                       \n",
       "1 Two places I'd invest all my money if I could: 3D printing and Self-driving cars!!!                                         \n",
       "2 Awesome! Google driverless cars will help the blind travel more often; https://t.co/QWuXR0FrBpv                             \n",
       "3 Autonomous vehicles could reduce traffic fatalities by 90%...I'm in!                                                        \n",
       "4 Really good presentation from Jan Becker on Bosch's automated vehicle research. #AutoAuto check it out                      \n",
       "5 Ford just revealed it's Automated Ford Fusion Hybrid Vehicle. Pretty amazing. #fordtrends @ Ford Test http://t.co/7axya8ogIW\n",
       "6 So yeah, just throwing this out there again. Would totally be down to beta test an autonomous car.                          "
      ]
     },
     "metadata": {},
     "output_type": "display_data"
    }
   ],
   "source": [
    "twitter <- read.csv(\"csv/twitter.csv\", stringsAsFactors = F) # prevents strings from being automatically read as factors\n",
    "str(twitter) # sentiments 1,2,4,5 - 5 = v. positive, 1= v. negative (why no sentiment 3 ??)\n",
    "head(twitter)"
   ]
  },
  {
   "cell_type": "markdown",
   "metadata": {},
   "source": [
    "For now, let us do binary classification. We will look at multiclass classfication later."
   ]
  },
  {
   "cell_type": "code",
   "execution_count": 9,
   "metadata": {},
   "outputs": [
    {
     "data": {
      "text/plain": [
       "\n",
       "FALSE  TRUE \n",
       " 1889   775 "
      ]
     },
     "metadata": {},
     "output_type": "display_data"
    }
   ],
   "source": [
    "twitter$Negative <- as.factor(twitter$sentiment <= 2)\n",
    "table(twitter$Negative)\n",
    "# there are 775 negative tweets..."
   ]
  },
  {
   "cell_type": "markdown",
   "metadata": {},
   "source": [
    "Now, we want to structure our text strings to make them easy to process, to do this we will enlist the help of 3rd-party packages."
   ]
  },
  {
   "cell_type": "code",
   "execution_count": 83,
   "metadata": {},
   "outputs": [
    {
     "data": {
      "text/plain": [
       "<<SimpleCorpus>>\n",
       "Metadata:  corpus specific: 1, document level (indexed): 0\n",
       "Content:  documents: 2664"
      ]
     },
     "metadata": {},
     "output_type": "display_data"
    },
    {
     "data": {
      "text/plain": [
       "<<PlainTextDocument>>\n",
       "Metadata:  7\n",
       "Content:  chars: 83"
      ]
     },
     "metadata": {},
     "output_type": "display_data"
    },
    {
     "data": {
      "text/html": [
       "'Two places I\\'d invest all my money if I could: 3D printing and Self-driving cars!!!'"
      ],
      "text/latex": [
       "'Two places I\\textbackslash{}'d invest all my money if I could: 3D printing and Self-driving cars!!!'"
      ],
      "text/markdown": [
       "'Two places I\\'d invest all my money if I could: 3D printing and Self-driving cars!!!'"
      ],
      "text/plain": [
       "[1] \"Two places I'd invest all my money if I could: 3D printing and Self-driving cars!!!\""
      ]
     },
     "metadata": {},
     "output_type": "display_data"
    }
   ],
   "source": [
    "# install.packages(\"tm\")\n",
    "# install.packages(\"SnowballC\")\n",
    "library(tm)\n",
    "\n",
    "# preprocessing to get around Linux string formatting bug\n",
    "# apply proper encoding for columns with datatype `string`\n",
    "twitter[,sapply(twitter,is.character)] <- sapply(\n",
    "    twitter[,sapply(twitter,is.character)],\n",
    "    iconv,\"WINDOWS-1252\",\"UTF-8\")\n",
    "\n",
    "# ?Corpus\n",
    "# create new corpus (structured database of text strings)\n",
    "corpus <- Corpus(VectorSource(twitter$tweet))\n",
    "corpus\n",
    "corpus[[1]]\n",
    "as.character(corpus[[1]])"
   ]
  },
  {
   "cell_type": "code",
   "execution_count": 84,
   "metadata": {},
   "outputs": [
    {
     "data": {
      "text/html": [
       "'two places i\\'d invest all my money if i could: 3d printing and self-driving cars!!!'"
      ],
      "text/latex": [
       "'two places i\\textbackslash{}'d invest all my money if i could: 3d printing and self-driving cars!!!'"
      ],
      "text/markdown": [
       "'two places i\\'d invest all my money if i could: 3d printing and self-driving cars!!!'"
      ],
      "text/plain": [
       "[1] \"two places i'd invest all my money if i could: 3d printing and self-driving cars!!!\""
      ]
     },
     "metadata": {},
     "output_type": "display_data"
    },
    {
     "data": {
      "text/html": [
       "<span style=white-space:pre-wrap>'two places  invest   money   : 3d printing  self-driving cars!!!'</span>"
      ],
      "text/latex": [
       "'two places  invest   money   : 3d printing  self-driving cars!!!'"
      ],
      "text/markdown": [
       "<span style=white-space:pre-wrap>'two places  invest   money   : 3d printing  self-driving cars!!!'</span>"
      ],
      "text/plain": [
       "[1] \"two places  invest   money   : 3d printing  self-driving cars!!!\""
      ]
     },
     "metadata": {},
     "output_type": "display_data"
    },
    {
     "data": {
      "text/html": [
       "<span style=white-space:pre-wrap>'two places  invest   money   : 3d printing   !!!'</span>"
      ],
      "text/latex": [
       "'two places  invest   money   : 3d printing   !!!'"
      ],
      "text/markdown": [
       "<span style=white-space:pre-wrap>'two places  invest   money   : 3d printing   !!!'</span>"
      ],
      "text/plain": [
       "[1] \"two places  invest   money   : 3d printing   !!!\""
      ]
     },
     "metadata": {},
     "output_type": "display_data"
    },
    {
     "data": {
      "text/html": [
       "<span style=white-space:pre-wrap>'two places  invest   money    3d printing   '</span>"
      ],
      "text/latex": [
       "'two places  invest   money    3d printing   '"
      ],
      "text/markdown": [
       "<span style=white-space:pre-wrap>'two places  invest   money    3d printing   '</span>"
      ],
      "text/plain": [
       "[1] \"two places  invest   money    3d printing   \""
      ]
     },
     "metadata": {},
     "output_type": "display_data"
    },
    {
     "data": {
      "text/html": [
       "'two place invest money 3d print'"
      ],
      "text/latex": [
       "'two place invest money 3d print'"
      ],
      "text/markdown": [
       "'two place invest money 3d print'"
      ],
      "text/plain": [
       "[1] \"two place invest money 3d print\""
      ]
     },
     "metadata": {},
     "output_type": "display_data"
    },
    {
     "data": {
      "text/html": [
       "'autonom vehicl reduc traffic fatal 90'"
      ],
      "text/latex": [
       "'autonom vehicl reduc traffic fatal 90'"
      ],
      "text/markdown": [
       "'autonom vehicl reduc traffic fatal 90'"
      ],
      "text/plain": [
       "[1] \"autonom vehicl reduc traffic fatal 90\""
      ]
     },
     "metadata": {},
     "output_type": "display_data"
    }
   ],
   "source": [
    "# lowercasing all words\n",
    "corpus <- tm_map(corpus, tolower)\n",
    "as.character(corpus[[1]])\n",
    "\n",
    "# dropping common pronouns, conjunctives, etc.\n",
    "# stopwords(\"english\") # check what are the stopwords defined in the package\n",
    "corpus <- tm_map(corpus, removeWords, stopwords(\"english\"))\n",
    "as.character(corpus[[1]])\n",
    "\n",
    "# dropping custom stopwords\n",
    "corpus <- tm_map(corpus, removeWords, c(\"drive\", \"driving\", \"driver\", \"self-driving\", \"car\", \"cars\"))\n",
    "as.character(corpus[[1]])\n",
    "\n",
    "# remove punctuations\n",
    "corpus <- tm_map(corpus, removePunctuation)\n",
    "as.character(corpus[[1]])\n",
    "\n",
    "# stemming words\n",
    "corpus <- tm_map(corpus, stemDocument)\n",
    "as.character(corpus[[1]])\n",
    "as.character(corpus[[3]])\n",
    "\n",
    "# you can also further remove numbers if you wish, depending on problem setting\n",
    "# we may want to preserve emoji as well if our problem context has a significant number of them"
   ]
  },
  {
   "cell_type": "markdown",
   "metadata": {},
   "source": [
    "Now, we will convert that corpus database automatically into a document-term matrix."
   ]
  },
  {
   "cell_type": "code",
   "execution_count": 56,
   "metadata": {},
   "outputs": [
    {
     "data": {
      "text/plain": [
       "<<DocumentTermMatrix (documents: 2664, terms: 5523)>>\n",
       "Non-/sparse entries: 21663/14691609\n",
       "Sparsity           : 100%\n",
       "Maximal term length: 7704\n",
       "Weighting          : term frequency (tf)"
      ]
     },
     "metadata": {},
     "output_type": "display_data"
    },
    {
     "name": "stdout",
     "output_type": "stream",
     "text": [
      "<<DocumentTermMatrix (documents: 1, terms: 5523)>>\n",
      "Non-/sparse entries: 5/5518\n",
      "Sparsity           : 100%\n",
      "Maximal term length: 7704\n",
      "Weighting          : term frequency (tf)\n",
      "Sample             :\n",
      "    Terms\n",
      "Docs awesom blind driverless googl help invest money place print two\n",
      "   1      0     0          0     0    0      1     1     1     1   1\n"
     ]
    },
    {
     "data": {
      "text/html": [
       "<ol class=list-inline>\n",
       "\t<li>'awesom'</li>\n",
       "\t<li>'driverless'</li>\n",
       "\t<li>'googl'</li>\n",
       "\t<li>'will'</li>\n",
       "\t<li>'autonom'</li>\n",
       "\t<li>'traffic'</li>\n",
       "\t<li>'vehicl'</li>\n",
       "\t<li>'good'</li>\n",
       "\t<li>'realli'</li>\n",
       "\t<li>'just'</li>\n",
       "\t<li>'now'</li>\n",
       "\t<li>'wait'</li>\n",
       "\t<li>'cool'</li>\n",
       "\t<li>'technolog'</li>\n",
       "\t<li>'first'</li>\n",
       "\t<li>'futur'</li>\n",
       "\t<li>'road'</li>\n",
       "\t<li>'say'</li>\n",
       "\t<li>'year'</li>\n",
       "\t<li>'human'</li>\n",
       "\t<li>'make'</li>\n",
       "\t<li>'one'</li>\n",
       "\t<li>'accid'</li>\n",
       "\t<li>'time'</li>\n",
       "\t<li>'want'</li>\n",
       "\t<li>'think'</li>\n",
       "\t<li>'thing'</li>\n",
       "\t<li>'new'</li>\n",
       "\t<li>'saw'</li>\n",
       "\t<li>'can'</li>\n",
       "\t<li>'get'</li>\n",
       "\t<li>'love'</li>\n",
       "\t<li>'see'</li>\n",
       "\t<li>'come'</li>\n",
       "\t<li>'use'</li>\n",
       "\t<li>'street'</li>\n",
       "\t<li>'way'</li>\n",
       "\t<li>'great'</li>\n",
       "\t<li>'via'</li>\n",
       "\t<li>'uber'</li>\n",
       "\t<li>'today'</li>\n",
       "\t<li>'take'</li>\n",
       "\t<li>'wheel'</li>\n",
       "\t<li>'ride'</li>\n",
       "\t<li>'like'</li>\n",
       "\t<li>'need'</li>\n",
       "\t<li>'peopl'</li>\n",
       "\t<li>'look'</li>\n",
       "\t<li>'amp'</li>\n",
       "\t<li>'driver'</li>\n",
       "\t<li>'self'</li>\n",
       "\t<li>'california'</li>\n",
       "\t<li>'work'</li>\n",
       "\t<li>'robot'</li>\n",
       "</ol>\n"
      ],
      "text/latex": [
       "\\begin{enumerate*}\n",
       "\\item 'awesom'\n",
       "\\item 'driverless'\n",
       "\\item 'googl'\n",
       "\\item 'will'\n",
       "\\item 'autonom'\n",
       "\\item 'traffic'\n",
       "\\item 'vehicl'\n",
       "\\item 'good'\n",
       "\\item 'realli'\n",
       "\\item 'just'\n",
       "\\item 'now'\n",
       "\\item 'wait'\n",
       "\\item 'cool'\n",
       "\\item 'technolog'\n",
       "\\item 'first'\n",
       "\\item 'futur'\n",
       "\\item 'road'\n",
       "\\item 'say'\n",
       "\\item 'year'\n",
       "\\item 'human'\n",
       "\\item 'make'\n",
       "\\item 'one'\n",
       "\\item 'accid'\n",
       "\\item 'time'\n",
       "\\item 'want'\n",
       "\\item 'think'\n",
       "\\item 'thing'\n",
       "\\item 'new'\n",
       "\\item 'saw'\n",
       "\\item 'can'\n",
       "\\item 'get'\n",
       "\\item 'love'\n",
       "\\item 'see'\n",
       "\\item 'come'\n",
       "\\item 'use'\n",
       "\\item 'street'\n",
       "\\item 'way'\n",
       "\\item 'great'\n",
       "\\item 'via'\n",
       "\\item 'uber'\n",
       "\\item 'today'\n",
       "\\item 'take'\n",
       "\\item 'wheel'\n",
       "\\item 'ride'\n",
       "\\item 'like'\n",
       "\\item 'need'\n",
       "\\item 'peopl'\n",
       "\\item 'look'\n",
       "\\item 'amp'\n",
       "\\item 'driver'\n",
       "\\item 'self'\n",
       "\\item 'california'\n",
       "\\item 'work'\n",
       "\\item 'robot'\n",
       "\\end{enumerate*}\n"
      ],
      "text/markdown": [
       "1. 'awesom'\n",
       "2. 'driverless'\n",
       "3. 'googl'\n",
       "4. 'will'\n",
       "5. 'autonom'\n",
       "6. 'traffic'\n",
       "7. 'vehicl'\n",
       "8. 'good'\n",
       "9. 'realli'\n",
       "10. 'just'\n",
       "11. 'now'\n",
       "12. 'wait'\n",
       "13. 'cool'\n",
       "14. 'technolog'\n",
       "15. 'first'\n",
       "16. 'futur'\n",
       "17. 'road'\n",
       "18. 'say'\n",
       "19. 'year'\n",
       "20. 'human'\n",
       "21. 'make'\n",
       "22. 'one'\n",
       "23. 'accid'\n",
       "24. 'time'\n",
       "25. 'want'\n",
       "26. 'think'\n",
       "27. 'thing'\n",
       "28. 'new'\n",
       "29. 'saw'\n",
       "30. 'can'\n",
       "31. 'get'\n",
       "32. 'love'\n",
       "33. 'see'\n",
       "34. 'come'\n",
       "35. 'use'\n",
       "36. 'street'\n",
       "37. 'way'\n",
       "38. 'great'\n",
       "39. 'via'\n",
       "40. 'uber'\n",
       "41. 'today'\n",
       "42. 'take'\n",
       "43. 'wheel'\n",
       "44. 'ride'\n",
       "45. 'like'\n",
       "46. 'need'\n",
       "47. 'peopl'\n",
       "48. 'look'\n",
       "49. 'amp'\n",
       "50. 'driver'\n",
       "51. 'self'\n",
       "52. 'california'\n",
       "53. 'work'\n",
       "54. 'robot'\n",
       "\n",
       "\n"
      ],
      "text/plain": [
       " [1] \"awesom\"     \"driverless\" \"googl\"      \"will\"       \"autonom\"   \n",
       " [6] \"traffic\"    \"vehicl\"     \"good\"       \"realli\"     \"just\"      \n",
       "[11] \"now\"        \"wait\"       \"cool\"       \"technolog\"  \"first\"     \n",
       "[16] \"futur\"      \"road\"       \"say\"        \"year\"       \"human\"     \n",
       "[21] \"make\"       \"one\"        \"accid\"      \"time\"       \"want\"      \n",
       "[26] \"think\"      \"thing\"      \"new\"        \"saw\"        \"can\"       \n",
       "[31] \"get\"        \"love\"       \"see\"        \"come\"       \"use\"       \n",
       "[36] \"street\"     \"way\"        \"great\"      \"via\"        \"uber\"      \n",
       "[41] \"today\"      \"take\"       \"wheel\"      \"ride\"       \"like\"      \n",
       "[46] \"need\"       \"peopl\"      \"look\"       \"amp\"        \"driver\"    \n",
       "[51] \"self\"       \"california\" \"work\"       \"robot\"     "
      ]
     },
     "metadata": {},
     "output_type": "display_data"
    },
    {
     "data": {
      "text/plain": [
       "<<DocumentTermMatrix (documents: 2664, terms: 1)>>\n",
       "Non-/sparse entries: 63/2601\n",
       "Sparsity           : 98%\n",
       "Maximal term length: 5\n",
       "Weighting          : term frequency (tf)"
      ]
     },
     "metadata": {},
     "output_type": "display_data"
    }
   ],
   "source": [
    "freq <- DocumentTermMatrix(corpus)\n",
    "freq # note that sparsity=100%\n",
    "\n",
    "inspect(freq[1,])\n",
    "findFreqTerms(freq, lowfreq=50)\n",
    "freq[,\"accid\"] # there are 63 non-zero entries for `accident`"
   ]
  },
  {
   "cell_type": "markdown",
   "metadata": {},
   "source": [
    "Now, the next thing we do is to remove terms that occur with too few observations, since to use them to predict sentiment will be challenging, or outright inaccurate."
   ]
  },
  {
   "cell_type": "code",
   "execution_count": 60,
   "metadata": {},
   "outputs": [
    {
     "data": {
      "text/plain": [
       "<<DocumentTermMatrix (documents: 2664, terms: 257)>>\n",
       "Non-/sparse entries: 11574/673074\n",
       "Sparsity           : 98%\n",
       "Maximal term length: 10\n",
       "Weighting          : term frequency (tf)"
      ]
     },
     "metadata": {},
     "output_type": "display_data"
    }
   ],
   "source": [
    "freq <- removeSparseTerms(freq, 0.995) # remove terms with at least 99.5% sparsity\n",
    "freq"
   ]
  },
  {
   "cell_type": "markdown",
   "metadata": {},
   "source": [
    "`freq` is now a fully preprocessed document-term matrix with 2664 documents and 257 terms."
   ]
  },
  {
   "cell_type": "code",
   "execution_count": 68,
   "metadata": {
    "scrolled": false
   },
   "outputs": [
    {
     "data": {
      "text/html": [
       "<table>\n",
       "<thead><tr><th scope=col>money</th><th scope=col>place</th><th scope=col>two</th><th scope=col>awesom</th><th scope=col>driverless</th><th scope=col>googl</th><th scope=col>help</th><th scope=col>will</th><th scope=col>autonom</th><th scope=col>reduc</th><th scope=col>⋯</th><th scope=col>sure</th><th scope=col>fleet</th><th scope=col>crash</th><th scope=col>safe</th><th scope=col>kill</th><th scope=col>abl</th><th scope=col>part</th><th scope=col>thought</th><th scope=col>mayb</th><th scope=col>worri</th></tr></thead>\n",
       "<tbody>\n",
       "\t<tr><td>1</td><td>1</td><td>1</td><td>0</td><td>0</td><td>0</td><td>0</td><td>0</td><td>0</td><td>0</td><td>⋯</td><td>0</td><td>0</td><td>0</td><td>0</td><td>0</td><td>0</td><td>0</td><td>0</td><td>0</td><td>0</td></tr>\n",
       "\t<tr><td>0</td><td>0</td><td>0</td><td>1</td><td>1</td><td>1</td><td>1</td><td>1</td><td>0</td><td>0</td><td>⋯</td><td>0</td><td>0</td><td>0</td><td>0</td><td>0</td><td>0</td><td>0</td><td>0</td><td>0</td><td>0</td></tr>\n",
       "\t<tr><td>0</td><td>0</td><td>0</td><td>0</td><td>0</td><td>0</td><td>0</td><td>0</td><td>1</td><td>1</td><td>⋯</td><td>0</td><td>0</td><td>0</td><td>0</td><td>0</td><td>0</td><td>0</td><td>0</td><td>0</td><td>0</td></tr>\n",
       "\t<tr><td>0</td><td>0</td><td>0</td><td>0</td><td>0</td><td>0</td><td>0</td><td>0</td><td>0</td><td>0</td><td>⋯</td><td>0</td><td>0</td><td>0</td><td>0</td><td>0</td><td>0</td><td>0</td><td>0</td><td>0</td><td>0</td></tr>\n",
       "\t<tr><td>0</td><td>0</td><td>0</td><td>0</td><td>0</td><td>0</td><td>0</td><td>0</td><td>0</td><td>0</td><td>⋯</td><td>0</td><td>0</td><td>0</td><td>0</td><td>0</td><td>0</td><td>0</td><td>0</td><td>0</td><td>0</td></tr>\n",
       "\t<tr><td>0</td><td>0</td><td>0</td><td>0</td><td>0</td><td>0</td><td>0</td><td>0</td><td>1</td><td>0</td><td>⋯</td><td>0</td><td>0</td><td>0</td><td>0</td><td>0</td><td>0</td><td>0</td><td>0</td><td>0</td><td>0</td></tr>\n",
       "</tbody>\n",
       "</table>\n"
      ],
      "text/latex": [
       "\\begin{tabular}{r|lllllllllllllllllllllllllllllllllllllllllllllllllllllllllllllllllllllllllllllllllllllllllllllllllllllllllllllllllllllllllllllllllllllllllllllllllllllllllllllllllllllllllllllllllllllllllllllllllllllllllllllllllllllllllllllllllllllllllllllllllllllllllllllllll}\n",
       " money & place & two & awesom & driverless & googl & help & will & autonom & reduc & ⋯ & sure & fleet & crash & safe & kill & abl & part & thought & mayb & worri\\\\\n",
       "\\hline\n",
       "\t 1 & 1 & 1 & 0 & 0 & 0 & 0 & 0 & 0 & 0 & ⋯ & 0 & 0 & 0 & 0 & 0 & 0 & 0 & 0 & 0 & 0\\\\\n",
       "\t 0 & 0 & 0 & 1 & 1 & 1 & 1 & 1 & 0 & 0 & ⋯ & 0 & 0 & 0 & 0 & 0 & 0 & 0 & 0 & 0 & 0\\\\\n",
       "\t 0 & 0 & 0 & 0 & 0 & 0 & 0 & 0 & 1 & 1 & ⋯ & 0 & 0 & 0 & 0 & 0 & 0 & 0 & 0 & 0 & 0\\\\\n",
       "\t 0 & 0 & 0 & 0 & 0 & 0 & 0 & 0 & 0 & 0 & ⋯ & 0 & 0 & 0 & 0 & 0 & 0 & 0 & 0 & 0 & 0\\\\\n",
       "\t 0 & 0 & 0 & 0 & 0 & 0 & 0 & 0 & 0 & 0 & ⋯ & 0 & 0 & 0 & 0 & 0 & 0 & 0 & 0 & 0 & 0\\\\\n",
       "\t 0 & 0 & 0 & 0 & 0 & 0 & 0 & 0 & 1 & 0 & ⋯ & 0 & 0 & 0 & 0 & 0 & 0 & 0 & 0 & 0 & 0\\\\\n",
       "\\end{tabular}\n"
      ],
      "text/markdown": [
       "\n",
       "money | place | two | awesom | driverless | googl | help | will | autonom | reduc | ⋯ | sure | fleet | crash | safe | kill | abl | part | thought | mayb | worri | \n",
       "|---|---|---|---|---|---|\n",
       "| 1 | 1 | 1 | 0 | 0 | 0 | 0 | 0 | 0 | 0 | ⋯ | 0 | 0 | 0 | 0 | 0 | 0 | 0 | 0 | 0 | 0 | \n",
       "| 0 | 0 | 0 | 1 | 1 | 1 | 1 | 1 | 0 | 0 | ⋯ | 0 | 0 | 0 | 0 | 0 | 0 | 0 | 0 | 0 | 0 | \n",
       "| 0 | 0 | 0 | 0 | 0 | 0 | 0 | 0 | 1 | 1 | ⋯ | 0 | 0 | 0 | 0 | 0 | 0 | 0 | 0 | 0 | 0 | \n",
       "| 0 | 0 | 0 | 0 | 0 | 0 | 0 | 0 | 0 | 0 | ⋯ | 0 | 0 | 0 | 0 | 0 | 0 | 0 | 0 | 0 | 0 | \n",
       "| 0 | 0 | 0 | 0 | 0 | 0 | 0 | 0 | 0 | 0 | ⋯ | 0 | 0 | 0 | 0 | 0 | 0 | 0 | 0 | 0 | 0 | \n",
       "| 0 | 0 | 0 | 0 | 0 | 0 | 0 | 0 | 1 | 0 | ⋯ | 0 | 0 | 0 | 0 | 0 | 0 | 0 | 0 | 0 | 0 | \n",
       "\n",
       "\n"
      ],
      "text/plain": [
       "  money place two awesom driverless googl help will autonom reduc ⋯ sure fleet\n",
       "1 1     1     1   0      0          0     0    0    0       0     ⋯ 0    0    \n",
       "2 0     0     0   1      1          1     1    1    0       0     ⋯ 0    0    \n",
       "3 0     0     0   0      0          0     0    0    1       1     ⋯ 0    0    \n",
       "4 0     0     0   0      0          0     0    0    0       0     ⋯ 0    0    \n",
       "5 0     0     0   0      0          0     0    0    0       0     ⋯ 0    0    \n",
       "6 0     0     0   0      0          0     0    0    1       0     ⋯ 0    0    \n",
       "  crash safe kill abl part thought mayb worri\n",
       "1 0     0    0    0   0    0       0    0    \n",
       "2 0     0    0    0   0    0       0    0    \n",
       "3 0     0    0    0   0    0       0    0    \n",
       "4 0     0    0    0   0    0       0    0    \n",
       "5 0     0    0    0   0    0       0    0    \n",
       "6 0     0    0    0   0    0       0    0    "
      ]
     },
     "metadata": {},
     "output_type": "display_data"
    },
    {
     "data": {
      "text/html": [
       "<table>\n",
       "<thead><tr><th scope=col>money</th><th scope=col>place</th><th scope=col>two</th><th scope=col>awesom</th><th scope=col>driverless</th><th scope=col>googl</th><th scope=col>help</th><th scope=col>will</th><th scope=col>autonom</th><th scope=col>reduc</th><th scope=col>⋯</th><th scope=col>fleet</th><th scope=col>crash</th><th scope=col>safe</th><th scope=col>kill</th><th scope=col>abl</th><th scope=col>part</th><th scope=col>thought</th><th scope=col>mayb</th><th scope=col>worri</th><th scope=col>Neg</th></tr></thead>\n",
       "<tbody>\n",
       "\t<tr><td>1    </td><td>1    </td><td>1    </td><td>0    </td><td>0    </td><td>0    </td><td>0    </td><td>0    </td><td>0    </td><td>0    </td><td>⋯    </td><td>0    </td><td>0    </td><td>0    </td><td>0    </td><td>0    </td><td>0    </td><td>0    </td><td>0    </td><td>0    </td><td>FALSE</td></tr>\n",
       "\t<tr><td>0    </td><td>0    </td><td>0    </td><td>1    </td><td>1    </td><td>1    </td><td>1    </td><td>1    </td><td>0    </td><td>0    </td><td>⋯    </td><td>0    </td><td>0    </td><td>0    </td><td>0    </td><td>0    </td><td>0    </td><td>0    </td><td>0    </td><td>0    </td><td>FALSE</td></tr>\n",
       "\t<tr><td>0    </td><td>0    </td><td>0    </td><td>0    </td><td>0    </td><td>0    </td><td>0    </td><td>0    </td><td>1    </td><td>1    </td><td>⋯    </td><td>0    </td><td>0    </td><td>0    </td><td>0    </td><td>0    </td><td>0    </td><td>0    </td><td>0    </td><td>0    </td><td>FALSE</td></tr>\n",
       "\t<tr><td>0    </td><td>0    </td><td>0    </td><td>0    </td><td>0    </td><td>0    </td><td>0    </td><td>0    </td><td>0    </td><td>0    </td><td>⋯    </td><td>0    </td><td>0    </td><td>0    </td><td>0    </td><td>0    </td><td>0    </td><td>0    </td><td>0    </td><td>0    </td><td>FALSE</td></tr>\n",
       "\t<tr><td>0    </td><td>0    </td><td>0    </td><td>0    </td><td>0    </td><td>0    </td><td>0    </td><td>0    </td><td>0    </td><td>0    </td><td>⋯    </td><td>0    </td><td>0    </td><td>0    </td><td>0    </td><td>0    </td><td>0    </td><td>0    </td><td>0    </td><td>0    </td><td>FALSE</td></tr>\n",
       "\t<tr><td>0    </td><td>0    </td><td>0    </td><td>0    </td><td>0    </td><td>0    </td><td>0    </td><td>0    </td><td>1    </td><td>0    </td><td>⋯    </td><td>0    </td><td>0    </td><td>0    </td><td>0    </td><td>0    </td><td>0    </td><td>0    </td><td>0    </td><td>0    </td><td>FALSE</td></tr>\n",
       "</tbody>\n",
       "</table>\n"
      ],
      "text/latex": [
       "\\begin{tabular}{r|llllllllllllllllllllllllllllllllllllllllllllllllllllllllllllllllllllllllllllllllllllllllllllllllllllllllllllllllllllllllllllllllllllllllllllllllllllllllllllllllllllllllllllllllllllllllllllllllllllllllllllllllllllllllllllllllllllllllllllllllllllllllllllllllll}\n",
       " money & place & two & awesom & driverless & googl & help & will & autonom & reduc & ⋯ & fleet & crash & safe & kill & abl & part & thought & mayb & worri & Neg\\\\\n",
       "\\hline\n",
       "\t 1     & 1     & 1     & 0     & 0     & 0     & 0     & 0     & 0     & 0     & ⋯     & 0     & 0     & 0     & 0     & 0     & 0     & 0     & 0     & 0     & FALSE\\\\\n",
       "\t 0     & 0     & 0     & 1     & 1     & 1     & 1     & 1     & 0     & 0     & ⋯     & 0     & 0     & 0     & 0     & 0     & 0     & 0     & 0     & 0     & FALSE\\\\\n",
       "\t 0     & 0     & 0     & 0     & 0     & 0     & 0     & 0     & 1     & 1     & ⋯     & 0     & 0     & 0     & 0     & 0     & 0     & 0     & 0     & 0     & FALSE\\\\\n",
       "\t 0     & 0     & 0     & 0     & 0     & 0     & 0     & 0     & 0     & 0     & ⋯     & 0     & 0     & 0     & 0     & 0     & 0     & 0     & 0     & 0     & FALSE\\\\\n",
       "\t 0     & 0     & 0     & 0     & 0     & 0     & 0     & 0     & 0     & 0     & ⋯     & 0     & 0     & 0     & 0     & 0     & 0     & 0     & 0     & 0     & FALSE\\\\\n",
       "\t 0     & 0     & 0     & 0     & 0     & 0     & 0     & 0     & 1     & 0     & ⋯     & 0     & 0     & 0     & 0     & 0     & 0     & 0     & 0     & 0     & FALSE\\\\\n",
       "\\end{tabular}\n"
      ],
      "text/markdown": [
       "\n",
       "money | place | two | awesom | driverless | googl | help | will | autonom | reduc | ⋯ | fleet | crash | safe | kill | abl | part | thought | mayb | worri | Neg | \n",
       "|---|---|---|---|---|---|\n",
       "| 1     | 1     | 1     | 0     | 0     | 0     | 0     | 0     | 0     | 0     | ⋯     | 0     | 0     | 0     | 0     | 0     | 0     | 0     | 0     | 0     | FALSE | \n",
       "| 0     | 0     | 0     | 1     | 1     | 1     | 1     | 1     | 0     | 0     | ⋯     | 0     | 0     | 0     | 0     | 0     | 0     | 0     | 0     | 0     | FALSE | \n",
       "| 0     | 0     | 0     | 0     | 0     | 0     | 0     | 0     | 1     | 1     | ⋯     | 0     | 0     | 0     | 0     | 0     | 0     | 0     | 0     | 0     | FALSE | \n",
       "| 0     | 0     | 0     | 0     | 0     | 0     | 0     | 0     | 0     | 0     | ⋯     | 0     | 0     | 0     | 0     | 0     | 0     | 0     | 0     | 0     | FALSE | \n",
       "| 0     | 0     | 0     | 0     | 0     | 0     | 0     | 0     | 0     | 0     | ⋯     | 0     | 0     | 0     | 0     | 0     | 0     | 0     | 0     | 0     | FALSE | \n",
       "| 0     | 0     | 0     | 0     | 0     | 0     | 0     | 0     | 1     | 0     | ⋯     | 0     | 0     | 0     | 0     | 0     | 0     | 0     | 0     | 0     | FALSE | \n",
       "\n",
       "\n"
      ],
      "text/plain": [
       "  money place two awesom driverless googl help will autonom reduc ⋯ fleet crash\n",
       "1 1     1     1   0      0          0     0    0    0       0     ⋯ 0     0    \n",
       "2 0     0     0   1      1          1     1    1    0       0     ⋯ 0     0    \n",
       "3 0     0     0   0      0          0     0    0    1       1     ⋯ 0     0    \n",
       "4 0     0     0   0      0          0     0    0    0       0     ⋯ 0     0    \n",
       "5 0     0     0   0      0          0     0    0    0       0     ⋯ 0     0    \n",
       "6 0     0     0   0      0          0     0    0    1       0     ⋯ 0     0    \n",
       "  safe kill abl part thought mayb worri Neg  \n",
       "1 0    0    0   0    0       0    0     FALSE\n",
       "2 0    0    0   0    0       0    0     FALSE\n",
       "3 0    0    0   0    0       0    0     FALSE\n",
       "4 0    0    0   0    0       0    0     FALSE\n",
       "5 0    0    0   0    0       0    0     FALSE\n",
       "6 0    0    0   0    0       0    0     FALSE"
      ]
     },
     "metadata": {},
     "output_type": "display_data"
    }
   ],
   "source": [
    "twittersparse <- as.data.frame(as.matrix(freq))\n",
    "# str(twittersparse)\n",
    "head(twittersparse)\n",
    "\n",
    "# ensure names are well-defined for columns\n",
    "# e.g. var names cannot start with numbers in any programming language\n",
    "colnames(twittersparse) <- make.names(colnames(twittersparse))\n",
    "\n",
    "# include y-var in new dataframe\n",
    "twittersparse$Neg <- twitter$Negative\n",
    "head(twittersparse)"
   ]
  },
  {
   "cell_type": "markdown",
   "metadata": {},
   "source": [
    "Now, we're done! We can now apply any of our preferred prediction technique for predicting sentiment of each tweet!"
   ]
  },
  {
   "cell_type": "markdown",
   "metadata": {},
   "source": [
    "### Building simple model (logistic regression)"
   ]
  },
  {
   "cell_type": "markdown",
   "metadata": {},
   "source": [
    "Now, let us build a baseline logistic regression model to see the results"
   ]
  },
  {
   "cell_type": "code",
   "execution_count": 85,
   "metadata": {
    "collapsed": true
   },
   "outputs": [],
   "source": [
    "library(caTools)\n",
    "set.seed(123)\n",
    "spl <- sample.split(twittersparse$Neg, SplitRatio=0.7)\n",
    "train <- subset(twittersparse, spl==T)\n",
    "test <- subset(twittersparse, spl==F)"
   ]
  },
  {
   "cell_type": "code",
   "execution_count": 74,
   "metadata": {
    "scrolled": false
   },
   "outputs": [
    {
     "name": "stderr",
     "output_type": "stream",
     "text": [
      "Warning message:\n",
      "“glm.fit: fitted probabilities numerically 0 or 1 occurred”"
     ]
    },
    {
     "data": {
      "text/plain": [
       "\n",
       "Call:\n",
       "glm(formula = Neg ~ ., family = binomial, data = train)\n",
       "\n",
       "Deviance Residuals: \n",
       "    Min       1Q   Median       3Q      Max  \n",
       "-3.4289  -0.6886  -0.2697   0.4826   2.9667  \n",
       "\n",
       "Coefficients:\n",
       "              Estimate Std. Error z value Pr(>|z|)    \n",
       "(Intercept) -5.173e-01  1.515e-01  -3.413 0.000642 ***\n",
       "money        6.682e-02  9.659e-01   0.069 0.944849    \n",
       "place        1.074e+00  1.042e+00   1.031 0.302544    \n",
       "two          3.958e-01  8.361e-01   0.473 0.635927    \n",
       "awesom      -3.130e+00  1.095e+00  -2.858 0.004269 ** \n",
       "driverless   5.470e-01  1.737e-01   3.149 0.001636 ** \n",
       "googl       -2.438e-01  1.442e-01  -1.691 0.090913 .  \n",
       "help        -8.099e-02  8.797e-01  -0.092 0.926641    \n",
       "will        -1.833e-01  2.357e-01  -0.778 0.436722    \n",
       "autonom      2.428e-01  4.080e-01   0.595 0.551788    \n",
       "reduc       -2.635e+00  1.322e+00  -1.994 0.046191 *  \n",
       "traffic     -1.530e+00  7.963e-01  -1.921 0.054700 .  \n",
       "vehicl      -5.735e-01  4.034e-01  -1.422 0.155062    \n",
       "check       -1.668e+01  1.043e+03  -0.016 0.987242    \n",
       "good        -7.239e-01  5.426e-01  -1.334 0.182202    \n",
       "realli      -7.343e-02  4.884e-01  -0.150 0.880484    \n",
       "amaz        -1.734e+01  7.233e+02  -0.024 0.980870    \n",
       "just         3.432e-01  2.938e-01   1.168 0.242825    \n",
       "pretti      -5.690e-01  9.599e-01  -0.593 0.553333    \n",
       "test        -6.860e-01  6.730e-01  -1.019 0.308060    \n",
       "total       -1.845e+01  1.109e+03  -0.017 0.986728    \n",
       "appl         3.353e-02  9.404e-01   0.036 0.971559    \n",
       "control      7.140e-01  7.863e-01   0.908 0.363860    \n",
       "smart        1.495e-01  8.754e-01   0.171 0.864422    \n",
       "hour        -9.010e-01  8.395e-01  -1.073 0.283135    \n",
       "now         -1.375e+00  4.285e-01  -3.209 0.001332 ** \n",
       "wait        -2.426e+00  5.618e-01  -4.318 1.57e-05 ***\n",
       "cool        -2.616e+00  5.860e-01  -4.464 8.03e-06 ***\n",
       "technolog    8.259e-01  4.782e-01   1.727 0.084169 .  \n",
       "final       -1.723e+01  9.286e+02  -0.019 0.985199    \n",
       "caus         1.490e+00  9.392e-01   1.586 0.112730    \n",
       "drive       -1.128e+00  1.171e+00  -0.963 0.335370    \n",
       "sleep       -2.266e+00  1.394e+00  -1.625 0.104165    \n",
       "free         5.991e-01  1.018e+00   0.589 0.556183    \n",
       "insur       -1.626e-01  6.588e-01  -0.247 0.805084    \n",
       "build        6.805e-01  8.030e-01   0.847 0.396761    \n",
       "first       -4.040e-01  5.154e-01  -0.784 0.433081    \n",
       "futur       -1.106e+00  3.911e-01  -2.827 0.004696 ** \n",
       "hope        -1.667e+00  6.713e-01  -2.484 0.013009 *  \n",
       "near        -2.092e+00  1.177e+00  -1.777 0.075593 .  \n",
       "believ       1.215e+00  1.170e+00   1.039 0.298906    \n",
       "life         5.861e-01  1.073e+00   0.546 0.584777    \n",
       "tech         7.323e-01  5.476e-01   1.337 0.181122    \n",
       "electr      -1.092e+00  1.224e+00  -0.892 0.372320    \n",
       "road         6.852e-01  3.718e-01   1.843 0.065323 .  \n",
       "say          2.983e-01  4.578e-01   0.652 0.514622    \n",
       "tesla       -1.536e+00  8.754e-01  -1.754 0.079361 .  \n",
       "year        -1.385e+00  7.588e-01  -1.825 0.068009 .  \n",
       "yes         -1.412e+00  1.116e+00  -1.266 0.205557    \n",
       "driven       9.571e-02  8.527e-01   0.112 0.910636    \n",
       "human        8.524e-01  4.772e-01   1.786 0.074089 .  \n",
       "hurri       -1.072e+00  8.946e-01  -1.198 0.230870    \n",
       "make         7.346e-01  3.498e-01   2.100 0.035702 *  \n",
       "one         -4.595e-02  2.923e-01  -0.157 0.875058    \n",
       "pleas       -1.414e+00  1.056e+00  -1.339 0.180639    \n",
       "right       -5.702e-01  5.791e-01  -0.985 0.324818    \n",
       "wish        -2.438e+00  1.243e+00  -1.962 0.049796 *  \n",
       "accid        1.208e+00  5.694e-01   2.121 0.033904 *  \n",
       "let          8.675e-01  8.013e-01   1.083 0.278973    \n",
       "save        -6.928e-01  7.585e-01  -0.913 0.361078    \n",
       "time         3.020e-02  4.605e-01   0.066 0.947705    \n",
       "citi        -2.058e+00  8.670e-01  -2.374 0.017585 *  \n",
       "live        -1.337e+00  7.472e-01  -1.789 0.073583 .  \n",
       "want        -6.681e-01  3.069e-01  -2.177 0.029488 *  \n",
       "happen       1.992e-01  6.130e-01   0.325 0.745183    \n",
       "innov       -2.084e+00  8.632e-01  -2.414 0.015789 *  \n",
       "think        5.108e-01  3.274e-01   1.560 0.118687    \n",
       "X300k       -2.515e+00  1.633e+00  -1.540 0.123590    \n",
       "complet     -1.234e+00  9.303e-01  -1.326 0.184691    \n",
       "hit         -4.471e-01  5.824e-01  -0.768 0.442645    \n",
       "invent      -3.386e-01  9.707e-01  -0.349 0.727219    \n",
       "mile        -7.662e-01  1.238e+00  -0.619 0.536069    \n",
       "worth       -4.259e-01  9.515e-01  -0.448 0.654454    \n",
       "thing        6.533e-01  4.328e-01   1.509 0.131242    \n",
       "audi        -1.455e+00  1.105e+00  -1.317 0.187939    \n",
       "less         1.316e-01  4.597e-01   0.286 0.774602    \n",
       "new          4.140e-01  4.553e-01   0.909 0.363177    \n",
       "park        -1.031e-01  5.785e-01  -0.178 0.858554    \n",
       "saw         -1.590e+00  4.915e-01  -3.234 0.001221 ** \n",
       "can         -6.756e-01  3.479e-01  -1.942 0.052112 .  \n",
       "end          7.260e-01  8.221e-01   0.883 0.377220    \n",
       "get          3.661e-01  2.886e-01   1.268 0.204706    \n",
       "big          2.685e-01  9.180e-01   0.292 0.769965    \n",
       "love        -1.773e+00  5.968e-01  -2.970 0.002978 ** \n",
       "better      -1.956e+00  6.881e-01  -2.842 0.004478 ** \n",
       "chang       -1.165e+00  9.175e-01  -1.269 0.204264    \n",
       "much        -3.699e-01  4.997e-01  -0.740 0.459113    \n",
       "see          1.601e-01  4.234e-01   0.378 0.705327    \n",
       "auto        -2.019e+00  9.511e-01  -2.123 0.033786 *  \n",
       "come        -5.839e-01  4.898e-01  -1.192 0.233188    \n",
       "death        5.348e-01  9.123e-01   0.586 0.557759    \n",
       "enough      -6.663e-01  6.936e-01  -0.961 0.336702    \n",
       "lol          3.823e-01  8.889e-01   0.430 0.667156    \n",
       "soon        -1.643e+00  7.286e-01  -2.255 0.024126 *  \n",
       "use          7.945e-01  4.827e-01   1.646 0.099777 .  \n",
       "alreadi      4.500e-03  5.973e-01   0.008 0.993989    \n",
       "readi       -7.326e-01  6.671e-01  -1.098 0.272137    \n",
       "street       2.934e-01  6.536e-01   0.449 0.653501    \n",
       "way          3.831e-03  3.952e-01   0.010 0.992265    \n",
       "great       -1.248e+00  5.436e-01  -2.296 0.021697 *  \n",
       "fast        -2.294e-01  1.033e+00  -0.222 0.824350    \n",
       "thank       -4.497e-01  6.339e-01  -0.709 0.478088    \n",
       "via          4.941e-01  4.823e-01   1.025 0.305582    \n",
       "day         -2.308e-01  5.799e-01  -0.398 0.690631    \n",
       "uber        -2.302e+00  6.707e-01  -3.433 0.000598 ***\n",
       "next.        3.798e-01  7.815e-01   0.486 0.626991    \n",
       "morn        -2.043e+00  1.145e+00  -1.784 0.074390 .  \n",
       "excit       -3.441e+00  1.201e+00  -2.865 0.004173 ** \n",
       "today        1.794e-01  5.127e-01   0.350 0.726436    \n",
       "bring       -3.171e-01  9.243e-01  -0.343 0.731568    \n",
       "stop         8.085e-02  6.574e-01   0.123 0.902113    \n",
       "week        -1.587e+00  1.093e+00  -1.452 0.146593    \n",
       "best        -1.909e+01  8.370e+02  -0.023 0.981800    \n",
       "train       -2.069e-01  7.627e-01  -0.271 0.786214    \n",
       "world       -2.496e-01  7.893e-01  -0.316 0.751837    \n",
       "video        1.256e+00  8.033e-01   1.564 0.117839    \n",
       "call         3.557e+00  1.297e+00   2.743 0.006096 ** \n",
       "take         5.984e-01  3.796e-01   1.576 0.114990    \n",
       "tell         1.874e+00  1.351e+00   1.387 0.165299    \n",
       "probabl     -1.102e-01  6.756e-01  -0.163 0.870386    \n",
       "taxi         7.321e-01  6.460e-01   1.133 0.257088    \n",
       "prototyp    -7.606e-01  8.534e-01  -0.891 0.372771    \n",
       "brake        6.413e-01  9.385e-01   0.683 0.494384    \n",
       "steer       -8.259e-01  9.830e-01  -0.840 0.400833    \n",
       "wheel        9.464e-01  8.409e-01   1.125 0.260398    \n",
       "ride         1.266e-01  5.386e-01   0.235 0.814152    \n",
       "idea         3.403e-01  5.196e-01   0.655 0.512529    \n",
       "like         6.172e-01  3.076e-01   2.007 0.044797 *  \n",
       "someon       4.256e-01  7.331e-01   0.581 0.561540    \n",
       "need        -7.667e-01  3.147e-01  -2.436 0.014831 *  \n",
       "mani         2.072e+00  8.808e-01   2.353 0.018643 *  \n",
       "bad         -5.352e-01  7.109e-01  -0.753 0.451563    \n",
       "also        -6.524e-01  7.773e-01  -0.839 0.401338    \n",
       "drunk       -2.827e-01  9.555e-01  -0.296 0.767365    \n",
       "peopl        7.568e-03  3.943e-01   0.019 0.984686    \n",
       "elimin      -1.706e+01  1.099e+03  -0.016 0.987611    \n",
       "look         3.138e-01  4.243e-01   0.740 0.459516    \n",
       "program     -5.246e-01  9.736e-01  -0.539 0.590009    \n",
       "watch       -1.437e+00  7.802e-01  -1.842 0.065494 .  \n",
       "actual       1.078e+00  6.931e-01   1.555 0.120035    \n",
       "amp          3.039e-01  4.880e-01   0.623 0.533418    \n",
       "driver       6.969e-01  4.911e-01   1.419 0.155871    \n",
       "glass       -9.462e-01  6.890e-01  -1.373 0.169700    \n",
       "becom       -2.354e-01  6.809e-01  -0.346 0.729603    \n",
       "instead      3.430e-01  9.483e-01   0.362 0.717534    \n",
       "real        -5.582e-01  9.206e-01  -0.606 0.544290    \n",
       "imagin      -6.338e-01  9.792e-01  -0.647 0.517476    \n",
       "last         2.244e-01  1.055e+00   0.213 0.831519    \n",
       "self         3.333e-01  1.732e-01   1.925 0.054287 .  \n",
       "share       -1.790e+00  1.275e+00  -1.403 0.160494    \n",
       "safer       -2.039e+00  7.945e-01  -2.566 0.010288 *  \n",
       "fun         -8.648e-01  6.951e-01  -1.244 0.213470    \n",
       "ever        -8.578e-01  8.064e-01  -1.064 0.287464    \n",
       "guy          2.755e-01  9.405e-01   0.293 0.769563    \n",
       "X2020       -4.772e-01  8.437e-01  -0.566 0.571615    \n",
       "wire         1.527e-01  1.228e+00   0.124 0.901046    \n",
       "almost       5.175e-01  7.152e-01   0.724 0.469358    \n",
       "still       -2.619e-01  5.723e-01  -0.458 0.647200    \n",
       "even         1.503e+00  6.482e-01   2.319 0.020381 *  \n",
       "wow         -2.561e+00  1.112e+00  -2.303 0.021306 *  \n",
       "california  -1.245e-01  5.132e-01  -0.243 0.808289    \n",
       "legal        2.965e-02  4.656e-01   0.064 0.949213    \n",
       "seen        -1.978e+00  1.032e+00  -1.916 0.055418 .  \n",
       "forward     -2.492e+00  1.144e+00  -2.179 0.029354 *  \n",
       "talk         5.632e-01  7.087e-01   0.795 0.426740    \n",
       "feel         7.873e-01  9.873e-01   0.797 0.425214    \n",
       "mountain    -1.658e+01  1.001e+03  -0.017 0.986783    \n",
       "pass        -9.219e-02  5.289e-01  -0.174 0.861618    \n",
       "view         9.506e-02  1.096e+00   0.087 0.930870    \n",
       "away         1.330e+00  8.377e-01   1.588 0.112259    \n",
       "lexus       -1.324e-01  9.186e-01  -0.144 0.885430    \n",
       "turn         1.424e+00  8.666e-01   1.643 0.100438    \n",
       "drove       -7.141e-01  1.169e+00  -0.611 0.541172    \n",
       "transport    1.309e-01  6.543e-01   0.200 0.841454    \n",
       "design      -5.465e-02  1.019e+00  -0.054 0.957228    \n",
       "might        1.044e-01  9.434e-01   0.111 0.911927    \n",
       "start        1.045e+00  7.808e-01   1.338 0.180954    \n",
       "around      -5.334e-01  5.370e-01  -0.993 0.320556    \n",
       "hand        -7.507e-01  8.322e-01  -0.902 0.367057    \n",
       "show        -7.577e-01  1.170e+00  -0.647 0.517347    \n",
       "work         4.288e-01  4.635e-01   0.925 0.354873    \n",
       "well        -4.122e-02  8.880e-01  -0.046 0.962980    \n",
       "map         -1.337e-01  8.042e-01  -0.166 0.867919    \n",
       "dream       -4.356e-01  6.287e-01  -0.693 0.488447    \n",
       "anyon        1.592e+00  9.395e-01   1.694 0.090250 .  \n",
       "robot        9.233e-01  4.513e-01   2.046 0.040763 *  \n",
       "sign        -4.280e-01  8.481e-01  -0.505 0.613782    \n",
       "omg         -3.319e+00  2.552e+00  -1.301 0.193323    \n",
       "project     -1.579e+01  1.055e+03  -0.015 0.988061    \n",
       "anoth       -1.122e+00  1.240e+00  -0.905 0.365490    \n",
       "reason       3.482e-01  1.080e+00   0.322 0.747082    \n",
       "unveil      -3.284e-01  1.137e+00  -0.289 0.772669    \n",
       "cute        -1.209e+00  6.669e-01  -1.813 0.069780 .  \n",
       "without     -1.275e+00  8.373e-01  -1.523 0.127691    \n",
       "buy         -5.079e-01  7.575e-01  -0.670 0.502550    \n",
       "never        1.430e+00  5.626e-01   2.541 0.011040 *  \n",
       "home        -9.525e-01  8.614e-01  -1.106 0.268808    \n",
       "move         3.944e-02  8.297e-01   0.048 0.962085    \n",
       "give        -1.651e-02  7.895e-01  -0.021 0.983315    \n",
       "spot         9.641e-01  8.534e-01   1.130 0.258556    \n",
       "pic         -2.693e+00  1.466e+00  -1.837 0.066209 .  \n",
       "back        -2.032e-01  7.649e-01  -0.266 0.790552    \n",
       "shit         1.535e+00  7.698e-01   1.995 0.046088 *  \n",
       "mean        -3.758e-02  6.285e-01  -0.060 0.952323    \n",
       "step        -1.321e+00  1.364e+00  -0.969 0.332699    \n",
       "compani      4.549e-01  8.593e-01   0.529 0.596541    \n",
       "commut      -2.721e+00  1.454e+00  -1.872 0.061241 .  \n",
       "know        -3.378e-01  6.263e-01  -0.539 0.589616    \n",
       "job          3.941e+00  9.268e-01   4.252 2.11e-05 ***\n",
       "far          9.810e-01  9.662e-01   1.015 0.309951    \n",
       "problem      6.604e-01  5.233e-01   1.262 0.206905    \n",
       "seem         1.536e+00  6.552e-01   2.345 0.019052 *  \n",
       "solut       -3.239e+00  1.403e+00  -2.309 0.020935 *  \n",
       "market      -7.585e-01  8.094e-01  -0.937 0.348718    \n",
       "read         5.521e-01  6.505e-01   0.849 0.396022    \n",
       "comput       9.354e-02  9.370e-01   0.100 0.920479    \n",
       "put          3.870e-01  7.734e-01   0.500 0.616832    \n",
       "behind       3.716e-01  7.612e-01   0.488 0.625401    \n",
       "got         -3.181e-01  7.173e-01  -0.443 0.657479    \n",
       "master      -1.287e+00  1.012e+00  -1.272 0.203454    \n",
       "busi        -1.973e+00  1.152e+00  -1.713 0.086785 .  \n",
       "wonder       1.230e+00  9.126e-01   1.348 0.177581    \n",
       "long        -6.055e-01  7.489e-01  -0.809 0.418768    \n",
       "interest    -1.017e+00  7.242e-01  -1.405 0.160037    \n",
       "phone       -9.239e-01  9.844e-01  -0.938 0.347990    \n",
       "public       3.736e-01  7.887e-01   0.474 0.635714    \n",
       "verg        -1.078e+00  1.384e+00  -0.779 0.436092    \n",
       "major        1.274e+00  1.018e+00   1.251 0.210902    \n",
       "lot          1.953e+00  9.649e-01   2.024 0.042922 *  \n",
       "solv        -1.258e+00  1.006e+00  -1.250 0.211376    \n",
       "news        -8.251e-01  8.081e-01  -1.021 0.307187    \n",
       "drone        1.137e+00  8.327e-01   1.366 0.171961    \n",
       "highway     -2.710e-01  7.199e-01  -0.376 0.706618    \n",
       "made         1.037e+00  9.161e-01   1.132 0.257617    \n",
       "truck        3.679e-01  6.316e-01   0.583 0.560170    \n",
       "text         4.508e-01  1.050e+00   0.429 0.667699    \n",
       "keep         2.942e+00  9.925e-01   2.964 0.003034 ** \n",
       "possibl      1.421e-01  7.383e-01   0.192 0.847409    \n",
       "everi       -5.727e-01  8.793e-01  -0.651 0.514876    \n",
       "tri          3.364e+00  1.148e+00   2.931 0.003374 ** \n",
       "run         -2.975e-01  7.234e-01  -0.411 0.680886    \n",
       "transit     -1.199e+00  7.929e-01  -1.512 0.130623    \n",
       "tire        -6.439e-01  9.619e-01  -0.669 0.503261    \n",
       "dont         4.479e+00  1.505e+00   2.976 0.002916 ** \n",
       "may         -1.344e-01  9.722e-01  -0.138 0.890014    \n",
       "trust        2.282e+00  7.647e-01   2.984 0.002843 ** \n",
       "die          1.536e+00  9.775e-01   1.571 0.116217    \n",
       "point        2.647e+00  1.194e+00   2.217 0.026613 *  \n",
       "sure         8.801e-01  9.011e-01   0.977 0.328749    \n",
       "fleet       -1.680e+00  1.274e+00  -1.319 0.187264    \n",
       "crash        1.405e+00  7.567e-01   1.857 0.063318 .  \n",
       "safe         6.834e-01  8.727e-01   0.783 0.433557    \n",
       "kill         5.294e-01  5.891e-01   0.899 0.368848    \n",
       "abl          6.910e-01  9.817e-01   0.704 0.481507    \n",
       "part         5.095e-01  9.544e-01   0.534 0.593495    \n",
       "thought      9.314e-01  7.072e-01   1.317 0.187838    \n",
       "mayb         5.968e-01  1.024e+00   0.583 0.559954    \n",
       "worri        2.059e+00  8.407e-01   2.449 0.014306 *  \n",
       "---\n",
       "Signif. codes:  0 ‘***’ 0.001 ‘**’ 0.01 ‘*’ 0.05 ‘.’ 0.1 ‘ ’ 1\n",
       "\n",
       "(Dispersion parameter for binomial family taken to be 1)\n",
       "\n",
       "    Null deviance: 2247.4  on 1863  degrees of freedom\n",
       "Residual deviance: 1492.1  on 1606  degrees of freedom\n",
       "AIC: 2008.1\n",
       "\n",
       "Number of Fisher Scoring iterations: 16\n"
      ]
     },
     "metadata": {},
     "output_type": "display_data"
    }
   ],
   "source": [
    "model1 <- glm(Neg~., data=train, family=binomial)\n",
    "summary(model1)\n",
    "\n",
    "# warning message due to floating point precision errors"
   ]
  },
  {
   "cell_type": "markdown",
   "metadata": {},
   "source": [
    "Note that the predictor variable `awesom` is -3.130, which is reasonable since if the word `awesome` appears, the tweet can be said to be a positive sentiment tweet. More relevant coeffs:\n",
    "\n",
    "- `accid`: 1.208\n",
    "- `amaz`: -1.734\n",
    "- `dont`: 4.479"
   ]
  },
  {
   "cell_type": "code",
   "execution_count": 81,
   "metadata": {
    "scrolled": false
   },
   "outputs": [
    {
     "data": {
      "text/plain": [
       "       \n",
       "        FALSE TRUE\n",
       "  FALSE   483  126\n",
       "  TRUE     84  107"
      ]
     },
     "metadata": {},
     "output_type": "display_data"
    },
    {
     "data": {
      "text/html": [
       "0.7375"
      ],
      "text/latex": [
       "0.7375"
      ],
      "text/markdown": [
       "0.7375"
      ],
      "text/plain": [
       "[1] 0.7375"
      ]
     },
     "metadata": {},
     "output_type": "display_data"
    }
   ],
   "source": [
    "threshold = 0.5\n",
    "predict1 <- predict(model1, test, type=\"response\")\n",
    "table(predict1>=threshold, test$Neg)\n",
    "\n",
    "# accuracy\n",
    "(483+107)/(483+107+84+126)"
   ]
  },
  {
   "cell_type": "markdown",
   "metadata": {},
   "source": [
    "### Building more sophisticated models (CART)\n",
    "\n",
    "Now, we are going to build a classification tree."
   ]
  },
  {
   "cell_type": "code",
   "execution_count": 121,
   "metadata": {
    "scrolled": false
   },
   "outputs": [
    {
     "name": "stdout",
     "output_type": "stream",
     "text": [
      "Call:\n",
      "rpart(formula = Neg ~ ., data = train)\n",
      "  n= 1864 \n",
      "\n",
      "          CP nsplit rel error    xerror       xstd\n",
      "1 0.02214022      0 1.0000000 1.0000000 0.03617372\n",
      "2 0.01845018      1 0.9778598 0.9907749 0.03607450\n",
      "3 0.01660517      2 0.9594096 0.9704797 0.03585079\n",
      "4 0.01000000      3 0.9428044 0.9649446 0.03578846\n",
      "\n",
      "Variable importance\n",
      "  job point trust \n",
      "   40    30    30 \n",
      "\n",
      "Node number 1: 1864 observations,    complexity param=0.02214022\n",
      "  predicted class=FALSE  expected loss=0.2907725  P(node) =1\n",
      "    class counts:  1322   542\n",
      "   probabilities: 0.709 0.291 \n",
      "  left son=2 (1850 obs) right son=3 (14 obs)\n",
      "  Primary splits:\n",
      "      job   < 0.5 to the left,  improve=11.476240, (0 missing)\n",
      "      trust < 0.5 to the left,  improve= 8.527087, (0 missing)\n",
      "      point < 0.5 to the left,  improve= 8.460918, (0 missing)\n",
      "      wait  < 0.5 to the right, improve= 8.192832, (0 missing)\n",
      "      cool  < 0.5 to the right, improve= 8.020873, (0 missing)\n",
      "\n",
      "Node number 2: 1850 observations,    complexity param=0.01845018\n",
      "  predicted class=FALSE  expected loss=0.2859459  P(node) =0.9924893\n",
      "    class counts:  1321   529\n",
      "   probabilities: 0.714 0.286 \n",
      "  left son=4 (1830 obs) right son=5 (20 obs)\n",
      "  Primary splits:\n",
      "      trust < 0.5 to the left,  improve=8.707987, (0 missing)\n",
      "      point < 0.5 to the left,  improve=8.593911, (0 missing)\n",
      "      wait  < 0.5 to the right, improve=7.848940, (0 missing)\n",
      "      cool  < 0.5 to the right, improve=7.682890, (0 missing)\n",
      "      worri < 0.5 to the left,  improve=7.046842, (0 missing)\n",
      "\n",
      "Node number 3: 14 observations\n",
      "  predicted class=TRUE   expected loss=0.07142857  P(node) =0.00751073\n",
      "    class counts:     1    13\n",
      "   probabilities: 0.071 0.929 \n",
      "\n",
      "Node number 4: 1830 observations,    complexity param=0.01660517\n",
      "  predicted class=FALSE  expected loss=0.2808743  P(node) =0.9817597\n",
      "    class counts:  1316   514\n",
      "   probabilities: 0.719 0.281 \n",
      "  left son=8 (1819 obs) right son=9 (11 obs)\n",
      "  Primary splits:\n",
      "      point < 0.5 to the left,  improve=8.734939, (0 missing)\n",
      "      cool  < 0.5 to the right, improve=8.098125, (0 missing)\n",
      "      wait  < 0.5 to the right, improve=7.496406, (0 missing)\n",
      "      worri < 0.5 to the left,  improve=7.191190, (0 missing)\n",
      "      call  < 0.5 to the left,  improve=6.389794, (0 missing)\n",
      "\n",
      "Node number 5: 20 observations\n",
      "  predicted class=TRUE   expected loss=0.25  P(node) =0.01072961\n",
      "    class counts:     5    15\n",
      "   probabilities: 0.250 0.750 \n",
      "\n",
      "Node number 8: 1819 observations\n",
      "  predicted class=FALSE  expected loss=0.2770753  P(node) =0.9758584\n",
      "    class counts:  1315   504\n",
      "   probabilities: 0.723 0.277 \n",
      "\n",
      "Node number 9: 11 observations\n",
      "  predicted class=TRUE   expected loss=0.09090909  P(node) =0.005901288\n",
      "    class counts:     1    10\n",
      "   probabilities: 0.091 0.909 \n",
      "\n"
     ]
    },
    {
     "data": {
      "image/png": "[encoded data removed]",
      "text/plain": [
       "plot without title"
      ]
     },
     "metadata": {},
     "output_type": "display_data"
    }
   ],
   "source": [
    "library(rpart)\n",
    "set.seed(111)\n",
    "model2 <- rpart(Neg~., train)\n",
    "summary(model2)\n",
    "\n",
    "# plotting model\n",
    "options(repr.plot.width=9, repr.plot.height=7) # resize IRkernel plot size\n",
    "library(rpart.plot)\n",
    "prp(model2)"
   ]
  },
  {
   "cell_type": "markdown",
   "metadata": {},
   "source": [
    "Compared with `Model`, we get an accuracy of 72.1% with CART, as opposed to 73.8% in logistic regression."
   ]
  },
  {
   "cell_type": "code",
   "execution_count": 101,
   "metadata": {},
   "outputs": [
    {
     "data": {
      "text/plain": [
       "        \n",
       "predict2 FALSE TRUE\n",
       "   FALSE   561  217\n",
       "   TRUE      6   16"
      ]
     },
     "metadata": {},
     "output_type": "display_data"
    },
    {
     "data": {
      "text/html": [
       "0.72125"
      ],
      "text/latex": [
       "0.72125"
      ],
      "text/markdown": [
       "0.72125"
      ],
      "text/plain": [
       "[1] 0.72125"
      ]
     },
     "metadata": {},
     "output_type": "display_data"
    }
   ],
   "source": [
    "# prediction using classification tress\n",
    "predict2 <- predict(model2, test, type=\"class\")\n",
    "table(predict2, test$Neg)\n",
    "\n",
    "# accuracy of CART\n",
    "(561+16)/(561+16+6+217)"
   ]
  },
  {
   "cell_type": "markdown",
   "metadata": {},
   "source": [
    "Now, we might want to build a deeper tree."
   ]
  },
  {
   "cell_type": "code",
   "execution_count": 108,
   "metadata": {
    "scrolled": false
   },
   "outputs": [
    {
     "data": {
      "image/png": "[encoded data removed]",
      "text/plain": [
       "plot without title"
      ]
     },
     "metadata": {},
     "output_type": "display_data"
    }
   ],
   "source": [
    "set.seed(123)\n",
    "model2b <- rpart(Neg~., train, cp=10^-6)\n",
    "# summary(model3)\n",
    "prp(model2b)"
   ]
  },
  {
   "cell_type": "code",
   "execution_count": 109,
   "metadata": {},
   "outputs": [
    {
     "data": {
      "image/png": "[encoded data removed]",
      "text/plain": [
       "plot without title"
      ]
     },
     "metadata": {},
     "output_type": "display_data"
    }
   ],
   "source": [
    "# pruning model2\n",
    "model2c <- prune(model2b, cp=0.0009)\n",
    "prp(model2c)`"
   ]
  },
  {
   "cell_type": "markdown",
   "metadata": {},
   "source": [
    "We can observe that the accuracy of 71.6% is an even worse result."
   ]
  },
  {
   "cell_type": "code",
   "execution_count": 112,
   "metadata": {},
   "outputs": [
    {
     "data": {
      "text/plain": [
       "         \n",
       "predict2c FALSE TRUE\n",
       "    FALSE   521  181\n",
       "    TRUE     46   52"
      ]
     },
     "metadata": {},
     "output_type": "display_data"
    },
    {
     "data": {
      "text/html": [
       "0.71625"
      ],
      "text/latex": [
       "0.71625"
      ],
      "text/markdown": [
       "0.71625"
      ],
      "text/plain": [
       "[1] 0.71625"
      ]
     },
     "metadata": {},
     "output_type": "display_data"
    }
   ],
   "source": [
    "predict2c <- predict(model2c, test, type=\"class\")\n",
    "table(predict2c, test$Neg)\n",
    "\n",
    "# accuracy of prunes tree from `model2b`\n",
    "(521+52)/(521+52+46+181)"
   ]
  },
  {
   "cell_type": "markdown",
   "metadata": {},
   "source": [
    "### Building more sophisticated models (Random forests)\n",
    "\n",
    "OOB is the out-of-sample error (i.e., prediction error rate on test set based on model trained on training set)"
   ]
  },
  {
   "cell_type": "code",
   "execution_count": 113,
   "metadata": {},
   "outputs": [
    {
     "name": "stderr",
     "output_type": "stream",
     "text": [
      "randomForest 4.6-12\n",
      "Type rfNews() to see new features/changes/bug fixes.\n"
     ]
    }
   ],
   "source": [
    "library(randomForest)\n",
    "set.seed(112)\n",
    "model3 <- randomForest(Neg~., train)"
   ]
  },
  {
   "cell_type": "code",
   "execution_count": 114,
   "metadata": {},
   "outputs": [
    {
     "data": {
      "text/plain": [
       "\n",
       "Call:\n",
       " randomForest(formula = Neg ~ ., data = train) \n",
       "               Type of random forest: classification\n",
       "                     Number of trees: 500\n",
       "No. of variables tried at each split: 16\n",
       "\n",
       "        OOB estimate of  error rate: 27.41%\n",
       "Confusion matrix:\n",
       "      FALSE TRUE class.error\n",
       "FALSE  1147  175   0.1323752\n",
       "TRUE    336  206   0.6199262"
      ]
     },
     "metadata": {},
     "output_type": "display_data"
    }
   ],
   "source": [
    "model3"
   ]
  },
  {
   "cell_type": "code",
   "execution_count": 120,
   "metadata": {},
   "outputs": [
    {
     "data": {
      "text/plain": [
       "         \n",
       "predict3a FALSE TRUE\n",
       "    FALSE  1306  103\n",
       "    TRUE     16  439"
      ]
     },
     "metadata": {},
     "output_type": "display_data"
    },
    {
     "data": {
      "text/plain": [
       "         \n",
       "predict3b FALSE TRUE\n",
       "    FALSE   494  135\n",
       "    TRUE     73   98"
      ]
     },
     "metadata": {},
     "output_type": "display_data"
    }
   ],
   "source": [
    "## compare sccuracy with prediction on training vs test set\n",
    "predict3a <- predict(model3, train, type=\"class\")\n",
    "predict3b <- predict(model3, test, type=\"class\")\n",
    "\n",
    "table(predict3a, train$Neg) # accuracy is 94% !!\n",
    "table(predict3b, test$Neg) # accuracy is ~75%"
   ]
  }
 ],
 "metadata": {
  "kernelspec": {
   "display_name": "R",
   "language": "R",
   "name": "ir"
  },
  "language_info": {
   "codemirror_mode": "r",
   "file_extension": ".r",
   "mimetype": "text/x-r-source",
   "name": "R",
   "pygments_lexer": "r",
   "version": "3.4.0"
  }
 },
 "nbformat": 4,
 "nbformat_minor": 2
}
